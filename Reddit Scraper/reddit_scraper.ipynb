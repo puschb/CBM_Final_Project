{
 "cells": [
  {
   "cell_type": "code",
   "execution_count": 1,
   "metadata": {},
   "outputs": [
    {
     "data": {
      "text/plain": [
       "True"
      ]
     },
     "execution_count": 1,
     "metadata": {},
     "output_type": "execute_result"
    }
   ],
   "source": [
    "import praw\n",
    "import json\n",
    "from datetime import datetime, timezone\n",
    "from dotenv import load_dotenv, dotenv_values \n",
    "import os\n",
    "from reddit_scraper import RedditScraper\n",
    "load_dotenv()"
   ]
  },
  {
   "cell_type": "code",
   "execution_count": 2,
   "metadata": {},
   "outputs": [],
   "source": [
    "client_id = os.getenv(\"CLIENT_ID\")\n",
    "client_secret=os.getenv(\"CLIENT_SECRET\")\n",
    "user_agent=os.getenv(\"USER_AGENT\")\n",
    "scraper = RedditScraper(client_id, client_secret, user_agent)"
   ]
  },
  {
   "cell_type": "code",
   "execution_count": null,
   "metadata": {},
   "outputs": [],
   "source": [
    "post_url = \"https://www.reddit.com/r/politics/comments/1gc7k0y/bcso_voter_punches_poll_worker_when_reminded/\"\n",
    "\n",
    "# Retrieve comments\n",
    "comments = scraper.get_comments_from_post(post_url)\n",
    "\n",
    "# Save comments to a JSON file\n",
    "with open(\"../Data/comments_graph.json\", \"w\") as f:\n",
    "    json.dump(comments, f, indent=4)\n",
    "\n",
    "print(\"Comments saved to comments.json\")"
   ]
  },
  {
   "cell_type": "code",
   "execution_count": 4,
   "metadata": {},
   "outputs": [
    {
     "name": "stdout",
     "output_type": "stream",
     "text": [
      "{'entertainment', 'iphone', 'NCAAFBseries', 'politics', 'TravelHacks', 'FluentInFinance', 'pics', 'Madden', 'Cooking', 'boston', 'unpopularopinion', 'NoStupidQuestions', 'Costco', 'TexasRangers', 'f45', 'cowboys', 'NFLv2', 'AmItheAsshole', 'NPR', 'thedumbzone', 'texas', 'starterpacks', 'PoliticsPeopleTwitter', 'AskReddit', 'ExplainTheJoke', 'nfl', 'mildlyinfuriating', 'onetruegod', 'IHateSportsball', 'Denver', 'AskAnAmerican', 'Colorado', 'AuroraCO', 'unitedairlines', 'technology', 'IcebergCharts', 'clevercomebacks', 'woahthatsinteresting', 'ToiletPaperUSA', 'darksouls', 'travel', 'beer', 'sports', 'BlackPeopleTwitter', 'OldSchoolCool', 'ChaseSapphire', 'news', 'AdviceAnimals', 'SnapshotHistory', 'forwardsfromgrandma', 'WhitePeopleTwitter'}\n",
      "Comments saved to ../Data/juanzy_politics_posts.json\n"
     ]
    }
   ],
   "source": [
    "political_subreddits = [\n",
    "    \"politics\"\n",
    "] # this is chat generated, need to find political subreddits\n",
    "posts = scraper.scrape_user_political_comments(\"juanzy\", political_subreddits)\n",
    "save_path = \"../Data/juanzy_politics_posts.json\"\n",
    "\n",
    "with open(save_path, \"w\") as f:\n",
    "    json.dump(posts, f, indent=4)\n",
    "\n",
    "print(f\"Comments saved to {save_path}\")"
   ]
  }
 ],
 "metadata": {
  "kernelspec": {
   "display_name": ".venv",
   "language": "python",
   "name": "python3"
  },
  "language_info": {
   "codemirror_mode": {
    "name": "ipython",
    "version": 3
   },
   "file_extension": ".py",
   "mimetype": "text/x-python",
   "name": "python",
   "nbconvert_exporter": "python",
   "pygments_lexer": "ipython3",
   "version": "3.10.12"
  }
 },
 "nbformat": 4,
 "nbformat_minor": 2
}
