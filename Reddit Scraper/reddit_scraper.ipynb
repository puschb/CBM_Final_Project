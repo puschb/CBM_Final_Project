{
 "cells": [
  {
   "cell_type": "code",
   "execution_count": 9,
   "metadata": {},
   "outputs": [
    {
     "data": {
      "text/plain": [
       "True"
      ]
     },
     "execution_count": 9,
     "metadata": {},
     "output_type": "execute_result"
    }
   ],
   "source": [
    "import praw\n",
    "import json\n",
    "from datetime import datetime, timezone\n",
    "from dotenv import load_dotenv, dotenv_values \n",
    "import os\n",
    "load_dotenv()"
   ]
  },
  {
   "cell_type": "code",
   "execution_count": 10,
   "metadata": {},
   "outputs": [],
   "source": [
    "#https://www.reddit.com/prefs/apps\n",
    "\n",
    "# Replace these with your own Reddit app credentials\n",
    "reddit = praw.Reddit(\n",
    "    client_id=os.getenv(\"CLIENT_ID\"),\n",
    "    client_secret=os.getenv(\"CLIENT_SECRET\"),\n",
    "    user_agent=os.getenv(\"USER_AGENT\"),\n",
    ")\n",
    "\n",
    "def get_comments_from_post(post_url):\n",
    "    # Fetch the submission\n",
    "    submission = reddit.submission(url=post_url)\n",
    "    \n",
    "    # Ensure we get all comments\n",
    "    submission.comments.replace_more(limit=None)\n",
    "    \n",
    "    # Collect comments with parent-child relationships\n",
    "    comments_data = []\n",
    "    for comment in submission.comments.list():\n",
    "        # Each comment has the user, time, message, and link to its parent (if it's a reply)\n",
    "        comment_info = {\n",
    "            \"comment_id\": comment.id,\n",
    "            \"user\": comment.author.name if comment.author else \"Deleted\",\n",
    "            \"time\": datetime.fromtimestamp(comment.created_utc, tz=timezone.utc).strftime('%Y-%m-%d %H:%M:%S %Z'),\n",
    "            \"message\": comment.body,\n",
    "            \"parent_id\": comment.parent_id.split('_')[1] if comment.parent_id != comment.link_id else None\n",
    "        }\n",
    "        comments_data.append(comment_info)\n",
    "    \n",
    "    return comments_data\n",
    "\n",
    "def scrape_user_political_posts(username, political_subreddits):\n",
    "    # Get the Reddit user\n",
    "    user = reddit.redditor(username)\n",
    "    \n",
    "    # List to store post data\n",
    "    posts_data = []\n",
    "    \n",
    "    # Iterate through the user's submissions (posts)\n",
    "    for submission in user.submissions.new(limit=None):  # `limit=None` fetches all posts\n",
    "        # Filter by political subreddits\n",
    "        if submission.subreddit.display_name in political_subreddits:\n",
    "            # Collect post data\n",
    "            post_info = {\n",
    "                \"post_id\": submission.id,\n",
    "                \"subreddit\": submission.subreddit.display_name,\n",
    "                \"title\": submission.title,\n",
    "                \"time\": datetime.fromtimestamp(submission.created_utc, tz=timezone.utc).strftime('%Y-%m-%d %H:%M:%S %Z'),\n",
    "                \"url\": submission.url,\n",
    "                \"score\": submission.score,\n",
    "                \"num_comments\": submission.num_comments,\n",
    "                \"selftext\": submission.selftext  # Body of the post, if it's a text post\n",
    "            }\n",
    "            posts_data.append(post_info)\n",
    "    return posts_data\n",
    "\n",
    "\n"
   ]
  },
  {
   "cell_type": "code",
   "execution_count": 8,
   "metadata": {},
   "outputs": [
    {
     "name": "stdout",
     "output_type": "stream",
     "text": [
      "Comments saved to comments.json\n"
     ]
    }
   ],
   "source": [
    "# Specify the Reddit post URL you want to scrape\n",
    "post_url = \"https://www.reddit.com/r/politics/comments/1gc7k0y/bcso_voter_punches_poll_worker_when_reminded/\"\n",
    "\n",
    "# Retrieve comments\n",
    "comments = get_comments_from_post(post_url)\n",
    "\n",
    "# Save comments to a JSON file\n",
    "with open(\"comments_graph.json\", \"w\") as f:\n",
    "    json.dump(comments, f, indent=4)\n",
    "\n",
    "print(\"Comments saved to comments.json\")"
   ]
  },
  {
   "cell_type": "code",
   "execution_count": 12,
   "metadata": {},
   "outputs": [
    {
     "name": "stdout",
     "output_type": "stream",
     "text": [
      "Comments saved to comments.json\n"
     ]
    }
   ],
   "source": [
    "political_subreddits = [\n",
    "    \"politics\", \"PoliticalDiscussion\", \"Conservative\", \"Liberal\", \"progressive\", \n",
    "    \"Anarchism\", \"Socialism\", \"Libertarian\", \"neoliberal\", \"Democrats\", \"Republican\", \n",
    "] # this is chat generated, need to find political subreddits\n",
    "posts = scrape_user_political_posts(\"mattjb\", political_subreddits)\n",
    "\n",
    "with open(\"user_posts.json\", \"w\") as f:\n",
    "    json.dump(posts, f, indent=4)\n",
    "\n",
    "print(\"Comments saved to comments.json\")"
   ]
  }
 ],
 "metadata": {
  "kernelspec": {
   "display_name": ".venv",
   "language": "python",
   "name": "python3"
  },
  "language_info": {
   "codemirror_mode": {
    "name": "ipython",
    "version": 3
   },
   "file_extension": ".py",
   "mimetype": "text/x-python",
   "name": "python",
   "nbconvert_exporter": "python",
   "pygments_lexer": "ipython3",
   "version": "3.10.12"
  }
 },
 "nbformat": 4,
 "nbformat_minor": 2
}
