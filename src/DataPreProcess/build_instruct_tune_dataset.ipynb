{
 "cells": [
  {
   "cell_type": "code",
   "execution_count": 2,
   "metadata": {},
   "outputs": [
    {
     "name": "stderr",
     "output_type": "stream",
     "text": [
      "/home/bhx5gh/Documents/CBM/CBM_Final_Project/.venv/lib64/python3.11/site-packages/tqdm/auto.py:21: TqdmWarning: IProgress not found. Please update jupyter and ipywidgets. See https://ipywidgets.readthedocs.io/en/stable/user_install.html\n",
      "  from .autonotebook import tqdm as notebook_tqdm\n"
     ]
    }
   ],
   "source": [
    "import os\n",
    "import sys\n",
    "import os\n",
    "from collections import defaultdict\n",
    "import pandas as pd\n",
    "from tqdm import tqdm\n",
    "import csv\n",
    "\n",
    "\n",
    "src_path = os.path.abspath(os.path.join(os.getcwd(), \"..\"))\n",
    "if src_path not in sys.path:\n",
    "    sys.path.append(src_path)\n",
    "\n",
    "\n",
    "from Util.posttree import PostTree, UserCommentHistories\n",
    "from LLM.Mistral.minstral_utils import MistralPrompt"
   ]
  },
  {
   "cell_type": "code",
   "execution_count": 3,
   "metadata": {},
   "outputs": [],
   "source": [
    "post_path = '/home/bhx5gh/Documents/CBM/CBM_Final_Project/Data/arcticshift/processed/r_books_posts.csv'\n",
    "cleaned_and_pruned_comments_path = '/home/bhx5gh/Documents/CBM/CBM_Final_Project/Data/arcticshift/cleaned/r_books_comments_cleaned_and_pruned.csv'\n",
    "cleaned_comments_path = '/home/bhx5gh/Documents/CBM/CBM_Final_Project/Data/arcticshift/cleaned/r_books_comments_cleaned.csv'\n",
    "\n",
    "post_ids = pd.read_csv(post_path, quoting=csv.QUOTE_NONNUMERIC,\n",
    "            escapechar='\\\\',\n",
    "            encoding='utf-8')['post_id'].tolist()\n",
    "posts_to_exclude = ['1atcjtj', '1au5njg', '18w4y9z','18vx8ip', '18wom5l']\n"
   ]
  },
  {
   "cell_type": "code",
   "execution_count": 7,
   "metadata": {},
   "outputs": [
    {
     "name": "stderr",
     "output_type": "stream",
     "text": [
      "100%|██████████| 444/444 [16:58<00:00,  2.29s/it]\n"
     ]
    }
   ],
   "source": [
    "prompt_dataset = {\n",
    "    'prompt': [],\n",
    "    'response': []\n",
    "}\n",
    "\n",
    "for post_id in tqdm(post_ids):\n",
    "    if post_id in posts_to_exclude:\n",
    "        continue\n",
    "    \n",
    "    post_tree  =post_tree = PostTree(post_path, post_id)\n",
    "    post_tree.create_comment_tree(cleaned_and_pruned_comments_path)\n",
    "\n",
    "    nodes = original_nodes = list(post_tree.bfs_generator())\n",
    "    user_histories = UserCommentHistories(\n",
    "            cleaned_comments_path,\n",
    "            post_id\n",
    "            )\n",
    "    for node in nodes:\n",
    "        cur_user_comment_history = user_histories.get_random_user_history(node.user)\n",
    "\n",
    "        previous_comments = [c.comment_text for c in node.get_previous_responses()]\n",
    "        comment_of_interest = \"\" if len(previous_comments) == 0 else previous_comments[-1]\n",
    "        mistral_prompt = MistralPrompt(\n",
    "                        post_title=post_tree.title,\n",
    "                        post_content=post_tree.content,\n",
    "                        previous_comments_on_thread=previous_comments,\n",
    "                        comment_of_interest=comment_of_interest,\n",
    "                        user_comment_history=cur_user_comment_history,\n",
    "                    )\n",
    "        prompt = mistral_prompt.zero_shot_prompt()\n",
    "        response = node.comment_text\n",
    "        prompt_dataset['prompt'].append(prompt)\n",
    "        prompt_dataset['response'].append(response)"
   ]
  },
  {
   "cell_type": "code",
   "execution_count": 9,
   "metadata": {},
   "outputs": [],
   "source": [
    "prompt_dataset_df = pd.DataFrame.from_dict(prompt_dataset)\n",
    "prompt_dataset_df.to_csv('/home/bhx5gh/Documents/CBM/CBM_Final_Project/Data/instruct_tune_dataset/prompt_dataset.csv',\n",
    "                        quoting = csv.QUOTE_NONNUMERIC,\n",
    "                        escapechar = '\\\\',\n",
    "                        encoding = 'utf-8')\n"
   ]
  }
 ],
 "metadata": {
  "kernelspec": {
   "display_name": ".venv",
   "language": "python",
   "name": "python3"
  },
  "language_info": {
   "codemirror_mode": {
    "name": "ipython",
    "version": 3
   },
   "file_extension": ".py",
   "mimetype": "text/x-python",
   "name": "python",
   "nbconvert_exporter": "python",
   "pygments_lexer": "ipython3",
   "version": "3.11.5"
  }
 },
 "nbformat": 4,
 "nbformat_minor": 2
}
