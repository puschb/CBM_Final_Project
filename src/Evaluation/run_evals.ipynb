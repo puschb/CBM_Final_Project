{
 "cells": [
  {
   "cell_type": "code",
   "execution_count": 11,
   "metadata": {},
   "outputs": [],
   "source": [
    "import os\n",
    "import sys\n",
    "\n",
    "src_path = os.path.abspath(os.path.join(os.getcwd(), \"..\"))\n",
    "if src_path not in sys.path:\n",
    "    sys.path.append(src_path)\n",
    "DATA_BASEPATH = os.path.abspath(os.path.join(os.getcwd(), \"..\",\"../Data\"))"
   ]
  },
  {
   "cell_type": "code",
   "execution_count": 13,
   "metadata": {},
   "outputs": [],
   "source": [
    "from Util.posttree import PostTree\n",
    "from eval import EvalSimilarity"
   ]
  },
  {
   "cell_type": "code",
   "execution_count": 14,
   "metadata": {},
   "outputs": [],
   "source": [
    "POST_PATH = os.path.abspath(os.path.join(DATA_BASEPATH, 'arcticshift/processed/r_books_posts.csv'))\n",
    "POST_ID = '18vuw2v'"
   ]
  },
  {
   "cell_type": "code",
   "execution_count": 15,
   "metadata": {},
   "outputs": [],
   "source": [
    "ORG_COMMENTPATH = os.path.abspath(os.path.join(DATA_BASEPATH, 'arcticshift/processed/r_books_comments_cleaned_and_pruned.csv'))\n",
    "GEN_COMMENTPATH = os.path.abspath(os.path.join(DATA_BASEPATH, 'arcticshift/processed/r_books_comments_cleaned_and_pruned.csv'))"
   ]
  },
  {
   "cell_type": "code",
   "execution_count": 16,
   "metadata": {},
   "outputs": [],
   "source": [
    "org_posttree = PostTree(POST_PATH, POST_ID)\n",
    "gen_posttree = PostTree(POST_PATH, POST_ID)\n",
    "\n",
    "similarity = EvalSimilarity(org_posttree, gen_posttree)"
   ]
  },
  {
   "cell_type": "code",
   "execution_count": 17,
   "metadata": {},
   "outputs": [],
   "source": [
    "org_posttree.create_comment_tree(ORG_COMMENTPATH)\n",
    "gen_posttree.create_comment_tree(GEN_COMMENTPATH)"
   ]
  },
  {
   "cell_type": "code",
   "execution_count": 18,
   "metadata": {},
   "outputs": [],
   "source": [
    "sim_tree = similarity.compare_comments()"
   ]
  },
  {
   "cell_type": "code",
   "execution_count": 25,
   "metadata": {},
   "outputs": [],
   "source": [
    "from collections import deque\n",
    "def bfs(root):\n",
    "    \"\"\"\n",
    "    Perform BFS and print the tree structure with indents representing the hierarchy.\n",
    "    \"\"\"\n",
    "    queue = deque([(root, 0)])  # Add root node with depth 0\n",
    "\n",
    "    while queue:\n",
    "        current, depth = queue.popleft()  # Get the current node and its depth\n",
    "        indent = \"    \" * depth  # Indent based on depth\n",
    "        print(f\"{indent}Parent ID: {current.parent_comment_id}, Comment ID: {current.comment_id}, Similarity: {current.similarity_score:.2f}\")\n",
    "        \n",
    "        # Add children to the queue with depth incremented by 1\n",
    "        for child in current.children:\n",
    "            queue.append((child, depth + 1))"
   ]
  },
  {
   "cell_type": "code",
   "execution_count": 26,
   "metadata": {},
   "outputs": [
    {
     "name": "stdout",
     "output_type": "stream",
     "text": [
      "Parent ID: None, Comment ID: kftmvg3, Similarity: 1.00\n",
      "    Parent ID: kftmvg3, Comment ID: kftr3qa, Similarity: 1.00\n",
      "    Parent ID: kftmvg3, Comment ID: kfudn71, Similarity: 1.00\n",
      "    Parent ID: kftmvg3, Comment ID: kfuiqc5, Similarity: 1.00\n",
      "    Parent ID: kftmvg3, Comment ID: kfukcl0, Similarity: 1.00\n",
      "    Parent ID: kftmvg3, Comment ID: kfutxpg, Similarity: 1.00\n",
      "    Parent ID: kftmvg3, Comment ID: kfvf19w, Similarity: 1.00\n",
      "Parent ID: None, Comment ID: kftnl1l, Similarity: 1.00\n",
      "    Parent ID: kftnl1l, Comment ID: kftr5s6, Similarity: 1.00\n",
      "    Parent ID: kftnl1l, Comment ID: kfudrw7, Similarity: 1.00\n",
      "        Parent ID: kfudrw7, Comment ID: kfulqaj, Similarity: 1.00\n",
      "Parent ID: None, Comment ID: kftr41b, Similarity: 1.00\n",
      "    Parent ID: kftr41b, Comment ID: kftraq6, Similarity: 1.00\n",
      "    Parent ID: kftr41b, Comment ID: kfu17b0, Similarity: 1.00\n",
      "        Parent ID: kftraq6, Comment ID: kftrfio, Similarity: 1.00\n",
      "        Parent ID: kfu17b0, Comment ID: kfu1hus, Similarity: 1.00\n",
      "        Parent ID: kfu17b0, Comment ID: kfu9q92, Similarity: 1.00\n",
      "            Parent ID: kftrfio, Comment ID: kftrhzo, Similarity: 1.00\n",
      "            Parent ID: kfu1hus, Comment ID: kfu1vyz, Similarity: 1.00\n",
      "            Parent ID: kfu9q92, Comment ID: kfvg724, Similarity: 1.00\n",
      "            Parent ID: kfu9q92, Comment ID: kfwtg7q, Similarity: 1.00\n",
      "                Parent ID: kftrhzo, Comment ID: kftro33, Similarity: 1.00\n",
      "                Parent ID: kfu1vyz, Comment ID: kfu2lh9, Similarity: 1.00\n",
      "                Parent ID: kfu1vyz, Comment ID: kfulmlh, Similarity: 1.00\n",
      "                Parent ID: kfu1vyz, Comment ID: kfuw6zy, Similarity: 1.00\n",
      "                Parent ID: kfwtg7q, Comment ID: kg2x1ie, Similarity: 1.00\n",
      "                    Parent ID: kftro33, Comment ID: kftrwvf, Similarity: 1.00\n",
      "                    Parent ID: kftro33, Comment ID: kftsotq, Similarity: 1.00\n",
      "                    Parent ID: kftro33, Comment ID: kfw4tj6, Similarity: 1.00\n",
      "                        Parent ID: kftsotq, Comment ID: kftsxwr, Similarity: 1.00\n",
      "                        Parent ID: kfw4tj6, Comment ID: kfw5pv7, Similarity: 1.00\n",
      "Parent ID: None, Comment ID: kftus3v, Similarity: 1.00\n",
      "    Parent ID: kftus3v, Comment ID: kftv3fs, Similarity: 1.00\n",
      "    Parent ID: kftus3v, Comment ID: kfu7fb9, Similarity: 1.00\n",
      "    Parent ID: kftus3v, Comment ID: kfu8zd7, Similarity: 1.00\n",
      "    Parent ID: kftus3v, Comment ID: kfu9om9, Similarity: 1.00\n",
      "    Parent ID: kftus3v, Comment ID: kfujcnj, Similarity: 1.00\n",
      "    Parent ID: kftus3v, Comment ID: kfumojh, Similarity: 1.00\n",
      "    Parent ID: kftus3v, Comment ID: kfwf5oo, Similarity: 1.00\n",
      "    Parent ID: kftus3v, Comment ID: kfxdv4y, Similarity: 1.00\n",
      "    Parent ID: kftus3v, Comment ID: kfxx2sh, Similarity: 1.00\n",
      "        Parent ID: kftv3fs, Comment ID: kfu2953, Similarity: 1.00\n",
      "        Parent ID: kfu7fb9, Comment ID: kfulqvn, Similarity: 1.00\n",
      "        Parent ID: kfwf5oo, Comment ID: kfxrp0i, Similarity: 1.00\n",
      "Parent ID: None, Comment ID: kftw31b, Similarity: 1.00\n",
      "    Parent ID: kftw31b, Comment ID: kfu19pj, Similarity: 1.00\n",
      "    Parent ID: kftw31b, Comment ID: kfv6jlw, Similarity: 1.00\n",
      "    Parent ID: kftw31b, Comment ID: kfvbmao, Similarity: 1.00\n",
      "    Parent ID: kftw31b, Comment ID: kfvfjin, Similarity: 1.00\n",
      "    Parent ID: kftw31b, Comment ID: kfwgcwn, Similarity: 1.00\n",
      "    Parent ID: kftw31b, Comment ID: kfwoykm, Similarity: 1.00\n",
      "    Parent ID: kftw31b, Comment ID: kg4nz7c, Similarity: 1.00\n",
      "        Parent ID: kfv6jlw, Comment ID: kfvilwu, Similarity: 1.00\n",
      "Parent ID: None, Comment ID: kftyrcx, Similarity: 1.00\n",
      "    Parent ID: kftyrcx, Comment ID: kfu7z7n, Similarity: 1.00\n",
      "        Parent ID: kfu7z7n, Comment ID: kfua5xe, Similarity: 1.00\n",
      "            Parent ID: kfua5xe, Comment ID: kfxrw9j, Similarity: 1.00\n",
      "Parent ID: None, Comment ID: kfu1bhi, Similarity: 1.00\n",
      "    Parent ID: kfu1bhi, Comment ID: kfu3cns, Similarity: 1.00\n",
      "    Parent ID: kfu1bhi, Comment ID: kfu9o9i, Similarity: 1.00\n",
      "    Parent ID: kfu1bhi, Comment ID: kfvahwi, Similarity: 1.00\n",
      "        Parent ID: kfu3cns, Comment ID: kfuh1sm, Similarity: 1.00\n",
      "        Parent ID: kfvahwi, Comment ID: kfwwrcr, Similarity: 1.00\n",
      "            Parent ID: kfuh1sm, Comment ID: kfujjc2, Similarity: 1.00\n",
      "            Parent ID: kfuh1sm, Comment ID: kfv7661, Similarity: 1.00\n",
      "            Parent ID: kfuh1sm, Comment ID: kfwuugh, Similarity: 1.00\n",
      "                Parent ID: kfv7661, Comment ID: kfvpmf6, Similarity: 1.00\n",
      "                    Parent ID: kfvpmf6, Comment ID: kfvruop, Similarity: 1.00\n",
      "Parent ID: None, Comment ID: kfu4zea, Similarity: 1.00\n",
      "    Parent ID: kfu4zea, Comment ID: kfudop0, Similarity: 1.00\n",
      "    Parent ID: kfu4zea, Comment ID: kfuvd6o, Similarity: 1.00\n",
      "        Parent ID: kfuvd6o, Comment ID: kfxs84j, Similarity: 1.00\n",
      "Parent ID: None, Comment ID: kfu94yu, Similarity: 1.00\n",
      "    Parent ID: kfu94yu, Comment ID: kfujhue, Similarity: 1.00\n",
      "    Parent ID: kfu94yu, Comment ID: kfukmk4, Similarity: 1.00\n",
      "        Parent ID: kfujhue, Comment ID: kfwtry1, Similarity: 1.00\n",
      "            Parent ID: kfwtry1, Comment ID: kfxwq76, Similarity: 1.00\n",
      "Parent ID: None, Comment ID: kfua33d, Similarity: 1.00\n",
      "    Parent ID: kfua33d, Comment ID: kfxincj, Similarity: 1.00\n",
      "Parent ID: None, Comment ID: kfuaajk, Similarity: 1.00\n",
      "    Parent ID: kfuaajk, Comment ID: kfuja9y, Similarity: 1.00\n",
      "Parent ID: None, Comment ID: kfucipj, Similarity: 1.00\n",
      "    Parent ID: kfucipj, Comment ID: kfusmf6, Similarity: 1.00\n",
      "    Parent ID: kfucipj, Comment ID: kfvv4hn, Similarity: 1.00\n",
      "    Parent ID: kfucipj, Comment ID: kfwsla4, Similarity: 1.00\n",
      "        Parent ID: kfwsla4, Comment ID: kfwx76l, Similarity: 1.00\n",
      "            Parent ID: kfwx76l, Comment ID: kfx1cny, Similarity: 1.00\n",
      "Parent ID: None, Comment ID: kfuipsw, Similarity: 1.00\n",
      "    Parent ID: kfuipsw, Comment ID: kfuor3a, Similarity: 1.00\n",
      "    Parent ID: kfuipsw, Comment ID: kfuou46, Similarity: 1.00\n",
      "Parent ID: None, Comment ID: kfullf0, Similarity: 1.00\n",
      "    Parent ID: kfullf0, Comment ID: kfup55u, Similarity: 1.00\n",
      "Parent ID: None, Comment ID: kfunluz, Similarity: 1.00\n",
      "    Parent ID: kfunluz, Comment ID: kfw57ly, Similarity: 1.00\n",
      "Parent ID: None, Comment ID: kfuymad, Similarity: 1.00\n",
      "    Parent ID: kfuymad, Comment ID: kfxivfc, Similarity: 1.00\n",
      "Parent ID: None, Comment ID: kfv2j8l, Similarity: 1.00\n",
      "    Parent ID: kfv2j8l, Comment ID: kfvprgg, Similarity: 1.00\n",
      "Parent ID: None, Comment ID: kfv95v0, Similarity: 1.00\n",
      "    Parent ID: kfv95v0, Comment ID: kfvolzz, Similarity: 1.00\n",
      "    Parent ID: kfv95v0, Comment ID: kfwwufb, Similarity: 1.00\n",
      "        Parent ID: kfvolzz, Comment ID: kfvourm, Similarity: 1.00\n",
      "Parent ID: None, Comment ID: kfvdl18, Similarity: 1.00\n",
      "    Parent ID: kfvdl18, Comment ID: kfvoo8d, Similarity: 1.00\n",
      "    Parent ID: kfvdl18, Comment ID: kfxsco9, Similarity: 1.00\n",
      "Parent ID: None, Comment ID: kfvnlkx, Similarity: 1.00\n",
      "    Parent ID: kfvnlkx, Comment ID: kfvoqzk, Similarity: 1.00\n",
      "Parent ID: None, Comment ID: kfvxe1w, Similarity: 1.00\n",
      "    Parent ID: kfvxe1w, Comment ID: kfxw0tc, Similarity: 1.00\n",
      "Parent ID: None, Comment ID: kfws2yr, Similarity: 1.00\n",
      "    Parent ID: kfws2yr, Comment ID: kfxw5gz, Similarity: 1.00\n"
     ]
    }
   ],
   "source": [
    "for node in sim_tree:\n",
    "    bfs(node)"
   ]
  }
 ],
 "metadata": {
  "kernelspec": {
   "display_name": "cbmproj",
   "language": "python",
   "name": "python3"
  },
  "language_info": {
   "codemirror_mode": {
    "name": "ipython",
    "version": 3
   },
   "file_extension": ".py",
   "mimetype": "text/x-python",
   "name": "python",
   "nbconvert_exporter": "python",
   "pygments_lexer": "ipython3",
   "version": "3.12.7"
  }
 },
 "nbformat": 4,
 "nbformat_minor": 2
}
