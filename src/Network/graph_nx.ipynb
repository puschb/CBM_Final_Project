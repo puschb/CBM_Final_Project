{
 "cells": [
  {
   "cell_type": "code",
   "execution_count": null,
   "metadata": {},
   "outputs": [],
   "source": [
    "import torch\n",
    "from torch_geometric.data import Data\n",
    "import numpy as np"
   ]
  },
  {
   "cell_type": "code",
   "execution_count": 2,
   "metadata": {},
   "outputs": [],
   "source": [
    "# Returns a PyG Data object, takes in matrices for N nodes with M features each.\n",
    "def create_graph(feature_matrix, adjacency_matrix, weight_matrix):\n",
    "    \n",
    "    # make them tensors\n",
    "    if not torch.is_tensor(feature_matrix):\n",
    "        feature_matrix = torch.tensor(feature_matrix, dtype=torch.float)\n",
    "    if not torch.is_tensor(adjacency_matrix):\n",
    "        adjacency_matrix = torch.tensor(adjacency_matrix, dtype=torch.float)\n",
    "    if not torch.is_tensor(weight_matrix):\n",
    "        weight_matrix = torch.tensor(weight_matrix, dtype=torch.float)\n",
    "\n",
    "    # get indices where edges exist\n",
    "    edge_index = torch.nonzero(adjacency_matrix).t()\n",
    "\n",
    "    # Get corresponding weights for these edges\n",
    "    edge_weights = weight_matrix[edge_index[0], edge_index[1]]\n",
    "\n",
    "    graph = Data(\n",
    "        x=feature_matrix,\n",
    "        edge_index=edge_index,\n",
    "        edge_attr=edge_weights\n",
    "    )\n",
    "\n",
    "    return graph"
   ]
  },
  {
   "cell_type": "code",
   "execution_count": 3,
   "metadata": {},
   "outputs": [
    {
     "data": {
      "text/plain": [
       "<torch._C.Generator at 0x116042af0>"
      ]
     },
     "execution_count": 3,
     "metadata": {},
     "output_type": "execute_result"
    }
   ],
   "source": [
    "np.random.seed(42)\n",
    "torch.manual_seed(42)"
   ]
  },
  {
   "cell_type": "code",
   "execution_count": 4,
   "metadata": {},
   "outputs": [],
   "source": [
    "N = 4  # Number of nodes/agents\n",
    "M = 3  # Number of features per node\n",
    "\n",
    "# Create random feature matrix (N x M)\n",
    "feature_matrix = np.random.randn(N, M)\n",
    "\n",
    "# Create example adjacency matrix (N x N)\n",
    "adjacency_matrix = np.array([\n",
    "    [0, 1, 0, 1],\n",
    "    [1, 0, 1, 0],\n",
    "    [0, 1, 0, 1],\n",
    "    [1, 0, 1, 0]\n",
    "])\n",
    "\n",
    "# Create example weight matrix (N x N)\n",
    "weight_matrix = np.array([\n",
    "    [0.0, 0.5, 0.0, 0.3],\n",
    "    [0.5, 0.0, 0.2, 0.0],\n",
    "    [0.0, 0.2, 0.0, 0.7],\n",
    "    [0.3, 0.0, 0.7, 0.0]\n",
    "])"
   ]
  },
  {
   "cell_type": "code",
   "execution_count": 5,
   "metadata": {},
   "outputs": [],
   "source": [
    "graph = create_graph(feature_matrix, adjacency_matrix, weight_matrix)"
   ]
  },
  {
   "cell_type": "code",
   "execution_count": 6,
   "metadata": {},
   "outputs": [],
   "source": [
    "# TODO: message passing using PyG, maybe some simple node classifier"
   ]
  }
 ],
 "metadata": {
  "kernelspec": {
   "display_name": "cbmproj",
   "language": "python",
   "name": "python3"
  },
  "language_info": {
   "codemirror_mode": {
    "name": "ipython",
    "version": 3
   },
   "file_extension": ".py",
   "mimetype": "text/x-python",
   "name": "python",
   "nbconvert_exporter": "python",
   "pygments_lexer": "ipython3",
   "version": "3.12.7"
  }
 },
 "nbformat": 4,
 "nbformat_minor": 2
}
