{
 "cells": [
  {
   "cell_type": "code",
   "execution_count": 1,
   "metadata": {},
   "outputs": [],
   "source": [
    "from scraper import ArcticShiftScraper"
   ]
  },
  {
   "cell_type": "code",
   "execution_count": 2,
   "metadata": {},
   "outputs": [],
   "source": [
    "comments_load_path = '/home/puschb/UVA/CBM/Information_Spread_Model/Data/arcticshift/fromscrape/r_books_comments_large.jsonl'\n",
    "comments_save_path = '/home/puschb/UVA/CBM/Information_Spread_Model/Data/arcticshift/processed/r_books_comments.csv'\n",
    "posts_load_path = '/home/puschb/UVA/CBM/Information_Spread_Model/Data/arcticshift/fromscrape/r_books_posts_large.jsonl'\n",
    "posts_save_path = '/home/puschb/UVA/CBM/Information_Spread_Model/Data/arcticshift/processed/r_books_posts.csv'"
   ]
  },
  {
   "cell_type": "code",
   "execution_count": 4,
   "metadata": {},
   "outputs": [
    {
     "name": "stdout",
     "output_type": "stream",
     "text": [
      "Post data successfully written to /home/puschb/UVA/CBM/Information_Spread_Model/Data/arcticshift/processed/r_books_posts.csv\n",
      "Comments successfully written to /home/puschb/UVA/CBM/Information_Spread_Model/Data/arcticshift/processed/r_books_comments.csv\n"
     ]
    }
   ],
   "source": [
    "ArcticShiftScraper.process_posts(posts_load_path, posts_save_path)\n",
    "ArcticShiftScraper.process_comments(comments_load_path, comments_save_path)"
   ]
  }
 ],
 "metadata": {
  "kernelspec": {
   "display_name": ".venv",
   "language": "python",
   "name": "python3"
  },
  "language_info": {
   "codemirror_mode": {
    "name": "ipython",
    "version": 3
   },
   "file_extension": ".py",
   "mimetype": "text/x-python",
   "name": "python",
   "nbconvert_exporter": "python",
   "pygments_lexer": "ipython3",
   "version": "3.10.12"
  }
 },
 "nbformat": 4,
 "nbformat_minor": 2
}
