{
 "cells": [
  {
   "cell_type": "code",
   "execution_count": 1,
   "metadata": {},
   "outputs": [
    {
     "data": {
      "text/plain": [
       "True"
      ]
     },
     "execution_count": 1,
     "metadata": {},
     "output_type": "execute_result"
    }
   ],
   "source": [
    "import praw\n",
    "import json\n",
    "from datetime import datetime, timezone\n",
    "from dotenv import load_dotenv, dotenv_values \n",
    "\n",
    "from tqdm import tqdm\n",
    "\n",
    "import pandas as pd\n",
    "import os\n",
    "from reddit_scraper import RedditScraper\n",
    "load_dotenv()"
   ]
  },
  {
   "cell_type": "code",
   "execution_count": 2,
   "metadata": {},
   "outputs": [],
   "source": [
    "client_id = os.getenv(\"CLIENT_ID\")\n",
    "client_secret=os.getenv(\"CLIENT_SECRET\")\n",
    "user_agent=os.getenv(\"USER_AGENT\")\n",
    "scraper = RedditScraper(client_id, client_secret, user_agent)"
   ]
  },
  {
   "cell_type": "markdown",
   "metadata": {},
   "source": [
    "## User comment fetch"
   ]
  },
  {
   "cell_type": "code",
   "execution_count": 3,
   "metadata": {},
   "outputs": [],
   "source": [
    "subreddits = [\n",
    "    \"books\"\n",
    "] "
   ]
  },
  {
   "cell_type": "code",
   "execution_count": 4,
   "metadata": {},
   "outputs": [],
   "source": [
    "BASE_DIR = os.path.abspath(os.path.join(os.getcwd(), \"..\", \"..\", \"Data\"))\n",
    "USERLIST_FILEPATH = os.path.join(BASE_DIR, 'Reddit Scrape/unique_users.csv')\n",
    "USERCOMM_SAVEPATH = os.path.join(BASE_DIR, 'usercomments')\n",
    "\n",
    "os.makedirs(USERCOMM_SAVEPATH, exist_ok=True)"
   ]
  },
  {
   "cell_type": "code",
   "execution_count": 5,
   "metadata": {},
   "outputs": [],
   "source": [
    "users_df = pd.read_csv(USERLIST_FILEPATH)\n",
    "users_list = users_df['user'].tolist()\n",
    "# users_list = [\"1barefootmaniac\"]"
   ]
  },
  {
   "cell_type": "code",
   "execution_count": 6,
   "metadata": {},
   "outputs": [],
   "source": [
    "def pull_user_comments(userslist, subreddits, save_basepath, limit):\n",
    "\n",
    "    for user in tqdm(userslist, desc=\"Scraping user comments\"):\n",
    "        save_file = f'{user}_usercomments.json'\n",
    "        save_path = os.path.join(save_basepath, save_file)\n",
    "\n",
    "        posts = scraper.scrape_user_political_comments(user, subreddits, limit=limit)\n",
    "\n",
    "        with open(save_path, \"w\") as f:\n",
    "            json.dump(posts, f, indent=4)\n",
    "\n",
    "        # Print progress for debugging/logging (optional)\n",
    "        print(f\"Comments saved to {save_path}\")"
   ]
  },
  {
   "cell_type": "code",
   "execution_count": 8,
   "metadata": {},
   "outputs": [
    {
     "name": "stderr",
     "output_type": "stream",
     "text": [
      "Scraping user comments:   0%|          | 1/24911 [00:00<3:28:05,  2.00it/s]"
     ]
    },
    {
     "name": "stdout",
     "output_type": "stream",
     "text": [
      "{'books', 'massachusetts', 'gameofthrones', 'Georgia', 'bookshelf', 'AdviceAnimals', 'rem', 'BSG', 'ufc', 'corvallis', 'oregon'}\n",
      "Comments saved to /Users/smutnuri/Documents/UVA/_Projects/Fall24/CBM/CBMRepo/Data/usercomments/Even-Priority5240_usercomments.json\n",
      "{'Houseporn', 'DeepThoughts', 'absolutelynotme_irl', 'stories', 'Life', 'AccidentalRenaissance', 'hypotheticalsituation', 'junkfoodfinds', 'ufyh', 'languagelearning', 'astrologymemes', 'housekeeping', 'shittyaskscience', 'poor', 'ExplainTheJoke', 'fruit', 'Cooking', 'GestationalDiabetes', 'voyager', 'declutter', 'InterestingToRead', 'DairyQueen', 'femalelivingspace', 'NewParents', 'UtterlyUniquePhotos', 'CringeTikToks', 'TwoHotTakes', 'NPR', 'kindle', 'FuckImOld', 'deliciouscompliance', 'snacking', 'laundry', 'YouShouldKnow', 'theviralthings', 'OnionLovers', 'EatCheapAndHealthy', 'WalmartCelebrities', 'meirl', 'breastfeeding', 'WhatWeDointheShadows', 'Advice', 'AskHR', 'animalid', 'capsulewardrobe', 'interiordecorating', 'Adulting', 'StarTrekTNG', 'CourtTVCases', 'stupidquestions', 'tattooadvice', 'Smilepleasse', 'Frugal', 'Funnymemes', 'cockerspaniel', 'cookingtonight', 'funny', 'workplace_bullying', 'Vent', 'starbucks', 'WhatShouldICook', 'RetroNickelodeon', 'notinteresting', 'AmIOverreacting', 'LICENSEPLATES', 'RandomThoughts', 'Fire', 'ask', 'TNG', 'questions', 'Letterkenny', 'namenerds', 'technicallythetruth', 'mexicanfood', 'foodbutforbabies', 'AskReddit', 'howtonotgiveafuck', 'cake', 'PeanutButter', 'GelX_Nails', 'opticalillusions', 'CleaningTips', 'legaladvice', 'SkincareAddicts', 'CelebrityNumberSix', 'oddlyspecific', 'Concerts', 'mash', 'trueratediscussions', 'superstore', 'interestingasfuck', 'goodreads', 'Names', 'crafts', 'Sandwiches', 'OlderThanYouThinkIAm', 'the_everything_bubble', 'CasualConversation', 'AskTeachers', 'breastfeedingsupport', 'Longreads', 'chips', 'tonightsdinner', 'NameMyDog', 'Picard', 'Bandnames', 'BooksThatFeelLikeThis', 'AskOldPeopleAdvice', 'cozy', 'LawyerAdvice', 'Millennials', 'Pickles', 'StrangeAndFunny', 'Damnthatsinteresting', 'Hobbies', 'WFH', 'writing', 'simpleliving', 'inthenews', 'Flagstaff', 'Soda', 'landscaping', 'BoomersBeingFools', 'fixit', 'motivation', 'seinfeld', 'Homeschooling', 'foodhacks', 'minimalism', 'SalsaSnobs', 'asklinguistics', 'decentfoodporn', 'millenials', 'Xennials', 'movies', 'IndoorPlants', 'debtfree', 'todayilearned', 'Noses', '2meirl4meirl', 'PointlessStories', 'childrensbooks', 'finehair', 'phoenix', '70s', 'books', 'ChoosingBeggars', 'UofArizona', 'Older_Millennials', 'MadeMeSmile', 'sitcoms', 'Handwriting', 'Money', 'moviecritic', 'PickyEaters', 'greekfood', 'lefthanded', 'AskOldPeople', 'sushi', 'Artadvice', 'SeriousConversation', 'pics', 'hygiene', 'beauty', 'Frasier', 'povertyfinance', 'AITAH', 'oldphotos', 'unpopularopinion', 'Tattoocoverups', 'PeterExplainsTheJoke', 'FamilyLaw', 'PhotoshopRequest', 'NoStupidQuestions', 'Seafood', 'CrumblCookies', 'mildlyinfuriating', 'repost', 'NewsOfTheStupid', 'drawme', 'self', 'rareinsults', 'arizona', 'bizarrelife', 'PetPeeves', 'UnfuckYourHabitat', 'tacos', 'painting', 'FoundPaper', 'RandomQuestion', 'language_exchange', 'tragedeigh', 'StupidFood', 'brooklynninenine', 'vegan', 'AmItheAsshole', 'AskWomenOver30', 'GREEK', 'TodayIAte', 'Lawyertalk', 'KidsAreFuckingStupid', 'chinesefood', 'NoahGetTheBoat', 'GenZ', 'candy', 'beachcombing', 'suggestmeabook', 'Satisfyingasfuck', 'Perfumes', 'whatismycookiecutter', 'legal', 'TheNightFeeling', 'work', 'Presidents', 'dinner', 'easyrecipes', 'adhdmeme', 'HistoricalCapsule', 'newengland', 'CozyPlaces', 'roadtrip', 'Nicegirls', 'nostalgia', 'DunderMifflin', 'justgalsbeingchicks', '90s', 'HomeDecorating', 'CalebHammer', 'sustainability', 'dessert', '52book', 'Gifts', 'TwoXChromosomes', 'malegrooming', 'ExpectationVsReality', 'Poopfromabutt', 'Tucson', 'HelpMeFindThis', 'AskUK', 'Productivitycafe', 'MiddleClassFinance', 'mediterraneandiet', 'news', 'facepalm'}\n"
     ]
    },
    {
     "name": "stderr",
     "output_type": "stream",
     "text": [
      "Scraping user comments:   0%|          | 2/24911 [00:27<110:49:18, 16.02s/it]"
     ]
    },
    {
     "name": "stdout",
     "output_type": "stream",
     "text": [
      "Comments saved to /Users/smutnuri/Documents/UVA/_Projects/Fall24/CBM/CBMRepo/Data/usercomments/EvenIf-SheFalls_usercomments.json\n",
      "{'books', 'AskReddit', 'askmanagers', 'netflix', 'podcasts', 'StarWarsEU', 'NewToReddit', 'answers', 'whowouldwin', 'tulsaking', 'ask', 'personalfinance', 'StarWars', 'AskHR', 'batman', 'HomeImprovement'}\n"
     ]
    },
    {
     "name": "stderr",
     "output_type": "stream",
     "text": [
      "Scraping user comments:   0%|          | 3/24911 [00:29<67:35:50,  9.77s/it] "
     ]
    },
    {
     "name": "stdout",
     "output_type": "stream",
     "text": [
      "Comments saved to /Users/smutnuri/Documents/UVA/_Projects/Fall24/CBM/CBMRepo/Data/usercomments/Even_Act_6888_usercomments.json\n",
      "{'BelleFourcheDiscreet', 'artbusiness', 'BabyWitch', 'ClubEso', 'southdakotar4r', 'Fantasy', 'books', 'FemdomSPH', 'southdakotaGW', 'ColoredPencils', 'Sissy_humiliation', 'Shemale_Big_Cock', 'selfpublish', 'blackhillsgonewild', '605bicurious', 'TrapCuties', 'FemboyHookup', 'numerology', 'witchcraft', 'TransGoneWild', 'SouthDakotaSissies', 'ForcedFeminization', 'ARTIST', 'RapidCity', 'tarot', 'HairDye', 'PourPainting', 'chooseyourdomme'}\n"
     ]
    },
    {
     "name": "stderr",
     "output_type": "stream",
     "text": [
      "Scraping user comments:   0%|          | 4/24911 [00:30<44:18:25,  6.40s/it]"
     ]
    },
    {
     "name": "stdout",
     "output_type": "stream",
     "text": [
      "Comments saved to /Users/smutnuri/Documents/UVA/_Projects/Fall24/CBM/CBMRepo/Data/usercomments/EveningGrapefruit404_usercomments.json\n",
      "{'reddeadredemption', 'chessbeginners', 'geometrydash', 'GTA', 'getdisciplined', 'gaming', 'thomasthetankengine', 'lakers', 'minecraftclients', 'GenAlpha', 'Minecraftbuilds', 'roblox', 'DestinyTheGame', 'no', 'queen', 'Basketball', 'PremierLeague', 'GoldenAgeMinecraft', 'nintendo', 'MCFC', 'books', 'robloxjailbreak', 'AskReddit', 'magicbuilding', 'football', 'Barca', 'MadeMeSmile', 'fut', 'TheAether', 'minecraftsuggestions', 'Terraria', 'youtube', 'fabricmc', 'AskOuija', 'Windows11', 'school', 'RDR2', 'Minecraft', 'boardgames', 'AskAnAmerican', 'XboxSeriesS', 'AskPH', 'cloudgaming', 'Mario', 'The10thDentist', 'PS5', 'OntarioGrade12s', 'videogames', 'unpopularopinion', 'Trophies', 'audible', 'RedDeadOnline', 'college', 'AnarchyChess', 'TeenagersButBetter', 'Rubiks_Cubes', 'harrypotter', 'rockstar', 'reddeadredemption2', 'askTO', 'soccer', 'robotics', 'highschool', 'ShouldIbuythisgame', 'u_tinyBuildGAMES', 'chess', 'YAlit', 'fcbayern', 'FifaCareers', 'teenagers'}\n"
     ]
    },
    {
     "name": "stderr",
     "output_type": "stream",
     "text": [
      "Scraping user comments:   0%|          | 5/24911 [00:35<39:11:25,  5.66s/it]"
     ]
    },
    {
     "name": "stdout",
     "output_type": "stream",
     "text": [
      "Comments saved to /Users/smutnuri/Documents/UVA/_Projects/Fall24/CBM/CBMRepo/Data/usercomments/Evening_Proof1545_usercomments.json\n",
      "{'StandUpComedy', 'TheNewestOlympian', 'podcasts', 'Dexter', 'cobrakai', 'ThingsCutInHalfPorn', 'PlayStationPlus', 'assassinscreed', 'marvelstudios', 'justified', 'camphalfblood', 'thegrandtour', 'TalesFromTheTheatre', 'TooAfraidToAsk', 'Games', 'unitedkingdom', 'WouldYouRather', 'skulduggerypleasant', 'comicbookmovies', 'harrypotter', 'lucifer', 'boxoffice', 'explainlikeimfive', 'netflixuk', 'offmychest', 'supergirlTV', 'funny', 'AbandonedPorn', 'WatchItForThePlot', 'gifsthatkeepongiving', 'LifeProTips', 'SupermanAndLois', 'CasualUK', 'worldnews', 'savedyouaclick', 'technicallythetruth', 'empirepodcast', 'SeeTV', 'robinhobb', 'LegendsOfTomorrow', 'Celebs', 'HumanForScale', 'interestingasfuck', 'PokemonGoFriends', 'Showerthoughts', 'gameofthrones', 'dataisbeautiful', 'CasualConversation', 'AdviceAnimals', 'mildlyinteresting', 'TheBoys', 'howyoudoin', 'Invincible', 'TheLastKingdom', 'JackReacherTV', 'Damnthatsinteresting', 'GreekMythology', 'playstation', 'aww', 'Letterboxd', 'JackReacher', 'sanspantsradio', 'britishproblems', 'movies', 'thewalkingdead', 'PlayAvengers', 'todayilearned', 'london', 'kindafunny', 'books', 'CharacterRant', 'Whatcouldgowrong', 'TheMandalorianTV', 'SweatyPalms', 'vikingstv', 'UNBGBBIIVCHIDCTIICBG', 'pics', 'arrow', 'SaxonStories', 'FlashTV', 'memes', 'AlexRider', 'tipofmytongue', 'MovieTheaterEmployees', 'TVTooHigh', 'television', 'Fractalverse', 'brooklynninenine', 'gaming', 'booksuggestions', 'whowouldwin', 'KidsAreFuckingStupid', 'tall', 'PS4', 'ContagiousLaughter', 'Potterless', 'GodofWar', 'suggestmeabook', 'MovieDetails', 'mythology', 'BookOfBobaFett', 'riverdale', 'Eragon', 'HouseMD', 'Hull', 'PS5', 'ArcherFX', 'HarryPotterBooks', 'BatwomanTV', 'pilottvpodcast', 'panelshow', 'ZeroPunctuation', 'Scrubs', 'firstworldproblems', 'nextfuckinglevel', 'FanTheories', 'AbsoluteUnits', 'TrueOffMyChest', 'DoesAnybodyElse', 'DisneyPlus', 'whatsthatbook', 'marvelmemes', 'NotMyJob', 'ShadowandBone'}\n"
     ]
    },
    {
     "name": "stderr",
     "output_type": "stream",
     "text": [
      "Scraping user comments:   0%|          | 6/24911 [01:10<109:06:55, 15.77s/it]"
     ]
    },
    {
     "name": "stdout",
     "output_type": "stream",
     "text": [
      "Comments saved to /Users/smutnuri/Documents/UVA/_Projects/Fall24/CBM/CBMRepo/Data/usercomments/Everest_95_usercomments.json\n",
      "{'sapphicbooks', 'CozyFantasy', 'wlwbooks', 'HistoricalRomance', 'booksuggestions', 'DnDIY', 'DMAcademy', 'FantasyWorldbuilding', 'namenerds', 'comicbooks', 'Screenwriting', 'suggestmeabook', 'fantasywriters', 'books', 'Fantasy', 'WritingHub', 'Romance_for_men', 'writingadvice', 'murderbot', 'romanceauthors', 'Writeresearch', 'fantasyromance', 'selfpublish', 'FanFiction', 'dataisbeautiful', 'write', 'Design', 'writers', 'BooksThatFeelLikeThis', 'FemaleGazeSFF', 'goodworldbuilding', 'LGBTBooks', 'LibbyApp', 'audiobooks', 'writing', 'KeepWriting', 'DungeonsAndDragons', 'sciencefiction', 'MM_RomanceBooks', 'Journaling', 'RomanceBooks', 'gentlemanbastards', 'DnD'}\n"
     ]
    },
    {
     "name": "stderr",
     "output_type": "stream",
     "text": [
      "Scraping user comments:   0%|          | 7/24911 [01:23<102:59:54, 14.89s/it]"
     ]
    },
    {
     "name": "stdout",
     "output_type": "stream",
     "text": [
      "Comments saved to /Users/smutnuri/Documents/UVA/_Projects/Fall24/CBM/CBMRepo/Data/usercomments/EvergreenHavok_usercomments.json\n",
      "{'TheYouShow', 'bisexual', 'starcitizen', 'entertainment', 'Diablo', 'space', 'Games', 'AnimalsOnReddit', 'pcmasterrace', 'WarTalesGame', 'SpaceMarine_2', 'iamatotalpieceofshit', 'fo76', 'WorkersStrikeBack', 'RedditSessions', 'facepalm', 'funny', 'finance', 'nameaserver', 'worldnews', 'wallstreetbets', 'StarWars', 'classicwow', 'StarWarsOutlaws', 'CatsAreAssholes', 'MurderedByWords', 'AskReddit', 'Warhammer40k', 'fatesamurairemnantjp', 'Guildwars2', 'comics', 'comedyheaven', 'lostarkgame', 'interestingasfuck', 'AshesofCreation', 'announcements', 'tifu', 'Grimdank', 'Ultramarines', 'technews', 'mildlyinteresting', 'SipsTea', 'aww', 'ShittyLifeProTips', 'destiny2', 'distantsocializing', 'OneOrangeBraincell', 'DnD', 'bi_irl', 'dank_meme', 'Starfield', 'newworldgame', 'esports', 'books', 'whatisthisthing', 'dndmemes', 'meme', 'PaxDei', '40kLore', 'shitposting', 'technology', 'PeterExplainsTheJoke', 'Grobbulus', 'memes', 'WatchPeopleDieInside', 'mildlyinfuriating', 'rareinsults', 'self', 'vancouver', 'Cubs', 'killteam', 'diablo4', 'economy', 'television', 'me_irlgbt', 'StupidFood', 'gaming', 'ATBGE', 'AmItheAsshole', 'Fallout', 'BaldursGate3', 'Bikejoring', 'IdiotsInCars', 'KidsAreFuckingStupid', 'DarkTide', 'DragonsDogma2', 'PoliticalHumor', 'husky', 'Spacemarine', 'Helldivers', 'TheGamerLounge', 'witcher', 'PS5', 'politics', 'DungeonMasters', 'videogames', 'RogueTraderCRPG', 'pcgaming', 'perfectlycutscreams', 'Warhammer', 'DungeonsAndDragons', 'Eldenring', 'news', 'valheim', 'dankmemes'}\n"
     ]
    },
    {
     "name": "stderr",
     "output_type": "stream",
     "text": [
      "Scraping user comments:   0%|          | 8/24911 [01:40<106:31:31, 15.40s/it]"
     ]
    },
    {
     "name": "stdout",
     "output_type": "stream",
     "text": [
      "Comments saved to /Users/smutnuri/Documents/UVA/_Projects/Fall24/CBM/CBMRepo/Data/usercomments/Everlast17_usercomments.json\n",
      "{'Gamingcirclejerk', 'WhitePeopleTwitter', 'Unexpected', 'aliens', '3Dprinting', 'tumblr', 'ExplainTheJoke', 'BrandNewSentence', 'Cooking', 'xbox', 'StarWarsCantina', 'BeAmazed', 'yeezyxgap', 'yeezys', 'oddlysatisfying', 'shittymoviedetails', 'fixedbytheduet', 'TopCharacterTropes', 'IASIP', 'KamalaHarris', 'BlackOps6Zombies', 'ipadmini', 'MemeVideos', 'AMA', 'burgers', 'OnionLovers', 'megalophobia', 'cartoons', 'darksouls', 'meirl', 'Games', 'badroommates', 'roosterteeth', 'pcmasterrace', 'spongebob', 'comicbookmovies', 'TikTokCringe', 'Pizza', 'XboxSeriesX', 'MarkMyWords', 'ImTheMainCharacter', 'boxoffice', 'explainlikeimfive', 'crochet', 'JustGuysBeingDudes', 'facepalm', 'Funnymemes', 'funny', 'goblincore', 'CODZombies', 'texts', 'MilitaryPorn', 'cats', 'NewVegasMemes', 'fo4', 'AmIOverreacting', 'NonPoliticalTwitter', 'doordash', 'CasualUK', 'AppleWatch', 'worldnews', 'Prison', 'ask', 'inflation', 'StarWars', 'videos', 'Costco', 'wallstreetbets', 'AskReddit', 'coolguides', 'FirstTimeHomeBuyer', 'comics', 'FunnyandSad', 'Battlefield', 'FunnyAnimals', 'oddlyspecific', 'sciencememes', 'evilautism', 'interestingasfuck', 'rupaulsdragrace', 'fivenightsatfreddys', 'Sandwiches', 'tifu', 'RocketLeagueSchool', 'Grimdank', 'technews', 'mildlyinteresting', 'jewelry', 'FortNiteBR', 'SteamDeck', 'SipsTea', 'Wellthatsucks', 'Damnthatsinteresting', 'Millennials', 'playstation', 'Eyebleach', 'Tinder', 'deadbydaylight', 'Weird', 'transformers', 'halo', 'nevertellmetheodds', 'landscaping', 'Seaofthieves', 'KitchenConfidential', 'KendrickLamar', 'OculusQuest', 'aviation', 'Starfield', 'mildyinteresting', 'lego', 'me_irl', 'Xennials', 'movies', 'madlads', 'HelpMeFind', 'todayilearned', 'Fauxmoi', 'McDonaldsEmployees', '2meirl4meirl', 'OutOfTheLoop', 'books', 'ChoosingBeggars', 'xboxone', 'meme', 'moviecritic', 'bayarea', 'DiWHY', 'technology', 'SweatyPalms', 'fnv', 'Guitar', 'pics', 'starterpacks', 'ChatGPT', 'prisonhooch', 'unpopularopinion', 'Anticonsumption', 'maybemaybemaybe', 'PeterExplainsTheJoke', 'memes', 'WatchPeopleDieInside', 'mildlyinfuriating', 'cripplingalcoholism', 'self', 'NewsOfTheStupid', 'rareinsults', 'BlackPeopleTwitter', 'doordash_drivers', 'arizona', 'nottheonion', 'wiz', 'apple', 'StupidFood', 'gaming', 'dating_advice', 'Fallout', 'ActLikeYouBelong', 'arresteddevelopment', 'eldertrees', 'CrappyDesign', 'DeepRockGalactic', 'iphone', 'KidsAreFuckingStupid', 'GenZ', 'ContagiousLaughter', 'CyberStuck', 'TopCharacterDesigns', 'Satisfyingasfuck', 'Eldenring', 'Teachers', 'interesting', 'lostredditors', 'idiocracy', 'Spacemarine', 'Jewdank', 'politics', 'Music', 'okbuddycinephile', 'videogames', 'BatmanArkham', 'DunderMifflin', 'nostalgia', 'PrequelMemes', 'science', 'trashy', 'NatureIsFuckingLit', 'instant_regret', 'blackops6', 'OSHA', 'OldSchoolCool', 'nextfuckinglevel', 'hurricane', 'PcBuild', 'MiddleClassFinance', 'TheSimpsons', 'marvelmemes', 'news', 'OneOrangeBraincell'}\n"
     ]
    },
    {
     "name": "stderr",
     "output_type": "stream",
     "text": [
      "Scraping user comments:   0%|          | 9/24911 [02:07<131:42:35, 19.04s/it]"
     ]
    },
    {
     "name": "stdout",
     "output_type": "stream",
     "text": [
      "Comments saved to /Users/smutnuri/Documents/UVA/_Projects/Fall24/CBM/CBMRepo/Data/usercomments/EveroneWantsMyD_usercomments.json\n",
      "{'OldEnglish', 'tolkienfans', 'AppleWatch', 'history', 'iphone', 'Unicode', 'NetflixBestOf', 'typography', 'uktrees', 'books', 'mapmaking', 'AskReddit', 'Watercolor', 'MacStudio', 'Esperanto', 'MacOS', 'IAmA', 'Britain', 'neography', 'ireland', 'BobMiniDishwasher', 'Showerthoughts', 'IKEA', 'scottishindependence', 'space', 'audible', 'Libraries', 'audiodrama', 'conlangs', 'Scotland', 'stupidpol', 'earthsea', 'AskHistorians', 'explainlikeimfive', 'AncientGreek', 'AskUK', 'gayyoungold', 'offmychest', 'UrsulaKLeGuin', 'apple', 'Crainn', 'tolkienbooks'}\n"
     ]
    },
    {
     "name": "stderr",
     "output_type": "stream",
     "text": [
      "Scraping user comments:   0%|          | 10/24911 [02:14<106:47:02, 15.44s/it]"
     ]
    },
    {
     "name": "stdout",
     "output_type": "stream",
     "text": [
      "Comments saved to /Users/smutnuri/Documents/UVA/_Projects/Fall24/CBM/CBMRepo/Data/usercomments/Evertype_usercomments.json\n",
      "{'classicliterature', 'Cooking', 'LockdownSkepticism', 'BlockedAndReported', 'InterestingToRead', 'Star_Trek_', 'TheExorcist', 'traderjoes', 'SaintMeghanMarkle', 'NYTConnections', 'Portland', 'stevenuniverse', 'ZeroCovidCommunity', 'startrek', 'COVID19_Pandemic', '1960s', 'GenerationJones', 'fashionhistory', 'Tustin', 'CommercialsIHate', 'CoronavirusOC', 'cocacola', 'lostmedia', 'rush', 'LifeProTips', 'TrueUnpopularOpinion', 'AskReddit', 'popculturechat', 'CoronavirusCirclejerk', 'AdviceSnark', 'Hereditary', 'mash', 'TheWayWeWere', 'interestingasfuck', 'Finland', 'popcorn', 'changemyview', 'AdPorn', 'criterion', 'Millennials', 'atheism', 'TheBeatles', 'bunheadsnark', 'GenX', 'startrekmemes', 'Xennials', 'movies', 'AntiDogfree', 'AuthoritarianMasks', 'Fauxmoi', 'antiassholedesign', 'OutOfTheLoop', 'books', 'vintageads', 'graphic_design', 'PoliticalCompassMemes', 'sitcoms', 'StarTrekDiscovery', 'AskOldPeople', '80smusic', 'DiWHY', 'IfBooksCouldKill', 'pics', 'KevinCanFHimself', 'unpopularopinion', 'redscarepod', 'IcebergCharts', 'NoStupidQuestions', 'orangecounty', 'NYTSpellingBee', 'PublicFreakout', 'mildlyinfuriating', 'rant', 'DaystromInstitute', 'CelebitchyUnderground', 'midjourney', 'nottheonion', '13ReasonsWhy', 'FIlm', 'Bumperstickers', 'AmItheAsshole', 'DeathCertificates', 'CrappyDesign', 'assholedesign', 'CriterionChannel', 'woodyallen', 'Music', 'samharris', 'CozyPlaces', 'nostalgia', 'beatles', 'OldSchoolCool', 'answers', 'stupidpol', 'news'}\n"
     ]
    },
    {
     "name": "stderr",
     "output_type": "stream",
     "text": [
      "Scraping user comments:   0%|          | 11/24911 [02:23<93:47:26, 13.56s/it] "
     ]
    },
    {
     "name": "stdout",
     "output_type": "stream",
     "text": [
      "Comments saved to /Users/smutnuri/Documents/UVA/_Projects/Fall24/CBM/CBMRepo/Data/usercomments/EveryBreakfast9_usercomments.json\n",
      "{'Broadway', 'AmItheAsshole', 'kpop', 'popheads', 'Fauxmoi', 'unpopularkpopopinions', 'bookshelf', 'books', 'femalelivingspace', 'popculturechat', 'heungtan', 'kpophelp', 'kpopthoughts', 'bts7', 'bangtan', '52book', 'Letterboxd', 'TheRose', 'Instagramreality', 'kpop_uncensored'}\n"
     ]
    },
    {
     "name": "stderr",
     "output_type": "stream",
     "text": [
      "Scraping user comments:   0%|          | 12/24911 [02:50<121:12:26, 17.52s/it]"
     ]
    },
    {
     "name": "stdout",
     "output_type": "stream",
     "text": [
      "Comments saved to /Users/smutnuri/Documents/UVA/_Projects/Fall24/CBM/CBMRepo/Data/usercomments/EveryCliche_usercomments.json\n",
      "{'handwerken', 'AmITheAngel', 'EmilieAutumn', 'CozyFantasy', 'ATBGE', 'podcasts', 'AmItheAsshole', 'HobbyDrama', 'boybands', 'movies', 'adhdwomen', 'Tunisian_Crochet', 'popheads', 'Fauxmoi', 'Cooking', 'HistoryPorn', 'confession', 'books', 'Dinosaurs', 'AskReddit', 'whatisthisthing', 'Teachers', 'popculturechat', 'CozyGamers', 'Solo_Roleplaying', 'entertainment', 'BeAmazed', 'vindvrienden', 'Serverlife', 'knitting', 'kpophelp', 'TaylorSwift', 'TrueCrime', 'DiWHY', 'oddlyterrifying', 'BestofRedditorUpdates', 'soloboardgaming', 'crafts', 'Showerthoughts', 'IfBooksCouldKill', 'WitchesVsPatriarchy', 'FairytaleasFuck', 'CozyPlaces', 'VeganYarn', 'mildlyinteresting', 'GirlGamers', 'BitchEatingCrafters', 'kingkogi', 'AdvancedKnitting', 'wholesomememes', 'NatureIsFuckingLit', 'Moonstone_Island', 'RedHandedPodcast', 'panelshow', 'NoStupidQuestions', 'BackstreetBoys', 'AmITheDevil', 'antiMLM', 'TwoXChromosomes', 'inthenews', 'nextfuckinglevel', 'fuckcars', 'tattooadvice', 'crochet', 'craftsnark', 'thenetherlands', 'YoureWrongAbout', 'news', 'DnD', 'patientgamers', 'Scams', 'goblincore'}\n"
     ]
    },
    {
     "name": "stderr",
     "output_type": "stream",
     "text": [
      "Scraping user comments:   0%|          | 13/24911 [03:17<140:34:30, 20.33s/it]"
     ]
    },
    {
     "name": "stdout",
     "output_type": "stream",
     "text": [
      "Comments saved to /Users/smutnuri/Documents/UVA/_Projects/Fall24/CBM/CBMRepo/Data/usercomments/EveryDayheyhey_usercomments.json\n",
      "{'Myfitnesspal', 'lookyourbest', 'CRedit', 'AmItheAsshole', 'whatcarshouldIbuy', 'WhitePeopleTwitter', 'Unexpected', 'golf', 'NoLayingUp', 'amIuglyBrutallyHonest', 'HOA', 'IdiotsInCars', 'ask', 'guessmyage', 'Costco', 'FaceRatings', 'wholesomegifs', 'TheWire', 'sports', 'Decks', 'books', 'ACAB', 'AskReddit', 'smoking', 'Serverlife', 'BeAmazed', 'moviecritic', 'entertainment', 'legaladvice', 'confidentlyincorrect', 'Harley', 'TwoHotTakes', 'RoastMe', 'vegas', 'nextdoor', 'antiwork', 'kindle', 'mapporncirclejerk', 'Doppleganger', 'baseball', 'shitposting', 'technology', 'BestofRedditorUpdates', 'BobDoesSports', 'UNBGBBIIVCHIDCTIICBG', 'politics', 'pics', 'dogpictures', 'MemeVideos', 'nostalgia', 'mildlyinteresting', 'AITAH', 'meirl', 'maybemaybemaybe', 'wholesomememes', 'UpvoteBecauseButt', 'cursedcomments', 'WatchPeopleDieInside', 'Damnthatsinteresting', 'mildlyinfuriating', 'LPGA', 'Awww', 'MapPorn', 'Tinder', 'aww', 'TikTokCringe', 'therewasanattempt', 'AbsoluteUnits', 'news', 'thewestwing', 'Funnymemes', 'dontflinch', 'breakingbad', 'facepalm', 'StupidFood'}\n"
     ]
    },
    {
     "name": "stderr",
     "output_type": "stream",
     "text": [
      "Scraping user comments:   0%|          | 14/24911 [03:56<180:39:17, 26.12s/it]"
     ]
    },
    {
     "name": "stdout",
     "output_type": "stream",
     "text": [
      "Comments saved to /Users/smutnuri/Documents/UVA/_Projects/Fall24/CBM/CBMRepo/Data/usercomments/EveryFngNameIsTaken_usercomments.json\n",
      "{'LivingAlone', 'ScammerPayback', 'DOG', 'Bulldogs', 'Grimes', 'elonmusk', 'AmITheAngel', 'millenials', 'AmItheAsshole', 'dating_advice', 'PlusSize', 'debtfree', 'RandomThoughts', 'USHistory', 'Fauxmoi', 'loseit', 'uglyduckling', '90DayFiance', 'ExpatsTVSeries', 'books', 'AskReddit', 'EnoughMuskSpam', 'SecurityClearance', 'MadeMeSmile', 'fashion', 'Money', 'sleep', 'traderjoes', 'Presidents', 'TwoHotTakes', 'RoastMe', 'kindle', 'BestofRedditorUpdates', 'nonfictionbookclub', 'politics', 'pics', 'FashionPlus', 'AMA', 'Maltese', 'badwomensanatomy', 'AITAH', 'Zepbound', 'Europetravel', 'relationship_advice', 'povertyfinance', 'puppy101', 'bald', 'Damnthatsinteresting', 'NoStupidQuestions', 'soup', 'nova', 'mildlyinfuriating', 'self', 'Shihtzu', 'aww', 'PlusSizeFashion', 'amiwrong', 'u_ErikaDanishGirl', 'malegrooming', 'travel', 'scambait', 'doordash_drivers', 'FriendshipAdvice', 'stupidquestions', 'Assistance', 'Frugal', 'bipolar', 'Swingers'}\n"
     ]
    },
    {
     "name": "stderr",
     "output_type": "stream",
     "text": [
      "Scraping user comments:   0%|          | 15/24911 [04:10<155:16:02, 22.45s/it]"
     ]
    },
    {
     "name": "stdout",
     "output_type": "stream",
     "text": [
      "Comments saved to /Users/smutnuri/Documents/UVA/_Projects/Fall24/CBM/CBMRepo/Data/usercomments/EveryGovernment3982_usercomments.json\n",
      "{'DIY', 'pelotoncycle', 'Fencesitter', 'texas', 'declutter', 'sports', 'speechdelays', 'LightningInABottle', 'festivals', 'entertainment', 'IAmA', 'office', 'bluey', 'TheAcolyte', 'KUWTK', 'Preschoolers', 'intermittentfasting', 'financialindependence', 'BabyBumps', 'BurningMan', 'FluentInFinance', 'EatCheapAndHealthy', 'meirl', 'unusual_whales', 'Adulting', 'boxoffice', 'RomanceBooks', 'denverfood', 'Parenting', 'fredagain', 'electricdaisycarnival', 'Home', 'LifeProTips', 'EDM', 'AmIOverreacting', 'finance', 'Costco', 'AskReddit', 'popculturechat', 'CleaningTips', 'personalfinance', 'interestingasfuck', 'dataisbeautiful', 'vegaslocals', 'aves', 'popculture', 'webdev', 'Millennials', 'AskWomenOver40', 'inthenews', 'tech', 'minimalism', 'delta', 'Autism_Parenting', 'coastFIRE', 'nikerunclub', 'lifeisbeautifulLV', 'toddlers', 'books', 'MadeMeSmile', 'cosplay', 'YangForPresidentHQ', 'vegas', 'technology', 'Excision', 'FoodLosAngeles', 'pics', 'BobsTavern', 'NoStupidQuestions', 'orangecounty', 'mildlyinfuriating', 'ruby', 'bonnaroo', 'food', 'beyondthebump', 'aclfestival', 'gardening', 'HomeImprovement', 'Teachers', 'newhampshire', 'composting', 'Roborock', 'powerwashingporn', 'politics', 'Music', 'turo', 'socal', 'RealEstate', 'programminghumor', 'oneanddone', 'science', 'gadgets', 'LasVegas', 'AnythingGoesNews', 'TwoXChromosomes', 'OldSchoolCool', 'Vermiculture', 'webdevelopment', 'Economics', 'konmari', 'news', 'Coachella', 'chappellroan', 'economy'}\n"
     ]
    },
    {
     "name": "stderr",
     "output_type": "stream",
     "text": [
      "Scraping user comments:   0%|          | 16/24911 [04:32<154:14:35, 22.30s/it]"
     ]
    },
    {
     "name": "stdout",
     "output_type": "stream",
     "text": [
      "Comments saved to /Users/smutnuri/Documents/UVA/_Projects/Fall24/CBM/CBMRepo/Data/usercomments/EveryMinuteOfIt_usercomments.json\n",
      "{'hypotheticalsituation', 'TheLastAirbender', 'AccidentalRenaissance', 'Unexpected', 'UnethicalLifeProTips', 'Jujutsufolk', 'Animemes', 'lgbt', 'Cooking', 'whenthe', 'youtubedrama', 'JuJutsuKaisen', 'MildlyBadDrivers', 'GetNoted', 'recruitinghell', 'shittymoviedetails', 'kindle', 'CuratedTumblr', 'AvatarMemes', 'cartoons', 'meirl', 'pcmasterrace', 'MemePiece', 'TikTokCringe', 'travel', 'MarkMyWords', 'wisconsin', 'JustGuysBeingDudes', 'BikiniBottomTwitter', 'pettyrevenge', 'funny', 'osrs', 'shiba', 'cats', 'AllThatIsInteresting', 'AmIOverreacting', 'NonPoliticalTwitter', 'anime_irl', 'shittytattoos', 'clevercomebacks', 'worldnews', 'wallstreetbets', 'videos', 'questions', 'bleach', 'MurderedByWords', 'AskReddit', 'popculturechat', 'comics', 'VirtualYoutubers', 'FunnyAnimals', 'oddlyspecific', 'gentlefemdom', 'comedyheaven', 'holdmycatnip', 'Showerthoughts', 'wholesome', 'AdviceAnimals', 'mildlyinteresting', 'SipsTea', '2007scape', 'Mobpsycho100', 'Wellthatsucks', 'wholesomememes', 'Damnthatsinteresting', 'Millennials', 'aww', 'Eyebleach', 'writing', 'inthenews', 'WhatsWrongWithYourCat', 'anxietymemes', 'Edmonton', 'landscaping', 'KitchenConfidential', 'Beastars', 'me_irl', 'movies', 'madlads', 'todayilearned', 'minnesota', 'AskMen', 'stephenking', 'flashlight', 'books', 'VShojo', 'likeus', 'meme', 'MadeMeSmile', 'MechanicalKeyboards', 'moviecritic', 'technology', 'DungeonMeshi', 'jobs', 'anime', 'pics', 'starterpacks', 'dashcamgifs', 'AITAH', 'povertyfinance', 'canada', 'unpopularopinion', 'maybemaybemaybe', 'PeterExplainsTheJoke', 'gravityfalls', 'memes', 'worldbuilding', 'neekolul', 'Awww', 'mildlyinfuriating', 'BlackPeopleTwitter', 'GymMemes', 'rareinsults', 'johnoliver', 'woahthatsinteresting', 'Ohio', 'television', 'nottheonion', 'LinkedInLunatics', 'StupidFood', 'gaming', 'Komi_san', 'KidsAreFuckingStupid', 'GenZ', 'PoliticalHumor', 'DataHoarder', 'youtube', 'pokemon', 'antiwork', 'democrats', 'legendofkorra', 'politics', 'Music', 'CozyPlaces', 'animenews', 'lostpause', 'videogames', 'DecodingTheGurus', 'FacebookScience', 'UnbelievableStuff', 'writers', 'science', 'shittyfoodporn', 'nextfuckinglevel', 'ExpectationVsReality', 'SnapshotHistory', 'SpyxFamily', 'batman', 'OnePiece', 'news'}\n"
     ]
    },
    {
     "name": "stderr",
     "output_type": "stream",
     "text": [
      "Scraping user comments:   0%|          | 17/24911 [04:44<131:37:57, 19.04s/it]"
     ]
    },
    {
     "name": "stdout",
     "output_type": "stream",
     "text": [
      "Comments saved to /Users/smutnuri/Documents/UVA/_Projects/Fall24/CBM/CBMRepo/Data/usercomments/EveryRadio_usercomments.json\n",
      "{'TheStoryGraph', 'cats', 'piano', 'playerstheseries', 'accessibility', 'TuxedoCats', 'castiron', 'printmaking', 'mushroomID', 'Fantasy', 'books', 'whatismycookiecutter', 'shutupandbuy', 'finalfantasyx', 'DnDHomebrew', 'forbiddensnacks', 'FinalFantasyVII', 'moviecritic', 'MacOS', 'pokemon', 'kindle', 'FigmaDesign', 'FinalFantasy', 'goodreads', 'selfpublish', 'Denver', 'toptalent', 'AndroidWear', 'skyrim', 'mildlyinteresting', 'Design', 'darksouls', 'RocketLeague', 'Wellthatsucks', 'Twitch', 'denverlist', 'design_critiques', 'FigmaAddOns', 'PokemonUnite', 'LibbyApp', 'papertowns', 'UX_Design', 'nextfuckinglevel', 'fo76', 'RocketLeagueFriends', 'UXDesign', 'Pets', 'Pathfinder2e', 'doommetal', 'FFVIIEverCrisis', 'traveller', 'Stadia', 'DnD', 'bookbinding', 'RocketLeagueEsports', 'KitchenConfidential'}\n"
     ]
    },
    {
     "name": "stderr",
     "output_type": "stream",
     "text": [
      "Scraping user comments:   0%|          | 18/24911 [05:02<130:16:39, 18.84s/it]"
     ]
    },
    {
     "name": "stdout",
     "output_type": "stream",
     "text": [
      "Comments saved to /Users/smutnuri/Documents/UVA/_Projects/Fall24/CBM/CBMRepo/Data/usercomments/EverySoOrphan_usercomments.json\n",
      "{'ArmchairExpert', 'nba', 'millenials', 'frugalmalefashion', 'WhitePeopleTwitter', 'thewalkingdead', 'Dreamdale', 'history', 'todayilearned', 'Catholicism', 'PoliticalHumor', 'stopdrinking', '75HARD', 'Askpolitics', 'DanLeBatardShow', 'books', 'benshapiro', 'mobcontrolgame', 'AskReddit', 'NBASpurs', 'gatekeeping', 'GetMotivated', 'Omaha', 'MemeEconomy', 'NormMacdonald', 'Jokes', 'antiwork', 'Coronavirus', 'Fitness', 'GalaxyWatch', 'politics', 'Music', 'dataisbeautiful', 'FluentInFinance', 'mildlyinteresting', 'Bandnames', 'thedavidpakmanshow', 'Nebraska', 'orangecounty', 'Republican', 'Huskers', 'OldSchoolCool', 'whatsthisbug', 'AskHistorians', 'explainlikeimfive', 'Gardenscapes', 'midjourney', 'donthelpjustfilm', 'AskALiberal', 'creepy', 'funny', 'fitness30plus'}\n"
     ]
    },
    {
     "name": "stderr",
     "output_type": "stream",
     "text": [
      "Scraping user comments:   0%|          | 19/24911 [05:09<104:30:03, 15.11s/it]"
     ]
    },
    {
     "name": "stdout",
     "output_type": "stream",
     "text": [
      "Comments saved to /Users/smutnuri/Documents/UVA/_Projects/Fall24/CBM/CBMRepo/Data/usercomments/EverybodyLovesCrayon_usercomments.json\n",
      "{'ProjectDiva', 'books', 'Psychopathy', 'Nails', 'snakes', 'crochet', 'apostrophegore', 'Archiveofourownmemes', 'NoStupidQuestions', 'AO3'}\n"
     ]
    },
    {
     "name": "stderr",
     "output_type": "stream",
     "text": [
      "Scraping user comments:   0%|          | 20/24911 [05:13<82:54:43, 11.99s/it] "
     ]
    },
    {
     "name": "stdout",
     "output_type": "stream",
     "text": [
      "Comments saved to /Users/smutnuri/Documents/UVA/_Projects/Fall24/CBM/CBMRepo/Data/usercomments/Everyonesfav__usercomments.json\n",
      "{'Gamingcirclejerk', 'ProgressionFantasy', 'ExplainTheJoke', 'haremfantasynovels', 'Fantasy', 'masseffect', 'HFY', 'IAmA', 'BethesdaSoftworks', 'HaremNovels', 'wabbajack', 'animequestions', 'ShieldAndroidTV', 'MarvelSnap', 'Games', 'buildapcsales', 'MartialMemes', 'superman', 'samsung', 'audiobooks', 'MarkMyWords', 'noveltranslations', 'sciencefiction', 'explainlikeimfive', 'Frugal', 'CriticalDrinker', 'MovieSuggestions', 'Parahumans', 'clevercomebacks', 'flicks', 'ask', 'videos', 'FavoriteCharacter', 'AskReddit', 'animecirclejerk', 'WTF', 'shittyaskreddit', 'BG3', 'AdviceAnimals', 'televisionsuggestions', 'SteamDeck', 'Wellthatsucks', 'marvelsnapcomp', 'FromSeries', 'Damnthatsinteresting', 'BG3Builds', 'Letterboxd', 'TrueFilm', 'Animesuggest', 'gamingsuggestions', 'doctorwho', 'SalsaSnobs', 'OculusQuest', 'millenials', 'movies', 'classicfallout', 'todayilearned', 'loseit', 'comicbooks', 'OutOfTheLoop', 'lifehacks', 'books', 'Cyberpunk', 'dragonage', 'ZephyrusG14', 'moviecritic', 'writingadvice', 'baldursgatememes', 'mealtimevideos', 'fnv', 'anime', 'netflix', 'unpopularopinion', 'PeterExplainsTheJoke', 'audible', 'ProTubeVR', 'DungeonCrawlerCarl', 'tipofmytongue', 'saltierthankrayt', 'ExplainAFilmPlotBadly', 'television', 'SubredditDrama', 'oscarrace', 'gaming', 'NintendoSwitchDeals', 'Fallout', 'CreepyBonfire', 'BaldursGate3', 'suggestmeabook', 'HellBoy', 'FinalFantasy', 'litrpg', 'politics', 'videogames', 'science', 'AlignmentCharts', 'darksouls3', 'ereader', 'horror', 'printSF', 'scifi', 'falloutnewvegas', 'ItsAllAboutGames', 'California', 'ShouldIbuythisgame', 'Eldenring', 'patientgamers', 'news', 'facepalm'}\n"
     ]
    },
    {
     "name": "stderr",
     "output_type": "stream",
     "text": [
      "Scraping user comments:   0%|          | 21/24911 [05:39<111:14:01, 16.09s/it]"
     ]
    },
    {
     "name": "stdout",
     "output_type": "stream",
     "text": [
      "Comments saved to /Users/smutnuri/Documents/UVA/_Projects/Fall24/CBM/CBMRepo/Data/usercomments/EverythingSunny_usercomments.json\n",
      "{'botw', 'investing', 'DIY', 'gaming', 'AccidentalRenaissance', 'GenX', 'booksuggestions', 'EarthPorn', 'StructuralEngineering', 'ZionNationalPark', 'movies', 'investingforbeginners', 'LifeProTips', 'worldnews', 'dadjokes', 'Android', 'videos', 'sports', 'books', 'AskReddit', 'rccars', 'entertainment', 'verizon', 'InternetIsBeautiful', 'NYGiants', 'agedlikemilk', 'democrats', 'Mattress', 'EngineeringStudents', 'technology', 'Images', 'Showerthoughts', 'Music', 'pics', 'Construction', 'newjersey', 'nashville', 'backpain', 'technews', 'mildlyinteresting', 'typing', 'AITAH', 'RowanUniversity', 'unpopularopinion', 'science', 'gadgets', 'gifs', 'iPhoneography', 'MachE', 'space', 'rareinsults', 'SouthJersey', 'TwoXChromosomes', 'OldSchoolCool', 'UpliftingNews', 'AskEngineers', 'civilengineering', 'explainlikeimfive', 'Professors', 'television', 'nottheonion', 'Coffee', 'Futurology', 'MorePerfectUnion', 'apple', 'funny', 'news', 'facepalm'}\n"
     ]
    },
    {
     "name": "stderr",
     "output_type": "stream",
     "text": [
      "Scraping user comments:   0%|          | 22/24911 [06:27<178:22:43, 25.80s/it]"
     ]
    },
    {
     "name": "stdout",
     "output_type": "stream",
     "text": [
      "Comments saved to /Users/smutnuri/Documents/UVA/_Projects/Fall24/CBM/CBMRepo/Data/usercomments/Everythings_Magic_usercomments.json\n",
      "{'tolkienfans', 'JRPG', 'DIY', 'gaming', 'AmItheAsshole', 'worldnews', 'lgbt', 'todayilearned', 'StarWars', 'videos', 'rpg', 'Blacksmith_Forge', 'dndnext', 'Fantasy', 'books', 'KingkillerChronicle', 'AskReddit', 'dragonage', 'cincinnati', 'WestVirginia', 'masseffect', 'UnicornOverlord', 'Gaming4Gamers', 'shakespeare', 'gametales', 'Machinists', 'personalfinance', 'FFVIIRemake', 'antiwork', 'FinalFantasy', 'adventuretime', 'technology', 'WTF', 'SpidermanPS4', 'politics', 'Art', 'Music', 'pics', 'dresdenfiles', 'EbonyImagination', 'hygiene', 'xmen', 'SaltLakeCity', 'scotus', 'Norse', 'NonCredibleDefense', 'writing', 'TwoXChromosomes', 'plants', 'Christianity', 'nerdfighters', 'Dimension20', 'explainlikeimfive', 'Ohio', 'SubredditDrama', 'nottheonion', 'DnD', 'SWORDS', 'funny', 'news', 'armoredwomen'}\n"
     ]
    },
    {
     "name": "stderr",
     "output_type": "stream",
     "text": [
      "Scraping user comments:   0%|          | 23/24911 [06:52<176:01:32, 25.46s/it]"
     ]
    },
    {
     "name": "stdout",
     "output_type": "stream",
     "text": [
      "Comments saved to /Users/smutnuri/Documents/UVA/_Projects/Fall24/CBM/CBMRepo/Data/usercomments/EvilAnagram_usercomments.json\n",
      "{'formula1', 'Torontobluejays', 'misleadingthumbnails', 'sports', 'tuckedinkitties', 'CursedTanks', 'tanks', 'boardgames', 'gamebooks', 'wyrmspan', 'arkhamhorrorlcg', 'ImaginaryStarships', 'u_MaximumEntmt', 'Games', 'WeWantPlates', 'CustomPlayerCutscene', 'Battletechgame', 'audiobooks', 'WatchDogsWoofInside', 'funny', 'darkestdungeon', 'Curling', 'MilitaryPorn', 'toronto', 'CFL', 'videos', 'mallninjashit', 'theocho', 'AskReddit', 'Warhammer40k', 'comics', 'fullmoviesonyoutube', 'Jokes', 'comedyheaven', 'hmmm', 'TankPorn', 'DrakeTheType', 'MilitaryHistory', 'Grimdank', 'mildlyinteresting', 'JustBootThings', 'Torontoevents', 'soccer', 'movies', 'disneyvacation', 'todayilearned', 'sadcringe', 'books', 'Justrolledintotheshop', 'whatisthisthing', 'Fencing', 'forbiddensnacks', 'CredibleDefense', 'blunderyears', 'wwiipics', 'baseball', 'pics', 'nhl', 'NoStupidQuestions', 'mildlyinfuriating', 'trippinthroughtime', 'NonCredibleDefense', 'insanepeoplefacebook', 'justneckbeardthings', 'quityourbullshit', 'SympatheticMonsters', 'deadmalls', 'SubredditDrama', 'BattleBrothers', 'ImaginaryWarhammer', 'gaming', 'Military', 'KidsAreFuckingStupid', 'confusing_perspective', 'pic', 'Shitty_Car_Mods', 'HistoryMemes', 'Catswithjobs', 'nostalgia', 'GameDeals', 'magicTCG', 'winnipegjets', 'WholesomeFantasyArt', 'ExpectationVsReality', 'DoesAnybodyElse', 'CombatFootage', 'askTO', 'hockey', 'OneOrangeBraincell', 'ImaginaryMonsters'}\n"
     ]
    },
    {
     "name": "stderr",
     "output_type": "stream",
     "text": [
      "Scraping user comments:   0%|          | 24/24911 [07:18<177:28:38, 25.67s/it]"
     ]
    },
    {
     "name": "stdout",
     "output_type": "stream",
     "text": [
      "Comments saved to /Users/smutnuri/Documents/UVA/_Projects/Fall24/CBM/CBMRepo/Data/usercomments/EvilFlyingSquirrel_usercomments.json\n",
      "{'UnethicalLifeProTips', 'bestofnetflix', 'cringe', 'AskPhysics', 'AliensRHere', 'TwoHotTakes', 'ibs', 'skeptic', 'AMA', 'cormacmccarthy', 'space', 'surfing', 'travel', 'explainlikeimfive', 'MovieSuggestions', '1883Series', 'Swimming', 'AmIOverreacting', 'bodyweightfitness', 'shittytattoos', 'worldnews', 'flicks', 'Prison', 'ask', 'USHistory', 'videos', 'niceguys', 'TheWire', 'climbharder', 'AskReddit', 'mensfashion', 'popculturechat', 'Rateme', 'TravelNoPics', 'digitalnomad', 'trueratediscussions', 'AskAnAmerican', 'interestingasfuck', 'tifu', 'dataisbeautiful', 'televisionsuggestions', 'TheAmericans', 'criterion', 'CampingGear', 'longlegsmovie', 'Tinder', 'inthenews', 'BoomersBeingFools', 'skiing', 'contacts', 'A24', 'movies', 'todayilearned', 'AskMen', 'books', 'moviecritic', 'LosAngeles', 'martialarts', 'MusicRecommendations', 'AskFeminists', 'PoliticalDiscussion', 'SeriousConversation', 'HubermanLab', 'pics', 'EntitledPeople', 'NoStupidQuestions', 'NewsOfTheStupid', 'insanepeoplefacebook', 'justneckbeardthings', 'AskMenAdvice', 'wrestling', 'television', 'nottheonion', 'Futurology', 'Manipulation', 'CrackheadCraigslist', 'FIlm', 'running', 'amIuglyBrutallyHonest', 'history', 'ExplainBothSides', 'GenZ', 'suggestmeabook', 'akita', 'AskLosAngeles', 'flexibility', 'politics', 'TheMcDojoLife', 'Music', 'words', 'DecodingTheGurus', 'Nicegirls', 'writers', 'science', 'MMA', 'scifi', 'bjj', 'OldSchoolCool', 'California', 'news', 'law'}\n"
     ]
    },
    {
     "name": "stderr",
     "output_type": "stream",
     "text": [
      "Scraping user comments:   0%|          | 25/24911 [07:45<180:03:35, 26.05s/it]"
     ]
    },
    {
     "name": "stdout",
     "output_type": "stream",
     "text": [
      "Comments saved to /Users/smutnuri/Documents/UVA/_Projects/Fall24/CBM/CBMRepo/Data/usercomments/EvilLegalBeagle_usercomments.json\n",
      "{'Gamingcirclejerk', 'Cuddle_Slut', 'arthelp', 'MakeupAddiction', 'outofcontextcomics', 'texas', 'Animemes', 'Tierzoo', 'BrandNewSentence', 'Ningen', 'Cooking', 'HunterXHunter', 'Xcom', 'DrawForMe', 'wizardposting', 'AnimeTomboys', 'BeAmazed', 'marvelstudios', 'TsukiMichi', 'Chadtopia', 'FearAndHunger', 'agedlikemilk', 'TopCharacterTropes', 'BestofRedditorUpdates', 'AnimalsBeingMoms', 'Honda', 'CuratedTumblr', 'dogpictures', 'trans', 'DivinityOriginalSin', 'animequestions', 'cartoons', 'TowerofGod', 'Manhua', 'OriginalCharacter', 'space', 'meirl', 'gamingmemes', 'badroommates', 'Advice', 'soup', 'MemePiece', 'Bacon', 'menwritingwomen', 'MartialMemes', 'standardissuecat', 'foundsatan', 'boykisser', 'austincirclejerk', 'AskRedditFood', 'LobotomyCorp', 'animation', 'facepalm', 'creepy', 'MyHeroAcadamia', 'darkestdungeon', 'insomnia', 'HorrorGaming', 'anime_irl', 'worldnews', 'thanksimcured', 'TrueUnpopularOpinion', 'PowerGirl', 'law', 'questions', 'FavoriteCharacter', 'MurderedByWords', 'fantasywriters', 'AskReddit', 'scifiwriting', 'softmommyGF', 'comics', 'animecirclejerk', 'IDmydog', 'gentlefemdom', 'Losercity', 'trueratediscussions', 'TrollCoping', 'CasualConversation', 'ferrets', 'writingcirclejerk', 'FemBoys', 'PetsareAmazing', 'Wellthatsucks', 'Piratefolk', 'MDlb_littles', 'Damnthatsinteresting', 'pitbulls', 'writing', 'Isekai', 'atheism', 'godtiersuperpowers', 'anxietymemes', 'mommydom', 'BoomersBeingFools', 'RatchetAndClank', 'Animesuggest', 'gamingsuggestions', 'bi_irl', 'rpg_gamers', 'FunnyDogVideos', 'Debt', 'movies', 'TheEminenceInShadow', 'AraAra', 'books', 'GloomhavenDigital', 'meme', 'moviecritic', 'drawing', 'humansarespaceorcs', 'TwoBestFriendsPlay', 'RoleReversal', 'technology', 'Gloomhaven', 'hentai', 'DungeonMeshi', 'anime', 'slowcooking', 'pics', 'cosplaygirls', 'aspiememes', 'AITAH', 'spicy', 'unpopularopinion', 'maybemaybemaybe', 'worldbuilding', 'NoStupidQuestions', 'mildlyinfuriating', 'NewsOfTheStupid', 'overlord', 'littlespace', 'Megaten', 'Austin', 'television', 'analoghorror', 'ADHD', 'gaming', 'AmItheAsshole', 'blackmagicfuckery', 'dccomicscirclejerk', 'CreepyBonfire', 'CRPG', 'sillyboyclub', 'assholedesign', 'TopCharacterDesigns', 'Dinosaurs', 'CartoonNetwork', 'Dragonballsuper', 'MonsterSanctuary', 'pokemon', 'antiwork', 'AnimationDrama', 'OkayBuddyLiterallyMe', 'adhdmeme', 'PS5', 'ralsei', 'SFWmonstergirls', 'midnightsuns', 'animenews', 'videogames', 'AnimeMILFS', 'skyrim', 'writers', 'manhwa', 'MonsterHunter', 'cursedcomments', 'SonicTheHedgehog', 'horror', 'cute', 'LeopardsAteMyFace', 'calvinandhobbes', 'ShouldIbuythisgame', 'EDF', 'patientgamers', 'OnePiece', 'marvelcirclejerk', 'news', 'Dreams', 'characterdesigns'}\n"
     ]
    },
    {
     "name": "stderr",
     "output_type": "stream",
     "text": [
      "Scraping user comments:   0%|          | 26/24911 [08:10<176:51:08, 25.58s/it]"
     ]
    },
    {
     "name": "stdout",
     "output_type": "stream",
     "text": [
      "Comments saved to /Users/smutnuri/Documents/UVA/_Projects/Fall24/CBM/CBMRepo/Data/usercomments/EvilMonkeyMimic_usercomments.json\n",
      "{'hypotheticalsituation', 'whowouldwin', 'worldnews', 'Hololive', 'Askpolitics', 'books', 'AskReddit', 'WritingPrompts', 'AskACanadian', '40kLore', 'TwoSentenceHorror', 'skeptic', 'interestingasfuck', 'CasualConversation', 'FluentInFinance', 'InjusticeMobile', 'yorku', 'NoStupidQuestions', 'mildlyinfuriating', 'LeopardsAteMyFace', 'SubredditDrama', 'gamingsuggestions'}\n"
     ]
    },
    {
     "name": "stderr",
     "output_type": "stream",
     "text": [
      "Scraping user comments:   0%|          | 27/24911 [08:11<127:08:32, 18.39s/it]"
     ]
    },
    {
     "name": "stdout",
     "output_type": "stream",
     "text": [
      "Comments saved to /Users/smutnuri/Documents/UVA/_Projects/Fall24/CBM/CBMRepo/Data/usercomments/EvilPopMogeko_usercomments.json\n",
      "{'pelotoncycle', 'podcasts', 'Outlanders_ios', 'AITA_WIBTA_PUBLIC', 'homedecoratingCJ', 'Fantasy', 'entertainment', 'TwoHotTakes', 'TLCsisterwives', 'RodriguesFamilySnark', 'BestofRedditorUpdates', 'PlathvilleUncensored', 'insaneparents', 'FluentInFinance', 'sanepolitics', 'TLCUnexpected', 'WelcomeToPlathSnark', 'TeenMomOGandTeenMom2', 'audiobooks', 'blackjewelsseries', 'UpliftingNews', 'TikTokCringe', 'Melasmaskincare', 'FundieSnarkUncensored', 'pettyrevenge', 'Libertarian', 'LittlePeopleBigWorld', 'Outlanders', 'AmIOverreacting', 'fashionwomens35', 'clevercomebacks', '30PlusSkinCare', 'entitledparents', 'NISTControls', 'massachusetts', 'AskReddit', 'seekingsisterwifetlc', 'confidentlyincorrect', 'TheHandmaidsTale', 'popculture', 'mildlyinteresting', 'BooksThatFeelLikeThis', 'Casefile', 'femalefashionadvice', 'Millennials', 'vegetablegardening', 'inthenews', 'BoomersBeingFools', 'teenmom', 'workout', 'throneofglassseries', 'BORUpdates', 'SisterWives', 'HelpMeFind', 'Uveitis', 'ACOTARHulu', 'finehair', 'whatsthisrock', 'books', 'ChoosingBeggars', 'Menopause', 'moviecritic', 'SarahJMaas', 'AskOldPeople', 'NewsOfTheWeird', 'fourthwing', 'PoliticalDiscussion', 'beauty', 'AITAH', 'Zepbound', 'SalemMA', 'audible', 'NoStupidQuestions', 'Morbidforbadpeople', 'mildlyinfuriating', 'NewsOfTheStupid', 'self', 'insanepeoplefacebook', 'WorcesterMA', 'WelcomeToPlathville', 'kindergarten', 'bathandbodyworks', 'Futurology', 'AmITheAngel', 'Renovations', 'AmItheAsshole', 'AskWomenOver30', 'booksuggestions', 'conspiracy_commons', 'gardening', 'marshallsfinds', 'GenZ', 'PeriodDramas', 'boston', 'ZeroWaste', 'zillowgonewild', 'BringingUpBates', 'newengland', 'fantasyromance', 'FacebookMarketplace', 'skyrim', '1000lbsisters', 'acotar', 'HomeDecorating', 'budgetfood', 'TwoXChromosomes', 'calvinandhobbes', 'YAlit', 'facepalm'}\n"
     ]
    },
    {
     "name": "stderr",
     "output_type": "stream",
     "text": [
      "Scraping user comments:   0%|          | 28/24911 [08:35<139:06:09, 20.12s/it]"
     ]
    },
    {
     "name": "stdout",
     "output_type": "stream",
     "text": [
      "Comments saved to /Users/smutnuri/Documents/UVA/_Projects/Fall24/CBM/CBMRepo/Data/usercomments/Evilbadscary_usercomments.json\n",
      "{'truegaming', 'DeadlockTheGame', 'Unexpected', 'starcraft', 'rpg', 'Fantasy', 'thefinals', 'boardgames', 'soloboardgaming', 'Destiny', 'Diablo', 'Games', 'OnePiece', 'smashbros', 'pcmasterrace', 'XboxGamePass', 'minipainting', 'RivalsOfAether', 'FFXVI', 'AliceInChains', 'explainlikeimfive', 'Pathfinder2e', 'AskWomen', 'DMAcademy', 'LifeProTips', 'videos', 'fantasywriters', 'AskReddit', 'buildapc', 'WTF', 'interestingasfuck', 'ageofsigmar', 'changemyview', 'caseofthegoldenidol', 'LetsTalkMusic', 'japan', 'writing', 'AskScienceFiction', 'gamingsuggestions', 'neoliberal', 'DragonsDogma', 'Spokane', 'baldursgate', 'wolongfallendynasty', 'movies', 'SSBM', 'loseit', 'AskMen', 'classicalmusic', 'dndnext', 'books', 'CharacterRant', 'MechanicalKeyboards', 'Stormlight_Archive', 'josephanderson', 'TwoBestFriendsPlay', 'XWingTMG', 'Gloomhaven', 'anime', 'MultiVersus', 'pics', 'sex', 'unpopularopinion', 'Bayonetta', 'Overwatch', 'StreetFighter', 'chess', 'gaming', 'AmItheAsshole', 'Fallout', 'umineko', 'BaldursGate3', 'whowouldwin', 'visualnovels', 'Helldivers', 'RPGdesign', 'LiesOfP', 'SpidermanPS4', 'paradoxplaza', 'Music', 'RogueTraderCRPG', 'pcgaming', 'hiphopheads', 'horror', 'LivestreamFail', 'tea', 'LudwigAhgren', 'ShouldIbuythisgame', 'patientgamers', 'Nebula', 'shittygaming'}\n"
     ]
    },
    {
     "name": "stderr",
     "output_type": "stream",
     "text": [
      "Scraping user comments:   0%|          | 29/24911 [09:01<149:30:59, 21.63s/it]"
     ]
    },
    {
     "name": "stdout",
     "output_type": "stream",
     "text": [
      "Comments saved to /Users/smutnuri/Documents/UVA/_Projects/Fall24/CBM/CBMRepo/Data/usercomments/Evilknightz_usercomments.json\n",
      "{'coaxedintoasnafu', 'Gamingcirclejerk', 'youngpeopleyoutube', 'transgender', 'WhitePeopleTwitter', 'lgbt', 'Ultrakill', 'TheyCanAlwaysTell', 'PlayCoryphaeus', 'porterrobinson', 'Tyranids', 'duolingomemes', 'conservativeterrorism', 'tf_irl', 'dankchristianmemes', 'u_Eviltwin-Kisikil', 'trans', 'UnderCards', 'TeenagersButBetter', 'Uniteagainsttheright', 'GDafterDark', 'lostgeneration', 'fuckwasps', 'egg_irl', 'ftm', 'DMAcademy', 'Albertapolitics', 'EDM', 'matrix', 'actuallesbians', 'femcelgrippysockjail', 'Ibispaintx', 'clevercomebacks', 'plural', 'AskReddit', 'Warhammer40k', 'loblawsisoutofcontrol', 'Grimdank', 'Defeat_Project_2025', 'Kemetic', 'HollowKnight', 'LGBTnews', 'lobotomydash', 'FL_Studio', 'Silksong', 'atheism', 'yugioh', 'Edmonton', 'DnD', 'GirlGamers', 'Farfa', 'geometrydash', 'aiwars', 'AntifascistsofReddit', 'YuGiOhMemes', 'AskMen', 'books', 'transgendercirclejerk', 'battlecats', 'alberta', 'Portal', 'u_NicoleAiuchi', 'greenday', 'Tulpas', 'AmITheAngel', 'bonehurtingjuice', 'asktransgender', 'sillyboyclub', 'GenderAnarchy', 'SuicideWatch', 'MadeOfStyrofoam', 'grindr', 'TrollXChromosomes', 'EhBuddyHoser', 'MtF', 'okbuddygmd', 'femtanyl', 'subnautica', 'deadcells', '691', 'BatmanArkham', 'Anxiety', 'celestegame', 'traaaaaaaaaaaansbians', 'TwoXChromosomes', 'PsycheOrSike', 'Persecutionfetish', 'onguardforthee', 'traaaaaaannnnnnnnnns2'}\n"
     ]
    },
    {
     "name": "stderr",
     "output_type": "stream",
     "text": [
      "Scraping user comments:   0%|          | 30/24911 [09:27<159:06:41, 23.02s/it]"
     ]
    },
    {
     "name": "stdout",
     "output_type": "stream",
     "text": [
      "Comments saved to /Users/smutnuri/Documents/UVA/_Projects/Fall24/CBM/CBMRepo/Data/usercomments/Eviltwin-Kisikil_usercomments.json\n",
      "{'tolkienfans', 'Environmental_Careers', 'StamfordCT', 'evolution', 'TolkienArt', 'snakes', 'SimpsonsFaces', 'todayilearned', 'Denton', 'ecology', 'PrehistoricLife', 'paleonews', 'Paleoart', 'Fantasy', 'fantasywriters', 'simpsonsshitposting', 'AskReddit', 'folkmetal', 'books', 'Metal', 'oldpeoplefacebook', 'badscificovers', 'AskOuija', 'biology', 'ancientrome', 'AskFeminists', 'politics', 'dataisbeautiful', 'UrsulaKLeGuin', 'SteamedHams', 'writingcirclejerk', 'skyrim', 'fairystories', 'bioactive', 'conservation', 'geography', 'Archaeology', 'zoology', 'worldbuilding', 'animalid', 'Norse', 'reptiles', 'kingsnakes', 'writing', 'coys', 'calvinandhobbes', 'soccer', 'AskHistorians', 'chess', 'TheSimpsons', 'Prydain', 'beer', 'tortoise'}\n"
     ]
    },
    {
     "name": "stderr",
     "output_type": "stream",
     "text": [
      "Scraping user comments:   0%|          | 31/24911 [09:58<175:15:56, 25.36s/it]"
     ]
    },
    {
     "name": "stdout",
     "output_type": "stream",
     "text": [
      "Comments saved to /Users/smutnuri/Documents/UVA/_Projects/Fall24/CBM/CBMRepo/Data/usercomments/Evolving_Dore_usercomments.json\n",
      "{'TheLastAirbender', 'Eve', 'titanfall', 'suspiciouslyspecific', 'NPR', 'shittymoviedetails', 'oregon', 'FluentInFinance', 'relationship_advice', 'Games', 'subway', 'explainlikeimfive', 'pettyrevenge', 'Superstonk', 'Funnymemes', 'managers', 'vexillology', 'AllThatIsInteresting', 'AmIOverreacting', 'NonPoliticalTwitter', 'CasualUK', 'TheMajorityReport', 'clevercomebacks', 'RandomThoughts', 'ask', 'videos', 'lfg', 'helldivers2', 'Truckers', 'popculturechat', 'mapporncirclejerk', 'firstimpression', 'architecture', 'WinStupidPrizes', 'technews', 'mildlyinteresting', 'Wellthatsucks', 'aww', 'ottawa', 'madlads', 'PhaseConnect', 'Whatcouldgowrong', 'Infrastructurist', 'Steam', 'dccrpg', 'AITAH', 'dashcams', 'natureismetal', 'NoStupidQuestions', 'WatchPeopleDieInside', 'mildlyinfuriating', 'BlackPeopleTwitter', 'byebyejob', 'nottheonion', 'Futurology', 'apple', 'notliketheothergirls', 'ukraine', 'suggestmeabook', 'EnoughMuskSpam', 'interesting', 'JusticeServed', 'youtube', 'Helldivers', 'lotrmemes', 'overlanding', 'fightporn', 'missouri', 'pcgaming', 'gadgets', 'CrazyFuckingVideos', 'TwoXChromosomes', 'Law_and_Politics', 'nextfuckinglevel', 'LeopardsAteMyFace', 'California', 'interviews', 'ufc', 'TIHI', 'ColoradoOffroad', 'DIY', 'WhitePeopleTwitter', 'languagelearning', 'HolUp', 'tumblr', 'SailboatCruising', 'TheRightCantMeme', 'TaylorSwift', 'Denver', 'CuratedTumblr', 'FuckYouKaren', 'insaneparents', 'Layoffs', 'weddingshaming', 'iamatotalpieceofshit', 'Adulting', 'AbruptChaos', 'funny', 'india', 'ToiletPaperUSA', 'sailing', 'australia', 'WomenInNews', 'personalfinance', 'woodworking', 'oddlyterrifying', 'Showerthoughts', 'ThatsInsane', 'AdviceAnimals', 'SipsTea', 'wholesomememes', 'Damnthatsinteresting', 'Nebraska', 'cyberpunkred', 'therewasanattempt', 'economicCollapse', 'Xennials', '2westerneurope4u', 'NotHowGirlsWork', 'AskMen', 'GreatBritishMemes', 'books', 'olympics', 'MadeMeSmile', 'UkrainianConflict', 'moviecritic', 'shitposting', 'PBS_NewsHour', 'technology', 'jobs', 'povertyfinance', 'spicy', 'PeterExplainsTheJoke', 'PublicFreakout', 'cringepics', 'europe', 'LinkedInLunatics', 'FOXNEWS', 'Fallout', 'union', 'legal', 'work', 'antiwork', 'HistoricalCapsule', 'roadtrip', 'NatureIsFuckingLit', 'teenagers', 'law', 'dankmemes', 'Unexpected', 'rpg', 'sports', 'funnysigns', 'BeAmazed', 'VietNam', 'recruitinghell', 'Design', 'gifs', 'space', 'thedavidpakmanshow', 'Advice', 'unitedkingdom', 'pcmasterrace', 'ImTheMainCharacter', 'AskSocialScience', 'wallstreetbets', 'MurderedByWords', 'AskReddit', 'Serverlife', 'MTB', 'terriblefacebookmemes', 'nytimes', 'interestingasfuck', 'Art', 'popculture', 'LetsTalkMusic', 'Millennials', 'WFH', 'TrueReddit', 'education', 'Tinder', 'inthenews', 'atheism', 'UkraineWarVideoReport', 'tech', 'robotics', 'BoomersBeingFools', 'ADVChina', 'aviation', 'millenials', 'AskALawyer', 'todayilearned', 'Fauxmoi', 'findapath', 'OutOfTheLoop', 'Justrolledintotheshop', 'bayarea', 'Idaho', 'AskOldPeople', 'DenverCirclejerk', 'pics', 'EntitledPeople', 'ChatGPT', 'womenintech', 'scotus', 'NewsOfTheStupid', 'insanepeoplefacebook', 'liveaboard', 'ezraklein', 'IdiotsInCars', 'KidsAreFuckingStupid', 'Teachers', 'Presidents', 'abandoned', 'PS5', 'politics', 'amiugly', 'Music', 'papermoney', 'UnbelievableStuff', 'science', 'shittyfoodporn', 'blursedimages', 'OldSchoolCool', 'TrueOffMyChest', 'AskUK', 'rickandmorty', 'TheSimpsons', 'apexlegends', 'ABoringDystopia', 'MaliciousCompliance', 'texas', 'ExplainTheJoke', 'BrandNewSentence', 'entertainment', 'TwoHotTakes', 'oddlysatisfying', 'skeptic', 'Killtony', 'IAmTheMainCharacter', 'HumansBeingBros', 'meirl', 'puppy101', 'photoshopbattles', 'UpliftingNews', 'TikTokCringe', 'CustomerService', 'travel', 'CitiesSkylines', 'houstonwade', 'stupidquestions', 'texts', 'AnimalTracking', 'CFB', 'worldnews', 'technicallythetruth', 'coolguides', 'dataisbeautiful', 'tifu', 'dndhorrorstories', 'WorkReform', 'osr', 'DnD', 'iamverybadass', 'elonmusk', 'startrekmemes', 'movies', 'minnesota', 'TerrifyingAsFuck', 'sadcringe', 'dndmemes', 'meme', 'baseball', 'AskFeminists', 'GlowUps', 'Bozeman', 'canada', 'unpopularopinion', 'maybemaybemaybe', 'memes', 'rareinsults', 'KingOfTheHill', 'television', 'Symbaroum', 'tragedeigh', 'StupidFood', 'gaming', 'DenverGamers', 'Asmongold', 'golf', 'BaldursGate3', 'CyberStuck', 'lotr', 'krita', 'PoliticalHumor', 'Satisfyingasfuck', 'newhampshire', 'CryptoCurrency', 'Colorado', 'SquaredCircle', 'The_Black_Tower', 'AnimalsBeingBros', 'animenews', 'videogames', 'GrayZoneWarfare', 'MonsterHunter', 'AdviceForTeens', 'AnythingGoesNews', 'amiwrong', 'Spiderman', 'MapPorn', 'StarWarsleftymemes', 'Renters', 'h3h3productions', 'travisandtaylor', 'facepalm'}\n"
     ]
    },
    {
     "name": "stderr",
     "output_type": "stream",
     "text": [
      "Scraping user comments:   0%|          | 32/24911 [10:48<226:28:11, 32.77s/it]"
     ]
    },
    {
     "name": "stdout",
     "output_type": "stream",
     "text": [
      "Comments saved to /Users/smutnuri/Documents/UVA/_Projects/Fall24/CBM/CBMRepo/Data/usercomments/EwesDead_usercomments.json\n",
      "{'AnimalPorn', 'SluttyConfessions', 'dadjokes', 'singularity', 'Lawyertalk', 'SuicideWatch', 'Costco', 'InjuryRecovery', 'books', 'funnysigns', 'AskReddit', 'meme', 'Aged', 'philosophy', 'RoastMe', 'PunPatrol', 'oddlysatisfying', 'Jokes', 'trueratediscussions', 'janesaddiction', 'usertesting', 'u_Ewetootwo', 'BreakUps', 'NBATalk', 'amiugly', 'aiArt', 'Transformemes', 'Absurdism', '3amjokes', 'toastme', 'mildlyinteresting', 'relationship_advice', 'religion', 'exmormon', 'Wellthatsucks', 'techsupport', 'NoStupidQuestions', 'Bumble', 'writing', 'Faces', 'atheism', 'dadjoke', 'EmoScreamo', 'MentalHealthIsland', 'funny', 'badphilosophy', 'PhilosophyMemes'}\n"
     ]
    },
    {
     "name": "stderr",
     "output_type": "stream",
     "text": [
      "Scraping user comments:   0%|          | 33/24911 [11:36<258:38:41, 37.43s/it]"
     ]
    },
    {
     "name": "stdout",
     "output_type": "stream",
     "text": [
      "Comments saved to /Users/smutnuri/Documents/UVA/_Projects/Fall24/CBM/CBMRepo/Data/usercomments/Ewetootwo_usercomments.json\n",
      "{'hillsboro', 'WhitePeopleTwitter', 'Unexpected', 'UnethicalLifeProTips', 'MaliciousCompliance', 'Holdmywallet', 'AITA_WIBTA_PUBLIC', 'badlegaladvice', 'cookingforbeginners', 'BrandNewSentence', 'PortlandOR', 'Cooking', 'InterestingToRead', 'Italian', 'sports', 'uscanadaborder', 'entertainment', 'BeAmazed', 'CringeTikToks', 'Pennsylvania', 'MildlyBadDrivers', 'TwoHotTakes', 'oddlysatisfying', 'NPR', 'RiceCookerRecipes', 'skeptic', 'AmerExit', '2XPDX', 'bikecommuting', 'NormMacdonald', 'oregon', 'BestofRedditorUpdates', 'CyclePDX', 'KamalaHarris', 'CuratedTumblr', 'laundry', 'moraldilemmas', 'Portland', 'YouShouldKnow', 'help', 'COVID19_Pandemic', 'Ameristralia', 'badroommates', 'Greenpoint', 'soup', 'Louisiana', 'IDontWorkHereLady', 'CustomerService', 'TikTokCringe', 'travel', 'AITH', 'stupidquestions', 'explainlikeimfive', 'JustGuysBeingDudes', 'pettyrevenge', 'Apartmentliving', 'HerOneBag', 'funny', 'MovieSuggestions', 'AllThatIsInteresting', 'askportland', 'CookingCircleJerk', 'Neverbrokeabone', 'AmIOverreacting', 'NonPoliticalTwitter', 'BikeMechanics', 'clevercomebacks', 'worldnews', 'RedditForGrownups', 'ask', 'Costco', 'questions', 'ItalyExpat', 'MurderedByWords', 'technicallythetruth', 'massachusetts', 'AskReddit', 'portlandstate', 'popculturechat', 'CleaningTips', 'AskACanadian', 'rome', 'confidentlyincorrect', 'comics', 'oddlyspecific', 'ENGLISH', 'Concerts', 'comedyheaven', 'interestingasfuck', 'Names', 'WheelOfFortune', 'tifu', 'Flipping', 'CasualConversation', 'whatsthisplant', 'popculture', 'tonightsdinner', 'mildlyinteresting', 'ItalyTravel', 'televisionsuggestions', 'AdviceAnimals', 'WorkAdvice', 'AmericansinItaly', 'SipsTea', 'geography', 'Wellthatsucks', 'Bandnames', 'airfryer', 'Hobbies', 'Damnthatsinteresting', 'AskOldPeopleAdvice', 'Millennials', 'theview', 'petsitting', 'inthenews', 'Weird', 'dualcitizenshipnerds', 'Hulu', 'BoomersBeingFools', 'UtterlyInteresting', 'Trumpvirus', 'economicCollapse', 'thrifting', 'TheConners', 'goodnews', 'bestofinternet', 'mildyinteresting', 'GenX', 'TrueCrimePodcasts', 'BORUpdates', 'Xennials', 'me_irl', 'movies', 'theydidthemath', 'NissanDrivers', 'AskIreland', 'todayilearned', 'Fauxmoi', 'coworkerstories', 'finehair', 'confession', 'OutOfTheLoop', 'PDXBuyNothing', 'vintageads', 'books', 'bannedbooks', 'olympics', 'Older_Millennials', 'MadeMeSmile', 'steak', 'moviecritic', 'blunderyears', 'AskOldPeople', '80smusic', 'ManagedByNarcissists', 'DiWHY', 'PBS_NewsHour', 'technology', 'southpark', 'SeriousConversation', 'pics', 'hygiene', 'ChatGPT', 'AITAH', 'AmITheJerk', 'unpopularopinion', 'maybemaybemaybe', 'onionheadlines', 'AskWomenOver50', 'memes', 'NoStupidQuestions', 'mildlyinfuriating', 'NewsOfTheStupid', 'BlackPeopleTwitter', 'woahthatsinteresting', 'LiveFromNewYork', 'johnoliver', 'CosmopolitanNews', 'WorcesterMA', 'self', 'Comebacks', 'fuckcars', 'whatstheword', 'Documentaries', 'television', 'nottheonion', 'SameGrassButGreener', 'USNewsHub', 'tragedeigh', 'Theatre', 'AmItheAsshole', 'Bumperstickers', 'ClassicRock', 'offbeat', 'DailyShow', 'juresanguinis', 'stateofMN', 'GenZ', 'candy', 'TeslaCam', 'whatismycookiecutter', 'Teachers', 'interesting', 'work', 'OhNoConsequences', 'Urbanism', 'politics', 'HistoricalCapsule', 'words', 'miband', 'japanlife', 'science', 'gadgets', 'CaminoDeSantiago', 'WeirdWings', 'AskWomenOver60', 'AnythingGoesNews', 'MapPorn', 'TwoXChromosomes', 'ExpectationVsReality', 'nextfuckinglevel', 'ComfortLevelPod', 'AbsoluteUnits', 'bridezillas', 'answers', 'Suburbanhell', 'PortlandBooks', 'Productivitycafe', 'news', 'law'}\n"
     ]
    },
    {
     "name": "stderr",
     "output_type": "stream",
     "text": [
      "Scraping user comments:   0%|          | 34/24911 [12:26<284:19:53, 41.15s/it]"
     ]
    },
    {
     "name": "stdout",
     "output_type": "stream",
     "text": [
      "Comments saved to /Users/smutnuri/Documents/UVA/_Projects/Fall24/CBM/CBMRepo/Data/usercomments/Ex-zaviera_usercomments.json\n",
      "{'MensLib', 'AmItheAsshole', 'dating_advice', 'booksuggestions', 'WhitePeopleTwitter', 'BudgetAudiophile', 'datingoverforty', 'AskWomenOver30', 'audiophile', 'DesignPorn', 'ask', 'TrueUnpopularOpinion', 'listeningspaces', 'Fantasy', 'DivorcedDads', 'books', 'DesignMyRoom', 'AskReddit', 'audiophilemusic', 'mensfashion', 'malefashionadvice', 'meme', 'CleaningTips', 'plantfi', 'indie_rock', 'TIdaL', 'hometheater', 'PurplePillDebate', 'ENGLISH', 'antiwork', 'StereoAdvice', 'psychologystudents', 'vinyl', 'AskFeminists', 'amiugly', 'politics', 'Feminism', 'thepassportbros', 'AskMenOver30', 'turntables', 'bravia', 'dating', 'headphones', 'Nicegirls', 'MenAndFemales', 'relationship_advice', 'meirl', 'unpopularopinion', 'AITAH', 'infj', 'BookDiscussions', 'NoStupidQuestions', 'NahOPwasrightfuckthis', 'mildlyinfuriating', 'amiwrong', 'woahthatsinteresting', 'menwritingwomen', 'malelivingspace', 'TikTokCringe', 'socialskills', 'truerateme', 'midjourney', 'trueratecelebrities', 'OkCupid', 'facepalm'}\n"
     ]
    },
    {
     "name": "stderr",
     "output_type": "stream",
     "text": [
      "Scraping user comments:   0%|          | 35/24911 [12:54<256:53:38, 37.18s/it]"
     ]
    },
    {
     "name": "stdout",
     "output_type": "stream",
     "text": [
      "Comments saved to /Users/smutnuri/Documents/UVA/_Projects/Fall24/CBM/CBMRepo/Data/usercomments/ExPerfectionist_usercomments.json\n",
      "{'DeepFuckingValue', 'BruceSpringsteen', 'cinematography', 'StarWarsCirclejerk', 'Screenwriting', 'thrillems', 'ReformJews', 'JoeRogan', 'marvelstudios', 'scriptwriting', 'ToddintheShadow', 'fanedits', 'agedlikemilk', 'Moviesinthemaking', 'shittymoviedetails', 'NormMacdonald', 'punk', 'davinciresolve', 'cormacmccarthy', 'FTMMen', 'bobdylan', 'startrek', 'chicago', 'comicbookmovies', 'TikTokCringe', 'Pizza', 'raimimemes', 'Avengers', 'Funnymemes', 'MovieSuggestions', 'matrix', 'fantanoforever', 'shittytattoos', 'clevercomebacks', 'flicks', 'A7siii', 'StarWars', 'Airpodsmax', 'PropagandaPosters', 'streetphotography', 'saltierthancrait', '4kbluray', 'trueratediscussions', 'interestingasfuck', 'JurassicPark', 'architecture', 'MoviePosterPorn', 'slasherfilms', 'AdviceAnimals', 'mildlyinteresting', 'Conservative', 'SipsTea', 'Picard', 'criterion', 'Millennials', 'Letterboxd', 'therewasanattempt', 'TrueFilm', 'FantasticFour', 'doctorwho', 'MovieLeaksAndRumors', 'KendrickLamar', 'movies', 'MadMax', 'bladerunner', 'CineShots', 'blankies', 'PeacemakerShow', 'books', 'graphic_design', 'ContraPoints', 'moviecritic', 'Cinema', 'HBOMAX', 'technology', 'ChristopherNolan', 'pics', 'Marvel', 'soundtracks', 'NoStupidQuestions', 'scotus', 'rareinsults', 'boutiquebluray', 'ebert', 'saltierthankrayt', 'television', 'nottheonion', 'Thatsabooklight', 'Bluray', 'oscarrace', 'colorists', 'systemshock', 'FIlm', 'Metroid', 'logodesign', 'GenZ', 'andor', 'typography', 'HellBoy', 'FargoTV', 'psychedelicrock', 'Presidents', 'BatmanCapedCrusader', 'AbsurdMovies', 'Filmmakers', 'politics', 'okbuddycinephile', 'macgaming', 'kungfucinema', 'GODZILLA', 'cowboybebop', 'horror', 'malelivingspace', 'TheBigPicture', 'ExpectationVsReality', 'Doom', 'nextfuckinglevel', 'GeeksGamersCommunity', 'Terminator', 'batman', 'facepalm'}\n"
     ]
    },
    {
     "name": "stderr",
     "output_type": "stream",
     "text": [
      "Scraping user comments:   0%|          | 36/24911 [13:24<241:42:33, 34.98s/it]"
     ]
    },
    {
     "name": "stdout",
     "output_type": "stream",
     "text": [
      "Comments saved to /Users/smutnuri/Documents/UVA/_Projects/Fall24/CBM/CBMRepo/Data/usercomments/Ex_Hedgehog_usercomments.json\n",
      "{'books', 'literature', 'cormacmccarthy', 'okc', 'classicliterature', 'eindhoven'}\n"
     ]
    },
    {
     "name": "stderr",
     "output_type": "stream",
     "text": [
      "Scraping user comments:   0%|          | 37/24911 [13:26<173:32:22, 25.12s/it]"
     ]
    },
    {
     "name": "stdout",
     "output_type": "stream",
     "text": [
      "Comments saved to /Users/smutnuri/Documents/UVA/_Projects/Fall24/CBM/CBMRepo/Data/usercomments/Exact-Cockroach-8724_usercomments.json\n",
      "{'LifeProTips', 'languagelearning', 'CatsBeingAdorable', 'PDFgear', 'books', 'AskReddit', 'flowers', 'drawing', 'woodworking', 'PDFfiles', 'pics', 'ChatPDF', 'macapps', 'mildlyinfuriating', 'Awww', 'apps', 'aww', 'ThroughYourEyes_pics', 'pdf'}\n"
     ]
    },
    {
     "name": "stderr",
     "output_type": "stream",
     "text": [
      "Scraping user comments:   0%|          | 38/24911 [13:27<124:50:50, 18.07s/it]"
     ]
    },
    {
     "name": "stdout",
     "output_type": "stream",
     "text": [
      "Comments saved to /Users/smutnuri/Documents/UVA/_Projects/Fall24/CBM/CBMRepo/Data/usercomments/Exact_Arrival_728_usercomments.json\n",
      "{'mildlyinfuriating', '1FirstCashAdvance', 'books', 'literature', 'meme', 'PlateauRepasDuCrous', 'madlads', 'Frugal', 'meirl', 'KidsAreFuckingStupid', 'personalfinance', 'Funnymemes', 'Cooking', 'OldBooks', 'funny', 'Damnthatsinteresting'}\n"
     ]
    },
    {
     "name": "stderr",
     "output_type": "stream",
     "text": [
      "Scraping user comments:   0%|          | 39/24911 [13:29<91:50:03, 13.29s/it] "
     ]
    },
    {
     "name": "stdout",
     "output_type": "stream",
     "text": [
      "Comments saved to /Users/smutnuri/Documents/UVA/_Projects/Fall24/CBM/CBMRepo/Data/usercomments/Exact_Swordfish5241_usercomments.json\n",
      "{'LoveIsBlindOnNetflix', 'AmItheAsshole', 'HistoricalRomance', 'booksuggestions', 'Mommit', 'AmIOverreacting', 'NonPoliticalTwitter', 'BaldursGate3', 'AutismInWomen', 'TrueUnpopularOpinion', 'NotHowGirlsWork', 'meirl', 'namenerds', 'BackToCollege', 'whatismycookiecutter', 'books', 'Fantasy', 'AskReddit', 'ESCastles', 'CozyGamers', 'moviecritic', 'DreamlightValley', 'Bridgerton', 'TalesFromRetail', 'SarahJMaas', 'renfaire', 'TwoHotTakes', 'MarriedAtFirstSight', 'DisneyWorld', 'bluey', 'BridgertonNetflix', 'disneyprincess', 'happilyOAD', 'greysanatomy', 'fantasyromance', 'Showerthoughts', 'videogames', 'stevenuniverse', 'numerology', 'dating', 'oneanddone', 'LoveIsBlindNetflix', 'DanielTigerConspiracy', 'AITAH', 'workingmoms', 'StardewValley', 'acotar', 'dropout', 'Mobpsycho100', 'relationship_advice', 'labcreateddiamonds', 'DnD', 'musicals', 'Bridgerton_BookClub', 'YouOnLifetime', 'Damnthatsinteresting', 'NoStupidQuestions', 'Frozen', 'Animesuggest', 'amiwrong', 'weddingshaming', 'weddingdress', 'NotAnotherDnDPodcast', 'PolinBridgerton', 'TrueOffMyChest', 'Dimension20', 'DungeonsAndDragons', 'RomanceBooks', 'Seaofthieves', 'sailormoon', 'EngagementRings', 'foodhacks', 'smallbusiness', 'tragedeigh'}\n"
     ]
    },
    {
     "name": "stderr",
     "output_type": "stream",
     "text": [
      "Scraping user comments:   0%|          | 39/24911 [13:48<146:43:06, 21.24s/it]\n"
     ]
    },
    {
     "ename": "TooManyRequests",
     "evalue": "received 429 HTTP response",
     "output_type": "error",
     "traceback": [
      "\u001b[0;31m---------------------------------------------------------------------------\u001b[0m",
      "\u001b[0;31mTooManyRequests\u001b[0m                           Traceback (most recent call last)",
      "Cell \u001b[0;32mIn[8], line 2\u001b[0m\n\u001b[1;32m      1\u001b[0m LIMIT \u001b[38;5;241m=\u001b[39m \u001b[38;5;28;01mNone\u001b[39;00m\n\u001b[0;32m----> 2\u001b[0m \u001b[43mpull_user_comments\u001b[49m\u001b[43m(\u001b[49m\u001b[43musers_list\u001b[49m\u001b[43m[\u001b[49m\u001b[38;5;241;43m5000\u001b[39;49m\u001b[43m:\u001b[49m\u001b[43m]\u001b[49m\u001b[43m,\u001b[49m\u001b[43m \u001b[49m\u001b[43msubreddits\u001b[49m\u001b[43m,\u001b[49m\u001b[43m \u001b[49m\u001b[43mUSERCOMM_SAVEPATH\u001b[49m\u001b[43m,\u001b[49m\u001b[43m \u001b[49m\u001b[43mlimit\u001b[49m\u001b[38;5;241;43m=\u001b[39;49m\u001b[43mLIMIT\u001b[49m\u001b[43m)\u001b[49m\n",
      "Cell \u001b[0;32mIn[6], line 7\u001b[0m, in \u001b[0;36mpull_user_comments\u001b[0;34m(userslist, subreddits, save_basepath, limit)\u001b[0m\n\u001b[1;32m      4\u001b[0m save_file \u001b[38;5;241m=\u001b[39m \u001b[38;5;124mf\u001b[39m\u001b[38;5;124m'\u001b[39m\u001b[38;5;132;01m{\u001b[39;00muser\u001b[38;5;132;01m}\u001b[39;00m\u001b[38;5;124m_usercomments.json\u001b[39m\u001b[38;5;124m'\u001b[39m\n\u001b[1;32m      5\u001b[0m save_path \u001b[38;5;241m=\u001b[39m os\u001b[38;5;241m.\u001b[39mpath\u001b[38;5;241m.\u001b[39mjoin(save_basepath, save_file)\n\u001b[0;32m----> 7\u001b[0m posts \u001b[38;5;241m=\u001b[39m \u001b[43mscraper\u001b[49m\u001b[38;5;241;43m.\u001b[39;49m\u001b[43mscrape_user_political_comments\u001b[49m\u001b[43m(\u001b[49m\u001b[43muser\u001b[49m\u001b[43m,\u001b[49m\u001b[43m \u001b[49m\u001b[43msubreddits\u001b[49m\u001b[43m,\u001b[49m\u001b[43m \u001b[49m\u001b[43mlimit\u001b[49m\u001b[38;5;241;43m=\u001b[39;49m\u001b[43mlimit\u001b[49m\u001b[43m)\u001b[49m\n\u001b[1;32m      9\u001b[0m \u001b[38;5;28;01mwith\u001b[39;00m \u001b[38;5;28mopen\u001b[39m(save_path, \u001b[38;5;124m\"\u001b[39m\u001b[38;5;124mw\u001b[39m\u001b[38;5;124m\"\u001b[39m) \u001b[38;5;28;01mas\u001b[39;00m f:\n\u001b[1;32m     10\u001b[0m     json\u001b[38;5;241m.\u001b[39mdump(posts, f, indent\u001b[38;5;241m=\u001b[39m\u001b[38;5;241m4\u001b[39m)\n",
      "File \u001b[0;32m~/Documents/UVA/_Projects/Fall24/CBM/CBMRepo/src/Reddit Scraper/reddit_scraper.py:63\u001b[0m, in \u001b[0;36mRedditScraper.scrape_user_political_comments\u001b[0;34m(self, username, subreddits, limit)\u001b[0m\n\u001b[1;32m     60\u001b[0m \u001b[38;5;28mprint\u001b[39m(\u001b[38;5;28mset\u001b[39m([comment\u001b[38;5;241m.\u001b[39msubreddit\u001b[38;5;241m.\u001b[39mdisplay_name \u001b[38;5;28;01mfor\u001b[39;00m comment \u001b[38;5;129;01min\u001b[39;00m user\u001b[38;5;241m.\u001b[39mcomments\u001b[38;5;241m.\u001b[39mnew(limit\u001b[38;5;241m=\u001b[39mlimit)]))\n\u001b[1;32m     62\u001b[0m \u001b[38;5;66;03m# Iterate through the user's comments\u001b[39;00m\n\u001b[0;32m---> 63\u001b[0m \u001b[43m\u001b[49m\u001b[38;5;28;43;01mfor\u001b[39;49;00m\u001b[43m \u001b[49m\u001b[43mcomment\u001b[49m\u001b[43m \u001b[49m\u001b[38;5;129;43;01min\u001b[39;49;00m\u001b[43m \u001b[49m\u001b[43muser\u001b[49m\u001b[38;5;241;43m.\u001b[39;49m\u001b[43mcomments\u001b[49m\u001b[38;5;241;43m.\u001b[39;49m\u001b[43mnew\u001b[49m\u001b[43m(\u001b[49m\u001b[43mlimit\u001b[49m\u001b[38;5;241;43m=\u001b[39;49m\u001b[43mlimit\u001b[49m\u001b[43m)\u001b[49m\u001b[43m:\u001b[49m\u001b[43m  \u001b[49m\u001b[38;5;66;43;03m# `limit=None` fetches all comments\u001b[39;49;00m\n\u001b[1;32m     64\u001b[0m \u001b[43m    \u001b[49m\u001b[38;5;66;43;03m# Filter by political subreddits\u001b[39;49;00m\n\u001b[1;32m     65\u001b[0m \u001b[43m    \u001b[49m\u001b[38;5;28;43;01mif\u001b[39;49;00m\u001b[43m \u001b[49m\u001b[43mcomment\u001b[49m\u001b[38;5;241;43m.\u001b[39;49m\u001b[43msubreddit\u001b[49m\u001b[38;5;241;43m.\u001b[39;49m\u001b[43mdisplay_name\u001b[49m\u001b[43m \u001b[49m\u001b[38;5;129;43;01min\u001b[39;49;00m\u001b[43m \u001b[49m\u001b[43msubreddits\u001b[49m\u001b[43m:\u001b[49m\n\u001b[1;32m     66\u001b[0m \u001b[43m        \u001b[49m\u001b[38;5;66;43;03m# Collect comment data\u001b[39;49;00m\n\u001b[1;32m     67\u001b[0m \u001b[43m        \u001b[49m\u001b[43mcomment_info\u001b[49m\u001b[43m \u001b[49m\u001b[38;5;241;43m=\u001b[39;49m\u001b[43m \u001b[49m\u001b[43m{\u001b[49m\n\u001b[1;32m     68\u001b[0m \u001b[43m            \u001b[49m\u001b[38;5;124;43m\"\u001b[39;49m\u001b[38;5;124;43mcomment_id\u001b[39;49m\u001b[38;5;124;43m\"\u001b[39;49m\u001b[43m:\u001b[49m\u001b[43m \u001b[49m\u001b[43mcomment\u001b[49m\u001b[38;5;241;43m.\u001b[39;49m\u001b[43mid\u001b[49m\u001b[43m,\u001b[49m\n\u001b[1;32m     69\u001b[0m \u001b[43m            \u001b[49m\u001b[38;5;124;43m\"\u001b[39;49m\u001b[38;5;124;43msubreddit\u001b[39;49m\u001b[38;5;124;43m\"\u001b[39;49m\u001b[43m:\u001b[49m\u001b[43m \u001b[49m\u001b[43mcomment\u001b[49m\u001b[38;5;241;43m.\u001b[39;49m\u001b[43msubreddit\u001b[49m\u001b[38;5;241;43m.\u001b[39;49m\u001b[43mdisplay_name\u001b[49m\u001b[43m,\u001b[49m\n\u001b[0;32m   (...)\u001b[0m\n\u001b[1;32m     74\u001b[0m \u001b[43m            \u001b[49m\u001b[38;5;124;43m\"\u001b[39;49m\u001b[38;5;124;43mparent_id\u001b[39;49m\u001b[38;5;124;43m\"\u001b[39;49m\u001b[43m:\u001b[49m\u001b[43m \u001b[49m\u001b[43mcomment\u001b[49m\u001b[38;5;241;43m.\u001b[39;49m\u001b[43mparent_id\u001b[49m\u001b[43m  \u001b[49m\u001b[38;5;66;43;03m# ID of the comment or post this comment replies to\u001b[39;49;00m\n\u001b[1;32m     75\u001b[0m \u001b[43m        \u001b[49m\u001b[43m}\u001b[49m\n",
      "File \u001b[0;32m~/opt/anaconda3/envs/cbmproj/lib/python3.12/site-packages/praw/models/listing/generator.py:66\u001b[0m, in \u001b[0;36mListingGenerator.__next__\u001b[0;34m(self)\u001b[0m\n\u001b[1;32m     63\u001b[0m     \u001b[38;5;28;01mraise\u001b[39;00m \u001b[38;5;167;01mStopIteration\u001b[39;00m\n\u001b[1;32m     65\u001b[0m \u001b[38;5;28;01mif\u001b[39;00m \u001b[38;5;28mself\u001b[39m\u001b[38;5;241m.\u001b[39m_listing \u001b[38;5;129;01mis\u001b[39;00m \u001b[38;5;28;01mNone\u001b[39;00m \u001b[38;5;129;01mor\u001b[39;00m \u001b[38;5;28mself\u001b[39m\u001b[38;5;241m.\u001b[39m_list_index \u001b[38;5;241m>\u001b[39m\u001b[38;5;241m=\u001b[39m \u001b[38;5;28mlen\u001b[39m(\u001b[38;5;28mself\u001b[39m\u001b[38;5;241m.\u001b[39m_listing):\n\u001b[0;32m---> 66\u001b[0m     \u001b[38;5;28;43mself\u001b[39;49m\u001b[38;5;241;43m.\u001b[39;49m\u001b[43m_next_batch\u001b[49m\u001b[43m(\u001b[49m\u001b[43m)\u001b[49m\n\u001b[1;32m     68\u001b[0m \u001b[38;5;28mself\u001b[39m\u001b[38;5;241m.\u001b[39m_list_index \u001b[38;5;241m+\u001b[39m\u001b[38;5;241m=\u001b[39m \u001b[38;5;241m1\u001b[39m\n\u001b[1;32m     69\u001b[0m \u001b[38;5;28mself\u001b[39m\u001b[38;5;241m.\u001b[39myielded \u001b[38;5;241m+\u001b[39m\u001b[38;5;241m=\u001b[39m \u001b[38;5;241m1\u001b[39m\n",
      "File \u001b[0;32m~/opt/anaconda3/envs/cbmproj/lib/python3.12/site-packages/praw/models/listing/generator.py:90\u001b[0m, in \u001b[0;36mListingGenerator._next_batch\u001b[0;34m(self)\u001b[0m\n\u001b[1;32m     87\u001b[0m \u001b[38;5;28;01mif\u001b[39;00m \u001b[38;5;28mself\u001b[39m\u001b[38;5;241m.\u001b[39m_exhausted:\n\u001b[1;32m     88\u001b[0m     \u001b[38;5;28;01mraise\u001b[39;00m \u001b[38;5;167;01mStopIteration\u001b[39;00m\n\u001b[0;32m---> 90\u001b[0m \u001b[38;5;28mself\u001b[39m\u001b[38;5;241m.\u001b[39m_listing \u001b[38;5;241m=\u001b[39m \u001b[38;5;28;43mself\u001b[39;49m\u001b[38;5;241;43m.\u001b[39;49m\u001b[43m_reddit\u001b[49m\u001b[38;5;241;43m.\u001b[39;49m\u001b[43mget\u001b[49m\u001b[43m(\u001b[49m\u001b[38;5;28;43mself\u001b[39;49m\u001b[38;5;241;43m.\u001b[39;49m\u001b[43murl\u001b[49m\u001b[43m,\u001b[49m\u001b[43m \u001b[49m\u001b[43mparams\u001b[49m\u001b[38;5;241;43m=\u001b[39;49m\u001b[38;5;28;43mself\u001b[39;49m\u001b[38;5;241;43m.\u001b[39;49m\u001b[43mparams\u001b[49m\u001b[43m)\u001b[49m\n\u001b[1;32m     91\u001b[0m \u001b[38;5;28mself\u001b[39m\u001b[38;5;241m.\u001b[39m_listing \u001b[38;5;241m=\u001b[39m \u001b[38;5;28mself\u001b[39m\u001b[38;5;241m.\u001b[39m_extract_sublist(\u001b[38;5;28mself\u001b[39m\u001b[38;5;241m.\u001b[39m_listing)\n\u001b[1;32m     92\u001b[0m \u001b[38;5;28mself\u001b[39m\u001b[38;5;241m.\u001b[39m_list_index \u001b[38;5;241m=\u001b[39m \u001b[38;5;241m0\u001b[39m\n",
      "File \u001b[0;32m~/opt/anaconda3/envs/cbmproj/lib/python3.12/site-packages/praw/util/deprecate_args.py:46\u001b[0m, in \u001b[0;36m_deprecate_args.<locals>.wrapper.<locals>.wrapped\u001b[0;34m(*args, **kwargs)\u001b[0m\n\u001b[1;32m     39\u001b[0m     arg_string \u001b[38;5;241m=\u001b[39m _generate_arg_string(_old_args[: \u001b[38;5;28mlen\u001b[39m(args)])\n\u001b[1;32m     40\u001b[0m     warn(\n\u001b[1;32m     41\u001b[0m         \u001b[38;5;124mf\u001b[39m\u001b[38;5;124m\"\u001b[39m\u001b[38;5;124mPositional arguments for \u001b[39m\u001b[38;5;132;01m{\u001b[39;00mfunc\u001b[38;5;241m.\u001b[39m\u001b[38;5;18m__qualname__\u001b[39m\u001b[38;5;132;01m!r}\u001b[39;00m\u001b[38;5;124m will no longer be\u001b[39m\u001b[38;5;124m\"\u001b[39m\n\u001b[1;32m     42\u001b[0m         \u001b[38;5;124mf\u001b[39m\u001b[38;5;124m\"\u001b[39m\u001b[38;5;124m supported in PRAW 8.\u001b[39m\u001b[38;5;130;01m\\n\u001b[39;00m\u001b[38;5;124mCall this function with \u001b[39m\u001b[38;5;132;01m{\u001b[39;00marg_string\u001b[38;5;132;01m}\u001b[39;00m\u001b[38;5;124m.\u001b[39m\u001b[38;5;124m\"\u001b[39m,\n\u001b[1;32m     43\u001b[0m         \u001b[38;5;167;01mDeprecationWarning\u001b[39;00m,\n\u001b[1;32m     44\u001b[0m         stacklevel\u001b[38;5;241m=\u001b[39m\u001b[38;5;241m2\u001b[39m,\n\u001b[1;32m     45\u001b[0m     )\n\u001b[0;32m---> 46\u001b[0m \u001b[38;5;28;01mreturn\u001b[39;00m \u001b[43mfunc\u001b[49m\u001b[43m(\u001b[49m\u001b[38;5;241;43m*\u001b[39;49m\u001b[38;5;241;43m*\u001b[39;49m\u001b[38;5;28;43mdict\u001b[39;49m\u001b[43m(\u001b[49m\u001b[38;5;28;43mzip\u001b[39;49m\u001b[43m(\u001b[49m\u001b[43m_old_args\u001b[49m\u001b[43m,\u001b[49m\u001b[43m \u001b[49m\u001b[43margs\u001b[49m\u001b[43m)\u001b[49m\u001b[43m)\u001b[49m\u001b[43m,\u001b[49m\u001b[43m \u001b[49m\u001b[38;5;241;43m*\u001b[39;49m\u001b[38;5;241;43m*\u001b[39;49m\u001b[43mkwargs\u001b[49m\u001b[43m)\u001b[49m\n",
      "File \u001b[0;32m~/opt/anaconda3/envs/cbmproj/lib/python3.12/site-packages/praw/reddit.py:731\u001b[0m, in \u001b[0;36mReddit.get\u001b[0;34m(self, path, params)\u001b[0m\n\u001b[1;32m    718\u001b[0m \u001b[38;5;129m@_deprecate_args\u001b[39m(\u001b[38;5;124m\"\u001b[39m\u001b[38;5;124mpath\u001b[39m\u001b[38;5;124m\"\u001b[39m, \u001b[38;5;124m\"\u001b[39m\u001b[38;5;124mparams\u001b[39m\u001b[38;5;124m\"\u001b[39m)\n\u001b[1;32m    719\u001b[0m \u001b[38;5;28;01mdef\u001b[39;00m \u001b[38;5;21mget\u001b[39m(\n\u001b[1;32m    720\u001b[0m     \u001b[38;5;28mself\u001b[39m,\n\u001b[0;32m   (...)\u001b[0m\n\u001b[1;32m    723\u001b[0m     params: \u001b[38;5;28mstr\u001b[39m \u001b[38;5;241m|\u001b[39m \u001b[38;5;28mdict\u001b[39m[\u001b[38;5;28mstr\u001b[39m, \u001b[38;5;28mstr\u001b[39m \u001b[38;5;241m|\u001b[39m \u001b[38;5;28mint\u001b[39m] \u001b[38;5;241m|\u001b[39m \u001b[38;5;28;01mNone\u001b[39;00m \u001b[38;5;241m=\u001b[39m \u001b[38;5;28;01mNone\u001b[39;00m,\n\u001b[1;32m    724\u001b[0m ) \u001b[38;5;241m-\u001b[39m\u001b[38;5;241m>\u001b[39m Any:\n\u001b[1;32m    725\u001b[0m \u001b[38;5;250m    \u001b[39m\u001b[38;5;124;03m\"\"\"Return parsed objects returned from a GET request to ``path``.\u001b[39;00m\n\u001b[1;32m    726\u001b[0m \n\u001b[1;32m    727\u001b[0m \u001b[38;5;124;03m    :param path: The path to fetch.\u001b[39;00m\n\u001b[1;32m    728\u001b[0m \u001b[38;5;124;03m    :param params: The query parameters to add to the request (default: ``None``).\u001b[39;00m\n\u001b[1;32m    729\u001b[0m \n\u001b[1;32m    730\u001b[0m \u001b[38;5;124;03m    \"\"\"\u001b[39;00m\n\u001b[0;32m--> 731\u001b[0m     \u001b[38;5;28;01mreturn\u001b[39;00m \u001b[38;5;28;43mself\u001b[39;49m\u001b[38;5;241;43m.\u001b[39;49m\u001b[43m_objectify_request\u001b[49m\u001b[43m(\u001b[49m\u001b[43mmethod\u001b[49m\u001b[38;5;241;43m=\u001b[39;49m\u001b[38;5;124;43m\"\u001b[39;49m\u001b[38;5;124;43mGET\u001b[39;49m\u001b[38;5;124;43m\"\u001b[39;49m\u001b[43m,\u001b[49m\u001b[43m \u001b[49m\u001b[43mparams\u001b[49m\u001b[38;5;241;43m=\u001b[39;49m\u001b[43mparams\u001b[49m\u001b[43m,\u001b[49m\u001b[43m \u001b[49m\u001b[43mpath\u001b[49m\u001b[38;5;241;43m=\u001b[39;49m\u001b[43mpath\u001b[49m\u001b[43m)\u001b[49m\n",
      "File \u001b[0;32m~/opt/anaconda3/envs/cbmproj/lib/python3.12/site-packages/praw/reddit.py:514\u001b[0m, in \u001b[0;36mReddit._objectify_request\u001b[0;34m(self, data, files, json, method, params, path)\u001b[0m\n\u001b[1;32m    488\u001b[0m \u001b[38;5;28;01mdef\u001b[39;00m \u001b[38;5;21m_objectify_request\u001b[39m(\n\u001b[1;32m    489\u001b[0m     \u001b[38;5;28mself\u001b[39m,\n\u001b[1;32m    490\u001b[0m     \u001b[38;5;241m*\u001b[39m,\n\u001b[0;32m   (...)\u001b[0m\n\u001b[1;32m    496\u001b[0m     path: \u001b[38;5;28mstr\u001b[39m \u001b[38;5;241m=\u001b[39m \u001b[38;5;124m\"\u001b[39m\u001b[38;5;124m\"\u001b[39m,\n\u001b[1;32m    497\u001b[0m ) \u001b[38;5;241m-\u001b[39m\u001b[38;5;241m>\u001b[39m Any:\n\u001b[1;32m    498\u001b[0m \u001b[38;5;250m    \u001b[39m\u001b[38;5;124;03m\"\"\"Run a request through the ``Objector``.\u001b[39;00m\n\u001b[1;32m    499\u001b[0m \n\u001b[1;32m    500\u001b[0m \u001b[38;5;124;03m    :param data: Dictionary, bytes, or file-like object to send in the body of the\u001b[39;00m\n\u001b[0;32m   (...)\u001b[0m\n\u001b[1;32m    511\u001b[0m \n\u001b[1;32m    512\u001b[0m \u001b[38;5;124;03m    \"\"\"\u001b[39;00m\n\u001b[1;32m    513\u001b[0m     \u001b[38;5;28;01mreturn\u001b[39;00m \u001b[38;5;28mself\u001b[39m\u001b[38;5;241m.\u001b[39m_objector\u001b[38;5;241m.\u001b[39mobjectify(\n\u001b[0;32m--> 514\u001b[0m         \u001b[38;5;28;43mself\u001b[39;49m\u001b[38;5;241;43m.\u001b[39;49m\u001b[43mrequest\u001b[49m\u001b[43m(\u001b[49m\n\u001b[1;32m    515\u001b[0m \u001b[43m            \u001b[49m\u001b[43mdata\u001b[49m\u001b[38;5;241;43m=\u001b[39;49m\u001b[43mdata\u001b[49m\u001b[43m,\u001b[49m\n\u001b[1;32m    516\u001b[0m \u001b[43m            \u001b[49m\u001b[43mfiles\u001b[49m\u001b[38;5;241;43m=\u001b[39;49m\u001b[43mfiles\u001b[49m\u001b[43m,\u001b[49m\n\u001b[1;32m    517\u001b[0m \u001b[43m            \u001b[49m\u001b[43mjson\u001b[49m\u001b[38;5;241;43m=\u001b[39;49m\u001b[43mjson\u001b[49m\u001b[43m,\u001b[49m\n\u001b[1;32m    518\u001b[0m \u001b[43m            \u001b[49m\u001b[43mmethod\u001b[49m\u001b[38;5;241;43m=\u001b[39;49m\u001b[43mmethod\u001b[49m\u001b[43m,\u001b[49m\n\u001b[1;32m    519\u001b[0m \u001b[43m            \u001b[49m\u001b[43mparams\u001b[49m\u001b[38;5;241;43m=\u001b[39;49m\u001b[43mparams\u001b[49m\u001b[43m,\u001b[49m\n\u001b[1;32m    520\u001b[0m \u001b[43m            \u001b[49m\u001b[43mpath\u001b[49m\u001b[38;5;241;43m=\u001b[39;49m\u001b[43mpath\u001b[49m\u001b[43m,\u001b[49m\n\u001b[1;32m    521\u001b[0m \u001b[43m        \u001b[49m\u001b[43m)\u001b[49m\n\u001b[1;32m    522\u001b[0m     )\n",
      "File \u001b[0;32m~/opt/anaconda3/envs/cbmproj/lib/python3.12/site-packages/praw/util/deprecate_args.py:46\u001b[0m, in \u001b[0;36m_deprecate_args.<locals>.wrapper.<locals>.wrapped\u001b[0;34m(*args, **kwargs)\u001b[0m\n\u001b[1;32m     39\u001b[0m     arg_string \u001b[38;5;241m=\u001b[39m _generate_arg_string(_old_args[: \u001b[38;5;28mlen\u001b[39m(args)])\n\u001b[1;32m     40\u001b[0m     warn(\n\u001b[1;32m     41\u001b[0m         \u001b[38;5;124mf\u001b[39m\u001b[38;5;124m\"\u001b[39m\u001b[38;5;124mPositional arguments for \u001b[39m\u001b[38;5;132;01m{\u001b[39;00mfunc\u001b[38;5;241m.\u001b[39m\u001b[38;5;18m__qualname__\u001b[39m\u001b[38;5;132;01m!r}\u001b[39;00m\u001b[38;5;124m will no longer be\u001b[39m\u001b[38;5;124m\"\u001b[39m\n\u001b[1;32m     42\u001b[0m         \u001b[38;5;124mf\u001b[39m\u001b[38;5;124m\"\u001b[39m\u001b[38;5;124m supported in PRAW 8.\u001b[39m\u001b[38;5;130;01m\\n\u001b[39;00m\u001b[38;5;124mCall this function with \u001b[39m\u001b[38;5;132;01m{\u001b[39;00marg_string\u001b[38;5;132;01m}\u001b[39;00m\u001b[38;5;124m.\u001b[39m\u001b[38;5;124m\"\u001b[39m,\n\u001b[1;32m     43\u001b[0m         \u001b[38;5;167;01mDeprecationWarning\u001b[39;00m,\n\u001b[1;32m     44\u001b[0m         stacklevel\u001b[38;5;241m=\u001b[39m\u001b[38;5;241m2\u001b[39m,\n\u001b[1;32m     45\u001b[0m     )\n\u001b[0;32m---> 46\u001b[0m \u001b[38;5;28;01mreturn\u001b[39;00m \u001b[43mfunc\u001b[49m\u001b[43m(\u001b[49m\u001b[38;5;241;43m*\u001b[39;49m\u001b[38;5;241;43m*\u001b[39;49m\u001b[38;5;28;43mdict\u001b[39;49m\u001b[43m(\u001b[49m\u001b[38;5;28;43mzip\u001b[39;49m\u001b[43m(\u001b[49m\u001b[43m_old_args\u001b[49m\u001b[43m,\u001b[49m\u001b[43m \u001b[49m\u001b[43margs\u001b[49m\u001b[43m)\u001b[49m\u001b[43m)\u001b[49m\u001b[43m,\u001b[49m\u001b[43m \u001b[49m\u001b[38;5;241;43m*\u001b[39;49m\u001b[38;5;241;43m*\u001b[39;49m\u001b[43mkwargs\u001b[49m\u001b[43m)\u001b[49m\n",
      "File \u001b[0;32m~/opt/anaconda3/envs/cbmproj/lib/python3.12/site-packages/praw/reddit.py:963\u001b[0m, in \u001b[0;36mReddit.request\u001b[0;34m(self, data, files, json, method, params, path)\u001b[0m\n\u001b[1;32m    961\u001b[0m     \u001b[38;5;28;01mraise\u001b[39;00m ClientException(msg)\n\u001b[1;32m    962\u001b[0m \u001b[38;5;28;01mtry\u001b[39;00m:\n\u001b[0;32m--> 963\u001b[0m     \u001b[38;5;28;01mreturn\u001b[39;00m \u001b[38;5;28;43mself\u001b[39;49m\u001b[38;5;241;43m.\u001b[39;49m\u001b[43m_core\u001b[49m\u001b[38;5;241;43m.\u001b[39;49m\u001b[43mrequest\u001b[49m\u001b[43m(\u001b[49m\n\u001b[1;32m    964\u001b[0m \u001b[43m        \u001b[49m\u001b[43mdata\u001b[49m\u001b[38;5;241;43m=\u001b[39;49m\u001b[43mdata\u001b[49m\u001b[43m,\u001b[49m\n\u001b[1;32m    965\u001b[0m \u001b[43m        \u001b[49m\u001b[43mfiles\u001b[49m\u001b[38;5;241;43m=\u001b[39;49m\u001b[43mfiles\u001b[49m\u001b[43m,\u001b[49m\n\u001b[1;32m    966\u001b[0m \u001b[43m        \u001b[49m\u001b[43mjson\u001b[49m\u001b[38;5;241;43m=\u001b[39;49m\u001b[43mjson\u001b[49m\u001b[43m,\u001b[49m\n\u001b[1;32m    967\u001b[0m \u001b[43m        \u001b[49m\u001b[43mmethod\u001b[49m\u001b[38;5;241;43m=\u001b[39;49m\u001b[43mmethod\u001b[49m\u001b[43m,\u001b[49m\n\u001b[1;32m    968\u001b[0m \u001b[43m        \u001b[49m\u001b[43mparams\u001b[49m\u001b[38;5;241;43m=\u001b[39;49m\u001b[43mparams\u001b[49m\u001b[43m,\u001b[49m\n\u001b[1;32m    969\u001b[0m \u001b[43m        \u001b[49m\u001b[43mpath\u001b[49m\u001b[38;5;241;43m=\u001b[39;49m\u001b[43mpath\u001b[49m\u001b[43m,\u001b[49m\n\u001b[1;32m    970\u001b[0m \u001b[43m    \u001b[49m\u001b[43m)\u001b[49m\n\u001b[1;32m    971\u001b[0m \u001b[38;5;28;01mexcept\u001b[39;00m BadRequest \u001b[38;5;28;01mas\u001b[39;00m exception:\n\u001b[1;32m    972\u001b[0m     \u001b[38;5;28;01mtry\u001b[39;00m:\n",
      "File \u001b[0;32m~/opt/anaconda3/envs/cbmproj/lib/python3.12/site-packages/prawcore/sessions.py:328\u001b[0m, in \u001b[0;36mSession.request\u001b[0;34m(self, method, path, data, files, json, params, timeout)\u001b[0m\n\u001b[1;32m    326\u001b[0m     json[\u001b[38;5;124m\"\u001b[39m\u001b[38;5;124mapi_type\u001b[39m\u001b[38;5;124m\"\u001b[39m] \u001b[38;5;241m=\u001b[39m \u001b[38;5;124m\"\u001b[39m\u001b[38;5;124mjson\u001b[39m\u001b[38;5;124m\"\u001b[39m\n\u001b[1;32m    327\u001b[0m url \u001b[38;5;241m=\u001b[39m urljoin(\u001b[38;5;28mself\u001b[39m\u001b[38;5;241m.\u001b[39m_requestor\u001b[38;5;241m.\u001b[39moauth_url, path)\n\u001b[0;32m--> 328\u001b[0m \u001b[38;5;28;01mreturn\u001b[39;00m \u001b[38;5;28;43mself\u001b[39;49m\u001b[38;5;241;43m.\u001b[39;49m\u001b[43m_request_with_retries\u001b[49m\u001b[43m(\u001b[49m\n\u001b[1;32m    329\u001b[0m \u001b[43m    \u001b[49m\u001b[43mdata\u001b[49m\u001b[38;5;241;43m=\u001b[39;49m\u001b[43mdata\u001b[49m\u001b[43m,\u001b[49m\n\u001b[1;32m    330\u001b[0m \u001b[43m    \u001b[49m\u001b[43mfiles\u001b[49m\u001b[38;5;241;43m=\u001b[39;49m\u001b[43mfiles\u001b[49m\u001b[43m,\u001b[49m\n\u001b[1;32m    331\u001b[0m \u001b[43m    \u001b[49m\u001b[43mjson\u001b[49m\u001b[38;5;241;43m=\u001b[39;49m\u001b[43mjson\u001b[49m\u001b[43m,\u001b[49m\n\u001b[1;32m    332\u001b[0m \u001b[43m    \u001b[49m\u001b[43mmethod\u001b[49m\u001b[38;5;241;43m=\u001b[39;49m\u001b[43mmethod\u001b[49m\u001b[43m,\u001b[49m\n\u001b[1;32m    333\u001b[0m \u001b[43m    \u001b[49m\u001b[43mparams\u001b[49m\u001b[38;5;241;43m=\u001b[39;49m\u001b[43mparams\u001b[49m\u001b[43m,\u001b[49m\n\u001b[1;32m    334\u001b[0m \u001b[43m    \u001b[49m\u001b[43mtimeout\u001b[49m\u001b[38;5;241;43m=\u001b[39;49m\u001b[43mtimeout\u001b[49m\u001b[43m,\u001b[49m\n\u001b[1;32m    335\u001b[0m \u001b[43m    \u001b[49m\u001b[43murl\u001b[49m\u001b[38;5;241;43m=\u001b[39;49m\u001b[43murl\u001b[49m\u001b[43m,\u001b[49m\n\u001b[1;32m    336\u001b[0m \u001b[43m\u001b[49m\u001b[43m)\u001b[49m\n",
      "File \u001b[0;32m~/opt/anaconda3/envs/cbmproj/lib/python3.12/site-packages/prawcore/sessions.py:267\u001b[0m, in \u001b[0;36mSession._request_with_retries\u001b[0;34m(self, data, files, json, method, params, timeout, url, retry_strategy_state)\u001b[0m\n\u001b[1;32m    254\u001b[0m     \u001b[38;5;28;01mreturn\u001b[39;00m \u001b[38;5;28mself\u001b[39m\u001b[38;5;241m.\u001b[39m_do_retry(\n\u001b[1;32m    255\u001b[0m         data,\n\u001b[1;32m    256\u001b[0m         files,\n\u001b[0;32m   (...)\u001b[0m\n\u001b[1;32m    264\u001b[0m         url,\n\u001b[1;32m    265\u001b[0m     )\n\u001b[1;32m    266\u001b[0m \u001b[38;5;28;01mif\u001b[39;00m response\u001b[38;5;241m.\u001b[39mstatus_code \u001b[38;5;129;01min\u001b[39;00m \u001b[38;5;28mself\u001b[39m\u001b[38;5;241m.\u001b[39mSTATUS_EXCEPTIONS:\n\u001b[0;32m--> 267\u001b[0m     \u001b[38;5;28;01mraise\u001b[39;00m \u001b[38;5;28mself\u001b[39m\u001b[38;5;241m.\u001b[39mSTATUS_EXCEPTIONS[response\u001b[38;5;241m.\u001b[39mstatus_code](response)\n\u001b[1;32m    268\u001b[0m \u001b[38;5;28;01mif\u001b[39;00m response\u001b[38;5;241m.\u001b[39mstatus_code \u001b[38;5;241m==\u001b[39m codes[\u001b[38;5;124m\"\u001b[39m\u001b[38;5;124mno_content\u001b[39m\u001b[38;5;124m\"\u001b[39m]:\n\u001b[1;32m    269\u001b[0m     \u001b[38;5;28;01mreturn\u001b[39;00m \u001b[38;5;28;01mNone\u001b[39;00m\n",
      "\u001b[0;31mTooManyRequests\u001b[0m: received 429 HTTP response"
     ]
    }
   ],
   "source": [
    "LIMIT = None\n",
    "pull_user_comments(users_list[5000:], subreddits, USERCOMM_SAVEPATH, limit=LIMIT)"
   ]
  },
  {
   "cell_type": "markdown",
   "metadata": {},
   "source": [
    "## Post fetch"
   ]
  },
  {
   "cell_type": "code",
   "execution_count": null,
   "metadata": {},
   "outputs": [],
   "source": [
    "# post_url = \"https://www.reddit.com/r/politics/comments/1gc7k0y/bcso_voter_punches_poll_worker_when_reminded/\"\n",
    "\n",
    "# # Retrieve comments\n",
    "# comments = scraper.get_comments_from_post(post_url)\n",
    "\n",
    "# # Save comments to a JSON file\n",
    "# with open(\"../Data/comments_graph.json\", \"w\") as f:\n",
    "#     json.dump(comments, f, indent=4)\n",
    "\n",
    "# print(\"Comments saved to comments.json\")"
   ]
  }
 ],
 "metadata": {
  "kernelspec": {
   "display_name": "cbmproj",
   "language": "python",
   "name": "python3"
  },
  "language_info": {
   "codemirror_mode": {
    "name": "ipython",
    "version": 3
   },
   "file_extension": ".py",
   "mimetype": "text/x-python",
   "name": "python",
   "nbconvert_exporter": "python",
   "pygments_lexer": "ipython3",
   "version": "3.12.7"
  }
 },
 "nbformat": 4,
 "nbformat_minor": 2
}
