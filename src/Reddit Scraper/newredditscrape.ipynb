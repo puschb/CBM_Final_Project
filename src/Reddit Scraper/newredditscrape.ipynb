{
 "cells": [
  {
   "cell_type": "code",
   "execution_count": 1,
   "metadata": {},
   "outputs": [
    {
     "data": {
      "text/plain": [
       "True"
      ]
     },
     "execution_count": 1,
     "metadata": {},
     "output_type": "execute_result"
    }
   ],
   "source": [
    "import praw\n",
    "import prawcore\n",
    "import json\n",
    "from datetime import datetime, timezone\n",
    "from dotenv import load_dotenv, dotenv_values \n",
    "\n",
    "import requests\n",
    "\n",
    "from tqdm import tqdm\n",
    "import time\n",
    "\n",
    "import pandas as pd\n",
    "import os\n",
    "from reddit_scraper import RedditScraper\n",
    "load_dotenv()"
   ]
  },
  {
   "cell_type": "code",
   "execution_count": 2,
   "metadata": {},
   "outputs": [],
   "source": [
    "client_id = os.getenv(\"CLIENT_ID\")\n",
    "client_secret=os.getenv(\"CLIENT_SECRET\")\n",
    "user_agent=os.getenv(\"USER_AGENT\")"
   ]
  },
  {
   "cell_type": "code",
   "execution_count": 3,
   "metadata": {},
   "outputs": [],
   "source": [
    "reddit = praw.Reddit(\n",
    "    client_id=client_id,\n",
    "    client_secret=client_secret,\n",
    "    user_agent=user_agent,\n",
    ")"
   ]
  },
  {
   "cell_type": "code",
   "execution_count": 4,
   "metadata": {},
   "outputs": [],
   "source": [
    "output = reddit.multireddit(redditor=\"samuraisam\", name=\"programming\").new()"
   ]
  },
  {
   "cell_type": "code",
   "execution_count": null,
   "metadata": {},
   "outputs": [
    {
     "name": "stdout",
     "output_type": "stream",
     "text": [
      "<praw.models.listing.generator.ListingGenerator object at 0x17c398890>\n"
     ]
    }
   ],
   "source": [
    "for outp in output:\n",
    "    "
   ]
  },
  {
   "cell_type": "code",
   "execution_count": 4,
   "metadata": {},
   "outputs": [],
   "source": [
    "def date_to_epoch(date):\n",
    "    return int(datetime.strptime(date, \"%Y-%m-%d\").timestamp())"
   ]
  },
  {
   "cell_type": "code",
   "execution_count": null,
   "metadata": {},
   "outputs": [],
   "source": [
    "def scrape_reddit_user_comments(username, subreddit, start_date, end_date):\n",
    "    start_epoch = date_to_epoch(start_date)\n",
    "    end_epoch = date_to_epoch(end_date)\n",
    "    url = f\"https://api.pushshift.io/reddit/comment/search\"\n",
    "    params = {\n",
    "        \"author\": username,\n",
    "        \"subreddit\": subreddit,\n",
    "        \"after\": start_epoch,\n",
    "        \"before\": end_epoch,\n",
    "        \"size\": 100,  # Fetch 100 comments at a time (max limit)\n",
    "    }\n",
    "    comments = []\n",
    "    while True:\n",
    "        try:\n",
    "            response = requests.get(url, params=params)\n",
    "            if response.status_code != 200:\n",
    "                print(f\"Error: {response.status_code}\")\n",
    "                break\n",
    "            data = response.json().get('data', [])\n",
    "            if not data:\n",
    "                break\n",
    "            for comment in data:\n",
    "                comments.append({\n",
    "                    \"id\": comment[\"id\"],\n",
    "                    \"subreddit\": comment[\"subreddit\"],\n",
    "                    \"body\": comment[\"body\"],\n",
    "                    \"created_utc\": datetime.utcfromtimestamp(comment[\"created_utc\"]).strftime('%Y-%m-%d %H:%M:%S')\n",
    "                })\n",
    "            # Use the last comment's created_utc as the next starting point\n",
    "            params[\"after\"] = data[-1][\"created_utc\"]\n",
    "        except prawcore.exceptions.TooManyRequests as e:\n",
    "            print(f\"Rate limit hit for comments of post {username}. Sleeping for {e.retry_after} seconds.\")\n",
    "            time.sleep(61.0)  # Sleep for the time suggested by the error\n",
    "            continue  # Retry the request after waiting \n",
    "    return comments"
   ]
  },
  {
   "cell_type": "code",
   "execution_count": 15,
   "metadata": {},
   "outputs": [
    {
     "name": "stdout",
     "output_type": "stream",
     "text": [
      "Error: 403\n"
     ]
    }
   ],
   "source": [
    "# Example usage\n",
    "username = \"1barefootmaniac\"\n",
    "subreddit = \"books\"\n",
    "start_date = \"2024-01-01\"\n",
    "end_date = \"2024-12-01\"\n",
    "comments = scrape_reddit_user_comments(username, subreddit, start_date, end_date)\n"
   ]
  },
  {
   "cell_type": "code",
   "execution_count": null,
   "metadata": {},
   "outputs": [],
   "source": [
    "for comment in comments:\n",
    "    print(f\"{comment['created_utc']} | {comment['subreddit']} | {comment['body']}\\n\")"
   ]
  }
 ],
 "metadata": {
  "kernelspec": {
   "display_name": "cbmproj",
   "language": "python",
   "name": "python3"
  },
  "language_info": {
   "codemirror_mode": {
    "name": "ipython",
    "version": 3
   },
   "file_extension": ".py",
   "mimetype": "text/x-python",
   "name": "python",
   "nbconvert_exporter": "python",
   "pygments_lexer": "ipython3",
   "version": "3.12.7"
  }
 },
 "nbformat": 4,
 "nbformat_minor": 2
}
