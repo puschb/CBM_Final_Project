{
 "cells": [
  {
   "cell_type": "code",
   "execution_count": 11,
   "metadata": {},
   "outputs": [
    {
     "data": {
      "text/plain": [
       "True"
      ]
     },
     "execution_count": 11,
     "metadata": {},
     "output_type": "execute_result"
    }
   ],
   "source": [
    "import praw\n",
    "import json\n",
    "from datetime import datetime, timezone\n",
    "from dotenv import load_dotenv, dotenv_values \n",
    "\n",
    "from tqdm import tqdm\n",
    "\n",
    "import pandas as pd\n",
    "import os\n",
    "from scraper import RedditScraper\n",
    "load_dotenv()"
   ]
  },
  {
   "cell_type": "code",
   "execution_count": 12,
   "metadata": {},
   "outputs": [],
   "source": [
    "client_id = os.getenv(\"CLIENT_ID\")\n",
    "client_secret=os.getenv(\"CLIENT_SECRET\")\n",
    "user_agent=os.getenv(\"USER_AGENT\")\n",
    "scraper = RedditScraper(client_id, client_secret, user_agent)"
   ]
  },
  {
   "cell_type": "markdown",
   "metadata": {},
   "source": [
    "## User comment fetch"
   ]
  },
  {
   "cell_type": "code",
   "execution_count": 13,
   "metadata": {},
   "outputs": [],
   "source": [
    "subreddits = [\n",
    "    \"books\"\n",
    "] "
   ]
  },
  {
   "cell_type": "code",
   "execution_count": 14,
   "metadata": {},
   "outputs": [],
   "source": [
    "BASE_DIR = os.path.abspath(os.path.join(os.getcwd(), \"..\", \"..\", \"Data\"))\n",
    "USERLIST_FILEPATH = os.path.join(BASE_DIR, 'Reddit Scrape/unique_users.csv')\n",
    "USERCOMM_SAVEPATH = os.path.join(BASE_DIR, 'usercomments')\n",
    "\n",
    "os.makedirs(USERCOMM_SAVEPATH, exist_ok=True)"
   ]
  },
  {
   "cell_type": "code",
   "execution_count": 15,
   "metadata": {},
   "outputs": [],
   "source": [
    "users_df = pd.read_csv(USERLIST_FILEPATH)\n",
    "users_list = users_df['user'].tolist()\n",
    "# users_list = [\"1barefootmaniac\"]"
   ]
  },
  {
   "cell_type": "code",
   "execution_count": 23,
   "metadata": {},
   "outputs": [],
   "source": [
    "def pull_user_comments(userslist, subreddits, save_basepath, limit):\n",
    "\n",
    "    for user in tqdm(userslist, desc=\"Scraping user comments\"):\n",
    "        save_file = f'{user}_usercomments.json'\n",
    "        save_path = os.path.join(save_basepath, save_file)\n",
    "\n",
    "        posts = scraper.scrape_user_political_comments(user, subreddits, limit=limit)\n",
    "\n",
    "        with open(save_path, \"w\") as f:\n",
    "            json.dump(posts, f, indent=4)\n",
    "\n",
    "        # Print progress for debugging/logging (optional)\n",
    "        print(f\"Comments saved to {save_path}\")"
   ]
  },
  {
   "cell_type": "code",
   "execution_count": 25,
   "metadata": {},
   "outputs": [
    {
     "name": "stderr",
     "output_type": "stream",
     "text": [
      "Scraping user comments:   0%|          | 0/29911 [00:00<?, ?it/s]"
     ]
    },
    {
     "name": "stdout",
     "output_type": "stream",
     "text": [
      "{'television', 'coaxedintoasnafu', 'dontflinch', 'watchpeoplesurvive', 'TwoHotTakes', 'SipsTea', 'stuffyoushouldknow', 'DavidYurman', 'writing', 'mildlyinteresting', 'itcouldhappenhere', 'Showerthoughts', 'self', 'borderlands3', 'doordash', 'Millennials', 'Warhammer40k', 'tampa', 'me_irl', 'holyshit', 'ExpectationVsReality', 'aiArt', 'horror', 'MageErrant', 'NameNerdCirclejerk', 'DnD5e', 'meme', 'csgo', 'ShermanPosting', 'FluentInFinance', 'pokemon', 'kickopenthedoor', 'geography', 'AskReddit', 'Grimdank', 'skyrim', 'chyberpunk', 'AITA_WIBTA_PUBLIC', '13or30', 'trueratediscussions', 'HongKong', 'PoliticalDiscussion', 'popping', 'JustUnsubbed', 'Delta_Emulator', 'blankies', 'MobileAL', 'BridgertonNetflix', 'ArtefactPorn', 'SocialistGaming', 'Firefighting', 'takis', 'moviecritic', 'DarkTide', 'penguinz0', 'comics', 'whowouldwin', 'ShaneGillis', 'menswear', 'unpopularopinion', 'science', 'Overwatch', 'youtube', 'ExplainTheJoke', 'OddSatisfying', 'ForwardsFromKlandma', 'offbeat', 'Fantasy', 'IrrationalMadness', 'marijuanaenthusiasts', 'roguelites', 'shittymoviedetails', 'TheRandomest', 'ProgressionFantasy', 'treeidentification', 'comedy', 'Sopranosduckposting', 'The_Black_Tower', 'Damnthatsinteresting', 'The10thDentist', 'ARPG', 'AdeptusMechanicus', 'millenials', 'audible', 'simpsonsshitposting', 'ThatsInsane', 'DRGSurvivor', 'Grimdawn', 'hiphopheads', 'OhNoConsequences', 'stories', 'DefendingAIArt', 'MildlyBadDrivers', 'RandomThoughts', 'boringdystopia', 'ididnthaveeggs', 'travisandtaylor', 'hypotheticalsituation', 'wholesomememes', 'bizarrelife', 'rareinsults', 'EDRecoverySnark', 'BokuNoHeroAcademia', 'podcasts', 'DeepRockGalactic', 'retailhell', 'NahOPwasrightfuckthis', 'AITAH', 'Unexpected', 'FirstResponderCringe', 'Askpolitics', 'FOXNEWS', 'DMAcademy', 'worldnewsvideo', 'Music', 'harrypotter', 'Presidents', 'PowerScaling', 'nosear', 'ihaveihaveihavereddit', 'ImaginaryMonsters', 'SnapshotHistory', 'cyberpunkgame', 'WhitePeopleTwitter', 'GeeksGamersCommunity', 'spiders', 'Stonetossingjuice', 'mealtimevideos', 'mildlyinfuriating', 'nfl', 'Advice', 'IndiaSpeaks', 'WanderingInn', 'Aphantasia', 'writingcirclejerk', 'facepalm', 'MorbidReality', 'pics', 'massachusetts', 'CyberpunkTheGame', 'Satisfyingasfuck', 'gaming', 'NoStupidQuestions', 'worldnews', 'Georgia', 'litrpg', 'BoomersBeingFools', 'Iteration110Cradle', 'legendofkorra', 'LifeAdvice', 'YoureWrongAbout', 'cookingforbeginners', 'AMA', 'superheroes', 'literature', 'justneckbeardthings', 'oddlyspecific', 'WinStupidPrizes', 'Silksong', 'MoldlyInteresting', 'awfuleverything', 'Vermintide', 'wallstreetbets', 'LookatMyHalo', 'BookshelvesDetective', 'menwritingwomen', 'fuckwasps', 'space', 'DailyShow', 'AbsoluteUnits', 'woahthatsinteresting', 'WhyWomenLiveLonger', 'Wellthatsucks', 'politics', 'BrandNewSentence', 'TSLA', 'LivestreamFail', 'MarkMyWords', 'oddlysatisfying', 'Kanye', 'BeAmazed', 'Starfield', 'saltierthankrayt', 'anime_titties', 'cosplaygirls', 'TrueReddit', 'NewsOfTheStupid', 'sunflowerseeds', 'interestingasfuck', 'holdmyfeedingtube', '40kLore', 'BadReads', 'CrazyFuckingVideos', 'TerrifyingAsFuck', 'NonPoliticalTwitter', 'whowouldcirclejerk', 'confession', 'energy', 'Blizzard', 'amcstock', 'okbuddybaldur', 'yourmomshousepodcast', 'absolutelynotme_irl', 'saltierthankrait', 'LetsTalkMusic', 'WetlanderHumor', 'Parasitology', 'subway', 'Scams', 'HeavyweightPod', 'restaurant', 'fightporn', 'climate', 'books', 'foraging', 'AmIOverreacting', 'decadeology', 'tifu', 'LinkedInLunatics', 'memesopdidnotlike', 'mensfashionadvice', 'Milk', 'DnDcirclejerk', 'skyscrapers', 'Fauxmoi', 'clevercomebacks', 'stupidquestions', 'bookscirclejerk', 'JoeRogan', 'bewareofchicken', 'PortlandCriddlers', 'marvelmemes', 'KimetsuNoYaiba', 'nottheonion', 'USHistory', 'vexillologycirclejerk', 'HollowKnight', 'todayilearned', 'youtubedrama', 'KendrickLamar', 'TrueOffMyChest', 'CharacterRant', 'Sandman', 'inthenews', 'MyHeroAcadamia', 'entertainment', 'IdiotsInCars', 'BlackPeopleTwitter', 'ImaginaryHellscapes', '197', 'celestegame', 'nextfuckinglevel', 'smoking', 'Teachers', 'PublicFreakout', 'MorbidPodcast', 'ChatGPT', 'FashionReps', 'AsABlackMan', 'analog', 'ghostoftsushima', 'whatcarshouldIbuy', 'movies', 'GenZ', 'uselessredcircle', 'dashcams', 'redditmoment', 'ActualPublicFreakouts', 'criticalblunder'}\n"
     ]
    },
    {
     "name": "stderr",
     "output_type": "stream",
     "text": [
      "Scraping user comments:   0%|          | 1/29911 [00:28<239:38:45, 28.84s/it]"
     ]
    },
    {
     "name": "stdout",
     "output_type": "stream",
     "text": [
      "Comments saved to /Users/smutnuri/Documents/UVA/_Projects/Fall24/CBM/CBMRepo/Data/usercomments/---Sanguine---_usercomments.json\n",
      "{'ask', 'dominoes', 'AskOldPeople', 'mildlyinteresting', 'videos', 'rant', 'MusicRecommendations', 'houstonwade', 'technology', 'sports', 'law', 'self', 'Millennials', 'bronco', 'PastAndPresentPics', 'boston', 'bostontrees', 'geography', 'AskReddit', 'Cooking', '13or30', 'gifs', 'MurderedByWords', 'the_everything_bubble', 'WidespreadPanic', 'iwatchedanoldmovie', '90sHipHop', 'reggae', 'inflation', 'Wellworn', 'Bumperstickers', 'deadandcompany', 'BeastieBoys', 'DIY', 'Pennsylvania', 'Tuckahoe10707', 'hotsauce', 'UpliftingNews', 'psychedelicrock', 'MastersoftheAir', 'Disneyland', 'technews', 'Concerts', 'funk', 'ClassicRock', 'GenX', 'Damnthatsinteresting', 'creepy', 'Futurology', 'AskHistory', 'BudgetAudiophile', 'newengland', 'Flooring', 'asheville', 'tiedye', 'Rucking', 'LSD', 'fastfood', 'BBQ', 'ledzeppelin', 'gratefuldead', 'texas', 'blackstonegriddle', 'news', 'TwoXChromosomes', 'folklore', '80s', 'popheads', 'wisconsin', 'baseball', 'Music', 'urbanplanning', 'pearljam', 'coolguides', 'mildlyinfuriating', 'facepalm', 'pics', 'massachusetts', 'burgers', 'longisland', 'NoStupidQuestions', 'worldnews', 'photoshopbattles', 'BoomersBeingFools', 'AMA', 'rollingstones', 'FuckImOld', 'electronicmusic', 'minnesota', 'OldSchoolCool', '80smusic', 'SCREENPRINTING', 'vinyl', 'atheism', 'condiments', 'AnythingGoesNews', 'politics', 'vermont', 'USNewsHub', 'CapeCodVisitors', 'MarkMyWords', 'unclebens', 'sanfrancisco', 'SameGrassButGreener', 'OldPhotosInRealLife', 'cats', 'NewsOfTheStupid', 'newhampshire', 'interestingasfuck', 'PuertoRicoTravel', 'deadheadcirclejerk', 'UrbanHell', 'explainlikeimfive', 'country', 'ChevyTrucks', 'LetsTalkMusic', 'FoodNYC', 'CapeCod', 'grilling', 'arborists', 'bobdylan', 'chips', 'phish', 'books', 'AmIOverreacting', 'Rockland', 'TikTokCringe', 'avesNYC', 'TheWayWeWere', 'skyscrapers', 'clevercomebacks', 'LexusGX', 'stupidquestions', 'skeptic', 'EDM', 'conservativeterrorism', 'nottheonion', 'todayilearned', 'williamsburg', 'The1980s', 'inthenews', 'Westchester', 'LifeProTips', 'entertainment', 'BlackPeopleTwitter', 'smoking', 'nextfuckinglevel', '4Runner', 'jgb', 'origami', 'Teachers', 'webergrills', 'ChatGPT', 'funny', 'RedditForGrownups', 'DesirePath', 'daddit', 'movies'}\n"
     ]
    },
    {
     "name": "stderr",
     "output_type": "stream",
     "text": [
      "Scraping user comments:   0%|          | 2/29911 [00:57<237:28:27, 28.58s/it]"
     ]
    },
    {
     "name": "stdout",
     "output_type": "stream",
     "text": [
      "Comments saved to /Users/smutnuri/Documents/UVA/_Projects/Fall24/CBM/CBMRepo/Data/usercomments/--0o0o0--_usercomments.json\n",
      "{'funnysigns', 'EverythingScience', 'science', 'AskReddit', 'books', 'movies', 'HealthyFood'}\n"
     ]
    },
    {
     "name": "stderr",
     "output_type": "stream",
     "text": [
      "Scraping user comments:   0%|          | 3/29911 [00:58<132:16:51, 15.92s/it]"
     ]
    },
    {
     "name": "stdout",
     "output_type": "stream",
     "text": [
      "Comments saved to /Users/smutnuri/Documents/UVA/_Projects/Fall24/CBM/CBMRepo/Data/usercomments/--final--_usercomments.json\n",
      "{'ask', 'stephenking', 'nonfictionbookclub', 'AusUnions', 'australian', 'AutismInWomen', 'AskVegans', '52book', 'InsightfulQuestions', 'AskReddit', 'AustraliaPost', 'PMDD', 'optushack', 'australianvegans', 'CPTSD', 'AusFinance', 'shitrentals', 'AskWomenOver30', 'Centrelink', 'fiaustralia', 'answers', 'TelstraAustralia', 'antinatalism', 'millenials', 'TAFE', 'queensland', 'boycottcolesworth', 'namenerds', 'AussieCasual', 'woolworths', 'MapPorn', 'TwoXChromosomes', 'blackcats', 'perth', 'CarsAustralia', 'booknookies', 'vegan', 'socialanxiety', 'AskAnAustralian', 'AusRenovation', 'AskFeminists', 'selectivemutism', 'wfpb', 'Fibroids', 'Aphantasia', 'Advice', 'Kava', 'australia', 'adultautism', 'NoStupidQuestions', 'AusProperty', 'ecovacs', 'AustralianNostalgia', 'shrinkflation', 'melbourne', 'Lamotrigine', 'nikocado', 'newcastle', 'AusLegal', 'Hyundai', 'bipolar2', 'ausadhd', 'AutisticAdults', 'veganfitness', 'AusPropertyChat', 'AutisticLadies', 'LicciardoToivolaSnark', 'brisbane', 'books', 'AusMemes', 'nespresso', 'SeriousConversation', 'horrorlit', 'sydney', 'kobo', 'tragedeigh', 'CoronavirusDownunder', 'booksuggestions', 'Feminism', 'Antipsychiatry', 'adhdwomen', 'AussieFrugal'}\n"
     ]
    },
    {
     "name": "stderr",
     "output_type": "stream",
     "text": [
      "Scraping user comments:   0%|          | 4/29911 [01:19<151:01:12, 18.18s/it]"
     ]
    },
    {
     "name": "stdout",
     "output_type": "stream",
     "text": [
      "Comments saved to /Users/smutnuri/Documents/UVA/_Projects/Fall24/CBM/CBMRepo/Data/usercomments/--misunderstood--_usercomments.json\n",
      "{'ask', 'witcher', 'videos', 'ShittyLifeProTips', 'chomsky', 'MetalMemes', 'technology', 'Funnymemes', 'Millennials', 'HumansBeingBros', 'FluentInFinance', 'iamatotalpieceofshit', 'AskReddit', 'carbonsteel', 'Cooking', 'travel', 'BuyItForLife', 'MurderedByWords', 'webdev', 'trippinthroughtime', 'comics', 'antiwork', 'texts', 'unpopularopinion', 'VaushV', 'science', 'Whatcouldgowrong', 'KidsAreFuckingStupid', 'AmItheAsshole', 'learnprogramming', 'Damnthatsinteresting', 'Futurology', 'nhl', 'AskMen', 'ThatsInsane', 'europe', 'haskell', 'MapPorn', 'popculturechat', 'Unexpected', 'news', 'TwoXChromosomes', 'Music', 'elonmusk', 'Presidents', 'ProgrammerHumor', 'WhitePeopleTwitter', 'tumblr', 'mildlyinfuriating', 'facepalm', 'pics', 'gaming', 'NoStupidQuestions', 'worldnews', 'LeopardsAteMyFace', 'BoomersBeingFools', 'repost', 'Embroidery', 'awfuleverything', 'BestofRedditorUpdates', 'MaliciousCompliance', 'Tinder', 'space', 'GetMotivated', 'Wellthatsucks', 'politics', 'BrandNewSentence', 'MURICA', 'perfectlycutscreams', 'Conservative', 'interestingasfuck', 'NonPoliticalTwitter', 'unitedkingdom', 'PoliticalHumor', 'AnimalsBeingBros', 'books', 'TikTokCringe', 'programming', 'blenderhelp', 'clevercomebacks', 'MadeMeSmile', 'nottheonion', 'todayilearned', 'shitposting', 'HolUp', 'holdmycosmo', 'Walther', 'insanepeoplefacebook', 'entertainment', 'IdiotsInCars', 'BlackPeopleTwitter', 'JusticeServed', 'therewasanattempt', 'nextfuckinglevel', 'funnyvideos', 'meirl', 'ChatGPT', 'dashcams', 'movies', 'castiron', 'progresspics', 'CrappyDesign'}\n"
     ]
    },
    {
     "name": "stderr",
     "output_type": "stream",
     "text": [
      "Scraping user comments:   0%|          | 5/29911 [01:28<123:44:06, 14.89s/it]"
     ]
    },
    {
     "name": "stdout",
     "output_type": "stream",
     "text": [
      "Comments saved to /Users/smutnuri/Documents/UVA/_Projects/Fall24/CBM/CBMRepo/Data/usercomments/--xxa_usercomments.json\n",
      "{'ask', 'architecture', 'witcher', 'Witcher3', 'AskCanada', 'language', 'pokemon', 'skyrim', 'AskReddit', 'Minecraftbuilds', 'geography', 'GoingToSpain', 'latvia', 'GenZ', 'oblivion', 'Canada_sub', 'duolingo', 'tf2', 'gamingsuggestions', 'ColoradoAvalanche', 'DallasStars', 'HistoryWhatIf', 'canadatravel', 'Fantasy', 'ItsAllAboutGames', 'memes', 'AskHistory', 'ElderScrolls', 'nhl', 'philosophy', 'ENGLISH', 'lotrmemes', 'MapPorn', 'Archaeology', 'netflixwitcher', 'suggestmeabook', 'Jazz', 'TESVI', 'TrueSTL', 'assassinscreed', 'lotr', 'gaming', 'NoStupidQuestions', 'Tools', 'Morrowind', 'GrahamHancock', 'literature', 'oddlyspecific', 'hockeycirclejerk', 'tolkienfans', 'ShouldIbuythisgame', 'Archeology', 'EnglishLearning', 'pokemonplatinum', 'RingsofPower', 'AskACanadian', 'canadian', 'FavoriteCharacter', 'lute', 'canucks', 'n64', 'thewitcher3', 'NonPoliticalTwitter', 'AskGames', 'hockeymemes', 'EhBuddyHoser', 'Seville', 'vexillology', 'mapmaking', 'ancientrome', 'books', 'languagelearning', 'classicalmusic', 'OlderGenZ', 'PoutineCrimes', 'AssassinsCreedOdyssey', 'woodworking', 'Predators', 'askphilosophy', 'NovaScotia', 'losangeleskings', 'assasinscreed', 'worldbuilding', 'Daggerfall', 'hockey', 'videogames'}\n"
     ]
    },
    {
     "name": "stderr",
     "output_type": "stream",
     "text": [
      "Scraping user comments:   0%|          | 6/29911 [01:43<121:45:29, 14.66s/it]"
     ]
    },
    {
     "name": "stdout",
     "output_type": "stream",
     "text": [
      "Comments saved to /Users/smutnuri/Documents/UVA/_Projects/Fall24/CBM/CBMRepo/Data/usercomments/-Addendum-_usercomments.json\n",
      "{'ask', 'facepalm', 'blazbluextagbattle', 'FanFiction', 'classics', 'gaming', 'writing', 'Blazblue', 'armoredcore', 'UniUK', 'casualnintendo', 'books', 'Metroid', 'ShitAmericansSay', 'fashionhunters', 'self', 'gallifrey', 'judaspriest', 'bloodborne', 'Blasphemous', 'tales', 'shittydarksouls', 'doctorwho', 'clevercomebacks', 'Heartstoppercast', 'eurovision', 'LiesOfP', 'AskReddit', 'pjharvey', 'CasualUK', 'FinalFantasy', 'chvrches', 'horizon', 'FFVIIRemake', 'HeartstopperAO', 'DoctorWhumour', 'XboxGamePass', 'MurderedByWords', 'MHRise', 'thethickofit', 'halo', 'metroidvania', 'darksouls3', 'monsterhunterrage', 'Gamingcirclejerk', 'FFXVI', 'JRPG', 'ironmaiden', 'london', 'yugioh', 'HeartstopperNetflix', 'FridayNightDinner', 'AO3', 'masterduel', 'MonsterHunterMeta', 'BritishSitcoms', 'meirl', 'NineSols', 'FinalFantasyVII', 'MonsterHunter', 'SteamDeck', 'MonsterHunterWorld', 'demonssouls', 'Eldenring', 'SpidermanPS4', 'GenZ', 'AmonAmarth', 'AliceOseman'}\n"
     ]
    },
    {
     "name": "stderr",
     "output_type": "stream",
     "text": [
      "Scraping user comments:   0%|          | 7/29911 [01:59<128:02:08, 15.41s/it]"
     ]
    },
    {
     "name": "stdout",
     "output_type": "stream",
     "text": [
      "Comments saved to /Users/smutnuri/Documents/UVA/_Projects/Fall24/CBM/CBMRepo/Data/usercomments/-Akumetsu-_usercomments.json\n",
      "{'ft86', 'britishcolumbia', 'JeepWrangler', 'Challenger', 'Justrolledintotheshop', 'E30', 'drawing', 'books', 'Jeep', 'aww', 'JeepCherokeeXJ', '4x4', 'CherokeeXJ'}\n"
     ]
    },
    {
     "name": "stderr",
     "output_type": "stream",
     "text": [
      "Scraping user comments:   0%|          | 8/29911 [02:00<89:20:48, 10.76s/it] "
     ]
    },
    {
     "name": "stdout",
     "output_type": "stream",
     "text": [
      "Comments saved to /Users/smutnuri/Documents/UVA/_Projects/Fall24/CBM/CBMRepo/Data/usercomments/-BSQ-_usercomments.json\n",
      "{'television', 'JeffArcuri', 'goodboomerhumor', 'law', 'recruitinghell', 'apple', '3DS', 'houseplants', 'ExpectationVsReality', 'pokemon', 'PcBuild', 'WTF', 'blackmagicfuckery', 'blursed_videos', 'moviecritic', 'aviation', 'HouseOfTheDragon', 'Justrolledintotheshop', 'UNBGBBIIVCHIDCTIICBG', 'unpopularopinion', 'science', 'ghibli', 'seniorkitties', 'shittymoviedetails', 'celebnsfw', 'megalophobia', 'instantkarma', 'PS5', 'NewGirl', 'AITAH', 'Unexpected', 'baseball', 'fivenightsatfreddys', 'lgbt', 'CelebrityNumberSix', 'Ohio', 'SnapshotHistory', 'coolguides', 'HistoricalCapsule', 'Satisfyingasfuck', 'pcgaming', 'whatthefrockk', 'gaming', 'LeopardsAteMyFace', 'AbsoluteUnits', 'nostalgia', 'IASIP', 'FortNiteBR', 'Invincible', 'TerrifyingAsFuck', 'blunderyears', 'AbruptChaos', 'NetflixBestOf', 'tifu', 'okbuddychicanery', 'GTA', 'OutOfTheLoop', 'tennis', 'conservativeterrorism', 'Piracy', 'FoundPaper', 'todayilearned', 'maybemaybemaybe', 'TheBatmanFilm', 'ChatGPT', 'ContagiousLaughter', 'movies', 'UFOs', 'starterpacks', 'JonStewart', 'thesims', 'OuterBanksNetflix', 'sports', 'oddlyterrifying', 'Funnymemes', 'Millennials', 'blursedimages', 'sideloadly', 'TheExpanse', 'meme', 'skyrim', 'KamalaHarris', 'MurderedByWords', 'PiratedGames', 'thomastheplankengine', 'ComedyHell', 'UnethicalLifeProTips', 'KidsAreFuckingStupid', 'youtube', 'pokemonmemes', 'okbuddycinephile', 'flying', 'MildlyBadDrivers', 'MinecraftMemes', 'rareinsults', 'lotrmemes', 'popculturechat', 'texas', '80s', 'harrypotter', 'DunderMifflin', 'HarryPotterMemes', 'cyberpunkgame', 'southpark', 'AllThatIsInteresting', 'yesyesyesyesno', 'UnresolvedMysteries', 'mildlyinfuriating', 'TheBoys', 'pics', 'cursedcomments', 'StarWars', 'worldnews', 'selfierating', 'FuckImOld', 'wallstreetbets', 'BestofRedditorUpdates', 'LV426', 'space', 'OldSchoolCool', 'UnsolvedMysteries', 'atheism', 'AnythingGoesNews', 'USNewsHub', 'perfectlycutscreams', 'halo', 'mapporncirclejerk', 'masseffect', 'cats', 'Conservative', 'MemePiece', 'fuckHOA', 'NonPoliticalTwitter', 'CuratedTumblr', 'NotHowGirlsWork', 'clevercomebacks', 'skeptic', 'nottheonion', 'CryptoCurrency', 'shitposting', 'TrueOffMyChest', 'ufc', 'inthenews', 'entertainment', 'therewasanattempt', 'funnyvideos', 'nextfuckinglevel', 'trees', 'PublicFreakout', 'meirl', 'SubredditDrama', 'patientgamers', 'hockey', 'CrappyDesign', 'Weird', 'SipsTea', 'mildlyinteresting', 'GTA6', 'houstonwade', 'PrequelMemes', 'LiveFromNewYork', 'Battlefield', 'gameofthrones', 'TIHI', 'AskReddit', 'geography', 'Grimdank', 'the_everything_bubble', 'conspiracy', 'comics', 'ExplainTheJoke', 'steak', 'JustGuysBeingDudes', 'lego', 'Awww', 'MapPorn', 'Yellowjackets', 'news', '10cloverfieldlane', 'Music', 'spaceporn', 'whenthe', 'ProgrammerHumor', 'WhitePeopleTwitter', 'malelivingspace', 'popheadscirclejerk', 'animalsdoingstuff', 'brooklynninenine', 'DnD', 'fixedbytheduet', 'gadgets', 'GetMotivated', 'woahthatsinteresting', 'reactiongifs', 'Wellthatsucks', 'BrandNewSentence', 'BeAmazed', 'Destiny', 'NewsOfTheStupid', 'Bossfight', 'EliteDangerous', 'darknetdiaries', 'SweatyPalms', 'futurama', 'UtterlyUniquePhotos', 'absolutelynotme_irl', 'pcmasterrace', 'PoliticalHumor', 'UnbelievableStuff', 'HaloMemes', 'reddeadredemption', 'Fauxmoi', 'JoeRogan', 'LinusTechTips', 'CapitolConsequences', 'Infographics', 'Predators', 'bjj', 'sydney', 'LOTR_on_Prime', 'TopCharacterTropes', 'hmmm', 'YouShouldKnow', 'GenZ', 'asoiaf', 'WorkersStrikeBack', 'technology', 'Qult_Headquarters', 'StandUpComedy', '30ROCK', 'Xennials', 'NewGreentexts', 'HumansBeingBros', 'notinteresting', 'dune', 'terriblefacebookmemes', 'Animemes', 'Spiderman', '2meirl4meirl', '4chan', 'SteamDeck', 'MemeVideos', 'Dexter', 'marvelstudios', 'offbeat', 'PeterExplainsTheJoke', 'PokemonTCG', 'economy', 'memes', 'Damnthatsinteresting', 'ThatsInsane', 'Boxing', 'Salary', 'PTCGP', 'travisandtaylor', 'Sandwiches', 'rupaulsdragrace', 'technicallythetruth', 'FOXNEWS', 'tearsofthekingdom', 'Presidents', 'IndiaSpeaks', 'facepalm', 'oddlysatisfying', 'massachusetts', 'unusual_whales', 'NoStupidQuestions', 'FortniteLeaks', 'Steam', 'theydidthemath', 'WinStupidPrizes', 'discordVideos', 'theviralthings', 'Amd', 'interesting', 'politics', 'funnysigns', 'Asmongold', 'shittyfoodporn', 'PoliticalCompassMemes', 'StrangeAndFunny', 'PrepperIntel', 'Fallout', 'CyberStuck', 'CrazyFuckingVideos', 'radeon', 'NatureIsFuckingLit', 'comedyheaven', 'fightporn', 'books', 'TikTokCringe', 'satisfying', 'GetNoted', 'sciencememes', 'AdviceAnimals', 'iphone', 'marvelmemes', 'dankmemes', 'MadeMeSmile', 'mildyinteresting', 'HolUp', 'StarWarsleftymemes', 'Jewdank', 'HalfLife', 'bald', 'BlackPeopleTwitter', 'LowSodiumCyberpunk', 'ADSB', 'funny', 'madlads'}\n"
     ]
    },
    {
     "name": "stderr",
     "output_type": "stream",
     "text": [
      "Scraping user comments:   0%|          | 9/29911 [02:19<109:49:14, 13.22s/it]"
     ]
    },
    {
     "name": "stdout",
     "output_type": "stream",
     "text": [
      "Comments saved to /Users/smutnuri/Documents/UVA/_Projects/Fall24/CBM/CBMRepo/Data/usercomments/-Badger3-_usercomments.json\n",
      "{'pics', 'u_PDQit', 'gaming', 'factorio', 'worldnews', 'EarthPorn', 'videos', 'creepy', 'MaximumTheHormone', 'Diablo3witchdoctors', 'books', 'Diablo3Monks', 'Planetside', 'tifu', 'Diablo3DemonHunters', 'Back4Blood', 'japanpics', 'LearnJapanese', 'JapanTravel', 'AshesofCreation', 'WildStar', 'wow', 'gadgets', 'diablo3', 'skyrim', 'AskReddit', 'Diablo', 'OldSchoolCool', 'CasualUK', 'cremposting', 'aww', 'Metalcore', 'HellLetLoose', 'nottheonion', 'japan', 'Diablo3Crusaders', 'SatisfactoryGame', 'gifs', 'rpg_gamers', 'FortNiteBR', 'diablo4', 'MMORPG', 'OverwatchLeague', 'PolkaDotStingray', 'TwoXChromosomes', 'Art', 'halo', 'Competitiveoverwatch', 'Music', 'Dyson_Sphere_Program', 'newworldgame', 'Bless', 'StarWarsBattlefront', 'EvilGenius2', 'titanfall', 'japanesemusic', 'explainlikeimfive', 'funny', 'buildapc', 'dataisbeautiful', 'pathofexile', 'blackdesertonline', 'Overwatch', 'lostarkgame', 'classicwow', 'sysadmin', 'movies', 'battlestations'}\n"
     ]
    },
    {
     "name": "stderr",
     "output_type": "stream",
     "text": [
      "Scraping user comments:   0%|          | 10/29911 [02:29<101:04:05, 12.17s/it]"
     ]
    },
    {
     "name": "stdout",
     "output_type": "stream",
     "text": [
      "Comments saved to /Users/smutnuri/Documents/UVA/_Projects/Fall24/CBM/CBMRepo/Data/usercomments/-Baka-Baka-_usercomments.json\n",
      "{'television', 'place', 'bingingwithbabish', 'mildlyinteresting', 'videos', 'Showerthoughts', 'PrequelMemes', 'technology', 'thesims', 'oddlyterrifying', 'me_irl', 'blursedimages', 'fantasyromance', 'HumansBeingBros', 'newyorkcity', 'notliketheothergirls', 'iamatotalpieceofshit', 'AskReddit', 'Games', 'AnimalCrossing', 'gifs', 'NintendoSwitch', 'behindthebastards', 'Zillennials', 'MurderedByWords', 'JustUnsubbed', 'GameDeals', 'MakeupAddiction', 'comics', 'antiwork', 'buffy', 'SelfAwarewolves', 'MakeupLounge', 'Gaming4Gamers', 'texts', 'unpopularopinion', 'wholesomegifs', 'science', 'Overwatch', 'KidsAreFuckingStupid', 'Whatcouldgowrong', 'UpliftingNews', 'marvelstudios', 'AmItheAsshole', 'LifeSimulators', 'muacirclejerk', 'nevertellmetheodds', 'memes', 'Yogscast', 'Damnthatsinteresting', 'LongDistance', 'Futurology', 'curlyhair', 'ThatsInsane', 'MyTimeAtSandrock', 'suspiciouslyspecific', 'BetterEveryLoop', 'insaneparents', 'instantkarma', 'europe', 'wholesomememes', 'rareinsults', 'aww', 'popculturechat', 'technicallythetruth', 'Unexpected', 'news', 'origin', 'TwoXChromosomes', 'Adulting', 'worldnewsvideo', 'Music', 'whenthe', 'introvert', 'InterviewVampire', 'lgbt', 'nyc', 'ihavesex', 'LoveIslandUSA', 'WhitePeopleTwitter', 'cyberpunkgame', 'dataisbeautiful', 'coolguides', 'TheLastOfUs2', 'MovieDetails', 'tumblr', 'Coronavirus', 'WatchPeopleDieInside', 'mildlyinfuriating', 'RomanceBooks', 'facepalm', 'pics', 'cursedcomments', 'oddlysatisfying', 'confusing_perspective', 'gaming', 'NoStupidQuestions', 'worldnews', 'LeopardsAteMyFace', 'DivinityOriginalSin', 'muacjdiscussion', 'greentext', 'oddlyspecific', 'intermittentfasting', 'LateStageCapitalism', 'StupidFood', 'awfuleverything', 'TheValleyFolk', 'Tinder', 'fansofcriticalrole', 'menwritingwomen', 'FriendsofthePod', 'youseeingthisshit', 'OldSchoolCool', 'BaldursGate3', 'reactiongifs', 'Wellthatsucks', 'politics', 'LoveIsBlindOnNetflix', 'BrandNewSentence', 'assholedesign', 'BeautyGuruChatter', 'Eyebleach', 'Gamingcirclejerk', 'confidentlyincorrect', 'Sims4', 'toptalent', 'interestingasfuck', 'TerrifyingAsFuck', 'eczeMABs', 'criticalrole', 'Blizzard', 'Sims3', 'pcmasterrace', 'trashy', 'itookapicture', 'PoliticalHumor', 'comedyheaven', 'IncelTears', 'CuratedTumblr', 'AnimalsBeingBros', 'books', 'TikTokCringe', 'TheWayWeWere', 'tifu', 'memesopdidnotlike', 'CozyPlaces', 'OutOfTheLoop', 'Fauxmoi', 'NotHowGirlsWork', 'clevercomebacks', 'DownvotedToOblivion', 'AdviceAnimals', 'Psoriasis', 'LegaciesCW', 'MadeMeSmile', 'Piracy', 'nottheonion', 'StrangerThings', 'ihadastroke', 'ChoosingBeggars', 'todayilearned', 'rarepuppers', 'HolUp', 'TrueOffMyChest', 'instant_regret', 'Art', 'inthenews', 'insanepeoplefacebook', 'LifeProTips', 'entertainment', 'BlackPeopleTwitter', 'FuckYouKaren', 'therewasanattempt', 'maybemaybemaybe', 'nextfuckinglevel', 'eczema', 'sadcringe', 'PublicFreakout', 'meirl', 'FunnyandSad', 'funny', 'ContagiousLaughter', 'newyork', 'SubredditDrama', 'movies', 'UFOs', 'starterpacks', 'madlads', 'gatekeeping', 'CrappyDesign'}\n"
     ]
    },
    {
     "name": "stderr",
     "output_type": "stream",
     "text": [
      "Scraping user comments:   0%|          | 11/29911 [03:02<154:41:09, 18.62s/it]"
     ]
    },
    {
     "name": "stdout",
     "output_type": "stream",
     "text": [
      "Comments saved to /Users/smutnuri/Documents/UVA/_Projects/Fall24/CBM/CBMRepo/Data/usercomments/-BetchPLZ_usercomments.json\n",
      "{'ADCMains', 'MarioKartWii', 'SipsTea', 'MTGSharpieCube', 'BadMtgCombos', 'mildlyinteresting', 'MultiVersus', 'LeagueOfMemes', 'adventofcode', 'ChaosGalaxyTCG', 'technology', 'sports', 'Funnymemes', 'cardgames', 'recruitinghell', 'Stepmania', 'csMajors', 'geography', 'esports', 'AskReddit', 'MagicArena', 'notinteresting', 'dvorak', 'Anticonsumption', 'KogMawMains', 'SSBM', 'terriblefacebookmemes', 'comics', 'yugioh', 'SelfAwarewolves', '2meirl4meirl', 'Pauper', 'unpopularopinion', 'science', 'Whatcouldgowrong', 'KidsAreFuckingStupid', 'ExplainTheJoke', 'UpliftingNews', 'nvidia', 'memes', 'CollegeRant', 'SteamedHams', 'Damnthatsinteresting', 'The10thDentist', 'hardimages2', 'nhl', 'MTGmemes', 'ModernMagic', 'CompetitiveEDH', 'RandomThoughts', 'stunfisk', 'rareinsults', 'grayandwhitecats', 'FringeEDH', 'MapPorn', 'TrueUnpopularOpinion', 'AITAH', 'japannews', 'mathmemes', 'news', 'leagueoflegends', 'Jungle_Mains', 'AskProfessors', 'Adulting', 'custommagic', 'Presidents', 'magicTCG', 'whenthe', 'SSBPM', 'EDH', 'ProgrammerHumor', 'WhitePeopleTwitter', 'malelivingspace', 'coolguides', 'dataisbeautiful', 'tumblr', 'wholesomegreentext', 'WatchPeopleDieInside', 'mildlyinfuriating', 'povertyfinance', 'pics', 'facepalm', 'gaming', 'NoStupidQuestions', 'worldnews', 'spikes', 'SmashBrosUltimate', 'ImTheMainCharacter', 'greentext', 'AMA', 'summonerschool', 'StupidFood', 'kenslifelessons', 'gadgets', 'youseeingthisshit', 'TeamfightTactics', 'nostalgia', 'Wellthatsucks', 'politics', 'LivestreamFail', 'MarkMyWords', 'LucianMains', 'pchelp', 'cats', 'Gamingcirclejerk', 'smashbros', 'TerrifyingAsFuck', 'buildapc', 'ExperiencedDevs', 'chess', '196', 'mtg', 'dsa', 'college', 'pcmasterrace', 'BikiniBottomTwitter', 'kaisamains', 'careeradvice', 'PauperEDH', 'VarusMains', 'lostredditors', 'books', 'learnmath', 'CuratedTumblr', 'settmains', 'TikTokCringe', 'LinkedInLunatics', 'LegendsOfRuneterra', 'badmathematics', 'jobs', 'sciencememes', 'clevercomebacks', 'stupidquestions', 'LinusTechTips', 'DownvotedToOblivion', 'AnarchyChess', 'cscareerquestions', 'nottheonion', 'Albany', 'TopCharacterDesigns', 'todayilearned', 'shitposting', 'CatsBeingCats', 'MTGO', 'LifeProTips', 'BlackPeopleTwitter', 'tcgcollecting', 'fuckcars', 'sadcringe', 'Teachers', 'meirl', 'ChatGPT', 'funny', 'GenZ', 'starterpacks', 'dashcams', 'redditmoment'}\n"
     ]
    },
    {
     "name": "stderr",
     "output_type": "stream",
     "text": [
      "Scraping user comments:   0%|          | 12/29911 [03:19<149:43:07, 18.03s/it]"
     ]
    },
    {
     "name": "stdout",
     "output_type": "stream",
     "text": [
      "Comments saved to /Users/smutnuri/Documents/UVA/_Projects/Fall24/CBM/CBMRepo/Data/usercomments/-BunsenBurn-_usercomments.json\n",
      "{'fantasywriters', 'knitting', 'janeausten', 'AskUK', 'worldnews', 'unitedkingdom', 'books', 'CasualUK'}\n"
     ]
    },
    {
     "name": "stderr",
     "output_type": "stream",
     "text": [
      "Scraping user comments:   0%|          | 13/29911 [03:19<105:42:26, 12.73s/it]"
     ]
    },
    {
     "name": "stdout",
     "output_type": "stream",
     "text": [
      "Comments saved to /Users/smutnuri/Documents/UVA/_Projects/Fall24/CBM/CBMRepo/Data/usercomments/-Careless_Expert-_usercomments.json\n",
      "{'television', 'iamverybadass', 'architecture', 'stuffyoushouldknow', 'microgrowery', 'mildlyinteresting', 'videos', 'Showerthoughts', 'listentothis', 'frugalmalefashion', 'Documentaries', 'sports', 'hardwareswap', 'AmateurRoomPorn', 'Frugal', 'nationalparks', 'techsupport', 'bedroompop', 'ultraq', 'AskReddit', 'WaxPens', 'gifs', 'Old_Recipes', 'GameSale', 'NewVapeFlowerPot', 'regularcarreviews', 'science', 'DIY', 'UpliftingNews', 'malefashionadvice', 'Drugs', 'memes', 'creepy', 'Futurology', 'AnalogCommunity', 'BoundlessVapes', 'philosophy', 'Watches', 'aww', 'MapPorn', 'bodyweightfitness', 'Jokes', 'news', 'TwoXChromosomes', 'motorcycles', 'Music', 'nosleep', 'hempflowers', 'NationalPark', 'Autos', 'malelivingspace', 'The_TRVP', 'dataisbeautiful', 'backpacking', 'FLMedicalTrees', 'RoomPorn', 'CannabisHardware', 'Mavica', 'pics', 'EatCheapAndHealthy', 'gaming', 'worldnews', 'educationalgifs', 'VEDC', 'vandwellers', 'Waxpen', 'EDCexchange', 'gadgets', 'MeatRabbitry', 'blog', 'space', 'OldSchoolCool', 'Wellthatsucks', 'roadtrip', 'history', 'explainlikeimfive', 'personalfinance', 'Roadcam', 'delta8resellers', 'PaMedicalMarijuana', 'IndoorGarden', 'altcannabinoids', 'photomarket', 'CarAV', 'StonerEngineering', 'Saionara', 'photography', 'SeikoMods', 'Construction', 'fightporn', 'books', 'foraging', 'tifu', 'DivineTribeVaporizers', 'Watchexchange', 'Piracy', 'nottheonion', 'Dynavap', 'todayilearned', 'ANormalDayInRussia', 'EDC', 'AnalogRepair', 'homestead', 'Art', 'diyaudio', 'whatisthisthing', 'LifeProTips', 'IdiotsInCars', 'climbing', 'uBlockOrigin', 'InternetIsBeautiful', 'trees', 'vaporents', 'funny', 'Cartalk', 'myog', 'analog', 'movies'}\n"
     ]
    },
    {
     "name": "stderr",
     "output_type": "stream",
     "text": [
      "Scraping user comments:   0%|          | 14/29911 [03:47<144:23:53, 17.39s/it]"
     ]
    },
    {
     "name": "stdout",
     "output_type": "stream",
     "text": [
      "Comments saved to /Users/smutnuri/Documents/UVA/_Projects/Fall24/CBM/CBMRepo/Data/usercomments/-Chicago-_usercomments.json\n",
      "{'MotionDesign', 'justgalsbeingchicks', 'thatsInterestingDude', 'LegalAdviceUK', 'books', 'DungeonsAndDragons', 'communism', 'scifi', 'audible', 'GreenAndPleasant', 'literature', 'LateStageCapitalism', 'fixedbytheduet', 'fight_disinformation', 'PhotoshopRequest', 'AfterEffects', 'clevercomebacks', 'bookscirclejerk', 'glasgow', 'bobiverse', 'Games', 'Wellthatsucks', 'AdobeIllustrator', 'NewsAndPolitics', 'DungeonMasters', 'UbereatsUK', 'antiwork', 'teaching', 'AskUK', 'grime', 'TheDeprogram'}\n"
     ]
    },
    {
     "name": "stderr",
     "output_type": "stream",
     "text": [
      "Scraping user comments:   0%|          | 15/29911 [03:49<105:55:55, 12.76s/it]"
     ]
    },
    {
     "name": "stdout",
     "output_type": "stream",
     "text": [
      "Comments saved to /Users/smutnuri/Documents/UVA/_Projects/Fall24/CBM/CBMRepo/Data/usercomments/-ExDee-_usercomments.json\n",
      "{'television', 'ask', 'stephenking', 'mildlyinteresting', 'GTA6', 'flicks', 'ontario', 'Letterboxd', 'scifi', 'technology', 'law', 'askvan', 'Funnymemes', 'Millennials', 'me_irl', 'horror', 'Manitoba', 'deadpool', 'SnyderCut', 'AskReddit', 'geography', 'alberta', 'gifs', 'GenZ', 'MurderedByWords', 'stalker', 'blankies', 'the_everything_bubble', 'Langley', 'onguardforthee', 'moviecritic', 'antiwork', 'gamingsuggestions', 'Oscars', 'unpopularopinion', 'texts', 'KidsAreFuckingStupid', 'ThelastofusHBOseries', 'marvelstudios', 'PetPeeves', 'psychedelicrock', 'ItsAllAboutGames', 'shittymoviedetails', 'rock', 'PeterExplainsTheJoke', 'notthebeaverton', 'nevertellmetheodds', 'creepy', 'Damnthatsinteresting', 'fightsub', 'xbox', 'millenials', 'steak', 'simpsonsshitposting', 'FoodVideoPorn', 'RandomThoughts', 'AbandonedPorn', 'hypotheticalsituation', 'A24', 'rareinsults', 'H5N1_AvianFlu', 'climatechange', 'popculturechat', 'AITAH', 'rpg_gamers', 'news', 'MadMax', 'Askpolitics', 'JamesBond', 'LangfordBC', 'suggestmeabook', 'televisionsuggestions', 'TenaciousD', 'MovieLeaksAndRumors', 'Fancast', 'Music', 'FIlm', 'DunderMifflin', 'WhitePeopleTwitter', 'southpark', 'midjourney', 'photocritique', 'AllThatIsInteresting', 'mildlyinfuriating', 'Simpsons', 'gamingnews', 'Marvel', 'UkraineWarVideoReport', 'facepalm', 'pics', 'oddlysatisfying', 'StarWars', 'gaming', 'canada', 'ImaginaryLandscapes', 'LeopardsAteMyFace', 'worldnews', 'dalle2', 'RandomQuestion', 'ShoppersDrugMart', 'LeaksAndRumors', 'oddlyspecific', 'FuckImOld', 'comicbookmovies', 'Tinder', 'Longshoremen', 'gamernews', '911dispatchers', 'joker', 'space', 'OldSchoolCool', 'legaladvicecanada', 'union', 'interesting', 'USNewsHub', 'politics', 'IASIP', 'googledocs', 'AskACanadian', 'BeAmazed', 'canadian', 'FordFusionEnergi', 'SlowHorses', 'TrueReddit', 'WorkReform', 'NewsOfTheStupid', 'PS4', 'interestingasfuck', 'boxoffice', 'britishcolumbia', 'SweatyPalms', 'pcmasterrace', 'XboxSeriesX', 'questions', 'climate', 'books', 'tvPlus', 'TikTokCringe', 'reddeadredemption', 'nytimes', 'clevercomebacks', 'stupidquestions', 'skeptic', 'Doppleganger', 'AdviceAnimals', 'IdlePlanetMiner', 'marvelmemes', 'MadeMeSmile', 'CasualUK', 'nottheonion', 'kelowna', 'TheSimpsons', 'todayilearned', 'thelastofus', 'inthenews', 'bald', 'matrix', 'rockstar', 'entertainment', 'KeepWriting', 'maybemaybemaybe', 'vancouver', 'seinfeld', 'batman', 'meirl', 'ChatGPT', 'funny', 'DC_Cinematic', 'movies', 'ChristopherNolan', 'patientgamers', 'videogames'}\n"
     ]
    },
    {
     "name": "stderr",
     "output_type": "stream",
     "text": [
      "Scraping user comments:   0%|          | 16/29911 [04:19<147:07:13, 17.72s/it]"
     ]
    },
    {
     "name": "stdout",
     "output_type": "stream",
     "text": [
      "Comments saved to /Users/smutnuri/Documents/UVA/_Projects/Fall24/CBM/CBMRepo/Data/usercomments/-FeistyRabbitSauce-_usercomments.json\n",
      "{'TwoSentenceComedy', 'NoStupidQuestions', 'puzzles', 'cakedecorating', 'DesiWeddings', 'AskIndia', 'books', 'AmIOverreacting', 'weddingplanning', 'OhNoConsequences', 'Gifts', 'BestofRedditorUpdates', 'Modesto', 'AskReddit', 'MonarchButterfly', 'AITAH', 'Catmemes', 'gardening', 'wedding', 'UnethicalLifeProTips', 'MagicEye', 'words', 'lol', 'Baking', 'mildlyinfuriating', 'IndoorGarden', 'AmItheAsshole'}\n"
     ]
    },
    {
     "name": "stderr",
     "output_type": "stream",
     "text": [
      "Scraping user comments:   0%|          | 17/29911 [04:20<105:41:14, 12.73s/it]"
     ]
    },
    {
     "name": "stdout",
     "output_type": "stream",
     "text": [
      "Comments saved to /Users/smutnuri/Documents/UVA/_Projects/Fall24/CBM/CBMRepo/Data/usercomments/-FirstTigerHobbes-_usercomments.json\n",
      "{'Weird', 'television', 'ask', 'SipsTea', 'whatsthisbug', 'TwoHotTakes', 'redditonwiki', 'mildlyinteresting', 'landscaping', 'Showerthoughts', 'Funnymemes', 'Xennials', 'self', 'Millennials', 'houseplants', 'HumansBeingBros', 'gameofthrones', 'FluentInFinance', 'meme', 'notliketheothergirls', 'zillowgonewild', 'AskReddit', 'badroommates', 'skyrim', 'AITA_WIBTA_PUBLIC', 'Cooking', 'Apartmentliving', 'gifs', 'Catswithjobs', 'loseit', 'Nails', 'MurderedByWords', 'GenZ', 'SwiftlyNeutral', 'notinteresting', 'the_everything_bubble', 'Anticonsumption', 'WhatsWrongWithYourDog', 'PetsareAmazing', 'moviecritic', 'RoastMe', 'comics', 'antiwork', 'SelfAwarewolves', '2meirl4meirl', 'texts', 'unpopularopinion', 'uberdrivers', 'KitchenConfidential', 'science', 'DisneyWorld', 'KidsAreFuckingStupid', 'Nicegirls', 'ExplainTheJoke', 'MemeVideos', 'PeterExplainsTheJoke', 'memes', 'GenX', 'Damnthatsinteresting', 'CleaningTips', 'Futurology', 'The10thDentist', 'millenials', 'nhl', 'TattooDesigns', 'AskMen', 'evilautism', 'OhNoConsequences', 'JustGuysBeingDudes', 'USPS', 'corgi', 'Awww', 'travisandtaylor', 'hypotheticalsituation', 'wholesomememes', 'rareinsults', 'BBQ', 'foundsatan', 'TrueCrimeDiscussion', 'CringeTikToks', 'weddingshaming', 'golf', 'HydroHomies', 'MapPorn', 'popculturechat', 'OlderThanYouThinkIAm', 'BORUpdates', 'Unexpected', 'AITAH', 'news', 'technicallythetruth', 'whatisit', 'TwoXChromosomes', 'Adulting', 'blackcats', '3Dprinting', 'Music', 'DunderMifflin', 'harrypotter', 'Presidents', 'FindTheSniper', 'stonerfood', 'WhitePeopleTwitter', 'SnapshotHistory', 'HarryPotterMemes', 'coolguides', 'dataisbeautiful', 'malelivingspace', 'EngagementRings', 'AllThatIsInteresting', 'mildlyinfuriating', 'sewing', 'HistoricalCapsule', 'ATBGE', 'MyPeopleNeedMe', 'florida', 'facepalm', 'pics', 'oddlysatisfying', 'unusual_whales', 'ThailandTourism', 'minimalism', 'justgalsbeingchicks', 'NoStupidQuestions', 'worldnews', 'gaming', 'BoomersBeingFools', 'ImTheMainCharacter', 'bitcheswithtaste', 'oddlyspecific', 'repost', 'theydidthemath', 'FuckImOld', 'StupidFood', 'fixedbytheduet', 'wallstreetbets', 'BestofRedditorUpdates', 'NameMyCat', 'declutter', 'Tinder', 'tattoos', 'atheism', 'nostalgia', 'interesting', 'Wellthatsucks', 'politics', 'BrandNewSentence', 'AnythingGoesNews', 'Asmongold', 'BeAmazed', 'shittyfoodporn', 'AccidentalRenaissance', 'mensfashion', 'saltierthankrayt', 'delta', 'Eyebleach', 'cats', 'Gamingcirclejerk', 'confidentlyincorrect', 'WitchesVsPatriarchy', 'NewsOfTheStupid', 'interestingasfuck', 'pettyrevenge', 'lifehacks', 'explainlikeimfive', 'DOG', 'NonPoliticalTwitter', 'hurricane', 'femalelivingspace', 'SweatyPalms', 'AltFashion', '30PlusSkinCare', 'blunderyears', 'NatureIsFuckingLit', 'OneOrangeBraincell', 'holdmycatnip', 'PoliticalHumor', 'comedyheaven', 'Justfuckmyshitup', 'CuratedTumblr', 'books', 'AmIOverreacting', 'TikTokCringe', 'tifu', 'Costco', 'Fauxmoi', 'sciencememes', 'clevercomebacks', 'Catnames', 'JoeRogan', 'beauty', 'orlando', 'trailrunning', 'hockey', 'FuckTedCruz', 'MadeMeSmile', 'tonightsdinner', 'nottheonion', 'CasualUK', 'mildyinteresting', 'ChoosingBeggars', 'todayilearned', 'amiwrong', 'inthenews', 'tragedeigh', 'LifeProTips', 'BlackPeopleTwitter', 'teenagers', 'nextfuckinglevel', 'Teachers', 'meirl', 'ChatGPT', 'funny', 'enlightenment', 'castiron', 'movies', 'starterpacks', 'madlads', 'shittytattoos', 'CrappyDesign'}\n"
     ]
    },
    {
     "name": "stderr",
     "output_type": "stream",
     "text": [
      "Scraping user comments:   0%|          | 18/29911 [04:35<111:13:59, 13.40s/it]"
     ]
    },
    {
     "name": "stdout",
     "output_type": "stream",
     "text": [
      "Comments saved to /Users/smutnuri/Documents/UVA/_Projects/Fall24/CBM/CBMRepo/Data/usercomments/-GlitterGoblin-_usercomments.json\n",
      "{'BeardedDragons', 'Candles', 'CollegeRant', 'CatDistributionSystem', 'books', 'icecream', 'thesims', 'longnaturalnails', 'AnimalJam', 'Lovebirds', 'africanparents', 'airplaneears', 'Embroidery', 'Genshin_Impact', 'CozyPlaces', 'Episode', 'trans', 'parrots', 'SupermodelCats', 'sphynx', 'punkfashion', 'cockatiel', 'ABraThatFits', 'BooksThatFeelLikeThis', 'NameMyCat', 'cowcats', 'TheSims4Mods', 'pigeon', 'CalicoKittys', 'Cooking', 'coquettesque', 'meowsertrousers', 'catpics', 'Choices', 'FTMfemininity', 'fantasywriters', 'suggestmeabook', 'Nails', 'ftm', 'standardissuecat', 'BlackLGBT', 'TMPOC', 'cats', 'BostonTerrier', 'thumbcats', 'Sims4', 'lgbt', 'AO3', 'AskTeachers', 'heterochromia', 'AlbedosCreations', 'snails', 'RoastMyCat', 'selectivemutism', 'Baking', 'dechonkers', 'LoveNikki', 'Fantasy', 'pitbulls', 'plushies', 'frogs', 'college', 'RATS'}\n"
     ]
    },
    {
     "name": "stderr",
     "output_type": "stream",
     "text": [
      "Scraping user comments:   0%|          | 19/29911 [04:53<122:51:13, 14.80s/it]"
     ]
    },
    {
     "name": "stdout",
     "output_type": "stream",
     "text": [
      "Comments saved to /Users/smutnuri/Documents/UVA/_Projects/Fall24/CBM/CBMRepo/Data/usercomments/-GreyRaven_usercomments.json\n",
      "{'television', 'SipsTea', 'mildlyinteresting', 'DnDHomebrew', 'Genshin_Impact', 'AskReddit', 'geography', 'Grimdank', 'travel', 'SelfAwarewolves', 'ZZZ_Official', 'AskUK', 'science', 'Overwatch', 'UpliftingNews', 'japanresidents', 'PeterExplainsTheJoke', 'memes', 'AskMen', 'philosophy', 'MinecraftMemes', 'MapPorn', 'japan', 'Jokes', 'AITAH', 'news', 'japannews', 'DuelLinks', 'HonkaiStarRail', 'harrypotter', 'nosleep', 'magicTCG', 'WhitePeopleTwitter', 'dataisbeautiful', 'suicidebywords', 'mildlyinfuriating', 'lotr', 'facepalm', 'pcgaming', 'pics', 'gaming', 'NoStupidQuestions', 'worldnews', 'LeopardsAteMyFace', 'DnD', 'dndmemes', 'LateStageCapitalism', 'doctorwho', 'Tinder', 'Yugioh101', 'Wellthatsucks', 'AnythingGoesNews', 'politics', 'HonkaiStarRail_leaks', 'Tokyo', 'japanlife', 'AroAce', 'Gamingcirclejerk', 'uknews', 'OnesUponaRole', 'dndnext', 'interestingasfuck', 'NonPoliticalTwitter', 'onednd', 'unitedkingdom', 'pcmasterrace', 'books', 'StopGaming', 'Costco', 'LearnJapanese', 'gamedesign', 'MadeMeSmile', 'nottheonion', 'todayilearned', 'Genshin_Impact_Leaks', 'Pathfinder2e', 'inthenews', 'Vocaloid', 'fuckcars', 'PublicFreakout', 'UnearthedArcana'}\n"
     ]
    },
    {
     "name": "stderr",
     "output_type": "stream",
     "text": [
      "Scraping user comments:   0%|          | 20/29911 [05:20<154:51:05, 18.65s/it]"
     ]
    },
    {
     "name": "stdout",
     "output_type": "stream",
     "text": [
      "Comments saved to /Users/smutnuri/Documents/UVA/_Projects/Fall24/CBM/CBMRepo/Data/usercomments/-Karakui_usercomments.json\n",
      "{'Weird', 'ask', 'fromsoftware', 'TwoHotTakes', 'ShitPostCrusaders', 'europes', 'watchpeoplesurvive', 'PewdiepieSubmissions', 'SipsTea', 'mildlyinteresting', 'Showerthoughts', 'Letterboxd', 'technology', 'scifi', 'thesims', 'oddlyterrifying', 'Funnymemes', 'self', 'Xennials', 'Millennials', 'MedicalGore', 'fo4', 'Genshin_Impact', 'me_irl', 'Frugal', 'FluentInFinance', 'notliketheothergirls', 'iamatotalpieceofshit', 'zillowgonewild', 'AskReddit', 'Games', 'AITA_WIBTA_PUBLIC', 'WTF', 'gifs', 'MurderedByWords', 'nononono', 'the_everything_bubble', 'notinteresting', 'MortalOnline', 'squirrels', 'MauLer', 'moviecritic', 'comics', 'antiwork', 'Gaming4Gamers', 'texts', 'unpopularopinion', 'DiWHY', 'science', 'spiderbro', 'Overwatch', 'KidsAreFuckingStupid', 'Whatcouldgowrong', 'IndieGaming', 'IrrationalMadness', 'HumansAreMetal', 'shittymoviedetails', 'PeterExplainsTheJoke', 'memes', 'Damnthatsinteresting', 'Futurology', 'Rich', 'democrats', 'NewsOfTheWeird', 'AskMen', 'ThatsInsane', 'suspiciouslyspecific', 'amibeingdetained', 'OhNoConsequences', 'RandomThoughts', 'hypotheticalsituation', 'europe', 'wholesomememes', 'Android', 'rareinsults', 'PS5', 'aww', 'MapPorn', 'popculturechat', 'technicallythetruth', 'NahOPwasrightfuckthis', 'AITAH', 'Unexpected', 'news', 'masskillers', 'elderscrollsonline', 'Adulting', 'Helldivers', 'OnePiece', 'gamedev', 'Music', 'holdmybeer', 'sillybritain', 'ProgrammerHumor', 'Money', 'Warframe', 'WhitePeopleTwitter', 'cyberpunkgame', 'dataisbeautiful', 'coolguides', 'AllThatIsInteresting', 'tumblr', 'WatchPeopleDieInside', 'MakeMeSuffer', 'mildlyinfuriating', 'facepalm', 'pics', 'pcgaming', 'StarWars', 'cursedcomments', 'oddlysatisfying', 'gaming', 'NoStupidQuestions', 'MorbidReality', 'photoshopbattles', 'StartledCats', 'Steam', 'StupidFood', 'videogames', 'cat', 'Unity3D', 'NameMyCat', 'aspergers', 'gamernews', 'OldSchoolCool', 'popularopinion', 'atheism', 'nostalgia', 'NotMyJob', 'AnythingGoesNews', 'Wellthatsucks', 'autism', 'politics', 'LivestreamFail', 'MURICA', 'MMORPG', 'BrandNewSentence', 'BeAmazed', 'hardware', 'assholedesign', 'Destiny', 'anime', 'playstation', 'cats', 'Gamingcirclejerk', 'confidentlyincorrect', 'NewsOfTheStupid', 'toptalent', 'interestingasfuck', 'Fallout', 'holdmyfeedingtube', 'wholesome', 'explainlikeimfive', 'CrazyFuckingVideos', 'Bossfight', 'NonPoliticalTwitter', 'unitedkingdom', 'futurama', 'tattooadvice', 'blunderyears', 'pcmasterrace', 'NatureIsFuckingLit', 'OneOrangeBraincell', 'amiugly', 'trashy', 'DesignPorn', 'PoliticalHumor', 'AbruptChaos', 'fightporn', 'collapse', 'books', 'OUTFITS', 'HadToHurt', 'AmIOverreacting', 'TikTokCringe', 'tifu', 'Fauxmoi', 'clevercomebacks', 'stupidquestions', 'JoeRogan', 'wow', 'AdviceAnimals', 'iphone', 'MadeMeSmile', 'unket', 'nottheonion', 'dankmemes', 'CasualUK', 'TheSimpsons', 'todayilearned', 'shitposting', 'HolUp', 'TrueOffMyChest', 'amiwrong', 'tragedeigh', 'entertainment', 'teenagers', 'Idiotswithguns', 'therewasanattempt', 'nextfuckinglevel', 'maybemaybemaybe', 'batman', 'PublicFreakout', 'meirl', 'medicine', 'ChatGPT', 'funny', 'ContagiousLaughter', 'YouShouldKnow', 'Eldenring', 'patientgamers', 'movies', 'starterpacks', 'shittytattoos', 'criticalblunder'}\n"
     ]
    },
    {
     "name": "stderr",
     "output_type": "stream",
     "text": [
      "Scraping user comments:   0%|          | 21/29911 [05:36<146:43:37, 17.67s/it]"
     ]
    },
    {
     "name": "stdout",
     "output_type": "stream",
     "text": [
      "Comments saved to /Users/smutnuri/Documents/UVA/_Projects/Fall24/CBM/CBMRepo/Data/usercomments/-MacCoy_usercomments.json\n",
      "{'words', 'cottagecore', 'suggestmeabook', 'adhdwomen', 'PlusSizeFashion', 'manchester', 'Catholicism', 'namenerds', 'Mommit', 'AskUK', 'CongratsLikeImFive', 'traumatizeThemBack', 'ThriftStoreHauls', 'CasualConversation', 'books', 'PS5'}\n"
     ]
    },
    {
     "name": "stderr",
     "output_type": "stream",
     "text": [
      "Scraping user comments:   0%|          | 22/29911 [05:37<104:45:24, 12.62s/it]"
     ]
    },
    {
     "name": "stdout",
     "output_type": "stream",
     "text": [
      "Comments saved to /Users/smutnuri/Documents/UVA/_Projects/Fall24/CBM/CBMRepo/Data/usercomments/-MamaGreen-_usercomments.json\n",
      "{'television', 'Weird', 'place', 'PSP', 'witcher', 'FF06B5', 'LightNoFireHelloGames', 'mildlyinteresting', 'Wirtschaftsweise', 'GoogleMaps', 'videos', 'Seaofthieves', 'Showerthoughts', 'technology', 'sports', 'de', 'Warhammer40k', 'Battlefield', 'csgo', 'Energiewirtschaft', 'HuntShowdown', 'Finanzen', 'Modellbau', 'AskReddit', 'Games', 'Grimdank', 'shittyaskscience', 'PcBuild', 'SatisfactoryGame', 'gifs', 'wortwitzkasse', 'Azubis', 'CookieClicker', 'NichtDieTagespresse', 'DarkTide', 'BattleBitRemastered', 'stellarblade', 'de_IAmA', 'Laesterschwestern', 'science', 'SteamDeck', 'MonsterHunter', 'PCGamingDE', 'Filme', 'German', 'unpopularopinion', 'sysadmin', 'UpliftingNews', 'dhl_deutsche_post', 'ludumdare', 'marvelstudios', 'shittymoviedetails', 'nvidia', 'LiminalSpace', 'dwarffortress', 'talespire', 'creepy', 'de_EDV', 'aberBitteLaminiert', 'drehscheibe', 'Futurology', 'HarryPotterGame', 'ThemeParkitect', 'FragReddit', 'tja', 'DeutschePhotovoltaik', 'PotionCraft', 'europe', 'arbeitsleben', 'PS5', 'DeepRockGalactic', 'MapPorn', 'DualUniverse', 'theguild3', 'news', 'DragonAgeVeilguard', 'Helldivers', 'zocken', 'gamedev', 'harrypotter', 'NoMansSkyTheGame', 'Music', 'ScienceUncensored', 'ProgrammerHumor', 'Warframe', 'lastimages', 'rbtv_cj', 'HorusGalaxy', 'doener', 'dataisbeautiful', 'cyberpunkgame', 'midjourney', 'help', 'classicwow', 'Office365', 'mildlyinfuriating', 'gamingnews', 'linux_gaming', 'facepalm', 'pcgaming', 'Spacemarine', 'pics', 'ffxiv', 'gaming', 'NoStupidQuestions', 'worldnews', 'tee', 'wikipedia', 'satisfactory', 'placeDE', 'Windows11', 'IndianGaming', 'Beichtstuhl', 'baronygame', 'Coldmirror', 'WindowsMR', 'fuckepic', 'Steam', 'unrealengine', 'Silksong', 'AmongUs', 'Vermintide', 'wallstreetbets', 'BinIchDasArschloch', 'Project_Contingency', 'gadgets', 'Doom', 'berlin', 'CounterStrikeDE', 'space', 'OldSchoolCool', 'Palworld', 'Amd', 'germany', 'BaldursGate3', 'GetMotivated', 'Asmongold', 'Avatar', 'CDProjektRed', 'valve', 'kannmandasnochessen', 'SCCM', 'halo', 'voidtrain', 'HotWheelsunleashed', 'Ratschlag', 'Gamingcirclejerk', 'history', 'interestingasfuck', 'berlin_public', 'spacefrogs', 'spaceengineers', 'Bundesliga', 'explainlikeimfive', 'windows', 'buildapc', 'ARK', 'gekte', 'Staiy', 'Louisiana', 'starcitizen', 'hamburg', 'totalwar', 'ich_iel', 'pcmasterrace', 'BuckshotRouletteFans', 'DeadlockTheGame', 'LowSodium2042', 'books', 'MiABinaryStar', 'SchnitzelVerbrechen', 'u_SrGrafo', 'tifu', 'PokemonDe', 'myst', 'MortalKombat', 'blenderhelp', 'Windows10', 'schrumpflation', 'LinusTechTips', 'Austria', 'AnarchyChess', 'MadeMeSmile', 'WerWieWas', 'nottheonion', 'Doenerverbrechen', 'phantasialand', 'todayilearned', 'neuralnetworks', 'instant_regret', 'pokemongo', 'Art', 'LifeProTips', 'Nachrichten', 'LowSodiumCyberpunk', 'InternetIsBeautiful', 'GlobalOffensive', 'StardewValley', 'meirl', 'funny', 'ichbin40undSchwurbler', 'PathOfExile2', 'Eldenring', 'rocketbeans', 'movies'}\n"
     ]
    },
    {
     "name": "stderr",
     "output_type": "stream",
     "text": [
      "Scraping user comments:   0%|          | 23/29911 [06:10<157:24:31, 18.96s/it]"
     ]
    },
    {
     "name": "stdout",
     "output_type": "stream",
     "text": [
      "Comments saved to /Users/smutnuri/Documents/UVA/_Projects/Fall24/CBM/CBMRepo/Data/usercomments/-Memnarch-_usercomments.json\n",
      "{'ask', 'SipsTea', 'VintageFashion', 'Legoleak', 'starwarsmemes', 'retroid', 'mildlyinteresting', 'videos', 'landscaping', 'ThriftStoreHauls', 'houstonwade', 'VirtualYoutubers', 'mainecoons', 'PrequelMemes', 'technology', 'revancedapp', 'oddlyterrifying', 'Funnymemes', 'Millennials', 'verizon', 'apple', 'me_irl', 'HumansBeingBros', 'ExpectationVsReality', 'gamecollecting', 'TheLastAirbender', 'galaxyzflip', 'gameofthrones', 'iamatotalpieceofshit', 'pokemon', 'AskReddit', 'Games', 'lordoftherings', 'NintendoSwitch', 'DCcomics', 'MurderedByWords', 'PiratedGames', 'notinteresting', 'BobsBurgers', 'drawing', 'Seattle', 'SupermanAdventures', 'overthegardenwall', 'moviecritic', 'comics', 'Animemes', 'Spiderman', 'ZZZ_Official', 'UNBGBBIIVCHIDCTIICBG', 'HomeDecorating', 'science', 'FUCKYOUINPARTICULAR', 'Overwatch', 'KidsAreFuckingStupid', 'KitchenConfidential', 'DIY', 'SteamDeck', 'youtube', 'GalaxyS21', 'battlestations', 'marvelstudios', 'Hololive', 'shittymoviedetails', 'malefashionadvice', 'memes', 'Damnthatsinteresting', 'Futurology', 'me_irlgbt', 'ThatsInsane', 'MiyooMini', 'FoodVideoPorn', 'lego', 'animecirclejerk', 'maryland', 'webcomics', 'wholesomememes', 'IllegallySmolCats', 'europe', 'rareinsults', 'hellsomememes', 'PS5', 'aww', 'lotrmemes', 'popculturechat', 'AITAH', 'news', 'TwoXChromosomes', 'Catmemes', 'blackcats', 'Presidents', 'magicTCG', 'TumblrDraws', 'WhitePeopleTwitter', 'Hulu', 'woahdude', 'tumblr', 'WatchPeopleDieInside', 'mildlyinfuriating', 'UkraineWarVideoReport', 'Woodcarving', 'oddlysatisfying', 'pics', 'facepalm', 'StarWars', 'pcgaming', 'flipperzero', 'justgalsbeingchicks', 'gaming', 'worldnews', 'NoStupidQuestions', 'Design', 'LeopardsAteMyFace', 'cartoons', 'ImTheMainCharacter', 'amazonprime', 'DnD', 'AMA', 'Steam', 'oddlyspecific', 'FuckImOld', 'videogames', 'SBCGaming', 'doctorwho', 'painting', 'wallstreetbets', 'NameMyCat', 'gadgets', 'minnesota', 'space', 'OldSchoolCool', 'vinyl', 'interesting', 'AbsoluteUnits', 'Wellthatsucks', 'BrandNewSentence', 'politics', 'BeAmazed', 'shittyfoodporn', 'SouthParkSnow', 'awesome', 'PixelArt', 'playstation', 'cats', 'anime_irl', 'Gamingcirclejerk', 'MiyooMiniStock', 'WitchesVsPatriarchy', 'PS4', 'toptalent', 'interestingasfuck', 'DOG', 'explainlikeimfive', 'Bossfight', 'Onyx_Boox', 'NonPoliticalTwitter', 'FallenOrder', 'NatureIsFuckingCute', 'futurama', 'tattooadvice', 'pcmasterrace', 'BikiniBottomTwitter', 'NovaLauncher', 'NatureIsFuckingLit', 'Gameboy', 'photography', 'DisneyPlus', 'AbruptChaos', 'CuratedTumblr', 'books', 'OUTFITS', 'AmIOverreacting', 'TikTokCringe', 'community', 'REBubble', 'Costco', 'CozyPlaces', 'clevercomebacks', 'ThriftGrift', 'California', 'VideoGameDealsCanada', 'marvelmemes', 'CasualUK', 'Piracy', 'nottheonion', 'MadeMeSmile', 'manhwa', 'FinalFantasy', 'TopCharacterDesigns', 'themayormccheese', 'todayilearned', 'thalassophobia', 'SonyXperia', 'HolUp', 'thelastofus', 'dumbphones', 'tiltshift', 'DesignMyRoom', 'ANBERNIC', 'InterestingToRead', 'nintendo', 'maybemaybemaybe', 'nextfuckinglevel', 'Minilego', 'batman', 'PublicFreakout', 'meirl', 'ChatGPT', 'funny', 'bi_irl', 'FunnyAnimals', 'stevenuniverse', 'Eldenring', 'Schaffrillas', 'movies', 'GenZ', 'shittytattoos'}\n"
     ]
    },
    {
     "name": "stderr",
     "output_type": "stream",
     "text": [
      "Scraping user comments:   0%|          | 24/29911 [06:23<141:06:10, 17.00s/it]"
     ]
    },
    {
     "name": "stdout",
     "output_type": "stream",
     "text": [
      "Comments saved to /Users/smutnuri/Documents/UVA/_Projects/Fall24/CBM/CBMRepo/Data/usercomments/-PineNeedleTea-_usercomments.json\n",
      "{'television', 'pics', 'massachusetts', 'gaming', 'photoshopbattles', 'creepy', 'AskHistory', 'Seaofthieves', 'mildlyinteresting', 'BoomersBeingFools', 'Futurology', 'Showerthoughts', 'books', 'collapse', 'Documentaries', 'sports', 'inscryption', 'royalcaribbean', 'bostontrees', 'AskReddit', 'space', 'OldSchoolCool', 'mushroomID', 'nottheonion', 'popculturechat', 'Jokes', 'gifs', 'todayilearned', 'news', 'mainetrees', 'residentevil', 'thelastofus', 'MMA', 'WoWs_Legends', 'entertainment', 'food', 'portlandme', 'explainlikeimfive', 'personalfinance', 'science', 'CODZombies', 'DIY', 'DeadSpace', 'movies', 'RangeRover'}\n"
     ]
    },
    {
     "name": "stderr",
     "output_type": "stream",
     "text": [
      "Scraping user comments:   0%|          | 25/29911 [06:39<139:09:41, 16.76s/it]"
     ]
    },
    {
     "name": "stdout",
     "output_type": "stream",
     "text": [
      "Comments saved to /Users/smutnuri/Documents/UVA/_Projects/Fall24/CBM/CBMRepo/Data/usercomments/-Psychonautics-_usercomments.json\n",
      "{'Stargazing', 'itookapicture', 'RedditSessions', 'EarthPorn', 'wildcampingintheuk', 'festivals', 'longboardingDISTANCE', 'HikingEurope', 'books', 'brandonsanderson', 'TheWire', 'oddlyterrifying', 'telescope', 'juridischadvies', 'Rabbits', 'Bonsai', 'GamingLaptops', 'careerguidance', 'AskReddit', 'MadeMeSmile', 'travel', 'StrangerThings', 'AmateurPhotography', 'miband', 'suggestmeabook', 'LakeDistrict', 'longboarding', 'gardening', 'drawing', 'spaceporn', 'CampingandHiking', 'booksuggestions', 'Ultralight', 'UKhiking', 'PS4', 'antiwork', 'camping', 'ChatGPT', 'GalaxyS24', 'ghostoftsushima', 'Bunnies', 'lotr'}\n"
     ]
    },
    {
     "name": "stderr",
     "output_type": "stream",
     "text": [
      "Scraping user comments:   0%|          | 26/29911 [06:41<101:42:43, 12.25s/it]"
     ]
    },
    {
     "name": "stdout",
     "output_type": "stream",
     "text": [
      "Comments saved to /Users/smutnuri/Documents/UVA/_Projects/Fall24/CBM/CBMRepo/Data/usercomments/-RIST-_usercomments.json\n",
      "{'anathem', 'tarot', 'witchcraft', 'StarWars', 'nealstephenson', 'NoStupidQuestions', 'DemonolatryPractices', 'creepy', 'rant', 'mythology', 'Sense8', 'vtm', 'books', 'thesims4', 'DnD', 'thesims', 'okbuddycinephile', 'Showerthoughts', 'scifi', 'pern', 'WoWRolePlay', 'Wicca', 'tolkienfans', 'stupidquestions', 'neilgaiman', 'wow', 'AskAstrologers', 'TheSims4Mods', 'Tarotpractices', 'AskReddit', 'space', 'goth', 'antinatalism2', 'aww', 'atheism', 'AskHistorians', 'HistoricalCostuming', 'AITAH', 'TalesoftheCity', 'GenZ', 'GreekMythology', 'DowntonAbbey', 'TwoXChromosomes', 'Adulting', 'thelema', 'askteenboys', 'dune', 'questions', 'Jhereg', 'teenagers', 'Sims4', 'andor', 'explainlikeimfive', 'BadRPerStories', 'swtor', 'StarWarsCantina', 'AmItheAsshole', 'genewolfe', 'Wattpad', 'Sims3', 'Anarchy101', 'warcraftlore', 'Tudorhistory', 'Fantasy', 'TheAcolyte'}\n"
     ]
    },
    {
     "name": "stderr",
     "output_type": "stream",
     "text": [
      "Scraping user comments:   0%|          | 27/29911 [06:57<111:24:50, 13.42s/it]"
     ]
    },
    {
     "name": "stdout",
     "output_type": "stream",
     "text": [
      "Comments saved to /Users/smutnuri/Documents/UVA/_Projects/Fall24/CBM/CBMRepo/Data/usercomments/-RedRocket-_usercomments.json\n",
      "{'SantaMuerte', 'selfpublishing', 'writing', 'somethingiswrong2024', 'fantasyromance', 'Fairycore', 'Aquariums', 'whatsthatbook', 'DuggarsSnark', 'skyrim', 'AskReddit', 'FundieSnarkUncensored', 'gigapets', 'YAwriters', 'pagan', 'WelcomeToGilead', 'ArtTheClownEverything', 'Milwaukie', 'onguardforthee', 'religion', 'moviecritic', 'antiwork', 'MyFahlo', 'FuckPierre', 'AmItheAsshole', 'cryptids', 'GODZILLA', 'IllegallySmolCats', 'aww', 'KindleVella', 'popculturechat', 'AITAH', 'fantasywriters', 'suggestmeabook', 'blackladies', 'TwoXChromosomes', 'Meditation', 'TheSecondTerm', 'introvert', 'tinyanimalsonfingers', 'HistoricalRomance', 'tumblr', 'YAlit', 'RomanceBooks', 'AlphaNovel', 'FanFiction', 'ArtistHate', 'ZeroCovidCommunity', 'nanowrimo', 'KingOfTheHill', 'polytheism', 'OptimistsUnite', 'BenignExistence', 'RomanceWriters', 'tamagotchi', 'ConjureRootworkHoodoo', 'writers', 'Portland', 'cats', 'WitchesVsPatriarchy', 'Defeat_Project_2025', 'Inkitt', 'books', 'TikTokCringe', 'paganism', 'DarkRomance', 'awwnverts', 'conservativeterrorism', 'NOAA', 'snakes', 'bettafish', 'selfpublish', 'fossilid', 'Lovecraft', 'booksuggestions', 'StardewValley', 'Hellenism', 'Wattpad', 'learntodraw'}\n"
     ]
    },
    {
     "name": "stderr",
     "output_type": "stream",
     "text": [
      "Scraping user comments:   0%|          | 28/29911 [07:14<121:06:58, 14.59s/it]"
     ]
    },
    {
     "name": "stdout",
     "output_type": "stream",
     "text": [
      "Comments saved to /Users/smutnuri/Documents/UVA/_Projects/Fall24/CBM/CBMRepo/Data/usercomments/-Release-The-Bats-_usercomments.json\n",
      "{'salesforce', 'hearthstone', 'Qult_Headquarters', 'moderatepolitics', 'wowguilds', 'Millennials', 'fantasyromance', 'UrinatingTree', 'AskReddit', 'CGPGrey', 'NintendoSwitch', '2007scape', 'the_everything_bubble', 'conspiracy', 'CompetitiveTFT', 'inflation', 'lexfridman', 'battlestations', 'Fantasy', 'malefashionadvice', 'talesfromtechsupport', 'MobileWallpaper', 'millenials', 'baseballcirclejerk', 'AskMen', 'DrawMyTattoo', 'maryland', 'TrueUnpopularOpinion', 'news', 'papermario', 'fantasywriters', 'leagueoflegends', 'MechanicalKeyboards', 'baseball', 'Cloud9', 'teamliquid', 'loreofleague', 'orioles', 'robinhobb', 'AllThatIsInteresting', 'FlyQuest', 'nfl', 'Cardinals', 'WFH', 'florida', 'Fitness', 'pcgaming', 'unusual_whales', 'worldnews', 'neoliberal', 'childfree', 'OptimistsUnite', 'CLG', 'ezraklein', 'TeamfightTactics', 'YangForPresidentHQ', 'politics', 'MarkMyWords', 'Destiny', 'fatlogic', 'Cosmere', 'ravens', 'Conservative', 'QAnonCasualties', 'selfimprovement', 'ExperiencedDevs', 'CasualConversation', 'criticalrole', 'HelloInternet', 'managers', 'climate', 'books', 'REBubble', 'Layoffs', 'wow', 'ironscape', 'careerguidance', 'DadForAMinute', 'running', 'EDC', 'Pathfinder2e', 'supremecourt', 'hacking', 'northernlion', 'funny', 'asoiaf'}\n"
     ]
    },
    {
     "name": "stderr",
     "output_type": "stream",
     "text": [
      "Scraping user comments:   0%|          | 29/29911 [07:25<111:01:54, 13.38s/it]"
     ]
    },
    {
     "name": "stdout",
     "output_type": "stream",
     "text": [
      "Comments saved to /Users/smutnuri/Documents/UVA/_Projects/Fall24/CBM/CBMRepo/Data/usercomments/-Rivendare_usercomments.json\n",
      "{'painting', 'TrueOffMyChest', 'Journaling', 'ImACelebTV', 'books', 'WarriorCats'}\n"
     ]
    },
    {
     "name": "stderr",
     "output_type": "stream",
     "text": [
      "Scraping user comments:   0%|          | 30/29911 [07:25<78:47:23,  9.49s/it] "
     ]
    },
    {
     "name": "stdout",
     "output_type": "stream",
     "text": [
      "Comments saved to /Users/smutnuri/Documents/UVA/_Projects/Fall24/CBM/CBMRepo/Data/usercomments/-SillyCat-_usercomments.json\n",
      "{'AITAH', 'TheBlackList', 'AmyLynnBradley', 'CloudPorn', 'MissingInPanama', 'KremersFroon', 'books', 'MINDSHOCK'}\n"
     ]
    },
    {
     "name": "stderr",
     "output_type": "stream",
     "text": [
      "Scraping user comments:   0%|          | 31/29911 [07:26<56:22:12,  6.79s/it]"
     ]
    },
    {
     "name": "stdout",
     "output_type": "stream",
     "text": [
      "Comments saved to /Users/smutnuri/Documents/UVA/_Projects/Fall24/CBM/CBMRepo/Data/usercomments/-SilvaVonBernried-_usercomments.json\n",
      "{'audiobooks', 'writing', 'mildlyinteresting', 'itcouldhappenhere', 'ontario', 'houstonwade', 'technology', 'scifi', 'economicCollapse', 'law', 'recruitinghell', 'aliens', 'dogs', 'UrinatingTree', 'timetravel', 'Mildlymasseffect', 'AskReddit', 'askTO', 'CBC_Radio', 'geography', 'lordoftherings', 'MurderedByWords', 'Tattoocoverups', 'askscience', 'AutisticWithADHD', 'Dogowners', 'onguardforthee', 'moviecritic', 'UnethicalLifeProTips', 'Midst', 'SelfAwarewolves', 'Bumperstickers', 'gamingsuggestions', 'science', 'AmItheAsshole', 'Fantasy', 'cryptids', 'midnightburger', 'notthebeaverton', 'Damnthatsinteresting', 'johnoliver', 'nhl', 'OopsThatsDeadly', 'HighStrangeness', 'mysteriesoftheworld', 'Salary', 'BG3', 'hypotheticalsituation', 'wholesomememes', 'TorontoRenting', 'podcasts', 'lotrmemes', 'aww', 'climatechange', 'technicallythetruth', 'halifax', 'AITAH', 'news', 'suggestmeabook', 'LangfordBC', 'Music', 'OntarioGrade12s', 'WhitePeopleTwitter', 'coolguides', 'mildlyinfuriating', 'lotr', 'Satisfyingasfuck', 'pics', 'gaming', 'worldnews', 'NoShitSherlock', 'BoomersBeingFools', 'RandomQuestion', 'DnD', 'PhotoshopRequest', 'unexpectedfuturama', 'EdmontonOilers', 'tolkienfans', 'minnesota', 'UAP', 'space', 'legaladvicecanada', 'BaldursGate3', 'tattoos', 'atheism', 'nostalgia', 'AnythingGoesNews', 'politics', 'autism', 'USNewsHub', 'MarkMyWords', 'BeAmazed', 'jasper', 'MovieSuggestions', 'masseffect', 'WitchesVsPatriarchy', 'confidentlyincorrect', 'NewsOfTheStupid', 'interestingasfuck', 'legal', 'pettyrevenge', 'CreditScore', 'audiodrama', 'DOG', 'britishcolumbia', 'CrazyIdeas', 'climate', 'nanaimo', 'books', 'questions', 'TikTokCringe', 'Edmonton', 'VictoriaBC', 'OutOfTheLoop', 'jobs', 'Fauxmoi', 'clevercomebacks', 'hockey', 'regina', 'DadForAMinute', 'MadeMeSmile', 'FinalFantasy', 'TheSimpsons', 'todayilearned', 'Necronomipod', 'Annas_Archive', 'kobo', 'inthenews', 'Leduc', 'NovaScotia', 'entertainment', 'WorkAdvice', 'biology', 'funny', 'bigfoot', 'StarWarsCantina', 'movies', 'UFOs', 'madlads', 'shittytattoos'}\n"
     ]
    },
    {
     "name": "stderr",
     "output_type": "stream",
     "text": [
      "Scraping user comments:   0%|          | 32/29911 [07:53<108:08:40, 13.03s/it]"
     ]
    },
    {
     "name": "stdout",
     "output_type": "stream",
     "text": [
      "Comments saved to /Users/smutnuri/Documents/UVA/_Projects/Fall24/CBM/CBMRepo/Data/usercomments/-Smaug--_usercomments.json\n",
      "{'television', 'RedLetterMedia', 'TopMindsOfReddit', 'worldnews', 'cringe', 'Futurology', 'books', 'Documentaries', 'Fotv', 'thefighterandthekid', 'Fauxmoi', 'horror', 'JoeRogan', 'LV426', 'GODZILLA', 'europe', 'doubletoasted', 'AskReddit', 'Games', 'Terminator', 'nottheonion', 'thatHappened', 'ireland', 'SquaredCircle', 'todayilearned', 'news', 'SCJerk', 'insanepeoplefacebook', 'anime_titties', 'Music', 'entertainment', 'whowouldwin', 'boxoffice', 'PublicFreakout', 'YMS', 'Nietzsche', 'MarvelStudiosSpoilers', 'fistofthenorthstar', 'DC_Cinematic', 'SubredditDrama', 'totalwar', 'movies', 'UpliftingNews', 'rickygervais', 'transformers'}\n"
     ]
    },
    {
     "name": "stderr",
     "output_type": "stream",
     "text": [
      "Scraping user comments:   0%|          | 33/29911 [08:24<153:20:19, 18.48s/it]"
     ]
    },
    {
     "name": "stdout",
     "output_type": "stream",
     "text": [
      "Comments saved to /Users/smutnuri/Documents/UVA/_Projects/Fall24/CBM/CBMRepo/Data/usercomments/-SneakySnake-_usercomments.json\n",
      "{'BookRecommendations', 'clivebarker', 'Relatable', 'Atdeadofnight', 'books'}\n"
     ]
    },
    {
     "name": "stderr",
     "output_type": "stream",
     "text": [
      "Scraping user comments:   0%|          | 34/29911 [08:25<108:35:28, 13.08s/it]"
     ]
    },
    {
     "name": "stdout",
     "output_type": "stream",
     "text": [
      "Comments saved to /Users/smutnuri/Documents/UVA/_Projects/Fall24/CBM/CBMRepo/Data/usercomments/-Strange_Result-_usercomments.json\n",
      "{'television', 'Irony', 'SipsTea', 'TwoHotTakes', 'JonStewart', 'IBEW', 'mildlyinteresting', 'babylonbee', 'ClimateShitposting', 'martialarts', 'TwoSentenceHorror', 'houstonwade', 'PrequelMemes', 'technology', 'StandUpComedy', 'sports', 'economicCollapse', 'law', 'self', 'everquest', 'recruitinghell', 'TheMcDojoLife', 'DotA2', 'Xennials', 'FluentInFinance', 'meme', 'CreationNtheUniverse', 'ClimbingCircleJerk', 'AskReddit', 'badroommates', 'Snorkblot', 'crappymusic', 'shittyaskscience', 'PantheonMMO', 'Contractor', 'Smilepleasse', 'drivingUK', 'punk', 'PcBuild', 'computers', 'blackmagicfuckery', 'MurderedByWords', 'Twitter', 'Tattoocoverups', 'notinteresting', 'the_everything_bubble', 'standardissuecat', 'blursed_videos', 'inflation', 'moviecritic', 'destiny2', 'antiwork', 'Bumperstickers', 'AskUK', 'Justrolledintotheshop', 'DiWHY', 'unpopularopinion', 'KitchenConfidential', 'KidsAreFuckingStupid', 'Pennsylvania', 'skinsTV', 'MemeVideos', 'onionheadlines', 'ExplainTheJoke', 'UpliftingNews', 'Nicegirls', 'gifsthatendtoosoon', 'PetPeeves', 'RATS', 'BucksCountyPA', 'technews', 'electriccars', 'shittymoviedetails', 'PeterExplainsTheJoke', 'Rottweiler', 'HousingUK', 'memes', 'Concrete', 'Damnthatsinteresting', 'Grimsby', 'okbuddycinephile', 'johnoliver', 'nextdoor', 'ClashOfClans', 'amibeingdetained', 'formuladank', 'JustGuysBeingDudes', 'megalophobia', 'MildlyBadDrivers', 'RandomThoughts', 'SpottedonRightmove', 'hypotheticalsituation', 'lancaster', 'rareinsults', 'FacebookScience', 'CringeTikToks', 'aww', 'masonry', 'MapPorn', 'technicallythetruth', 'texas', 'Unexpected', 'AITAH', 'news', 'HomeMaintenance', 'sales', 'whatisit', 'FirstResponderCringe', 'Askpolitics', 'HardVideos', 'drywall', 'weeviltime', 'worldnewsvideo', 'GreatBritishMemes', 'wisconsin', 'bestofinternet', 'sillybritain', 'Scotland', 'ProgrammerHumor', 'Ohio', 'SouthDakota', 'WhitePeopleTwitter', 'GeeksGamersCommunity', 'malelivingspace', 'OldSkaters', 'suicidebywords', 'indoorbouldering', 'AmazonBudgetFinds', 'mildlyinfuriating', 'HouseplantsUK', 'pitbulls', 'lotr', 'UkraineWarVideoReport', 'AggressiveInline', 'oddlysatisfying', 'pics', 'Plumbing', 'unusual_whales', 'Idaho', 'pranks', 'NoStupidQuestions', 'worldnews', 'justgalsbeingchicks', 'NoShitSherlock', 'u_Channel4_UK', 'factorio', 'BoomersBeingFools', 'DnD', 'Cornwall', 'fashion', 'nononoyes', 'NoglaOfficial', 'theydidthemath', 'missouri', 'oddlyspecific', 'amateur_boxing', 'NewSkaters', 'impressively', 'DidntKnowIWantedThat', 'agedlikemilk', 'NameMyCat', 'glasgow', 'fuckwasps', 'OptimistsUnite', 'minnesota', 'DecodingTheGurus', 'OldSchoolCool', 'union', 'idiocracy', 'youseeingthisshit', 'madisonwi', 'atheism', 'interesting', 'woahthatsinteresting', 'reactiongifs', 'Wellthatsucks', 'politics', 'BrandNewSentence', 'funnysigns', 'MMORPG', 'MarkMyWords', 'Foodforthought', 'AnythingGoesNews', 'BeAmazed', 'UnitedAssociation', 'perfectlycutscreams', 'FirstTimeHomeBuyer', 'thethickofit', 'bouldering', 'Iowa', 'Eyebleach', 'Gamingcirclejerk', 'StrangeAndFunny', 'confidentlyincorrect', 'chemtrails', 'NewsOfTheStupid', 'WorkReform', 'interestingasfuck', 'CyberStuck', 'fuckHOA', 'Bossfight', 'NonPoliticalTwitter', 'KamalaHarrisMemes', 'unitedkingdom', 'badfacebookmemes', 'climbergirls', 'SweatyPalms', 'StupidMedia', 'tattooadvice', 'pcmasterrace', 'u_InnoSupps_Official', 'Sovereigncitizen', 'holdmycatnip', 'PoliticalHumor', 'comedyheaven', 'Scams', 'Construction', 'questions', 'books', 'AmIOverreacting', 'lehighvalley', 'TikTokCringe', 'LinkedInLunatics', 'TruckerCam', 'kittens', 'GetNoted', 'nytimes', 'Fauxmoi', 'clevercomebacks', 'stupidquestions', 'JoeRogan', 'LinusTechTips', 'england', 'skeptic', 'AdviceAnimals', 'AnarchyChess', 'arcane', 'AskMenAdvice', 'MadeMeSmile', 'DeathByMillennial', 'MasterReturns', 'mildyinteresting', 'TuxedoCats', 'FordFiesta', 'todayilearned', 'rarepuppers', 'holdmycosmo', 'Insulation', 'BlueskySocial', 'ufc', 'inthenews', 'WomenInNews', 'entertainment', 'BlackPeopleTwitter', 'therewasanattempt', 'maybemaybemaybe', 'funnyvideos', 'nextfuckinglevel', 'fuckcars', 'biology', 'lazerpig', 'DIYUK', 'meirl', 'ChatGPT', 'funny', 'bi_irl', 'dashcams', 'ContagiousLaughter', 'FunnyAnimals', 'movies', 'orangecats', 'BrexitMemes', 'madlads', 'shittytattoos', 'transformers'}\n"
     ]
    },
    {
     "name": "stderr",
     "output_type": "stream",
     "text": [
      "Scraping user comments:   0%|          | 35/29911 [08:53<146:33:30, 17.66s/it]"
     ]
    },
    {
     "name": "stdout",
     "output_type": "stream",
     "text": [
      "Comments saved to /Users/smutnuri/Documents/UVA/_Projects/Fall24/CBM/CBMRepo/Data/usercomments/-SunGazing-_usercomments.json\n",
      "{'SipsTea', 'AskOldPeople', 'dccrpg', 'SaltierThanKlaud', 'mildlyinteresting', 'goodboomerhumor', 'rant', 'ClimateShitposting', 'GTA6', 'mendrawingwomen', 'economicCollapse', 'BanPitBulls', 'recruitinghell', 'Warhammer40k', 'WhiteScars40K', 'ageofsigmar', 'thanksimcured', 'ShermanPosting', 'AskCanada', 'FluentInFinance', 'Quar', 'meme', 'anarchocommunism', 'AskReddit', 'geography', 'Grimdank', 'lewronggeneration', 'humansarespaceorcs', 'Hiphopcirclejerk', 'blowback', 'trueratediscussions', 'SpyxFamily', 'olympics', 'lordoftherings', 'TransportFever2', 'KamalaHarris', 'Catswithjobs', 'gluesniffer', 'Zillennials', 'MurderedByWords', 'conspiracy', 'evangelionmemes', 'oblivion', 'SocialistGaming', 'Eldar', 'ComedyHell', 'internationalpolitics', 'osr', 'Switch', 'comics', 'antiwork', 'Detroit', 'Pixar', 'HiTMAN', 'Animemes', 'WarhammerFantasy', 'bisexual', 'katawashoujo', 'VaushV', 'unpopularopinion', '4chan', 'KidsAreFuckingStupid', 'Pennsylvania', 'HistoryAnimemes', 'ExplainTheJoke', 'HistoryWhatIf', 'NPR', 'warcraftlore', 'BucksCountyPA', 'MarxistCulture', 'ModernSocialist', 'shittymoviedetails', 'PeterExplainsTheJoke', 'youngpeopleyoutube', 'Losercity', 'memes', 'okbuddyvowsh', 'AskHistory', 'orks', 'ElderScrolls', 'Terraria', 'democrats', 'johnoliver', 'okbuddycinephile', 'mattrose', 'midlyinteresting', 'MiddleEarthMiniatures', 'OrphanCrushingMachine', 'NightLords', 'yimby', 'Why', 'lego', 'animecirclejerk', 'bloodbowl', 'RareHistoricalPhotos', 'europe', 'hypotheticalsituation', 'deliciousindungeon', 'georgism', 'rareinsults', 'midtiersuperpowers', 'Hasan_Piker', 'BrighterThanCoruscant', 'TheOnion', 'MapPorn', 'TrueUnpopularOpinion', 'mordheim', 'AITAH', 'PhilosophyMemes', 'news', 'SomeOrdinaryGmrs', 'Askpolitics', 'ImFinnaGoToHell', 'BannedSubs', 'Adulting', 'TESVI', 'austrian_economics', 'GeoInsider', 'wisconsin', 'Presidents', 'StarWarsEU', 'fantanoforever', 'antimeme', 'readanotherbook', 'Workers_And_Resources', 'lies', 'WhitePeopleTwitter', 'SnapshotHistory', 'Journaling', 'coolguides', 'AlzheimersGroup', 'TrueSTL', 'suicidebywords', 'tumblr', 'NewVegasMemes', 'classicwow', 'Stonetossingjuice', 'DeathBattleMatchups', 'Simpsons', 'asklatinamerica', 'HistoricalCapsule', 'TheCitadel', 'ProfessorFinance', 'UkraineWarVideoReport', 'Plumbing', 'pics', 'massachusetts', 'DemocraticSocialism', 'TheGreatWarChannel', 'Eddsworld', 'NoStupidQuestions', 'TopMindsOfReddit', 'cartoons', 'NoShitSherlock', 'wikipedia', 'Necrontyr', 'LeopardsAteMyFace', 'Marxism_Memes', 'ImaginaryWarhammer', 'greentext', 'ElfSanWaYaserarenai', 'DJ_Peach_Cobbler', 'asoiafcirclejerk', 'wendys', 'DnD', 'theydidthemath', 'LateStageCapitalism', 'UnitedNations', 'chinabad', 'videogames', 'ShitLiberalsSay', 'Grey_Knights', 'WestVirginia', 'Presidentialpoll', 'space', 'union', 'OldSchoolCool', 'AskMiddleEast', 'atheism', 'woahthatsinteresting', 'funnysigns', 'Jcole', 'Avatar', 'ToddintheShadow', 'philly', 'AlternateHistoryMemes', 'shittyfoodporn', 'tzeentch', 'SameGrassButGreener', 'PoliticalCompassMemes', 'satanism', 'saltierthankrayt', 'mapporncirclejerk', 'astramilitarum', 'PeopleLiveInCities', 'HOI4memes', 'Minecraft', 'WorkReform', 'interestingasfuck', 'CartiCulture', '40kLore', 'UrbanHell', 'explainlikeimfive', 'wordington', 'lebowski', '196', 'YesAmericaBad', 'badfacebookmemes', 'futurama', 'okbuddybaldur', 'animememes', 'ThunderFromTheSteppe', 'NatureIsFuckingLit', 'BikiniBottomTwitter', 'EhBuddyHoser', 'wholesomeyuri', 'pcmasterrace', 'DesignPorn', 'depressionmemes', 'vexillology', 'PoliticalHumor', 'comedyheaven', 'ComedyCemetery', 'seculartalk', 'imaginarymapscj', 'urbanhellcirclejerk', 'NAFO', 'evilbuildings', 'dontyouknowwhoiam', 'books', 'Metroid', 'casualnintendo', 'Shark_Park', 'decadeology', 'TikTokCringe', 'dataisugly', 'gravityfalls', 'skyscrapers', 'okbuddychicanery', 'GTA', 'Urbanism', 'OutOfTheLoop', 'Isekai', 'stamps', 'clevercomebacks', 'JoeRogan', 'AdviceAnimals', 'WarhammerMemes', 'althistory', 'Infographics', 'USHistory', 'AskHistorians', 'TopCharacterDesigns', 'SeriousConversation', 'HistoryMemes', 'todayilearned', 'BarbaraWalters4Scale', 'minecraftseeds', 'shitposting', 'KendrickLamar', 'ZombieSurvivalTactics', 'AskAnAmerican', 'Tau40K', 'Yugoslavia', 'renfaire', 'gmod', 'tf2memes', 'tragedeigh', 'lebanonmemes', 'entertainment', 'UtterlyInteresting', 'BlackPeopleTwitter', 'PropagandaPosters', 'teenagers', 'DungeonMeshi', 'yurimemes', 'fuckcars', 'anime_random', 'Daliban', 'nickelodeon', 'batman', 'worldbuilding', 'meirl', 'AlternateHistoryHub', 'bi_irl', 'FatRappers', 'Kaiserreich', 'StarWarsCantina', 'GenZ', 'starterpacks', 'WalkableStreets', 'AlternateHistory', 'FlamingoFanClub'}\n"
     ]
    },
    {
     "name": "stderr",
     "output_type": "stream",
     "text": [
      "Scraping user comments:   0%|          | 36/29911 [09:12<148:23:10, 17.88s/it]"
     ]
    },
    {
     "name": "stdout",
     "output_type": "stream",
     "text": [
      "Comments saved to /Users/smutnuri/Documents/UVA/_Projects/Fall24/CBM/CBMRepo/Data/usercomments/-TehTJ-_usercomments.json\n",
      "{'pcgaming', 'shittymoviedetails', 'gaming', 'AndroidGaming', 'books', 'marvelcomics', 'unrealengine', 'videogames', 'xmen', 'xcloud', 'osp', 'Unity3D', 'ImaginaryCyberpunk', 'shittygamedetails', 'NightwingxOracle', 'ShouldIbuythisgame', 'IllegallySmolCats', 'Cyberpunk', 'cscareerquestions', 'Piracy', 'lotrmemes', 'germany', 'AbsoluteUnits', 'zelda', 'ImaginarySliceOfLife', 'formula1', 'HistoryMemes', 'DCcomics', 'ImaginaryArchitecture', 'Nightwing_Starfire', 'JuJutsuKaisen', 'trippinthroughtime', 'gamedev', 'anime', 'ImaginaryInteriors', 'masseffect', 'Eyebleach', 'LowSodiumCyberpunk', 'farcry', 'antimeme', 'ITCareerQuestions', 'gamegrumps', 'ProgrammerHumor', 'tf2', 'Amoledbackgrounds', 'gamingsuggestions', 'GamePhysics', 'tumblr', 'Eldenring', 'fakehistoryporn', 'patientgamers', 'comicbooks', 'Marvel', 'yakuzagames'}\n"
     ]
    },
    {
     "name": "stderr",
     "output_type": "stream",
     "text": [
      "Scraping user comments:   0%|          | 37/29911 [09:33<156:23:04, 18.85s/it]"
     ]
    },
    {
     "name": "stdout",
     "output_type": "stream",
     "text": [
      "Comments saved to /Users/smutnuri/Documents/UVA/_Projects/Fall24/CBM/CBMRepo/Data/usercomments/-TheManWithNoHat-_usercomments.json\n",
      "{'facepalm', 'gaming', 'ABoringDystopia', 'writing', 'comedyheaven', 'memes', 'videos', 'ArtistHate', 'IAmTheMainCharacter', 'worldnews', 'Futurology', 'neoliberal', 'books', 'mildlyinteresting', 'technology', 'Damnthatsinteresting', 'BadHasbara', 'Steam', 'KotakuInAction', 'NonCredibleDefense', 'italy', 'ukraine', 'DotA2', 'nanowrimo', 'clevercomebacks', 'FluentInFinance', 'aiwars', 'gadgets', 'europe', 'space', 'nottheonion', 'atheism', 'Asmongold', 'todayilearned', 'redrising', 'news', 'MurderedByWords', 'BlueskySocial', 'KerbalSpaceProgram', 'PoliticalCompassMemes', 'Destiny', 'ArtificialInteligence', 'HalfLife', 'YUROP', 'BlackPeopleTwitter', 'singularity', 'Gamingcirclejerk', 'PoliticalHumor', 'EnoughMuskSpam', 'comics', 'fuckcars', 'interestingasfuck', 'ProgrammerHumor', 'CyberStuck', 'meirl', 'ChatGPT', 'NonPoliticalTwitter', 'UsbCHardware', 'VaushV', 'science', 'NatureIsFuckingLit', '2westerneurope4u', 'mildlyinfuriating', 'pcmasterrace'}\n"
     ]
    },
    {
     "name": "stderr",
     "output_type": "stream",
     "text": [
      "Scraping user comments:   0%|          | 38/29911 [10:05<189:02:10, 22.78s/it]"
     ]
    },
    {
     "name": "stdout",
     "output_type": "stream",
     "text": [
      "Comments saved to /Users/smutnuri/Documents/UVA/_Projects/Fall24/CBM/CBMRepo/Data/usercomments/-The_Blazer-_usercomments.json\n",
      "{'Weird', 'SipsTea', 'tequila', 'mildlyinteresting', 'ShittyLifeProTips', 'GTA6', 'soccer', 'technology', 'sports', 'Dodgers', 'law', 'NonCredibleDefense', 'Xennials', 'apple', 'Israel', 'Mezcal', 'SFGiants', 'formula1', 'olympics', 'gifs', 'CFB', 'PoliticalDiscussion', 'MurderedByWords', 'comics', 'antiwork', 'Christianity', 'baldursgatememes', 'indieheads', '2meirl4meirl', 'UkrainianConflict', 'billsimmons', 'Overwatch', 'Whatcouldgowrong', 'ifyoulikeblank', 'TwoBestFriendsPlay', 'SolarDIY', 'shittymoviedetails', 'PeterExplainsTheJoke', 'memes', 'ThatsInsane', 'Boxing', 'hiphopheads', 'whitesox', 'formuladank', 'JustGuysBeingDudes', 'Catholicism', 'wholesomememes', 'Padres', 'rareinsults', 'Nofans', 'TrueCrimeDiscussion', 'MapPorn', 'popculturechat', 'SquaredCircle', 'Unexpected', 'AITAH', 'news', 'nba', 'TwoXChromosomes', 'Music', 'baseball', 'elonmusk', 'popheads', 'nyjets', 'fantanoforever', 'EnoughMuskSpam', 'ProgrammerHumor', 'WhitePeopleTwitter', 'dataisbeautiful', 'coolguides', 'tumblr', 'Coronavirus', 'mildlyinfuriating', 'nfl', 'facepalm', 'pics', 'oddlysatisfying', 'Satisfyingasfuck', 'cursedcomments', 'gaming', 'worldnews', 'LeopardsAteMyFace', 'denvernuggets', 'lakers', 'wallstreetbets', 'JunoMains', 'nbacirclejerk', 'BaldursGate3', 'nostalgia', 'Wellthatsucks', 'politics', 'BeAmazed', 'suns', 'CombatFootage', 'Conservative', 'AskTrumpSupporters', 'WitchesVsPatriarchy', 'interestingasfuck', 'Defeat_Project_2025', 'CrazyFuckingVideos', 'Vampireweekend', 'chess', 'fantasybball', 'WoT', 'UkraineRussiaReport', 'BikiniBottomTwitter', 'WetlanderHumor', 'trashy', 'PoliticalHumor', 'sandiego', 'NewYorkMets', 'CuratedTumblr', 'lesbians', 'books', 'Braves', 'CollegeBasketball', 'LAClippers', 'TikTokCringe', 'ukraine', 'Fauxmoi', 'clevercomebacks', 'phillies', 'JoeRogan', 'LinusTechTips', 'tiktokporn', 'MadeMeSmile', 'dankmemes', 'nottheonion', 'todayilearned', 'shitposting', 'HolUp', 'TrueOffMyChest', 'Mavericks', 'amiwrong', 'ufc', 'MMA', 'tragedeigh', 'BlackPeopleTwitter', 'therewasanattempt', 'fantasybaseball', 'PublicFreakout', 'mac', 'meirl', 'AskConservatives', 'movies', 'hockey', 'stocks'}\n"
     ]
    },
    {
     "name": "stderr",
     "output_type": "stream",
     "text": [
      "Scraping user comments:   0%|          | 39/29911 [10:36<209:51:09, 25.29s/it]"
     ]
    },
    {
     "name": "stdout",
     "output_type": "stream",
     "text": [
      "Comments saved to /Users/smutnuri/Documents/UVA/_Projects/Fall24/CBM/CBMRepo/Data/usercomments/-Thick_Solid_Tight-_usercomments.json\n",
      "{'ask', 'FanFiction', 'gaming', 'writing', 'The100FanficWriters', 'books', 'self', 'fantasyromance', 'RandomThoughts', 'Bones', 'meme', 'copenhagen', 'AskReddit', 'BaldursGate3', 'The100', 'BrandNewSentence', 'AITAH', 'suggestmeabook', 'danishlanguage', 'DKbrevkasse', 'Denmark', 'subnautica', 'moviecritic', 'fuckcars', 'AO3', 'worldbuilding', 'meirl', 'YellowstoneShow', 'writingadvice', 'CasualConversation', 'mildlyinfuriating', 'okbuddybaldur', 'shittytattoos', 'AmItheAsshole', 'pcmasterrace'}\n"
     ]
    },
    {
     "name": "stderr",
     "output_type": "stream",
     "text": [
      "Scraping user comments:   0%|          | 40/29911 [10:40<157:08:29, 18.94s/it]"
     ]
    },
    {
     "name": "stdout",
     "output_type": "stream",
     "text": [
      "Comments saved to /Users/smutnuri/Documents/UVA/_Projects/Fall24/CBM/CBMRepo/Data/usercomments/-Thit_usercomments.json\n",
      "{'ask', 'ModestDress', 'Anxiety', 'writing', 'videos', 'MusicRecommendations', 'TwoSentenceHorror', 'AutismInWomen', 'FridgeDetective', 'musicsuggestions', 'NameNerdCirclejerk', 'prolife', 'AnorexiaNervosa', 'notliketheothergirls', 'lingling40hrs', 'DuggarsSnark', 'detrans', 'XPpen', 'AskReddit', 'MadeOfStyrofoam', 'Names', 'MurderedByWords', 'SmugIdeologyMan', 'Narnia', 'carpenters', 'crochet', 'Volumeeating', 'DiWHY', 'AskPsychiatry', 'TrueChristian', 'PetPeeves', 'answers', 'singing', 'SuicideBereavement', 'aretheNTsokay', 'RandomThoughts', 'grammar', 'namenerds', 'hypotheticalsituation', 'wholesomememes', 'EDRecoverySnark', 'CatAdvice', 'ENGLISH', 'vce', 'AITAH', 'EDAnonymous', 'suggestmeabook', 'CATHELP', 'Productivitycafe', 'extremelyinfuriating', 'blackcats', 'ABBA', 'Cricket', 'AskAnAustralian', 'fakedisordercringe', 'foodhacks', 'OCDmemes', 'hygiene', 'mildlyinfuriating', 'OCD', 'Advice', 'NursingAU', 'facepalm', 'EatCheapAndHealthy', 'NoStupidQuestions', 'illnessfakers', 'NarniaMemes', 'ImTheMainCharacter', 'fuckeatingdisorders', 'RandomQuestion', 'cookingforbeginners', 'AMA', 'StudentNurse', 'StupidFood', 'NameMyCat', 'melbourne', 'BenignExistence', 'Wellthatsucks', 'autism', 'writers', 'FreeCompliments', 'cats', 'AITH', 'TooAfraidToAsk', 'EatingDisorders', 'selfharm_memes', 'OneOrangeBraincell', 'depressionmemes', 'aromantic', 'EDanonymemes', 'PointlessStories', 'questions', 'books', 'Retconned', 'POTS', 'OCPoetry', 'selfharm', 'AusMemes', 'bodylanguage', 'MadeMeSmile', 'tonightsdinner', 'musicals', 'ChoosingBeggars', 'selfpublish', 'Vent', 'AdultSelfHarm', 'askpsychology', 'Pets', 'SuicideWatch', 'tragedeigh', 'crochetpatterns', 'Comebacks', 'AskMeAnythingIAnswer', 'Writer', 'Teachers', 'Baking', 'EdAnonymousAdults', 'shittytattoos', 'PetAdvice'}\n"
     ]
    },
    {
     "name": "stderr",
     "output_type": "stream",
     "text": [
      "Scraping user comments:   0%|          | 41/29911 [10:56<149:49:41, 18.06s/it]"
     ]
    },
    {
     "name": "stdout",
     "output_type": "stream",
     "text": [
      "Comments saved to /Users/smutnuri/Documents/UVA/_Projects/Fall24/CBM/CBMRepo/Data/usercomments/-Tricky-Vixen-_usercomments.json\n",
      "{'MealPrepSunday', 'EatCheapAndHealthy', 'books', 'Cooking', 'food'}\n"
     ]
    },
    {
     "name": "stderr",
     "output_type": "stream",
     "text": [
      "Scraping user comments:   0%|          | 42/29911 [10:56<105:57:19, 12.77s/it]"
     ]
    },
    {
     "name": "stdout",
     "output_type": "stream",
     "text": [
      "Comments saved to /Users/smutnuri/Documents/UVA/_Projects/Fall24/CBM/CBMRepo/Data/usercomments/-Trista_usercomments.json\n",
      "{'Songsofconquest', 'MortalKombat', 'Spacemarine', 'EpicSeven', 'seaofstars', 'gaming', 'bindingofisaac', 'pathofexile', 'pornID', 'MechanicalKeyboards', 'books', 'AOW4', 'Games', 'MadeMeSmile', 'darkestdungeon', 'PS5'}\n"
     ]
    },
    {
     "name": "stderr",
     "output_type": "stream",
     "text": [
      "Scraping user comments:   0%|          | 43/29911 [10:57<75:49:46,  9.14s/it] "
     ]
    },
    {
     "name": "stdout",
     "output_type": "stream",
     "text": [
      "Comments saved to /Users/smutnuri/Documents/UVA/_Projects/Fall24/CBM/CBMRepo/Data/usercomments/-Urbish-_usercomments.json\n",
      "{'JonStewart', 'SipsTea', 'ShittyDaystrom', 'stephenking', 'wizardposting', 'writing', 'redditonwiki', 'starwarsmemes', 'mildlyinteresting', 'Hobbies', 'ComicK', 'vtm', 'scifi', 'technology', 'transplant', 'Socialism_101', 'law', 'Manhua', 'Funnymemes', 'recruitinghell', 'WorldofDankmemes', 'TheExpanse', 'TheLastAirbender', 'FluentInFinance', 'meme', 'CortexRPG', 'CreationNtheUniverse', 'dresdenfiles', 'AskReddit', 'Cooking', 'Snorkblot', 'geography', 'DesignDesign', 'mtgvorthos', 'AskScienceFiction', 'behindthebastards', 'cyphersystem', 'MurderedByWords', 'notinteresting', 'FoolsBlade', 'moviecritic', 'terriblefacebookmemes', 'RoastMe', 'antiwork', 'comics', 'SelfAwarewolves', 'budget', 'gamingsuggestions', 'relationship_advice', 'Spiderman', 'OldGodsOfAppalachia', 'smalltownmurder', 'KidsAreFuckingStupid', 'ExplainTheJoke', 'outlier_ai', 'comicbooks', 'cassettefuturism', 'marvelstudios', 'WhiteWolfRPG', 'shittymoviedetails', 'nevertellmetheodds', 'startrekmemes', 'memes', 'jacksonville', 'boardgamescirclejerk', 'Damnthatsinteresting', 'PlateUp', 'TropicalWeather', 'Spacegirls', 'dndmaps', 'superpower', 'sentinelsmultiverse', 'HelpMeFind', 'nothingeverhappens', 'aspiememes', 'WestPalmBeach', 'lego', 'urbancarliving', 'Doesthisexist', 'hypotheticalsituation', 'tradgedeigh', 'legaladvice', 'rareinsults', 'ENGLISH', 'lotrmemes', 'HydroHomies', 'DeepRockGalactic', 'StandUpWorkshop', 'Jokes', 'AITAH', 'celebscleavage', 'fantasywriters', 'news', 'whatisit', 'DMAcademy', 'custommagic', 'dadjokes', 'nerdfighters', 'DiWHYNOT', 'sololeveling', 'toogoodtogo', 'FindTheSniper', 'FortMyers', 'ScarlettJohansson', 'WhitePeopleTwitter', 'coolguides', 'retrogaming', 'AllThatIsInteresting', 'mildlyinfuriating', 'hiddenrooms', 'florida', 'povertyfinance', 'massachusetts', 'EatCheapAndHealthy', 'minimalism', 'gaming', 'NoStupidQuestions', 'Tools', 'LeopardsAteMyFace', 'BoomersBeingFools', 'DnD', 'dndmemes', 'oddlyspecific', 'theydidthemath', 'LateStageCapitalism', 'Subaru_Outback', 'Decks', 'TheOrville', 'traveller', 'MaliciousCompliance', 'ShouldIbuythisgame', 'OptimistsUnite', 'TrueCrimePodcasts', 'OldSchoolCool', 'godtiersuperpowers', 'BaldursGate3', 'atheism', 'BrandNewSentence', 'Gloomhaven', 'MarkMyWords', 'assholedesign', 'FirstTimeHomeBuyer', 'cats', 'doppelganger', 'StrangeAndFunny', 'dndnext', 'solarpunk', 'confidentlyincorrect', 'WorkReform', 'interestingasfuck', 'lifehacks', 'rpg', 'fuckHOA', 'personalfinance', 'NonPoliticalTwitter', 'AskGames', 'tipofmytongue', 'okbuddybaldur', 'mtg', 'Sovereigncitizen', 'PoliticalHumor', 'comedyheaven', 'ComedyCemetery', 'imaginarymapscj', 'CuratedTumblr', 'HomeImprovement', 'collapse', 'books', 'questions', 'TikTokCringe', 'tabletopgamedesign', 'LinkedInLunatics', 'RPGdesign', 'CoupleMemes', 'LegendsOfRuneterra', 'jobs', 'themountaingoats', 'clevercomebacks', 'stupidquestions', 'AdviceAnimals', 'orlando', 'startrek', 'marvelmemes', 'ironman', 'Cyberpunk', 'RemoteJobs', 'MadeMeSmile', 'manhwa', 'mildyinteresting', 'ItemShop', 'AvatarMemebending', 'OmniscientReader', 'RPGcreation', 'tragedeigh', 'DungeonMasters', 'whatisthisthing', 'BlackPeopleTwitter', 'DungeonMeshi', 'BostonTerrier', 'therewasanattempt', 'Comebacks', 'maybemaybemaybe', 'boardgames', 'worldbuilding', 'meirl', 'controlgame', 'funny', 'ExplainAFilmPlotBadly', 'MiddleClassFinance', 'Eldenring', 'movies', 'castiron'}\n"
     ]
    },
    {
     "name": "stderr",
     "output_type": "stream",
     "text": [
      "Scraping user comments:   0%|          | 44/29911 [11:14<94:57:09, 11.45s/it]"
     ]
    },
    {
     "name": "stdout",
     "output_type": "stream",
     "text": [
      "Comments saved to /Users/smutnuri/Documents/UVA/_Projects/Fall24/CBM/CBMRepo/Data/usercomments/-Vogie-_usercomments.json\n",
      "{'Anxiety', 'GlowUps', 'pawg', 'soccer', 'Documentaries', 'sports', 'horror', 'AskChicago', 'Monsterverse', 'skyrim', 'formula1', 'AskScienceFiction', 'dune', 'urbanexploration', 'DIY', 'UpliftingNews', 'comicbooks', 'marvelstudios', 'chelseafc', 'Drugs', 'LiminalSpace', 'creepy', 'IThinkYouShouldLeave', 'dragrace', 'ElderScrolls', 'Watches', 'deadmalls', 'rupaulsdragrace', 'popculturechat', 'news', 'nba', 'TrueDetective', 'camping', 'MarvelStudiosSpoilers', 'WhitePeopleTwitter', 'coolguides', 'Marvel', 'oddlysatisfying', 'facepalm', 'wikipedia', 'vandwellers', 'AmericaBad', 'electronicmusic', 'space', 'OldSchoolCool', 'atheism', 'LPOTL', 'IASIP', 'politics', 'Starfield', 'Gamingcirclejerk', 'NewsOfTheStupid', 'Fallout', 'SweatyPalms', 'chicagobulls', 'books', 'HadToHurt', 'CozyPlaces', 'Fauxmoi', 'NotHowGirlsWork', 'nottheonion', 'AskHistorians', 'horrorlit', 'TheSimpsons', 'chicago', 'todayilearned', 'thalassophobia', 'CanadasDragRace', 'LOTR_on_Prime', 'food', 'trees', 'lastpodcastontheleft', 'ChatGPT', 'Eldenring', 'HistoryPorn', 'asoiaf', 'chicagofood'}\n"
     ]
    },
    {
     "name": "stderr",
     "output_type": "stream",
     "text": [
      "Scraping user comments:   0%|          | 45/29911 [11:27<99:35:51, 12.01s/it]"
     ]
    },
    {
     "name": "stdout",
     "output_type": "stream",
     "text": [
      "Comments saved to /Users/smutnuri/Documents/UVA/_Projects/Fall24/CBM/CBMRepo/Data/usercomments/-VonnegutPunch_usercomments.json\n",
      "{'chemistry', 'news', 'amiugly', 'TwoHotTakes', 'musicsuggestions', 'roastmypet', 'confession', 'science', 'books', 'moraldilemmas', 'RoastMe', 'AmItheAsshole'}\n"
     ]
    },
    {
     "name": "stderr",
     "output_type": "stream",
     "text": [
      "Scraping user comments:   0%|          | 46/29911 [11:28<70:50:40,  8.54s/it]"
     ]
    },
    {
     "name": "stdout",
     "output_type": "stream",
     "text": [
      "Comments saved to /Users/smutnuri/Documents/UVA/_Projects/Fall24/CBM/CBMRepo/Data/usercomments/-WaitWaitDontTellMe_usercomments.json\n",
      "{'whatsthisbug', 'NoStupidQuestions', 'Judaism', 'hebrew', 'MusicRecommendations', 'books', 'brandonsanderson', 'AmIOverreacting', 'musicsuggestions', 'Klonoa', 'whatsthatbook', 'AskReddit', 'longhair', 'musicals', 'ToddintheShadow', 'Productivitycafe', 'discordapp', 'booksuggestions', 'crochet', 'words', 'ADHD', 'AdviceForTeens', 'Inkmaster', 'ToyID', 'CasualConversation', 'Songwriting', 'chemhelp', 'DanielTigerConspiracy', 'dating', 'Whatisthis', 'PCOS', 'Parenting', 'MST3K', 'AmItheAsshole'}\n"
     ]
    },
    {
     "name": "stderr",
     "output_type": "stream",
     "text": [
      "Scraping user comments:   0%|          | 47/29911 [11:34<64:26:23,  7.77s/it]"
     ]
    },
    {
     "name": "stdout",
     "output_type": "stream",
     "text": [
      "Comments saved to /Users/smutnuri/Documents/UVA/_Projects/Fall24/CBM/CBMRepo/Data/usercomments/-WeirdFish-_usercomments.json\n",
      "{'pointlesslygendered', '2020Challenge', 'maximalism', 'NorthCarolina', 'GotG', 'GenX', 'CleaningTips', 'ThriftStoreHauls', 'bullcity', 'books', 'ELATeachers', 'technology', 'triangle', 'matheducation', 'OutOfTheLoop', 'collage', 'oldhagfashion', 'OpenChristian', 'christmas', 'delta8', 'ayearofwarandpeace', 'zillowgonewild', 'AskReddit', 'Cooking', 'stopdrinking', 'AskWomen', 'changemyview', 'secretsanta', 'NoBuyDailyCheckIn', 'chapelhill', 'nobuy', 'fashionwomens35', 'suggestmeabook', 'homemaking', 'Old_Recipes', 'AYearOfLesMiserables', 'blueapron', 'ArtJournaling', 'Enneagram', 'AskWomenOver30', 'whole30', 'GiftIdeas', 'findfashion', 'selfimprovement', 'JournalingIsArt', 'teaching', 'ScienceTeachers', 'Perimenopause', 'asmr', 'PlusSizeFashion', 'Teachers', 'Sleepparalysis', 'Journaling', 'historyteachers', 'dbtselfhelp', 'questionablecontent', 'tipofmytongue', 'YouShouldKnow', 'femalefashionadvice', '40something', 'MidlifeMavens', 'RomanceBooks', 'TrueAskReddit', 'bulbasaurmasterrace', 'Noom', 'Healthygamergg'}\n"
     ]
    },
    {
     "name": "stderr",
     "output_type": "stream",
     "text": [
      "Scraping user comments:   0%|          | 48/29911 [11:49<83:28:15, 10.06s/it]"
     ]
    },
    {
     "name": "stdout",
     "output_type": "stream",
     "text": [
      "Comments saved to /Users/smutnuri/Documents/UVA/_Projects/Fall24/CBM/CBMRepo/Data/usercomments/-WhoWasOnceDelight_usercomments.json\n",
      "{'LegalAdviceUK', 'CDramaRecs', 'UKfood', 'books', 'NewHeights', 'ShitAmericansSay', 'weddingplanning', 'snackexchange', 'Embroidery', 'NotHowGirlsWork', 'UKweddings', 'CasualUK', 'weddingshaming', 'weddingdress', 'SquaredCircle', 'UK_Food', 'AITAH', 'badwomensanatomy', 'CDrama', 'AskUK', 'MastCellDiseases', 'Baking', 'sewing', 'Tudorhistory', 'AmItheAsshole'}\n"
     ]
    },
    {
     "name": "stderr",
     "output_type": "stream",
     "text": [
      "Scraping user comments:   0%|          | 49/29911 [12:01<89:13:04, 10.76s/it]"
     ]
    },
    {
     "name": "stdout",
     "output_type": "stream",
     "text": [
      "Comments saved to /Users/smutnuri/Documents/UVA/_Projects/Fall24/CBM/CBMRepo/Data/usercomments/-XiaoSi-_usercomments.json\n",
      "{'LawSchool', 'Salzburg', 'learnart', 'AskReddit', 'books', 'Sakartvelo', 'StudyInTheNetherlands'}\n"
     ]
    },
    {
     "name": "stderr",
     "output_type": "stream",
     "text": [
      "Scraping user comments:   0%|          | 50/29911 [12:02<65:08:05,  7.85s/it]"
     ]
    },
    {
     "name": "stdout",
     "output_type": "stream",
     "text": [
      "Comments saved to /Users/smutnuri/Documents/UVA/_Projects/Fall24/CBM/CBMRepo/Data/usercomments/-_______--_________-_usercomments.json\n",
      "{'television', 'pics', 'witcher', 'gaming', 'FireEmblemHeroes', 'DankAndrastianMemes', 'The10thDentist', 'books', 'millenials', 'FireEmblemThreeHouses', 'HARVESTELLA', 'Millennials', 'WorldOfYs', 'tales', 'TheLegendOfVoxMachina', 'UpliftingNews', 'KHUx', 'BG3', 'runefactory', 'fansofcriticalrole', 'PERSoNA', 'menwritingwomen', 'AskReddit', 'Games', 'BaldursGate3', 'nottheonion', 'netflix', 'aww', 'FinalFantasy', 'voxmachina', 'KingdomHearts', 'DissidiaFFOO', 'rpg_gamers', 'news', 'FFVIIRemake', 'Kingstagram', 'inthenews', 'persona3reload', 'entertainment', 'JRPG', 'smashbros', 'dragonage', 'AO3', 'fireemblem', 'FinalFantasyVII', 'WhitePeopleTwitter', 'coolguides', 'funny', 'PokemonScarletViolet', 'criticalrole', 'youtube', 'movies', 'DragonageOrigins', 'gamingnews', 'mildlyinfuriating', 'DragaliaLost', 'Fantasy', 'TheMagnusArchives'}\n"
     ]
    },
    {
     "name": "stderr",
     "output_type": "stream",
     "text": [
      "Scraping user comments:   0%|          | 51/29911 [12:18<85:10:34, 10.27s/it]"
     ]
    },
    {
     "name": "stdout",
     "output_type": "stream",
     "text": [
      "Comments saved to /Users/smutnuri/Documents/UVA/_Projects/Fall24/CBM/CBMRepo/Data/usercomments/-_nobody_usercomments.json\n",
      "{'ask', 'television', 'pics', 'caregivers', 'EarthPorn', 'worldnews', 'Scams', 'mildlyinteresting', 'videos', 'mainecoons', 'Showerthoughts', 'books', 'etymology', 'SecurityClearance', 'sports', 'CrimeInChicago', 'law', 'AnimalsBeingDerps', 'philosophy', 'medical_advice', 'nasa', 'HumansBeingBros', 'IntellectualDarkWeb', 'UpliftingNews', 'ChicagoSuburbs', 'legaladvice', 'stopdrinking', 'space', 'OldSchoolCool', 'AskReddit', 'MadeMeSmile', 'Banking', 'aww', 'Plume', 'sex', 'changemyview', 'nottheonion', 'chicago', 'todayilearned', 'gifs', 'news', 'rarepuppers', 'askscience', 'TwoXChromosomes', 'Art', 'shingles', 'LifeProTips', 'booksuggestions', 'JusticeServed', 'selfimprovement', 'food', 'WhatBreedIsMyDog', 'explainlikeimfive', 'fednews', 'personalfinance', 'funny', 'police', 'ContagiousLaughter', 'glossophobia', 'help', 'Northwestern', 'science', 'NarcissisticSpouses', 'sewing', 'orangetheory', 'answers', 'chicagofood'}\n"
     ]
    },
    {
     "name": "stderr",
     "output_type": "stream",
     "text": [
      "Scraping user comments:   0%|          | 52/29911 [12:28<84:03:09, 10.13s/it]"
     ]
    },
    {
     "name": "stdout",
     "output_type": "stream",
     "text": [
      "Comments saved to /Users/smutnuri/Documents/UVA/_Projects/Fall24/CBM/CBMRepo/Data/usercomments/-areyoudoneyet-_usercomments.json\n",
      "{'HandwritingAnalysis', 'NoStupidQuestions', 'mildlyinteresting', 'CatDistributionSystem', 'books', 'Radiology', 'wordle', '52book', 'FosterAnimals', 'capsulewardrobe', 'namenerds', 'NameMyCat', 'CostcoCanada', 'FromKittenToCat', 'TipOfMyFork', 'upstate_new_york', 'FODMAPS', 'Cooking', 'CatAdvice', 'Albany', 'horrorlit', 'Petloss', 'suggestmeabook', 'CATHELP', 'LeCreuset', 'soup', 'blackcats', 'Cheese', 'cats', 'booksuggestions', 'fragrance', 'cookware', 'fednews', 'TrueLit', 'WhatShouldICook', 'NYTConnections', 'jewelry', 'KitchenConfidential', 'NPR', 'kinderhook', 'hudsonvalley'}\n"
     ]
    },
    {
     "name": "stderr",
     "output_type": "stream",
     "text": [
      "Scraping user comments:   0%|          | 53/29911 [12:34<72:19:43,  8.72s/it]"
     ]
    },
    {
     "name": "stdout",
     "output_type": "stream",
     "text": [
      "Comments saved to /Users/smutnuri/Documents/UVA/_Projects/Fall24/CBM/CBMRepo/Data/usercomments/-cpb-_usercomments.json\n",
      "{'Bitcoin', 'ask', 'huskies', 'SipsTea', 'traderjoes', 'NoStupidQuestions', 'books', 'CoinBase', 'sports', 'Seahawks', 'rolltide', 'askportland', 'CommercialRealEstate', 'OhioStateFootball', 'MichiganWolverines', 'Gifts', 'Eugene', 'AskReddit', 'golf', 'UofO', 'AITAH', 'CFB', 'oregon', 'SameGrassButGreener', 'PortlandOR', 'MovieSuggestions', 'graphic_design', 'DenverBroncos', 'fsusports', 'AskUK', 'AlaskaAirlines', 'whatcarshouldIbuy', 'TheB1G', 'Chargers', 'ducks', 'AmItheAsshole'}\n"
     ]
    },
    {
     "name": "stderr",
     "output_type": "stream",
     "text": [
      "Scraping user comments:   0%|          | 54/29911 [12:41<69:16:22,  8.35s/it]"
     ]
    },
    {
     "name": "stdout",
     "output_type": "stream",
     "text": [
      "Comments saved to /Users/smutnuri/Documents/UVA/_Projects/Fall24/CBM/CBMRepo/Data/usercomments/-delgriffith_usercomments.json\n",
      "{'greenday', 'Concerts', 'NoStupidQuestions', 'quilting', 'BoomersBeingFools', 'books', 'DnD', 'AmIOverreacting', 'mypartneristrans', 'Millennials', 'ScienceFictionBooks', 'YarnAddicts', 'AskReddit', 'incubus', 'BuyItForLife', 'suggestmeabook', 'tragedeigh', 'booksuggestions', 'solarpunk', 'crochet', 'Libraries', 'LibbyApp', 'Ohio', 'sewing', 'videogames', 'answers'}\n"
     ]
    },
    {
     "name": "stderr",
     "output_type": "stream",
     "text": [
      "Scraping user comments:   0%|          | 55/29911 [12:44<56:06:20,  6.77s/it]"
     ]
    },
    {
     "name": "stdout",
     "output_type": "stream",
     "text": [
      "Comments saved to /Users/smutnuri/Documents/UVA/_Projects/Fall24/CBM/CBMRepo/Data/usercomments/-eyes_of_argus-_usercomments.json\n",
      "{'Weird', 'ask', 'lifehacks', 'SkincareAddiction', 'kanji', 'SkincareAddicts', 'memes', 'HaircareScience', 'AnimalRestaurant', 'Skincare_Addiction', 'KidsAreFuckingStupid', 'books', 'careerguidance', 'Futurology', 'ZeroWaste', 'AskReddit', 'tea', 'bonnaroo'}\n"
     ]
    },
    {
     "name": "stderr",
     "output_type": "stream",
     "text": [
      "Scraping user comments:   0%|          | 56/29911 [12:45<40:49:19,  4.92s/it]"
     ]
    },
    {
     "name": "stdout",
     "output_type": "stream",
     "text": [
      "Comments saved to /Users/smutnuri/Documents/UVA/_Projects/Fall24/CBM/CBMRepo/Data/usercomments/-forest_friend-_usercomments.json\n",
      "{'television', 'SipsTea', 'videos', 'mildlyinteresting', 'Showerthoughts', 'technology', 'Documentaries', 'moderatepolitics', 'sports', 'me_irl', 'HumansBeingBros', 'AOC', 'AskReddit', 'Political_Revolution', 'gifs', 'Catswithjobs', 'MurderedByWords', 'WhatsWrongWithYourDog', 'terriblefacebookmemes', 'DragonsDogma2', 'BatmanArkham', 'science', 'DIY', 'KidsAreFuckingStupid', 'youtube', 'UpliftingNews', 'battlestations', 'tooktoomuch', 'memes', 'creepy', 'Damnthatsinteresting', 'Futurology', 'firefox', 'philosophy', 'freeflight', 'PS5', 'Jokes', 'AITAH', 'Unexpected', 'news', 'PathOfExileBuilds', 'Stoicism', 'Helldivers', 'OurPresident', 'Music', 'spaceporn', 'EscapefromTarkov', 'lgbt', 'WhitePeopleTwitter', 'dataisbeautiful', 'midjourney', 'backpacking', 'WatchPeopleDieInside', 'mildlyinfuriating', 'UkraineWarVideoReport', 'oddlysatisfying', 'facepalm', 'Satisfyingasfuck', 'pics', 'gaming', 'justgalsbeingchicks', 'worldnews', 'Georgia', 'ImTheMainCharacter', 'theydidthemath', 'InternationalNews', 'gadgets', 'space', 'OldSchoolCool', 'BaldursGate3', 'Wellthatsucks', 'politics', 'AnythingGoesNews', 'WatchandLearn', 'LivestreamFail', 'diablo4', 'BeAmazed', 'Starfield', 'Eyebleach', 'cats', 'anime_irl', 'Conservative', 'interestingasfuck', 'explainlikeimfive', 'personalfinance', 'CrazyFuckingVideos', 'wallpaper', 'NatureIsFuckingLit', 'Splitgate', 'holdmycatnip', 'books', 'TikTokCringe', 'ukraine', 'Costco', 'Fauxmoi', 'steamsupport', 'MadeMeSmile', 'dankmemes', 'nottheonion', 'KarenReadTrial', 'Art', 'KerbalSpaceProgram', 'ArenaBreakoutInfinite', 'LifeProTips', 'entertainment', 'BlackPeopleTwitter', 'therewasanattempt', 'InternetIsBeautiful', 'nextfuckinglevel', 'food', 'PublicFreakout', 'funny', 'pathofexile', 'singaporehappenings', 'movies', 'AsheronsCall', 'sex'}\n"
     ]
    },
    {
     "name": "stderr",
     "output_type": "stream",
     "text": [
      "Scraping user comments:   0%|          | 57/29911 [13:01<67:39:36,  8.16s/it]"
     ]
    },
    {
     "name": "stdout",
     "output_type": "stream",
     "text": [
      "Comments saved to /Users/smutnuri/Documents/UVA/_Projects/Fall24/CBM/CBMRepo/Data/usercomments/-gildash-_usercomments.json\n",
      "{'television', 'LoveForLandchads', 'Satisfyingasfuck', 'pics', 'technews', 'gaming', 'worldnews', 'memes', 'mildlyinteresting', 'videos', 'Futurology', 'Showerthoughts', 'books', 'millenials', 'Shark_Park', 'tifu', 'Fauxmoi', 'adultswim', 'Tekken', 'KingOfTheHill', 'stupidpol', 'AdviceAnimals', 'wholesomememes', 'nottheonion', 'politics', 'todayilearned', 'news', 'AITAH', 'youtubedrama', 'nba', 'TheBigLezShow', '2007scape', 'theadamfriedlandshow', 'Music', 'whenthe', 'maybemaybemaybe', 'Eve', 'interestingasfuck', 'WH40KTacticus', 'explainlikeimfive', 'wordington', 'funny', 'buildapc', 'dataisbeautiful', 'cyberpunkgame', 'blackdesertonline', 'Yolocafe', 'mildlyinfuriating', 'UpliftingNews', 'madlads', 'pcmasterrace'}\n"
     ]
    },
    {
     "name": "stderr",
     "output_type": "stream",
     "text": [
      "Scraping user comments:   0%|          | 58/29911 [13:20<94:39:40, 11.42s/it]"
     ]
    },
    {
     "name": "stdout",
     "output_type": "stream",
     "text": [
      "Comments saved to /Users/smutnuri/Documents/UVA/_Projects/Fall24/CBM/CBMRepo/Data/usercomments/-ihatecartmanbrah_usercomments.json\n",
      "{'television', 'BeAmazed', 'EverythingScience', 'science', 'books', 'AskReddit', 'movies', 'Poetry'}\n"
     ]
    },
    {
     "name": "stderr",
     "output_type": "stream",
     "text": [
      "Scraping user comments:   0%|          | 59/29911 [13:21<68:56:06,  8.31s/it]"
     ]
    },
    {
     "name": "stdout",
     "output_type": "stream",
     "text": [
      "Comments saved to /Users/smutnuri/Documents/UVA/_Projects/Fall24/CBM/CBMRepo/Data/usercomments/-janusjanus-_usercomments.json\n",
      "{'facepalm', 'poor', 'EatCheapAndHealthy', 'BoomersBeingFools', 'books', 'OUTFITS', 'ComfortLevelPod', 'ExpectationVsReality', 'painting', 'AskReddit', 'longhair', 'AITAH', 'ArtPorn', 'Hair', 'Comebacks', 'Journaling', 'hygiene', 'femalefashionadvice', 'AITH'}\n"
     ]
    },
    {
     "name": "stderr",
     "output_type": "stream",
     "text": [
      "Scraping user comments:   0%|          | 60/29911 [13:23<53:23:11,  6.44s/it]"
     ]
    },
    {
     "name": "stdout",
     "output_type": "stream",
     "text": [
      "Comments saved to /Users/smutnuri/Documents/UVA/_Projects/Fall24/CBM/CBMRepo/Data/usercomments/-kat58_usercomments.json\n",
      "{'AskLondon', 'twinpeaks', 'HousingUK', 'UKPersonalFinance', 'books', 'Letterboxd', 'bookporn', 'devops', 'BangandOlufsen', 'literature', 'rancher', 'BoosteroidCommunity', 'investing', 'rolex', 'horror', 'PLTR', 'BooksThatFeelLikeThis', 'AskReddit', 'AmexUK', 'sre', 'horrorlit', 'kubernetes', 'Lovecraft', 'ArchitectsUK', 'Music', 'DunderMifflin', 'fragrance', 'london', 'antiwork', 'datingoverthirty', 'PrometheusMonitoring', 'hmmm', 'silenthill', 'unitedkingdom', 'Natwest', 'stocks', 'ItalyInformatica'}\n"
     ]
    },
    {
     "name": "stderr",
     "output_type": "stream",
     "text": [
      "Scraping user comments:   0%|          | 61/29911 [13:38<76:05:35,  9.18s/it]"
     ]
    },
    {
     "name": "stdout",
     "output_type": "stream",
     "text": [
      "Comments saved to /Users/smutnuri/Documents/UVA/_Projects/Fall24/CBM/CBMRepo/Data/usercomments/-lc-_usercomments.json\n",
      "{'television', 'stephenking', 'nope', 'mildlyinteresting', 'Tufting', 'videos', 'MusicRecommendations', 'Showerthoughts', '30ROCK', 'DigitalPainting', 'oddlyterrifying', 'MedicalGore', 'HumansBeingBros', 'ExpectationVsReality', 'doggrooming', 'gameofthrones', 'AccidentalComedy', 'notliketheothergirls', 'AskReddit', 'happycowgifs', 'WTF', 'whatismycookiecutter', 'gifs', 'behindthebastards', 'DCcomics', 'Tattoocoverups', 'craftsnark', 'beetlejuicing', 'drawing', 'BobsBurgers', 'PetsareAmazing', 'comics', 'UnethicalLifeProTips', 'crochet', 'savedyouaclick', 'batty', 'AskUK', 'unpopularopinion', 'KidsAreFuckingStupid', 'somethingimade', 'comicbooks', 'frogs', 'agedtattoos', 'ProCreate', 'PeterExplainsTheJoke', 'memes', 'creepy', 'SixFeetUnder', 'Damnthatsinteresting', 'forbiddenboops', 'TattooDesigns', 'ThatsInsane', 'HelpMeFind', 'quityourbullshit', 'Awww', 'medizzy', 'wholesomememes', 'DigitalArt', 'aww', 'technicallythetruth', 'Unexpected', 'redditgetsdrawn', 'darkhorsecomics', 'suggestmeabook', 'whatisit', 'iamveryculinary', 'GreatBritishMemes', 'DunderMifflin', 'Gouache', 'graphicnovels', 'WhitePeopleTwitter', 'coolguides', 'mildlyinfuriating', 'sewing', 'Advice', 'ATBGE', 'facepalm', 'Satisfyingasfuck', 'ResinCasting', 'photoshopbattles', 'wimmelbilder', 'AmericanHorrorStory', 'justneckbeardthings', 'whatsthisbird', 'WinStupidPrizes', 'Embroidery', 'awfuleverything', 'painting', 'yarnchicken', 'OldSchoolCool', 'askcrochet', 'AbsoluteUnits', 'Wellthatsucks', 'politics', 'IASIP', 'Inktober', 'JonWinsTheThrone', 'assholedesign', 'ImageComics', 'VillagePorn', 'findfashion', 'Minecraft', 'confidentlyincorrect', 'ArtistLounge', 'interestingasfuck', 'blackTattooing', 'DOG', 'NonPoliticalTwitter', 'tipofmytongue', 'TooAfraidToAsk', 'PandR', 'INEEEEDIT', 'trashy', 'halloween', 'DesignPorn', 'holdmycatnip', 'books', 'oilpainting', 'HadToHurt', 'TikTokCringe', 'Illustration', 'cringepics', 'Shihtzu', 'CrochetHelp', 'CozyPlaces', 'freefolk', 'blessedimages', 'Pareidolia', 'DetailCraft', 'CasualUK', 'MadeMeSmile', 'offmychest', 'horrorlit', 'ChoosingBeggars', 'HolUp', 'woooosh', 'Art', 'insanepeoplefacebook', 'Amigurumi', 'entertainment', 'crochetpatterns', 'therewasanattempt', 'InternetIsBeautiful', 'nextfuckinglevel', 'sadcringe', 'PublicFreakout', 'meirl', 'Blockbench', 'crafts', 'funny', 'FunnyAnimals', 'GoodNotes', 'ContagiousLaughter', 'Whatisthis', 'WhatIsThisPainting', 'delusionalartists', 'movies', 'Awwducational', 'starterpacks', 'whatsthisplant', 'shittytattoos'}\n"
     ]
    },
    {
     "name": "stderr",
     "output_type": "stream",
     "text": [
      "Scraping user comments:   0%|          | 62/29911 [13:47<74:50:26,  9.03s/it]"
     ]
    },
    {
     "name": "stdout",
     "output_type": "stream",
     "text": [
      "Comments saved to /Users/smutnuri/Documents/UVA/_Projects/Fall24/CBM/CBMRepo/Data/usercomments/-little-spoon-_usercomments.json\n",
      "{'television', 'backgammon', 'pics', 'sciencefiction', 'worldnews', 'mildlyinteresting', 'Damnthatsinteresting', 'AskEngineers', 'books', 'Showerthoughts', 'NetflixBestOf', 'ExpectationVsReality', 'AdviceAnimals', 'legaladvice', 'AskReddit', 'OldSchoolCool', 'PipeTobacco', 'AskHistorians', 'xbox360', 'Ebay', 'todayilearned', 'news', 'EDC', 'knifeclub', 'whatisthisthing', 'printSF', 'history', 'Leatherman', 'interestingasfuck', 'nyc', 'food', 'AubreyMaturinSeries', 'IAmA', 'knives', 'flashlight', 'boxoffice', 'explainlikeimfive', 'boardgames', 'science', 'RetroFuturism', 'CRK', 'movies', 'HistoryPorn', 'amateurradio', 'Charcuterie', 'pcmasterrace'}\n"
     ]
    },
    {
     "name": "stderr",
     "output_type": "stream",
     "text": [
      "Scraping user comments:   0%|          | 63/29911 [13:50<61:12:34,  7.38s/it]"
     ]
    },
    {
     "name": "stdout",
     "output_type": "stream",
     "text": [
      "Comments saved to /Users/smutnuri/Documents/UVA/_Projects/Fall24/CBM/CBMRepo/Data/usercomments/-nhops-_usercomments.json\n",
      "{'SipsTea', 'wizardposting', 'stationery', 'GlowUps', 'nope', 'videos', 'mildlyinteresting', 'martialarts', 'technology', 'sports', 'oddlyterrifying', 'Funnymemes', 'unixart', 'MedicalGore', 'Millennials', '52book', 'ItHadToBeBrazil', 'tacticalgear', 'compsci', 'Zig', 'strength_training', 'horror', 'thanksimcured', 'me_irl', 'gamecollecting', 'FluentInFinance', 'iamatotalpieceofshit', 'bugbounty', 'dccomicscirclejerk', 'AskReddit', 'bodybuilding', 'Diablo', 'CouncilOfCats', 'C_Programming', 'WhatsWrongWithYourCat', 'OneSecondBeforeDisast', 'onguardforthee', 'SSBM', 'Canada_sub', 'terriblefacebookmemes', 'antiwork', 'crochet', 'Calgary', 'Animemes', 'Spiderman', '2meirl4meirl', 'Justrolledintotheshop', '4chan', 'unpopularopinion', 'science', 'KidsAreFuckingStupid', 'Whatcouldgowrong', 'MemeVideos', 'Nicegirls', 'ExplainTheJoke', '2westerneurope4u', 'battlestations', 'Superstonk', 'Chainsawfolk', 'Damnthatsinteresting', 'Futurology', 'raylib', 'johnoliver', 'AskMen', 'ThatsInsane', 'pathofexiledev', 'nothingeverhappens', 'JustGuysBeingDudes', 'megalophobia', 'depressionmeals', '19684', 'AccidentalSlapStick', 'rareinsults', 'BBQ', 'GameDevelopment', 'aww', 'texas', 'Unexpected', 'AITAH', 'embedded', 'news', 'mathmemes', 'AnimalsBeingJerks', 'TwoXChromosomes', 'whenthe', 'selfhosted', 'neovim', 'stonerfood', 'ProgrammerHumor', 'diablo2', 'WhitePeopleTwitter', 'malelivingspace', 'coolguides', 'silenthill', 'StableDiffusion', 'wholesomegreentext', 'OSHA', 'MakeMeSuffer', 'mildlyinfuriating', 'ToiletPaperUSA', 'sewing', 'israelexposed', 'facepalm', 'pcgaming', 'Satisfyingasfuck', 'cursedcomments', 'EarthPorn', 'canada', 'justgalsbeingchicks', 'NoStupidQuestions', 'awesomewm', 'photoshopbattles', 'StrangeEarth', 'ImTheMainCharacter', 'rust', 'StartledCats', 'theydidthemath', 'Embroidery', 'LateStageCapitalism', 'awfuleverything', 'wallstreetbets', 'discordVideos', 'TorontoDriving', 'DiscoElysium', 'archlinux', 'oscp', 'Tinder', 'microdosing', 'puppies', 'space', 'OldSchoolCool', 'Antimoneymemes', 'interesting', 'AnythingGoesNews', 'TheNightFeeling', 'politics', 'Wellthatsucks', 'LivestreamFail', 'BrandNewSentence', 'Asmongold', 'zerocarb', 'BeAmazed', 'shittyfoodporn', 'dividends', 'PixelArt', 'Gamingcirclejerk', 'prepping', 'teentitans', 'interestingasfuck', 'Berserk', 'occult', 'linuxadmin', '90DayFiance', 'CrazyFuckingVideos', 'TerrifyingAsFuck', 'NonPoliticalTwitter', 'Brogress', 'godot', 'absolutelynotme_irl', 'pcmasterrace', 'NatureIsFuckingLit', 'Guildwars2', 'trashy', 'PoliticalHumor', 'ABoringDystopia', 'comedyheaven', 'residentevil4', 'Construction', 'CuratedTumblr', 'books', '90s', 'AmIOverreacting', 'niftyaf', 'wendigoon', 'TikTokCringe', 'KittyTerminal', 'HowToHack', 'tifu', 'Edmonton', 'Isekai', 'linux', 'sciencememes', 'NotHowGirlsWork', 'clevercomebacks', 'marvelmemes', 'MadeMeSmile', 'dankmemes', 'running', 'unixporn', 'TopCharacterDesigns', 'CanadaHousing2', 'shitposting', 'tmux', 'HolUp', 'TrueOffMyChest', 'linuxmasterrace', 'inthenews', 'HalfLife', 'bald', 'IdiotsInCars', 'BlackPeopleTwitter', 'MaleSurvivingSpace', 'StreetFighter', 'therewasanattempt', 'confessions', 'maybemaybemaybe', 'nextfuckinglevel', 'hacking', 'food', 'sadcringe', 'PublicFreakout', 'meirl', 'FunnyandSad', 'northernlion', 'funny', 'pathofexile', 'bonehurtingjuice', 'Eldenring', 'starterpacks', 'videogames', 'ActualPublicFreakouts'}\n"
     ]
    },
    {
     "name": "stderr",
     "output_type": "stream",
     "text": [
      "Scraping user comments:   0%|          | 64/29911 [14:07<84:33:50, 10.20s/it]"
     ]
    },
    {
     "name": "stdout",
     "output_type": "stream",
     "text": [
      "Comments saved to /Users/smutnuri/Documents/UVA/_Projects/Fall24/CBM/CBMRepo/Data/usercomments/-not_a_knife_usercomments.json\n",
      "{'television', 'CPTSDmemes', 'stephenking', 'Anxiety', 'writing', 'mildlyinteresting', 'rant', 'ThriftStoreHauls', 'MusicRecommendations', 'MetalMemes', 'WouldYouRather', 'relationships', '30ROCK', 'Funnymemes', 'DCEUleaks', 'Millennials', 'Instagramreality', 'musicsuggestions', 'horror', 'thanksimcured', 'Careers', 'notliketheothergirls', 'iamatotalpieceofshit', 'sailormoon', 'meme', 'AskReddit', 'TabbyCats', 'ADHDmemes', 'AreTheStraightsOK', 'Cooking', 'cremposting', 'BeforeNAfterAdoption', 'punk', 'fourthwing', 'AnimalCrossing', 'popping', 'AltLadyboners', 'ereader', 'onguardforthee', 'Canada_sub', 'giraffes', 'buffy', 'statsfm', 'PuppyBellies', 'relationship_advice', 'Stormlight_Archive', 'bisexual', 'Spiderman', '2meirl4meirl', 'UkrainianConflict', 'unpopularopinion', 'science', 'PrettyGuardians', 'Nicegirls', 'ExplainTheJoke', 'progmetal', 'answers', 'AmItheAsshole', 'Fantasy', 'RATS', 'memes', 'lesbianfashionadvice', 'dragrace', 'reptiles', 'antinatalism', 'AustralianCattleDog', 'AskMen', 'me_irlgbt', 'Cosmere_Tattoos', 'ibs', 'dangernoodles', 'hypotheticalsituation', 'wholesomememes', 'Dreams', 'rareinsults', 'CatAdvice', 'aww', 'HydroHomies', 'lookyourbest', 'CatsNamedAfterFoods', 'rupaulsdragrace', 'popculturechat', 'AITAH', 'IncelTear', 'ImFinnaGoToHell', 'suggestmeabook', 'news', 'TwoXChromosomes', 'Adulting', 'Catmemes', 'AskWomenNoCensor', 'weirdspotifyplaylists', 'depression', 'Music', 'harrypotter', 'DunderMifflin', 'catfood', 'antimeme', 'ytvretro', 'PointyTailedKittens', 'WhitePeopleTwitter', 'Winnipeg', 'Ladybonersgonecuddly', 'serialkillers', 'TrollXChromosomes', 'LowSodiumSimmers', 'facepalm', 'MorbidReality', 'pics', 'canada', 'NoStupidQuestions', 'worldnews', 'cartoons', 'mildlypenis', 'brooklynninenine', 'ImTheMainCharacter', 'brandonsanderson', 'childfree', 'repost', 'Metal', 'creepyPMs', 'VindictaRateCelebs', 'BestofRedditorUpdates', 'BooksThatFeelLikeThis', 'Tinder', 'legaladvicecanada', 'antinatalism2', 'nostalgia', 'thatHappened', 'reactiongifs', 'IASIP', 'AskACanadian', 'canadian', 'Kanye', 'shittyfoodporn', 'lgbtmemes', 'piercing', 'Cosmere', 'anime_titties', 'cats', 'WitchesVsPatriarchy', 'Sims4', 'interestingasfuck', 'ADHD', 'Catculations', 'Libraries', 'NonPoliticalTwitter', 'Dragula', 'confession', '196', 'TheGoodPlace', 'TooAfraidToAsk', 'blunderyears', 'WoT', 'sloths', 'WetlanderHumor', 'OneOrangeBraincell', 'trashy', 'halloween', 'HIMYM', 'IncelTears', 'raisedbynarcissists', 'foodpornpurgatory', 'gingercats', 'books', 'TrollCoping', 'actuallesbians', 'AnimalsBeingDerps', 'dykesgonemild', 'cringepics', 'kittens', 'grilledcheese', 'NotHowGirlsWork', 'bookscirclejerk', 'PoutineCrimes', 'marvelmemes', 'MadeMeSmile', 'dankmemes', 'musicals', 'CatsInSinks', 'DeathByMillennial', 'horrorlit', 'shitposting', 'badwomensanatomy', 'HolUp', 'BitLifeApp', 'rarepuppers', 'insanepeoplefacebook', 'tragedeigh', 'LifeProTips', 'adhdmeme', 'booksuggestions', 'BlackPeopleTwitter', 'FuckYouKaren', 'FoodPorn', 'HalloweenHardcore', 'Morbius', 'entertainment', 'Feminism', 'LadyBoners', 'adhdwomen', 'sadcringe', 'Sneks', 'meirl', 'funny', 'bi_irl', 'movies', 'religiousfruitcake'}\n"
     ]
    },
    {
     "name": "stderr",
     "output_type": "stream",
     "text": [
      "Scraping user comments:   0%|          | 65/29911 [14:23<99:37:45, 12.02s/it]"
     ]
    },
    {
     "name": "stdout",
     "output_type": "stream",
     "text": [
      "Comments saved to /Users/smutnuri/Documents/UVA/_Projects/Fall24/CBM/CBMRepo/Data/usercomments/-porridgeface-_usercomments.json\n",
      "{'WTFgaragesale', 'watchpeoplesurvive', 'SipsTea', 'TwoHotTakes', 'BargainBinVinyl', 'Battlecars', 'mildlyinteresting', 'videos', 'flicks', 'offset', 'Showerthoughts', 'CollectionHauls', 'StandUpComedy', 'Documentaries', 'fender', 'NotTimAndEric', 'Heavymind', 'noisemusic', 'noiserock', 'blues', 'fo4', 'Battlefield', 'TimWalz', 'AccidentalComedy', 'OnceHuman', 'OregonCoast', 'AskReddit', 'crappymusic', 'vintagejapaneseautos', 'WTF', 'overlanding', 'oregon', 'LongFurbies', 'FoundPhotos', 'Shitty_Car_Mods', 'photographs', 'WhatsWrongWithYourCat', 'ArtefactPorn', 'Seattle', 'VHScoverART', 'listeningspaces', 'badMovies', 'moviecritic', 'comics', 'TrueFilm', 'The_Mueller', 'CriterionChannel', 'battlefield2042', 'apexlegends', 'Uniteagainsttheright', 'conduitmains', 'UpliftingNews', 'guitarpedals', 'PDXBuyNothing', 'tooktoomuch', 'doodles', 'OnceHumanOfficial', 'Damnthatsinteresting', 'InterdimensionalCable', 'BudgetAudiophile', 'WWIpics', 'ThatsInsane', 'AbsurdMovies', 'askportland', 'AlbumArtPorn', 'RareHistoricalPhotos', 'AbandonedPorn', 'Fallout4Mods', 'hiphopvinyl', 'pinball', 'ArtDeco', 'WeirdWheels', 'vintageaudio', 'news', 'Jazz', 'Volvo', 'Helldivers', 'carsandfilm', 'spaceporn', 'Music', 'OldSchoolCoolMusic', 'fujix', 'turntables', 'namethatpdxbathroom', 'dataisbeautiful', 'retrogaming', 'yesyesyesyesno', 'RocketLeague', 'HistoricalCapsule', 'pics', 'pcgaming', 'gaming', 'battlefield_one', 'worldnews', 'Vinyl_Jazz', 'BoomersBeingFools', 'jazzvinyl', 'hiphoptapes', 'lifelinemains', 'carcrash', 'Cd_collectors', 'Palestine', 'gadgets', 'ForzaHorizon', 'delusionalcraigslist', 'OldSchoolCool', 'vinyl', 'wwiipics', 'WhyWomenLiveLonger', 'oldpeoplefacebook', 'reactiongifs', 'Wellthatsucks', 'politics', 'PinballFX3', 'pga2k21', 'IllegallySmol', 'AnimalCollective', 'ApexOutlands', 'forgottenfilm', 'OldPhotosInRealLife', 'AccidentalRenaissance', 'cassetteculture', 'BallisticMains', 'Portland', 'sticker', 'interestingasfuck', 'UrbanHell', 'explainlikeimfive', 'personalfinance', 'hiphop201', 'fullmoviesonyoutube', 'apexuniversity', 'Roadcam', 'redneckengineering', 'blunderyears', 'itookapicture', 'PoliticalHumor', 'ABoringDystopia', 'books', 'CampCult', 'LiveMusicPerf', 'vintageads', 'TikTokCringe', 'TheWayWeWere', 'cringepics', 'falloutsettlements', 'dankmemes', 'portlandmusic', 'nottheonion', 'PizzaCrimes', 'Piracy', 'todayilearned', 'Art', 'truespotify', 'inthenews', 'LifeProTips', 'IdiotsInCars', 'BlackPeopleTwitter', 'SurrealismArt', 'Idiotswithguns', 'maybemaybemaybe', 'nextfuckinglevel', 'WattsonMains', 'PublicFreakout', 'dashcamgifs', 'funny', 'analog', 'streetphotography', 'classicfilms'}\n"
     ]
    },
    {
     "name": "stderr",
     "output_type": "stream",
     "text": [
      "Scraping user comments:   0%|          | 66/29911 [14:42<116:03:50, 14.00s/it]"
     ]
    },
    {
     "name": "stdout",
     "output_type": "stream",
     "text": [
      "Comments saved to /Users/smutnuri/Documents/UVA/_Projects/Fall24/CBM/CBMRepo/Data/usercomments/-r-a-f-f-y-_usercomments.json\n",
      "{'news', 'Brazil', 'chowchow', 'asklatinamerica', 'Jellycatplush', 'books', 'askTO', 'AskReddit', 'Documentaries', 'toronto'}\n"
     ]
    },
    {
     "name": "stderr",
     "output_type": "stream",
     "text": [
      "Scraping user comments:   0%|          | 67/29911 [14:43<83:09:13, 10.03s/it] "
     ]
    },
    {
     "name": "stdout",
     "output_type": "stream",
     "text": [
      "Comments saved to /Users/smutnuri/Documents/UVA/_Projects/Fall24/CBM/CBMRepo/Data/usercomments/-serious_moonlight-_usercomments.json\n",
      "{'Marriage', 'pics', 'Chihuahua', 'CatsAreAssholes', 'GenX', 'MusicRecommendations', 'books', 'sports', 'Truthoffmychest', 'lonerstoner', 'Animal', 'horror', 'AskReddit', 'aww', 'anxietymemes', 'Wellthatsucks', 'politics', 'televisionsuggestions', 'ames', 'CPTSD', 'inthenews', 'MovieSuggestions', 'PoliticalMemes', 'hbo', 'interestingasfuck', 'AbstractArt', 'WhitePeopleTwitter', 'stoicquotes', 'movies', 'abusiverelationships'}\n"
     ]
    },
    {
     "name": "stderr",
     "output_type": "stream",
     "text": [
      "Scraping user comments:   0%|          | 68/29911 [14:45<64:01:38,  7.72s/it]"
     ]
    },
    {
     "name": "stdout",
     "output_type": "stream",
     "text": [
      "Comments saved to /Users/smutnuri/Documents/UVA/_Projects/Fall24/CBM/CBMRepo/Data/usercomments/-strangedazey_usercomments.json\n",
      "{'ask', 'SipsTea', 'mildlyinteresting', 'Gastonia', 'Showerthoughts', 'technology', 'passive_income', 'doordash', 'coparenting', 'TIHI', 'KPMG', 'AskReddit', 'Accounting', 'WTF', 'gifs', 'Machinists', 'PwC', 'antiwork', 'Toyota', 'science', 'electricvehicles', 'DIY', 'answers', 'dasher', 'economy', 'DiddyParty', 'ElectricalEngineering', 'Damnthatsinteresting', 'Futurology', 'dating_advice', 'AskMen', 'ThatsInsane', 'Big4', 'legaladvice', 'mechanic', 'aww', 'Jokes', 'news', 'JoeyDiaz', 'motorcycles', 'NationalPark', 'backpacking', 'mildlyinfuriating', 'facepalm', 'pics', 'oddlysatisfying', 'cursedcomments', 'gaming', 'worldnews', 'AskMechanics', 'truerateme', 'PhotoshopRequest', 'taxhelp', 'wallstreetbets', 'agedlikemilk', 'gadgets', 'millionairemakers', 'computerforensics', 'space', 'OldSchoolCool', 'anime_titties', 'CombatFootage', 'interestingasfuck', 'ADHD', 'CrazyFuckingVideos', 'personalfinance', 'UNC', 'CarAV', 'NatureIsFuckingLit', 'GalaxyS7', 'androidroot', 'amiugly', 'trashy', 'deloitte', 'SluttyConfessions', 'HookupInNorthCarolina', 'books', 'tifu', 'Charlotte', 'samsung', 'ukraine', 'Guitar', 'Volkswagen', 'tax', 'MadeMeSmile', 'Divorce_Men', 'HolUp', 'Swingers', '3dprint', 'teenagers', 'ADHDers', 'food', 'army', 'PublicFreakout', 'funny', 'movies'}\n"
     ]
    },
    {
     "name": "stderr",
     "output_type": "stream",
     "text": [
      "Scraping user comments:   0%|          | 69/29911 [14:51<59:18:45,  7.16s/it]"
     ]
    },
    {
     "name": "stdout",
     "output_type": "stream",
     "text": [
      "Comments saved to /Users/smutnuri/Documents/UVA/_Projects/Fall24/CBM/CBMRepo/Data/usercomments/-sweetchuck_usercomments.json\n",
      "{'iamverybadass', 'TwoHotTakes', 'Symbology', 'mendrawingwomen', 'scifi', 'GuessTheMovie', 'tacticalgear', 'AskReddit', 'badroommates', 'AmITheDevil', 'AITA_WIBTA_PUBLIC', 'VampireSurvivors', 'MemeHunter', 'AskScienceFiction', 'ems', 'fo76', 'blursed_videos', 'Firefighting', 'terriblefacebookmemes', 'whowouldwin', 'relationship_advice', 'GarandThumb', 'unpopularopinion', 'MonsterHunter', 'Nicegirls', 'NPR', 'Chadtopia', 'memes', 'spreadsmile', 'Damnthatsinteresting', 'AteTheOnion', 'The10thDentist', 'dating_advice', 'badads', 'Wildfire', 'ThatsInsane', 'rareinsults', 'DeepRockGalactic', 'Unexpected', 'AITAH', 'FirstResponderCringe', 'Adulting', 'Helldivers', 'NoMansSkyTheGame', 'wisconsin', 'whenthe', 'LAFD', 'ihavesex', 'deadmeatjames', 'kurzgesagt', 'coolguides', 'EngagementRings', 'TacticalMedicine', 'mildlyinfuriating', 'Advice', 'HellDiversLeaks', 'gaming', 'NoStupidQuestions', 'LowSodiumHellDivers', 'Glocks', 'justneckbeardthings', 'finalfantasyx', 'AmericaBad', 'awfuleverything', 'creepyPMs', 'agedlikemilk', 'LV426', 'ShouldIbuythisgame', 'menwritingwomen', 'madisonwi', 'thatHappened', 'Wellthatsucks', 'BeAmazed', 'perfectlycutscreams', 'AlignmentCharts', 'interestingasfuck', 'Bossfight', 'TooAfraidToAsk', 'CCW', 'trashy', 'fallout76settlements', 'comedyheaven', 'shittymobilegameads', 'lostredditors', 'books', 'tifu', 'LinkedInLunatics', 'cringepics', 'OutOfTheLoop', 'NotHowGirlsWork', 'helldivers2', 'changemyview', 'TopCharacterDesigns', 'Janesville', 'skamtebord', 'u_Ebbie45', 'shitposting', 'Paramedics', 'ImpracticalJokers', 'insanepeoplefacebook', 'NewToEMS', 'booksuggestions', 'PropagandaPosters', 'therewasanattempt', 'nextfuckinglevel', 'TopCharacterTropes', 'StardewValley', 'sadcringe', 'meirl', 'SubredditDrama', 'videogames', 'gatekeeping'}\n"
     ]
    },
    {
     "name": "stderr",
     "output_type": "stream",
     "text": [
      "Scraping user comments:   0%|          | 70/29911 [15:07<80:17:56,  9.69s/it]"
     ]
    },
    {
     "name": "stdout",
     "output_type": "stream",
     "text": [
      "Comments saved to /Users/smutnuri/Documents/UVA/_Projects/Fall24/CBM/CBMRepo/Data/usercomments/-v-fib-_usercomments.json\n",
      "{'television', 'russian', 'mildlyinteresting', 'Opossums', 'meme', 'SeattleKraken', 'AskReddit', 'Habs', 'GenZ', 'loseit', 'Zillennials', 'MurderedByWords', 'popping', 'SCJerk', 'unpopularopinion', 'spiderbro', 'Disneyland', 'shittymoviedetails', 'ClassicRock', 'Damnthatsinteresting', 'Futurology', 'ElderScrolls', 'nhl', 'oldhagfashion', 'leafs', 'bizarrelife', 'europe', 'lotrmemes', 'InstaCelebsGossip', 'MapPorn', 'technicallythetruth', 'SquaredCircle', 'popculturechat', 'AITAH', 'Unexpected', 'news', 'TwoXChromosomes', 'Music', 'DunderMifflin', 'LearnFinnish', 'AllThatIsInteresting', 'spiders', 'mildlyinfuriating', 'florida', 'pics', 'NoStupidQuestions', 'AMA', 'oddlyspecific', 'VindictaRateCelebs', 'BestofRedditorUpdates', 'Tinder', 'BaldursGate3', 'woahthatsinteresting', 'BrandNewSentence', 'politics', 'sanfrancisco', 'anime_titties', 'cats', 'glendale', 'interestingasfuck', 'mybrilliantfriendhbo', '40something', 'NatureIsFuckingLit', 'Nabokov', 'BSG', 'Construction', 'CuratedTumblr', 'climate', 'books', 'AmIOverreacting', 'TikTokCringe', 'clevercomebacks', 'longhair', 'nottheonion', 'youtubedrama', 'FloridaPanthers', 'OneFinance', 'LosAngeles', 'PropagandaPosters', 'LOTR_on_Prime', 'ExtremeHorrorLit', 'Teachers', 'bi_irl', 'ghostoftsushima', 'YouShouldKnow', 'hockey', 'shittytattoos'}\n"
     ]
    },
    {
     "name": "stderr",
     "output_type": "stream",
     "text": [
      "Scraping user comments:   0%|          | 71/29911 [15:25<101:05:31, 12.20s/it]"
     ]
    },
    {
     "name": "stdout",
     "output_type": "stream",
     "text": [
      "Comments saved to /Users/smutnuri/Documents/UVA/_Projects/Fall24/CBM/CBMRepo/Data/usercomments/0-90195_usercomments.json\n",
      "{'stephenking', 'mildlyinteresting', 'videos', 'Showerthoughts', 'listentothis', 'Denver', 'sports', 'oddlyterrifying', 'Funnymemes', 'Xennials', 'BreakingPointsNews', 'AskReddit', 'geography', 'gifs', '90sAlternative', 'rockies', 'ClimateCrisisCanada', 'SalsaSnobs', 'dirtysportshistory', 'scotus', 'HandwritingAnalysis', 'RedditSessions', 'PokemonTCG', 'memes', 'ClassicRock', 'Damnthatsinteresting', 'CleaningTips', 'Futurology', 'sitcoms', 'RandomThoughts', 'aww', 'MapPorn', 'Jokes', 'Unexpected', 'news', 'suggestmeabook', '80s', 'Music', 'FIlm', 'Presidents', 'ScienceUncensored', 'WhitePeopleTwitter', 'dataisbeautiful', 'WatchPeopleDieInside', 'facepalm', 'pics', 'Oldschool_NFL', 'worldnews', 'StrangeEarth', 'baseballcards_vintage', 'FuckImOld', 'VintageBaseballCards', 'NFLv2', 'space', 'OldSchoolCool', 'USNewsHub', 'AnythingGoesNews', 'politics', 'ChicagoBearsNFL', 'BeAmazed', 'Colorado', 'produce', 'NewsOfTheStupid', 'WorkReform', 'interestingasfuck', 'explainlikeimfive', 'baseballcards', 'NatureIsFuckingLit', 'PoliticalHumor', 'books', 'TikTokCringe', 'clevercomebacks', 'NYYankees', 'AntiTrumpAlliance', 'Infographics', 'nottheonion', 'ColoradoRockies', 'todayilearned', 'inthenews', 'u_ColoradoRising', 'LifeProTips', 'mlb', 'nextfuckinglevel', 'maybemaybemaybe', 'Serverlife', 'PublicFreakout', 'funny', 'ContagiousLaughter', 'FunnyAnimals', 'movies'}\n"
     ]
    },
    {
     "name": "stderr",
     "output_type": "stream",
     "text": [
      "Scraping user comments:   0%|          | 72/29911 [15:38<103:05:19, 12.44s/it]"
     ]
    },
    {
     "name": "stdout",
     "output_type": "stream",
     "text": [
      "Comments saved to /Users/smutnuri/Documents/UVA/_Projects/Fall24/CBM/CBMRepo/Data/usercomments/0000Matt0000_usercomments.json\n",
      "{'Weird', 'ask', 'iamverybadass', 'seriouslyalarming', 'stephenking', 'AskOldPeople', 'redditonwiki', 'GlowUps', 'mildlyinteresting', 'videos', 'Bellingham', 'ThriftStoreHauls', 'MusicRecommendations', 'houstonwade', 'CLOUDS', 'Denver', 'Qult_Headquarters', 'sports', 'GoogleEarthFinds', 'self', 'Xennials', 'DogAdvice', 'HumansBeingBros', 'aliens', 'FamilyMedicine', 'uglyduckling', 'sayulita', 'AskALawyer', 'AskReddit', '13or30', 'Cooking', 'AITA_WIBTA_PUBLIC', 'PoliticalDiscussion', 'FamilyLaw', 'puppy101', 'the_everything_bubble', 'Hairtransplant', 'traumatizeThemBack', 'IDmydog', 'Seattle', 'AuroraBorealis', 'TheLib', 'RoastMe', 'orcas', 'CoachellaValley', 'relationship_advice', 'ElementaryTeachers', 'TheDepthsBelow', 'jewelry', 'AskWomenOver40', 'RandomVictorianStuff', 'KidsAreFuckingStupid', 'DaniMarinaSnarking', 'DIY', 'AskSeattle', 'Nicegirls', 'frogs', 'AmItheAsshole', 'tomatoes', 'beagles', 'zoology', 'Manipulation', 'ElectionPolls', 'creepy', 'esist', 'GenX', 'Damnthatsinteresting', 'petfree', 'democrats', 'Austin', 'pigs', 'steak', 'HighStrangeness', 'HelpMeFind', 'RBI', 'RandomThoughts', 'CemeteryPorn', 'TheHandmaidsTale', 'legaladvice', 'aww', 'Unexplained', 'texas', 'AITAH', 'news', 'suggestmeabook', 'Askpolitics', 'Productivitycafe', 'Existentialism', 'TwoXChromosomes', 'Paranormal', 'Music', 'spaceporn', 'abovethenormnews', 'lgbt', 'Chonkers', 'puertovallarta', 'whybrows', 'malelivingspace', 'dataisbeautiful', 'spiders', 'mildlyinfuriating', 'HistoricalCapsule', 'Satisfyingasfuck', 'pics', 'RealTwitterAccounts', 'burgers', 'povertyfinance', 'NoStupidQuestions', 'photoshopbattles', 'LeopardsAteMyFace', 'illnessfakers', 'IAmTheAsshole', 'BoomersBeingFools', 'LifeAdvice', 'AMA', 'service_dogs', 'SchizophreniaRides', 'ancienthistory', 'u_myindch', 'painting', 'BestofRedditorUpdates', 'Antiques', 'whatsthisworth', 'OldSchoolCool', 'Transcription', 'atheism', 'oldpeoplefacebook', 'Ornithology', 'Wellthatsucks', 'politics', 'AnythingGoesNews', 'USNewsHub', 'BorderCollie', 'uraniumglass', 'BeAmazed', 'moraldilemmas', 'Iowa', 'dogpictures', 'cats', 'doppelganger', 'AnimalsBeingStrange', 'NewsOfTheStupid', 'interestingasfuck', 'words', 'legal', 'DOG', 'Noses', 'explainlikeimfive', 'iamverysmart', 'trailcam', '30PlusSkinCare', 'u_PumpkinSpicedBimb0', 'UtterlyUniquePhotos', 'toastme', 'goldenretrievers', 'Weddingattireapproval', 'tattooadvice', 'DaniMarina', 'comedyheaven', 'Genealogy', 'books', 'oilpainting', 'AmIOverreacting', 'Retconned', 'TikTokCringe', 'tifu', 'TheWayWeWere', 'AmITheAngel', 'BajaCalifornia', 'Costco', 'Ghosts', 'OutOfTheLoop', 'UFOs', 'beauty', 'ThriftGrift', 'Doppleganger', 'DobermanPinscher', 'MadeMeSmile', 'FoundPaper', 'nottheonion', 'AntiTrumpAlliance', 'PBS_NewsHour', 'todayilearned', 'Trumpvirus', 'fossilid', 'GenerationJones', 'ufc', 'WomenInNews', 'inthenews', 'Pets', 'whatisthisthing', 'food', 'Washington', 'Teachers', 'lastpodcastontheleft', 'funny', 'SubredditDrama', 'WhatIsThisPainting', '70s', 'GenZ', 'movies', 'WestSeattleWA', 'Spokane'}\n"
     ]
    },
    {
     "name": "stderr",
     "output_type": "stream",
     "text": [
      "Scraping user comments:   0%|          | 73/29911 [15:53<111:24:39, 13.44s/it]"
     ]
    },
    {
     "name": "stdout",
     "output_type": "stream",
     "text": [
      "Comments saved to /Users/smutnuri/Documents/UVA/_Projects/Fall24/CBM/CBMRepo/Data/usercomments/000ArdeliaLortz000_usercomments.json\n",
      "{'u_honeyfund', 'SipsTea', 'galaxys10', 'animalsdoingstuff', 'RedditSessions', 'AmazfitBip', 'Damnthatsinteresting', 'AnimalsBeingBros', 'books', 'scifi', 'GalaxyWatch', 'AskMen', 'GalaxyS24Ultra', 'AnimalsBeingDerps', 'astrophotography', 'philosophy', 'Sacramento', 'repost', 'samsung', 'Ring', 'likeus', 'dogs', 'iphone', 'gadgets', 'S24Ultra', 'Android', 'AskReddit', 'applewatchultra', 'aww', 'whereintheworld', 'smartwatch', 'AnimalsBeingJerks', 'amazfit', 'rarepuppers', 'surfaceduo', 'sanfrancisco', 'amazon', 'iPhone13', 'GooglePixel', 'spaceporn', 'Astronomy', 'cats', 'GalaxyNote9', 'AppleWatchFitness', 'ios', 'galaxywatch4', 'Smartphones', 'AppleWatch', 'snails', 'Supplements', 'Galaxywatch7', 'S22Ultra', 'NatureIsFuckingLit', 'GalaxyNote20', 'galaxynote10', 'note20ultra', 'homegym', 'carnivore', 'Fantasy', 'u_oatsovernight', 'polls'}\n"
     ]
    },
    {
     "name": "stderr",
     "output_type": "stream",
     "text": [
      "Scraping user comments:   0%|          | 74/29911 [16:09<116:15:48, 14.03s/it]"
     ]
    },
    {
     "name": "stdout",
     "output_type": "stream",
     "text": [
      "Comments saved to /Users/smutnuri/Documents/UVA/_Projects/Fall24/CBM/CBMRepo/Data/usercomments/00roadrunner00_usercomments.json\n",
      "{'ask', 'liberalgunowners', 'architecture', 'watchpeoplesurvive', 'fromsoftware', 'Miami', 'mildlyinteresting', 'HumanForScale', 'technology', 'sports', 'streetlightmanifesto', 'WouldYouRather', 'law', 'AmateurRoomPorn', 'AskHR', 'Upperwestside', 'metaldetecting', 'ageofsigmar', 'bereal_app', 'ATC', 'Aquariums', 'okbuddyretard', 'AskReddit', 'Cooking', 'MeetPeople', 'floorplan', 'BuyItForLife', 'Ask_Lawyers', 'whatismycookiecutter', 'the_everything_bubble', 'redditmobile', 'ClashRoyale', 'RoastMyCar', 'drawing', 'CatastrophicFailure', 'Architects', 'HowDoIRespondToThis', 'UnethicalLifeProTips', 'NFCEastMemeWar', 'ExteriorDesign', 'whowouldwin', 'relationship_advice', 'BeginnerWoodWorking', 'aviation', 'Justrolledintotheshop', 'unpopularopinion', 'KitchenConfidential', 'FUCKYOUINPARTICULAR', 'DIY', 'onionheadlines', 'battlestations', 'AmItheAsshole', 'BucksCountyPA', 'SoundsLikeMusic', 'PeterExplainsTheJoke', 'LiminalSpace', 'scambait', 'ReefTank', 'VisitingIceland', 'memes', 'GenX', 'apolloapp', 'GlobalEntry', 'Damnthatsinteresting', 'FixMyPrint', 'nhl', 'millenials', 'TattooDesigns', 'homedecoratingCJ', 'DungeonsAndDragons', 'iphone', 'HelpMeFind', 'Watches', 'MantisShrimp', 'Halloween_Costumes', 'CemeteryPorn', 'u_erinthul', 'hypotheticalsituation', 'legaladvice', 'BBQ', 'flightradar24', 'unitedairlines', 'aww', 'OutoftheAbyss', 'Brooklyn', 'dayton', 'AITAH', 'Unexpected', 'news', 'Helicopters', 'Jokes', 'nba', 'firstimpression', 'FOXNEWS', 'DMAcademy', 'Renovations', 'Tombofannihilation', '3Dprinting', 'dadjokes', 'baseball', 'wisconsin', 'Music', 'Presidents', 'nyjets', 'FromTVEpix', 'comedyhomicide', 'HomeworkHelp', 'FindTheSniper', 'nyc', 'Ohio', 'WhitePeopleTwitter', 'dataisbeautiful', 'casualiama', 'ParlerWatch', 'Bandnames', 'codes', 'mildlyinfuriating', 'marthasvineyard', 'Brewers', 'nfl', 'TheAllinPodcasts', 'UkraineWarVideoReport', 'puns', 'techtheatre', 'Satisfyingasfuck', 'AskOldPeopleAdvice', 'facepalm', 'pics', 'McMansionHell', 'oddlysatisfying', 'canada', 'NoStupidQuestions', 'worldnews', 'AskElectricians', 'NJGuns', 'educationalgifs', 'NYKnicks', 'BoomersBeingFools', 'AskMechanics', 'airport', 'whatisthiscar', 'RandomQuestion', 'DnD', 'AMA', 'Audi', 'FlashForge', 'AskEngineers', 'fixit', 'newjersey', 'secondrodeo', 'missouri', 'LateStageCapitalism', 'theydidthemath', 'whiskey', 'wallstreetbets', 'CongratsLikeImFive', 'Tinder', 'PeopleAreFckinStupid', 'whatsthisworth', 'Antiques', 'ElonJetTracker', 'space', 'BaldursGate3', 'tattoos', 'AbsoluteUnits', 'Wellthatsucks', 'politics', 'findareddit', 'IASIP', 'MarkMyWords', 'knitting', 'BeAmazed', 'FirstTimeHomeBuyer', 'AlAnon', 'cats', 'lightingdesign', 'gunpolitics', 'WildWestPics', 'dndnext', 'IsItBullshit', 'interestingasfuck', 'UrbanHell', 'personalfinance', 'fantasyfootball', 'charcoal', 'rangers', 'AFCEastMemeWar', 'gifsthatkeepongiving', 'CasualConversation', 'TooAfraidToAsk', 'dehydrating', 'octopus', 'tattooadvice', 'homeowners', 'DoesAnybodyElse', 'OneOrangeBraincell', 'FoodNYC', 'itookapicture', 'Porsche', 'CatsAreAssholes', 'PoliticalHumor', 'NewYorkMets', 'Planes', 'grilling', 'Construction', 'Scams', 'HomeImprovement', 'books', 'dontdeadopeninside', 'the_darnold', 'AskOuija', 'mets', 'onejob', 'AskAShittyMechanic', 'whatstheword', 'Ghosts', 'UFOs', 'Guitar', 'OpenForge', 'stupidquestions', 'coins', 'NYYankees', 'Doppleganger', 'Pareidolia', 'aviationmaintenance', 'Bumble', 'mightyinteresting', 'Appliances', 'careerguidance', 'ThereIsnoCat', 'Watchexchange', 'vegetablegardening', 'fatFIRE', 'NewBrunswickNJ', 'FoundPaper', 'nottheonion', 'SeriousConversation', 'AskAnAmerican', 'HolUp', 'shittysuperpowers', 'amiwrong', 'slavestodarkness', 'gardening', 'homeimprovementideas', 'googlemapsshenanigans', 'whatisthisthing', 'marriott', 'therewasanattempt', 'smoking', 'mlb', 'nextfuckinglevel', 'food', 'airfryer', 'PublicFreakout', 'meirl', 'funny', 'Cartalk', 'Eldenring', 'meat', 'whatcarshouldIbuy', 'castiron', 'hockey', 'HistoryPorn', 'shittytattoos', 'TopSecretRecipes'}\n"
     ]
    },
    {
     "name": "stderr",
     "output_type": "stream",
     "text": [
      "Scraping user comments:   0%|          | 75/29911 [16:30<134:07:20, 16.18s/it]"
     ]
    },
    {
     "name": "stdout",
     "output_type": "stream",
     "text": [
      "Comments saved to /Users/smutnuri/Documents/UVA/_Projects/Fall24/CBM/CBMRepo/Data/usercomments/00stoll_usercomments.json\n",
      "{'television', 'ask', 'microgrowery', 'videos', 'mildlyinteresting', 'Showerthoughts', 'StudentLoans', 'sports', 'Millennials', 'Lottery', 'FluentInFinance', 'BreakingPointsNews', 'AskReddit', 'Cooking', 'Political_Revolution', 'gifs', 'askscience', 'conspiracy', 'AskALiberal', 'business', 'inflation', 'UnethicalLifeProTips', 'antiwork', 'oil', 'science', 'DIY', 'scotus', 'HistoryWhatIf', 'UpliftingNews', 'NYGiants', 'Futurology', 'footballcards', 'RealEstate', 'democrats', 'findapath', 'thanksgiving', 'maryland', 'europe', 'BurgerKing', 'Adulting', 'Virginia', 'aldi', 'Music', 'Presidents', 'thedavidpakmanshow', 'WhitePeopleTwitter', 'dataisbeautiful', 'orioles', 'nfl', 'SearsForever', 'facepalm', 'pics', 'burgers', 'unusual_whales', 'NoStupidQuestions', 'worldnews', '2x2growery', 'BB_Stock', 'investing', 'wallstreetbets', 'baltimore', 'easternshoremd', 'basketballcards', 'OldSchoolCool', 'politics', 'Foodforthought', 'dividends', 'potato', 'Destiny', 'explainlikeimfive', 'personalfinance', 'ValueInvesting', 'energy', 'baseballcards', 'UkraineRussiaReport', 'GrowBuddy', 'Construction', 'questions', 'climate', 'books', 'TheMajorityReport', 'REBubble', 'nytimes', 'Fauxmoi', 'stupidquestions', 'nottheonion', 'todayilearned', 'Commanders', 'inthenews', 'LifeProTips', 'food', 'Popeyes', 'funny', 'movies', 'stocks'}\n"
     ]
    },
    {
     "name": "stderr",
     "output_type": "stream",
     "text": [
      "Scraping user comments:   0%|          | 76/29911 [16:45<130:24:57, 15.74s/it]"
     ]
    },
    {
     "name": "stdout",
     "output_type": "stream",
     "text": [
      "Comments saved to /Users/smutnuri/Documents/UVA/_Projects/Fall24/CBM/CBMRepo/Data/usercomments/00xjOCMD_usercomments.json\n",
      "{'television', 'technews', 'malefashionadvice', 'DesignPorn', 'runwayml', 'sciencefiction', 'pleistocene', 'worldnews', 'CineShots', 'ABoringDystopia', 'Damnthatsinteresting', 'Futurology', 'Showerthoughts', 'books', 'animation', 'scifi', 'expats', 'NostalgiaFapping', 'AskMen', 'TikTokCringe', 'Xennials', 'rolex', 'newslive', 'Fauxmoi', 'AfterEffects', 'Paleoart', 'gadgets', 'CelebsGW', 'Paleontology', 'eamesknockoffs', 'x100vi', 'AskReddit', 'AmerExit', 'space', 'Cinema4D', 'nottheonion', 'bodyweightfitness', 'politics', 'todayilearned', 'cars', 'BeAmazed', 'ThisCelebrity', 'x100v', 'Naturewasmetal', 'entertainment', 'printSF', 'history', 'Hairloss', 'TrueFilm', 'interestingasfuck', 'Moviesinthemaking', 'ScienceBasedParenting', 'askspain', 'explainlikeimfive', 'Anjelica_Ebbi', 'WhitePeopleTwitter', 'EverythingScience', 'Autos', 'midjourney', 'science', 'MovieDetails', 'AubreyStar', 'GirlsFinishingTheJob', 'WatchPeopleDieInside', 'movies', 'fujifilm', 'ChristopherNolan', 'WatchItForThePlot', 'answers', 'NatureIsFuckingLit'}\n"
     ]
    },
    {
     "name": "stderr",
     "output_type": "stream",
     "text": [
      "Scraping user comments:   0%|          | 77/29911 [16:59<127:42:54, 15.41s/it]"
     ]
    },
    {
     "name": "stdout",
     "output_type": "stream",
     "text": [
      "Comments saved to /Users/smutnuri/Documents/UVA/_Projects/Fall24/CBM/CBMRepo/Data/usercomments/00zxcvbnmnbvcxz_usercomments.json\n",
      "{'kdramarecommends', 'suggestmeabook', 'malefashionadvice', 'YellowstonePN', 'selfpublish', 'books', 'KDP'}\n"
     ]
    },
    {
     "name": "stderr",
     "output_type": "stream",
     "text": [
      "Scraping user comments:   0%|          | 78/29911 [17:00<90:16:57, 10.89s/it] "
     ]
    },
    {
     "name": "stdout",
     "output_type": "stream",
     "text": [
      "Comments saved to /Users/smutnuri/Documents/UVA/_Projects/Fall24/CBM/CBMRepo/Data/usercomments/010246_usercomments.json\n",
      "{'TwoHotTakes', 'traderjoes', 'Anxiety', 'Agoraphobia', 'CalebHammer', 'LoveIslandTV', 'Showerthoughts', 'technology', 'pilonidalcyst', 'Funnymemes', 'self', 'Millennials', 'me_irl', 'Frugal', 'PcMasterRaceBuilds', 'FluentInFinance', 'TIHI', 'AskReddit', 'badroommates', '13or30', 'SkateStory', 'Apartmentliving', 'TheNorthFace', 'Sneakers', 'notinteresting', 'LetsTalkBam', 'tissot', 'freefromwork', 'nova', 'moviecritic', 'RoastMe', 'comics', 'antiwork', 'GothBoiClique', '2meirl4meirl', 'doordash_drivers', 'relationship_advice', 'KitchenConfidential', 'reddeadredemption2', 'KidsAreFuckingStupid', 'youtube', 'SaratiOfficialNSFW', 'ExplainTheJoke', 'CBD', 'blackops6', 'benzodiazepines', 'AmItheAsshole', 'FemaleHairLoss', 'PeterExplainsTheJoke', 'Damnthatsinteresting', 'Futurology', 'AlanWake', 'short', 'hiphopheads', 'Watches', 'projectsession', 'maxpayne', 'megalophobia', 'RandomThoughts', 'JuiceWRLD', 'legaladvice', 'TrueCrimeDiscussion', 'PS5', 'aww', 'travisscott', 'retailhell', 'popculturechat', 'AITAH', 'Unexpected', 'news', 'AnimalsBeingJerks', 'TwoXChromosomes', 'ModernWarfareIII', 'rap', 'euphoria', 'coastFIRE', 'LilPeep', 'Money', 'LoveIslandUSA', 'TellMeLiesHulu', 'WhitePeopleTwitter', 'dataisbeautiful', 'malelivingspace', 'suicidebywords', 'tumblr', 'GTAIV', 'mildlyinfuriating', 'OCD', 'asklatinamerica', 'Advice', 'australia', 'facepalm', 'pics', 'oddlysatisfying', 'pcgaming', 'gaming', 'NoStupidQuestions', 'justgalsbeingchicks', 'worldnews', 'LeopardsAteMyFace', 'BoomersBeingFools', 'ImTheMainCharacter', 'RepTime', 'macbookair', 'Acura', 'wallstreetbets', 'BestofRedditorUpdates', 'kencarson', 'Tinder', 'KingOfTheHill', 'OldSchoolCool', 'LoveIsBlindOnNetflix', 'politics', 'XXXTENTACION', 'hardware', 'BeAmazed', 'Kanye', 'glasses', 'perfectlycutscreams', 'FirstTimeHomeBuyer', 'crv', 'delta', 'playboicarti', 'cats', 'ShilohDynasty', 'PS4', 'interestingasfuck', 'pettyrevenge', 'SkateEA', 'windows', 'NonPoliticalTwitter', 'TaylorSwift', 'liltracy', 'blunderyears', 'pcmasterrace', 'gmu', 'trippieredd', 'SessionSkateSim', 'careeradvice', 'AnimalsBeingBros', 'books', 'GYM', 'AmIOverreacting', 'decadeology', 'TikTokCringe', 'REBubble', 'LinkedInLunatics', 'liluzivert', 'reddeadredemption', 'GTA', 'OutOfTheLoop', 'clevercomebacks', 'Surface', 'sza', 'dankmemes', 'AntiTrumpAlliance', 'nottheonion', 'Dynavap', 'todayilearned', 'KendrickLamar', 'Drizzy', 'Hair', 'rockstar', 'IdiotsInCars', 'BlackPeopleTwitter', 'FuckYouKaren', 'therewasanattempt', 'maybemaybemaybe', 'nextfuckinglevel', 'CompTIA', 'PostMalone', 'PublicFreakout', 'meirl', 'funny', 'Economics', 'GenZ', 'Felons'}\n"
     ]
    },
    {
     "name": "stderr",
     "output_type": "stream",
     "text": [
      "Scraping user comments:   0%|          | 79/29911 [17:14<98:56:00, 11.94s/it]"
     ]
    },
    {
     "name": "stdout",
     "output_type": "stream",
     "text": [
      "Comments saved to /Users/smutnuri/Documents/UVA/_Projects/Fall24/CBM/CBMRepo/Data/usercomments/03xoxo05_usercomments.json\n",
      "{'television', 'Asksweddit', 'SipsTea', 'TwoHotTakes', 'mildlyinteresting', 'Showerthoughts', 'sports', 'GreenAndPleasant', 'self', 'apple', 'me_irl', 'houseplants', 'ukdrill', 'FluentInFinance', 'CarTalkUK', 'AskReddit', 'drivingUK', 'soccercirclejerk', 'MurderedByWords', 'notinteresting', 'Bumperstickers', 'AskUK', 'GymMemes', 'DiWHY', 'science', 'KidsAreFuckingStupid', 'LondonUnderground', 'DIY', 'UpliftingNews', 'gifsthatendtoosoon', 'sweden', 'shittymoviedetails', 'creepy', 'Damnthatsinteresting', 'Futurology', 'democrats', 'midlyinteresting', 'OTMemes', 'philosophy', 'MildlyBadDrivers', 'lego', 'hypotheticalsituation', 'europe', 'rareinsults', 'TrueUnpopularOpinion', 'AITAH', 'Unexpected', 'news', 'TwoXChromosomes', 'Sverige', 'Music', 'GreatBritishMemes', 'london', 'Scotland', 'WhitePeopleTwitter', 'dataisbeautiful', 'spiders', 'mildlyinfuriating', 'IndiaSpeaks', 'australia', 'povertyfinance', 'pics', 'facepalm', 'oddlysatisfying', 'NoStupidQuestions', 'worldnews', 'BoomersBeingFools', 'oddlyspecific', 'fixedbytheduet', 'PhotoshopRequest', 'BestofRedditorUpdates', 'Tinder', 'glasgow', 'idiocracy', 'GetMotivated', 'interesting', 'Wellthatsucks', 'BeAmazed', 'playboicarti', 'cats', 'chaoticgood', 'uknews', 'Conservative', 'interestingasfuck', 'CyberStuck', 'explainlikeimfive', 'confession', 'unitedkingdom', 'NatureIsFuckingLit', 'holdmycatnip', 'pundarblocket', 'comedyheaven', 'Portsmouth', 'UnbelievableStuff', 'CuratedTumblr', 'books', 'czech', 'AmIOverreacting', 'tifu', 'GardeningUK', 'Fauxmoi', 'trans', 'clevercomebacks', 'JoeRogan', 'LinusTechTips', 'stockholm', 'CasualUK', 'MadeMeSmile', 'nottheonion', 'unket', 'todayilearned', 'tragedeigh', 'BlackPeopleTwitter', 'UKhiking', 'nextfuckinglevel', 'fuckcars', 'food', 'batman', 'meirl', 'funny', 'movies', 'UFOs', 'madlads'}\n"
     ]
    },
    {
     "name": "stderr",
     "output_type": "stream",
     "text": [
      "Scraping user comments:   0%|          | 80/29911 [17:22<88:34:45, 10.69s/it]"
     ]
    },
    {
     "name": "stdout",
     "output_type": "stream",
     "text": [
      "Comments saved to /Users/smutnuri/Documents/UVA/_Projects/Fall24/CBM/CBMRepo/Data/usercomments/0FFFXY_usercomments.json\n",
      "{'emacs', 'samharris', 'AskNYC', 'books', 'apple', 'programming', 'compsci', 'JoeRogan', 'dailyprogrammer', 'Bumble', 'Android', 'cpp', 'bodybuilding', 'ezraklein', 'haskell', 'CryptoCurrency', 'cars', 'ProgrammingDiscussion', 'Python', 'CFB', 'webdev', 'NixOS', 'MMA', 'GooglePixel', 'peloton', 'nyc', 'ProgrammerHumor', 'chess', 'SearchEnginePodcast', 'cpp_questions'}\n"
     ]
    },
    {
     "name": "stderr",
     "output_type": "stream",
     "text": [
      "Scraping user comments:   0%|          | 81/29911 [17:27<73:54:38,  8.92s/it]"
     ]
    },
    {
     "name": "stdout",
     "output_type": "stream",
     "text": [
      "Comments saved to /Users/smutnuri/Documents/UVA/_Projects/Fall24/CBM/CBMRepo/Data/usercomments/0Il0I0l0_usercomments.json\n",
      "{'television', 'Weird', 'ask', 'SipsTea', 'TwoHotTakes', 'mildlyinteresting', 'videos', 'rant', 'landscaping', 'houstonwade', 'depression_memes', 'Showerthoughts', 'PrequelMemes', 'technology', 'animalid', 'law', 'Funnymemes', 'self', 'Xennials', 'Millennials', 'Frugal', 'me_irl', 'fantasyromance', 'nationalparks', 'MichaelRMiller', 'gameofthrones', 'FluentInFinance', 'meme', 'AskReddit', 'geography', 'AITA_WIBTA_PUBLIC', 'travel', 'BuyItForLife', 'NoLawns', 'KamalaHarris', 'spain', 'MurderedByWords', 'the_everything_bubble', 'notinteresting', 'blursed_videos', 'Anticonsumption', 'WarriorCats', 'moviecritic', 'comics', 'antiwork', 'crochet', 'Bumperstickers', 'moistcr1tikal', 'Spiderman', '2meirl4meirl', 'HouseOfTheDragon', 'UkrainianConflict', 'unpopularopinion', 'DiWHY', 'science', 'malegrooming', 'KidsAreFuckingStupid', 'PokeLeaks', 'DIY', 'MemeVideos', 'ExplainTheJoke', 'youtube', 'Fantasy', 'Disneyland', 'PeterExplainsTheJoke', 'JusticeForPudding', 'LiminalSpace', 'memes', 'Damnthatsinteresting', 'ElderScrolls', 'VintageToys', 'Futurology', 'democrats', 'AtlantisTheLostEmpire', 'madlads', 'HighStrangeness', 'JustGuysBeingDudes', 'megalophobia', 'lego', 'MinecraftMemes', 'Awww', 'hypotheticalsituation', 'wholesomememes', 'aww', 'lotrmemes', 'TheOnion', 'DeepRockGalactic', 'popculturechat', 'SquaredCircle', 'technicallythetruth', 'AITAH', 'HomeMaintenance', 'news', 'suggestmeabook', 'fantasywriters', 'Unexpected', 'CATHELP', 'TwoXChromosomes', 'blackcats', 'harrypotter', 'Cryptozoology', 'lgbt', 'Catswhoyell', 'Money', 'WhitePeopleTwitter', 'coolguides', 'AllThatIsInteresting', 'UnresolvedMysteries', 'mildlyinfuriating', 'HelluvaBoss', 'lotr', 'Marvel', 'D23Expo', 'florida', 'oddlysatisfying', 'pics', 'pcgaming', 'StarWars', 'Satisfyingasfuck', 'facepalm', 'gaming', 'NoStupidQuestions', 'worldnews', 'cartoons', 'NoShitSherlock', 'BoomersBeingFools', 'legendofkorra', 'LeaksAndRumors', 'aaaaaaacccccccce', 'disneyprincess', 'oddlyspecific', 'repost', 'StupidFood', 'BestofRedditorUpdates', 'Gifts', 'gadgets', 'walmart', 'InlandEmpire', 'minnesota', 'OurFlagMeansDeath', 'youseeingthisshit', 'union', 'BaldursGate3', 'atheism', 'interesting', 'nostalgia', 'Wellthatsucks', 'politics', 'Asmongold', 'AnythingGoesNews', 'MarkMyWords', 'BeAmazed', 'FirstTimeHomeBuyer', 'Goodwill_Finds', 'mapporncirclejerk', 'saltierthankrayt', 'Iowa', 'cats', 'Eyebleach', 'Conservative', 'TrueReddit', 'CharacterAI', 'DeepFuckingValue', 'WitchesVsPatriarchy', 'WorkReform', 'interestingasfuck', 'CreditScore', 'legal', 'work', 'pettyrevenge', 'Fallout', 'CyberStuck', 'boxoffice', 'DOG', 'personalfinance', 'NonPoliticalTwitter', 'SweatyPalms', 'absolutelynotme_irl', 'tattooadvice', 'hazbin', 'pcmasterrace', 'OneOrangeBraincell', 'DesignPorn', 'comedyheaven', 'Construction', 'UnbelievableStuff', 'climate', 'arborists', 'books', 'CuratedTumblr', 'AmIOverreacting', 'TikTokCringe', 'AnimalsBeingDerps', 'Edmonton', 'LinkedInLunatics', 'GetNoted', 'Costco', 'Fauxmoi', 'clevercomebacks', 'skeptic', 'AdviceAnimals', 'conservativeterrorism', 'MadeMeSmile', 'nottheonion', 'TopCharacterDesigns', 'todayilearned', 'pokemongo', 'HazbinHotel', 'WomenInNews', 'inthenews', 'tragedeigh', 'LifeProTips', 'booksuggestions', 'EntitledPeople', 'teenagers', 'maybemaybemaybe', 'fuckcars', 'nextfuckinglevel', 'TopCharacterTropes', 'Teachers', 'worldbuilding', 'dashcamgifs', 'meirl', 'funny', 'bi_irl', 'dashcams', 'FunnyAnimals', 'Global_News_Hub', 'bonehurtingjuice', 'YouShouldKnow', 'Eldenring', 'Economics', 'movies', 'GenZ', 'starterpacks', 'Parenting', 'asoiaf', 'TeenagersButBetter', 'CrappyDesign'}\n"
     ]
    },
    {
     "name": "stderr",
     "output_type": "stream",
     "text": [
      "Scraping user comments:   0%|          | 82/29911 [17:45<98:01:11, 11.83s/it]"
     ]
    },
    {
     "name": "stdout",
     "output_type": "stream",
     "text": [
      "Comments saved to /Users/smutnuri/Documents/UVA/_Projects/Fall24/CBM/CBMRepo/Data/usercomments/0MysticMemories_usercomments.json\n",
      "{'ask', 'samsunggalaxy', 'mildlyinteresting', 'videos', 'TVTooHigh', 'MusicRecommendations', 'Showerthoughts', 'Letterboxd', 'GuessTheMovie', 'sports', 'WouldYouRather', 'spotify', 'musicsuggestions', 'sonos', 'rosesarered', 'euro2024', 'AskReddit', 'Snorkblot', 'Cooking', 'macbookpro', 'drivingUK', 'gifs', 'webdev', 'Twitch', 'moviecritic', 'gamingsuggestions', 'AskUK', 'Scrubs', 'unpopularopinion', 'DIY', 'ghibli', 'OLED_Gaming', 'answers', 'ItsAllAboutGames', 'TheInbetweeners', 'creepy', 'CleaningTips', 'sitcoms', 'stories', 'RandomThoughts', 'hypotheticalsituation', 'aww', 'televisionsuggestions', 'suggestmeabook', 'DragonAgeVeilguard', 'TwoXChromosomes', 'Handhelds', 'Adulting', 'blacksabbath', 'Music', 'FIlm', 'nosleep', 'TheITcrowd', 'AbstractArt', 'Smartphones', 'cyberpunkgame', 'southpark', 'hygiene', 'RedDwarf', 'rickygervais', 'Paddington', 'pics', 'gaming', 'NoStupidQuestions', 'photoshopbattles', 'GalaxyS23Ultra', 'Championship', 'cookingforbeginners', 'MoviePosterPorn', 'repost', 'nvidiashield', 'beginnerrunning', 'OldSchoolCool', 'GetMotivated', 'UK_Food', 'TheApprentice', 'SuggestALaptop', 'gigabyte', 'PickAnAndroidForMe', 'MovieSuggestions', 'playstation', 'bluey', 'footballmanager', 'words', 'explainlikeimfive', 'Onyx_Boox', 'buildapc', 'CasualConversation', 'candy', 'ScenesFromAHat', 'YotoPlayer', 'pcmasterrace', 'questions', 'UKfood', 'books', 'WindowsOnDeck', 'tifu', 'TvShows', 'BrokenSword', 'england', 'S24Ultra', 'CasualUK', 'nottheonion', 'running', 'FinalFantasy', 'TheSimpsons', 'todayilearned', 'ContractorUK', 'FifaCareers', 'Art', 'bald', 'steam_giveaway', 'LifeProTips', 'TrekBikes', 'teenagers', 'AlanPartridge', 'Comebacks', 'seinfeld', 'food', 'BritishTV', 'DIYUK', 'meirl', 'funny', 'TheOfficeUK', 'blackdesertonline', 'movies', 'videogames', 'TeenagersButBetter'}\n"
     ]
    },
    {
     "name": "stderr",
     "output_type": "stream",
     "text": [
      "Scraping user comments:   0%|          | 83/29911 [17:56<94:13:14, 11.37s/it]"
     ]
    },
    {
     "name": "stdout",
     "output_type": "stream",
     "text": [
      "Comments saved to /Users/smutnuri/Documents/UVA/_Projects/Fall24/CBM/CBMRepo/Data/usercomments/0Neji_usercomments.json\n",
      "{'florida', 'greatdanes', 'pics', 'Michigan', 'WetlanderHumor', 'gaming', 'NoStupidQuestions', 'worldnews', 'husky', 'videos', 'mildlyinteresting', 'LeopardsAteMyFace', 'WoTshow', 'Bloodsworn', 'books', 'DogBreeding', 'TikTokCringe', 'fixedbytheduet', 'Monstera', 'bikecommuting', 'germanshorthairs', 'Bikejoring', 'dogs', 'TriCitiesWA', 'AskReddit', 'Kneesovertoes', 'nottheonion', 'aww', 'running', 'kzoo', 'Unexpected', 'politics', 'news', 'suggestmeabook', 'WTF', 'discworld', 'olympics', 'RunningWithDogs', 'BackYardChickens', 'wyoming', 'wisconsin', 'therewasanattempt', 'vizsla', 'GSP', 'SelfAwarewolves', 'boardgames', 'natureismetal', 'PublicFreakout', 'Stormlight_Archive', 'HouseOfTheDragon', 'funny', 'hmmm', 'cyberpunkgame', 'k9sports', 'unpopularopinion', 'science', 'grandrapids', 'mealtimevideos', 'movies', 'mildlyinfuriating', 'asoiaf', 'TheBoys', 'CrappyDesign'}\n"
     ]
    },
    {
     "name": "stderr",
     "output_type": "stream",
     "text": [
      "Scraping user comments:   0%|          | 84/29911 [18:24<136:03:03, 16.42s/it]"
     ]
    },
    {
     "name": "stdout",
     "output_type": "stream",
     "text": [
      "Comments saved to /Users/smutnuri/Documents/UVA/_Projects/Fall24/CBM/CBMRepo/Data/usercomments/0b0011_usercomments.json\n",
      "{'TwoHotTakes', 'videos', 'Suikoden', 'self', 'musicsuggestions', 'Earth199999', 'thanksimcured', 'AskGamers', 'boston', 'HadesTheGame', 'FluentInFinance', 'Somerville', 'Springfield', 'deadpool', 'dccomicscirclejerk', 'AskReddit', 'MarvelSnap', 'AITA_WIBTA_PUBLIC', 'floorplan', 'NintendoSwitch', 'BostonSocialClub', 'MurderedByWords', 'TOTK', 'Avengers', 'Breath_of_the_Wild', 'moviecritic', 'ForTheGloryLand', 'KitchenConfidential', 'cocktails', 'OLED_Gaming', 'ExplainTheJoke', 'UpliftingNews', 'SpidermanPS4', 'PetPeeves', 'AmItheAsshole', 'umass', 'PeterExplainsTheJoke', 'TheBesties', 'Concerts', 'Manipulation', 'MBMBAM', 'CaptainAmerica', 'sitcoms', 'DungeonsAndDragons', 'marvelcomics', 'johnoliver', 'superpower', 'aspiememes', 'RandomThoughts', 'splatoon', 'hypotheticalsituation', 'legaladvice', 'rareinsults', 'PS5', 'MapPorn', 'AITAH', 'systemofadown', 'Journalism', 'tearsofthekingdom', 'FIlm', 'Disney_Infinity', 'AskFeminists', 'Greenlantern', 'Smartphones', 'Ohio', 'AllThatIsInteresting', 'FantasticFour', 'marvelsnapcomp', 'Marvel', 'mbta', 'yakuzagames', 'pics', 'massachusetts', 'ffxiv', 'StarWars', 'saltierthancrait', 'NoStupidQuestions', 'GodofWar', 'PlaystationPortal', 'BoomersBeingFools', 'brooklynninenine', 'AMA', 'superheroes', 'xmen', 'agedlikemilk', 'SquareEnix', 'ShouldIbuythisgame', 'NintendoSwitch2', 'zelda', 'interesting', 'consoles', 'superman', 'bidets', 'Wellthatsucks', 'AnythingGoesNews', 'diablo4', 'AlignmentCharts', 'ZeldaTearsOfKingdom', 'LegacyOfKain', 'playstation', 'FFXVI', 'NewsOfTheStupid', 'newhampshire', 'interestingasfuck', 'CustomMarvelSnap', 'DungeonsAndDaddies', 'casualnintendo', 'books', 'Metroid', 'AmIOverreacting', 'TikTokCringe', 'tifu', 'Costco', 'OutOfTheLoop', 'clevercomebacks', 'disney', 'skeptic', 'AskMenAdvice', 'musicals', 'MarvelSnapDecks', 'FinalFantasy', 'tcltvs', 'horizon', 'dropout', 'Wolverine', 'oneplus', 'StarWarsCantina', 'malden', 'AlamoDrafthouse', 'movies', 'GenZ', 'ghostoftsushima', 'videogames', 'AITH'}\n"
     ]
    },
    {
     "name": "stderr",
     "output_type": "stream",
     "text": [
      "Scraping user comments:   0%|          | 85/29911 [18:42<141:05:10, 17.03s/it]"
     ]
    },
    {
     "name": "stdout",
     "output_type": "stream",
     "text": [
      "Comments saved to /Users/smutnuri/Documents/UVA/_Projects/Fall24/CBM/CBMRepo/Data/usercomments/0bsessions324_usercomments.json\n",
      "{'Spondylolisthesis', 'pics', 'Health', 'unusual_whales', 'canada', 'NoStupidQuestions', 'houston', 'Genealogy', 'Damnthatsinteresting', 'psychologystudents', 'books', 'LifeAdvice', 'millenials', 'AMA', 'SpinalStenosis', 'law', 'schoolcounseling', 'beginnerfitness', 'SpineSurgery', 'FluentInFinance', 'CanadaPolitics', 'Manitoba', 'legaladvice', 'AskReddit', 'legaladvicecanada', 'AITA_WIBTA_PUBLIC', 'AskSocialScience', 'alberta', 'popculturechat', 'politics', 'CanadianTeachers', 'todayilearned', 'AITAH', 'Askpolitics', 'Nails', 'AskACanadian', 'canadian', 'saskatchewan', 'NovaScotia', 'entertainment', 'backpain', 'umanitoba', 'UnethicalLifeProTips', 'AskTeachers', 'teaching', 'Christianity', 'PersonalFinanceCanada', 'EverythingScience', 'AskDocs', 'Winnipeg', 'science', 'FunnyAnimals', 'AllThatIsInteresting', 'mildlyinfuriating', 'Advice', 'AmItheAsshole'}\n"
     ]
    },
    {
     "name": "stderr",
     "output_type": "stream",
     "text": [
      "Scraping user comments:   0%|          | 86/29911 [18:47<109:45:52, 13.25s/it]"
     ]
    },
    {
     "name": "stdout",
     "output_type": "stream",
     "text": [
      "Comments saved to /Users/smutnuri/Documents/UVA/_Projects/Fall24/CBM/CBMRepo/Data/usercomments/0caloriecheesecake_usercomments.json\n",
      "{'ask', 'HotlineMiami', 'Weird', 'MexicoCity', 'LatinoPeopleTwitter', 'mildlyinteresting', 'videos', 'landscaping', 'CR10sPRO', 'Showerthoughts', 'conversaciones', 'CDMX', 'oddlyterrifying', 'Funnymemes', 'self', 'me_irl', 'TheLastAirbender', 'artcommissions', 'commissions', 'FluentInFinance', 'Culiacan', 'AskReddit', 'trigger', 'Lawyertalk', 'hermosillo', 'MexicoMagico', 'ChainsawMan', 'gifs', 'VaporwaveAesthetics', 'lacamiseta', 'GenZ', 'ElCalifato', 'notinteresting', 'MujicoCity', 'ArtefactPorn', 'drawing', 'RoastMe', 'comics', 'escritura', 'RedditPregunta', 'regularcarreviews', 'relationship_advice', 'UNBGBBIIVCHIDCTIICBG', 'DiWHY', 'MexicanMemes', 'ClipStudio', 'DIY', 'Pennsylvania', 'TwoBestFriendsPlay', 'MemeVideos', 'ExplainTheJoke', 'UpliftingNews', 'VideojuegosMX', 'answers', 'THE_PACK', 'mexico', 'CreepyArt', 'Hololive', 'nevertellmetheodds', 'queretaro', 'rule34', 'memes', 'creepy', 'Damnthatsinteresting', 'Futurology', 'Blasphemous', 'megalophobia', 'RandomThoughts', 'namenerds', 'Awww', 'wholesomememes', 'europe', 'LiesOfP', 'rareinsults', 'golf', 'DigitalArt', 'wholesomeanimemes', 'Emo', 'MapPorn', 'AITAH', 'MadMax', 'Unexpected', 'news', 'suggestmeabook', 'TwoXChromosomes', 'libros', 'Music', 'nagatoro', 'whenthe', 'EnoughMuskSpam', 'ChubbyUK', 'Catswhoyell', 'saltillo', 'Money', 'starterpacks', 'learnart', 'WhitePeopleTwitter', 'silenthill', 'coolguides', 'suicidebywords', 'tumblr', 'mexicanfood', 'WatchPeopleDieInside', 'mildlyinfuriating', 'yakuzagames', 'facepalm', 'carpenterbrut', 'McMansionHell', 'pics', 'gaming', 'NoStupidQuestions', 'UNAM', 'estafasyfraudes', 'worldnews', 'LittleWitchAcademia', 'ImTheMainCharacter', 'TargetedShirts', 'Guadalajara', 'TecDeMonterrey', 'whitewhale', 'Steam', 'nier', 'awwwtf', 'oddlyspecific', 'theydidthemath', 'Silksong', 'StupidFood', 'SchizophreniaRides', 'Metal', 'deepseacreatures', 'preguntaleareddit', 'painting', 'DiscoElysium', 'taquerosprogramadores', 'space', 'GetMotivated', 'Breadit', 'AbsoluteUnits', 'interesting', 'BrandNewSentence', 'funnysigns', 'IASIP', 'Avatar', 'UNHhhh', 'BeAmazed', 'MexicoFinanciero', 'AccidentalRenaissance', 'PixelArt', 'Dandadan', 'Gamingcirclejerk', 'carscirclejerk', 'Mexico_News', 'NewsOfTheStupid', 'interestingasfuck', 'CyberStuck', 'UrbanHell', 'Bossfight', 'NonPoliticalTwitter', 'SoyElMalo', 'SweatyPalms', 'signalis', 'blunderyears', 'pcmasterrace', 'NatureIsFuckingLit', 'RedLetterMedia', 'Skullgirls', 'photography', 'Gaming_es', 'comedyheaven', 'shittymobilegameads', 'doujinshi', 'Justfuckmyshitup', 'CuratedTumblr', 'AskRedditAfterDark', 'books', '3amjokes', 'vintageads', 'onejob', 'LinkedInLunatics', 'jobs', 'DesirePaths', 'SovietWomble', 'clevercomebacks', 'MexicoRepCVT', 'Cyberpunk', 'marvelmemes', 'MemesEnEspanol', 'MadeMeSmile', 'nottheonion', 'HollowKnight', 'todayilearned', 'Guiltygear', 'thalassophobia', 'Art', 'gardening', 'inthenews', 'DragonMaid', 'tragedeigh', 'LifeProTips', 'BlackPeopleTwitter', 'singularity', 'StreetFighter', 'PropagandaPosters', 'HalloweenHardcore', 'maybemaybemaybe', 'nextfuckinglevel', 'food', 'ShittyMapPorn', 'VivimosEnUnaSociedad', 'meirl', 'Preguntas_de_Reddit_', 'funny', 'Baking', 'geekygirls', 'DesirePath', 'movies', 'futurefunk', 'madlads', 'videogames', 'Memesbuenaonda', 'castiron', 'recipes', 'ExplicameComoMorrito'}\n"
     ]
    },
    {
     "name": "stderr",
     "output_type": "stream",
     "text": [
      "Scraping user comments:   0%|          | 87/29911 [19:17<151:50:39, 18.33s/it]"
     ]
    },
    {
     "name": "stdout",
     "output_type": "stream",
     "text": [
      "Comments saved to /Users/smutnuri/Documents/UVA/_Projects/Fall24/CBM/CBMRepo/Data/usercomments/0dty0_usercomments.json\n",
      "{'pics', 'newbrunswickcanada', 'canada', 'theology', 'gaming', 'creepy', 'mildlyinteresting', 'HauntedCosmos', 'rant', 'antinatalism', 'Futurology', 'Showerthoughts', 'books', 'questions', 'thesims', 'dndmemes', 'singing', 'bigboobproblems', 'HarryPotterGame', 'AbruptChaos', 'Funnymemes', 'rescuedogs', 'Embroidery', 'linux', 'cute', 'RandomThoughts', 'overwatch2', 'AskReddit', 'sims4cc', 'csMajors', 'HPHogwartsMystery', 'GetMotivated', 'changemyview', 'aww', 'gifs', 'autism', 'Hamilton', 'Productivitycafe', 'BeAmazed', 'askscience', 'TwoXChromosomes', 'Art', 'linuxsucks', 'harrypotter', 'Sims4', 'Christian', 'crochet', 'food', 'musicians', 'Christianity', 'StardewValley', 'adhdwomen', 'PersonalFinanceCanada', 'explainlikeimfive', 'linuxquestions', 'funny', 'HPHMGroupFinder', 'science', 'CasualConversation', 'DIY', 'hearing', 'Overwatch', 'AskPsychiatry', 'dogswearinghats', 'StardewMemes', 'PetPeeves', 'TheSims4Mods'}\n"
     ]
    },
    {
     "name": "stderr",
     "output_type": "stream",
     "text": [
      "Scraping user comments:   0%|          | 88/29911 [19:25<125:33:18, 15.16s/it]"
     ]
    },
    {
     "name": "stdout",
     "output_type": "stream",
     "text": [
      "Comments saved to /Users/smutnuri/Documents/UVA/_Projects/Fall24/CBM/CBMRepo/Data/usercomments/0lexis_usercomments.json\n",
      "{'ItsAllAboutGames', 'povertyfinance', 'pics', 'ffxiv', 'getdisciplined', 'gaming', 'NoStupidQuestions', 'AskOldPeople', 'ffxivdiscussion', 'mildlyinteresting', 'creepy', 'TalesFromDF', 'Norway', 'questions', 'flicks', 'books', 'RandomQuestion', 'DnD', 'AmIOverreacting', 'tifu', 'DAE', 'self', 'Millennials', 'norsk', 'NameMyCat', 'hypotheticalsituation', 'OregonCoast', 'AskReddit', 'Cooking', 'OldSchoolCool', 'AITA_WIBTA_PUBLIC', 'CatAdvice', 'AmITheJerk', 'careerguidance', 'atheism', 'ffxivart', 'FinalFantasy', 'SeriousConversation', 'AskVet', 'AITAH', 'CATHELP', 'Pixelary', 'Productivitycafe', 'TwoXChromosomes', 'Animesuggest', 'Adulting', '80s', 'traumatizeThemBack', 'Pets', 'drawing', 'ScenesFromAHat', 'MovieSuggestions', 'cats', 'genetec', 'ShitpostXIV', 'Comebacks', 'confidentlyincorrect', 'marvelstudios', 'ArtistLounge', 'AdviceForTeens', 'CreepyBonfire', 'whatif', 'NonPoliticalTwitter', 'Forgotten_Realms', 'WeightLossAdvice', 'movies', 'mildlyinfuriating', 'Advice', 'PetPeeves', 'answers'}\n"
     ]
    },
    {
     "name": "stderr",
     "output_type": "stream",
     "text": [
      "Scraping user comments:   0%|          | 89/29911 [19:35<114:17:56, 13.80s/it]"
     ]
    },
    {
     "name": "stdout",
     "output_type": "stream",
     "text": [
      "Comments saved to /Users/smutnuri/Documents/UVA/_Projects/Fall24/CBM/CBMRepo/Data/usercomments/0mnomidon_usercomments.json\n",
      "{'Weird', 'remotework', 'povertyfinance', 'pics', 'TwoHotTakes', 'TurkeyJerky', 'Scams', 'mildlyinteresting', 'malehairadvice', 'memes', 'Damnthatsinteresting', 'books', 'CannedSardines', 'MuslimSnark_', 'lichensclerosus', 'tifu', 'Millennials', 'oddlyspecific', 'no', 'FridgeDetective', 'RandomThoughts', 'Catnames', 'namenerds', 'Awww', 'Postpartum_Depression', 'asadsisters', 'MadeMeSmile', 'whatsongisthis', 'offmychest', 'AbsoluteUnits', 'AITAH', 'suggestmeabook', 'haikusbot', 'kobo', 'BeardAdvice', '2mediterranean4u', 'bald', 'cats', 'creepyencounters', 'Bumperstickers', 'USCIS', 'confession', 'KidsAreFuckingStupid', 'MTHFR', 'mildlyinfuriating', 'TrueScaryStories', 'AmItheAsshole'}\n"
     ]
    },
    {
     "name": "stderr",
     "output_type": "stream",
     "text": [
      "Scraping user comments:   0%|          | 90/29911 [19:43<100:07:45, 12.09s/it]"
     ]
    },
    {
     "name": "stdout",
     "output_type": "stream",
     "text": [
      "Comments saved to /Users/smutnuri/Documents/UVA/_Projects/Fall24/CBM/CBMRepo/Data/usercomments/0princesspancakes0_usercomments.json\n",
      "{'todayilearned', 'AgathaAllAlong', 'personalfinance', 'books', 'RoastMe', 'AmIOverreacting', 'teenagers', 'interestingasfuck'}\n"
     ]
    },
    {
     "name": "stderr",
     "output_type": "stream",
     "text": [
      "Scraping user comments:   0%|          | 91/29911 [19:44<72:41:06,  8.77s/it] "
     ]
    },
    {
     "name": "stdout",
     "output_type": "stream",
     "text": [
      "Comments saved to /Users/smutnuri/Documents/UVA/_Projects/Fall24/CBM/CBMRepo/Data/usercomments/0rganicl3mons_usercomments.json\n",
      "{'Weird', 'writing', 'shakespeare', 'flicks', 'Letterboxd', 'GuessTheMovie', 'oddlyterrifying', '52book', 'horror', 'AskALawyer', 'AskReddit', 'INeedAName', 'daverubin', 'terriblefacebookmemes', 'TrueFilm', 'YMS', 'Hypothyroidism', 'TwoBestFriendsPlay', 'samharris', 'PeterExplainsTheJoke', 'memes', 'Damnthatsinteresting', 'okbuddycinephile', 'audible', 'philosophy', 'HelpMeFind', 'ThomasPynchon', 'u_Fatherthinger', 'Presidents', 'fantanoforever', 'lastimages', 'casualiama', 'AllThatIsInteresting', 'AskLiteraryStudies', 'pics', 'classics', 'NoStupidQuestions', 'Physics', 'wikipedia', 'greentext', 'dalle2', 'literature', 'rollercoasterjerk', 'Deleuze', 'DecodingTheGurus', 'Jung', 'CriticalTheory', 'LivestreamFail', 'BeAmazed', 'Destiny', 'Eyebleach', 'TrueReddit', 'CrazyFuckingVideos', 'explainlikeimfive', 'TerrifyingAsFuck', 'BikiniBottomTwitter', 'comedyheaven', 'bookshelf', 'books', 'computerscience', 'JoeRogan', 'math', 'jamesjoyce', 'MadeMeSmile', 'changemyview', 'AskHistorians', 'horrorlit', 'TheSimpsons', 'todayilearned', 'thalassophobia', 'askphilosophy', 'inthenews', 'entertainment', 'booksuggestions', 'nextfuckinglevel', 'meirl', 'TrueLit', 'YouShouldKnow', 'movies'}\n"
     ]
    },
    {
     "name": "stderr",
     "output_type": "stream",
     "text": [
      "Scraping user comments:   0%|          | 92/29911 [20:05<103:03:41, 12.44s/it]"
     ]
    },
    {
     "name": "stdout",
     "output_type": "stream",
     "text": [
      "Comments saved to /Users/smutnuri/Documents/UVA/_Projects/Fall24/CBM/CBMRepo/Data/usercomments/0xE4-0x20-0xE6_usercomments.json\n",
      "{'Weird', 'ask', 'SipsTea', 'stephenking', 'AskOldPeople', 'mildlyinteresting', 'netsec', 'PastorArrested', 'BanPitBulls', 'Millennials', 'FridgeDetective', 'meme', 'zillowgonewild', 'AskReddit', 'geography', 'AskMenOver30', 'olympics', 'GoneWildPlus', 'privacy', 'asciidoc', 'ThickandBBWJeans', 'CatastrophicFailure', 'germanshepherds', 'moviecritic', 'RoastMe', 'icewm', 'aviation', 'AskUK', 'netsecstudents', 'unpopularopinion', 'CrusaderKings', 'DINgore', '2westerneurope4u', 'BBWnThiccness', 'CupboardDetective', 'shittymoviedetails', 'cargo200', 'PeterExplainsTheJoke', 'memes', 'matrixdotorg', 'ShitAmericansSay', 'okbuddycinephile', 'FragReddit', 'ssbbwbutt', 'JustGuysBeingDudes', 'instantkarma', 'europe', 'rareinsults', 'commandline', 'aww', 'MapPorn', 'technicallythetruth', 'BBWPussys', 'mediathek', 'news', 'FirstResponderCringe', 'OeffentlicherDienst', 'Music', 'immich', 'sillybritain', 'EnoughMuskSpam', 'selfhosted', 'ProgrammerHumor', 'WhitePeopleTwitter', 'SnapshotHistory', 'AskEurope', 'coolguides', 'retrogaming', 'yesyesyesyesno', 'mildlyinfuriating', 'HistoricalCapsule', 'UkraineWarVideoReport', 'facepalm', 'pics', 'gaming', 'worldnews', 'BoomersBeingFools', 'ImTheMainCharacter', 'GlInet', 'thelongdark', 'JustBootThings', 'Rabbits', 'VindictaRateCelebs', 'eurovision', 'ffmpeg', 'PrettyOlderWomen', 'Wellthatsucks', 'politics', 'BrandNewSentence', 'amazfit', 'cryptography', 'AskNetsec', 'interestingasfuck', 'NetBSD', 'explainlikeimfive', 'CrazyFuckingVideos', 'cybersecurity', 'AfroQueens', 'ich_iel', 'balkans_irl', 'darktower', 'books', '90s', 'LingeriePlus', 'clevercomebacks', 'Amazing_black_boobs', 'dankmemes', 'TOR', 'nottheonion', 'eyebombing', 'vexillologycirclejerk', 'todayilearned', 'retrobattlestations', 'shitposting', 'yubikey', 'onions', 'whatisthisthing', 'sovietaesthetics', 'nextfuckinglevel', 'IAmA', 'castles', 'Intelligence', 'PublicFreakout', 'meirl', 'movies', 'Heavycakes', 'starterpacks'}\n"
     ]
    },
    {
     "name": "stderr",
     "output_type": "stream",
     "text": [
      "Scraping user comments:   0%|          | 93/29911 [20:19<105:52:19, 12.78s/it]"
     ]
    },
    {
     "name": "stdout",
     "output_type": "stream",
     "text": [
      "Comments saved to /Users/smutnuri/Documents/UVA/_Projects/Fall24/CBM/CBMRepo/Data/usercomments/0xKaishakunin_usercomments.json\n",
      "{'HierarchySeries', 'opengl', 'gaming', 'victoria3', 'programminghorror', 'Cplusplus', 'ancientrome', 'rhino', 'opensource', 'learnprogramming', 'books', 'ck3', 'WagnerVsRussia', 'programming', 'windowsmemes', 'eu4', 'coding', 'Unity2D', 'gamedesign', 'cpp', 'csMajors', 'kde', 'GameDevelopment', 'BaseBuildingGames', 'suggestmeabook', 'ImperialAmbitionsGame', 'TheFirstLaw', 'MachineLearning', 'gamedevscreens', 'C_Programming', 'PBBG', 'linuxmasterrace', 'Concordia', 'PixelArt', 'gamedev', 'computerwargames', 'ProgrammerTIL', 'bevy', 'devblogs', 'GraphicsProgramming', '4Xgaming', 'IndieDev', 'proceduralgeneration', 'raytracing', 'StrategyGames', 'CrusaderKings', 'DestroyMyGame', 'computergraphics', 'cpp_questions', 'Fantasy'}\n"
     ]
    },
    {
     "name": "stderr",
     "output_type": "stream",
     "text": [
      "Scraping user comments:   0%|          | 94/29911 [20:30<101:50:33, 12.30s/it]"
     ]
    },
    {
     "name": "stdout",
     "output_type": "stream",
     "text": [
      "Comments saved to /Users/smutnuri/Documents/UVA/_Projects/Fall24/CBM/CBMRepo/Data/usercomments/0xcedbeef_usercomments.json\n"
     ]
    },
    {
     "name": "stderr",
     "output_type": "stream",
     "text": [
      "Scraping user comments:   0%|          | 95/29911 [20:31<72:27:54,  8.75s/it] "
     ]
    },
    {
     "name": "stdout",
     "output_type": "stream",
     "text": [
      "{'HistoryMemes', 'explainlikeimfive', 'NoStupidQuestions', 'peliculas', 'LatinoPeopleTwitter', 'libros', 'argentina', 'AskEngineers', 'books', 'BlockchainStartups', 'CryptoCurrency'}\n",
      "Comments saved to /Users/smutnuri/Documents/UVA/_Projects/Fall24/CBM/CBMRepo/Data/usercomments/0xeo_usercomments.json\n",
      "{'booksuggestions', 'suggestmeabook', 'irishtourism', 'musicsuggestions', 'gamingsuggestions', 'RDR2', 'Midkemia', 'RedDeadOnline', 'books', 'Equestrian', 'Documentaries', 'Horses', 'Maine', 'Veep', 'farmingsimulator', 'AskReddit', 'offmychest', 'reddeadredemption'}\n"
     ]
    },
    {
     "name": "stderr",
     "output_type": "stream",
     "text": [
      "Scraping user comments:   0%|          | 96/29911 [20:32<53:09:07,  6.42s/it]"
     ]
    },
    {
     "name": "stdout",
     "output_type": "stream",
     "text": [
      "Comments saved to /Users/smutnuri/Documents/UVA/_Projects/Fall24/CBM/CBMRepo/Data/usercomments/1-800-grandmas_usercomments.json\n",
      "{'television', 'mildlyinteresting', 'videos', 'Showerthoughts', 'technology', 'sports', 'relationships', 'recruitinghell', 'Frugal', 'HumansBeingBros', 'dogs', 'AskReddit', 'Cooking', 'BeforeNAfterAdoption', 'BuyItForLife', 'olympics', 'gifs', 'MurderedByWords', 'askscience', 'labrats', 'standardissuecat', 'antiMLM', 'Iditarod', 'Anticonsumption', 'exmormon', 'WeWantPlates', 'unpopularopinion', 'cordcutters', 'science', 'DIY', 'geocaching', 'UpliftingNews', 'molecularbiology', 'creepy', 'Futurology', 'ZeroWaste', 'namenerds', 'Canning', 'wholesomememes', 'europe', 'rareinsults', 'aww', 'popculturechat', 'news', 'TwoXChromosomes', 'LadiesofScience', 'shitduolingosays', 'Music', 'Homebrewing', 'WhatWeDointheShadows', 'camping', 'askspain', 'buffalobills', 'askcarsales', 'WhitePeopleTwitter', 'dataisbeautiful', 'casualiama', 'MovieDetails', 'tumblr', 'Coronavirus', 'UnresolvedMysteries', 'mildlyinfuriating', 'SelfSufficiency', 'SapphoAndHerFriend', 'Menopause', 'pics', 'cursedcomments', 'EatCheapAndHealthy', 'EarthPorn', 'gaming', 'NoStupidQuestions', 'longisland', 'worldnews', 'HobbyDrama', 'childfree', 'Visiblemending', 'UnsolvedMysteries', 'OldSchoolCool', 'nobuy', 'politics', 'CampingandHiking', 'excatholic', 'cats', 'USCivilWar', 'appliancerepair', 'interestingasfuck', 'pettyrevenge', 'explainlikeimfive', 'personalfinance', 'simpleliving', 'TooAfraidToAsk', 'DecidingToBeBetter', 'blunderyears', 'homeowners', 'ClassicBookClub', 'trashy', 'microbiology', 'HomeImprovement', 'books', 'TikTokCringe', 'tifu', 'cringepics', 'tarantulas', 'Fencesitter', 'upcycling', 'bridezillas', 'MadeMeSmile', 'FoundPaper', 'nottheonion', 'InteriorDesign', 'running', 'todayilearned', 'AskAnAmerican', 'TrueOffMyChest', 'homestead', 'tragedeigh', 'whatisthisthing', 'LifeProTips', 'BlackPeopleTwitter', 'InternetIsBeautiful', 'IAmA', 'boardgames', 'biology', 'PublicFreakout', 'PiratePets', 'funny', 'movies', 'HistoryPorn', 'CrappyDesign'}\n"
     ]
    },
    {
     "name": "stderr",
     "output_type": "stream",
     "text": [
      "Scraping user comments:   0%|          | 97/29911 [20:46<73:36:45,  8.89s/it]"
     ]
    },
    {
     "name": "stdout",
     "output_type": "stream",
     "text": [
      "Comments saved to /Users/smutnuri/Documents/UVA/_Projects/Fall24/CBM/CBMRepo/Data/usercomments/1000121562127_usercomments.json\n",
      "{'ask', 'poirot', 'u_1000andonenites', 'ModestDress', 'French', 'NoStupidQuestions', 'writing', 'shakespeare', 'thesopranos', 'books', 'AMA', 'literature', 'painting', 'RandomThoughts', 'NameNerdCirclejerk', 'namenerds', 'fiction', 'AskReddit', 'Cooking', 'SuccessionTV', 'superstore', 'creepypasta', 'AITAH', 'todayilearned', 'suggestmeabook', 'scarystories', 'agathachristie', 'Succession', 'MovieSuggestions', 'nosleep', 'scaryanimalstories', 'cats', 'shortscarystories', 'shortstories', 'Narnia', 'moviecritic', 'AskFeminists', 'MidsomerMurders', 'janeausten', 'ShortScaryStoriesOOC', 'unpopularopinion', 'CasualConversation', 'IndieGaming', 'Weddingattireapproval', 'betterCallSaul'}\n"
     ]
    },
    {
     "name": "stderr",
     "output_type": "stream",
     "text": [
      "Scraping user comments:   0%|          | 98/29911 [21:03<92:12:35, 11.13s/it]"
     ]
    },
    {
     "name": "stdout",
     "output_type": "stream",
     "text": [
      "Comments saved to /Users/smutnuri/Documents/UVA/_Projects/Fall24/CBM/CBMRepo/Data/usercomments/1000andonenites_usercomments.json\n",
      "{'CambridgeMA', 'AskOldPeople', 'TVTooHigh', 'SocialSecurity', 'animalid', 'Europetravel', 'self', 'verizon', 'Honda', 'boston', 'FluentInFinance', 'redsox', 'NameNerdCirclejerk', 'Straycats', 'AskWomen', 'AskReddit', 'Cooking', 'travel', 'Israel', 'standardissuecat', 'specialed', 'artcollecting', 'office', 'Autism_Parenting', 'UnethicalLifeProTips', 'ExteriorDesign', 'Toyota', 'unpopularopinion', 'HomeDecorating', 'facebook', 'HistoricalWhatIf', 'answers', 'tipping', 'umass', 'QuincyMa', 'economy', 'internetparents', 'Judaism', 'GenX', 'CleaningTips', 'RealEstate', 'ParisTravelGuide', 'homedecoratingCJ', 'democrats', 'SalemMA', 'MassachusettsPolitics', 'rome', 'curlyhair', 'newengland', 'PlantIdentification', 'Awww', 'TheGirlSurvivalGuide', 'obgyn', 'CatAdvice', 'H5N1_AvianFlu', '2ndYomKippurWar', 'Banking', 'unitedairlines', 'gratefuldead', 'AITAH', 'news', 'CATHELP', 'whatisit', 'Flights', 'TwoXChromosomes', 'Renovations', 'catfood', 'UnfuckYourHabitat', 'Insurance', 'Haircare', 'urbanplanning', 'LibbyandAbby', 'TravelHacks', 'kindergarten', 'AlaskaAirlines', 'hygiene', 'jewishpolitics', 'RealEstateAdvice', 'mildlyinfuriating', 'bostonforsale', 'Advice', 'WFH', 'realestateinvesting', 'facepalm', 'torties', 'massachusetts', 'pics', 'NoStupidQuestions', 'worldnews', 'LeopardsAteMyFace', 'BoomersBeingFools', 'CatDistributionSystem', 'Oldnavy', 'shittytattoos', 'RandomQuestion', 'AMA', 'Radiology', 'airplanes', 'GrandmasPantry', 'laundry', 'cat', 'NameMyCat', 'rebubblejerk', 'kitchenremodel', 'minnesota', 'whatisthisplant', 'PelletStoveTalk', 'northshore', 'politics', 'vermont', 'mewborns', 'GenXWomen', 'MarkMyWords', 'Remodel', 'Lufthansa', 'SameGrassButGreener', 'FirstTimeHomeBuyer', 'delta', 'mapporncirclejerk', 'Oldhouses', 'cats', 'fragrance', 'wedding', 'CreditScore', 'ADHD', 'HealthInsurance', 'UrbanHell', 'personalfinance', 'Clarinet', 'RoastMyCat', 'CasualConversation', 'Interrail', 'Weddingattireapproval', 'homeowners', 'Jewish', 'askfuneraldirectors', 'CatsAreAssholes', 'hebrew', 'HomeImprovement', 'fidelityinvestments', 'AutismParentResource', 'books', 'questions', 'AmIOverreacting', 'Perfumes', 'IsraelPalestine', 'kittens', 'Costco', 'NEU', 'beauty', 'stupidquestions', 'ItalyTravel', 'Mid_Century', 'financialaid', 'changemyview', 'weddingdress', 'interiordecorating', 'TuxedoCats', 'AskAnAmerican', 'TrueOffMyChest', 'DesignMyRoom', 'IRS', 'tragedeigh', 'toebeans', 'neighborsfromhell', 'food', 'disneylandparis', 'Hilton', 'rav4club', 'askswitzerland', 'MiddleClassFinance', 'Whatisthis', 'WhatIsThisPainting', 'Roses', 'Parenting', 'biotech', 'PetAdvice'}\n"
     ]
    },
    {
     "name": "stderr",
     "output_type": "stream",
     "text": [
      "Scraping user comments:   0%|          | 99/29911 [21:24<116:59:18, 14.13s/it]"
     ]
    },
    {
     "name": "stdout",
     "output_type": "stream",
     "text": [
      "Comments saved to /Users/smutnuri/Documents/UVA/_Projects/Fall24/CBM/CBMRepo/Data/usercomments/1000thusername_usercomments.json\n",
      "{'audiobooks', 'Weird', 'SipsTea', 'TwoHotTakes', 'ontario', 'Showerthoughts', 'GreenAndPleasant', 'oddlyterrifying', 'urbanfantasy', 'AskALawyer', 'AskReddit', 'geography', 'Cooking', 'Apartmentliving', 'Names', 'askscience', 'workingmoms', 'specialed', 'Seattle', 'exmormon', 'terriblefacebookmemes', 'AskTeachers', 'antiwork', 'science', 'consumercellular', 'AmItheAsshole', 'polls', 'Damnthatsinteresting', 'curlyhair', 'namenerds', 'instantkarma', 'environment', 'aww', 'AITAH', 'news', 'suggestmeabook', 'discworld', 'TwoXChromosomes', 'LadiesofScience', 'AmITheBadApple', 'kindergarten', 'WhitePeopleTwitter', 'school', 'Coronavirus', 'WatchPeopleDieInside', 'mildlyinfuriating', 'homeschool', 'TheRightCantMeme', 'pics', 'oddlysatisfying', 'NoStupidQuestions', 'brandonsanderson', 'childfree', 'awfuleverything', 'MaliciousCompliance', 'breastcancer', 'SubstituteTeachers', 'Wellthatsucks', 'politics', 'delta', 'cats', 'interestingasfuck', 'pettyrevenge', 'playstupidgames', 'historyteachers', 'TooAfraidToAsk', 'COVID19positive', 'HermanCainAward', 'ABoringDystopia', 'PoliticalHumor', 'books', 'tifu', 'TriCitiesWA', 'AskEconomics', 'MadeMeSmile', 'nottheonion', 'todayilearned', 'instant_regret', 'TrueOffMyChest', 'amiwrong', 'GooglePixel', 'LifeProTips', 'BlackPeopleTwitter', 'confessions', 'nextfuckinglevel', 'Washington', 'Teachers', 'meirl', 'funny'}\n"
     ]
    },
    {
     "name": "stderr",
     "output_type": "stream",
     "text": [
      "Scraping user comments:   0%|          | 100/29911 [21:39<119:01:18, 14.37s/it]"
     ]
    },
    {
     "name": "stdout",
     "output_type": "stream",
     "text": [
      "Comments saved to /Users/smutnuri/Documents/UVA/_Projects/Fall24/CBM/CBMRepo/Data/usercomments/1001Geese_usercomments.json\n",
      "{'television', 'Plumbing', 'povertyfinance', 'goodrestrictionfood', 'books', 'girls', 'Fauxmoi', 'AnalFistula', 'DiscoElysium', 'whatsthatbook', 'cfs', 'AskReddit', 'CatTraining', 'popculturechat', 'TopCharacterDesigns', 'politics', 'suggestmeabook', 'dropout', 'TwoXChromosomes', 'IReadABookAndAdoredIt', 'safe_food', 'AskLosAngeles', 'vegetarian', 'controlgame', 'cozygames', 'OCDRecovery', 'coolguides', 'AskDocs', 'femalelivingspace', 'OCD', 'DesperateHousewives', 'RATS'}\n"
     ]
    },
    {
     "name": "stderr",
     "output_type": "stream",
     "text": [
      "Scraping user comments:   0%|          | 101/29911 [21:41<89:19:55, 10.79s/it] "
     ]
    },
    {
     "name": "stdout",
     "output_type": "stream",
     "text": [
      "Comments saved to /Users/smutnuri/Documents/UVA/_Projects/Fall24/CBM/CBMRepo/Data/usercomments/100TypesofUnicorn_usercomments.json\n",
      "{'place', 'TwoHotTakes', 'dbz', 'books', 'AmItheCloaca', 'u_whoevenisthat5', 'HighStrangeness', 'BestofRedditorUpdates', 'CanadasWonderland', 'AITA_WIBTA_PUBLIC', 'offmychest', 'AITAH', '1000lbbestfriends', 'HazbinHotel', 'amiwrong', 'traumatizeThemBack', 'Pets', 'tragedeigh', 'EntitledPeople', 'My600lbLife', 'dustythunder', 'OnceUponATime', 'asoiaf', 'AmItheAsshole'}\n"
     ]
    },
    {
     "name": "stderr",
     "output_type": "stream",
     "text": [
      "Scraping user comments:   0%|          | 102/29911 [21:57<101:42:11, 12.28s/it]"
     ]
    },
    {
     "name": "stdout",
     "output_type": "stream",
     "text": [
      "Comments saved to /Users/smutnuri/Documents/UVA/_Projects/Fall24/CBM/CBMRepo/Data/usercomments/101037633_usercomments.json\n",
      "{'saltwaterfishing', 'books', 'floridafishing', 'flyfishing', 'sports', 'OaklandAthletics', 'blues', 'Saints', 'Fishing_Gear', 'OldSchoolCool', 'travel', 'aww', 'nostalgia', 'sailing', 'suggestmeabook', 'PeriodDramas', 'SurfFishing', 'Pizza', 'ukulele', 'cats', 'SaltwaterFlyfishing', 'food', 'beebutts', 'salads', 'birding', 'liveaboard', 'foodhacks', 'appraisal', 'Pensacola', 'SailboatCruising', 'mildlyinfuriating'}\n"
     ]
    },
    {
     "name": "stderr",
     "output_type": "stream",
     "text": [
      "Scraping user comments:   0%|          | 103/29911 [22:14<112:39:28, 13.61s/it]"
     ]
    },
    {
     "name": "stdout",
     "output_type": "stream",
     "text": [
      "Comments saved to /Users/smutnuri/Documents/UVA/_Projects/Fall24/CBM/CBMRepo/Data/usercomments/102aksea102_usercomments.json\n",
      "{'grammar', 'books'}\n"
     ]
    },
    {
     "name": "stderr",
     "output_type": "stream",
     "text": [
      "Scraping user comments:   0%|          | 104/29911 [22:14<79:37:49,  9.62s/it] "
     ]
    },
    {
     "name": "stdout",
     "output_type": "stream",
     "text": [
      "Comments saved to /Users/smutnuri/Documents/UVA/_Projects/Fall24/CBM/CBMRepo/Data/usercomments/10EE22_usercomments.json\n",
      "{'television', 'TwoHotTakes', 'mildlyinteresting', 'questions', 'books', 'sitcoms', 'AMA', 'AmIOverreacting', 'Watches', 'ScienceFictionBooks', 'ChatGPTJailbreak', 'BestofRedditorUpdates', 'Frostpunk', 'beatles', 'AskMenAdvice', 'AskReddit', 'FromTVShow', 'OldSchoolCool', 'rva', 'BaldursGate3', 'AskMenOver30', 'popculturechat', 'suggestmeabook', 'MarkMyWords', 'SiloTVSeries', 'FromSeries', 'FromTVEpix', 'buffy', 'ExtremeHorrorLit', 'RVADandD', 'OpenAI', 'shittytattoos'}\n"
     ]
    },
    {
     "name": "stderr",
     "output_type": "stream",
     "text": [
      "Scraping user comments:   0%|          | 105/29911 [22:15<58:48:10,  7.10s/it]"
     ]
    },
    {
     "name": "stdout",
     "output_type": "stream",
     "text": [
      "Comments saved to /Users/smutnuri/Documents/UVA/_Projects/Fall24/CBM/CBMRepo/Data/usercomments/10Hoursofsleepforme_usercomments.json\n",
      "{'femalehairadvice', 'makemychoice', 'gaming', 'NoStupidQuestions', 'raisedbynarcissists', 'SubSanctuary', 'books', 'AskMen', 'EldenRingLoreTalk', 'tifu', 'Warhammer40k', 'imaginarymaps', 'Embroidery', 'darksouls', 'RandomThoughts', 'swedishproblems', 'BestofRedditorUpdates', 'wholesomememes', 'AskWomen', 'AskReddit', 'MadeMeSmile', 'cremposting', 'aww', 'GetMotivated', 'offmychest', 'findareddit', 'SkincareAddiction', 'fictionalpsychology', 'pureasoiaf', 'EldenBling', 'AskWomenNoCensor', 'DesignMyRoom', 'PixelArt', 'AccidentalRenaissance', 'CrossStitch', 'AskWomenOver30', 'Hair', 'Cosmere', 'SoulsSliders', 'darksouls3', 'harrypotter', 'ADHD', 'adhdwomen', 'ManHands', 'Stormlight_Archive', 'AskDocs', 'Catio', 'CasualConversation', 'Eldenring', 'AmItheAsshole', 'GenZ', 'lotr', 'Svenska', 'voyager', 'sweden', 'sex'}\n"
     ]
    },
    {
     "name": "stderr",
     "output_type": "stream",
     "text": [
      "Scraping user comments:   0%|          | 106/29911 [22:30<79:02:46,  9.55s/it]"
     ]
    },
    {
     "name": "stdout",
     "output_type": "stream",
     "text": [
      "Comments saved to /Users/smutnuri/Documents/UVA/_Projects/Fall24/CBM/CBMRepo/Data/usercomments/10Kmana_usercomments.json\n",
      "{'television', 'sapphicbooks', 'writing', 'mildlyinteresting', 'worldjerking', 'Showerthoughts', 'SUBREDDITNAME', 'meme', 'AskReddit', 'badroommates', 'LesbianActually', 'Permaculture', 'comics', 'AndroidQuestions', 'MovieTheaterEmployees', 'UpliftingNews', 'Fantasy', 'AmItheAsshole', 'PeterExplainsTheJoke', 'latebloomerlesbians', 'Futurology', 'me_irlgbt', 'hingeapp', 'UWMilwaukee', 'butchlesbians', 'tvtropes', 'Jokes', 'fantasywriters', 'suggestmeabook', 'atheistmemes', 'AskAcademia', 'news', 'adhd_college', 'leftpodcasts', 'TwoXChromosomes', 'comingout', 'lgbt', 'janeausten', 'writingadvice', 'help', 'Marvel', 'Writeresearch', 'povertyfinance', 'pics', 'DemocraticSocialism', 'SpeedOfLobsters', 'EatCheapAndHealthy', 'photoshopbattles', 'LeopardsAteMyFace', 'ActualLesbiansOver25', 'GradSchool', 'lesbianmemes', 'Anarchism', 'Tinder', 'Pixel6', 'COMPLETEANARCHY', 'writers', 'WitchesVsPatriarchy', 'Libraries', 'explainlikeimfive', 'simpleliving', 'homestuck', 'olderlesbians', 'QueerSFF', 'books', 'AmIOverreacting', 'actuallesbians', 'milwaukee', 'Renters', 'ADHDthriving', 'xena', 'bridezillas', 'GilmoreGirls', 'nottheonion', 'todayilearned', 'TheNinthHouse', 'Art', 'insanepeoplefacebook', 'Hair', 'adhdmeme', 'ADHDers', 'roommateproblems', 'LibbyApp', 'adhdwomen', 'crafts', 'shield', 'bonehurtingjuice', 'movies', 'librarians'}\n"
     ]
    },
    {
     "name": "stderr",
     "output_type": "stream",
     "text": [
      "Scraping user comments:   0%|          | 107/29911 [22:53<111:44:12, 13.50s/it]"
     ]
    },
    {
     "name": "stdout",
     "output_type": "stream",
     "text": [
      "Comments saved to /Users/smutnuri/Documents/UVA/_Projects/Fall24/CBM/CBMRepo/Data/usercomments/10Panoptica_usercomments.json\n",
      "{'EatCheapAndHealthy', 'CreepyBonfire', 'NameMyCat', 'BooksThatFeelLikeThis', 'knittinghelp', 'CrossStitch', 'books', 'YarnAddicts', 'cats', 'femalefashionadvice'}\n"
     ]
    },
    {
     "name": "stderr",
     "output_type": "stream",
     "text": [
      "Scraping user comments:   0%|          | 108/29911 [22:54<79:55:38,  9.65s/it] "
     ]
    },
    {
     "name": "stdout",
     "output_type": "stream",
     "text": [
      "Comments saved to /Users/smutnuri/Documents/UVA/_Projects/Fall24/CBM/CBMRepo/Data/usercomments/10SimSim01_usercomments.json\n",
      "{'television', 'worldjerking', 'mendrawingwomen', 'technology', 'scifi', 'TheExpanse', 'TheLastAirbender', 'FluentInFinance', 'meme', 'AskReddit', 'Games', 'Grimdank', 'AreTheStraightsOK', 'Political_Revolution', 'olympics', 'MurderedByWords', 'CatastrophicFailure', 'comics', 'aviation', 'science', 'ExplainTheJoke', 'PeterExplainsTheJoke', 'memes', 'AvatarMemes', 'Damnthatsinteresting', 'The10thDentist', 'me_irlgbt', 'ThatsInsane', 'europe', 'rareinsults', 'lotrmemes', 'technicallythetruth', 'homeworld', 'Unexpected', 'news', 'TwoXChromosomes', 'MovieLeaksAndRumors', 'Helldivers', 'mildlyinfuriating', 'facepalm', 'pcgaming', 'TheRightCantMeme', 'StarWars', 'gaming', 'factorio', 'worldnews', 'MawInstallation', 'awfuleverything', 'space', 'Wellthatsucks', 'politics', 'BeAmazed', 'spacex', 'Gamingcirclejerk', 'interestingasfuck', 'belgium', 'NonPoliticalTwitter', 'SweatyPalms', 'trashy', 'CuratedTumblr', 'books', 'GetNoted', 'OutOfTheLoop', 'clevercomebacks', 'Frostpunk', 'Stellaris', 'dankmemes', 'changemyview', 'nottheonion', 'todayilearned', 'HolUp', 'insanepeoplefacebook', 'therewasanattempt', 'fuckcars', 'worldbuilding', 'meirl', 'bonehurtingjuice', 'movies'}\n"
     ]
    },
    {
     "name": "stderr",
     "output_type": "stream",
     "text": [
      "Scraping user comments:   0%|          | 109/29911 [23:10<96:15:38, 11.63s/it]"
     ]
    },
    {
     "name": "stdout",
     "output_type": "stream",
     "text": [
      "Comments saved to /Users/smutnuri/Documents/UVA/_Projects/Fall24/CBM/CBMRepo/Data/usercomments/10ebbor10_usercomments.json\n",
      "{'SipsTea', 'Legoleak', 'americandad', 'mildlyinteresting', 'soccer', 'Denver', 'LEGOtrains', 'Dodgers', 'korea', 'Ferrari', 'rolex', 'britishshorthair', 'zillowgonewild', 'geography', 'travel', 'overlanding', 'Catswithjobs', 'Tattoocoverups', 'restaurateur', 'artcollecting', 'comics', 'antiwork', 'regularcarreviews', 'aviation', 'nflcirclejerk', 'KitchenConfidential', 'DIY', 'Homebuilding', 'Chadtopia', 'Damnthatsinteresting', 'RealEstate', 'LegoMarvel', 'bookporn', 'ThatsInsane', 'sushi', 'Watches', 'Touge', 'TakashiMurakami', 'IllegallySmolCats', 'Padres', 'VanLife', 'MapPorn', 'sailing', 'cars', 'legocirclejerk', 'ineosgrenadier', 'baseball', 'sportscards', 'patekphilippe', 'CatsAreMuslim', 'Chonkers', 'Catswhoyell', 'AlfaRomeo', 'Maps', 'boltedontits', 'malelivingspace', 'Autos', 'spotted', 'nfl', 'pics', 'worldnews', 'IAmTheMainCharacter', 'CatDistributionSystem', 'carporn', 'Torontobluejays', 'AMA', 'awwwtf', 'baseballcards_vintage', 'WinStupidPrizes', 'MyLifewithWalterBoys', 'wallstreetbets', 'Crocodiles', 'DidntKnowIWantedThat', 'Streetracing', 'ricohGR', 'nbacirclejerk', 'LEGOMarvelLeaks', 'politics', 'roadtrip', 'Tokyo', 'BeAmazed', 'NLBest', 'cats', 'Eyebleach', 'WorkReform', 'interestingasfuck', 'ramen', 'Catculations', 'UrbanHell', 'fantasyfootball', 'LegoStorage', 'smallbusiness', 'jobsearchhacks', 'paris', 'legotrade', 'baseballcards', 'NatureIsFuckingCute', 'DenverCirclejerk', 'LegoBatman', 'Porsche', 'CatsAreAssholes', 'vexillology', 'books', 'lamborghini', 'worldcup', 'TheHermesGame', 'LinkedInLunatics', 'WatchesCirclejerk', 'tampabayrays', 'Fauxmoi', 'jobs', 'denverfood', 'collegebaseball', 'ussoccer', 'Bricklink', 'RX7', 'ArchitecturePorn', 'ColoradoRockies', 'LegoCreations', 'LosAngeles', 'mlb', 'nextfuckinglevel', 'Bondedpairs', 'familyguy', 'granturismo', 'garageporn', 'mancave', 'whatcarshouldIbuy', 'porsche911', 'legomodular', 'castiron', 'shittytattoos', 'ActualPublicFreakouts'}\n"
     ]
    },
    {
     "name": "stderr",
     "output_type": "stream",
     "text": [
      "Scraping user comments:   0%|          | 110/29911 [23:39<139:56:37, 16.91s/it]"
     ]
    },
    {
     "name": "stdout",
     "output_type": "stream",
     "text": [
      "Comments saved to /Users/smutnuri/Documents/UVA/_Projects/Fall24/CBM/CBMRepo/Data/usercomments/10sekki_usercomments.json\n",
      "{'askcarguys', 'HairDye', 'Makeup101', 'rant', 'saltwaterfishing', 'self', 'cute_face', 'musicsuggestions', 'gameofthrones', 'uglyduckling', 'AskReddit', 'AITA_WIBTA_PUBLIC', 'trueratediscussions', 'UkraineConflict', 'IDmydog', 'Karting', 'boats', 'RoastMe', 'relationship_advice', 'HouseOfTheDragon', 'Pennsylvania', 'AmItheAsshole', 'Manipulation', 'dating_advice', 'millenials', 'cowboyboots', 'u_Lanky-Condition-5616', 'no', 'Boxing', 'stories', 'Faces', 'AITAH', 'HairStyleAdvice', 'rate', 'FutureWhatIf', 'reloading', 'askcarsales', 'facepalm', 'actualgyaru', 'NoStupidQuestions', 'gokart', 'lashextensions', 'AMA', 'CelebrityLookalikes', 'politics', 'Fishing', 'moraldilemmas', 'CyberStuck', 'Dallas_Cowboys', '40something', 'country', 'Scams', 'deadwood', 'india', 'questions', 'books', 'mtfashion', 'minibikes', 'shorthairedhotties', 'SelfPiercing', 'AmITheAngel', 'haircoloring', 'clevercomebacks', 'MMA_Academy', 'skeptic', 'gokarts', 'nottheonion', 'Nevada', 'Vent', 'ufc', 'MMA', 'EntitledPeople', 'AskMeAnythingIAnswer', 'ATV', 'Prison', 'whatcarshouldIbuy', 'shittytattoos'}\n"
     ]
    },
    {
     "name": "stderr",
     "output_type": "stream",
     "text": [
      "Scraping user comments:   0%|          | 111/29911 [24:01<151:38:48, 18.32s/it]"
     ]
    },
    {
     "name": "stdout",
     "output_type": "stream",
     "text": [
      "Comments saved to /Users/smutnuri/Documents/UVA/_Projects/Fall24/CBM/CBMRepo/Data/usercomments/111tejas_usercomments.json\n",
      "{'Chucky', 'Turntablists', 'gaming', 'AskOldPeople', 'flicks', 'HorrorMovies', 'books', 'breakingbad', 'LofiHipHop', 'Millennials', 'hiphopheads', 'tattoo', 'horror', 'electronicmusic', 'LV426', 'pokemon', 'numetal', 'XFiles', 'edmproduction', 'tattoos', 'DnB', 'punk', 'TheSimpsons', 'HollowKnight', 'NintendoSwitch', 'underratedmovies', 'Soda', 'residentevil', '90sHipHop', 'rickandmorty', 'rapbattles', 'matrix', 'rap', 'hiphop101', 'Glitchhop', 'hotdogs', 'Portal', 'nerdtattoos', 'FinalFantasyVII', 'southpark', 'Scream', 'SonicTheHedgehog', 'retrogaming', 'predator', 'curb', 'movies', 'traditionaltattoos', 'betterCallSaul'}\n"
     ]
    },
    {
     "name": "stderr",
     "output_type": "stream",
     "text": [
      "Scraping user comments:   0%|          | 112/29911 [24:18<147:53:10, 17.87s/it]"
     ]
    },
    {
     "name": "stdout",
     "output_type": "stream",
     "text": [
      "Comments saved to /Users/smutnuri/Documents/UVA/_Projects/Fall24/CBM/CBMRepo/Data/usercomments/112oceanave_usercomments.json\n",
      "{'cigars', 'pics', 'canes', 'StarWars', 'NorthCarolina', 'scuba', 'Thor', 'Miami', 'HomeImprovement', 'RealEstate', 'books', 'Braves', 'Showerthoughts', 'soapmaking', 'CollegeBasketball', 'tea', 'TheWayWeWere', 'airplanes', 'theydidthemath', 'beer', 'Homeschooling', 'Survival', 'investing', 'freefolk', 'disney', 'gameofthrones', 'ProgSecularHomeschool', 'Coffee', 'snowshoeing', 'skyrim', 'AskReddit', 'space', 'USHistory', 'MapPorn', 'Beekeeping', 'politics', 'todayilearned', 'news', 'CFB', 'gifs', 'DCcomics', 'askscience', 'gardening', 'baseball', 'CampingandHiking', 'DunderMifflin', 'education', 'USCivilWar', 'miamidolphins', 'bestof', 'Homebrewing', 'WrexhamAFC', 'interestingasfuck', 'lastweektonight', 'castles', 'batman', 'Ohio', 'shittyreactiongifs', 'explainlikeimfive', 'Spiderman', 'personalfinance', 'aviation', 'dataisbeautiful', 'homeschool', 'USHistoryBookClub', 'Munchkin', 'DIY', 'daddit', 'nfl', 'Parenting', 'Marvel', 'marvelstudios', 'Spokane'}\n"
     ]
    },
    {
     "name": "stderr",
     "output_type": "stream",
     "text": [
      "Scraping user comments:   0%|          | 113/29911 [24:37<150:58:51, 18.24s/it]"
     ]
    },
    {
     "name": "stdout",
     "output_type": "stream",
     "text": [
      "Comments saved to /Users/smutnuri/Documents/UVA/_Projects/Fall24/CBM/CBMRepo/Data/usercomments/11PoseidonsKiss20_usercomments.json\n",
      "{'povertyfinance', 'pics', 'TwoHotTakes', 'NoStupidQuestions', 'writing', 'Damnthatsinteresting', 'books', 'amazonprime', 'technology', 'tvPlus', 'TaylorSwiftMerch', 'SugarAppleTV', 'self', 'Sacramento', 'GMMTV', 'whatsthatbook', 'ThaiBL', 'AdviceAnimals', 'europe', 'AskReddit', 'GilmoreGirls', 'MadeMeSmile', 'zelda', 'lotrmemes', 'MasterReturns', 'rupaulsdragrace', 'TrueUnpopularOpinion', 'politics', 'suggestmeabook', 'boyslove', 'TwoXChromosomes', 'Pinterest', 'redditmobile', 'milliondollarlisting', 'printSF', 'SwiftieMerch', 'ADHD', 'Boxer', 'mac', 'meirl', 'ChatGPT', 'WhitePeopleTwitter', 'SnapshotHistory', 'AppleWatch', 'AllThatIsInteresting', 'TaylorSwift', 'youtube', 'ios', 'Fantasy'}\n"
     ]
    },
    {
     "name": "stderr",
     "output_type": "stream",
     "text": [
      "Scraping user comments:   0%|          | 114/29911 [24:54<147:38:54, 17.84s/it]"
     ]
    },
    {
     "name": "stdout",
     "output_type": "stream",
     "text": [
      "Comments saved to /Users/smutnuri/Documents/UVA/_Projects/Fall24/CBM/CBMRepo/Data/usercomments/121scoville_usercomments.json\n",
      "{'pregnant', 'stephenking', 'McMansionHell', 'TheCircleTV', 'memes', 'books', 'namenerds', 'AskReddit', 'floorplan', 'DessertPorn', 'catpics', 'horrorlit', 'GestationalDiabetes', 'anime', 'cats', 'FoodPorn', 'ITCareerQuestions', 'food', 'filipinofood'}\n"
     ]
    },
    {
     "name": "stderr",
     "output_type": "stream",
     "text": [
      "Scraping user comments:   0%|          | 115/29911 [25:10<142:46:23, 17.25s/it]"
     ]
    },
    {
     "name": "stdout",
     "output_type": "stream",
     "text": [
      "Comments saved to /Users/smutnuri/Documents/UVA/_Projects/Fall24/CBM/CBMRepo/Data/usercomments/123phantomhive_usercomments.json\n",
      "{'eu', 'books', 'Lund'}\n"
     ]
    },
    {
     "name": "stderr",
     "output_type": "stream",
     "text": [
      "Scraping user comments:   0%|          | 116/29911 [25:10<100:37:25, 12.16s/it]"
     ]
    },
    {
     "name": "stdout",
     "output_type": "stream",
     "text": [
      "Comments saved to /Users/smutnuri/Documents/UVA/_Projects/Fall24/CBM/CBMRepo/Data/usercomments/123s123t123_usercomments.json\n",
      "{'Andalucia', 'Spanish', 'pregnant', 'French', 'ThriftStoreHauls', 'relationships', 'Granada', 'Frugal', 'houseplants', 'SAHP', 'NameNerdCirclejerk', 'VegRecipes', 'AskWomen', 'AskReddit', 'Cooking', 'WTF', 'spain', 'JustUnsubbed', 'reggae', 'drawing', 'crochet', 'PlantBasedDiet', 'printmaking', 'AskUK', 'AskParents', 'KidsAreFuckingStupid', 'BabyLedWeaning', 'yoga', 'offbeat', 'AmItheAsshole', 'AttachmentParenting', 'CleaningTips', 'multilingualparenting', 'dating_advice', 'ScottishPeopleTwitter', 'SupermodelCats', 'grammar', 'namenerds', 'ted', 'news', 'suggestmeabook', 'IWantOut', 'Mommit', 'vegan', 'london', 'Scotland', 'AsianBeauty', 'AskFeminists', 'Maps', 'askspain', 'foodhacks', 'hygiene', 'Drunkknitting', 'backpacking', 'streetart', 'sewing', 'asklatinamerica', 'DeepIntoYouTube', 'EatCheapAndHealthy', 'glitch_art', 'expats', 'breakingmom', 'GeekyCrochet', 'Etsy', 'NewParents', 'drivinganxiety', 'Dermatology', 'breastfeeding', 'Antiques', 'veganmealprep', 'DnB', 'EnglishLearning', 'driving', 'beyondthebump', 'learnspanish', 'cats', 'interestingasfuck', 'ArtCrit', 'ArtistLounge', 'mildlyvagina', 'small_business_ideas', 'simpleliving', 'TEFL', 'Skincare_Addiction', 'CasualConversation', 'unitedkingdom', '30PlusSkinCare', 'books', 'ContemporaryArt', 'languagelearning', 'toddlers', 'FoundPaper', 'teflteachers', 'SkincareAddiction', 'SkincareAddicts', 'homestead', 'Art', 'gardening', 'insanepeoplefacebook', 'Hair', 'booksuggestions', 'babywearing', 'Pottery', 'ScienceBasedParenting', 'BabyBumps', 'crafts', 'pottytraining', 'Parenting'}\n"
     ]
    },
    {
     "name": "stderr",
     "output_type": "stream",
     "text": [
      "Scraping user comments:   0%|          | 117/29911 [25:19<93:48:43, 11.34s/it] "
     ]
    },
    {
     "name": "stdout",
     "output_type": "stream",
     "text": [
      "Comments saved to /Users/smutnuri/Documents/UVA/_Projects/Fall24/CBM/CBMRepo/Data/usercomments/123smew_usercomments.json\n",
      "{'television', 'lostmedia', 'VintageFashion', 'writing', 'ThriftStoreHauls', 'neurodiversity', 'sports', 'relationships', '30ROCK', 'oddlyterrifying', 'DogAdvice', 'kindle', 'spotify', 'dogs', 'flexibility', 'AskReddit', 'travel', 'Bedding', 'NoLawns', 'GreatBritishBakeOff', 'SwiftlyNeutral', 'WritingWithAI', 'adultery', 'CPTSD', 'AskWomenOver30', 'LCDSoundsystem', 'moviecritic', 'PubTips', 'office', 'femaletravels', 'relationship_advice', 'indieheads', 'florence', 'HomeDecorating', 'jewelry', 'DIY', 'somethingimade', 'indianapolis', 'traditionaltattoos', 'offbeat', 'pacers', 'lesbianfashionadvice', 'ShitAmericansSay', 'rome', 'BehindTheClosetDoor', 'capsulewardrobe', 'oldhagfashion', 'namenerds', 'travisandtaylor', 'flightradar24', 'podcasts', 'Poetry', 'Italian', 'netflix', 'popculturechat', 'kardashians', 'AITAH', 'news', 'suggestmeabook', 'nba', 'Home', 'AmazonPrimeVideo', 'hdtgm', 'Haircare', 'containergardening', 'EuroSkincare', 'bestoflegaladvice', 'writingadvice', 'mildlyinfuriating', 'writingcirclejerk', 'Jeopardy', 'StarWars', 'NoStupidQuestions', 'Waiting_To_Wed', 'fashion', 'literature', 'DogTrainingTips', 'StupidFood', 'cottagecore', 'BestofRedditorUpdates', 'PetiteFashionAdvice', 'tattoos', 'LPOTL', 'fashionwomens35', 'poodles', 'HerOneBag', 'popculture', 'AmericansinItaly', 'writers', 'Pedro_Pascal', 'dogpictures', 'findfashion', 'ADHD', 'dustythunder', 'GoodwillBins', 'DOG', 'Skincare_Addiction', 'tipofmytongue', '30PlusSkinCare', 'femalelivingspace', 'femalefashionadvice', 'Yorkies', 'Weddingattireapproval', 'Marriage', 'DisneyPlus', 'books', 'Fauxmoi', 'beauty', 'NativePlantGardening', 'ItalyTravel', 'Bumble', 'Modelling', 'interiordecorating', 'SkincareAddiction', 'amiwrong', 'ImpracticalJokers', 'DesignMyRoom', 'gardening', 'entertainment', 'datingoverthirty', 'seinfeld', 'adhdwomen', 'lastpodcastontheleft', 'BAGGU', 'StarWarsCantina', 'SubredditDrama', 'Baking', 'Wattpad', 'movies', 'sex'}\n"
     ]
    },
    {
     "name": "stderr",
     "output_type": "stream",
     "text": [
      "Scraping user comments:   0%|          | 118/29911 [25:39<114:33:58, 13.84s/it]"
     ]
    },
    {
     "name": "stdout",
     "output_type": "stream",
     "text": [
      "Comments saved to /Users/smutnuri/Documents/UVA/_Projects/Fall24/CBM/CBMRepo/Data/usercomments/1268348_usercomments.json\n",
      "{'linguisticshumor', 'Letterboxd', 'NonCredibleDefense', 'BobDylanCircleJerk', 'LiveFromNewYork', 'virginvschad', 'UrinatingTree', 'camphalfblood', 'marvelcirclejerk', 'dccomicscirclejerk', 'civ', 'AskReddit', 'DankPrecolumbianMemes', 'CFB', 'JennyNicholson', 'MurderedByWords', 'blankies', 'nova', 'NFCEastMemeWar', 'regularcarreviews', 'nflcirclejerk', 'unpopularopinion', 'ExplainTheJoke', 'comicbooks', 'Fantasy', 'INDYCAR', 'sitcoms', 'okbuddycinephile', 'baseballcirclejerk', 'nothingeverhappens', 'formuladank', '2american4you', 'maryland', 'modeltrains', 'legocirclejerk', 'suggestmeabook', 'iamveryculinary', 'weirdspotifyplaylists', 'baseball', 'Music', 'harrypotter', 'Presidents', 'StarWarsEU', 'Jon_Bois', 'fantanoforever', 'Jreg', 'darkwingsdankmemes', 'FuckCarscirclejerk', 'StarWarsCirclejerk', 'urbandesign', 'popheadscirclejerk', 'mildlyinfuriating', 'nfl', 'trolleyproblem', 'WMATA', 'LoveForLandchads', 'washingtondc', 'FanFiction', 'StarWars', 'NoStupidQuestions', 'cartoons', 'IHateSportsball', 'thewestwing', 'DJ_Peach_Cobbler', 'xmen', 'HarryandGinny', 'nbacirclejerk', 'phineasandferb', 'motorsports', 'vinyljerk', 'ToddintheShadow', 'NASCAR', 'AlignmentCharts', 'trainmemes', 'carscirclejerk', 'andor', 'AzureLane', 'beatlescirclejerk', 'NonPoliticalTwitter', 'ShadWatch', 'AFCEastMemeWar', 'absolutelynotme_irl', 'hbomberguy', 'NFLNoobs', 'gmu', 'LetsTalkMusic', 'CuratedTumblr', 'bookshelf', 'books', 'CollegeBasketball', 'decadeology', 'Amtrak', 'clevercomebacks', 'stupidquestions', 'HPfanfiction', 'musicals', 'USHistory', 'vexillologycirclejerk', 'youtubedrama', 'todayilearned', 'transit', 'CharacterRant', 'NASCARMemes', 'Commanders', 'tragedeigh', 'entertainment', 'BlackPeopleTwitter', 'AO3', 'TopCharacterTropes', 'Teachers', 'lazerpig', 'StarWarsCantina', 'SubredditDrama', 'Schaffrillas', 'movies', 'starterpacks', 'madlads'}\n"
     ]
    },
    {
     "name": "stderr",
     "output_type": "stream",
     "text": [
      "Scraping user comments:   0%|          | 119/29911 [25:57<124:34:55, 15.05s/it]"
     ]
    },
    {
     "name": "stdout",
     "output_type": "stream",
     "text": [
      "Comments saved to /Users/smutnuri/Documents/UVA/_Projects/Fall24/CBM/CBMRepo/Data/usercomments/12BumblingSnowmen_usercomments.json\n",
      "{'stephenking', 'TwoHotTakes', 'AskOldPeople', 'MusicRecommendations', 'Letterboxd', 'littlehouseonprairie', 'economicCollapse', 'Xennials', 'self', 'musicsuggestions', 'LiveFromNewYork', 'ShermanPosting', 'dogs', 'Aquariums', 'FluentInFinance', 'zillowgonewild', 'AskReddit', 'geography', 'oldcrowmedicineshow', 'Dallas', 'Names', 'survivorcirclejerk', 'olympics', 'MurderedByWords', 'moviecritic', 'AskTeachers', 'Bumperstickers', 'AntiJokes', 'CreepyBonfire', 'PlanetZoo', 'Appalachia', 'DiWHY', 'science', 'neilyoung', 'arlington', 'DIY', 'Pennsylvania', 'survivor', 'Nicegirls', 'ExplainTheJoke', 'NPR', 'AmItheAsshole', 'PeterExplainsTheJoke', 'Concerts', 'Manipulation', 'FuckGregAbbott', 'economy', 'ClassicRock', 'GenX', 'Damnthatsinteresting', 'sitcoms', 'johnoliver', 'ShitAmericansSay', 'TexasPolitics', 'austincirclejerk', 'TrueCrimeDiscussion', 'FacebookScience', 'rem', 'NewGirl', 'popculturechat', 'TrueUnpopularOpinion', 'texas', 'AITAH', 'news', 'whatisit', '80s', 'HairRaising', 'Presidents', 'education', 'VintageTV', 'AskFeminists', 'coolguides', 'AllThatIsInteresting', 'LawAndOrder', 'mildlyinfuriating', 'Tudorhistory', 'facepalm', 'pics', 'AskOldPeopleAdvice', 'NoStupidQuestions', 'Erie', 'BoomersBeingFools', 'AMA', 'fashion', 'DogTrainingTips', 'oddlyspecific', 'FuckImOld', 'BooksThatFeelLikeThis', 'OptimistsUnite', 'minnesota', '80smusic', 'atheism', 'AnythingGoesNews', 'politics', 'Wellthatsucks', 'washdc', 'GenXWomen', 'Foodforthought', 'ToddintheShadow', 'aquarium', 'AskRedditFood', 'AlignmentCharts', 'howyoudoin', 'cats', 'WitchesVsPatriarchy', 'NewsOfTheStupid', 'interestingasfuck', 'words', 'Defeat_Project_2025', 'Goldendoodles', 'NonPoliticalTwitter', 'amarillo', 'boomershumor', 'Homicide_LOTS', 'SchittsCreek', 'HEB', 'CatsAreAssholes', 'ABoringDystopia', 'books', '90s', 'AmIOverreacting', 'TikTokCringe', 'TravelMaps', 'CoupleMemes', 'whatstheword', 'OutOfTheLoop', 'Fauxmoi', 'jobs', 'NotHowGirlsWork', 'clevercomebacks', 'stupidquestions', 'FuckTedCruz', 'nottheonion', 'horrorlit', 'TuxedoCats', 'The1980s', 'tragedeigh', 'CountryMusicStuff', 'LifeProTips', 'entertainment', 'booksuggestions', 'teenagers', 'TexasTeachers', 'Comebacks', 'mash', 'TopCharacterTropes', 'Teachers', 'meirl', 'ChatGPT', 'funny', 'SubredditDrama', 'GenZ', 'classicfilms'}\n"
     ]
    },
    {
     "name": "stderr",
     "output_type": "stream",
     "text": [
      "Scraping user comments:   0%|          | 120/29911 [26:14<129:55:35, 15.70s/it]"
     ]
    },
    {
     "name": "stdout",
     "output_type": "stream",
     "text": [
      "Comments saved to /Users/smutnuri/Documents/UVA/_Projects/Fall24/CBM/CBMRepo/Data/usercomments/12sea_usercomments.json\n",
      "{'SipsTea', 'stephenking', 'u_slash_paf', 'mildlyinteresting', 'ShittyLifeProTips', 'soccer', 'scifi', 'technology', 'Xennials', 'recruitinghell', 'Millennials', 'PastAndPresentPics', 'metaldetecting', 'aliens', 'horror', 'Anthropology', 'FluentInFinance', 'meme', 'timetravel', 'euro2024', 'geography', 'AskReddit', 'Accounting', 'AITA_WIBTA_PUBLIC', 'Luthier', 'olympics', 'soccercirclejerk', 'MurderedByWords', 'notinteresting', 'badMovies', 'moviecritic', 'antiwork', '2meirl4meirl', 'HouseOfTheDragon', 'UkrainianConflict', 'unpopularopinion', 'AncientCivilizations', 'Suriname', 'Whatcouldgowrong', 'DIY', '2westerneurope4u', 'shittymoviedetails', 'PeterExplainsTheJoke', 'economy', 'memes', 'GenX', 'AskAnthropology', 'Damnthatsinteresting', 'Futurology', 'democrats', 'AjaxAmsterdam', 'ShitAmericansSay', 'DungeonsAndDragons', 'okbuddycinephile', 'lego', 'dutch', 'hypotheticalsituation', 'europe', 'NederlandseMemes', 'BBQ', 'golf', 'MapPorn', 'Netherlands', 'technicallythetruth', 'AITAH', 'FOXNEWS', 'Music', 'FIlm', 'DunderMifflin', 'ProgrammerHumor', 'WhitePeopleTwitter', 'AskEurope', 'malelivingspace', 'coolguides', 'mildlyinfuriating', 'HistoricalCapsule', 'australia', 'facepalm', 'pics', 'StarWars', 'NoStupidQuestions', 'thenetherlands', 'worldnews', 'GrahamHancock', 'learndutch', 'DnD', 'oddlyspecific', 'theydidthemath', 'ancienthistory', 'DragonOfIcespirePeak', 'agedlikemilk', 'OldSchoolCool', 'Archeology', 'interesting', 'AnythingGoesNews', 'Wellthatsucks', 'politics', 'LoveIsBlindOnNetflix', 'BrandNewSentence', 'BeAmazed', 'askmath', 'assholedesign', 'CopaAmerica', 'mapporncirclejerk', 'howyoudoin', 'confidentlyincorrect', 'WorkReform', 'NewsOfTheStupid', 'interestingasfuck', 'CyberStuck', 'explainlikeimfive', 'PremierLeague', 'tokkiefeesboek', 'realmadrid', 'ich_iel', 'AmylAndTheSniffers', 'DungeonsAndDaddies', 'Amsterdam', 'nederlands', 'PoliticalHumor', 'RealTesla', 'CuratedTumblr', 'books', 'TikTokCringe', 'worldcup', 'southpaws', 'CozyPlaces', 'UFOs', 'Guitar', 'clevercomebacks', 'bootroom', 'AdviceAnimals', 'MadeMeSmile', 'nottheonion', 'AskHistorians', 'woodworking', 'mildyinteresting', 'kpoppers', 'todayilearned', 'GeoPuzzle', 'inthenews', 'bald', 'tragedeigh', 'LifeProTips', 'BlackPeopleTwitter', 'Klussers', 'teenagers', 'nextfuckinglevel', 'Washington', 'football', 'meirl', 'ChatGPT', 'funny', 'nashville', 'Eredivisie', 'GenZ', 'madlads'}\n"
     ]
    },
    {
     "name": "stderr",
     "output_type": "stream",
     "text": [
      "Scraping user comments:   0%|          | 121/29911 [26:29<128:38:02, 15.54s/it]"
     ]
    },
    {
     "name": "stdout",
     "output_type": "stream",
     "text": [
      "Comments saved to /Users/smutnuri/Documents/UVA/_Projects/Fall24/CBM/CBMRepo/Data/usercomments/12thshadow_usercomments.json\n",
      "{'television', 'sadposting', 'worldjerking', 'Showerthoughts', 'PrequelMemes', 'StandUpComedy', 'Qult_Headquarters', 'economicCollapse', 'law', 'self', 'Millennials', 'gameofthrones', 'FluentInFinance', 'meme', 'iamatotalpieceofshit', 'AskReddit', 'DisneyMemes', 'ParentsAreFuckingDumb', 'MurderedByWords', 'conspiracy', 'WelcomeToGilead', 'moviecritic', 'comics', 'SelfAwarewolves', 'unpopularopinion', 'Nicegirls', 'ExplainTheJoke', 'UpliftingNews', 'MensLib', 'startrekmemes', 'memes', 'Damnthatsinteresting', 'antinatalism', 'ElderScrolls', 'Terraria', 'Fuckthealtright', 'rareinsults', 'MapPorn', 'popculturechat', 'BORUpdates', 'AITAH', 'Unexpected', 'news', 'TwoXChromosomes', 'Music', 'DunderMifflin', 'WhitePeopleTwitter', 'whatif', 'midjourney', 'AllThatIsInteresting', 'ToiletPaperUSA', 'lotr', 'HistoricalCapsule', 'facepalm', 'RealTwitterAccounts', 'StarWars', 'gaming', 'LeopardsAteMyFace', 'cartoons', 'oddlyspecific', 'fixedbytheduet', 'awfuleverything', 'painting', 'Palestine', 'BestofRedditorUpdates', 'Tinder', 'atheism', 'AnythingGoesNews', 'politics', 'BrandNewSentence', 'MarkMyWords', 'Dandadan', 'Gamingcirclejerk', 'WorkReform', 'pettyrevenge', 'Defeat_Project_2025', 'Bossfight', 'Marriage', 'ABoringDystopia', 'comedyheaven', 'CuratedTumblr', 'books', 'AmIOverreacting', 'actuallesbians', 'TikTokCringe', 'gravityfalls', 'ukraine', 'GetNoted', 'OutOfTheLoop', 'Fauxmoi', 'NotHowGirlsWork', 'clevercomebacks', 'JoeRogan', 'Jordan_Peterson_Memes', 'AdviceAnimals', 'arcane', 'marvelmemes', 'dankmemes', 'nottheonion', 'shitposting', 'dunememes', 'inthenews', 'insanepeoplefacebook', 'tragedeigh', 'BlackPeopleTwitter', 'therewasanattempt', 'Feminism', 'trees', 'TheBatmanFilm', 'sadcringe', 'FunnyandSad', 'PublicFreakout', 'bi_irl', 'YouShouldKnow', 'SubredditDrama', 'movies', 'UFOs'}\n"
     ]
    },
    {
     "name": "stderr",
     "output_type": "stream",
     "text": [
      "Scraping user comments:   0%|          | 122/29911 [26:34<102:28:06, 12.38s/it]"
     ]
    },
    {
     "name": "stdout",
     "output_type": "stream",
     "text": [
      "Comments saved to /Users/smutnuri/Documents/UVA/_Projects/Fall24/CBM/CBMRepo/Data/usercomments/132739_usercomments.json\n",
      "{'Dogfree', 'bugs', 'heat', 'IBEW', 'starwarsmemes', 'u_sloopybutt', 'CriticalDrinker', 'Joker_FolieaDeux', 'PrequelMemes', 'technology', 'StandUpComedy', 'economicCollapse', 'law', 'me_irl', 'csgo', 'DreamWorks', 'FluentInFinance', 'meme', 'Monsterverse', 'AskReddit', 'czechmemes', 'OnionLovers', 'Nails', 'NOLAPelicans', 'notinteresting', 'deeprockfashion', 'MauLer', 'moviecritic', 'RoastMe', 'whowouldwin', 'science', 'bigbangtheory', 'youtube', 'SpidermanPS4', 'battlestations', 'marvelstudios', 'TheAcolyte', 'shittymoviedetails', 'memes', 'Damnthatsinteresting', 'Futurology', 'VACsucks', 'Rings_Of_Power', 'bizarrelife', 'Sandwiches', 'FACEITcom', 'spiderman2', 'PS5', 'lotrmemes', 'DeepRockGalactic', 'abanpreach', 'popculturechat', 'nba', 'cs2', 'gamedev', 'harrypotter', 'Music', 'onionhate', 'StarWarsCirclejerk', 'TheLastOfUs2', 'starcitizen_fleets', 'gamingnews', 'lotr', 'pics', 'burgers', 'StarWars', 'saltierthancrait', 'gaming', 'denvernuggets', 'nbadiscussion', 'starcitizen_refunds', 'brooklynninenine', 'lakers', 'LeaksAndRumors', 'superheroes', 'counterstrike', 'StupidFood', 'PhotoshopRequest', 'comicbookmovies', 'starcraft', 'tolkienfans', 'ShouldIbuythisgame', 'Doom', 'joker', 'Wellthatsucks', 'RingsofPower', 'BorderCollie', 'shittyfoodporn', 'masseffect', 'cats', 'allthingszerg', 'ChatGPTCoding', 'hotdogs', 'LearnCSGO', 'interestingasfuck', 'HarryPotterBooks', '2visegrad4you', 'starcitizen', 'PandR', 'redalert2', 'okbuddybaldur', 'absolutelynotme_irl', 'DeeprockSludgeDump', 'comedyheaven', 'UnbelievableStuff', 'books', 'czech', 'LAClippers', 'Bratislava', 'grilledcheese', 'Doppleganger', 'AdviceAnimals', 'Stellaris', 'marvelmemes', 'MadeMeSmile', 'Slovakia', 'nottheonion', 'PizzaCrimes', 'tonightsdinner', 'todayilearned', 'inthenews', 'entertainment', 'LOTR_on_Prime', 'FoodPorn', 'GlobalOffensive', 'nextfuckinglevel', 'batman', 'pasta', 'ChatGPT', 'hot_dog', 'Eldenring', 'SubredditDrama', 'Schaffrillas', 'movies', 'starterpacks', 'HPfanfiction', 'videogames'}\n"
     ]
    },
    {
     "name": "stderr",
     "output_type": "stream",
     "text": [
      "Scraping user comments:   0%|          | 123/29911 [26:49<109:33:04, 13.24s/it]"
     ]
    },
    {
     "name": "stdout",
     "output_type": "stream",
     "text": [
      "Comments saved to /Users/smutnuri/Documents/UVA/_Projects/Fall24/CBM/CBMRepo/Data/usercomments/1337-Sylens_usercomments.json\n",
      "{'Highrepublic', 'VinylReleases', 'TwoHotTakes', 'writing', 'WaltDisneyWorld', 'GreatnessOfWrestling', 'HowIMetYourFather', 'PrequelMemes', 'gallifrey', 'Millennials', 'verizon', 'holdmybeaker', 'WWE', 'StarWarsLeaks', 'AskReddit', 'geography', 'throneofglassseries', 'XFiles', 'travel', 'AnimalCrossing', 'gifs', 'NintendoSwitch', 'TOTK', 'asktransgender', 'antiwork', 'BlueJackets', 'duolingo', 'tableau', 'cordcutters', 'LGOLED', 'Treknobabble', 'Reds', 'OnceUponATime', 'marvelstudios', 'ducktales', 'Concerts', 'Wrasslin', 'AEWOfficial', 'philosophy', 'beer', 'ddpyoga', 'GODZILLA', 'HighQualityGifs', 'fastfood', 'golf', 'OOTP', 'Emo', 'SquaredCircle', 'Unexpected', 'TheBlackList', 'thanosdidnothingwrong', 'genderfluid', 'DelawareOH', 'baseball', 'tearsofthekingdom', 'harrypotter', 'Disney_Infinity', 'Ohio', 'tacobell', 'mildlyinfuriating', 'florida', 'pics', 'StarWars', 'starwarsspeculation', 'wendys', 'imaginarymaps', 'nanowrimo', 'doctorwho', 'WahoosTipi', 'Planespotting', 'Buffalo', 'vinyl', 'zelda', 'GarminWatches', 'bluey', 'CrumblCookies', 'dcl', 'ronandfez', 'Columbus', 'starbucks', 'weather', 'transtimelines', 'MultipleSclerosis', 'analytics', 'Browns', 'HIMYM', 'books', 'Paramore', 'OutOfTheLoop', 'freefolk', 'marvelmemes', 'startrek', 'orlando', 'StrangerThings', 'running', 'Panera', 'ColoradoRockies', 'pokemongo', 'OhioMarijuana', 'ac_newhorizons', 'inthenews', 'gardening', 'matrix', 'TheMandalorianTV', 'rundisney', 'ColumbusBeer', 'mlb', 'fantasybaseball', 'Foofighters', 'ClevelandGuardians', 'StarWarsCantina', 'StarTrekDiscovery'}\n"
     ]
    },
    {
     "name": "stderr",
     "output_type": "stream",
     "text": [
      "Scraping user comments:   0%|          | 124/29911 [26:57<96:27:12, 11.66s/it] "
     ]
    },
    {
     "name": "stdout",
     "output_type": "stream",
     "text": [
      "Comments saved to /Users/smutnuri/Documents/UVA/_Projects/Fall24/CBM/CBMRepo/Data/usercomments/13puddles_usercomments.json\n",
      "{'television', 'ask', 'juliafoxreddit', 'traderjoes', 'KnowYourMeme', 'mildlyinteresting', 'biglittlelies', 'Letterboxd', 'Showerthoughts', 'thesims', 'Petioles', 'Chipotle', 'Funnymemes', 'Frugal', 'Survival', 'horror', 'DuggarsSnark', 'sexandthecity', 'AskReddit', 'threebodyproblem', 'TheGreatHulu', 'SuccessionTV', 'travel', 'Apartmentliving', 'KamalaHarris', 'WhiteLotusHBO', 'workingmoms', 'BobsBurgers', 'UnethicalLifeProTips', 'TrueFilm', 'MurdaughFamilyMurders', 'recap', 'ThePatient', 'HouseOfTheDragon', 'iphonehelp', 'Oscars', 'unpopularopinion', 'DIY', 'alaska', 'roomba', 'MareofEasttown', 'ThelastofusHBOseries', 'TVWriting', 'dancingwiththestars', 'dating_advice', 'PDiddyTrial', 'caloriecount', 'HeyArnold', 'IKEA', 'Fotv', 'findapath', 'namenerds', 'catfishing', 'TheGirlSurvivalGuide', 'bookclub', 'Swarm_onPrime', 'netflix', 'popculturechat', 'Yellowjackets', 'AITAH', 'televisionsuggestions', 'RadioRental', 'suggestmeabook', 'nba', 'Adulting', 'Stoicism', 'TrueDetective', 'BetterThingsTV', 'WendyWilliams', 'popheads', 'MissingPersons', 'RoverPetSitting', 'farming', 'blackmirror', 'FanTheories', 'AskLosAngeles', 'Coachella', 'KUWTKsnark', 'cycling', 'help', 'ThisAmericanLife', 'dating', 'oscarrace', 'nfl', 'BigBudgetBrides', 'eggfreezing', 'NoStupidQuestions', 'worldnews', 'oscarsdeathrace', 'AskNYC', 'BoomersBeingFools', 'TheBear', 'DeadRingersTVSeries', 'fashion', 'RepTime', 'FargoTV', 'investing', 'DListedCommunity', 'VindictaRateCelebs', 'NameMyCat', 'BooksThatFeelLikeThis', 'LessonsinChemistry', 'fut', 'AirPurifiers', 'nostalgia', 'CruelSummer', 'politics', 'TheBeatles', 'dividends', '8passengersnark', 'Fishing', 'Pokerface', 'MovieSuggestions', 'mybrilliantfriendhbo', 'ADHD', 'personalfinance', 'TheWhiteLotusHBO', 'tinxsnark', 'PCOS', 'vanderpumprules', 'TooAfraidToAsk', 'femalefashionadvice', 'DogRegret', 'Weddingattireapproval', 'FoodNYC', 'IVF', 'Genealogy', 'SwarmTV', 'SwagBucks', 'michellebellexosnark', 'books', 'thesopranos', 'AmIOverreacting', 'tvPlus', 'TikTokCringe', 'milwaukee', 'girls', 'bicycling', 'sharpobjects', 'stamps', 'Tiktokhelp', 'SeveranceAppleTVPlus', 'BoardwalkEmpire', 'LAinfluencersnark', 'serialpodcast', '1899', 'Roofing', 'theidol', 'FindHannahKobayashi', '90scartoons', 'chicago', 'boymeetsworld', 'Hungergames', 'TrueOffMyChest', 'DiscoveryID', 'AsianParentStories', 'Pets', 'BabyReindeerTVSeries', 'entertainment', 'booksuggestions', 'LosAngeles', 'FleishmanIsinTrouble', 'seinfeld', 'datingoverthirty', 'SweetpeaOnStarz', 'NYCinfluencersnark', 'Eldenring', 'Screenwriting', 'movies', 'undercoverunderage'}\n"
     ]
    },
    {
     "name": "stderr",
     "output_type": "stream",
     "text": [
      "Scraping user comments:   0%|          | 125/29911 [27:25<135:16:54, 16.35s/it]"
     ]
    },
    {
     "name": "stdout",
     "output_type": "stream",
     "text": [
      "Comments saved to /Users/smutnuri/Documents/UVA/_Projects/Fall24/CBM/CBMRepo/Data/usercomments/14-in-the-deluge08_usercomments.json\n",
      "{'television', 'ask', 'JonStewart', 'Weird', 'architecture', 'AskOldPeople', 'mildlyinteresting', 'babylonbee', 'dailywire', 'landscaping', 'Europetravel', 'Funnymemes', 'self', 'musicsuggestions', 'aliens', 'engrish', 'beatles', 'stupidfuckingliberals', 'geography', 'crappymusic', 'AskReddit', 'travel', 'vanhalen', 'trueratediscussions', 'ArtPorn', 'moviecritic', 'terriblefacebookmemes', 'climateskeptics', 'unpopularopinion', 'walkaway', 'neilyoung', 'rockmusic', 'Pennsylvania', 'NPR', 'Soundgarden', 'Aerosmith', 'offbeat', 'scambait', 'KISS', 'ClassicRock', 'GenX', 'Damnthatsinteresting', 'ArtHistory', 'ParisTravelGuide', 'millenials', 'democrats', 'stampcollecting', 'ThomasPynchon', 'beer', 'RandomThoughts', 'KamalaCringe', 'ledzeppelin', 'MapPorn', 'TrueUnpopularOpinion', 'Jokes', 'sales', 'classicliterature', 'InfiniteJest', 'blacksabbath', 'dadjokes', 'Music', 'SiberianCats', 'Presidents', 'JoeBidenIsADisaster', 'ProgrammerHumor', 'jackwhite', 'coolguides', 'Bandnames', 'retirement', 'facepalm', 'pics', 'Satisfyingasfuck', 'Republican', 'MetalForTheMasses', 'longisland', 'AMA', 'rollingstones', 'literature', 'FuckImOld', 'celebrities', 'shittyaskreddit', 'idiocracy', 'politics', 'davidfosterwallace', 'TheBeatles', 'MarkMyWords', 'pinkfloyd', 'mapporncirclejerk', 'MovieSuggestions', 'ragdolls', 'Conservative', 'interestingasfuck', 'LedZeppelinCirclejerk', 'cavaliers', 'queen', 'ScenesFromAHat', 'LetsTalkMusic', 'ConservativeMemes', 'NormMacdonald', 'nealstephenson', 'books', '90s', 'TvShows', 'Fauxmoi', 'RedHotChiliPeppers', 'ragdollcats', 'stupidquestions', 'AdviceAnimals', 'clutchband', 'jamesjoyce', 'ArchitecturePorn', 'nottheonion', 'running', 'philately', 'rush', 'underratedmovies', 'circlejerknyc', 'GenerationJones', 'progrockmusic', 'inthenews', 'entertainment', 'booksuggestions', 'therewasanattempt', 'indie_rock', 'grunge', 'meirl', 'funny', 'ContagiousLaughter', 'RedditForGrownups', 'SmashingPumpkins', 'GenZ', 'videogames'}\n"
     ]
    },
    {
     "name": "stderr",
     "output_type": "stream",
     "text": [
      "Scraping user comments:   0%|          | 126/29911 [27:57<175:53:43, 21.26s/it]"
     ]
    },
    {
     "name": "stdout",
     "output_type": "stream",
     "text": [
      "Comments saved to /Users/smutnuri/Documents/UVA/_Projects/Fall24/CBM/CBMRepo/Data/usercomments/142Ironmanagain_usercomments.json\n",
      "{'television', 'TwoSentenceSadness', 'ask', 'SipsTea', 'Michigan', 'Weird', 'watchpeoplesurvive', 'AskOldPeople', 'GlowUps', 'WaltDisneyWorld', 'mildlyinteresting', '1970s', 'houstonwade', 'TwoSentenceHorror', 'animalid', 'prediabetes', 'Truthoffmychest', 'self', 'Xennials', 'Millennials', 'PastAndPresentPics', 'musicsuggestions', 'NameNerdCirclejerk', 'FluentInFinance', 'meme', 'AskChicago', 'uglyduckling', 'AskWomen', 'AskReddit', 'Cooking', 'zillowgonewild', 'AITA_WIBTA_PUBLIC', 'AskMenOver30', 'trueratediscussions', 'Earlyintervention', 'Names', 'slp', 'MurderedByWords', 'popping', 'notinteresting', 'MakeupAddiction', 'specialed', 'Anticonsumption', 'WhatsWrongWithYourDog', 'AskWomenOver30', 'OneSecondBeforeDisast', 'moviecritic', 'Autism_Parenting', 'bangtan', 'AskTeachers', 'antiwork', 'femaletravels', 'disneyparks', 'Bumperstickers', 'SelfAwarewolves', 'OccupationalTherapy', 'CreepyBonfire', 'AskUK', 'AskWomenOver40', 'DisneyWorld', 'science', 'Whatcouldgowrong', 'KidsAreFuckingStupid', 'DanielTigerConspiracy', 'PetPeeves', 'answers', 'AmItheAsshole', 'tooktoomuch', 'Stepdadreflexes', 'shittymoviedetails', 'Manipulation', 'normalnudes', 'internetparents', 'GenX', 'Damnthatsinteresting', 'CleaningTips', 'AskWomenOver60', 'FTM_SELFIES', 'nothingeverhappens', 'WorcesterMA', 'JustGuysBeingDudes', 'dumplingmeme', 'DisneyPlanning', 'namenerds', 'CemeteryPorn', 'RareHistoricalPhotos', 'plucking', 'hypotheticalsituation', 'ECEProfessionals', 'TrueCrimeDiscussion', 'CringeTikToks', 'aww', 'MapPorn', 'popculturechat', 'kardashians', 'AITAH', 'BlackHair', 'news', 'Productivitycafe', 'TwoXChromosomes', 'Jigsawpuzzles', 'Adulting', '3Dprinting', 'lansing', 'antimeme', 'UCONN', 'AskFeminists', 'lastimages', 'kindergarten', 'WhitePeopleTwitter', 'SnapshotHistory', 'AnimalsBeingGeniuses', 'hygiene', 'malelivingspace', 'AllThatIsInteresting', 'spiders', 'mildlyinfuriating', 'HistoricalCapsule', 'Advice', 'EmergencyRoom', 'Menopause', 'povertyfinance', 'massachusetts', 'Satisfyingasfuck', 'AskOldPeopleAdvice', 'oddlysatisfying', 'justgalsbeingchicks', 'NoStupidQuestions', 'LeopardsAteMyFace', 'AskElectricians', 'BoomersBeingFools', 'ImTheMainCharacter', 'AMA', 'spreadytoes', 'justneckbeardthings', 'Positivity', 'intermittentfasting', 'oddlyspecific', 'fixedbytheduet', 'FuckImOld', 'theydidthemath', 'cute', 'DidntKnowIWantedThat', 'Gifts', 'VindictaRateCelebs', 'Tinder', 'Skinpicking', 'interesting', 'woahthatsinteresting', 'nostalgia', 'Wellthatsucks', 'politics', 'funnysigns', 'BeAmazed', 'MovieSuggestions', 'Eyebleach', 'abandoned', 'kpophelp', 'confidentlyincorrect', 'interestingasfuck', 'words', 'ADHD', 'wholesome', 'fuckHOA', 'NonPoliticalTwitter', 'Columbus', 'confession', 'Skincare_Addiction', 'CasualConversation', 'badfacebookmemes', 'niceguys', 'candy', 'toastme', 'ScenesFromAHat', 'NatureIsFuckingLit', 'newhaven', 'HermanCainAward', 'comedyheaven', 'PlusSize', 'Justfuckmyshitup', 'AbruptChaos', 'CuratedTumblr', 'questions', 'books', 'AmIOverreacting', 'kpopthoughts', 'LivingAlone', 'TikTokCringe', 'vintageads', 'tifu', 'DAE', 'LinkedInLunatics', 'CrochetHelp', 'Fauxmoi', 'clevercomebacks', 'beauty', 'stupidquestions', 'AskMenAdvice', 'Coloring', 'MadeMeSmile', 'changemyview', 'nottheonion', 'Panera', 'themayormccheese', 'Persecutionfetish', 'todayilearned', 'SeriousConversation', 'ChoosingBeggars', 'SkincareAddiction', 'AskAnAmerican', 'rarepuppers', 'SkincareAddicts', 'wordchewing', 'tragedeigh', 'whatisthisthing', 'Comebacks', 'maybemaybemaybe', 'nextfuckinglevel', 'funnyvideos', 'food', 'Naturalhair', 'IAmA', 'trees', 'batman', 'sadcringe', 'LadyBoners', 'meirl', 'RedditForGrownups', 'movies', 'GenZ', 'starterpacks', 'madlads'}\n"
     ]
    },
    {
     "name": "stderr",
     "output_type": "stream",
     "text": [
      "Scraping user comments:   0%|          | 127/29911 [28:18<172:52:44, 20.90s/it]"
     ]
    },
    {
     "name": "stdout",
     "output_type": "stream",
     "text": [
      "Comments saved to /Users/smutnuri/Documents/UVA/_Projects/Fall24/CBM/CBMRepo/Data/usercomments/143019_usercomments.json\n",
      "{'whereisthis', 'headphones', 'LiminalSpace', 'submechanophobia', 'mildlyinteresting', 'videos', 'AbruptChaos', 'TVTooHigh', 'ShittyLifeProTips', 'Futurology', 'books', 'Xennials', 'AskPhotography', 'megalophobia', 'clevercomebacks', 'DidntKnowIWantedThat', 'BestofRedditorUpdates', 'SWGalaxyOfHeroes', 'VanLife', 'rareinsults', 'OldSchoolCool', 'space', 'MadeMeSmile', 'nationalprkcirclejerk', 'WeirdWheels', 'WeirdWings', 'AskReddit', 'AmITheDevil', 'Unexpected', 'todayilearned', 'Cutedogsreddit', 'BeAmazed', 'BitchImATrain', 'Miata', 'Art', 'googlemapsshenanigans', 'Music', 'LosAngeles', 'InterestingToRead', 'freelanceWriters', 'therewasanattempt', 'nextfuckinglevel', 'interestingasfuck', 'NationalPark', 'DOG', 'personalfinance', 'explainlikeimfive', 'Justrolledintotheshop', 'DIY', 'UpliftingNews', 'goodnews', 'AmItheAsshole'}\n"
     ]
    },
    {
     "name": "stderr",
     "output_type": "stream",
     "text": [
      "Scraping user comments:   0%|          | 128/29911 [28:21<129:20:29, 15.63s/it]"
     ]
    },
    {
     "name": "stdout",
     "output_type": "stream",
     "text": [
      "Comments saved to /Users/smutnuri/Documents/UVA/_Projects/Fall24/CBM/CBMRepo/Data/usercomments/15750hz_usercomments.json\n",
      "{'ask', 'VintageFashion', 'Colorization', 'scifi', 'WouldYouRather', 'Warhammer', 'eu4', 'thanksimcured', 'NeonGenesisEvangelion', 'Petloss', 'manga', 'blackmagicfuckery', 'China', 'shittyrainbow6', 'Firearms', 'gamingsuggestions', 'MP5', 'atunsheifilms', 'sillygirlclub', 'wholesomeyaoi', 'Whatcouldgowrong', 'ghibli', 'science', 'answers', 'teslore', 'nevertellmetheodds', 'startrekmemes', 'Futurology', 'retroanime', 'OTMemes', 'makarov', 'WatchDogsWoofInside', 'guns', 'wholesomeanimemes', 'HydroHomies', 'Jokes', 'AITAH', 'AnimalsBeingJerks', 'Unexpected', 'howdowerelationship', 'yuri_manga', 'aimdownsights', 'metalgearsolid', 'Recommend_A_Book', 'dataisbeautiful', 'coolguides', 'RetroFuturism', 'Advice', 'animenocontext', 'pcgaming', 'gaming', 'mildlypenis', 'submechanophobia', 'HumanForScale', 'BRN180', 'steinsgate', 'scenic_guns', 'TEAMEVGA', 'MURICA', 'AskBrits', 'anime', 'history', 'toptalent', 'psychology', 'UrbanHell', 'cowboybebop', 'translator', 'CasualConversation', 'Lost_Architecture', 'OneOrangeBraincell', 'evilbuildings', 'ancientrome', 'tifu', 'BadDesigns', 'todayilearned', 'SonyXperia', 'LifeofBoris', 'WataOshi', 'KingCrimson', 'teenagers', 'maybemaybemaybe', 'DavidBowie', 'worldbuilding', 'ContagiousLaughter', 'StarWarsCantina', 'movies', 'starterpacks', 'HistoryPorn', 'MapsWithoutNZ', 'ucf', 'PewdiepieSubmissions', 'listentothis', 'Showerthoughts', 'Rainbow6', 'oddlyterrifying', 'Funnymemes', 'Warhammer40k', 'blursedimages', 'ShermanPosting', 'meme', 'AirForce', 'Names', 'antiMLM', 'RoastMyCar', 'FNFAL', 'AncientCivilizations', 'KidsAreFuckingStupid', 'malefashionadvice', 'environment', 'lotrmemes', 'wholesomevangelion', 'ModernWarfareIII', 'Maps', 'GunPorn', 'mildlyinfuriating', 'ATBGE', 'florida', 'pics', 'cursedcomments', 'StarWars', 'kawoshin', 'worldnews', 'oddlyspecific', 'ancientegypt', 'britishproblems', 'space', 'OldSchoolCool', 'MuseumPros', 'soup', 'nocontextpics', 'mapporncirclejerk', 'halo', 'Gamingcirclejerk', 'pettyrevenge', 'aviationmemes', 'monarchism', '196', 'energy', 'zombies', 'risa', 'confusingperspective', 'vexillology', 'DaystromInstitute', 'lostredditors', 'heraldry', 'forhonor', 'dontdeadopeninside', 'AmIOverreacting', 'Misato', 'TravelMaps', 'classicalmusic', 'onejob', 'nytimes', 'clevercomebacks', 'TheAstraMilitarum', 'UCFEngineering', 'CasualUK', 'changemyview', 'nottheonion', 'Miniswap', 'AskHistorians', 'SKS', 'HistoryMemes', 'shitposting', 'TrueOffMyChest', 'CursedGuns', 'tragedeigh', 'entertainment', 'PropagandaPosters', 'therewasanattempt', 'nextfuckinglevel', 'Yaoi_IRL', 'IAmA', 'meirl', 'MilitaryHistory', 'MW2', 'fakehistoryporn', 'CallOfDuty', 'AlternateHistory', 'CrappyDesign', 'Weird', 'haloreach', 'TwoHotTakes', 'AccidentalRacism', 'starwarsmemes', 'mildlyinteresting', 'PrequelMemes', 'systemshock', 'self', 'AskPhotography', 'tacticalgear', 'TIHI', 'geography', 'AskReddit', 'Grimdank', 'forbiddensnacks', 'shittyaskscience', 'gifs', 'ranma', 'stalker', 'evangelionmemes', 'comics', 'antiwork', 'AskUK', 'RoughRomanMemes', 'dcs', 'GunMemes', 'The10thDentist', 'haloinfinite', 'SWORDS', 'animegifs', 'UrsulaKLeGuin', 'logh', 'wholesomememes', 'u_PinheadLarry2323', 'ArtDeco', 'aww', 'ChinaWarns', 'news', 'AK74', 'Helldivers', 'Music', 'modernwarfare', 'SWlegion', 'OMORI', 'ProgrammerHumor', 'warthundermemes', 'WhitePeopleTwitter', 'malelivingspace', 'help', 'WritingPrompts', 'SamsungDex', 'fujifilm', 'DarwinAwards', 'SapphoAndHerFriend', 'ak47', 'MCCPC', 'MawInstallation', 'WarshipPorn', 'painting', 'gadgets', 'Doom', 'killedthecameraman', 'Wellthatsucks', 'Marathon', 'BeAmazed', 'MovieSuggestions', 'anime_irl', 'Minecraft', 'ForgottenWeapons', 'interestingasfuck', 'Berserk', '40kLore', 'personalfinance', 'TankPorn', 'Bossfight', 'jobsearchhacks', 'gifsthatkeepongiving', 'Komi_san', 'TooAfraidToAsk', 'pcmasterrace', 'TheWayWeWere', 'mensfashionadvice', 'toradora', 'Stargate', 'criterion', 'AskAnAmerican', 'ZombieSurvivalTactics', 'EDC', 'Art', 'Lovecraft', 'everydaycarry', 'adhdmeme', 'booksuggestions', 'AbuseInterrupted', 'Serverlife', 'GatekeepingYuri', 'battlefield_4', 'Cursedgunimages', 'liberalgunowners', 'mythologymemes', 'hmm', 'technology', 'HumansBeingBros', 'FluentInFinance', 'GirlsUndShitposts', 'notinteresting', 'labrats', 'ereader', 'terriblefacebookmemes', 'CursedTanks', 'Animemes', '2meirl4meirl', 'WeWantPlates', 'DiWHY', 'WorldOfWarships', 'MemeVideos', 'HistoryWhatIf', 'surrealmemes', 'sciencefiction', 'Damnthatsinteresting', 'SprocketTankDesign', 'AskMen', 'evangelion', 'ThatsInsane', 'LWIAY', 'ENGLISH', 'u_GRS-', 'suggestmeabook', 'IRLEasterEggs', 'MechanicalKeyboards', 'MyAnimeList', 'Presidents', 'EnoughMuskSpam', 'london', 'theocho', 'HistoryAnecdotes', 'ww2memes', 'UkraineWarVideoReport', 'facepalm', 'oddlysatisfying', 'canada', 'NoStupidQuestions', 'photoshopbattles', 'Morrowind', 'animememes', 'wikipedia', 'blackpowder', 'imaginarymaps', 'WinStupidPrizes', 'PhotoshopRequest', 'StupidFood', 'outside', 'HaloStory', 'politics', 'YuriIsMyJob', 'Chivalry2', 'LivestreamFail', 'shittyfoodporn', 'awesome', 'ancientgreece', 'astramilitarum', 'yesyesyesno', '1980s', 'boxoffice', 'CrazyFuckingVideos', 'BlackClover', 'Warthunder', 'araragi', 'toastme', 'wholesomeyuri', 'NFA', 'imaginarymapscj', 'books', 'valheim', 'TikTokCringe', 'ImperiumMemes', 'CozyPlaces', 'Salamanders40k', 'AskMenAdvice', 'startrek', 'MadeMeSmile', 'xbox360', 'HolUp', 'Animesuggest', 'WarhammerCompetitive', 'AnimeReccomendations', 'whatisthisthing', 'Romulus', 'DungeonMeshi', 'shoujo', 'yurimemes', 'BT_APC', 'steamengines', 'funny', 'FunnyAnimals'}\n"
     ]
    },
    {
     "name": "stderr",
     "output_type": "stream",
     "text": [
      "Scraping user comments:   0%|          | 129/29911 [28:51<166:06:49, 20.08s/it]"
     ]
    },
    {
     "name": "stdout",
     "output_type": "stream",
     "text": [
      "Comments saved to /Users/smutnuri/Documents/UVA/_Projects/Fall24/CBM/CBMRepo/Data/usercomments/17th_Angel_usercomments.json\n",
      "{'coaxedintoasnafu', 'nav', 'Weird', 'VinylReleases', 'sandyalexg', 'nas', 'ThroughTheWire', 'imaginarygatekeeping', 'xiuxiu', 'radiohead', 'CriticalDrinker', 'MusicRecommendations', 'MetalMemes', 'Letterboxd', 'lanitas', 'shakespeare', 'Showerthoughts', 'FuckMarvel', 'IkeaFreshBalls', 'technology', 'Funnymemes', 'GameTheorists', 'TerribleBookCovers', 'spotify', 'noiserock', 'Nirvana', 'musicsuggestions', 'boston', 'beatles', 'meme', 'aesoprock', 'AskReddit', 'lewronggeneration', 'jazzcirclejerk', 'Hiphopcirclejerk', 'Israel', 'YoungThug', 'WhereDoIStart', 'bingbongtheorem', 'JustUnsubbed', 'blankies', 'daverubin', '1001AlbumsGenerator', 'Madlib', 'donaldglover', 'thomastheplankengine', 'MSSPodcast', 'KanyeCulture', '691', 'CookieClicker', 'hiphop101', 'terriblefacebookmemes', 'theneedledrop', 'statsfm', 'YMS', 'indieheads', 'unpopularopinion', 'BatmanArkham', 'DaftPunk', 'RunningCirclejerk', 'GriseldaxFR', 'FionaApple', 'freddiegibbs', 'MarxistCulture', 'shittymoviedetails', 'PeterExplainsTheJoke', 'youngpeopleyoutube', 'VinylDeals', 'Metallica', 'Billywoods', 'GoodAssSub', 'memes', 'KidCudi', 'Damnthatsinteresting', 'The10thDentist', 'okbuddycinephile', 'TaylorSwiftMerch', 'madlads', 'Memes_Of_The_Dank', 'hiphopheads', '19684', 'RandomThoughts', 'rnb', 'swans', 'TameImpala', 'HivemindTV', 'travisandtaylor', 'wholesomememes', 'PinkFloydCircleJerk', 'hiphopvinyl', 'vsauce', 'A24', 'rareinsults', 'ENGLISH', 'ledzeppelin', 'travisscott', 'TrueUnpopularOpinion', 'popculturechat', 'freshalbumart', 'PhilosophyMemes', 'news', 'mathmemes', 'earlsweatshirt', 'Jazz', 'IDONTGIVEASWAG', 'gybe', 'Consoom', 'Music', 'rap', 'Topster', 'mgmt', 'fantanoforever', 'comedyhomicide', 'whenthe', 'antimeme', 'lies', 'HaveANiceLife', 'lastimages', 'GeeksGamersCommunity', 'coolguides', 'school', 'indieheadscirclejerk', 'tumblr', 'JIDSV', 'popheadscirclejerk', 'mildlyinfuriating', 'jacketsforbattle', 'jpegmafiamusic', 'Ultraleft', 'MetalForTheMasses', 'pics', 'DannyBrown', 'facepalm', 'DrakeTheType', 'tallyhall', 'DenzelCurry', 'BlackMetalCringe', 'IAmTheMainCharacter', 'IHateSportsball', 'radioheadcirclejerk', 'RSbookclub', 'schizoposters', 'AppleMusic', 'literature', 'theydidthemath', 'discordVideos', 'HipHopImages', 'deathgrips', 'nbacirclejerk', 'popularopinion', 'vinyl', 'HauntedMound', 'BrandNewSentence', 'KingCrimsonCircleJerk', 'Jcole', 'vinyljerk', 'ToddintheShadow', 'CrossCountry', 'Kanye', 'XXXTENTACION', 'pinkfloyd', 'AnimalCollective', 'Schoolboyq', 'AlignmentCharts', 'playboicarti', 'Gamingcirclejerk', 'mfdoom', 'DetroitPistons', 'interestingasfuck', 'twentyonepilots', 'maths', 'gojira', 'beatlescirclejerk', 'TheWeeknd', 'NonPoliticalTwitter', 'TooAfraidToAsk', 'im14andthisisdeep', 'future', 'LetsTalkMusic', 'classical_circlejerk', 'ComedyCemetery', 'puzzles', 'lostredditors', 'CuratedTumblr', 'westsidegunn', 'books', 'TeachersInTransition', 'heavyvinyl', 'TikTokCringe', 'shortguys', 'classicalmusic', 'aphextwin', 'GetNoted', 'memesopdidnotlike', 'sciencememes', 'NotHowGirlsWork', 'JoeRogan', 'Jordan_Peterson_Memes', 'puns', 'yeat_', 'marvelmemes', 'tylerthecreator', 'dankmemes', 'nottheonion', 'FrankOcean', 'todayilearned', 'KendrickLamar', 'shitposting', 'bmbmbm', 'trackandfield', 'TheStrokes', 'progrockmusic', 'Drizzy', 'truespotify', 'Westchester', 'runthejewels', '21savage', 'BlackPeopleTwitter', 'rateyourmusic', 'teenagers', '197', 'Eminem', 'FunnyandSad', 'meirl', 'TrueLit', 'FatRappers', 'Hardcore', 'lilwayne', '2sentence2horror', 'MacMiller', 'Brad_taste_in_music', 'StarWarsCantina', 'movies', 'GenZ', 'starterpacks', 'TomMacDonald_MyFans', 'redditmoment', 'LeftTheBurnerOn', 'liluglymane', 'lastfm', 'musicmemes'}\n"
     ]
    },
    {
     "name": "stderr",
     "output_type": "stream",
     "text": [
      "Scraping user comments:   0%|          | 130/29911 [29:15<174:57:21, 21.15s/it]"
     ]
    },
    {
     "name": "stdout",
     "output_type": "stream",
     "text": [
      "Comments saved to /Users/smutnuri/Documents/UVA/_Projects/Fall24/CBM/CBMRepo/Data/usercomments/1938379292_usercomments.json\n",
      "{'LetsTalkMusic', 'ask', 'EatCheapAndHealthy', 'AskOldPeople', 'NoStupidQuestions', 'Manipulation', 'roanoke', 'flicks', 'questions', 'books', 'RandomQuestion', 'HardWoodFloors', 'MusicRecommendations', 'TravelMaps', 'Funnymemes', 'Millennials', 'SteelyDan', 'no', 'spotify', 'BucksCountyPA', 'stories', 'musicsuggestions', 'HumansBeingBros', 'NameMyCat', 'Indiana', 'AskReddit', 'Animals', 'rareinsults', 'AmITheJerk', 'nottheonion', 'atheism', 'whatplantisthis', 'texas', 'AITAH', 'whatismycookiecutter', 'news', 'suggestmeabook', 'Jokes', 'Productivitycafe', 'LICENSEPLATES', 'roadtrip', 'povertykitchen', 'Jazz', 'potato', 'Home', 'gardening', 'Music', 'MovieSuggestions', 'moraldilemmas', 'wisconsin', 'whatisthisthing', 'cats', 'Comebacks', 'WorkReform', 'cajunfood', 'Bumperstickers', 'CURRENCY', 'bees', 'FunnyAnimals', 'Advice', 'CasualConversation', 'Bandnames', 'whatsthisplant', '70s', 'ScenesFromAHat', 'CrappyDesign'}\n"
     ]
    },
    {
     "name": "stderr",
     "output_type": "stream",
     "text": [
      "Scraping user comments:   0%|          | 131/29911 [29:18<128:59:26, 15.59s/it]"
     ]
    },
    {
     "name": "stdout",
     "output_type": "stream",
     "text": [
      "Comments saved to /Users/smutnuri/Documents/UVA/_Projects/Fall24/CBM/CBMRepo/Data/usercomments/1950sTops_usercomments.json\n",
      "{'Weird', 'mildlyinteresting', 'JanitorAI_Official', 'technology', 'Millennials', 'TheLastAirbender', 'gameofthrones', 'naath', 'HadesTheGame', 'AskReddit', 'PsychonautsGame', 'VampireSurvivors', 'WTF', 'blackmagicfuckery', 'steamdeckhq', 'PiratedGames', 'GameDeals', 'privacy', 'DotHack', 'SteamDeckPirates', 'relationship_advice', 'science', 'SteamDeck', 'KidsAreFuckingStupid', 'DIY', 'ExplainTheJoke', 'Superstonk', 'creepy', 'AlanWake', 'wesanderson', 'GodsUnchained', 'inscryption', 'evilautism', 'backrooms', 'PERSoNA', 'outerwilds', 'fastfood', 'hellsomememes', 'aww', 'MapPorn', 'u_wendys-official', 'Music', 'houseofleaves', 'WorkOnline', 'softwaregore', 'camping', 'WhitePeopleTwitter', 'dataisbeautiful', 'HistoricalCapsule', 'facepalm', 'pcgaming', 'pics', 'twinpeaks', 'ffxiv', 'povertyfinance', 'gaming', 'NoStupidQuestions', 'LeopardsAteMyFace', 'videogames', 'MaliciousCompliance', 'gadgets', 'Doom', 'u_AlawarGames', 'OldSchoolCool', 'LobotomyCorp', 'GME', 'nevergrewup', 'u_TheBestFiggsAI', 'CampingandHiking', 'CharacterAI', 'DeepFuckingValue', 'WorkReform', 'BadRPerStories', 'DoomMods', 'amcstock', 'homestuck', 'comedyheaven', 'DeadlockTheGame', 'CuratedTumblr', 'books', 'vintageads', 'SunoAI', 'museum', 'davidlynch', 'LivingMas', 'Piracy', 'StrangerThings', 'CryptoCurrency', 'FinalFantasy', 'KingdomHearts', 'buildapcsales', 'todayilearned', 'LifeProTips', 'JRPG', 'FiggsAI', 'IAmA', 'finalfantasyxiii', 'controlgame', 'ChatGPT', 'HoMM', 'movies', 'patientgamers', 'Chub_AI', 'LocalLLaMA'}\n"
     ]
    },
    {
     "name": "stderr",
     "output_type": "stream",
     "text": [
      "Scraping user comments:   0%|          | 132/29911 [29:46<161:49:06, 19.56s/it]"
     ]
    },
    {
     "name": "stdout",
     "output_type": "stream",
     "text": [
      "Comments saved to /Users/smutnuri/Documents/UVA/_Projects/Fall24/CBM/CBMRepo/Data/usercomments/1965wasalongtimeago_usercomments.json\n",
      "{'pics', 'stephenking', 'BritishRadio', 'darktower', 'bookshelf', 'books', 'scifi', 'Flooring', 'NameThatMovie', 'whatsthatmoviecalled', 'BookshelvesDetective', 'oldbritishtelly', 'threebodyproblem', 'AskReddit', 'space', 'wakefield', 'OldSchoolCool', 'DarK', 'drivingUK', 'Jokes', 'ClassicTrance', 'televisionsuggestions', 'Stillgame', 'harrypotter', 'MovieSuggestions', 'moviecritic', 'DIYUK', 'Lurchers', 'BritishTV', 'whatsthemoviecalled', 'BookCollecting', 'TaxiDriver', 'Whippet', 'TheDarkTower', 'tipofmytongue', 'RedDwarf', 'movies', 'Gomorrah'}\n"
     ]
    },
    {
     "name": "stderr",
     "output_type": "stream",
     "text": [
      "Scraping user comments:   0%|          | 133/29911 [29:51<124:34:05, 15.06s/it]"
     ]
    },
    {
     "name": "stdout",
     "output_type": "stream",
     "text": [
      "Comments saved to /Users/smutnuri/Documents/UVA/_Projects/Fall24/CBM/CBMRepo/Data/usercomments/1966champ1966_usercomments.json\n",
      "{'television', 'subaru', 'pics', 'EarthPorn', 'JeepGladiator', 'ABoringDystopia', 'worldnews', 'gaming', 'learnprogramming', 'NoStupidQuestions', 'hmm', '3rdGen4Runner', 'books', 'frugalmalefashion', 'technology', 'Concerta', 'TikTokCringe', 'oddlyterrifying', 'gatesopencomeonin', 'eatsandwiches', 'GreenBayPackers', 'azores', 'Android', 'AskReddit', 'mildyinteresting', 'buildapcsales', 'overlanding', 'todayilearned', 'news', 'politics', 'WTF', 'roadtrip', '2007scape', 'CabinPorn', 'Music', 'LandRover', 'entertainment', 'adhdmeme', 'IdiotsInCars', '4x4', 'newhampshire', 'WorkReform', 'goodyearwelt', 'ProgrammerHumor', 'explainlikeimfive', 'meirl', 'TankPorn', 'WhitePeopleTwitter', 'funny', 'dataisbeautiful', 'Justrolledintotheshop', 'science', 'BudgetKeebs', 'nfl', 'swoleacceptance', 'pcmasterrace'}\n"
     ]
    },
    {
     "name": "stderr",
     "output_type": "stream",
     "text": [
      "Scraping user comments:   0%|          | 134/29911 [30:07<126:26:00, 15.29s/it]"
     ]
    },
    {
     "name": "stdout",
     "output_type": "stream",
     "text": [
      "Comments saved to /Users/smutnuri/Documents/UVA/_Projects/Fall24/CBM/CBMRepo/Data/usercomments/1976dave_usercomments.json\n",
      "{'television', 'JonStewart', 'TwoHotTakes', 'Health', 'videos', 'mildlyinteresting', 'houstonwade', 'Connecticut', 'whenyouseeit', 'technology', 'sports', 'YoMamaJokes', 'law', 'aliceinwonderland', 'perfectloops', 'Aquariums', 'FluentInFinance', 'AskReddit', 'Snorkblot', 'geography', 'Gaylor_Swift', 'olympics', 'gifs', 'PoliticalDiscussion', 'askscience', 'RoastMyCar', 'NewsAndPolitics', 'moviecritic', 'bestof', 'Bumperstickers', 'UNBGBBIIVCHIDCTIICBG', 'science', 'UpliftingNews', 'Chadtopia', 'technews', 'creepy', 'Damnthatsinteresting', 'Futurology', 'minnesotavikings', 'millenials', 'suspiciouslyspecific', 'megalophobia', 'IntellectualDarkWeb', 'insaneparents', 'travisandtaylor', 'aww', 'namethatcar', 'texas', 'Jokes', 'news', 'TwoXChromosomes', 'tech', 'NewsHub', 'selfie', 'Music', 'Presidents', 'AskLosAngeles', 'Ohio', 'kansas', 'WhitePeopleTwitter', 'woahdude', 'labrador', 'mildlyinfuriating', 'ATBGE', 'shittylimos', 'oddlysatisfying', 'pics', 'massachusetts', 'EarthPorn', 'gaming', 'worldnews', 'LeopardsAteMyFace', 'Physics', 'HumanForScale', 'BoomersBeingFools', 'missouri', 'HBOMAX', 'space', 'OldSchoolCool', 'DecodingTheGurus', 'DailyShow', 'AnythingGoesNews', 'politics', 'USNewsHub', '1950s', 'Trumpgret', 'history', 'NewsOfTheStupid', 'interestingasfuck', 'SouthBayLA', 'CyberStuck', 'explainlikeimfive', 'Arkansas', 'amiugly', 'trashy', 'Construction', 'books', 'TikTokCringe', 'thatscrazybro', 'CoupleMemes', 'whatstheword', 'OutOfTheLoop', 'clevercomebacks', 'dogvideos', 'skeptic', 'trailerparkboys', 'nottheonion', 'AskHistorians', 'kansascity', 'altmpls', 'todayilearned', 'hondafit', 'thalassophobia', 'kratom', 'Art', 'inthenews', 'entertainment', 'LifeProTips', 'BlackPeopleTwitter', 'GirlsInaGif', 'funnyvideos', 'PublicFreakout', 'funny', 'Epstein', 'movies', 'dashcams'}\n"
     ]
    },
    {
     "name": "stderr",
     "output_type": "stream",
     "text": [
      "Scraping user comments:   0%|          | 135/29911 [30:17<114:33:56, 13.85s/it]"
     ]
    },
    {
     "name": "stdout",
     "output_type": "stream",
     "text": [
      "Comments saved to /Users/smutnuri/Documents/UVA/_Projects/Fall24/CBM/CBMRepo/Data/usercomments/19Ziebarth_usercomments.json\n",
      "{'stephenking', 'greenday', 'Showerthoughts', 'technology', 'Qult_Headquarters', 'law', 'Xennials', 'Millennials', 'kindle', 'TimWalz', 'meme', 'AskReddit', 'Cooking', 'antiwork', 'SelfAwarewolves', 'aviation', 'UkrainianConflict', 'comicbooks', 'technews', 'Damnthatsinteresting', 'Futurology', 'ukrainememes', 'johnoliver', 'AskMen', 'HighStrangeness', 'europe', 'news', 'TwoXChromosomes', 'aldi', 'DarkBRANDON', 'wisconsin', 'Presidents', 'PWHL', 'WhitePeopleTwitter', 'mildlyinfuriating', 'UkraineWarVideoReport', 'facepalm', 'pics', 'TheRightCantMeme', 'EatCheapAndHealthy', 'gaming', 'NoStupidQuestions', 'worldnews', 'LeopardsAteMyFace', 'BoomersBeingFools', 'Ukrainian', 'Steam', 'oddlyspecific', 'awfuleverything', 'KingOfTheHill', 'minnesota', 'space', 'atheism', 'nostalgia', 'Wellthatsucks', 'politics', 'BrandNewSentence', 'playstation', 'WorkReform', 'lifehacks', 'CyberStuck', 'explainlikeimfive', 'TooAfraidToAsk', 'college', 'pcmasterrace', 'hockeymemes', 'DesignPorn', 'byebyejob', 'PoliticalHumor', 'books', 'classicalmusic', 'TheMajorityReport', 'bicycling', 'ukraine', 'UFOs', 'Fauxmoi', 'AdviceAnimals', 'conservativeterrorism', 'CasualUK', 'nottheonion', 'chernobyl', 'todayilearned', 'inthenews', 'entertainment', 'IdiotsInCars', 'BlackPeopleTwitter', 'therewasanattempt', 'fuckcars', 'philadelphia', 'Portal', 'meirl', 'funny', 'bigfoot', 'movies', 'hockey'}\n"
     ]
    },
    {
     "name": "stderr",
     "output_type": "stream",
     "text": [
      "Scraping user comments:   0%|          | 136/29911 [30:26<102:04:13, 12.34s/it]"
     ]
    },
    {
     "name": "stdout",
     "output_type": "stream",
     "text": [
      "Comments saved to /Users/smutnuri/Documents/UVA/_Projects/Fall24/CBM/CBMRepo/Data/usercomments/19thCLibrarian_usercomments.json\n",
      "{'Avatarthelastairbende', 'SipsTea', 'learntodraw', 'nope', 'radiohead', 'Deathcore', 'MusicRecommendations', 'fender', 'Millennials', 'musicsuggestions', 'aiArt', 'horror', 'uglyduckling', 'geography', 'AskReddit', 'shittycoolguides', 'crappymusic', 'jazzcirclejerk', 'vanhalen', 'blackmagicfuckery', 'ArtPorn', 'instacart', 'reggae', 'hiphop101', 'RoastMe', 'moviecritic', 'BillBurr', 'science', 'reddeadredemption2', 'DIY', 'astrologymemes', 'ClassicRock', 'singing', 'Damnthatsinteresting', 'AssassinsCreedValhala', 'gettoknowtheothers', 'mysteriesoftheworld', 'lego', 'rnb', 'Halloween_Costumes', 'TameImpala', 'Metalcore', 'MapPorn', 'popculturechat', 'Jokes', 'AITAH', '3Dprinting', 'popheads', 'artificial', 'guitarlessons', 'coolguides', 'Bandnames', 'facepalm', 'MetalForTheMasses', 'pics', 'Satisfyingasfuck', 'ArchitecturalRevival', 'NoStupidQuestions', 'worldnews', 'BoomersBeingFools', 'StrangeEarth', 'ImTheMainCharacter', 'dalle2', 'Wild_Politics', 'DeepThoughts', 'foodtrucks', 'metalworking', 'woahthatsinteresting', 'Wellthatsucks', 'Asmongold', 'politics', 'InMetalWeTrust', 'BeAmazed', 'interestingasfuck', 'deadheadcirclejerk', 'CulturalLayer', 'country', 'drums', 'amiugly', 'NormMacdonald', 'Construction', 'books', 'TikTokCringe', 'onejob', 'reddeadredemption', 'GTA', 'Guitar', 'JoeRogan', 'EDM', 'piano', 'MadeMeSmile', 'holdmycosmo', '80smovies', 'AcousticGuitar', 'therewasanattempt', 'musicians', 'grunge', 'Leathercraft', 'ChatGPT', 'funny', 'guitarcirclejerk', 'PostHardcore', 'nofx', 'Songwriting', 'movies', 'daddit', 'bestofinternet'}\n"
     ]
    },
    {
     "name": "stderr",
     "output_type": "stream",
     "text": [
      "Scraping user comments:   0%|          | 137/29911 [30:32<87:13:55, 10.55s/it] "
     ]
    },
    {
     "name": "stdout",
     "output_type": "stream",
     "text": [
      "Comments saved to /Users/smutnuri/Documents/UVA/_Projects/Fall24/CBM/CBMRepo/Data/usercomments/1PhartSmellow_usercomments.json\n",
      "{'PokemonGOValor', 'portlandme', 'gaming', 'mildlyinteresting', 'RealRepLadies', 'disneydreamvalley', 'books', 'HappyHomeParadise', 'Palia', 'FoundPaper', 'aww', 'NoFeeAC', 'AmItheAsshole', 'crochet', 'TurnipExchange'}\n"
     ]
    },
    {
     "name": "stderr",
     "output_type": "stream",
     "text": [
      "Scraping user comments:   0%|          | 138/29911 [30:34<63:43:20,  7.70s/it]"
     ]
    },
    {
     "name": "stdout",
     "output_type": "stream",
     "text": [
      "Comments saved to /Users/smutnuri/Documents/UVA/_Projects/Fall24/CBM/CBMRepo/Data/usercomments/1Q95-kt_usercomments.json\n",
      "{'SipsTea', 'TwoHotTakes', 'whatsthisbug', 'writing', 'itcouldhappenhere', 'mildlyinteresting', 'houstonwade', 'somethingiswrong2024', 'Qult_Headquarters', 'economicCollapse', 'self', 'Xennials', 'Millennials', 'ottawa', 'Frugal', 'Angryupvote', 'boston', 'FluentInFinance', 'freebietalk', 'Wedeservebetter', 'AskReddit', 'Influenster', 'ShitPoliticsSays', 'GoingToSpain', 'ImmigrationCanada', 'kzoo', 'KamalaHarris', 'MurderedByWords', 'traumatizeThemBack', 'National_Strike', 'AskWomenOver30', 'wyoming', 'moviecritic', 'comics', 'UnethicalLifeProTips', 'Perimenopause', 'Bumperstickers', 'texts', 'unpopularopinion', 'science', 'housewifery', 'FemaleHairLoss', 'shittymoviedetails', 'brittanydawnsnark', 'regretfulparents', 'slatestarcodex', 'CleaningTips', 'Damnthatsinteresting', 'homedecoratingCJ', 'democrats', 'johnoliver', 'AnnArbor', 'JustGuysBeingDudes', 'RBI', 'MildlyBadDrivers', '45PlusSkincare', 'europe', 'TheGirlSurvivalGuide', 'VanLife', 'H5N1_AvianFlu', 'CatAdvice', 'TrueUnpopularOpinion', 'rupaulsdragrace', 'texas', 'AITAH', 'DIYmedicine', 'TwoXChromosomes', 'Adulting', 'bathandbodyworks', 'Debt', 'Music', 'Splendida', 'TrueSwifties', 'Ohio', 'bestoflegaladvice', 'WhitePeopleTwitter', 'coolguides', 'ParlerWatch', 'suicidebywords', 'AmazonBudgetFinds', 'mildlyinfuriating', 'Menopause', 'pics', 'massachusetts', 'tretinoin', 'McMansionHell', 'povertyfinance', 'Georgia', 'worldnews', 'LeopardsAteMyFace', 'NoShitSherlock', 'TwoXPreppers', 'BotoxSupportCommunity', 'handbags', 'indianrailways', 'laundry', 'TjMaxx', 'BestofRedditorUpdates', 'PetiteFashionAdvice', 'atheism', 'interesting', 'woahthatsinteresting', 'Wellthatsucks', 'politics', 'AnythingGoesNews', 'centuryhomes', 'Foodforthought', 'MURICA', 'fashionwomens35', 'PetiteFitness', 'BeAmazed', 'Asmongold', 'WomenOver40', 'Professors', 'SolarMax', 'Iowa', 'cats', 'Eyebleach', 'prepping', 'QAnonCasualties', 'WitchesVsPatriarchy', 'NewsOfTheStupid', 'WorkReform', 'tractivegps', 'PrepperIntel', 'interestingasfuck', 'pettyrevenge', '90DayFiance', 'NonPoliticalTwitter', 'alexa', 'emptynesters', 'TaylorSwift', 'TooAfraidToAsk', '30PlusSkinCare', 'BlakeEllenderLively', 'hvacadvice', 'Biohackers', 'Ameristralia', 'collapse', 'books', 'AmIOverreacting', 'TikTokCringe', 'CozyPlaces', 'Fauxmoi', 'Ulta', 'clevercomebacks', 'beauty', 'AdviceAnimals', 'conservativeterrorism', 'nursing', 'upstate_new_york', 'furry', 'MadeMeSmile', 'nottheonion', 'QuadCities', 'Cleveland', 'MasterReturns', 'todayilearned', 'ActiveMeasures', 'WomenInNews', 'Peptides', 'BlackPeopleTwitter', 'christiansnark', 'maybemaybemaybe', 'nextfuckinglevel', 'Feminism', 'cosmeticsurgery', 'adhdwomen', 'Teachers', 'meirl', 'ChatGPT', 'funny', 'bonehurtingjuice', 'RedditForGrownups', 'SubredditDrama'}\n"
     ]
    },
    {
     "name": "stderr",
     "output_type": "stream",
     "text": [
      "Scraping user comments:   0%|          | 139/29911 [30:50<85:37:38, 10.35s/it]"
     ]
    },
    {
     "name": "stdout",
     "output_type": "stream",
     "text": [
      "Comments saved to /Users/smutnuri/Documents/UVA/_Projects/Fall24/CBM/CBMRepo/Data/usercomments/1Squid-Pro-Crow_usercomments.json\n",
      "{'ask', 'TwoHotTakes', 'AskOldPeople', 'redditonwiki', 'Hobbies', 'mildlyinteresting', 'rant', 'ThriftStoreHauls', 'MusicRecommendations', 'landscaping', 'LittleFreeLibrary', 'musicsuggestions', 'JapanTravel', 'dogs', 'NameNerdCirclejerk', 'whatsthatbook', 'notliketheothergirls', 'zillowgonewild', 'AskReddit', 'Cooking', 'AITA_WIBTA_PUBLIC', 'Apartmentliving', 'oregon', 'antiMLM', 'specialed', 'Seattle', 'UnethicalLifeProTips', 'antiwork', 'CozyFantasy', 'AskUK', 'unpopularopinion', 'AskWomenOver40', 'AmItheAsshole', 'Fantasy', 'CustomerService', 'treeidentification', 'Concerts', 'TalesFromTheFrontDesk', 'GenX', 'Damnthatsinteresting', 'RealEstate', 'Austin', 'trustedhousesitters', 'askportland', 'stories', 'RandomThoughts', 'namenerds', 'wholesomememes', 'coworkerstories', 'legaladvice', 'TrueCrimeDiscussion', 'weddingshaming', 'aww', 'BORUpdates', 'AITAH', 'televisionsuggestions', 'news', 'suggestmeabook', 'Productivitycafe', '80s', 'Music', 'GiftIdeas', 'RoverPetSitting', 'antimeme', 'TravelHacks', 'WhitePeopleTwitter', 'WeezerCircleJerk', 'UnresolvedMysteries', 'mildlyinfuriating', 'Advice', 'DeathCertificates', 'AskOldPeopleAdvice', 'facepalm', 'fashionhistory', 'NoStupidQuestions', 'worldnews', 'BoomersBeingFools', 'talesfromcallcenters', 'RandomQuestion', 'fashion', 'mlmscams', 'Gifts', 'BestofRedditorUpdates', 'MaliciousCompliance', 'nonononoyes', 'OldSchoolCool', '80smusic', 'BenignExistence', 'politics', 'MarkMyWords', 'crime', 'BeAmazed', 'soup', 'PortlandOR', 'MovieSuggestions', 'Portland', 'interestingasfuck', 'pettyrevenge', 'dustythunder', 'pools', 'CasualConversation', 'TalesFromYourServer', 'candy', 'cancer', 'LetsTalkMusic', 'SpringfieldIL', 'CookingCircleJerk', 'books', 'JUSTNOMIL', 'AmIOverreacting', 'TeachersInTransition', 'TikTokCringe', 'AmITheAngel', 'ThriftGrift', 'Eugene', 'CookbookLovers', 'MadeMeSmile', 'AmITheJerk', 'musicals', 'horrorlit', 'ChoosingBeggars', 'todayilearned', 'AnimalShelterStories', 'GenerationJones', 'amiwrong', 'gardening', 'tragedeigh', 'FuckYouKaren', 'booksuggestions', 'EntitledPeople', 'Washington', 'Teachers', 'funny', 'ContagiousLaughter', 'whatsthisplant', '70s', 'PetAdvice'}\n"
     ]
    },
    {
     "name": "stderr",
     "output_type": "stream",
     "text": [
      "Scraping user comments:   0%|          | 140/29911 [31:06<98:47:17, 11.95s/it]"
     ]
    },
    {
     "name": "stdout",
     "output_type": "stream",
     "text": [
      "Comments saved to /Users/smutnuri/Documents/UVA/_Projects/Fall24/CBM/CBMRepo/Data/usercomments/1ToeIn_usercomments.json\n",
      "{'television', 'Barry', 'criterion', 'xmen', 'DCcomics', 'TheFirstLaw', 'indieheads', 'blankies', 'nin', 'mega64', 'BeautysBoudoir', 'books', 'dune', 'movies', 'comicbooks', 'AMCsAList'}\n"
     ]
    },
    {
     "name": "stderr",
     "output_type": "stream",
     "text": [
      "Scraping user comments:   0%|          | 141/29911 [31:16<94:38:46, 11.45s/it]"
     ]
    },
    {
     "name": "stdout",
     "output_type": "stream",
     "text": [
      "Comments saved to /Users/smutnuri/Documents/UVA/_Projects/Fall24/CBM/CBMRepo/Data/usercomments/1UrbanGroove_usercomments.json\n",
      "{'television', 'ask', 'MSsEcReTPoDcAsT', 'TheFirstDescendant', 'Miami', 'hearthstone', 'LoveIslandTV', 'Letterboxd', 'PrequelMemes', 'technology', 'sports', 'economicCollapse', 'Millennials', 'horror', 'dogs', 'brandnew', 'Hiphopcirclejerk', 'Stronglifts5x5', 'CICO', 'AskMenOver30', 'TheoVon', 'Mkgee', 'puppy101', 'Smite', 'moviecritic', 'indieheads', 'papermoney', 'miniaussie', 'marvelstudios', 'Fantasy', 'TheAcolyte', 'leangains', 'ValorantCompetitive', 'Concerts', 'PokemonTCG', 'Damnthatsinteresting', 'millenials', 'StartingStrength', 'Hasan_Piker', 'Emo', 'CorepunkTheGame', 'AITAH', 'supervive', 'news', 'Jungle_Mains', 'Adulting', 'Helldivers', 'UberEATS', 'AdultChildren', 'Money', 'LoveIslandUSA', 'classicwow', 'vrising', 'SingleAndHappy', 'Fitness', 'StarWars', 'saltierthancrait', 'NoStupidQuestions', 'LeaksAndRumors', 'TimDillon', 'childfree', 'VALORANT', 'wordle', 'summonerswar', 'electronicmusic', 'ShouldIbuythisgame', 'Flume', 'reactivedogs', 'stopdrinking', 'DecodingTheGurus', 'PeterAttia', 'u_StunlockStudiosADS', 'confidence', 'LoveIsBlindOnNetflix', 'politics', 'Marathon', 'LivestreamFail', 'diablo4', 'MMORPG', 'Invincible', '23andme', 'SameGrassButGreener', 'Destiny', 'crossword', 'Harlem', 'OnlyMurdersHulu', 'interestingasfuck', 'NYTCrossword', 'personalfinance', 'Brogress', 'starbucks', 'drums', 'XboxSeriesX', 'Biohackers', 'brakebills', 'Killtony', 'SleepToken', 'books', 'GYM', 'AmIOverreacting', 'languagelearning', 'SayAnything', 'RPClipsGTA', 'Fauxmoi', 'decaf', 'JoeRogan', 'progresspics', 'Flagrant2', 'AskMenAdvice', 'MadeMeSmile', 'Standup', 'KendrickLamar', 'JeffNippard', 'therewasanattempt', 'tuesdayswithstories', 'PublicFreakout', 'NYTConnections', 'PostHardcore', 'Eldenring', 'RedditForGrownups', 'movies', 'Parenting'}\n"
     ]
    },
    {
     "name": "stderr",
     "output_type": "stream",
     "text": [
      "Scraping user comments:   0%|          | 142/29911 [31:27<94:00:16, 11.37s/it]"
     ]
    },
    {
     "name": "stdout",
     "output_type": "stream",
     "text": [
      "Comments saved to /Users/smutnuri/Documents/UVA/_Projects/Fall24/CBM/CBMRepo/Data/usercomments/1acquainted_usercomments.json\n",
      "{'television', 'rabm', 'place', 'SequelMemes', 'TearsOfThemis', 'TimelessMagic', 'lolgrindr', 'vtm', 'rant', 'LeagueOfMemes', 'KusanaliMains', 'PrequelMemes', 'technology', 'AntifascistsofReddit', 'moderatepolitics', '30ROCK', 'korea', 'BPDlovedones', 'Funnymemes', 'apple', 'DotA2', 'Genshin_Impact', 'boston', 'OnlineDating', 'NeuvilletteMains_', 'TheMotte', 'AskReddit', 'Games', 'Grimdank', 'bayarea', 'cripplingalcoholism', 'punk', 'WTF', 'LawSchool', 'MagicArena', 'OkBuddyPersona', 'loseit', 'MurderedByWords', 'Delta_Emulator', 'conspiracy', 'GameDeals', 'AskALiberal', 'AskWomenOver30', 'Seattle', 'inflation', 'antiwork', 'Christianity', 'ZZZ_Official', 'FtMPorn', 'uberdrivers', 'VaushV', 'science', 'Overwatch', 'marvelstudios', 'Fantasy', 'magicthecirclejerking', 'MensLib', 'polyamory', 'economy', 'Hue', 'Damnthatsinteresting', 'antinatalism', 'KotakuInAction', 'PTCGL', 'ModernMagic', 'RandomThoughts', 'Catholicism', 'Joker_Mains', 'the_onryo', 'colorpie', 'europe', 'AceAttorney', 'centrist', 'japan', 'Boardgamedeals', 'MTCJLardFetcher', 'Jokes', 'news', 'AceAttorneyCirclejerk', 'leagueoflegends', 'lrcast', 'Journalism', 'Mommit', 'custommagic', 'DuelLinks', 'HonkaiStarRail', 'vegan', 'magicTCG', 'pkmntcg', 'masterduel', 'lgbt', 'nyc', 'EDH', 'ControversialOpinions', 'WhitePeopleTwitter', 'MenAndFemales', 'coolguides', 'midjourney', 'dataisbeautiful', 'StableDiffusion', 'dating', 'mildlyinfuriating', 'h3h3productions', 'MTGRumors', 'Advice', 'Minneapolis', 'pics', 'washingtondc', 'MTGCardBelcher', 'worldnews', 'LeopardsAteMyFace', 'spikes', 'AlHaithamMains', 'neoliberal', 'ModSupport', 'DnD', 'childfree', 'aaaaaaacccccccce', 'bing', 'askgaybros', 'LateStageCapitalism', 'wallstreetbets', 'Anarchism', 'MaliciousCompliance', 'Tinder', 'Buffalo', 'barexam', 'madisonwi', 'politics', 'LivestreamFail', 'Netrunner', 'sanfrancisco', 'ftm', 'Utah', 'PortlandOR', 'Portland', 'Gamingcirclejerk', 'Eyebleach', 'BlockedAndReported', 'interestingasfuck', 'boxoffice', 'explainlikeimfive', 'Kokomi_Mains', '196', 'unitedkingdom', 'TooAfraidToAsk', 'CrazyHand', 'nonmonogamy', 'Guildwars2', 'HermanCainAward', 'BreakingPoints', 'PoliticalHumor', 'UTAustin', 'books', 'Metroid', 'memesopdidnotlike', 'egg_irl', 'Zenlesszonezeroleaks_', 'Persona5', 'clevercomebacks', 'CrackWatch', 'SombraMains', 'skeptic', 'California', 'AdviceAnimals', 'stupidpol', 'CABarExam', 'Abortiondebate', 'wow', 'deadbydaylight', 'changemyview', 'nottheonion', 'MadeMeSmile', 'chicago', 'Genshin_Impact_Leaks', 'dropout', 'HolUp', 'TrueOffMyChest', 'badwomensanatomy', 'GameChangerTV', 'LifeProTips', 'Veep', 'entertainment', 'LosAngeles', 'grindr', 'teenagers', 'confessions', 'food', 'boardgames', 'Teachers', 'funny', 'RoevWadeCelebration', 'bonehurtingjuice', 'fakehistoryporn', 'SubredditDrama', 'movies', 'Comcast_Xfinity', 'starterpacks', 'ActualPublicFreakouts', 'arkhamhorrorlcg'}\n"
     ]
    },
    {
     "name": "stderr",
     "output_type": "stream",
     "text": [
      "Scraping user comments:   0%|          | 143/29911 [31:42<103:13:18, 12.48s/it]"
     ]
    },
    {
     "name": "stdout",
     "output_type": "stream",
     "text": [
      "Comments saved to /Users/smutnuri/Documents/UVA/_Projects/Fall24/CBM/CBMRepo/Data/usercomments/1alian_usercomments.json\n",
      "{'Weird', 'HairDye', 'Hobbies', 'oddlyterrifying', 'Animal', 'HumansBeingBros', 'musicsuggestions', 'TheWaterLew', 'NukesTop5', 'AskReddit', 'whatismycookiecutter', 'LearnToDrawTogether', 'Cosmetology', 'RoastMe', 'terriblefacebookmemes', 'AskUK', 'Whatcouldgowrong', 'KidsAreFuckingStupid', 'wildlife_videos', 'PeopleFuckingDying', 'HHGTTG', 'doodles', 'Damnthatsinteresting', 'mystery', 'lookyourbest', 'AITAH', 'HomeMaintenance', 'AnimalsBeingJerks', 'suggestmeabook', 'firstimpression', 'blackcats', 'HairStyleAdvice', 'WhatisMyEyeColour', 'AbstractArt', 'ProgrammerHumor', 'malelivingspace', 'Bandnames', 'YAlit', 'ATBGE', 'facepalm', 'pics', 'NoStupidQuestions', 'FictionWriting', 'awfuleverything', 'cute', 'NameMyCat', 'theviralthings', 'interiordesignideas', 'AbsoluteUnits', 'Wellthatsucks', 'BeAmazed', 'dogpictures', 'cats', 'doppelganger', 'ArtCrit', 'lefthanded', 'Noses', 'DOG', 'homedesign', 'amiugly', 'submitted', 'questions', 'books', 'oilpainting', 'OUTFITS', 'ukraine', 'Catnames', 'NameMyDog', 'MadeMeSmile', 'InteriorDesign', 'SeriousConversation', 'trippyart', 'DesignMyRoom', 'Artists', 'Cheese', 'IdiotsInCars', 'booksuggestions', 'teenagers', 'Comebacks', 'therewasanattempt', 'maybemaybemaybe', 'nextfuckinglevel', 'meirl', 'funny', 'FunnyAnimals', 'mushroom', 'UFOs'}\n"
     ]
    },
    {
     "name": "stderr",
     "output_type": "stream",
     "text": [
      "Scraping user comments:   0%|          | 144/29911 [31:54<102:17:35, 12.37s/it]"
     ]
    },
    {
     "name": "stdout",
     "output_type": "stream",
     "text": [
      "Comments saved to /Users/smutnuri/Documents/UVA/_Projects/Fall24/CBM/CBMRepo/Data/usercomments/1barefootmaniac_usercomments.json\n",
      "{'audiobooks', 'ChildfreeFriendships', 'ParisTravelGuide', 'books', 'MeatlessMealPrep', 'childfree', 'ultraprocessedfood', 'slaythespire', 'TheGirlSurvivalGuide', 'HerOneBag', 'AskWomenOver30', 'Music', 'cats', 'booksuggestions', 'Madeira', 'finehair', 'boardgames', 'vegetarian', 'BritishTV', 'Hypothyroidism', '30PlusSkinCare', 'AmItheAsshole'}\n"
     ]
    },
    {
     "name": "stderr",
     "output_type": "stream",
     "text": [
      "Scraping user comments:   0%|          | 145/29911 [31:57<78:31:10,  9.50s/it] "
     ]
    },
    {
     "name": "stdout",
     "output_type": "stream",
     "text": [
      "Comments saved to /Users/smutnuri/Documents/UVA/_Projects/Fall24/CBM/CBMRepo/Data/usercomments/1catfan1_usercomments.json\n",
      "{'television', 'ask', 'Michigan', 'TwoHotTakes', 'AskOldPeople', 'Hobbies', 'landscaping', 'SocialSecurity', 'LittleFreeLibrary', 'BJsWholesaleClub', 'Millennials', 'kindle', 'Frugal', 'AskHR', 'Freestylelibre', 'Hernia', 'joannfabrics', 'AskReddit', 'badroommates', 'threebodyproblem', 'floorplan', 'olympics', 'crockpot', 'Parentification', 'popping', 'puppy101', 'hbo', 'ExteriorDesign', 'budget', 'Oscars', 'HomeDecorating', 'Fireplaces', 'DIY', 'SewingForBeginners', 'facebook', 'answers', 'AmItheAsshole', 'workfromhome', 'LandscapingTips', 'dancingwiththestars', 'FacebookMarketplace', 'DaveRamsey', 'CleaningTips', 'RealEstate', 'IKEA', 'PlantIdentification', 'corgi', 'podcasts', 'mealprep', 'suggestmeabook', 'lost', 'Jigsawpuzzles', 'Adulting', 'aldi', 'Home', 'TrueDetective', 'DunderMifflin', 'ecobee', 'TravelHacks', 'plants', 'mildlyinfuriating', 'sewing', 'ios', 'WFH', 'povertyfinance', 'EatCheapAndHealthy', 'Mattress', 'OfficeLadiesPodcast', 'AMA', 'myfavoritemurder', 'everwood', 'Incorgnito', 'everydollar', 'TrueCrimePodcasts', 'minnesota', 'tonsilstones', 'Dogtraining', 'bidets', 'FirstTimeHomeBuyer', 'piercing', 'work', 'explainlikeimfive', 'learnedleague', 'AskDocs', 'CasualConversation', 'homeowners', 'DoesAnybodyElse', 'quilting', 'arborists', 'HomeImprovement', 'books', 'NetflixBestOf', 'LivingAlone', 'Renters', 'tifu', 'LinkedInLunatics', 'Costco', 'jobs', 'Layoffs', 'EstatePlanning', 'stubhub', 'upcycling', 'hatemyjob', 'careerguidance', 'HayDay', 'GilmoreGirls', 'InteriorDesign', 'interiordecorating', 'Parenthood', 'DiscoveryID', 'DesignMyRoom', 'gardening', 'diabetes', 'Pets', 'CX5', 'whatisthisthing', 'LifeProTips', 'IdiotsInCars', 'MaintenancePhase', 'LibbyApp', 'NYTConnections', 'Christians', 'MiddleClassFinance', 'YouShouldKnow', 'Baking', 'RedditForGrownups', 'movies', 'thegildedage'}\n"
     ]
    },
    {
     "name": "stderr",
     "output_type": "stream",
     "text": [
      "Scraping user comments:   0%|          | 146/29911 [32:13<93:58:05, 11.37s/it]"
     ]
    },
    {
     "name": "stdout",
     "output_type": "stream",
     "text": [
      "Comments saved to /Users/smutnuri/Documents/UVA/_Projects/Fall24/CBM/CBMRepo/Data/usercomments/1cecream4breakfast_usercomments.json\n",
      "{'kinematografija', 'shittymobilegameads', 'Serbian', 'bookshelf', 'books', '52book', 'srbija', 'whatsthisworth', 'LoveDeathAndRobots', 'OldSchoolCool', 'horrorlit', 'Unexpected', 'suggestmeabook', 'StudentiSrbija', 'Belgrade', 'citaonica', 'AskSerbia', 'Cosmere', 'HouseMD', 'maybemaybemaybe', '40kLore', 'serbia', 'Stormlight_Archive', 'AskEurope', 'Medals', 'currentlyreading', 'srpska', 'Fantasy', 'pravnisaveti'}\n"
     ]
    },
    {
     "name": "stderr",
     "output_type": "stream",
     "text": [
      "Scraping user comments:   0%|          | 147/29911 [32:20<84:32:53, 10.23s/it]"
     ]
    },
    {
     "name": "stdout",
     "output_type": "stream",
     "text": [
      "Comments saved to /Users/smutnuri/Documents/UVA/_Projects/Fall24/CBM/CBMRepo/Data/usercomments/1d4_fire_damage_usercomments.json\n",
      "{'ask', 'SipsTea', 'TwoHotTakes', 'NoahGetTheBoat', 'writing', 'redditonwiki', 'mildlyinteresting', 'Showerthoughts', 'TwoSentenceHorror', 'technology', 'oddlyterrifying', 'Funnymemes', 'Millennials', 'me_irl', 'TheLastAirbender', 'meme', 'iamatotalpieceofshit', 'AskReddit', 'Cooking', 'AITA_WIBTA_PUBLIC', 'humansarespaceorcs', 'gifs', 'DCcomics', 'Staples', 'loseit', 'MurderedByWords', 'notinteresting', 'goblincore', 'BridgertonNetflix', 'BobsBurgers', 'bulletjournal', 'moviecritic', 'terriblefacebookmemes', 'comics', 'bestof', 'AskTeachers', 'antiwork', 'UnethicalLifeProTips', 'Animemes', 'SelfAwarewolves', 'relationship_advice', '2meirl4meirl', 'AskUK', 'IdiotsFightingThings', 'unpopularopinion', 'science', 'KidsAreFuckingStupid', 'marvelstudios', 'PetPeeves', 'AmItheAsshole', 'shittymoviedetails', 'mildyinfuriating', 'economy', 'memes', 'Damnthatsinteresting', 'The10thDentist', 'Futurology', 'dating_advice', 'millenials', 'ShitAmericansSay', 'AskMen', 'me_irlgbt', 'AdultHood', 'OrphanCrushingMachine', 'suspiciouslyspecific', 'misfitstv', 'RandomThoughts', 'insaneparents', 'hypotheticalsituation', 'wholesomememes', 'DebtStrike', 'ENGLISH', 'aww', 'HydroHomies', 'MapPorn', 'popculturechat', 'technicallythetruth', 'BORUpdates', 'AITAH', 'CraigOfTheCreek', 'news', 'Unexpected', 'AnimalsBeingJerks', 'AskBiology', 'TwoXChromosomes', 'Adulting', 'Music', 'whenthe', 'Money', 'kindergarten', 'WhitePeopleTwitter', 'dataisbeautiful', 'coolguides', 'tumblr', 'Coronavirus', 'MakeMeSuffer', 'mildlyinfuriating', 'Marvel', 'Advice', 'florida', 'povertyfinance', 'pics', 'facepalm', 'Satisfyingasfuck', 'EatCheapAndHealthy', 'TheRightCantMeme', 'oddlysatisfying', 'NoStupidQuestions', 'worldnews', 'LeopardsAteMyFace', 'cursedcomments', 'InsaneVideo', 'BoomersBeingFools', 'greentext', 'AMA', 'justneckbeardthings', 'oddlyspecific', 'missouri', 'WinStupidPrizes', 'cottagecore', 'awfuleverything', 'creepyPMs', 'BestofRedditorUpdates', 'Tinder', 'space', 'idiocracy', 'OldSchoolCool', 'Breadit', 'thatHappened', 'politics', 'BrandNewSentence', 'BeAmazed', 'shittyfoodporn', 'anime', 'AnimalsBeingMoms', 'chaoticgood', 'cats', 'anime_irl', 'confidentlyincorrect', 'WitchesVsPatriarchy', 'interestingasfuck', 'AdviceForTeens', 'explainlikeimfive', 'TerrifyingAsFuck', 'NonPoliticalTwitter', 'Bossfight', 'TooAfraidToAsk', 'niceguys', 'NatureIsFuckingLit', 'CrazyIdeas', 'FunnyAtheistMemes', 'CatsAreAssholes', 'MissouriPolitics', 'CuratedTumblr', 'books', 'NetflixBestOf', 'TikTokCringe', 'tifu', 'TheWayWeWere', 'Fauxmoi', 'NotHowGirlsWork', 'clevercomebacks', 'beards', 'AdviceAnimals', 'marvelmemes', 'MadeMeSmile', 'dankmemes', 'nottheonion', 'ImaginarySliceOfLife', 'ChoosingBeggars', 'todayilearned', 'shitposting', 'HolUp', 'TrueOffMyChest', 'Animesuggest', 'TheNinthHouse', 'entertainment', 'adhdmeme', 'BlackPeopleTwitter', 'FuckYouKaren', 'JusticeServed', 'LifeProTips', 'confessions', 'therewasanattempt', 'funnyvideos', 'maybemaybemaybe', 'IAmA', 'adhdwomen', 'sadcringe', 'Teachers', 'meirl', 'PublicFreakout', 'BabyBumps', 'funny', 'stevenuniverse', 'Economics', 'YouShouldKnow', 'movies', 'GenZ'}\n"
     ]
    },
    {
     "name": "stderr",
     "output_type": "stream",
     "text": [
      "Scraping user comments:   0%|          | 148/29911 [32:36<98:17:25, 11.89s/it]"
     ]
    },
    {
     "name": "stdout",
     "output_type": "stream",
     "text": [
      "Comments saved to /Users/smutnuri/Documents/UVA/_Projects/Fall24/CBM/CBMRepo/Data/usercomments/1drlndDormie_usercomments.json\n",
      "{'starwarsmemes', 'videos', 'Seaofthieves', 'Showerthoughts', 'scifi', 'technology', 'Xennials', 'Warhammer40k', 'Millennials', 'functionalprint', 'Frugal', 'ForgottenTV', 'meme', 'Heroquest', 'opensea', 'AskReddit', 'fruit', 'punk', 'lordoftherings', 'WTF', 'gifs', 'NFTsMarketplace', 'antiwork', 'TLRY', 'Punk_Rock', 'DiWHY', 'unexpectedoffice', 'SteamDeck', 'AnimalTracking', 'KidsAreFuckingStupid', 'Nicegirls', 'ExplainTheJoke', 'ender3', 'Superstonk', 'Butchery', 'PeterExplainsTheJoke', 'trains', 'startrekmemes', 'memes', 'CleaningTips', 'Damnthatsinteresting', 'DungeonsAndDragons', 'TattooDesigns', 'OTMemes', 'Memes_Of_The_Dank', 'whatisthisbug', 'DRZ400', 'misleadingthumbnails', 'travisandtaylor', 'wholesomememes', 'BBQ', 'lotrmemes', 'aww', 'DeepRockGalactic', 'Jokes', 'Unexpected', 'NMSCoordinateExchange', 'news', 'PhasmophobiaGame', 'drywall', 'BitchImATrain', 'trashpandas', 'Helldivers', 'Home', '3Dprinting', 'NoMansSkyTheGame', 'Music', 'spaceporn', 'DunderMifflin', 'comedyhomicide', 'DestinyTheGame', 'WhitePeopleTwitter', 'tumblr', 'missoula', 'mildlyinfuriating', 'lotr', 'startrekgifs', 'facepalm', 'pics', 'Satisfyingasfuck', 'StarWars', 'EatCheapAndHealthy', 'gaming', 'Tools', 'worldnews', 'BoomersBeingFools', 'RVLiving', 'shittytattoos', 'AMA', 'vandwellers', 'StockMarket', 'StupidFood', 'minipainting', 'wallstreetbets', 'agedlikemilk', 'railroading', 'union', 'BaldursGate3', 'tattoos', 'AbsoluteUnits', 'reactiongifs', 'Wellthatsucks', 'politics', 'AnythingGoesNews', 'IASIP', 'Train_Service', 'shittyfoodporn', 'awesome', 'Starfield', 'CombatFootage', 'cats', 'Eyebleach', 'StrangeAndFunny', 'Leatherman', 'ITcrowd', 'interestingasfuck', 'Fallout', 'EliteDangerous', 'redneckengineering', 'amcstock', 'SweatyPalms', 'starcitizen', 'Dualsport', 'absolutelynotme_irl', 'tattooadvice', 'pcmasterrace', 'amiugly', 'depressionmemes', 'Divorce', 'CatsAreAssholes', 'PoliticalHumor', 'comedyheaven', 'Construction', 'geek', 'books', 'Truckers', 'whitepeoplegifs', 'TikTokCringe', 'TheMajorityReport', 'Costco', 'clevercomebacks', 'Stargate', 'JoeRogan', 'coins', 'AdviceAnimals', 'MadeMeSmile', 'nottheonion', 'HistoryMemes', 'todayilearned', 'underratedmovies', 'shitposting', '80smovies', 'AnimalsBeingFunny', 'entertainment', 'adhdmeme', 'therewasanattempt', 'maybemaybemaybe', 'Hunting', 'food', 'DungeonCrawlerCarl', 'airfryer', 'StardewValley', 'PublicFreakout', 'meirl', 'funny', 'ContagiousLaughter', 'FunnyAnimals', 'Economics', 'TNG', 'castiron', 'movies', 'videogames', 'sex'}\n"
     ]
    },
    {
     "name": "stderr",
     "output_type": "stream",
     "text": [
      "Scraping user comments:   0%|          | 149/29911 [32:51<105:27:18, 12.76s/it]"
     ]
    },
    {
     "name": "stdout",
     "output_type": "stream",
     "text": [
      "Comments saved to /Users/smutnuri/Documents/UVA/_Projects/Fall24/CBM/CBMRepo/Data/usercomments/1esserknown_usercomments.json\n",
      "{'ask', 'chelseafc', 'Entomology', 'emergencyintercom', 'minimalism', 'AskNYC', 'writing', 'rarebooks', 'worldnews', 'mildlyinteresting', 'women', 'Damnthatsinteresting', 'VintageWatches', 'whatisthiscar', 'etymology', 'soccer', 'books', 'learndutch', 'ArtHistory', 'Citibike', 'RSbookclub', 'Rockland', 'TheWayWeWere', 'literature', 'shortstory', 'bicycling', 'skyscrapers', 'MicromobilityNYC', 'philosophy', 'Frugal', 'hiphopheads', 'HumansBeingBros', 'NYCbike', 'bikecommuting', 'whiskey', 'whichbike', 'OCPoetry', 'geography', 'AskReddit', 'space', 'OldSchoolCool', 'MadeMeSmile', 'WritersGroup', 'Netherlands', 'Documentaries', 'sadboys', 'suggestmeabook', 'MarkMyWords', 'celebsnaked', 'VintageBabes', 'Austin', 'Daytrading', 'Handwriting', 'ArtefactPorn', 'Conservative', 'Jitcoin_Official', 'nextfuckinglevel', 'antiwork', 'interestingasfuck', 'vgb', 'learn_arabic', 'Libraries', 'PublicFreakout', 'serbia', 'nycrail', 'dragonutopia', 'cycling', 'productivity', 'Eredivisie', 'liluzivert', 'movies', 'Lost_Architecture', 'NatureIsFuckingLit'}\n"
     ]
    },
    {
     "name": "stderr",
     "output_type": "stream",
     "text": [
      "Scraping user comments:   1%|          | 150/29911 [32:56<86:30:13, 10.46s/it] "
     ]
    },
    {
     "name": "stdout",
     "output_type": "stream",
     "text": [
      "Comments saved to /Users/smutnuri/Documents/UVA/_Projects/Fall24/CBM/CBMRepo/Data/usercomments/1fateisinexorable1_usercomments.json\n",
      "{'ask', 'Spanish', 'Health', 'French', 'AmITheKaren', 'FIREyFemmes', 'Showerthoughts', 'Denver', 'ChloeTing', 'Funnymemes', 'lawofattraction', 'therapists', 'HumansBeingBros', 'penmanship', 'TimWalz', 'AskReddit', 'badroommates', 'xxfitness', 'DogsAndPlants', 'runninglifestyle', 'gifs', 'TakeaPlantLeaveaPlant', 'kittengifs', 'pagan', 'uksucculents', 'BasicBulletJournals', 'pottedcats', 'UnethicalLifeProTips', 'MAGANAZI', 'Perimenopause', 'relationship_advice', 'Anki', 'UkrainianConflict', 'DiWHY', 'LoveOnTheSpectrumShow', 'fountainpens', 'BedBros', 'yoga', 'Bedbugs', 'ChurchOfCat', 'bengalcats', 'GeorgeFloydRevolution', 'AmItheAsshole', 'internetparents', 'DaveRamsey', 'PerfectMatchNetflix', 'sheep', 'AustralianShepherd', 'GenX', 'LongDistance', 'dating_advice', 'dostoevsky', 'ZeroWaste', 'AskMen', 'curlyhair', 'SupermodelCats', 'insaneparents', 'moonstones', 'UlcerativeColitis', 'WomensHealth', 'succulents', 'CatAdvice', 'aww', 'CatsCalledFood', 'MealPrepSunday', 'Pen_Swap', 'suggestmeabook', 'legalcatadvice', 'TwoXChromosomes', 'Meditation', 'estoration', 'CatsEnjoyingPets', 'Handwriting', 'YUROP', 'Presidents', 'lgbt', 'PenmanshipPorn', 'witchyaesthetic', 'WhitePeopleTwitter', 'malelivingspace', 'coolguides', 'tumblr', 'Coronavirus', 'dating', 'plantclinic', 'Advice', 'pics', 'EatCheapAndHealthy', 'Bad_Cop_No_Donut', 'NoStupidQuestions', 'CuteButHorrifying', 'JordanPeterson', 'CatsStandingUp', 'intermittentfasting', 'awfuleverything', 'cat', 'agedlikemilk', 'Tinder', 'stopdrinking', 'FriendsofthePod', 'OldSchoolCool', 'youseeingthisshit', 'selfemployed', 'Ornithology', 'BrandNewSentence', 'politics', 'BorderCollie', 'knitting', 'teefies', 'assholedesign', 'Colorado', 'askatherapist', 'AnimalsBeingMoms', 'mentalhealth', 'cats', 'matureplants', 'WitchesVsPatriarchy', 'interestingasfuck', 'NewTubers', 'boopablenosies', 'ADHD', 'lifehacks', 'WriteStreak', 'personalfinance', 'smallbusiness', 'Fire', 'CasualConversation', 'NatureIsFuckingCute', 'femalelivingspace', 'toastme', 'angrycatpics', 'randomactsofmusic', 'PoliticalHumor', 'Justfuckmyshitup', 'leanfire', 'financialindependence', 'books', 'languagelearning', 'tifu', 'doctorswithoutborders', 'learnfrench', 'FrenchImmersion', 'AnarchyChess', 'fitbod', 'trailrunning', 'Mid_Century', 'MadeMeSmile', 'changemyview', 'running', 'ihadastroke', 'todayilearned', 'rarepuppers', 'polyglot', 'Pets', 'whatisthisthing', 'LifeProTips', 'shingles', 'NewToEMS', 'teenagers', 'Botchedsurgeries', 'food', 'meirl', 'FinancialPlanning', 'Concussion', 'progresspics'}\n"
     ]
    },
    {
     "name": "stderr",
     "output_type": "stream",
     "text": [
      "Scraping user comments:   1%|          | 151/29911 [33:08<88:56:39, 10.76s/it]"
     ]
    },
    {
     "name": "stdout",
     "output_type": "stream",
     "text": [
      "Comments saved to /Users/smutnuri/Documents/UVA/_Projects/Fall24/CBM/CBMRepo/Data/usercomments/1globehugger_usercomments.json\n",
      "{'HomeServer', 'samsunggalaxy', 'videos', 'networking', 'pizzaoven', 'landscaping', 'mildlyinteresting', 'PittsburghPorn', 'technology', 'coupons', 'revancedapp', 'relationships', 'oddlyterrifying', 'RelayForReddit', 'functionalprint', 'raspberry_pi', 'ExpectationVsReality', 'RDR2', 'PleX', 'AskReddit', 'CitiesSkylines', 'nodered', 'zwave', 'Dewalt', 'BuyItForLife', 'WTF', 'fitmeals', 'Hydroponics', 'googlehome', 'CatastrophicFailure', 'bestof', 'BeginnerWoodWorking', 'CyberARk', 'homeautomation', 'OpenAI', 'texts', 'science', 'firetvstick', 'DIY', 'Pennsylvania', 'Whatcouldgowrong', 'sysadmin', 'trackers', 'SideProject', 'pittsburgh', 'AmItheAsshole', 'cissp', 'msp', 'lawncare', 'unRAID', 'linux4noobs', 'cringe', 'homeassistant', 'ITManagers', 'dayz', 'synology', 'Save3rdPartyApps', 'quityourbullshit', 'lifehack', 'webos', 'sleep', 'smarthome', 'LawFirm', 'Android', 'sonarr', 'M1Finance', 'aww', 'learnpython', 'popculturechat', 'nordictrack', 'plexamp', 'DataHoarder', 'holdmybeer', 'immich', 'blackfriday', 'selfhosted', 'MechanicAdvice', 'OpenMediaVault', 'electricians', 'PowerShell', 'Bitwarden', 'Esphome', 'artificial', 'learnmachinelearning', 'dataisbeautiful', 'paloaltonetworks', 'Lenovo', 'tumblr', 'Office365', 'WatchPeopleDieInside', 'oddlysatisfying', 'pics', 'google', 'ChatGPTPro', 'confusing_perspective', 'Tools', 'gaming', 'worldnews', 'Erie', 'educationalgifs', 'neoliberal', 'Grass', 'GalaxyWatch', 'MicrosoftTeams', 'projectzomboid', 'investing', 'generativeAI', 'Prematurecelebration', 'gadgets', 'Parenting', 'nonononoyes', 'tasker', 'flightsim', 'Wellthatsucks', 'Roborock', 'OldPhotosInRealLife', 'jameswebb', 'AskNetsec', 'interestingasfuck', 'pettyrevenge', 'EufyCam', 'explainlikeimfive', 'Roadcam', 'gifsthatkeepongiving', 'ThatLookedExpensive', 'IndoorGarden', 'anker', 'homeowners', 'BikiniBottomTwitter', 'trashy', 'grilling', 'hometheater', 'arborists', 'HomeImprovement', 'financialindependence', 'books', 'HomeNetworking', 'qBittorrent', 'tifu', 'Dashcam', 'programming', 'Windows10', 'CrackWatch', 'AdviceAnimals', 'MadeMeSmile', 'Piracy', 'tonightsdinner', 'smallengines', 'woodworking', 'ItalianFood', 'coolgithubprojects', 'running', 'todayilearned', 'instant_regret', 'TrueOffMyChest', 'MachineLearning', 'KerbalSpaceProgram', 'homelab', 'palletfurniture', 'nextfuckinglevel', 'food', 'CIO', 'IAmA', 'PublicFreakout', 'meirl', 'CavaPoo', 'ChatGPT', 'ContagiousLaughter', 'whatcouldgoright', 'YouShouldKnow', 'Bogleheads', 'movies', 'JusticePorn', 'AndroidTV', 'LocalLLaMA', 'wyzecam'}\n"
     ]
    },
    {
     "name": "stderr",
     "output_type": "stream",
     "text": [
      "Scraping user comments:   1%|          | 152/29911 [33:38<137:51:05, 16.68s/it]"
     ]
    },
    {
     "name": "stdout",
     "output_type": "stream",
     "text": [
      "Comments saved to /Users/smutnuri/Documents/UVA/_Projects/Fall24/CBM/CBMRepo/Data/usercomments/1h8fulkat_usercomments.json\n",
      "{'mississippi', 'AgathaAllAlong', 'AskOldPeople', 'mildlyinteresting', 'rant', 'Cirkul', 'DogAdvice', 'Millennials', 'AskPhotography', 'FridgeDetective', 'FluentInFinance', 'uglyduckling', 'zillowgonewild', 'AskReddit', '13or30', 'AITA_WIBTA_PUBLIC', 'fruit', 'trueratediscussions', 'blackmagicfuckery', 'Catswithjobs', 'Zillennials', 'MurderedByWords', 'puppy101', 'notinteresting', 'Anticonsumption', 'moviecritic', 'Wellworn', 'UnethicalLifeProTips', 'AskTeachers', 'teaching', 'publix', 'WeWantPlates', 'DiWHY', 'unpopularopinion', 'HomeDecorating', 'Nicegirls', 'TrueChristian', 'ChickFilA', 'BorderlinePDisorder', 'LiminalSpace', 'shittymoviedetails', 'HandwritingAnalysis', 'badfoodporn', 'Manipulation', 'Dominos', 'spreadsmile', 'CleaningTips', 'petfree', 'Damnthatsinteresting', 'okbuddycinephile', 'midlyinteresting', 'Catownerhacks', 'Why', 'MildlyBadDrivers', 'RandomThoughts', 'bipolar', 'hypotheticalsituation', 'EatItYouFuckinCoward', 'HydroHomies', 'DrPepper', 'AITAH', 'Unexpected', 'CATHELP', 'Kayaking', 'Productivitycafe', 'adhd_college', 'Handwriting', 'harrypotter', 'spaceporn', 'u_SamsungMobileUS', 'fakedisordercringe', 'SnapshotHistory', 'hygiene', 'school', 'AllThatIsInteresting', 'popheadscirclejerk', 'mildlyinfuriating', 'Narcolepsy', 'HistoricalCapsule', 'Advice', 'florida', 'oddlysatisfying', 'pics', 'facepalm', 'duolingospanish', 'Satisfyingasfuck', 'icecream', 'RandomQuestion', 'Yamahaebikes', 'AMA', 'amazonprime', 'TrueChristianity', 'repost', 'GrandmasPantry', 'StupidFood', 'theydidthemath', 'MoldlyInteresting', 'litterrobot', 'OldSchoolCool', 'SubstituteTeachers', 'interesting', 'woahthatsinteresting', 'nostalgia', 'Wellthatsucks', 'yamahanobattery', 'centuryhomes', 'BeAmazed', 'canadian', '23andme', 'FirstTimeHomeBuyer', 'BPDmemes', 'poodles', 'cats', 'interestingasfuck', 'HogwartsLegacyGaming', 'explainlikeimfive', 'CasualConversation', 'homeowners', 'interviews', 'OneOrangeBraincell', 'mathteachers', 'trashy', '2000sNostalgia', 'pens', 'opticalillusions', 'AbruptChaos', 'hebrew', 'AnimalsBeingBros', 'books', 'AmIOverreacting', 'TeachersInTransition', 'decadeology', 'TravelMaps', 'TheWayWeWere', 'OlderGenZ', 'Milk', 'GetNoted', 'Costco', 'clevercomebacks', 'iphone', 'Appliances', 'marinebiology', 'MadeMeSmile', 'nottheonion', 'offmychest', 'mildyinteresting', 'todayilearned', 'CampingGear', 'thalassophobia', 'AskAnAmerican', 'shittysuperpowers', 'SonicDriveIn', 'pencils', 'ebikes', 'insanepeoplefacebook', 'snacking', 'LifeProTips', 'InterestingToRead', 'maybemaybemaybe', 'nextfuckinglevel', 'AskMeAnythingIAnswer', 'boba', 'sadcringe', 'biology', 'OkCupid', 'DisneyChannel', 'YouShouldKnow', 'movies', 'GenZ', 'HistoryPorn'}\n"
     ]
    },
    {
     "name": "stderr",
     "output_type": "stream",
     "text": [
      "Scraping user comments:   1%|          | 153/29911 [33:55<139:20:26, 16.86s/it]"
     ]
    },
    {
     "name": "stdout",
     "output_type": "stream",
     "text": [
      "Comments saved to /Users/smutnuri/Documents/UVA/_Projects/Fall24/CBM/CBMRepo/Data/usercomments/1heart1totaleclipse_usercomments.json\n",
      "{'DoesAnybodyElse', 'facepalm', 'trashy', 'bruindating', 'NoStupidQuestions', 'writing', 'PointlessStories', 'raisedbynarcissists', 'ATBGE', 'The10thDentist', 'TwoSentenceHorror', 'books', 'BlingEmpire', 'thesims', 'rant', 'Showerthoughts', 'Biochemistry', 'AskMen', 'humblebrag', 'YoungSheldon', 'ucla', 'Instagramreality', 'needadvice', 'thanksimcured', 'MaladaptiveDreaming', 'Mcat', 'AskWomen', 'AskReddit', 'mangaswap', 'firstworldproblems', 'Unexpected', 'blackmagicfuckery', 'suggestmeabook', 'HolUp', 'TrueOffMyChest', 'CharacterRant', 'notinteresting', 'labrats', 'anime', 'nosleep', 'BlingDubai', '90DayFiance', 'explainlikeimfive', 'funny', 'unpopularopinion', 'confession', 'Needafriend', 'CasualConversation', 'Sims3', 'Parenting', 'Writeresearch', 'Fantasy', 'TheBoys'}\n"
     ]
    },
    {
     "name": "stderr",
     "output_type": "stream",
     "text": [
      "Scraping user comments:   1%|          | 154/29911 [34:00<108:45:50, 13.16s/it]"
     ]
    },
    {
     "name": "stdout",
     "output_type": "stream",
     "text": [
      "Comments saved to /Users/smutnuri/Documents/UVA/_Projects/Fall24/CBM/CBMRepo/Data/usercomments/1hunnybunny7_usercomments.json\n",
      "{'Weird', 'ask', 'mildlyinteresting', 'ThriftStoreHauls', 'houstonwade', 'Letterboxd', 'Denver', 'technology', 'graycats', 'spotify', 'horror', 'COents', 'AskReddit', 'punk', 'badMovies', 'moviecritic', 'boutiquebluray', 'VinegarSyndromeFilms', 'antiwork', 'TrueFilm', 'Bumperstickers', 'science', 'rock', 'KISS', 'Bass', 'memes', 'singing', 'GenX', 'HorrorMovies', 'democrats', 'karaoke', 'steak', 'SupermodelCats', 'A24', 'FacebookScience', 'WeirdWheels', 'cars', 'cigar', 'BassGuitar', 'blackcats', 'Music', 'AmazonPrimeVideo', 'BassCirclejerk', 'Ohio', 'WhitePeopleTwitter', 'missoula', 'mildlyinfuriating', 'HistoricalCapsule', 'ATBGE', 'writingcirclejerk', 'burgers', 'whatisthiscar', 'AskMechanics', 'glassheads', 'minnesota', 'legaladvicecanada', 'Wellthatsucks', 'CannabisExtracts', 'politics', 'shittyfoodporn', 'Colorado', 'cats', 'electrical', 'CyberStuck', 'UtterlyUniquePhotos', 'DenverCirclejerk', 'PoliticalHumor', 'hash', 'books', 'vintageads', 'LinkedInLunatics', 'AskAShittyMechanic', 'sciencememes', 'denverfood', 'JoeRogan', 'AmerExit', 'MadeMeSmile', 'FoundPaper', 'PizzaCrimes', 'weed', 'chicago', 'criterion', 'Cheese', 'whatcarshouldIbuy', 'movies', 'orangecats', 'okbuddyvicodin', 'Spokane'}\n"
     ]
    },
    {
     "name": "stderr",
     "output_type": "stream",
     "text": [
      "Scraping user comments:   1%|          | 155/29911 [34:08<96:36:36, 11.69s/it] "
     ]
    },
    {
     "name": "stdout",
     "output_type": "stream",
     "text": [
      "Comments saved to /Users/smutnuri/Documents/UVA/_Projects/Fall24/CBM/CBMRepo/Data/usercomments/1leg_Wonder_usercomments.json\n",
      "{'television', 'mildlyinteresting', 'Connecticut', 'Showerthoughts', 'soccer', 'sports', 'economicCollapse', 'self', 'Millennials', 'HENRYUK', 'Anthropology', 'boston', 'FluentInFinance', 'redsox', 'Infrastructurist', 'AskReddit', 'geography', 'Accounting', 'blowback', 'olympics', 'GenZ', 'China', 'ukpolitics', 'nova', 'antiwork', 'unpopularopinion', 'science', 'UpliftingNews', 'HistoryWhatIf', 'shittymoviedetails', 'Atlanta', 'economy', 'AskHistory', 'Futurology', 'Rich', 'TropicalWeather', 'newengland', 'TIL_Uncensored', 'RandomThoughts', 'Salary', 'Rochester', 'hypotheticalsituation', 'AskSocialScience', 'MapPorn', 'climatechange', 'ireland', 'texas', 'NewOrleans', 'Askpolitics', 'nba', 'HENRYfinance', 'Adulting', 'iamveryculinary', 'baseball', 'wisconsin', 'StLouis', 'Presidents', 'icecoast', 'Music', 'PWHL', 'Insurance', 'urbanplanning', 'LandlordLove', 'AskFeminists', 'TravelHacks', 'kansas', 'dataisbeautiful', 'AskEurope', 'Suburbanhell', 'nfl', 'mbta', 'BostonBruins', 'bostonceltics', 'pics', 'massachusetts', 'unusual_whales', 'canada', 'NoStupidQuestions', 'worldnews', 'Georgia', 'NoShitSherlock', 'newenglandrevolution', 'Thedaily', 'MLS', 'OptimistsUnite', 'PORTUGALCYKABLYAT', 'atheism', 'politics', 'vermont', 'BrandNewSentence', 'Foodforthought', 'MURICA', 'philly', 'sanfrancisco', 'canadian', 'SameGrassButGreener', 'TrueReddit', 'newhampshire', 'IsItBullshit', 'PrepperIntel', 'EconomyCharts', 'explainlikeimfive', 'energy', 'Marxism', 'LetsTalkMusic', 'vexillology', 'imaginarymapscj', 'restaurant', 'climate', 'books', 'Entrepreneur', 'REBubble', 'Urbanism', 'Fauxmoi', 'clevercomebacks', 'stupidquestions', 'Layoffs', 'skeptic', 'cscareerquestions', 'Infographics', 'changemyview', 'nottheonion', 'AskEconomics', 'Cleveland', 'AskHistorians', 'mildyinteresting', 'SeriousConversation', 'chicago', 'todayilearned', 'AskAnAmerican', 'transit', 'entertainment', 'collegehockey', 'PropagandaPosters', 'philadelphia', 'skiing', 'Economics', 'MiddleClassFinance', 'RedditForGrownups', 'YouShouldKnow', 'hockey', 'stocks'}\n"
     ]
    },
    {
     "name": "stderr",
     "output_type": "stream",
     "text": [
      "Scraping user comments:   1%|          | 156/29911 [34:29<119:35:40, 14.47s/it]"
     ]
    },
    {
     "name": "stdout",
     "output_type": "stream",
     "text": [
      "Comments saved to /Users/smutnuri/Documents/UVA/_Projects/Fall24/CBM/CBMRepo/Data/usercomments/1maco_usercomments.json\n",
      "{'facepalm', 'NoStupidQuestions', 'books', 'millenials', 'Qult_Headquarters', 'expats', 'AmIOverreacting', 'nytimes', 'Natalism', 'namenerds', 'skeptic', 'iphone', 'upstate_new_york', 'Liberal', 'BeauOfTheFifthColumn', 'FriendsofthePod', 'atheism', 'AITAH', 'news', 'suggestmeabook', 'Askpolitics', 'MarkMyWords', 'the_everything_bubble', 'traumatizeThemBack', 'WomenInNews', 'inthenews', 'tragedeigh', 'QAnonCasualties', 'NewsOfTheStupid', 'AskAnAustralian', 'Defeat_Project_2025', 'Teachers', 'Blind', 'CasualConversation', 'WeightLossAdvice', 'mildlyinfuriating', 'NPR', 'PetPeeves', 'AmItheAsshole'}\n"
     ]
    },
    {
     "name": "stderr",
     "output_type": "stream",
     "text": [
      "Scraping user comments:   1%|          | 157/29911 [34:34<96:53:09, 11.72s/it] "
     ]
    },
    {
     "name": "stdout",
     "output_type": "stream",
     "text": [
      "Comments saved to /Users/smutnuri/Documents/UVA/_Projects/Fall24/CBM/CBMRepo/Data/usercomments/1makbay1_usercomments.json\n",
      "{'television', 'FireFriends', 'ReasonableFantasy', 'nope', 'Letterboxd', 'houseplants', 'AwesomeOffBrands', 'ExpectationVsReality', 'IndianMakeupAddicts', 'zillowgonewild', 'wunkus', 'Cooking', 'AskWomen', 'SexPositive', 'fiberartscirclejerk', 'SympatheticMonsters', 'TwoXIndia', 'MediocreVeganFoodPorn', 'standardissuecat', 'NonBinary', 'JustNotRight', 'reverseanimalrescue', 'PepTalksWithPops', 'VintageLadyBoners', 'THE_PACK', 'muacirclejerk', 'shittymoviedetails', 'ProCreate', 'bangalore', 'ShitMomGroupsSay', 'MedievalCats', 'IndianFoodPhotos', 'SupermodelCats', 'Rarethreats', 'CatsNamedAfterFoods', 'comicstriphistory', 'antifastonetoss', 'CrossStitch', 'crappyoffbrands', 'moviescirclejerk', 'fakedisordercringe', 'ClassicDesiCelebs', 'AreTheCisOk', 'brushybrushy', 'confusing_perspective', 'whatthefrockk', 'fashionhistory', 'somnivexillology', 'feemagers', 'cottagecore', 'FragileMaleRedditor', 'Antiques', 'knitting', 'teefies', 'PixelArt', 'malepolish', 'stupidtattoos', 'thumbcats', 'WitchesVsPatriarchy', 'BadReads', 'UrbanHell', 'GatekeepingYaoi', 'SatisfIcing', 'CasualConversation', 'boomershumor', 'blunderyears', 'BollyBlindsNGossip', 'CatsAreAssholes', 'PointlessStories', 'tinyorangekittens', 'TwoXIndia_Over25', 'vintageads', 'gatesopencomeonin', 'fuckalegriaart', 'LinkedInLunatics', 'AmITheAngel', 'CryptidDogs', 'indieplushies', 'frogandtoadmemes', 'Pareidolia', 'FoundPaper', 'tonightsdinner', 'ReallyShittyCopper', 'ImaginarySliceOfLife', 'horrorlit', 'todayilearned', 'thalassophobia', 'blairdaniels', 'BigCatGifs', 'WhatIsThisPainting', 'Animal_Sanctuary', 'movies', 'starterpacks', 'maximalism', 'AskFoodHistorians', 'oddlyterrifying', 'oddlyspecificshirts', 'TerribleBookCovers', 'Unravelers', 'FragileWhiteRedditor', 'whatismycookiecutter', 'Wellworn', 'Borb', 'IndianFood', 'CatsAndPlants', 'okbuddycinephile', 'TattooDesigns', 'ididnthaveeggs', 'hellsomememes', 'popculturechat', 'MealPrepSunday', 'iamveryculinary', 'Dumplings', 'NelliesNest', 'shortscarystories', 'herbalism', 'TumblrDraws', 'ToiletPaperUSA', 'mildlyinfuriating', 'romancelandia', 'GhostsBBC', 'ATBGE', 'pics', 'McMansionHell', 'cakedecorating', 'TargetedShirts', 'scrungycats', 'aaaaaaacccccccce', 'oddlyspecific', 'BestofRedditorUpdates', 'bonehealingjuice', 'menwritingwomen', 'TipOfMyFork', 'OldSchoolCool', 'Midsommar', 'UK_Food', 'creepyasterisks', 'HobbyTales', 'LGBTindia', 'cats', 'mildlyvagina', 'streetwear', 'blmangalovers', 'BoneAppleTea', 'stupiddovenests', 'mapmaking', 'terriblefandommemes', 'CuratedTumblr', 'IndiansRead', 'Boomerhumour', 'egg_irl', 'CrochetHelp', 'NotHowGirlsWork', 'clevercomebacks', 'DadForAMinute', 'nottheonion', 'woodworking', 'Tonedeafcelebs', 'PropagandaPosters', 'grandpajoehate', 'gatekeeping', 'wizardposting', 'imaginarygatekeeping', 'Miniworlds', 'ThriftStoreHauls', 'mendrawingwomen', 'lossofalovedone', 'rabbitswithjobs', 'self', 'likeus', 'NameNerdCirclejerk', 'AskReddit', 'forbiddensnacks', 'shittyaskscience', 'AccidentalAlly', 'FundieSnarkUncensored', 'LookaLikeys', 'NoLawns', 'ParentsAreFuckingDumb', 'scarystories', 'sticknpokes', 'ExpandDong', 'goblincore', 'trippinthroughtime', 'drawing', 'VintagePaperbacks', 'somethingimade', 'CatsWhoSqueak', 'comicbooks', 'pointlesslygendered', 'internetparents', 'The10thDentist', 'Brochet', 'ZeroWaste', 'inspirobot', 'me_irlgbt', 'RainbowBridgeBabies', 'DemetriStrikesAgain', 'hospitalfood', 'GaYarn', 'oldhagfashion', 'Awww', 'YarnAddicts', 'aww', 'DerryGirls', 'InstaCelebsGossip', 'aestheticrain', 'mealprep', 'Frugal_Jerk', 'TwoXChromosomes', 'FancyFeet', 'shitduolingosays', 'Pizza', 'Dimension20', 'tumblr', 'miniatures', 'WritingPrompts', 'popheadscirclejerk', 'RomanceBooks', 'TrollXChromosomes', 'SapphoAndHerFriend', 'HobbyDrama', 'AskIndia', '1200isjerky', 'Tailors', 'Embroidery', 'MoldlyInteresting', 'Visiblemending', 'painting', 'lgbtmemes', 'gothmakeup', 'interestingasfuck', 'TsundereSharks', 'confession', 'tipofmytongue', 'TooAfraidToAsk', 'SweatyPalms', 'Kitler', 'StainedGlass', 'PlusSize', 'ShittyVeganFoodPorn', 'dontyouknowwhoiam', 'vultureculture', 'BlatantMisogyny', 'Fauxmoi', 'HombreNombre', 'Cyberpunk', 'MonorailCats', 'CatsBeingCats', 'Art', 'Hair', 'booksuggestions', 'okbuddyrosalyn', 'ImaginaryAww', 'Adorablecreature', 'crafts', 'PunchNeedle', 'drivemp4', 'bonehurtingjuice', 'YouShouldKnow', 'Baking', 'VintageMenus', 'shittytattoos', 'stephenking', 'goatvalleycampgrounds', 'librandu', 'whatsthatbook', 'iamatotalpieceofshit', 'badscificovers', 'Old_Recipes', 'HorribleHistoryMemes', 'WhatsWrongWithYourCat', 'ArtefactPorn', 'crochet', 'PlusSizeFashion', 'kroshay', 'DiWHY', 'WeWantPlates', 'guineapigs', 'foodbutforbabies', 'casualknitting', 'RATS', 'wowthanksimcured', 'HeadOfSpectre', 'HelpMeFind', 'minimalcatart', 'dogelore', 'IllegallySmolCats', 'chinesefood', 'u_Simz88', 'nonmurdermysteries', 'nosleep', 'readanotherbook', 'HistoricalRomance', 'Catswhoyell', 'foodhacks', 'Toefeathers', 'WeightLossAdvice', 'sewing', 'OtomeIsekai', 'NoStupidQuestions', 'Blep', 'GettyMuseumChallenge', 'TinyUnits', 'StupidFood', 'AdamDriverCats', 'shittyfoodporn', 'ImaginaryInteriors', 'BollywoodFashion', 'curledfeetsies', 'ImaginaryFlora', 'SCAcirclejerk', 'WhatShouldICook', 'animalslookingatfood', 'CrackheadCraigslist', 'IndianSkincareAddicts', 'toastme', 'u_WearyFrog', 'RainbowEverything', 'blurrypicturesofcats', 'SoulSnacks', 'menstruationstation', 'HandSew', 'india', 'books', 'OUTFITS', 'TikTokCringe', 'AnimalsBeingDerps', 'sashiko', 'MomForAMinute', 'museum', 'MoldyMemes', 'Ceramics', 'CozyPlaces', 'whatsthissnake', 'bookscirclejerk', 'selfharm', 'CookbookLovers', 'PizzaCrimes', 'badwomensanatomy', 'LetGirlsHaveFun', 'insanepeoplefacebook', 'BlackPeopleTwitter', 'crochetpatterns', 'Feminism', 'AdorableDragons', 'Sneks', 'blurrypicturesofdogs', 'C_AT', 'zpaletteporn', 'Babushkats'}\n"
     ]
    },
    {
     "name": "stderr",
     "output_type": "stream",
     "text": [
      "Scraping user comments:   1%|          | 158/29911 [34:51<109:02:51, 13.19s/it]"
     ]
    },
    {
     "name": "stdout",
     "output_type": "stream",
     "text": [
      "Comments saved to /Users/smutnuri/Documents/UVA/_Projects/Fall24/CBM/CBMRepo/Data/usercomments/1mveryconfused_usercomments.json\n",
      "{'television', 'MSsEcReTPoDcAsT', 'itcouldhappenhere', 'self', 'Millennials', 'Thisisimportantpod', 'StarWarsLeaks', 'gameofthrones', 'badfriendspod', 'HadesTheGame', 'skyrim', 'AskReddit', 'Games', 'FundieSnarkUncensored', 'stalker', 'codyko', 'inflation', 'MauLer', 'moviecritic', 'RoastMe', 'BillBurr', 'gamingsuggestions', 'HouseOfTheDragon', '4chan', 'malegrooming', 'survivor', 'ExplainTheJoke', 'Fantasy', 'ItsAllAboutGames', 'PeterExplainsTheJoke', 'ElderScrolls', 'okbuddycinephile', 'h3h3_productions', 'travisandtaylor', 'Hasan_Piker', 'popculturechat', 'AITAH', 'rpg_gamers', 'MovieLeaksAndRumors', 'harrypotter', 'Music', 'AskFeminists', 'StarWarsCirclejerk', 'HarryPotterMemes', 'Dimension20', 'AllThatIsInteresting', 'missoula', 'mildlyinfuriating', 'h3h3productions', 'TheBoys', 'pcgaming', 'saltierthancrait', 'StarWars', 'gaming', 'worldnews', 'malehairadvice', 'greentext', 'DnD', 'dndmemes', 'justneckbeardthings', 'comicbookmovies', 'DiscoElysium', 'fansofcriticalrole', 'GilbertAccountability', 'OldSchoolCool', 'BaldursGate3', 'AbsoluteUnits', 'IASIP', 'bakeoff', 'Starfield', 'mensfashion', 'h3snark', 'anime_titties', 'anime_irl', 'Eyebleach', 'Gamingcirclejerk', 'OkBuddyFresca', 'PoliticalHumor', 'FierceFlow', 'HilariaBaldwin', 'Killtony', 'RatchetAndClank', 'books', 'AmIOverreacting', 'goodmythicalmorning', 'balatro', 'thefighterandthekid', 'reddeadredemption', 'mensfashionadvice', 'nytimes', 'Fauxmoi', 'freefolk', 'JoeRogan', 'beards', 'MadeMeSmile', 'nottheonion', 'todayilearned', 'dropout', '1000lbsisters', 'BlackPeopleTwitter', 'JRPG', 'TopCharacterTropes', 'TAZCirclejerk', 'trees', 'HOTDGreens', 'meirl', 'NotAnotherDnDPodcast', 'LudwigAhgren', 'movies', 'patientgamers'}\n"
     ]
    },
    {
     "name": "stderr",
     "output_type": "stream",
     "text": [
      "Scraping user comments:   1%|          | 159/29911 [35:08<118:29:13, 14.34s/it]"
     ]
    },
    {
     "name": "stdout",
     "output_type": "stream",
     "text": [
      "Comments saved to /Users/smutnuri/Documents/UVA/_Projects/Fall24/CBM/CBMRepo/Data/usercomments/1ncorrect_usercomments.json\n",
      "{'audiobooks', 'opensource', 'Frugal', 'likeus', 'techsupport', 'rubyonrails', 'TheAvettBrothers', 'PleX', 'dresdenfiles', 'FortWorth', 'AskWomen', 'mintmobile', 'UniversalOrlando', 'Dallas', 'AskMenOver30', 'NintendoSwitch', 'realtors', 'freeswitch', 'ITCareerQuestions', 'antiwork', 'cordcutters', 'DanielTigerConspiracy', 'sysadmin', 'UpliftingNews', 'msp', 'MensLib', 'learnprogramming', 'nes', 'RealEstate', 'Exvangelical', 'TexasPolitics', 'Deconstruction', 'Coffee', 'legaladvice', 'pinball', 'Roku', 'texas', 'news', 'ruby', 'Home', 'freebsd', 'tech', 'Insurance', 'MechanicAdvice', 'devopsjobs', 'electricians', 'Keller', 'ProgrammerHumor', 'dfw', 'aws', 'excoc', 'povertyfinance', 'facepalm', 'washingtondc', 'Plumbing', 'DFWGardening', 'worldnews', 'oracle', 'icecream', 'TheBear', 'RetroBowl', 'Acura', 'whiskey', 'investing', 'wallstreetbets', 'space', 'Wellthatsucks', 'politics', 'Hyundai', 'Enneagram', 'WorkReform', 'NameCheap', 'linuxadmin', 'CrazyFuckingVideos', 'personalfinance', 'explainlikeimfive', 'smallbusiness', 'ExperiencedDevs', 'pools', 'futurama', 'PoliticalHumor', 'dfwrealestate', 'frontierfios', 'rails', 'JoshRitter', 'Construction', 'HomeImprovement', 'books', 'dropship', 'jobs', 'gsuite', 'MotoX', 'bourbon', 'RealEstateTechnology', 'MadeMeSmile', 'nottheonion', 'DeathByMillennial', 'todayilearned', 'PostgreSQL', 'homelab', 'GooglePixel', 'Enneagram5', 'Cartalk', 'Denton', 'RedditForGrownups', 'daddit', 'Parenting', 'CrappyDesign'}\n"
     ]
    },
    {
     "name": "stderr",
     "output_type": "stream",
     "text": [
      "Scraping user comments:   1%|          | 160/29911 [35:19<110:15:19, 13.34s/it]"
     ]
    },
    {
     "name": "stdout",
     "output_type": "stream",
     "text": [
      "Comments saved to /Users/smutnuri/Documents/UVA/_Projects/Fall24/CBM/CBMRepo/Data/usercomments/1new_username_usercomments.json\n",
      "{'InstantRamen', 'TheSecretHistory', 'bangalore', 'BoJackHorseman', 'paintbynumbers', 'IndiansRead', 'CreditCardsIndia', 'books', 'Showerthoughts', 'Indianbooks', 'BooksThatFeelLikeThis', 'BollywoodMusic', 'careerguidance', 'InstaCelebsGossip', 'standardissuecat', 'duolingo', 'relationship_advice', 'BangaloreSocial', 'IndianPets', 'InternationalMBA', 'MusicIndia'}\n"
     ]
    },
    {
     "name": "stderr",
     "output_type": "stream",
     "text": [
      "Scraping user comments:   1%|          | 161/29911 [35:20<79:18:58,  9.60s/it] "
     ]
    },
    {
     "name": "stdout",
     "output_type": "stream",
     "text": [
      "Comments saved to /Users/smutnuri/Documents/UVA/_Projects/Fall24/CBM/CBMRepo/Data/usercomments/1ofmy10personalities_usercomments.json\n",
      "{'InstantRamen', 'stephenking', 'writing', 'HairDye', 'technology', 'CannedSardines', 'sports', 'copypasta', 'Millennials', '52book', 'therapists', 'ABraThatFits', 'FamilyMedicine', 'Pickles', 'AskReddit', 'Hucow', 'ADHDmemes', 'LGBTBooks', 'CICO', 'Mezcal', 'trueratediscussions', 'Psychiatry', 'SiloSeries', 'Tattoocoverups', 'oklahoma', 'comics', 'energydrinks', 'PlantBasedDiet', 'knives', 'eggs', 'texts', 'unpopularopinion', 'AnimalTracking', 'ifyoulikeblank', 'hotsauce', 'ShittyPoetry', 'cissp', 'altereddudeholes', 'breitling', 'technews', 'nbe', 'Damnthatsinteresting', 'OmegaWatches', 'bookporn', 'TransBreastTimelines', 'philosophy', 'Watches', 'tulsa', 'Transgender_Surgeries', 'DisneyPlanning', 'lactation', 'Sandwiches', 'Silverbugs', 'HealthAnxiety', 'HydroHomies', 'Wrangler', 'hypertension', 'AITAH', 'news', 'TransLater', 'Askpolitics', 'suggestmeabook', 'motorcycles', 'tech', 'rickandmorty', 'KCRoyals', 'baseball', 'Pizza', 'okc', 'FindTheSniper', 'ABFStories', 'MM_RomanceBooks', 'Journaling', 'cycling', 'AllThatIsInteresting', 'tacobell', 'crossfit', 'mildlyinfuriating', 'oddlysatisfying', 'pics', 'facepalm', 'NoStupidQuestions', 'worldnews', 'gwcumsluts', 'BoomersBeingFools', 'fashion', 'torrid', 'intermittentfasting', 'BestofRedditorUpdates', 'BooksThatFeelLikeThis', 'BookshelvesDetective', 'gadgets', 'stanleyparable', 'tattoos', 'AdultBreastfeeding', 'AnythingGoesNews', 'politics', 'MarkMyWords', 'Eyebleach', 'curlygirl', 'interestingasfuck', 'simplifimoney', 'PrideAndPinion', 'mercedes_benz', 'SweatyPalms', 'FuFuAdventures', 'tattooadvice', 'homeowners', 'pcmasterrace', 'SpringfieldIL', 'CCW', 'Tudor', 'ScammerPayback', 'bookshelf', 'books', 'OUTFITS', 'SuddenlyLesbian', 'LinkedInLunatics', 'WatchesCirclejerk', 'GTA', 'Guitar', 'espresso', 'Broadway', 'Gin', 'musicals', 'Cigarettes', 'horrorlit', 'EDC', 'BDSMAdvice', 'inthenews', 'booksuggestions', 'datingoverthirty', 'ChatGPT', 'whatcouldgoright', 'movies', 'madlads', 'shittytattoos'}\n"
     ]
    },
    {
     "name": "stderr",
     "output_type": "stream",
     "text": [
      "Scraping user comments:   1%|          | 162/29911 [35:34<91:32:14, 11.08s/it]"
     ]
    },
    {
     "name": "stdout",
     "output_type": "stream",
     "text": [
      "Comments saved to /Users/smutnuri/Documents/UVA/_Projects/Fall24/CBM/CBMRepo/Data/usercomments/1oz9999finequeefs_usercomments.json\n",
      "{'LetsTalkMusic', 'stephenking', 'getdisciplined', 'EatCheapAndHealthy', 'memes', 'nbadiscussion', 'JapanTravelTips', 'thesopranos', 'books', 'Petioles', 'AskMen', 'sixers', 'literature', 'bicycling', 'BipolarSOs', 'microdosing', 'NBATalk', 'AskReddit', 'golf', 'politics', 'Jung', 'philly', 'nba', 'MuayThai', 'PhiladelphiaEats', 'discgolf', 'philadelphia', 'TrueFilm', 'personalfinance', 'LanguageTechnology', 'Fire', 'cycling', 'Economics', 'BarefootRunning', 'Marathon_Training'}\n"
     ]
    },
    {
     "name": "stderr",
     "output_type": "stream",
     "text": [
      "Scraping user comments:   1%|          | 163/29911 [35:36<66:49:03,  8.09s/it]"
     ]
    },
    {
     "name": "stdout",
     "output_type": "stream",
     "text": [
      "Comments saved to /Users/smutnuri/Documents/UVA/_Projects/Fall24/CBM/CBMRepo/Data/usercomments/1pupperoni2_usercomments.json\n",
      "{'bapcsalesaustralia', 'pcgaming', 'RedLetterMedia', 'books', 'systemshock', 'valheim', 'bloodborne', 'Cosmere_Tattoos', 'gameofthrones', 'ValheimLFG', 'Doom', 'MadMax', 'utopiatv', 'suggestmeabook', 'stalker', 'KGATLW', 'Lovecraft', 'ultrawidemasterrace', 'HouseOfTheDragon', 'buildapc', 'silenthill', 'dating', 'betterCallSaul'}\n"
     ]
    },
    {
     "name": "stderr",
     "output_type": "stream",
     "text": [
      "Scraping user comments:   1%|          | 164/29911 [35:36<48:42:32,  5.89s/it]"
     ]
    },
    {
     "name": "stdout",
     "output_type": "stream",
     "text": [
      "Comments saved to /Users/smutnuri/Documents/UVA/_Projects/Fall24/CBM/CBMRepo/Data/usercomments/1putt__usercomments.json\n",
      "{'mildlyinteresting', 'technology', 'girlsinyogapants', 'HumansBeingBros', 'diyelectronics', 'iamatotalpieceofshit', 'AskReddit', '13or30', 'Cooking', 'gifs', 'Shitty_Car_Mods', 'AskCulinary', 'privacy', 'DMR', 'Kombucha', 'sudoku', 'AwesomeCarMods', 'Target', 'GirlswithGlasses', 'duolingo', 'Justrolledintotheshop', 'DiWHY', 'unpopularopinion', 'science', 'Whatcouldgowrong', 'morse', 'HamRadio', 'creepy', 'HamFest', 'instantkarma', 'succulents', 'Android', 'fermentation', 'Unexpected', 'AnimalsBeingJerks', 'news', 'Garmin', 'DuolingoGerman', 'electricians', 'AccidentalWesAnderson', 'cycling', 'WatchPeopleDieInside', 'mildlyinfuriating', 'amateurradio', 'oddlysatisfying', 'pics', 'gaming', 'mildlypenis', 'cactus', 'Superbowl', 'StartledCats', 'intermittentfasting', 'awfuleverything', 'SCOBY', 'nonononoyes', 'AbsoluteUnits', 'electronics', 'NotMyJob', 'Wellthatsucks', 'Paleo', 'BeAmazed', 'assholedesign', 'interestingasfuck', 'holdmyfeedingtube', 'AmazonMusic', 'SweatyPalms', 'NatureIsFuckingLit', 'trashy', 'geek', 'Swimming', 'books', 'spicy', 'pianolearning', 'traaaaaaannnnnnnnnns', 'horrorlit', 'Ingress', 'holdmycosmo', 'IdiotsInCars', 'booksuggestions', 'JusticeServed', 'BlackPeopleTwitter', 'FoodPorn', 'therewasanattempt', 'nextfuckinglevel', 'natureismetal', 'morsecode', 'theyknew', 'funny', 'YouShouldKnow', 'homegym', 'CrappyDesign'}\n"
     ]
    },
    {
     "name": "stderr",
     "output_type": "stream",
     "text": [
      "Scraping user comments:   1%|          | 165/29911 [35:51<71:30:01,  8.65s/it]"
     ]
    },
    {
     "name": "stdout",
     "output_type": "stream",
     "text": [
      "Comments saved to /Users/smutnuri/Documents/UVA/_Projects/Fall24/CBM/CBMRepo/Data/usercomments/1readdit1_usercomments.json\n",
      "{'television', 'ask', 'salesforce', 'mildlyinteresting', 'Warzone', 'Denver', 'technology', 'BestFoodideas', 'gameofthrones', 'FluentInFinance', 'AskReddit', 'floorplan', 'WTF', 'AskALiberal', 'dune', 'UnethicalLifeProTips', 'science', 'ThelastofusHBOseries', 'COGuns', 'astoria', 'SR71', 'whatisthisbug', 'surfing', 'AbandonedPorn', 'MapPorn', 'Brooklyn', 'sketches', 'sales', 'Unexpected', 'news', 'CODWarzone2', 'Music', 'poker', 'Howtolooksmax', 'nyjets', 'nyc', 'WhitePeopleTwitter', 'dataisbeautiful', 'coolguides', 'CityPorn', 'nfl', 'CODWarzone', 'facepalm', 'pics', 'EarthPorn', 'gaming', 'AskNYC', 'worldnews', 'NoStupidQuestions', 'NYKnicks', 'EggInc', 'wallstreetbets', 'detroitlions', 'space', 'zelda', 'atheism', 'skiing_feedback', 'speedrun', 'politics', 'Oldhouses', 'Conservative', 'n64', 'toptalent', 'personalfinance', 'chess', 'Rateme', 'books', 'TikTokCringe', 'LinkedInLunatics', 'jobs', 'clevercomebacks', 'freefolk', 'AdviceAnimals', 'StrangerThings', 'HolUp', 'Art', 'gardening', 'inthenews', 'Cheese', 'LifeProTips', 'LosAngeles', 'FoodPorn', 'miamidolphins', 'food', 'skiing', 'irishtourism', 'meirl', 'funny', 'AskConservatives', 'movies', 'homegym', 'Roses', 'HistoryPorn'}\n"
     ]
    },
    {
     "name": "stderr",
     "output_type": "stream",
     "text": [
      "Scraping user comments:   1%|          | 166/29911 [36:06<85:52:28, 10.39s/it]"
     ]
    },
    {
     "name": "stdout",
     "output_type": "stream",
     "text": [
      "Comments saved to /Users/smutnuri/Documents/UVA/_Projects/Fall24/CBM/CBMRepo/Data/usercomments/1should_be_working_usercomments.json\n",
      "{'ask', 'SipsTea', 'WorkersStrikeBack', 'CineShots', 'mildlyinteresting', 'India_Investments', 'NaBoaChavaloRetardado', 'videos', 'Showerthoughts', 'StandUpComedy', 'technology', 'sports', 'Documentaries', 'AskFoodHistorians', 'Funnymemes', 'self', 'recruitinghell', 'spotify', 'BeermoneyTuga', 'flexibility', 'lisboa', 'AmazonItemGuide', 'EffectiveAltruism', 'AskReddit', 'csMajors', 'AskMenOver30', 'olympics', 'gifs', 'jobpostings', 'eupersonalfinance', 'developersIndia', 'ArtificialInteligence', 'Anticonsumption', 'drawing', 'NewsAndPolitics', 'Kerala', 'pakistan', 'antiwork', 'AskUK', 'u_Lenzishop', 'KidsAreFuckingStupid', 'ghibli', 'PMCareers', 'funnyIndia', 'UpliftingNews', 'portugueses', 'answers', 'technews', 'MensLib', 'Damnthatsinteresting', 'antinatalism', 'Futurology', 'IndiaThriftStore', 'AskMen', 'philosophy', 'mumbai', 'Watches', 'PORTUGALCARALHO', 'boringdystopia', 'RandomThoughts', 'TudoCasa', 'europe', 'Programmanagement', 'Netherlands', 'climatechange', 'AITAH', 'Unexpected', 'recruiting', 'IWantOut', 'Adulting', 'Music', 'personalfinanceindia', 'cafept', 'nyc', 'devpt', 'portugal2', 'coolguides', 'midjourney', 'HaircareScience', 'mealtimevideos', 'PortugalEN', 'mildlyinfuriating', 'IndiaSpeaks', 'australia', 'indiasocial', 'Satisfyingasfuck', 'pics', 'facepalm', 'oddlysatisfying', 'Goa', 'ThailandTourism', 'gaming', 'NoStupidQuestions', 'worldnews', 'canada', 'europeanunion', 'OutSystems', 'animememes', 'Portuguese', 'ImTheMainCharacter', 'AskIndia', 'agile', 'Algarve', 'wallstreetbets', 'BestofRedditorUpdates', 'leiria', 'AskIndianWomen', 'IndianHipHopHeads', 'u_builditportugal', 'GetMotivated', 'germany', 'IndianStreetBets', 'IndianHistory', 'u_itsyourlife007', 'interesting', 'BrandNewSentence', 'ShogunTVShow', 'BeAmazed', 'CryptoTax', 'rajithegame', 'delhi', 'avoidchineseproducts', 'anime', 'PortugalLaFora', 'overemployed', 'TrueReddit', 'NewsOfTheStupid', 'Madeira', 'interestingasfuck', 'socialism', 'personalfinance', 'portugal', 'amcstock', 'TascaDoZe', 'AiMoneyMaking', 'toastme', 'cscareerquestionsEU', 'BollyBlindsNGossip', 'trashy', 'ABoringDystopia', 'unitedstatesofindia', 'india', 'UnbelievableStuff', 'books', 'slavelabour', 'Entrepreneur', 'TikTokCringe', 'Fauxmoi', 'clevercomebacks', 'Layoffs', 'Watchexchange', 'RemoteJobs', 'cscareerquestions', 'nottheonion', 'MadeMeSmile', 'Haryana', 'todayilearned', 'literaciafinanceira', 'pmp', 'DirtyBollywoodGossip', 'CasualPT', 'MMA', 'adhdmeme', 'singularity', 'InternetIsBeautiful', 'nextfuckinglevel', 'TorontoRealEstate', 'IndianMemeTemplates', 'batman', 'meirl', 'ChatGPT', 'funny', 'PortugalExpats', 'ContagiousLaughter', 'movies', 'solotravel'}\n"
     ]
    },
    {
     "name": "stderr",
     "output_type": "stream",
     "text": [
      "Scraping user comments:   1%|          | 167/29911 [36:36<136:00:18, 16.46s/it]"
     ]
    },
    {
     "name": "stdout",
     "output_type": "stream",
     "text": [
      "Comments saved to /Users/smutnuri/Documents/UVA/_Projects/Fall24/CBM/CBMRepo/Data/usercomments/1tonsoprano_usercomments.json\n",
      "{'television', 'thanksihateit', 'buzzfeedbot', 'videos', 'WhyWereTheyFilming', 'mildlyinteresting', 'u_pardis', 'brave_browser', 'listentothis', 'technology', 'RelayForReddit', 'HumansBeingBros', 'fatsquirrelhate', 'AOC', 'AskReddit', 'incubus', 'panelshow', 'gifs', 'Catswithjobs', 'MurderedByWords', 'askscience', 'privacy', 'onguardforthee', 'antiwork', 'savedyouaclick', 'DiWHY', 'science', 'KitchenConfidential', 'youtube', 'UpliftingNews', 'nincirclejerk', 'montreal', 'GlobalTalk', 'Futurology', 'hiphopheads', 'CostcoCanada', 'europe', 'aww', 'AnimalsBeingJerks', 'news', 'YUROP', 'Music', 'MontrealCycling', 'CatsWhoChirp', 'NewPipe', 'softwaregore', 'Xnet', 'AislingBea', 'WhitePeopleTwitter', 'dataisbeautiful', 'coolguides', 'tumblr', 'facepalm', 'pics', 'animalsdoingstuff', 'canada', 'worldnews', 'photoshopbattles', 'sousvide', 'Superbowl', 'wintercycling', 'rstatsmemes', 'AmazonDSPDrivers', 'murdermittens', 'Metal', 'gadgets', 'datasets', 'StoppedWorking', 'ElonJetTracker', 'OldSchoolCool', 'DailyShow', 'MurderBryan', 'politics', 'Quebec', 'vancouvercycling', 'TheEndlessHoneymoon', 'maximumfun', 'AccidentalRenaissance', 'cats', 'Eyebleach', 'history', 'interestingasfuck', 'explainlikeimfive', 'cybersecurity', 'mcgill', 'PoliticalHumor', 'openrightsgroup', 'books', 'kittens', 'Costco', 'KeepOurNetFree', 'Piracy', 'nottheonion', 'ladycyclists', 'themayormccheese', 'todayilearned', 'Law_and_Politics', 'ANormalDayInRussia', 'rarepuppers', 'Art', 'LifeProTips', 'BlackPeopleTwitter', 'InternetIsBeautiful', 'u_chocolatemilkluvr420', 'vancouver', 'IAmA', 'meirl', 'funny', 'hmmm', 'europrivacy', 'movies', 'sex'}\n"
     ]
    },
    {
     "name": "stderr",
     "output_type": "stream",
     "text": [
      "Scraping user comments:   1%|          | 168/29911 [36:58<149:32:49, 18.10s/it]"
     ]
    },
    {
     "name": "stdout",
     "output_type": "stream",
     "text": [
      "Comments saved to /Users/smutnuri/Documents/UVA/_Projects/Fall24/CBM/CBMRepo/Data/usercomments/1zzie_usercomments.json\n",
      "{'ask', 'facepalm', 'TwoHotTakes', 'handmade', 'AnimalsBeingBros', 'books', 'AmIOverreacting', 'AusFemaleFashion', 'LivingAlone', 'AustralianNostalgia', 'Needlefelting', 'self', 'Life', 'Embroidery', 'JustGuysBeingDudes', 'painting', 'stupidquestions', 'RandomThoughts', 'clevercomebacks', 'namenerds', 'Pareidolia', 'AskReddit', 'rareinsults', 'MadeMeSmile', 'GetMotivated', 'BenignExistence', 'interiordecorating', 'Names', 'AITAH', 'BrandNewSentence', 'suggestmeabook', 'BeAmazed', 'Bluray', 'Renovations', 'WomenInNews', 'CrossStitch', 'tragedeigh', 'asktransgender', 'watercolor101', 'perth', 'AustralianBirds', 'Comebacks', 'auscorp', 'AskTeachers', 'crochet', 'AskAnAustralian', 'NewsOfTheStupid', 'Dollhouses', 'wholesome', 'AdviceForTeens', 'transgender', 'crafts', 'CasualConversation', 'somethingimade', 'AustralianSpiders', 'mildlyinfuriating', 'AmItheAsshole', 'sewing', 'answers', 'quilling', 'australia'}\n"
     ]
    },
    {
     "name": "stderr",
     "output_type": "stream",
     "text": [
      "Scraping user comments:   1%|          | 169/29911 [37:06<122:49:02, 14.87s/it]"
     ]
    },
    {
     "name": "stdout",
     "output_type": "stream",
     "text": [
      "Comments saved to /Users/smutnuri/Documents/UVA/_Projects/Fall24/CBM/CBMRepo/Data/usercomments/2-fat-dogs_usercomments.json\n",
      "{'cigars', 'tequila', 'soccer', 'self', 'musicsuggestions', 'FluentInFinance', 'beatles', 'redsox', 'euro2024', 'Scotch', 'AskReddit', 'arcticmonkeys', 'Cooking', 'geography', 'SuccessionTV', 'TylerChilders', 'BuyItForLife', 'punk', 'olympics', 'wine', 'CFB', 'hiphop101', 'georgiabulldogs', 'AskUK', 'unpopularopinion', 'CheapWine', 'hotsauce', 'HistoryWhatIf', 'MastersoftheAir', 'AFCSouthMemeWar', 'chelseafc', 'Concerts', 'AskHistory', 'footballcards', 'sitcoms', 'Boxing', 'hiphopheads', 'Coffee', 'MapPorn', 'rap', 'Presidents', 'fantanoforever', 'london', 'Cricket', 'Money', 'horseracing', 'cycling', 'nfl', 'facepalm', 'pics', 'Georgia', 'worldnews', 'Championship', 'intermittentfasting', 'Ska', 'whiskey', 'NFLv2', 'tourdefrance', 'fontainesdc', 'ManyBaggers', 'Kanye', 'fantasyfootballadvice', 'DanLeBatardShow', 'personalfinance', 'fantasyfootball', 'PremierLeague', 'baseballcards', 'BritPop', 'NFLNoobs', 'LetsTalkMusic', 'powerbeatspro', 'oasis', 'books', 'worldcup', 'nytimes', 'stupidquestions', 'bourbon', 'AdviceAnimals', 'CasualUK', 'TheSimpsons', 'todayilearned', 'mlb', 'seinfeld', 'Jaguars', 'football', 'ThreeLions', 'Economics', 'Idles'}\n"
     ]
    },
    {
     "name": "stderr",
     "output_type": "stream",
     "text": [
      "Scraping user comments:   1%|          | 170/29911 [37:23<127:33:36, 15.44s/it]"
     ]
    },
    {
     "name": "stdout",
     "output_type": "stream",
     "text": [
      "Comments saved to /Users/smutnuri/Documents/UVA/_Projects/Fall24/CBM/CBMRepo/Data/usercomments/2012Cfc2021_usercomments.json\n",
      "{'television', 'Satisfyingasfuck', 'pics', 'malefashionadvice', 'CanadaPublicServants', 'Shibainucoin', 'Health', 'gaming', 'worldnews', 'TinyHouses', 'videos', 'mildlyinteresting', 'Damnthatsinteresting', 'lostredditors', 'hippos', 'Showerthoughts', 'books', 'logcabins', 'breakingbad', 'sports', 'hopeposting', 'fo4', 'meme', 'AdviceAnimals', 'gadgets', 'wholesomememes', 'MadeMeSmile', 'travel', 'aww', 'lotrmemes', 'CasualUK', 'XRP', 'cars', 'news', 'reolinkcam', 'Hyundai', 'perfectlycutscreams', 'indianbikes', 'Music', 'comedyhomicide', 'maybemaybemaybe', 'funnyvideos', 'toptalent', 'food', 'therewasanattempt', 'CrazyFuckingVideos', 'ChatGPT', 'funny', 'EverythingScience', 'ContagiousLaughter', 'science', 'FunnyAnimals', 'DIY', 'Whatcouldgowrong', 'movies', 'UpliftingNews', 'nudism', 'SolarDIY', 'betterCallSaul'}\n"
     ]
    },
    {
     "name": "stderr",
     "output_type": "stream",
     "text": [
      "Scraping user comments:   1%|          | 171/29911 [37:38<126:59:58, 15.37s/it]"
     ]
    },
    {
     "name": "stdout",
     "output_type": "stream",
     "text": [
      "Comments saved to /Users/smutnuri/Documents/UVA/_Projects/Fall24/CBM/CBMRepo/Data/usercomments/20190419_usercomments.json\n",
      "{'YellowstonePN', 'pics', 'Westerns', 'Hammocks', 'photography', 'Oldschool_NFL', 'CleaningTips', 'gentlemanboners', '1970s', 'bookshelf', 'books', 'StudentLoans', 'Truckers', 'AppalachianTrail', 'landscaping', 'technology', 'CollegeBasketball', 'UMD', 'MareofEasttown', 'Costco', 'kindle', 'Frugal', 'caps', 'bicycletouring', 'surfing', 'hiking', 'iphone', 'Flyers', 'suits', 'AskReddit', 'nostalgia', 'bikedc', 'gifs', 'todayilearned', 'rush', 'suggestmeabook', 'CampingGear', 'nba', 'Commanders', 'MontgomeryCountyMD', 'HomeImprovement', 'baseball', 'hummingbirds', 'LifeProTips', 'Nationals', 'booksuggestions', 'canucks', 'AWSCertifications', 'nextfuckinglevel', 'AlternateAngles', 'SportsJunkies', 'camping', 'davidgoggins', 'explainlikeimfive', 'funny', 'gopro', 'aws', 'orioles', 'DIY', 'Celebswithbigtits', 'TooAfraidToAsk', 'mealtimevideos', 'hockey', 'nfl', 'HistoryPorn', 'BostonBruins'}\n"
     ]
    },
    {
     "name": "stderr",
     "output_type": "stream",
     "text": [
      "Scraping user comments:   1%|          | 172/29911 [37:57<136:46:55, 16.56s/it]"
     ]
    },
    {
     "name": "stdout",
     "output_type": "stream",
     "text": [
      "Comments saved to /Users/smutnuri/Documents/UVA/_Projects/Fall24/CBM/CBMRepo/Data/usercomments/206ert_usercomments.json\n",
      "{'Weird', 'place', 'television', 'ask', 'TwoHotTakes', 'Anxiety', 'mildlyinteresting', 'technology', 'Mindfulness', 'oddlyterrifying', 'Funnymemes', 'Millennials', 'Barnesandnoble', 'me_irl', 'fantasyromance', 'ExpectationVsReality', 'FluentInFinance', 'AskReddit', 'asexuality', 'AITA_WIBTA_PUBLIC', 'MurderedByWords', 'LightNovels', 'antiwork', 'CozyFantasy', 'relationship_advice', 'aviation', 'texts', 'unpopularopinion', 'science', 'KitchenConfidential', 'Whatcouldgowrong', 'youtube', 'ExplainTheJoke', 'Fantasy', 'AmItheAsshole', 'PeterExplainsTheJoke', 'TalkTherapy', 'Damnthatsinteresting', 'Futurology', 'democrats', 'socialskills', 'ThatsInsane', 'DreamlightValley', 'wholesomememes', 'europe', 'IllegallySmolCats', 'aww', 'MapPorn', 'popculturechat', 'AITAH', 'Unexpected', 'news', 'fearofflying', 'TwoXChromosomes', 'Music', 'DunderMifflin', 'CozyGamers', 'Money', 'WhitePeopleTwitter', 'AllThatIsInteresting', 'YAlit', 'WatchPeopleDieInside', 'mildlyinfuriating', 'romancelandia', 'RomanceBooks', 'Satisfyingasfuck', 'pics', 'facepalm', 'OtomeIsekai', 'canada', 'NoStupidQuestions', 'worldnews', 'LeopardsAteMyFace', 'IAmTheMainCharacter', 'gaming', 'minimalism', 'BoomersBeingFools', 'ImTheMainCharacter', 'shittytattoos', 'disneyprincess', 'wallstreetbets', 'celebrities', 'BestofRedditorUpdates', 'OptimistsUnite', 'OldSchoolCool', 'atheism', 'woahthatsinteresting', 'u_TasteImpossible8259', 'GirlGamers', 'politics', 'Wellthatsucks', 'askatherapist', 'interestingasfuck', 'ADHD', 'CrazyFuckingVideos', 'pcmasterrace', 'otomegames', 'PoliticalHumor', 'books', 'AmIOverreacting', 'TikTokCringe', 'tifu', 'clevercomebacks', 'MadeMeSmile', 'changemyview', 'nottheonion', 'offmychest', 'todayilearned', 'ProtectAndServe', 'AskAnAmerican', 'amiwrong', 'WomenInNews', 'entertainment', 'zoloft', 'LifeProTips', 'EntitledPeople', 'JusticeServed', 'therewasanattempt', 'maybemaybemaybe', 'nextfuckinglevel', 'fuckcars', 'mash', 'PublicFreakout', 'meirl', 'FunnyandSad', 'ContagiousLaughter', 'movies', 'madlads', 'videogames'}\n"
     ]
    },
    {
     "name": "stderr",
     "output_type": "stream",
     "text": [
      "Scraping user comments:   1%|          | 173/29911 [38:13<134:37:21, 16.30s/it]"
     ]
    },
    {
     "name": "stdout",
     "output_type": "stream",
     "text": [
      "Comments saved to /Users/smutnuri/Documents/UVA/_Projects/Fall24/CBM/CBMRepo/Data/usercomments/20above_usercomments.json\n",
      "{'ask', 'TwoHotTakes', 'Health', 'Hobbies', 'MusicRecommendations', 'StudentLoans', 'Funnymemes', 'self', 'BitcoinBeginners', 'AskPhotography', 'Frugal', 'AskReddit', 'Cooking', 'BuyItForLife', 'NintendoSwitch', 'conspiracy', 'TOTK', 'exvegans', 'Breath_of_the_Wild', 'Switch', 'nova', 'censoredreality', 'gshock', 'AppleWatch', 'unpopularopinion', 'AskWomenOver40', 'walkaway', 'ChurchOfCOVID', 'OddSatisfying', 'PetPeeves', 'AmItheAsshole', 'answers', 'scambait', 'ClassicRock', 'Damnthatsinteresting', 'steak', 'Watches', 'Themepark', 'RandomThoughts', 'conspiracy_commons', 'netflix', 'TrueUnpopularOpinion', 'Cholesterol', 'AITAH', 'suggestmeabook', 'Productivitycafe', 'Existentialism', 'Virginia', '80s', 'motorcycles', 'tearsofthekingdom', 'keto', 'Presidents', 'hygiene', 'HeartAttack', 'mildlyinfuriating', 'sewing', 'povertyfinance', 'facepalm', 'pics', 'NoStupidQuestions', 'sousvide', 'IAmTheMainCharacter', 'Mattress', 'amazonprime', 'JordanPeterson', 'RandomQuestion', 'investing', 'ricohGR', 'idiocracy', 'TheBidenshitshow', 'PeterAttia', 'Kitchenaid', 'roadtrip', 'LoveIsBlindOnNetflix', 'washdc', 'mensfashion', 'japanlife', 'OnlyZ900', 'walking', 'fragrance', 'Leica', 'digitalminimalism', 'IsItBullshit', 'interestingasfuck', 'casio', 'Clarinet', 'Buttcoin', 'Tennessee', '40something', 'carnivore', 'Bitcoin', 'Crypto_Currency_News', 'questions', 'books', 'AmIOverreacting', 'TikTokCringe', 'tifu', 'classicalmusic', 'TvShows', 'truezelda', 'Costco', 'mensfashionadvice', 'OutOfTheLoop', 'stupidquestions', 'CryptoCurrency', 'todayilearned', 'Dodocodes', 'amiwrong', 'tragedeigh', 'LifeProTips', 'Wallstreetsilver', 'therewasanattempt', 'nextfuckinglevel', 'failarmy', 'Recorder', 'army', 'webergrills', 'nashville', 'ninjacreami', 'videogames'}\n"
     ]
    },
    {
     "name": "stderr",
     "output_type": "stream",
     "text": [
      "Scraping user comments:   1%|          | 174/29911 [38:22<115:59:15, 14.04s/it]"
     ]
    },
    {
     "name": "stdout",
     "output_type": "stream",
     "text": [
      "Comments saved to /Users/smutnuri/Documents/UVA/_Projects/Fall24/CBM/CBMRepo/Data/usercomments/2282794_usercomments.json\n",
      "{'audiobooks', 'WagoonLadies', 'NoStupidQuestions', 'Scams', 'gingercats', 'books', 'sitcoms', 'Denver', 'RomanHistory', 'Perfumes', 'DesignerReps', 'doordash', 'repost', 'TheTraitors', 'SeverusSnape', 'AskReddit', 'Cooking', 'CatAdvice', 'weddingdress', 'TrueUnpopularOpinion', 'AITAH', 'GreatBritishBakeOff', 'bakeoff', 'suggestmeabook', 'televisionsuggestions', 'AskAcademia', 'AskAnAmerican', 'harrypotter', 'MovieSuggestions', 'cats', 'harrypotterfanfiction', 'antiwork', 'Feminism', 'TastingHistory', 'BritishTV', 'LushCosmetics', 'Baking', 'HPfanfiction', 'TheCitadel', 'AmItheAsshole'}\n"
     ]
    },
    {
     "name": "stderr",
     "output_type": "stream",
     "text": [
      "Scraping user comments:   1%|          | 175/29911 [38:25<89:29:50, 10.84s/it] "
     ]
    },
    {
     "name": "stdout",
     "output_type": "stream",
     "text": [
      "Comments saved to /Users/smutnuri/Documents/UVA/_Projects/Fall24/CBM/CBMRepo/Data/usercomments/22Hushpuppy_usercomments.json\n",
      "{'shittymoviedetails', 'pics', 'StarWars', 'massachusetts', 'unusual_whales', 'Biohackers', 'gaming', 'NoStupidQuestions', 'worldnews', 'mildlyinteresting', 'hometheater', 'saltierthancrait', 'TeslaLounge', 'BoomersBeingFools', 'Futurology', 'houstonwade', 'Rich', 'hotones', 'books', 'chips', 'OliviaRodrigo', 'technology', 'CoinBase', 'law', 'vaxxhappened', 'self', 'newjersey', 'SoraAi', 'cinematography', 'A24', 'AdviceAnimals', 'vfx', 'Ergatta', 'AskReddit', 'TeslaModelY', 'CryptoCurrency', 'explainlikeimfive', 'politics', 'gifs', 'BlueskySocial', 'teslamotors', 'wicked', 'Iowa', 'DeepFuckingValue', 'JoeBiden', 'interestingasfuck', 'indianajones', 'vaonis', 'drones', 'AskScienceDiscussion', 'gracieabrams', 'meirl', 'CryptoMarkets', 'dataisbeautiful', 'LUCID', 'ParlerWatch', 'science', 'electricvehicles', 'unpopularopinion', 'DIY', 'StarWarsCantina', 'Rivian', 'climbergirls', 'movies', 'Screenwriting', 'scotus', 'youtube', 'Pennsylvania', 'teslainvestorsclub', 'SubredditDrama', 'VisionPro'}\n"
     ]
    },
    {
     "name": "stderr",
     "output_type": "stream",
     "text": [
      "Scraping user comments:   1%|          | 176/29911 [38:32<81:02:24,  9.81s/it]"
     ]
    },
    {
     "name": "stdout",
     "output_type": "stream",
     "text": [
      "Comments saved to /Users/smutnuri/Documents/UVA/_Projects/Fall24/CBM/CBMRepo/Data/usercomments/22marks_usercomments.json\n",
      "{'television', 'whatthefrockk', 'Donghua', 'CDramaRecs', 'kpop', 'books', 'HobbyDrama', 'kpopthoughts', 'BoysPlanet', 'Fauxmoi', 'EverAfterHigh', 'namenerds', 'threebodyproblem', 'MadeMeSmile', 'todayilearned', 'Hungergames', 'cpop', 'popheads', 'StephanieSooStories', 'kpophelp', 'kpop_uncensored', 'TrueFilm', 'TheKingsAvatar', 'asianamerican', 'interestingasfuck', 'Aespa', 'boxoffice', 'CDrama', 'ChineseLanguage', 'NewJeans'}\n"
     ]
    },
    {
     "name": "stderr",
     "output_type": "stream",
     "text": [
      "Scraping user comments:   1%|          | 177/29911 [38:55<113:43:58, 13.77s/it]"
     ]
    },
    {
     "name": "stdout",
     "output_type": "stream",
     "text": [
      "Comments saved to /Users/smutnuri/Documents/UVA/_Projects/Fall24/CBM/CBMRepo/Data/usercomments/240229_usercomments.json\n",
      "{'supermariosunshine', 'btd6', 'minnesotavikings', 'books', 'AEWOfficial', 'annyfox', 'Funnymemes', 'AisWallenstein', 'slaythespire', 'gameofthrones', 'overwatch2', 'walmart', 'ChessResources', 'adventuretime', 'AmazonFC', 'skyrim', 'AskReddit', 'zelda', 'atheism', 'superman', 'Irregularcontent', 'youtubedrama', 'HollowKnight', 'VGC', 'papermario', 'BitLifeApp', 'TrueOffMyChest', 'DanMachi', 'OverwatchUniversity', 'SCJerk', 'Casefile', 'mentalhealth', 'Lillian_Madwhip', 'AskTrumpSupporters', 'asoiaf', 'Christianity', 'FASCAmazon', 'nickelodeon', 'gottheories', 'chess', 'NeuroSama', 'Fantasy_Football', 'battd', 'SleeperApp', 'Advice', 'WithoutATrace', 'chessbeginners', 'DynastyFF'}\n"
     ]
    },
    {
     "name": "stderr",
     "output_type": "stream",
     "text": [
      "Scraping user comments:   1%|          | 178/29911 [39:05<104:10:03, 12.61s/it]"
     ]
    },
    {
     "name": "stdout",
     "output_type": "stream",
     "text": [
      "Comments saved to /Users/smutnuri/Documents/UVA/_Projects/Fall24/CBM/CBMRepo/Data/usercomments/24337543_usercomments.json\n",
      "{'television', 'AtlantaTV', 'seriouslyalarming', 'BanjoKazooie', 'stephenking', 'TwoHotTakes', 'witcher', 'mildlyinteresting', 'videos', 'ShingekiNoKyojin', 'Undertale', 'flicks', 'Letterboxd', 'StandUpComedy', 'TheCurse', 'me_irl', 'Louisville', 'HumansBeingBros', 'nattyorjuice', 'horror', 'gameofthrones', 'FluentInFinance', 'meme', 'naath', 'pokemon', 'Monsterverse', 'AskReddit', 'shameless', 'SuccessionTV', 'threebodyproblem', 'YoungThug', 'AnimalCrossing', 'HOTDBlacks', 'WTF', 'NintendoSwitch', 'NoSodiumStarfield', 'echoesofwisdom', 'webdev', 'puppy101', 'TOTK', 'teslamotors', 'traumatizeThemBack', 'BobsBurgers', 'GeorgeNotFound', 'SSBM', 'MauLer', 'moviecritic', 'UnethicalLifeProTips', 'antiwork', 'ShaneGillis', 'baldursgatememes', 'Spiderman', 'apexlegends', 'HouseOfTheDragon', 'Oscars', 'Tucson', 'nflcirclejerk', 'SonicTheHedgehog', 'thewalkingdead', 'Dragonballsuper', 'DIY', 'survivor', 'MemeVideos', 'SpidermanPS4', 'ifyoulikeblank', 'ThelastofusHBOseries', 'battlestations', 'marvelstudios', 'Fantasy', 'AmItheAsshole', 'Chadtopia', 'shittymoviedetails', 'MCUTheories', 'regretfulparents', 'economy', 'creepy', 'AvatarMemes', 'FullmetalAlchemist', 'Futurology', 'Rich', 'okbuddycinephile', 'TattooDesigns', 'ThePenguin', 'SparkingZero', 'steak', 'SUMC', 'ThatsInsane', 'Boxing', 'hiphopheads', 'stories', 'Faces', 'Cyclopswasright', 'NFCNorthMemeWar', 'corgi', 'sleep', 'PatMcAfeeShowOfficial', 'depressionmeals', 'A24', 'BG3', 'outerwilds', 'spiderman2', 'rareinsults', 'foundsatan', 'CHIBears', 'CringeTikToks', 'NewGirl', 'AITAH', 'televisionsuggestions', 'news', 'papermario', 'suggestmeabook', 'nba', 'TwoXChromosomes', 'MovieLeaksAndRumors', 'TrueDetective', 'Music', 'tearsofthekingdom', 'DunderMifflin', 'FIlm', 'euphoria', 'subnautica', 'nyjets', 'moviescirclejerk', 'fantanoforever', 'lgbt', 'ProgrammerHumor', 'Asustuf', 'starterpacks', 'WhitePeopleTwitter', 'malelivingspace', 'dataisbeautiful', 'AllThatIsInteresting', 'EngagementRings', 'BringMeTheHorizon', 'DavidFincherReddit', 'mildlyinfuriating', 'nfl', 'HistoricalCapsule', 'Marvel', 'PokemonSleep', 'moreplatesmoredates', 'TheBoys', 'majorasmask', 'pics', 'facepalm', 'StarWars', 'burgers', 'resumes', 'gaming', 'dbz', 'RivalsOfAether', 'photoshopbattles', 'cartoons', 'NFL_Draft', 'Amicute', 'asoiafcirclejerk', 'LeaksAndRumors', 'AMA', 'hotones', 'howimetyourmother', 'falcons', 'oddlyspecific', 'Silksong', 'tales', 'comicbookmovies', 'HBOMAX', 'agedlikemilk', 'milanavayntrub', 'GreenBayPackers', 'gadgets', 'nbacirclejerk', 'NFLv2', 'space', 'entourage', 'blueprint_', 'zelda', 'tenkaichi4', 'BaldursGate3', 'SuperMario', 'ChicagoBearsNFL', 'IASIP', 'Invincible', 'BeAmazed', 'Kanye', 'GenV', 'shittyfoodporn', 'JohnMulaney', 'delta', 'saltierthankrayt', 'MovieSuggestions', 'playboicarti', 'ExtraFabulousComics', 'Conservative', 'smashbros', 'interestingasfuck', 'CyberStuck', 'LindaCardellini', 'boxoffice', 'thewitcher3', 'fantasyfootball', 'Bossfight', 'PandR', 'future', 'DCULeaks', 'phoenix', 'Justfuckmyshitup', 'casualnintendo', 'books', 'Metroid', 'AmIOverreacting', 'AnimalsBeingDerps', 'community', 'DreamWasTaken2', 'OutOfTheLoop', 'Fauxmoi', 'freefolk', 'stupidquestions', 'NameMyDog', 'clevercomebacks', 'beards', 'TheFallofHouseofUsher', 'Bumble', 'YuYuHakusho', 'Modern_Family', 'marvelmemes', 'malcolminthemiddle', 'cscareerquestions', 'dankmemes', 'nottheonion', 'youtubedrama', 'todayilearned', 'Standup', 'EngineeringResumes', 'SkincareAddiction', 'thalassophobia', 'TrueOffMyChest', 'HolUp', 'shitposting', 'Drizzy', 'LobotomyKaisen', 'rurounikenshin', 'MyHeroAcadamia', 'entertainment', 'MaleSurvivingSpace', 'nextjs', 'nintendo', 'WalmartCelebrities', 'nextfuckinglevel', 'food', 'TopCharacterTropes', 'TheBatmanFilm', 'PublicFreakout', 'meirl', 'shiba', 'garageporn', 'ContagiousLaughter', 'Amazingdigitalcircus', 'bonehurtingjuice', 'KingkillerChronicle', 'Eldenring', 'StarWarsCantina', 'movies', 'GenZ', 'animequestions', 'Chargers', 'videogames', 'asoiaf'}\n"
     ]
    },
    {
     "name": "stderr",
     "output_type": "stream",
     "text": [
      "Scraping user comments:   1%|          | 179/29911 [39:34<145:11:30, 17.58s/it]"
     ]
    },
    {
     "name": "stdout",
     "output_type": "stream",
     "text": [
      "Comments saved to /Users/smutnuri/Documents/UVA/_Projects/Fall24/CBM/CBMRepo/Data/usercomments/2580374_usercomments.json\n",
      "{'ifyoulikeblank', 'books', 'Fantasy'}\n"
     ]
    },
    {
     "name": "stderr",
     "output_type": "stream",
     "text": [
      "Scraping user comments:   1%|          | 180/29911 [39:35<102:31:00, 12.41s/it]"
     ]
    },
    {
     "name": "stdout",
     "output_type": "stream",
     "text": [
      "Comments saved to /Users/smutnuri/Documents/UVA/_Projects/Fall24/CBM/CBMRepo/Data/usercomments/25snowflake52_usercomments.json\n",
      "{'TwoHotTakes', 'redditonwiki', 'Hobbies', 'rant', 'MusicRecommendations', 'martialarts', 'scifi', 'Funnymemes', 'self', 'musicsuggestions', 'FamilyMedicine', 'FluentInFinance', 'meme', 'neilgaiman', 'okbuddydraper', 'AskReddit', 'AITA_WIBTA_PUBLIC', 'Lawyertalk', 'Psychiatry', 'AskMenOver30', 'badphilosophy', 'FamilyLaw', 'AskWomenOver30', 'MauLer', 'RoastMe', 'moviecritic', 'swingtrading', 'UnethicalLifeProTips', 'ShroomID', 'Bumperstickers', 'ShittyGeneWolfe', 'unpopularopinion', 'AskWomenOver40', 'taijiquan', 'publichealth', 'Residency', 'AmItheAsshole', 'Fantasy', 'Manipulation', 'sciencefiction', 'The_Black_Tower', 'DaveRamsey', 'Damnthatsinteresting', 'The10thDentist', 'okbuddycinephile', 'millenials', 'UrsulaKLeGuin', 'OhNoConsequences', 'stories', 'TIL_Uncensored', 'Rings_Of_Power', 'hypotheticalsituation', 'coworkerstories', 'rareinsults', 'BORUpdates', 'MBA', 'AITAH', 'texas', 'Askpolitics', 'TheFirstLaw', 'Adulting', 'love', 'babylon5', 'Music', 'Money', 'StarWarsCirclejerk', 'suicidebywords', 'AllThatIsInteresting', 'mildlyinfuriating', 'psychologyofsex', 'Advice', 'jiujitsu', 'EmergencyRoom', 'AskOldPeopleAdvice', 'facepalm', 'NoStupidQuestions', 'NoShitSherlock', 'MawInstallation', 'BoomersBeingFools', 'asoiafcirclejerk', 'LifeAdvice', 'AMA', 'literature', 'oddlyspecific', 'Life', 'DeepThoughts', 'thepassportbros', 'UnitedNations', 'cute', 'investing', 'tolkienfans', 'BestofRedditorUpdates', 'DecodingTheGurus', 'popularopinion', 'Jung', 'dividends', 'awesome', 'Destiny', 'mensfashion', 'moraldilemmas', 'Iowa', 'BreedingMaterial', 'printSF', 'bakker', 'circlejerkaustralia', 'work', 'AdviceForTeens', 'psychnursing', 'Fire', 'CosmicSkeptic', 'LooksmaxingAdvice', 'ValueInvesting', 'madmen', 'Discussion', 'RedLetterMedia', '10thDentist', 'PMHNP', 'RichPeoplePF', 'SluttyConfessions', 'UnbelievableStuff', 'questions', 'books', 'phish', 'AmIOverreacting', 'TikTokCringe', 'tifu', 'MagicMushroomHunters', 'emergencymedicine', 'memesopdidnotlike', 'AmITheAngel', 'Fauxmoi', 'clevercomebacks', 'freefolk', 'JoeRogan', 'stupidquestions', 'skeptic', 'hatemyjob', 'WarhammerMemes', 'AskMenAdvice', 'bodylanguage', 'InsuranceProfessional', 'physicianassistant', 'horrorlit', 'SeriousConversation', 'todayilearned', 'bjj', 'pureasoiaf', 'amiwrong', 'WomenInNews', 'WeirdLit', 'EntitledPeople', 'LOTR_on_Prime', 'Comebacks', 'HOTDGreens', 'Teachers', 'RedditForGrownups', 'Bogleheads', 'genewolfe'}\n"
     ]
    },
    {
     "name": "stderr",
     "output_type": "stream",
     "text": [
      "Scraping user comments:   1%|          | 181/29911 [39:51<111:26:23, 13.49s/it]"
     ]
    },
    {
     "name": "stdout",
     "output_type": "stream",
     "text": [
      "Comments saved to /Users/smutnuri/Documents/UVA/_Projects/Fall24/CBM/CBMRepo/Data/usercomments/264frenchtoast_usercomments.json\n",
      "{'scubadiving', 'television', 'pics', 'pcgaming', 'whiteknighting', 'scuba', 'HermanCainAward', 'gaming', 'PoliticalHumor', 'worldnews', 'memes', 'videos', 'diving', 'hearthstone', 'Damnthatsinteresting', 'geek', 'books', 'technology', 'sports', 'GetNoted', 'selfierating', 'me_irl', 'pcmasterrace', 'clevercomebacks', 'gameofthrones', 'gamernews', 'rareinsults', 'AskReddit', 'OldSchoolCool', 'Games', 'space', 'golf', 'nottheonion', 'BaldursGate3', 'startrek', 'trueratediscussions', 'aww', 'mildyinteresting', 'soccercirclejerk', 'TextingTheory', 'news', 'nba', 'halo', 'Music', 'FIlm', 'Presidents', 'confidentlyincorrect', 'nextfuckinglevel', 'savedyouaclick', 'interestingasfuck', 'antiwork', 'Calgary', 'CyberStuck', 'NonPoliticalTwitter', 'WhitePeopleTwitter', 'dataisbeautiful', 'funny', 'chess', 'science', 'AllThatIsInteresting', 'TaylorSwift', 'StarWars', 'Eldenring', 'WatchPeopleDieInside', 'fantasybball', 'movies', '40something', 'lotr', 'NBA_Draft', 'marvelstudios', 'NatureIsFuckingLit'}\n"
     ]
    },
    {
     "name": "stderr",
     "output_type": "stream",
     "text": [
      "Scraping user comments:   1%|          | 182/29911 [39:59<98:41:19, 11.95s/it] "
     ]
    },
    {
     "name": "stdout",
     "output_type": "stream",
     "text": [
      "Comments saved to /Users/smutnuri/Documents/UVA/_Projects/Fall24/CBM/CBMRepo/Data/usercomments/26_Star_General_usercomments.json\n",
      "{'emacs', 'books', 'beer', 'linux', 'programming', 'math', 'Julia', 'Cooking', 'haskell', 'LaTeX', 'news', 'ProgrammingLanguages', 'fortran', 'Homebrewing', 'smoking', 'debian', 'knives', 'numerical', 'science', 'glutenfreecooking'}\n"
     ]
    },
    {
     "name": "stderr",
     "output_type": "stream",
     "text": [
      "Scraping user comments:   1%|          | 183/29911 [40:02<76:51:54,  9.31s/it]"
     ]
    },
    {
     "name": "stdout",
     "output_type": "stream",
     "text": [
      "Comments saved to /Users/smutnuri/Documents/UVA/_Projects/Fall24/CBM/CBMRepo/Data/usercomments/27183_usercomments.json\n",
      "{'television', 'SipsTea', 'AskOldPeople', 'videos', 'mildlyinteresting', 'ThriftStoreHauls', 'MusicRecommendations', 'houstonwade', 'Showerthoughts', 'technology', 'sports', 'economicCollapse', 'law', 'LasVegas', 'blursedimages', 'ForgottenTV', 'Frugal', 'musicsuggestions', 'LiveFromNewYork', 'usanews', 'meme', 'timetravel', 'skyrim', 'AskReddit', 'crappymusic', 'Cooking', 'travel', 'TheoVon', 'formula1', 'punk', 'KamalaHarris', 'MurderedByWords', 'Fortnite_Over40', 'Tattoocoverups', 'CES2023', 'logodesign', 'Seattle', 'bulletjournal', 'BobsBurgers', 'inflation', 'hiphop101', 'RoastMe', 'antiwork', 'Bumperstickers', 'aviation', 'Appalachia', 'BeastieBoys', 'unpopularopinion', 'science', 'reddeadredemption2', 'Whatcouldgowrong', 'DIY', 'shittymoviedetails', 'PeterExplainsTheJoke', 'SouthwestAirlines', 'PokemonTCG', 'economy', 'creepy', 'GenX', 'Futurology', 'sitcoms', 'DungeonsAndDragons', 'johnoliver', 'TattooDesigns', 'ThatsInsane', 'HighStrangeness', 'OhNoConsequences', 'insaneparents', 'vegas', 'travisandtaylor', 'OakIsland', 'pokemoncards', 'CringeTikToks', 'popculturechat', 'AITAH', 'DeadBedrooms', 'news', 'FirstResponderCringe', 'nba', 'whatisit', '80s', 'aldi', 'Music', 'hotels', 'NCL', 'Ohio', 'drones', 'WhitePeopleTwitter', 'whatsthemoviecalled', 'malelivingspace', 'AllThatIsInteresting', 'Bandnames', 'popheadscirclejerk', 'mildlyinfuriating', 'DryDads', 'nfl', 'restaurantowners', 'facepalm', 'pics', 'Satisfyingasfuck', 'oddlysatisfying', 'chickens', 'gaming', 'NoStupidQuestions', 'BoomersBeingFools', 'RVLiving', 'robots', 'DnD', 'weirdfacefunny', 'Letterkenny', 'FuckImOld', 'painting', 'NameMyCat', 'Logo_Critique', 'puppies', 'DecodingTheGurus', 'idiocracy', 'space', 'OldSchoolCool', 'vinyl', 'metalworking', 'atheism', 'nostalgia', 'sparklingwater', 'AnythingGoesNews', 'Wellthatsucks', 'politics', 'FortNiteBR', 'vrbo', 'MarkMyWords', 'autism', 'BeAmazed', 'sanfrancisco', 'SameGrassButGreener', 'Constructedadventures', 'postpunk', 'MovieSuggestions', 'cats', 'ColoradoSprings', 'CESLV', 'confidentlyincorrect', 'NewsOfTheStupid', 'WorkReform', 'interestingasfuck', 'CyberStuck', 'WhoShouldICosplay', 'NonPoliticalTwitter', 'Columbus', 'lebowski', 'pools', 'illinois', 'SweatyPalms', 'ToolBand', 'PoliticalHumor', 'careeradvice', 'books', '90s', 'robotics', 'AmIOverreacting', 'niftyaf', 'onewheel', 'TikTokCringe', 'tifu', 'reddeadredemption', 'Costco', 'OutOfTheLoop', 'Fauxmoi', 'clevercomebacks', 'AdviceAnimals', 'fnv', 'CasualUK', 'FoundPaper', 'nottheonion', 'woodworking', 'Whatisthisplane', 'mildyinteresting', 'CryptoCurrency', 'Law_and_Politics', 'Standup', 'HolUp', 'TrueOffMyChest', 'pokemongo', 'ufc', 'inthenews', 'SkyrimMemes', 'whatisthisthing', 'LifeProTips', 'entertainment', 'BlackPeopleTwitter', 'neighborsfromhell', 'marriott', 'smoking', 'russellbrand', 'OldManDad', 'PublicFreakout', 'meirl', 'ChatGPT', 'funny', 'movies', 'daddit', 'shittytattoos'}\n"
     ]
    },
    {
     "name": "stderr",
     "output_type": "stream",
     "text": [
      "Scraping user comments:   1%|          | 184/29911 [40:14<83:22:57, 10.10s/it]"
     ]
    },
    {
     "name": "stdout",
     "output_type": "stream",
     "text": [
      "Comments saved to /Users/smutnuri/Documents/UVA/_Projects/Fall24/CBM/CBMRepo/Data/usercomments/27_crooked_caribou_usercomments.json\n",
      "{'fromsoftware', 'whatsthisbug', 'SipsTea', 'mildlyinteresting', 'technology', 'Funnymemes', 'Millennials', 'me_irl', 'houseplants', 'blursedimages', 'NewGreentexts', 'badfriendspod', 'meme', 'AskReddit', 'TheoVon', 'WTF', 'gifs', 'whatismycookiecutter', 'MurderedByWords', 'Anticonsumption', '691', 'moviecritic', 'Wellworn', 'comics', 'LOONA', 'TrueFilm', 'japanesemusic', '2meirl4meirl', 'UNBGBBIIVCHIDCTIICBG', 'spiderbro', 'KidsAreFuckingStupid', 'Whatcouldgowrong', 'AmItheAsshole', 'ImaginaryMindscapes', 'marijuanaenthusiasts', 'PeterExplainsTheJoke', 'memes', 'Damnthatsinteresting', 'Bonchi', 'ThatsInsane', 'japanpics', 'bloodborne', 'OhNoConsequences', 'wholesomememes', 'succulents', 'IllegallySmolCats', 'rareinsults', 'BotanicalPorn', 'Metalcore', 'technicallythetruth', 'Unexpected', 'AITAH', 'news', 'AvPD', 'motorcycles', 'HonkaiStarRail', 'whenthe', 'ProgrammerHumor', 'WhitePeopleTwitter', 'cyberpunkgame', 'mycology', 'coolguides', 'photocritique', 'Coronavirus', 'NewJeans', 'spiders', 'tumblr', 'mildlyinfuriating', 'plantclinic', 'yakuzagames', 'facepalm', 'pics', 'cursedcomments', 'oddlysatisfying', 'macrophotography', 'EarthPorn', 'gaming', 'worldnews', 'NoStupidQuestions', 'terrariums', 'BILLLIE', 'CatDistributionSystem', 'Steam', 'MightyHarvest', 'WinStupidPrizes', 'StupidFood', 'videogames', 'KDRAMA', 'agedlikemilk', 'NameMyCat', 'Tinder', 'Vivarium', 'red_velvet', 'Palworld', 'woahthatsinteresting', 'Wellthatsucks', 'AnythingGoesNews', 'politics', 'BrandNewSentence', 'funnysigns', 'BeAmazed', 'perfectlycutscreams', 'cats', 'NewsOfTheStupid', 'interestingasfuck', 'Fallout', 'NonPoliticalTwitter', 'Dualsport', 'botany', 'SweatyPalms', 'soulslikes', 'blunderyears', 'NatureIsFuckingLit', 'pcmasterrace', 'Entomology', 'DesignPorn', 'trashy', 'comedyheaven', 'AbruptChaos', 'india', 'kpop', 'CuratedTumblr', 'Construction', 'books', 'OutOfTheLoop', 'awwnverts', 'clevercomebacks', 'JoeRogan', 'NativePlantGardening', 'Slimemolds', 'AniMixPlay', 'AdviceAnimals', 'Bonsai', 'Cyberpunk', 'MadeMeSmile', 'dankmemes', 'nottheonion', 'Piracy', 'TIdaL', 'ChoosingBeggars', 'todayilearned', 'shitposting', 'HolUp', 'gardening', 'truespotify', 'musictheory', 'BlackPeopleTwitter', 'LowSodiumCyberpunk', 'FoodPorn', 'therewasanattempt', 'maybemaybemaybe', 'nextfuckinglevel', 'funnyvideos', 'Aespa', 'AutumnPorn', 'skateboarding', 'PublicFreakout', 'meirl', 'funny', 'mesembs', 'whatsthisplant', 'waspaganda', 'Eldenring', 'GenZ', 'movies', 'madlads', 'shittytattoos'}\n"
     ]
    },
    {
     "name": "stderr",
     "output_type": "stream",
     "text": [
      "Scraping user comments:   1%|          | 185/29911 [40:44<132:41:22, 16.07s/it]"
     ]
    },
    {
     "name": "stdout",
     "output_type": "stream",
     "text": [
      "Comments saved to /Users/smutnuri/Documents/UVA/_Projects/Fall24/CBM/CBMRepo/Data/usercomments/28_raisins_usercomments.json\n",
      "{'television', 'cheesemaking', 'Showerthoughts', 'soccer', 'technology', 'LiverpoolFC', 'revancedapp', 'scifi', 'oddlyterrifying', 'Warhammer', 'spotify', 'houseplants', 'FortMcMurray', 'TiviMate', 'Battlefield', 'techsupport', 'Scotch', 'TIHI', 'PleX', 'AskReddit', 'Games', 'Cooking', 'Grimdank', 'travel', 'Meshuggah', 'alberta', 'formula1', 'WTF', 'NoLawns', 'taskmaster', 'MurderedByWords', 'Shitty_Car_Mods', 'FearFactory', '49ers', 'SalsaSnobs', 'antiwork', 'loblawsisoutofcontrol', 'AndroidQuestions', 'homeautomation', 'cordcutters', 'German', 'science', 'HomeDecorating', 'DIY', 'cocktails', 'Ijustwatched', 'AmItheAsshole', 'scambait', 'Hue', 'Damnthatsinteresting', 'homeassistant', 'curlyhair', 'kodi', 'ScottishPeopleTwitter', 'Malazan', 'formuladank', 'Coffee', 'LineageOS', 'europe', 'FishingAlberta', 'smarthome', 'Sandwiches', 'cars', 'Unexpected', 'news', 'suggestmeabook', 'oculus', 'Home', 'baseball', 'Pizza', 'Music', 'keto', 'ketorecipes', 'DestinyTheGame', 'chrome', 'MotorsportsReplays', 'ShieldAndroidTV', 'buffalobills', 'foodhacks', 'OSHA', 'nfl', 'plantclinic', 'ATBGE', 'oddlysatisfying', 'StarWars', 'EatCheapAndHealthy', 'gaming', 'NoStupidQuestions', 'worldnews', 'canada', 'servant', 'kustom', 'HumanForScale', 'fortmac', 'Addons4Kodi', 'Audi', 'Steam', 'DidntKnowIWantedThat', 'rum', 'gadgets', 'SavageGarden', 'tattoos', 'Breadit', 'Mariners', 'politics', 'Fishing', 'IsItBullshit', 'interestingasfuck', '40kLore', 'lifehacks', 'explainlikeimfive', 'buildapc', 'tipofmytongue', 'Premiumize', 'NatureIsFuckingLit', 'Scams', 'evilbuildings', 'books', 'languagelearning', 'Edmonton', 'Tile', 'OutOfTheLoop', 'Pareidolia', 'CasualUK', 'changemyview', 'nottheonion', 'horrorlit', 'todayilearned', 'HolUp', 'DesignMyRoom', 'WeirdLit', 'LifeProTips', 'InternetIsBeautiful', 'IAmA', 'sadcringe', 'natureismetal', 'funny', 'Baking', 'recipes', 'movies', 'castiron'}\n"
     ]
    },
    {
     "name": "stderr",
     "output_type": "stream",
     "text": [
      "Scraping user comments:   1%|          | 186/29911 [41:12<162:24:56, 19.67s/it]"
     ]
    },
    {
     "name": "stdout",
     "output_type": "stream",
     "text": [
      "Comments saved to /Users/smutnuri/Documents/UVA/_Projects/Fall24/CBM/CBMRepo/Data/usercomments/2948337_usercomments.json\n",
      "{'television', 'pics', 'ToppsBUNT', 'CyclingFashion', 'worldnews', 'CollegeSoftball', 'Swimming', 'atletico', 'GlobalEntry', 'Letterboxd', 'CollegeBasketball', 'Austin', 'books', 'technology', 'sports', 'MLBTheShow', 'CatholicMemes', 'soccer', 'literature', 'bicycling', 'triathlon', 'austinfood', 'hiphopheads', 'AdvancedRunning', 'wallstreetbets', 'awardtravel', 'bookscirclejerk', 'IdleTownMasterGame', 'SquadBusters', 'AdviceAnimals', 'fatFIRE', 'collegebaseball', 'MarvelSnap', 'bookclub', 'cscareerquestions', 'Dallas', 'PS5', 'hyatt', 'AMCsAList', 'running', 'GoingToSpain', 'travel', 'LonghornNation', 'AITAH', 'todayilearned', 'criterion', 'CFB', 'news', 'cars', 'olympics', 'nba', 'biltrewards', 'Kanye', 'imax', 'AustinRunning', 'oscarrace', 'BicyclingCirclejerk', 'baseball', 'Music', 'peloton', 'BlackPeopleTwitter', 'CHICubs', 'TrueFilm', 'Steelbooks', 'duolingo', 'formula1', 'explainlikeimfive', 'TrueLit', 'funny', 'cycling', 'movies', 'nfl'}\n"
     ]
    },
    {
     "name": "stderr",
     "output_type": "stream",
     "text": [
      "Scraping user comments:   1%|          | 187/29911 [41:28<152:00:05, 18.41s/it]"
     ]
    },
    {
     "name": "stdout",
     "output_type": "stream",
     "text": [
      "Comments saved to /Users/smutnuri/Documents/UVA/_Projects/Fall24/CBM/CBMRepo/Data/usercomments/2CHINZZZ_usercomments.json\n",
      "{'pics', 'TwoHotTakes', 'NoStupidQuestions', 'books', 'investing', 'wallstreetbets', 'JoeRogan', 'ar15', 'AskReddit', 'MapPorn', 'CryptoCurrency', 'WranglerTJ', 'motorcycles', 'Flagstaff', 'Presidents', 'prepping', 'Howtolooksmax', 'RoastMe', 'Teachers', 'TooAfraidToAsk', 'XTerra', 'daddit'}\n"
     ]
    },
    {
     "name": "stderr",
     "output_type": "stream",
     "text": [
      "Scraping user comments:   1%|          | 188/29911 [41:30<110:46:12, 13.42s/it]"
     ]
    },
    {
     "name": "stdout",
     "output_type": "stream",
     "text": [
      "Comments saved to /Users/smutnuri/Documents/UVA/_Projects/Fall24/CBM/CBMRepo/Data/usercomments/2Ponder-247_usercomments.json\n",
      "{'roguelites', 'Kitboga', 'opera', 'cutenoobs', 'factorio', 'classical_circlejerk', 'RS3Ironmen', 'books', 'autechre', 'decadeology', 'languagelearning', 'tea', 'classicalmusic', 'Chipotle', 'Millennials', 'spelunky', 'BattleNetwork', 'LittleCaesars', 'Megaman', 'ironscape', 'piano', 'runescape', 'puzzlevideogames', 'Games', 'YuGiOhMasterDuel', 'LolCowLive', 'GameDevelopment', 'TrueUnpopularOpinion', 'Asmongold', 'rpg_gamers', 'davidfosterwallace', '2007scape', 'InfiniteJest', 'dumbphones', 'Adulting', 'progrockmusic', 'osrs', 'booksuggestions', 'SSBM', 'Printify', 'masterduel', 'yugioh', 'interestingasfuck', 'PKA', 'casio', 'linuxquestions', 'FinalFantasyVII', 'unpopularopinion', 'MonsterHunter', 'spiders', 'IndieGaming', 'patientgamers', 'GenZ', 'Cruise'}\n"
     ]
    },
    {
     "name": "stderr",
     "output_type": "stream",
     "text": [
      "Scraping user comments:   1%|          | 189/29911 [41:33<87:07:34, 10.55s/it] "
     ]
    },
    {
     "name": "stdout",
     "output_type": "stream",
     "text": [
      "Comments saved to /Users/smutnuri/Documents/UVA/_Projects/Fall24/CBM/CBMRepo/Data/usercomments/2Responsible_usercomments.json\n",
      "{'NintendoStitch', 'quiltingblockswap', 'digitalbujo', 'EatCheapAndHealthy', 'EarthPorn', 'quilting', 'CapeBreton', 'financialindependence', 'books', 'AppalachianTrail', '52book', 'Frugal', 'DreamlightValley', 'greenville', 'hiking', 'declutter', 'southcarolina', 'AskReddit', 'Cooking', 'PokemonGoFriends', 'GearTrade', 'Palia', 'CDT', 'AnimalCrossing', 'reactiongifs', 'SuggestALaptop', 'iZombie', 'pokemongo', 'shittyfoodporn', 'ac_newhorizons', 'DesignMyRoom', 'CrossStitch', 'bulletjournal', 'CampingandHiking', 'LifeProTips', 'Maine', 'FoodPorn', 'Sims4', 'twentyonepilots', 'longtrail', 'WildernessBackpacking', 'StardewValley', 'personalfinance', 'simpleliving', 'dataisbeautiful', 'myog', 'survivor', 'Baking', 'bujo', 'Parenting', 'StardewMemes', 'TheSilphRoad'}\n"
     ]
    },
    {
     "name": "stderr",
     "output_type": "stream",
     "text": [
      "Scraping user comments:   1%|          | 190/29911 [41:40<77:35:27,  9.40s/it]"
     ]
    },
    {
     "name": "stdout",
     "output_type": "stream",
     "text": [
      "Comments saved to /Users/smutnuri/Documents/UVA/_Projects/Fall24/CBM/CBMRepo/Data/usercomments/2S1K_usercomments.json\n",
      "{'television', 'Hololive', 'pics', 'EarthPorn', 'gaming', 'mildlyinteresting', 'creepy', 'CuratedTumblr', 'Futurology', 'Showerthoughts', 'books', 'vultureculture', 'tifu', 'TF2WeaponIdeas', 'fixedbytheduet', 'lostpause', 'TF2fashionadvice', 'AskReddit', 'OldSchoolCool', 'nottheonion', 'aww', 'Dinosaurs', 'gifs', 'news', 'Art', 'LifeProTips', 'BlackPeopleTwitter', 'InternetIsBeautiful', 'food', 'tf2', 'explainlikeimfive', 'funny', 'tumblr', 'movies', 'UpliftingNews'}\n"
     ]
    },
    {
     "name": "stderr",
     "output_type": "stream",
     "text": [
      "Scraping user comments:   1%|          | 191/29911 [41:58<98:02:15, 11.88s/it]"
     ]
    },
    {
     "name": "stdout",
     "output_type": "stream",
     "text": [
      "Comments saved to /Users/smutnuri/Documents/UVA/_Projects/Fall24/CBM/CBMRepo/Data/usercomments/2Scarhand_usercomments.json\n",
      "{'AskOldPeople', 'nope', 'IF_Petites', 'mildlyinteresting', 'handmade', 'Showerthoughts', 'technology', 'oddlyterrifying', 'Asthma', 'MedicalGore', 'apple', 'AmateurRoomPorn', 'HumansBeingBros', 'TibetanTerrier', 'horror', 'Zoomies', 'Aquariums', 'AskAstrologers', 'orangecounty', 'AskWomen', 'AskReddit', 'Cooking', 'bayarea', 'WorldsCutest', 'CICO', 'WTF', 'loseit', 'LucidDreaming', 'IDmydog', 'WhatsWrongWithYourDog', 'relationship_advice', 'TheDepthsBelow', 'WiggleButts', 'texts', 'unpopularopinion', 'science', 'DogsMirin', 'morbidquestions', 'Futurology', 'GoRVing', 'AskMen', 'astrology', 'megalophobia', 'eastbay', 'wholesomememes', 'aww', 'AITAH', 'Unexpected', 'concord', 'suggestmeabook', 'news', 'AnimalsBeingJerks', 'Stoicism', 'FromPuppyToDog', 'awfuleyebrows', 'thedavidpakmanshow', 'BackpackingDogs', 'Montana', 'chowchow', 'WhitePeopleTwitter', 'mildlyinfuriating', 'retirement', 'Satisfyingasfuck', 'pics', 'Menopause', 'AskOldPeopleAdvice', 'oddlysatisfying', 'NoStupidQuestions', 'worldnews', 'preppers', 'RVLiving', 'intermittentfasting', 'absoluteunit', 'NameMyCat', 'Breadit', 'PetiteFitness', '23andme', 'SameGrassButGreener', 'cats', 'interestingasfuck', 'personalfinance', 'TerrifyingAsFuck', 'TooAfraidToAsk', 'niceguys', 'SweatyPalms', 'ericclapton', 'NatureIsFuckingLit', 'OneOrangeBraincell', 'tarot', 'StainedGlass', 'trashy', 'NSFL__', 'AbruptChaos', 'books', 'OUTFITS', 'u_GovSchwarzenegger', 'Aging', 'roughcollies', 'offmychest', 'Reincarnation', 'todayilearned', 'rarepuppers', 'TrueOffMyChest', 'GenerationJones', 'Art', 'inthenews', 'Advancedastrology', 'LifeProTips', 'teenagers', 'Botchedsurgeries', 'confessions', 'nextfuckinglevel', 'AstralProjection', 'funny', 'FunnyAnimals', 'RedditForGrownups', 'movies', 'Sourdough', 'castiron', 'TopSecretRecipes', 'AskRedditOver60'}\n"
     ]
    },
    {
     "name": "stderr",
     "output_type": "stream",
     "text": [
      "Scraping user comments:   1%|          | 192/29911 [42:13<106:34:12, 12.91s/it]"
     ]
    },
    {
     "name": "stdout",
     "output_type": "stream",
     "text": [
      "Comments saved to /Users/smutnuri/Documents/UVA/_Projects/Fall24/CBM/CBMRepo/Data/usercomments/2Tibetans_usercomments.json\n",
      "{'television', 'ask', 'AskOldPeople', 'limerence', 'Hobbies', 'vegetarianrecipes', 'flicks', 'MusicRecommendations', 'WorkFromHomeIdeas', 'Xennials', 'recruitinghell', 'Millennials', 'loki', 'musicsuggestions', 'Andrew__Scott', 'budgetcooking', 'boston', 'AskReddit', 'Cooking', 'AskMenOver30', 'BuyItForLife', 'HenryCavill', 'SiloSeries', 'MurderedByWords', 'Cheap_Meals', 'AskWomenOver30', 'seashanties', 'sebstan', 'PetsareAmazing', 'hbo', 'Volumeeating', 'femaletravels', 'Perimenopause', 'CozyFantasy', 'FalloutTVseries', 'BadMonkeyTVSeries', 'HouseOfTheDragon', 'ShantaramAppleTVPlus', 'greatpyrenees', 'careerchange', 'cordcutters', 'AskWomenOver40', 'cocktails', 'plushies', 'marvelstudios', 'answers', 'Fantasy', 'Rottweiler', 'patriotact', 'Manipulation', 'GenX', 'Futurology', 'sitcoms', 'AskWomenOver60', 'MrAndMrsSmithOnPrime', 'RandomThoughts', 'corgi', 'IllegallySmolCats', 'Sandwiches', 'BadSistersAppleTVplus', 'bookclub', 'SouthFlorida', 'netflix', 'climatechange', 'UploadTV', 'aGentlemanInMoscow', 'MealPrepSunday', 'televisionsuggestions', 'news', 'suggestmeabook', 'Productivitycafe', 'PeriodDramas', 'Adulting', 'Music', 'catshuggingcats', 'education', 'TheBigDoorPrize', 'SugarTVSeries', 'foodhacks', 'dataisbeautiful', 'midlifecrisis', 'fiveguys', 'TheBoys', 'WFH', 'florida', 'AskOldPeopleAdvice', 'Satisfyingasfuck', 'EatCheapAndHealthy', 'NoStupidQuestions', 'firefly', 'BoomersBeingFools', 'cookingforbeginners', 'SugarAppleTV', 'DeepThoughts', 'eatsandwiches', 'Life', 'FuckImOld', 'cute', 'nosurf', 'cat', 'NameMyCat', 'declutter', 'AppreciatingLeoMessi', 'OldSchoolCool', '80smusic', 'copywriting', 'AcapulcoTV', 'Wellthatsucks', 'politics', 'InterMiami', 'washdc', 'MarkMyWords', 'expat', 'povertykitchen', 'redscarepod', 'budgetfood', 'MovieSuggestions', 'SlowHorses', 'PachinkoShow', 'easyrecipes', 'printSF', 'ChrisEvans', 'digitalminimalism', 'TedLasso', 'PalayeRoyale', 'work', 'ADHD', 'DOG', 'jobsearchhacks', 'CasualConversation', 'shrinking', 'OneOrangeBraincell', 'learningtocat', 'poor', 'BSG', 'HilariaBaldwin', 'raisedbynarcissists', 'questions', 'collapse', 'books', 'tvPlus', 'AmIOverreacting', 'TolkienArt', 'LivingAlone', 'DAE', 'jobs', 'purrble', 'beinghuman', 'careerguidance', 'hamiltonmusical', 'MadeMeSmile', 'buildabear', 'AskWomenOver50', 'HughBeingAwesome', 'WeightLossFoods', 'SeriousConversation', 'TuxedoCats', 'ADHDFitness', 'SiloTVSeries', 'tragedeigh', 'TheMandalorianTV', 'LifeProTips', 'booksuggestions', 'adhdmeme', 'LOTR_on_Prime', 'therewasanattempt', 'airfryer', 'IAmA', 'LadyBoners', 'BritishTV', 'bostonhousing', 'RedditForGrownups', 'jonathanbailey', 'womenintech', 'movies', 'asoiaf'}\n"
     ]
    },
    {
     "name": "stderr",
     "output_type": "stream",
     "text": [
      "Scraping user comments:   1%|          | 193/29911 [42:40<140:22:30, 17.00s/it]"
     ]
    },
    {
     "name": "stdout",
     "output_type": "stream",
     "text": [
      "Comments saved to /Users/smutnuri/Documents/UVA/_Projects/Fall24/CBM/CBMRepo/Data/usercomments/2_Fingers_of_Whiskey_usercomments.json\n",
      "{'ask', 'SipsTea', 'TwoHotTakes', 'redditonwiki', 'mildlyinteresting', 'houstonwade', 'Showerthoughts', 'NHLMemes', 'sports', 'UTM', 'Funnymemes', 'self', 'cambridgeont', 'Manitoba', 'AskALawyer', 'AskReddit', 'badroommates', 'accord', 'travel', 'alberta', 'the_everything_bubble', 'NewsAndPolitics', 'comics', 'Calgary', 'unpopularopinion', 'science', 'Fantasy_Football', 'Nicegirls', 'KingstonOntario', 'AmItheAsshole', 'PeterExplainsTheJoke', 'Manipulation', 'CapeBreton', 'IThinkYouShouldLeave', 'Argonauts', 'Wrasslin', 'nhl', 'ShitAmericansSay', 'simpsonsshitposting', 'Boxing', 'stories', 'RandomThoughts', 'vegas', 'CostcoCanada', 'wholesomememes', 'rareinsults', 'AITAH', 'CanadianTeachers', 'princegeorge', 'suggestmeabook', 'MaddenUltimateTeam', 'P90X', 'Music', 'southpark', 'AllThatIsInteresting', 'mildlyinfuriating', 'Advice', 'facepalm', 'pics', 'Satisfyingasfuck', 'MetalForTheMasses', 'NoStupidQuestions', 'BoomersBeingFools', 'LifeAdvice', 'norsemythology', 'kitchener', 'hockeycirclejerk', 'oddlyspecific', 'westjet', 'EdmontonOilers', 'CFL', 'USNewsHub', 'moosejaw', 'canadian', 'BeAmazed', 'crv', 'fantasyfootballadvice', 'saskatchewan', 'playstation', 'BeachBodyWorkouts', 'NewsOfTheStupid', 'interestingasfuck', 'Louisiana', 'CostcoWholesale', 'hockeymemes', 'EhBuddyHoser', 'torontomapleleafs', 'OttawaSenators', 'NormMacdonald', 'lostredditors', 'questions', 'books', 'AmIOverreacting', 'TikTokCringe', 'Renters', 'Costco', 'clevercomebacks', 'saskatoon', 'regina', 'MadeMeSmile', 'nottheonion', 'TheSimpsons', 'themayormccheese', 'fantasyhockey', 'MarchAgainstTrump', 'inthenews', 'NovaScotia', 'entertainment', 'umanitoba', 'BlackPeopleTwitter', 'nextfuckinglevel', 'RighteousGemstones', 'whatcarshouldIbuy', 'hockey', 'shittytattoos'}\n"
     ]
    },
    {
     "name": "stderr",
     "output_type": "stream",
     "text": [
      "Scraping user comments:   1%|          | 194/29911 [43:09<171:36:41, 20.79s/it]"
     ]
    },
    {
     "name": "stdout",
     "output_type": "stream",
     "text": [
      "Comments saved to /Users/smutnuri/Documents/UVA/_Projects/Fall24/CBM/CBMRepo/Data/usercomments/2_alarm_chili_usercomments.json\n",
      "{'ask', 'writing', 'videos', 'mildlyinteresting', 'TwoSentenceHorror', 'Showerthoughts', 'WouldYouRather', 'self', 'NonCredibleDefense', 'musicsuggestions', 'Aquariums', 'skyrim', 'AskReddit', 'civ', 'AmITheDevil', 'Dallas', 'taskmaster', 'MurderedByWords', 'soloboardgaming', 'comics', 'whowouldwin', 'Spiderman', 'unpopularopinion', 'BatmanArkham', 'KidsAreFuckingStupid', 'outofcontextcomics', 'ExplainTheJoke', 'comicbooks', 'offbeat', 'AmItheAsshole', 'PeterExplainsTheJoke', 'BoJackHorseman', 'startrekmemes', 'Damnthatsinteresting', 'etymology', 'ShitAmericansSay', 'philosophy', 'namenerds', 'wholesomememes', 'webcomics', 'rareinsults', 'ArcherFX', 'ENGLISH', 'TrueCrimeDiscussion', 'lotrmemes', 'XCOM2', 'MapPorn', 'technicallythetruth', 'Jokes', 'AITAH', 'texas', 'news', 'discworld', 'TwoXChromosomes', 'Helldivers', 'weirdspotifyplaylists', 'lotrlcg', 'ExplainBothSides', 'Music', 'HouseMD', 'lgbt', 'tumblr', 'wholesomegreentext', 'OSHA', 'mildlyinfuriating', 'X23', 'HistoricalCapsule', 'Marvel', 'WanderingInn', 'australia', 'SapphoAndHerFriend', 'facepalm', 'pics', 'gaming', 'NoStupidQuestions', 'LowSodiumHellDivers', 'worldnews', 'BoomersBeingFools', 'brooklynninenine', 'DnD', 'oddlyspecific', 'theydidthemath', 'OneTopicAtATime', 'xmen', 'BestofRedditorUpdates', 'distractible', 'JackSucksAtGeography', 'menwritingwomen', 'OldSchoolCool', 'atheism', 'EnglishLearning', 'funnysigns', 'BrandNewSentence', 'spiritisland', 'askmath', 'saltierthankrayt', 'anime_titties', 'Gamingcirclejerk', 'confidentlyincorrect', 'interestingasfuck', 'fuckHOA', 'explainlikeimfive', 'NonPoliticalTwitter', 'confession', 'CasualConversation', 'unitedkingdom', 'UtterlyUniquePhotos', 'battletech', 'ToolBand', 'newzealand', 'BoneAppleTea', 'comedyheaven', 'raisedbynarcissists', 'CuratedTumblr', 'lostredditors', 'books', '3amjokes', 'tifu', 'slaythespire', 'clevercomebacks', 'helldivers2', 'bewareofchicken', 'rugbyunion', 'marvelmemes', 'HistoryMemes', 'todayilearned', 'ChoosingBeggars', 'BDSMAdvice', 'askphilosophy', 'amiwrong', 'inthenews', 'tragedeigh', 'adhdmeme', 'BlackPeopleTwitter', 'InterestingToRead', 'nextfuckinglevel', 'boardgames', 'meirl', 'funny', 'bi_irl', 'lgbt_superheroes', 'SubredditDrama', 'movies', 'rootgame', 'marvelchampionslcg'}\n"
     ]
    },
    {
     "name": "stderr",
     "output_type": "stream",
     "text": [
      "Scraping user comments:   1%|          | 195/29911 [43:28<166:27:30, 20.17s/it]"
     ]
    },
    {
     "name": "stdout",
     "output_type": "stream",
     "text": [
      "Comments saved to /Users/smutnuri/Documents/UVA/_Projects/Fall24/CBM/CBMRepo/Data/usercomments/2_short_Plancks_usercomments.json\n",
      "{'books'}\n"
     ]
    },
    {
     "name": "stderr",
     "output_type": "stream",
     "text": [
      "Scraping user comments:   1%|          | 196/29911 [43:28<117:07:39, 14.19s/it]"
     ]
    },
    {
     "name": "stdout",
     "output_type": "stream",
     "text": [
      "Comments saved to /Users/smutnuri/Documents/UVA/_Projects/Fall24/CBM/CBMRepo/Data/usercomments/2biscuit_usercomments.json\n",
      "{'facepalm', 'entitledparents', 'ffxiv', 'ACNHCustomDesigns', 'gaming', 'worldnews', 'mildlyinteresting', 'TalesFromTheFrontDesk', 'IncelTears', 'talesfromcallcenters', 'Showerthoughts', 'books', 'Documentaries', 'IDontWorkHereLady', 'vaxxhappened', 'tifu', 'ProRevenge', 'amibeingdetained', 'Genshin_Impact', 'JustGuysBeingDudes', 'UpliftingNews', 'BestofRedditorUpdates', 'cathostage', 'hokkolife', 'gadgets', 'MaliciousCompliance', 'menwritingwomen', 'AskReddit', 'space', 'FaeFarm_Game', 'OldSchoolCool', 'humansarespaceorcs', 'MadeMeSmile', 'nottheonion', 'aww', 'AnimalCrossing', 'BORUpdates', 'politics', 'todayilearned', 'news', 'TwoXChromosomes', 'askscience', 'NuclearRevenge', 'blackcats', 'Music', 'LifeProTips', 'cats', 'BlackPeopleTwitter', 'GrowSongOfTheEvertree', 'WitchesVsPatriarchy', 'pettyrevenge', 'Catswhoyell', 'FFXIVGlamours', 'rpghorrorstories', 'MilitaryStories', 'TheOwlHouse', 'explainlikeimfive', 'fuckHOA', 'funny', 'science', 'HFY', 'bestofpositiveupdates', 'WritingPrompts', 'UnresolvedMysteries', 'ToiletPaperUSA', 'movies', 'TalesFromYourServer', 'MusicSearch'}\n"
     ]
    },
    {
     "name": "stderr",
     "output_type": "stream",
     "text": [
      "Scraping user comments:   1%|          | 197/29911 [43:46<125:13:51, 15.17s/it]"
     ]
    },
    {
     "name": "stdout",
     "output_type": "stream",
     "text": [
      "Comments saved to /Users/smutnuri/Documents/UVA/_Projects/Fall24/CBM/CBMRepo/Data/usercomments/2catcrazylady_usercomments.json\n",
      "{'phcareers', 'OffMyChestPH', 'PHJobs', 'AskPH', 'adultingph', 'WLW', 'books'}\n"
     ]
    },
    {
     "name": "stderr",
     "output_type": "stream",
     "text": [
      "Scraping user comments:   1%|          | 198/29911 [43:46<88:48:41, 10.76s/it] "
     ]
    },
    {
     "name": "stdout",
     "output_type": "stream",
     "text": [
      "Comments saved to /Users/smutnuri/Documents/UVA/_Projects/Fall24/CBM/CBMRepo/Data/usercomments/2cry_pupper_usercomments.json\n",
      "{'television', 'witcher', 'writing', 'mildlyinteresting', 'videos', 'frugalmalefashion', 'technology', 'hardwareswap', 'law', '3DS', 'WtSSTaDaMiT', 'LiveFromNewYork', 'techsupport', 'gameofthrones', 'deadpool', 'JessicaJones', 'AskReddit', 'gifs', 'WTF', 'DCcomics', 'xboxone', 'Hotd', 'asoiaf', 'whowouldwin', 'SelfAwarewolves', 'Oscars', 'thewalkingdead', 'marvelstudios', 'pittsburgh', 'Fantasy', 'shittymoviedetails', 'BoJackHorseman', 'CrewsCrew', 'cringe', 'FullmetalAlchemist', 'Futurology', 'ElderScrolls', 'ShitAmericansSay', 'philosophy', 'guns', 'ArcherFX', 'PS5', 'aww', 'popculturechat', 'news', 'TwoXChromosomes', '3DSdeals', 'rickandmorty', 'Music', 'southpark', 'pics', 'Fitness', 'twinpeaks', 'gaming', 'worldnews', 'LeopardsAteMyFace', 'Morrowind', 'psych', 'ShittyAnimalFacts', 'AMA', 'Steam', 'MrRobot', 'projectgreenlight', 'xmen', 'fansofcriticalrole', 'millionairemakers', 'BaldursGate3', 'atheism', 'politics', 'IASIP', 'DarkSouls2', 'halo', 'darksouls3', 'anime_titties', 'geekboners', 'history', 'explainlikeimfive', 'buildapc', 'criticalrole', 'pcmasterrace', 'WoT', 'CatsAreAssholes', 'ABoringDystopia', 'books', 'jrvp', 'darksouls', 'freefolk', 'AdviceAnimals', 'humor', 'ChoosingBeggars', 'todayilearned', 'Standup', 'ANormalDayInRussia', 'entertainment', 'JusticeServed', 'nintendo', 'nextfuckinglevel', 'food', 'IAmA', 'frederickmd', 'movies', 'castiron', 'HistoryPorn', 'betterCallSaul', 'sex'}\n"
     ]
    },
    {
     "name": "stderr",
     "output_type": "stream",
     "text": [
      "Scraping user comments:   1%|          | 199/29911 [43:55<83:38:43, 10.13s/it]"
     ]
    },
    {
     "name": "stdout",
     "output_type": "stream",
     "text": [
      "Comments saved to /Users/smutnuri/Documents/UVA/_Projects/Fall24/CBM/CBMRepo/Data/usercomments/2feral_usercomments.json\n"
     ]
    },
    {
     "name": "stderr",
     "output_type": "stream",
     "text": [
      "Scraping user comments:   1%|          | 200/29911 [43:55<59:36:20,  7.22s/it]"
     ]
    },
    {
     "name": "stdout",
     "output_type": "stream",
     "text": [
      "{'u_TLeeAlexis', 'PeterExplainsTheJoke', 'VivicaSnowStories', 'menwritingwomen', 'sexystories', 'AskMenAdvice', 'flicks', 'KidsAreFuckingStupid', 'books', 'AmIOverreacting', 'RomanceBooks'}\n",
      "Comments saved to /Users/smutnuri/Documents/UVA/_Projects/Fall24/CBM/CBMRepo/Data/usercomments/2jtlkf3v_usercomments.json\n",
      "{'place', 'Calisthenic', 'russian', 'memes', 'learnprogramming', 'saudiarabia', 'Showerthoughts', 'books', 'thesims4', 'Nude_Selfie', 'self', 'kindle', 'spotify', 'xmen', 'clevercomebacks', 'Palestine', 'AskReddit', 'podcasts', 'unixporn', 'findareddit', 'DCcomics', 'suggestmeabook', 'ExJordan', 'jordan', 'dadjokes', 'anime', 'lebanonmemes', 'cats', 'booksuggestions', 'comics', 'Sims4', 'familyguy', 'fantasyfootball', 'help', 'Overwatch', 'Marvel', 'Advice'}\n"
     ]
    },
    {
     "name": "stderr",
     "output_type": "stream",
     "text": [
      "Scraping user comments:   1%|          | 201/29911 [43:59<50:00:29,  6.06s/it]"
     ]
    },
    {
     "name": "stdout",
     "output_type": "stream",
     "text": [
      "Comments saved to /Users/smutnuri/Documents/UVA/_Projects/Fall24/CBM/CBMRepo/Data/usercomments/2l2lv_usercomments.json\n",
      "{'Naruto', 'horror', 'Catholicism', 'thevenomsite', 'marvelcomics', 'books', 'comicbooks', 'cormacmccarthy', 'jiujitsu'}\n"
     ]
    },
    {
     "name": "stderr",
     "output_type": "stream",
     "text": [
      "Scraping user comments:   1%|          | 202/29911 [43:59<36:03:45,  4.37s/it]"
     ]
    },
    {
     "name": "stdout",
     "output_type": "stream",
     "text": [
      "Comments saved to /Users/smutnuri/Documents/UVA/_Projects/Fall24/CBM/CBMRepo/Data/usercomments/2local_4you_670_usercomments.json\n",
      "{'ask', 'TwoHotTakes', 'IBEW', 'Showerthoughts', 'technology', 'sports', 'law', 'self', 'Millennials', 'AskReddit', 'AITA_WIBTA_PUBLIC', 'facesitting', 'NintendoSwitch', 'KamalaHarris', 'reddit', 'antiwork', 'Christianity', 'BillBurr', 'SelfAwarewolves', 'unpopularopinion', 'science', 'cognitiveTesting', 'marvelstudios', 'AmItheAsshole', 'memes', 'apolloapp', 'Damnthatsinteresting', 'LongDistance', 'Futurology', 'Fzero', 'millenials', 'simpsonsshitposting', 'OhNoConsequences', 'botw', 'wholesomememes', 'PS5', 'texas', 'AITAH', 'news', 'TwoXChromosomes', 'Helldivers', 'OnePiece', 'DestinyTheGame', 'Money', 'WhitePeopleTwitter', 'midjourney', 'StableDiffusion', 'mildlyinfuriating', 'HistoricalCapsule', 'Advice', 'TheBoys', 'UkraineWarVideoReport', 'facepalm', 'pics', 'mentalillness', 'gaming', 'NoStupidQuestions', 'worldnews', 'LeopardsAteMyFace', 'BoomersBeingFools', 'AMA', 'dndmemes', 'BestofRedditorUpdates', 'Tinder', 'BaldursGate3', 'atheism', 'AnythingGoesNews', 'politics', 'BeAmazed', 'polandball', 'halo', 'playstation', 'Conservative', 'WitchesVsPatriarchy', 'WorkReform', 'interestingasfuck', 'Fallout', 'pettyrevenge', 'Defeat_Project_2025', 'titanfall', 'ADHD', 'CrazyFuckingVideos', 'pcmasterrace', 'XboxSeriesX', 'PoliticalHumor', 'CuratedTumblr', 'books', 'DestinyLore', 'AmIOverreacting', 'TikTokCringe', 'tifu', 'TheMajorityReport', 'ukraine', 'AdviceAnimals', 'conservativeterrorism', 'MadeMeSmile', 'Piracy', 'nottheonion', 'AntiTrumpAlliance', 'todayilearned', 'KendrickLamar', 'HolUp', 'TrueOffMyChest', 'inthenews', 'therewasanattempt', 'nextfuckinglevel', 'TopCharacterTropes', 'PublicFreakout', 'Teachers', 'movies', 'GenZ', 'shittytattoos', 'GuysBeingDudes'}\n"
     ]
    },
    {
     "name": "stderr",
     "output_type": "stream",
     "text": [
      "Scraping user comments:   1%|          | 203/29911 [44:16<67:21:50,  8.16s/it]"
     ]
    },
    {
     "name": "stdout",
     "output_type": "stream",
     "text": [
      "Comments saved to /Users/smutnuri/Documents/UVA/_Projects/Fall24/CBM/CBMRepo/Data/usercomments/2much41post_usercomments.json\n",
      "{'shittymoviedetails', 'malefashionadvice', 'AskACobbler', 'VintageFashion', 'MensLib', 'stephenking', 'Scams', 'darktower', 'IThinkYouShouldLeave', 'CuratedTumblr', 'VintageWatches', 'ontario', 'Poem_for_your_sprog', 'books', 'Letterboxd', 'thesopranos', 'malefashionuk', 'mfacirclejerk', 'calvinandhobbes', 'Vintagewatchmarket', 'mensfashionadvice', 'OCPoetry', 'TheLastAirbender', 'travisandtaylor', 'VintageClothing', 'AskReddit', 'marvelmemes', 'askTO', 'Poetry', 'BuyItForLife', 'IASIP', 'beautiful_houses', 'BlackPeopleComedy', 'ethicalfashion', 'rawdenim', 'dunememes', 'mensfashion', 'hbo', 'UnethicalLifeProTips', 'seinfeld', 'UofT', 'interestingasfuck', 'goodyearwelt', 'menswear', 'ReadingSuggestions', 'VintageLevis', 'ThrowingFits', 'ndp', 'ffacj_discussion', 'leonardcohen', 'UnusualVideos', 'CirclejerkSopranos'}\n"
     ]
    },
    {
     "name": "stderr",
     "output_type": "stream",
     "text": [
      "Scraping user comments:   1%|          | 204/29911 [44:34<92:15:22, 11.18s/it]"
     ]
    },
    {
     "name": "stdout",
     "output_type": "stream",
     "text": [
      "Comments saved to /Users/smutnuri/Documents/UVA/_Projects/Fall24/CBM/CBMRepo/Data/usercomments/2ndfloorbalcony_usercomments.json\n",
      "{'mildlyinteresting', 'AutismInWomen', 'pnwgardening', 'oddlyterrifying', 'Xennials', 'recruitinghell', 'Frugal', 'houseplants', 'HumansBeingBros', 'prettyprivilege', 'FluentInFinance', 'HadesTheGame', 'HearingLoss', 'migraine', 'AskReddit', 'BuyItForLife', 'behindthebastards', 'MurderedByWords', 'labrats', 'migrainescience', 'Seattle', 'EstrangedAdultKids', 'sexualassault', 'UnethicalLifeProTips', 'antiwork', 'orchids', 'fountainpens', 'ExplainTheJoke', 'UpliftingNews', 'Concrete', 'CleaningTips', 'Damnthatsinteresting', 'ZeroWaste', 'boringdystopia', 'CatAdvice', 'BORUpdates', 'AITAH', 'news', 'blackcats', 'Handwriting', 'graphicnovels', 'lastimages', 'WhitePeopleTwitter', 'OCDmemes', 'OCD', 'mildlyinfuriating', 'sewing', 'MyPeopleNeedMe', 'oddlysatisfying', 'pics', 'justgalsbeingchicks', 'NoStupidQuestions', 'illnessfakers', 'FelineDiabetes', 'SeniorCats', 'paint', 'oddlyspecific', 'MoldlyInteresting', 'stopdrinking', 'Wellthatsucks', 'Oldhouses', 'Gamingcirclejerk', 'WorkReform', 'interestingasfuck', 'explainlikeimfive', 'AskDocs', 'femalelivingspace', 'SeattleWA', 'NatureIsFuckingLit', 'homeowners', 'HomeImprovement', 'books', 'tifu', 'LinkedInLunatics', 'neofinetia', 'Slimemolds', 'upcycling', 'MadeMeSmile', 'Immunology', 'nottheonion', 'pothos', 'HearingAids', 'gardening', 'LifeProTips', 'nextfuckinglevel', 'food', 'StardewValley', 'adhdwomen', 'biology', 'meirl', 'rav4club', 'playrust', 'biotech', 'philodendron'}\n"
     ]
    },
    {
     "name": "stderr",
     "output_type": "stream",
     "text": [
      "Scraping user comments:   1%|          | 205/29911 [44:52<109:18:04, 13.25s/it]"
     ]
    },
    {
     "name": "stdout",
     "output_type": "stream",
     "text": [
      "Comments saved to /Users/smutnuri/Documents/UVA/_Projects/Fall24/CBM/CBMRepo/Data/usercomments/2occupantsandababy_usercomments.json\n",
      "{'CrazyIdeas', 'pics', 'amiugly', 'EatCheapAndHealthy', 'gaming', 'drumline', 'books', 'AskOuija', 'Gonster', 'tifu', 'vandwellers', 'KnifeDeals', 'redditsymphony', 'mffpc', 'AskReddit', 'todayilearned', 'news', 'MagicArena', 'EDC', 'BabyNames', 'assholedesign', 'knifeclub', 'untrustworthypoptarts', 'MovieSuggestions', 'InternetIsBeautiful', 'comics', 'UnethicalLifeProTips', 'interestingasfuck', 'IAmA', 'OopsDidntMeanTo', 'knives', 'explainlikeimfive', 'buildapc', 'funny', 'science', 'Vans', 'TooAfraidToAsk', 'WatchPeopleDieInside', 'movies', 'patientgamers', 'marchingband', 'BudgetBlades'}\n"
     ]
    },
    {
     "name": "stderr",
     "output_type": "stream",
     "text": [
      "Scraping user comments:   1%|          | 206/29911 [44:55<84:11:11, 10.20s/it] "
     ]
    },
    {
     "name": "stdout",
     "output_type": "stream",
     "text": [
      "Comments saved to /Users/smutnuri/Documents/UVA/_Projects/Fall24/CBM/CBMRepo/Data/usercomments/2patchesola_usercomments.json\n",
      "{'audiobooks', 'femalehairadvice', 'Celiac', 'COVID19positive', 'typewriters', 'Hobbies', 'books', 'thebachelor', 'RSbookclub', 'Wigs', 'stopdrinking', 'LongCovid', 'technicallythetruth', 'Cholesterol', 'politics', 'suggestmeabook', 'redscarepod', 'Music', 'VindictaRateme', 'Calligraphy', 'nextfuckinglevel', 'PlantBasedDiet', 'midjourney', 'plantbased', 'FemaleHairLoss'}\n"
     ]
    },
    {
     "name": "stderr",
     "output_type": "stream",
     "text": [
      "Scraping user comments:   1%|          | 207/29911 [44:59<67:05:19,  8.13s/it]"
     ]
    },
    {
     "name": "stdout",
     "output_type": "stream",
     "text": [
      "Comments saved to /Users/smutnuri/Documents/UVA/_Projects/Fall24/CBM/CBMRepo/Data/usercomments/2rabbitears_usercomments.json\n",
      "{'television', 'Weird', 'SipsTea', 'ParadoxExtra', 'LatinoPeopleTwitter', 'IBEW', 'mildlyinteresting', 'ShittyLifeProTips', 'CLOUDS', 'houstonwade', 'Showerthoughts', 'GTA6', 'PrequelMemes', 'scifi', 'technology', 'StandUpComedy', 'economicCollapse', 'Funnymemes', 'Xennials', 'self', 'Millennials', 'verizon', 'me_irl', 'Frugal', 'Louisville', 'LiveFromNewYork', 'TheLastAirbender', 'boston', 'meme', 'pokemon', 'AskReddit', 'Snorkblot', 'geography', 'ADHDmemes', 'travel', 'SatisfactoryGame', 'gifs', 'olympics', 'EngineeringPorn', 'loseit', 'MurderedByWords', 'conspiracy', 'Avengers', 'Anticonsumption', 'drawing', '691', 'inflation', 'moviecritic', 'comics', 'UnethicalLifeProTips', 'antiwork', '2meirl4meirl', 'Justrolledintotheshop', 'unpopularopinion', '4chan', 'science', 'SteamDeck', 'Whatcouldgowrong', 'scotus', 'Pennsylvania', 'MemeVideos', 'ExplainTheJoke', 'UpliftingNews', 'KidsAreFuckingStupid', 'marvelstudios', 'howtonotgiveafuck', 'shittymoviedetails', 'LiminalSpace', 'lostgeneration', 'BoJackHorseman', 'memes', 'GenX', 'Damnthatsinteresting', 'Futurology', 'Terraria', 'democrats', 'okbuddycinephile', 'gtaonline', 'funnymeme', 'megalophobia', 'lego', 'MinecraftMemes', 'Awww', 'AbandonedPorn', 'wholesomememes', 'geopolitics', 'PhoenixSC', 'PS5', 'lotrmemes', 'MapPorn', 'HellLetLoose', 'texas', 'Unexpected', 'news', 'mathmemes', 'TwoXChromosomes', 'TenaciousD', 'Adulting', 'FOXNEWS', 'BlackMythWukong', 'rickandmorty', 'blackcats', '3Dprinting', 'whitedudesforharris', 'Music', 'GreatBritishMemes', 'keto', 'Presidents', 'fitness30plus', 'whenthe', 'lgbt', 'SandersForPresident', 'ProgrammerHumor', 'stonerfood', 'intentionalcommunity', 'WhitePeopleTwitter', 'ContractorsVR', 'dataisbeautiful', 'southpark', 'coolguides', 'toolgifs', 'crossfit', 'classicwow', 'popheadscirclejerk', 'mildlyinfuriating', 'factoriomemes', 'HistoricalCapsule', 'Marvel', 'TheBoys', 'florida', 'facepalm', 'pics', 'pcgaming', 'oddlysatisfying', 'Satisfyingasfuck', 'StarWars', 'justgalsbeingchicks', 'factorio', 'NoStupidQuestions', 'gaming', 'pranks', 'satisfactory', 'cartoons', 'smallphones', 'AskEngineers', 'dndmemes', 'breakingbad', 'Steam', 'oddlyspecific', 'theydidthemath', 'LateStageCapitalism', 'StupidFood', 'FuckImOld', 'Palestine', 'Anarchy4Everyone', 'space', 'OldSchoolCool', 'youseeingthisshit', 'minnesota', 'atheism', 'nostalgia', 'interesting', 'funnysigns', 'MarkMyWords', 'BeAmazed', 'assholedesign', 'PoliticalCompassMemes', 'nocontextpics', 'PixelArt', 'anime_titties', 'playstation', 'cats', 'Gamingcirclejerk', 'chaoticgood', 'solarpunk', 'TedLasso', 'WorkReform', 'interestingasfuck', 'Defeat_Project_2025', 'Bossfight', 'NonPoliticalTwitter', 'virtualreality', 'redneckengineering', 'SweatyPalms', 'machinesinaction', 'exocomics', 'pcmasterrace', 'depressionmemes', 'DesignPorn', 'PoliticalHumor', 'RealTesla', 'india', 'books', 'valheim', 'gravityfalls', 'GTA', 'CozyPlaces', 'OutOfTheLoop', 'sciencememes', 'Guitar', 'JoeRogan', 'AdviceAnimals', 'truegaming', 'marvelmemes', 'dankmemes', 'MadeMeSmile', 'nottheonion', 'mildyinteresting', 'todayilearned', 'fasting', 'BlueskySocial', 'IdiotsInCars', 'BlackPeopleTwitter', 'sustainability', 'teenagers', 'therewasanattempt', 'maybemaybemaybe', 'funnyvideos', 'nextfuckinglevel', 'ClimateOffensive', 'ClimateCrisis', 'batman', 'meirl', 'Hilton', 'ChatGPT', 'bi_irl', 'funny', 'Economics', 'RedditForGrownups', 'Eldenring', 'movies', 'GenZ', 'castiron', 'madlads', 'videogames', 'GuysBeingDudes'}\n"
     ]
    },
    {
     "name": "stderr",
     "output_type": "stream",
     "text": [
      "Scraping user comments:   1%|          | 208/29911 [45:30<125:10:46, 15.17s/it]"
     ]
    },
    {
     "name": "stdout",
     "output_type": "stream",
     "text": [
      "Comments saved to /Users/smutnuri/Documents/UVA/_Projects/Fall24/CBM/CBMRepo/Data/usercomments/2rfv_usercomments.json\n",
      "{'television', 'holofractal', 'TwoHotTakes', 'traderjoes', 'YouOnLifetime', 'videos', 'mildlyinteresting', 'radiohead', 'chomsky', 'Denver', 'sports', 'DogAdvice', 'TheMcDojoLife', 'Millennials', 'sleephackers', 'aliens', 'AskReddit', 'crappymusic', 'NOLAPelicans', 'askscience', 'daverubin', 'the_everything_bubble', 'Anticonsumption', 'norulevideos', 'ParanormalEncounters', 'timberwolves', 'lexfridman', 'hbo', 'insomnia', 'Bumperstickers', 'nutrition', 'DiWHY', 'Supplements', 'science', 'billsimmons', 'Basketball', 'gifsthatendtoosoon', 'footballcards', 'Futurology', 'nhl', 'wrestling', 'Boxing', 'justbasketball', 'sportsbook', 'AITAH', 'news', 'Askpolitics', 'nba', 'TwoXChromosomes', 'Adulting', 'TrueDetective', 'Music', 'Topster', 'Money', 'dataisbeautiful', 'longevity', 'AllThatIsInteresting', 'ESPN', 'mildlyinfuriating', 'NBA_Draft', 'uppereastside', 'CirclejerkSopranos', 'florida', 'Satisfyingasfuck', 'pics', 'NoStupidQuestions', 'worldnews', 'nbadiscussion', 'BoomersBeingFools', 'AMA', 'StupidFood', 'gadgets', 'OptimistsUnite', 'NBATalk', 'nbacirclejerk', 'DecodingTheGurus', 'basketballcards', 'idiocracy', 'GetMotivated', 'PeterAttia', 'knicks', 'AbsoluteUnits', 'woahthatsinteresting', 'Ebay', 'Nootropics', 'BasketballTips', 'Wellthatsucks', 'AnythingGoesNews', 'cdifficile', 'MarkMyWords', 'NewsOfTheStupid', 'interestingasfuck', 'CyberStuck', 'explainlikeimfive', 'LooksmaxingAdvice', 'youtubedl', 'Biohackers', 'books', 'Flipping', 'AmIOverreacting', 'TikTokCringe', 'tifu', 'thefighterandthekid', 'mensfashionadvice', 'OutOfTheLoop', 'Fauxmoi', 'evolution', 'JoeRogan', 'Dryfasting', 'Flagrant2', 'NBASpurs', 'nottheonion', 'musked', 'SeriousConversation', 'todayilearned', 'Standup', 'Mavericks', 'amiwrong', 'ufc', 'inthenews', 'entertainment', 'sustainability', 'ketoscience', 'HubermanLab', 'funny', 'movies', 'dashcams'}\n"
     ]
    },
    {
     "name": "stderr",
     "output_type": "stream",
     "text": [
      "Scraping user comments:   1%|          | 209/29911 [45:47<129:02:17, 15.64s/it]"
     ]
    },
    {
     "name": "stdout",
     "output_type": "stream",
     "text": [
      "Comments saved to /Users/smutnuri/Documents/UVA/_Projects/Fall24/CBM/CBMRepo/Data/usercomments/2tep_usercomments.json\n",
      "{'Weird', 'ask', 'maximalism', 'Michigan', 'SipsTea', 'TwoHotTakes', 'VintageFashion', 'mildlyinteresting', 'technology', 'Denver', 'oddlyterrifying', 'Funnymemes', 'BanPitBulls', 'DogAdvice', 'Millennials', 'Survival', 'therapists', 'HumansBeingBros', 'Zoomies', 'dogs', 'meme', 'geography', 'AskReddit', '13or30', 'puppy101', 'goblincore', 'conservation', 'CPTSD', 'IDmydog', 'relationship_advice', 'bisexual', 'PlantedTank', 'unpopularopinion', 'science', 'KidsAreFuckingStupid', 'ExplainTheJoke', 'herpetology', 'AmItheAsshole', 'Fantasy', 'RATS', 'Chadtopia', 'Outdoors', 'memes', 'Damnthatsinteresting', 'Futurology', 'dating_advice', 'ThatsInsane', 'RandomThoughts', 'Awww', 'Dreams', 'acotar', 'TrueCrimeDiscussion', 'aww', 'lotrmemes', 'MapPorn', 'popculturechat', 'AITAH', 'Unexpected', 'news', 'TwoXChromosomes', 'amIuglyBrutallyHonest', 'coloranalysis', 'BreakUps', 'WhitePeopleTwitter', 'AnimalsBeingGeniuses', 'malelivingspace', 'tumblr', 'WeightLossAdvice', 'WatchPeopleDieInside', 'mildlyinfuriating', 'pitbulls', 'TrollXChromosomes', 'oddlysatisfying', 'pics', 'Satisfyingasfuck', 'fashionhistory', 'cursedcomments', 'HoodedEyes', 'justgalsbeingchicks', 'gaming', 'worldnews', 'AMA', 'childfree', 'GradSchool', 'shrimptank', 'painting', 'BestofRedditorUpdates', 'BookshelvesDetective', 'reactivedogs', 'stopdrinking', 'UnsolvedMysteries', 'puppies', 'OldSchoolCool', 'space', 'atheism', 'woahthatsinteresting', 'BeAmazed', 'Colorado', 'awesome', 'Eyebleach', 'cats', 'tressless', 'interestingasfuck', 'pettyrevenge', 'wholesome', 'CrazyFuckingVideos', 'HeyRiddleRiddle', 'SweatyPalms', 'UtterlyUniquePhotos', 'Weddingattireapproval', 'DenverCirclejerk', 'NatureIsFuckingLit', 'amiugly', 'CuratedTumblr', 'books', 'FortCollins', 'actuallesbians', 'TikTokCringe', 'jobs', 'clevercomebacks', 'ecology', 'Doppleganger', 'redditfusion', 'adultsurvivors', 'MadeMeSmile', 'changemyview', 'nottheonion', 'todayilearned', 'TrueOffMyChest', 'Pets', 'SuicideWatch', 'adhdmeme', 'therewasanattempt', 'nextfuckinglevel', 'StationEleven', 'LadyBoners', 'biology', 'PublicFreakout', 'meirl', 'ContagiousLaughter', 'TrueCrime', 'wildlifebiology', 'GenZ'}\n"
     ]
    },
    {
     "name": "stderr",
     "output_type": "stream",
     "text": [
      "Scraping user comments:   1%|          | 210/29911 [46:04<132:04:27, 16.01s/it]"
     ]
    },
    {
     "name": "stdout",
     "output_type": "stream",
     "text": [
      "Comments saved to /Users/smutnuri/Documents/UVA/_Projects/Fall24/CBM/CBMRepo/Data/usercomments/2thicc4this_usercomments.json\n",
      "{'television', 'ask', 'witcher', 'mildlyinteresting', 'landscaping', 'Showerthoughts', 'Letterboxd', 'PrequelMemes', 'technology', 'scifi', 'moderatepolitics', 'sports', 'analogphotography', 'verizon', 'Millennials', 'kindle', 'Scotch', 'canon', 'threebodyproblem', 'AskReddit', 'bayarea', 'shittyaskscience', 'BuyItForLife', 'wine', 'WTF', 'gifs', 'behindthebastards', 'PoliticalDiscussion', 'SiloSeries', 'MurderedByWords', 'notinteresting', 'business', 'bulletjournal', 'dune', 'moviecritic', 'terriblefacebookmemes', 'UnethicalLifeProTips', 'WrexhamAFC', 'Moviesinthemaking', 'AskAGerman', 'papermoney', 'AppleWatch', 'unpopularopinion', 'AmazonWTF', 'science', 'fountainpens', 'FUCKYOUINPARTICULAR', 'stolendogbeds', 'geopolitics2', 'Residency', 'offbeat', 'AmItheAsshole', 'OldSchoolRidiculous', 'LiminalSpace', 'Damnthatsinteresting', 'AskAnthropology', 'Futurology', 'okbuddycinephile', 'newreddits', 'AnalogCommunity', 'amibeingdetained', 'HighQualityGifs', 'legaladvice', 'aww', 'netflix', 'babyelephantgifs', 'televisionsuggestions', 'news', 'suggestmeabook', 'Askpolitics', 'TwoXChromosomes', 'Stoicism', 'Home', 'blackcats', 'napa', 'Music', 'GiftIdeas', 'Presidents', 'AccidentalWesAnderson', 'cyberpunkgame', 'photocritique', 'AllThatIsInteresting', 'OSHA', 'mildlyinfuriating', 'facepalm', 'pics', 'undelete', 'oddlysatisfying', 'StarWars', 'gaming', 'NoStupidQuestions', 'LeopardsAteMyFace', 'backpacks', 'oakland', 'CatsStandingUp', 'AppleMusic', 'LateStageCapitalism', 'ShitLiberalsSay', 'nosurf', 'whiskey', 'gadgets', 'OldSchoolCool', 'atheism', 'ManyBaggers', 'Wellthatsucks', 'Celebs', 'TokyoVice', 'ShogunTVShow', 'sanfrancisco', 'shittyfoodporn', 'FirstTimeHomeBuyer', 'AccidentalRenaissance', 'ChaseSapphire', 'cats', 'interestingasfuck', 'legal', 'mybrilliantfriendhbo', 'iCloud', 'personalfinance', 'notebooks', 'explainlikeimfive', 'napavalley', 'keming', 'tattooadvice', 'napalocals', 'itookapicture', 'photography', 'AnimalsBeingBros', 'HomeImprovement', 'books', 'tvPlus', 'emergencymedicine', 'cringepics', 'Costco', 'applehelp', 'OutOfTheLoop', 'Fauxmoi', 'jobs', 'freefolk', 'clevercomebacks', 'awardtravel', 'NuPhy', 'skeptic', 'shitpost', 'EDM', 'nursing', 'nottheonion', 'CreditCards', 'AskHistorians', 'interiordecorating', 'todayilearned', 'horizon', 'AskAnAmerican', 'EDC', 'wowthissubexists', 'AccidentalKubrick', 'pencils', 'insanepeoplefacebook', 'LifeProTips', 'entertainment', 'RedditGetsTwitter', 'nextfuckinglevel', 'Teachers', 'PublicFreakout', 'funny', 'SubredditDrama', 'movies', 'GenZ', 'HorizonScreenshots', 'shittytattoos', 'CrappyDesign'}\n"
     ]
    },
    {
     "name": "stderr",
     "output_type": "stream",
     "text": [
      "Scraping user comments:   1%|          | 211/29911 [46:19<130:29:19, 15.82s/it]"
     ]
    },
    {
     "name": "stdout",
     "output_type": "stream",
     "text": [
      "Comments saved to /Users/smutnuri/Documents/UVA/_Projects/Fall24/CBM/CBMRepo/Data/usercomments/2tightspeedos_usercomments.json\n",
      "{'ask', 'traderjoes', 'mildlyinteresting', 'videos', 'DestinyFashion', 'TheForeverWinter', 'Showerthoughts', 'technology', 'WouldYouRather', 'Chipotle', 'Funnymemes', 'self', 'csgo', 'CrucibleGuidebook', 'FluentInFinance', 'MouseReview', 'overwatch2', 'Cr1TiKaL', 'riotgames', 'Overwatch_Memes', 'csMajors', 'Games', 'ADHDmemes', 'Diablo', 'badroommates', 'Hiphopcirclejerk', 'Grimdank', 'FPSAimTrainer', 'forsen', 'PiratedGames', 'codyko', 'xqcow', 'Anticonsumption', 'Seattle', 'hiphop101', 'UnethicalLifeProTips', 'destiny2', 'energydrinks', 'tf2', 'gamingsuggestions', 'apexlegends', 'unpopularopinion', 'science', 'Overwatch', 'blackops6', 'PetPeeves', 'AmItheAsshole', 'ItsAllAboutGames', 'tipping', 'PokemonTCG', 'CleaningTips', 'The10thDentist', 'xbox', 'millenials', 'stories', 'RandomThoughts', 'hypotheticalsituation', 'spiderman2', 'rareinsults', 'PS5', 'AskSocialScience', 'MapPorn', 'NahOPwasrightfuckthis', 'AITAH', 'rpg_gamers', 'TwoXChromosomes', 'Adulting', 'aldi', 'Helldivers', 'OverwatchUniversity', 'ModernWarfareIII', 'rap', 'DestinyTheGame', 'UberEATS', 'AskFeminists', 'NationalPark', 'jerseymikes', 'Warframe', 'starterpacks', 'tacobell', 'mildlyinfuriating', 'h3h3productions', 'psychologyofsex', 'TheBoys', 'trolleyproblem', 'OverwatchTMZ', 'facepalm', 'pcgaming', 'pics', 'Spacemarine', 'gaming', 'NoStupidQuestions', 'BoomersBeingFools', 'ImTheMainCharacter', 'LifeAdvice', 'VALORANT', 'Steam', 'ramattramains', 'DestinyMemes', 'theydidthemath', 'ShouldIbuythisgame', 'AbsoluteUnits', 'atheism', 'Wellthatsucks', 'Asmongold', 'Jcole', 'XDefiant', 'diablo4', 'leftist', 'okbuddyguardian', 'Destiny', 'halo', 'moraldilemmas', 'Gamingcirclejerk', 'CrumblCookies', 'carscirclejerk', 'interestingasfuck', 'psychology', 'explainlikeimfive', 'NonPoliticalTwitter', 'apexuniversity', 'confession', 'illinois', 'mtg', 'absolutelynotme_irl', 'highschool', 'pcmasterrace', 'MercyMains', 'PoliticalHumor', 'RealTesla', 'comedyheaven', 'CuratedTumblr', 'questions', 'books', 'DestinyLore', 'PanicAttack', 'COD', 'TikTokCringe', 'GetNoted', 'sciencememes', 'stupidquestions', 'changemyview', 'nottheonion', 'Panera', 'youtubedrama', 'GenjiMains', 'KendrickLamar', 'ZenyattaMains', 'destinycirclejerk', 'Competitiveoverwatch', 'fuckubisoft', 'GlobalOffensive', 'onejoke', 'OWConsole', 'Teachers', 'GamingLeaksAndRumours', 'funny', 'jimmyjohns', 'MacMiller', 'RedditForGrownups', 'YouShouldKnow', 'whatcarshouldIbuy', 'HorizonZeroDawn', 'GenZ', 'patientgamers', 'movies', 'videogames'}\n"
     ]
    },
    {
     "name": "stderr",
     "output_type": "stream",
     "text": [
      "Scraping user comments:   1%|          | 212/29911 [46:35<129:50:25, 15.74s/it]"
     ]
    },
    {
     "name": "stdout",
     "output_type": "stream",
     "text": [
      "Comments saved to /Users/smutnuri/Documents/UVA/_Projects/Fall24/CBM/CBMRepo/Data/usercomments/2v1mernfool_usercomments.json\n",
      "{'television', 'architecture', 'scifi', 'relationships', 'law', 'apple', 'Instagramreality', 'TheLastAirbender', 'orangecounty', 'Edinburgh', 'PcBuild', 'WTF', 'Starlink', 'China', 'ukpolitics', 'moviecritic', 'aviation', 'UNBGBBIIVCHIDCTIICBG', 'Justrolledintotheshop', 'unpopularopinion', 'science', 'DIY', 'ghibli', 'LiminalSpace', 'Futurology', 'millenials', 'formuladank', 'youcankallmekris', 'SupermodelCats', 'guns', 'Nikon', 'golf', '2ndYomKippurWar', 'cuba', 'ireland', 'Unexpected', 'Archaeology', 'AITAH', 'InfowarriorRides', 'Adulting', 'baseball', 'Scotland', 'dataisbeautiful', 'coolguides', 'spotted', 'CityPorn', 'pcgaming', 'confusing_perspective', 'gaming', 'LeopardsAteMyFace', 'Palestine', 'InternationalNews', 'Rabbits', 'nostalgia', 'canadian', 'confidentlyincorrect', 'blunderyears', 'OneOrangeBraincell', 'trashy', 'itookapicture', 'sandiego', 'Construction', 'OutOfTheLoop', 'conservativeterrorism', 'ussoccer', 'CanadianInvestor', 'todayilearned', 'amihot', 'GooglePixel', 'LifeProTips', 'IdiotsInCars', 'singularity', 'teenagers', 'maybemaybemaybe', 'PersonalFinanceCanada', 'supercars', 'ContagiousLaughter', 'movies', 'Showerthoughts', 'Petioles', 'sports', 'GreenAndPleasant', 'Funnymemes', 'filmphotography', 'Millennials', 'velvethippos', 'FujifilmX', 'MurderedByWords', 'popping', 'onguardforthee', 'Canada_sub', 'Wellworn', 'loblawsisoutofcontrol', 'KidsAreFuckingStupid', 'youtube', 'VintageLenses', 'KaraAndNate', 'getdisciplined', 'LSD', 'europe', 'Android', 'Albertapolitics', 'rareinsults', 'popculturechat', 'Celebhub', 'canadients', 'texas', 'YesTheory', 'harrypotter', 'sillybritain', 'MarvelStudiosSpoilers', 'ParlerWatch', 'mildlyinfuriating', 'ndp', 'australia', 'headphones', 'pics', 'StarWars', 'worldnews', 'carporn', 'TheBear', 'oddlyspecific', 'wallstreetbets', 'KaraNate_EamonBec', 'space', 'OldSchoolCool', 'union', 'atheism', 'Nootropics', 'AnythingGoesNews', 'OldPhotosInRealLife', 'CampingandHiking', 'cats', 'Conservative', 'TrueReddit', 'tressless', 'buildapc', 'NonPoliticalTwitter', 'RoastMyCat', 'fucktheccp', 'photography', 'postprocessing', 'cringepics', 'ukraine', 'AdamMockler', 'clevercomebacks', 'CasualUK', 'nottheonion', 'CryptoCurrency', 'ufc', 'inthenews', 'tragedeigh', 'redditnow', 'therewasanattempt', 'Idiotswithguns', 'nextfuckinglevel', 'funnyvideos', 'TorontoRealEstate', 'trees', 'PublicFreakout', 'Teachers', 'meirl', 'worldevents', 'SipsTea', 'TwoHotTakes', 'mildlyinteresting', 'houstonwade', 'economicCollapse', 'self', 'Frugal', 'AskReddit', 'geography', 'TheoVon', 'alberta', 'gifs', 'Sneakers', 'the_everything_bubble', 'conspiracy', 'NoRulesCalgary', 'antiwork', 'Calgary', 'Pixar', 'UkrainianConflict', 'FUCKYOUINPARTICULAR', 'TheTryGuys', 'Eamonandbec', 'DrDisrespectLive', 'Awww', 'GODZILLA', 'aww', 'news', 'TwoXChromosomes', 'Music', 'spaceporn', 'whenthe', 'fujix', 'WhitePeopleTwitter', 'Autos', 'WatchPeopleDieInside', 'fujifilm', 'h3h3productions', 'DnD', 'gadgets', 'microdosing', 'tattoos', 'woahthatsinteresting', 'reactiongifs', 'Wellthatsucks', 'BeAmazed', 'chaoticgood', 'NewsOfTheStupid', 'interestingasfuck', 'Catculations', 'unitedkingdom', 'SweatyPalms', 'pcmasterrace', 'DoesAnybodyElse', 'Porsche', 'PoliticalHumor', 'CrispyConcords', 'UnbelievableStuff', 'climate', 'editorialcartoons', 'reactgirlsofYT', 'Edmonton', 'Fauxmoi', 'jobs', 'Guitar', 'JoeRogan', 'LinusTechTips', 'RX7', 'CapitolConsequences', 'StrangerThings', 'CanadaHousing2', 'SkincareAddiction', 'SonyAlpha', 'RenewableEnergy', 'Art', 'seinfeld', 'analog', 'GenZ', 'religiousfruitcake', 'TheTryGuysSnark', 'iamverybadass', 'u_Grace-Music', 'IBEW', 'videos', 'radiohead', 'technology', 'StandUpComedy', 'revancedapp', 'Xennials', 'FluentInFinance', 'Indiana', 'formula1', 'Mi9T', 'EOOD', 'ClimateCrisisCanada', 'Christianity', '2meirl4meirl', 'marvelstudios', 'offbeat', 'Banff', 'MensLib', 'esist', 'cringe', 'Damnthatsinteresting', 'AskMen', 'F1Technical', 'ThatsInsane', 'thegrandtour', 'japan', 'cars', 'motorcycles', 'MechanicalKeyboards', 'holdmybeer', 'UkraineWarVideoReport', 'facepalm', 'canada', 'NoStupidQuestions', 'ren', 'BoomersBeingFools', 'CanadaPolitics', 'interesting', 'canadaleft', 'politics', 'Asmongold', 'LivestreamFail', 'MarkMyWords', 'AskACanadian', 'saltierthankrayt', 'CyberStuck', 'CrazyFuckingVideos', 'explainlikeimfive', 'HikingAlberta', 'fightporn', 'CanadaPost', 'books', 'kallmekris', 'TikTokCringe', 'AnimalsBeingDerps', 'bicycling', 'AdviceAnimals', 'MadeMeSmile', 'LinkinPark', 'AdrenalinePorn', 'insanepeoplefacebook', 'BlackPeopleTwitter', 'audiophile', 'funny', 'bestofinternet', 'ActualPublicFreakouts', 'sex'}\n"
     ]
    },
    {
     "name": "stderr",
     "output_type": "stream",
     "text": [
      "Scraping user comments:   1%|          | 213/29911 [47:05<165:18:56, 20.04s/it]"
     ]
    },
    {
     "name": "stdout",
     "output_type": "stream",
     "text": [
      "Comments saved to /Users/smutnuri/Documents/UVA/_Projects/Fall24/CBM/CBMRepo/Data/usercomments/300mhz_usercomments.json\n",
      "{'RebelTaxi', 'cavalierkingcharles', 'snes', 'HairDye', 'bully', 'GreatnessOfWrestling', 'AmazingEbonyWomen', 'RetroNickelodeon', 'LittleFreeLibrary', 'Xennials', 'AthleticBabes', 'AvaDevine', 'u_Stunning-Argument', 'beerporn', 'AFOL', 'SaintsRow', 'iamatotalpieceofshit', 'u_gabriellabmth1', 'crappymusic', 'u_somehowSnail', 'needysluts', 'CarDesign', 'HellsKitchen', 'LengfOrGirf', 'waffles', 'karleegrey', '90sHipHop', 'nova', 'badMovies', 'moviecritic', 'RoastMe', 'MomPov', 'regularcarreviews', 'SaraJay', 'AbbottElementary', 'colors', 'CreepyBonfire', 'VirginiaGoneWild', 'thick', 'cocktails', 'Nicegirls', 'Robzombie', 'thickfat', 'badfoodporn', 'Poopfromabutt', 'CleaningTips', 'VintageToys', 'sitcoms', 'BuiltFromTheGroundUp', 'barrescue', 'MichigansHottestWomen', 'needforspeed', 'SuperSizedEbonyLovers', 'u_AncientPerception138', 'rnb', 'Fuckthealtright', 'rockybalboa', 'numetal', 'ebonyamateurs', 'CringeTikToks', 'u_awakeoctopus', 'abanpreach', 'MacNCheesePorn', 'GymPawg', 'Maltese', 'MadMax', 'televisionsuggestions', 'Amalgam_Comics', 'beautyblacks', 'Soda', 'u_Tight-Bird760', '80s', 'JadaToys', 'Fancast', 'FIlm', 'ratemyboobs', 'AnissaKate', 'Superhero_Ideas', 'batman_comics', 'graphicnovels', 'stonerfood', 'eva_angelina', 'janetjackson', 'EbonySelfies', 'fistofthenorthstar', 'Fullydonecustoms164', 'Simpsons', 'CustomHotWheels', 'Latinabbw', 'smoothjazz', 'pics', 'washingtondc', 'ThickThighs', 'Smallafro', 'Halloweenmovies', 'icecream', 'superheroes', 'TheWire', 'FuckImOld', 'milkshake', 'thong', 'sexyblackfemale', 'u_jyoungmuzik', 'PiercedNSFW', 'ThicknessAppreciaton', 'That70sshow', 'u_ariaxxo', 'nostalgia', 'CommercialsIHate', 'foodnetwork', 'CartoonNetwork', 'u_sheisatang', 'CableTV_Memories', 'glasses', 'soup', 'MovieSuggestions', 'MafiaTheGame', '1980s', 'hotdogs', 'dvdcollection', 'blackmen', 'Noses', 'Tokusatsu', 'u_Puzzled_MJ', 'classiccars', 'EbonyBarbies', 'LisaAnnUnleashed', 'EbonyAI', 'Yorkies', 'candy', 'u_yoursweetycici', '2000sNostalgia', 'junkfoodfinds', 'psx', 'Lego2KDrive', 'LegoSpace', 'prowrestling', 'UnbelievableStuff', 'books', 'Bacon', 'shorthairedhotties', 'TikTokCringe', 'IndieComicBooks', 'Shihtzu', 'reddeadredemption', 'u_MaggieGreenLive', 'cougars_and_milfs_sfw', 'NameMyDog', 'slasherfilms', 'MichiganGW2', 'carspotting', 'Robocop', 'ActionFigures', 'PizzaCrimes', '90scartoons', 'BigBrotherNSFW', 'The1980s', 'ElCamino', 'bald', 'snacking', 'ridgeracer', 'crimsonskies', 'hairmetal', 'teenagers', 'seinfeld', 'saturdaynightlive', 'nickelodeon', 'u_lunalondonn', 'Blacktittyworld', 'u_TurbulentYogurts', 'batman', 'mountaindew', 'u_IndyDayz', 'jimmyjohns', 'hot_dog', '90s_kid', 'movieposters'}\n"
     ]
    },
    {
     "name": "stderr",
     "output_type": "stream",
     "text": [
      "Scraping user comments:   1%|          | 214/29911 [47:16<144:12:20, 17.48s/it]"
     ]
    },
    {
     "name": "stdout",
     "output_type": "stream",
     "text": [
      "Comments saved to /Users/smutnuri/Documents/UVA/_Projects/Fall24/CBM/CBMRepo/Data/usercomments/311Konspiracy_usercomments.json\n",
      "{'television', 'ask', 'witcher', 'writing', 'AmericanFascism2020', 'law', 'SexPositive', 'zillowgonewild', 'civ', 'behindthebastards', 'KlamathFalls', 'CPTSD', 'MakeupAddiction', 'Seattle', 'Firearms', 'inflation', 'moviecritic', 'MAGANAZI', 'aviation', 'Justrolledintotheshop', 'unpopularopinion', 'science', 'DIY', 'reallygorgeous', 'shittymoviedetails', 'LiminalSpace', 'JeepGladiator', 'Futurology', 'DungeonsAndDragons', 'SeattleKink', '2american4you', 'Unexpected', 'nba', 'billiards', 'Adulting', 'rickandmorty', 'baseball', 'Money', 'dataisbeautiful', 'coolguides', 'crossfit', 'CirclejerkSopranos', 'indiasocial', 'Satisfyingasfuck', 'gaming', 'submechanophobia', 'JordanPeterson', 'AmericaBad', 'dmtguide', 'agedlikemilk', 'Antiques', 'stopdrinking', 'forensics', 'AbsoluteUnits', 'IASIP', 'SanJose', 'altcountry', 'ThatLookedExpensive', 'DesignPorn', 'SexWorkers', 'sandiego', 'HilariaBaldwin', 'Construction', 'collapse', 'Jojo', 'okbuddychicanery', 'FoundPaper', 'horrorlit', 'todayilearned', 'guillainbarre', 'drunk', 'LifeProTips', 'BasedGeorgia', 'smoking', 'army', 'sadcringe', 'movies', 'starterpacks', 'TheDeprogram', 'place', 'Showerthoughts', 'listentothis', 'sports', 'oddlyterrifying', 'LasVegas', 'ShermanPosting', 'ANormalDayInAmerica', 'skyrim', 'travel', 'whatismycookiecutter', 'MurderedByWords', 'RoastMyCar', 'SCJerk', 'UnethicalLifeProTips', 'AskSF', 'sysadmin', 'Wrasslin', 'OaklandAthletics', 'PoliticsVids', 'Fuckthealtright', 'europe', 'popculturechat', 'Celebhub', 'texas', 'RussianCircus', 'firstimpression', 'KarenGoBrrr', 'turntables', 'NationalPark', 'cyberpunkgame', 'southpark', 'NewVegasMemes', 'CosplayForEveryone', 'serialkillers', 'TheBoys', 'povertyfinance', 'pics', 'StarWars', 'worldnews', 'RVLiving', 'oddlyspecific', 'FuckImOld', 'wallstreetbets', 'LV426', 'TipOfMyFork', 'space', 'OldSchoolCool', 'traveltrailers', 'atheism', 'AnythingGoesNews', 'roadtrip', 'MuseumPros', 'sanfrancisco', 'libsofreddit', 'chessporn', 'Gamingcirclejerk', 'Conservative', 'magick', 'pettyrevenge', 'ADHD', 'vexillology', 'AskRedditAfterDark', 'financialindependence', 'Truckers', 'Retconned', 'Costco', 'burbank', 'SeveranceAppleTVPlus', 'freefolk', 'Robocop', 'AnarchyChess', 'nottheonion', 'SmorgasbordBizarre', 'TrueOffMyChest', 'hellraiser', 'AskAnEscort', 'tragedeigh', 'therewasanattempt', 'confessions', 'nextfuckinglevel', 'funnyvideos', 'InternetIsBeautiful', 'skiing', 'controlgame', 'meirl', 'fakehistoryporn', 'pool', 'Weird', 'fitnesscirclejerk', 'SipsTea', 'mildlyinteresting', 'ThriftStoreHauls', 'gameofthrones', 'geography', 'SpaceXMasterrace', 'AskReddit', 'bayarea', 'oliver', 'loseit', 'conspiracy', 'WayOfTheBern', 'CatastrophicFailure', 'antiwork', 'AIRemastered', 'AskUK', 'ExplainTheJoke', 'UpliftingNews', 'HumansAreMetal', 'GoRVing', 'socialskills', 'JustGuysBeingDudes', 'depressionmeals', 'insaneparents', 'Awww', 'conspiracy_commons', 'MapPorn', 'news', 'TwoXChromosomes', 'MovieLeaksAndRumors', 'Music', 'Albuquerque', 'WhitePeopleTwitter', 'malelivingspace', 'chessbeginners', 'DarwinAwards', 'Woodcarving', 'Benzedrex', 'BayAreaEnts', 'gadgets', 'Doom', 'BeAmazed', 'UpvoteBecauseButt', 'MovieSuggestions', 'gunpolitics', 'Minecraft', 'interestingasfuck', 'HorrorGaming', 'personalfinance', 'TankPorn', 'Bossfight', 'unitedkingdom', 'TooAfraidToAsk', 'SweatyPalms', 'pcmasterrace', 'SanFranciscoAnalog', 'NewMexico', 'Sauna', 'residentevil4', 'MensRights', 'reddeadredemption', 'Fauxmoi', 'JoeRogan', 'Jordan_Peterson_Memes', 'fnv', 'Cyberpunk', 'midcenturymodern', 'criterion', 'ANormalDayInRussia', 'Art', 'Lovecraft', 'WeirdLit', 'MaintenancePhase', 'adhdmeme', 'RoleReversal', 'TopCharacterTropes', 'Eminem', 'Cartalk', 'Prison', 'Economics', 'Eldenring', 'Bogleheads', 'YouShouldKnow', 'GenZ', 'santacruz', 'shittytattoos', 'stephenking', 'TwoSentenceHorror', 'technology', 'Xennials', 'fo4', 'FluentInFinance', 'MoneyDiariesACTIVE', 'boeing', 'labrats', 'ArtefactPorn', 'falloutnewvegas', 'USdefaultism', 'OvereatersAnonymous', 'ShaneGillis', 'papermoney', 'BatmanArkham', 'marvelstudios', 'PeterExplainsTheJoke', 'economy', 'creepy', 'GenX', 'Damnthatsinteresting', 'AskMen', 'ThatsInsane', 'philosophy', 'AbsurdMovies', 'A24', 'technicallythetruth', 'EnoughMuskSpam', 'WhatWeDointheShadows', 'davidgoggins', 'curb', 'sewing', 'UkraineWarVideoReport', 'ObscureDrugs', 'facepalm', 'okmatewanker', 'NoStupidQuestions', 'preppers', 'Anarcho_Capitalism', 'mythology', 'BoomersBeingFools', 'GodofWarRagnarok', 'asoiafcirclejerk', 'LateStageCapitalism', 'StupidFood', 'truerateme', 'whatsthisworth', 'entourage', 'BaldursGate3', 'politics', 'playingcards', 'Fallout', 'CyberStuck', 'explainlikeimfive', 'fusion', 'lebowski', 'SeattleWA', 'poor', 'RealTesla', 'typewriters', 'books', 'TikTokCringe', 'REBubble', 'CozyPlaces', 'ThriftGrift', 'Mid_Century', 'MadeMeSmile', 'AntiTrumpAlliance', 'BicyclingCirclejerk', 'whatisthisthing', 'LowSodiumCyberpunk', 'JusticeServed', 'food', 'FemdomCommunity', 'funny', 'ghostoftsushima', 'Libertarian', 'StarTrekDiscovery', 'OccultConspiracy', 'sex'}\n"
     ]
    },
    {
     "name": "stderr",
     "output_type": "stream",
     "text": [
      "Scraping user comments:   1%|          | 215/29911 [47:48<180:05:51, 21.83s/it]"
     ]
    },
    {
     "name": "stdout",
     "output_type": "stream",
     "text": [
      "Comments saved to /Users/smutnuri/Documents/UVA/_Projects/Fall24/CBM/CBMRepo/Data/usercomments/3141592653489793238_usercomments.json\n",
      "{'television', 'mildlyinteresting', 'PrequelMemes', 'Mistborn', 'NonCredibleDefense', 'gallifrey', 'TheTalosPrinciple', 'civ', 'Games', 'cremposting', 'SatisfactoryGame', 'gifs', 'SiloSeries', 'eupersonalfinance', 'SCP', 'PersonOfInterest', 'baldursgatememes', 'HouseOfTheDragon', 'science', 'cirkeltrek', 'UpliftingNews', 'NonCredibleDiplomacy', 'TheDigitalCircus', 'technews', 'nvidia', 'AvatarMemes', 'Damnthatsinteresting', 'SoraAi', 'AlanWake', 'Fotv', 'wholesomememes', 'europe', 'outerwilds', 'haskell', 'lotrmemes', 'MapPorn', 'Netherlands', 'MindHunter', 'RimWorld', 'news', 'mathmemes', 'Helldivers', 'YUROP', 'gamedev', 'DankMemesFromSite19', 'houseofleaves', 'comfyui', 'OculusQuest', 'learnmachinelearning', 'dataisbeautiful', 'StableDiffusion', 'UkraineWarVideoReport', 'oddlysatisfying', 'gaming', 'factorio', 'SteamVR', 'programminghorror', 'Physics', 'victoria3', 'rust', 'unrealengine', 'DetroitBecomeHuman', 'doctorwho', 'Unity3D', 'DiscoElysium', 'gadgets', 'Doom', 'sdforall', 'ElonJetTracker', 'space', 'BaldursGate3', 'hardware', 'BeAmazed', 'valve', 'FalloutHumor', 'AlignmentCharts', 'printSF', 'TNOmod', 'interestingasfuck', 'Fallout', 'explainlikeimfive', 'metro', 'BreachWizards', 'virtualreality', 'pcmasterrace', 'Amsterdam', 'DeadlockTheGame', 'evilbuildings', 'AbruptChaos', 'UnbelievableStuff', 'books', 'engineering', 'u_Proton_Team', 'programming', 'OutOfTheLoop', 'Frostpunk', 'Stellaris', 'dawnofwar', 'nottheonion', 'HistoryMemes', 'todayilearned', 'DoctorWhumour', 'ANormalDayInRussia', 'MachineLearning', 'Art', 'HalfLife', 'LifeProTips', 'nextfuckinglevel', 'controlgame', 'mac', 'PrincessesOfPower', 'ChatGPT', 'Factoriohno', 'movies', 'LocalLLaMA'}\n"
     ]
    },
    {
     "name": "stderr",
     "output_type": "stream",
     "text": [
      "Scraping user comments:   1%|          | 216/29911 [48:05<167:02:07, 20.25s/it]"
     ]
    },
    {
     "name": "stdout",
     "output_type": "stream",
     "text": [
      "Comments saved to /Users/smutnuri/Documents/UVA/_Projects/Fall24/CBM/CBMRepo/Data/usercomments/314kabinet_usercomments.json\n",
      "{'ask', 'SipsTea', 'whatsthisbug', 'sadposting', 'Konosuba', 'Calisthenic', 'shieldbro', 'hmm', 'u_Growshop_Baltics', 'uncannyvalley', 'GoneWildTrans', 'ape', 'dbfz', 'es', 'Experiencers', 'oddlyterrifying', 'Funnymemes', 'self', 'GoneWildCD', 'DotA2', 'blursedimages', 'me_irl', 'Frieren', 'aliens', 'Jujutsufolk', 'TheElderScrollsOnline', 'meme', 'Espana', 'AskReddit', 'SonoBisqueDoll', 'geography', 'UzakiChan', 'shittyaskscience', 'LatinAmerica', 'guatemala', 'GoingToSpain', 'CouncilOfCats', 'ChainsawMan', 'WTF', 'u_Whole-Foot-9361', 'manga', 'Catswithjobs', 'spain', '2007scape', 'greebles', 'conspiracy', 'China', 'blursed_videos', 'wowhardcore', 'WhatsWrongWithYourCat', 'u_DanceBit_Web', 'centralamerica', 'antiwork', 'StickArena', 'SimulationTheory', 'ShroomID', 'turtlewow', 'PornhubComments', '2meirl4meirl', 'DiWHY', 'Crunchyroll', 'ufo', 'Whatcouldgowrong', 'Overwatch', 'MemeVideos', 'RedditRandomVideos', 'Dank', 'cryptids', 'scambait', 'cutenoobs', 'memes', 'Damnthatsinteresting', 'ChimpCrazyHBO', 'howislivingthere', 'mattrose', 'animegifs', 'ThatsInsane', 'stories', 'megalophobia', 'RandomThoughts', 'Higurashinonakakoroni', 'bizarrelife', 'wholesomememes', 'Sissies', 'rareinsults', 'MapPorn', 'dontputyourdickinthat', 'Unexpected', 'suggestmeabook', 'goodanimemes', 'u_GrandeBazar', 'nagatoro', 'WizTheLich', 'askspain', 'WhitePeopleTwitter', 'coolguides', 'CountOnceADay', 'sissypersonals', 'spiders', 'wholesomegreentext', 'classicwow', 'mildlyinfuriating', 'u_sawcissonch', 'asklatinamerica', 'animenocontext', 'DarwinAwards', 'indiasocial', 'oddlysatisfying', 'pics', 'cursedcomments', 'facepalm', 'ThailandTourism', 'Ningen', 'MorbidReality', 'NoStupidQuestions', 'Monke', 'DemonolatryPractices', 'worldnews', 'StrangeEarth', 'ImTheMainCharacter', 'BoomersBeingFools', 'wowservers', 'hentai', 'dndmemes', 'hopeposting', 'literature', 'oddlyspecific', 'repost', 'StupidFood', 'u_VChatgg', 'impressively', 'creepyPMs', 'discordVideos', 'toarumajutsunoindex', 'dankgentina', 'shitposts', 'crossdressing', 'ForzaHorizon', 'runescape', 'theviralthings', 'AbsoluteUnits', 'WhyWomenLiveLonger', 'woahthatsinteresting', 'Asmongold', 'BeAmazed', 'learndota2', 'JuJutsuKaisen', 'perfectlycutscreams', 'u_atlas_recovery', 'anime', 'MovieSuggestions', 'cats', 'anime_irl', 'Astronomy', 'interestingasfuck', 'work', 'occult', 'Berserk', 'u_Calvin_Klein_Europe', 'Catculations', 'CrazyFuckingVideos', 'bindingofisaac', 'LooksmaxingAdvice', 'SweatyPalms', 'StupidMedia', 'dankruto', 'u_indeed_com', 'absolutelynotme_irl', 'OneOrangeBraincell', 'holdmycatnip', 'comedyheaven', 'fightporn', 'Overwatch_Porn', 'books', 'AskOuija', 'TikTokCringe', 'thatscrazybro', 'BeamNG', 'visualnovels', 'UFOs', 'clevercomebacks', 'wow', 'MadeMeSmile', 'Dammcoolbingo', 'SquarePosting', 'FunnyDogVideos', 'Guiltygear', 'shitposting', 'bokunokokoro', 'booksuggestions', 'cartels', 'therewasanattempt', 'maybemaybemaybe', 'nextfuckinglevel', 'ShittyMapPorn', 'PublicFreakout', 'meirl', 'BathroomShrooms', 'Eesti', 'funny', 'PortugalExpats', 'volcas', 'FunnyAnimals', 'snails', 'lithuania', 'movies', 'GenZ', 'bestofinternet', 'ActualPublicFreakouts', 'TeenagersButBetter'}\n"
     ]
    },
    {
     "name": "stderr",
     "output_type": "stream",
     "text": [
      "Scraping user comments:   1%|          | 217/29911 [48:29<177:12:38, 21.48s/it]"
     ]
    },
    {
     "name": "stdout",
     "output_type": "stream",
     "text": [
      "Comments saved to /Users/smutnuri/Documents/UVA/_Projects/Fall24/CBM/CBMRepo/Data/usercomments/31i731_usercomments.json\n",
      "{'ask', 'JonStewart', 'TwoHotTakes', 'AskOldPeople', 'redditonwiki', 'HairDye', 'babylonbee', 'FIREyFemmes', 'landscaping', 'mad_skills', 'self', 'Millennials', 'musicsuggestions', 'Natalism', 'FluentInFinance', 'baristafire', 'notliketheothergirls', 'zillowgonewild', 'AskReddit', 'Snorkblot', 'Cooking', 'AITA_WIBTA_PUBLIC', 'trueratediscussions', 'FamilyLaw', 'askscience', 'the_everything_bubble', 'RoastMe', 'moviecritic', 'comics', 'AskTeachers', 'science', 'malegrooming', 'DIY', 'scotus', 'answers', 'Manipulation', 'millenials', 'philosophy', 'stories', 'hypotheticalsituation', 'climatechange', 'texas', 'AITAH', 'news', 'Askpolitics', 'TwoXChromosomes', 'Adulting', 'FOXNEWS', 'Paranormal', 'love', 'ExplainBothSides', 'Music', 'education', 'coloranalysis', 'Albuquerque', 'AskFeminists', 'Money', 'WhitePeopleTwitter', 'dataisbeautiful', 'malelivingspace', 'AllThatIsInteresting', 'Bandnames', 'mildlyinfuriating', 'whitecoatinvestor', 'HistoricalCapsule', 'AskOldPeopleAdvice', 'pics', 'facepalm', 'povertyfinance', 'Longreads', 'NoStupidQuestions', 'eyes', 'worldnews', 'NoShitSherlock', 'BoomersBeingFools', 'LifeAdvice', 'fashion', 'BestofRedditorUpdates', 'NameMyCat', 'OldSchoolCool', 'mensa', 'GetMotivated', 'atheism', 'AnythingGoesNews', 'Remodel', 'crime', 'AskRedditFood', 'SameGrassButGreener', 'moraldilemmas', 'NewsOfTheStupid', 'work', 'dustythunder', 'explainlikeimfive', 'Fire', 'energy', 'femalelivingspace', 'CrazyIdeas', 'careeradvice', 'questions', 'books', 'TravelMaps', 'stupidquestions', 'toddlers', 'careerguidance', 'changemyview', 'nottheonion', 'SeriousConversation', 'TrueOffMyChest', 'DesignMyRoom', 'inthenews', 'WomenInNews', 'tragedeigh', 'supremecourt', 'LifeProTips', 'Comebacks', 'food', 'Teachers', 'PublicFreakout', 'funny', 'FinancialPlanning', 'womenintech', 'movies', 'GenZ'}\n"
     ]
    },
    {
     "name": "stderr",
     "output_type": "stream",
     "text": [
      "Scraping user comments:   1%|          | 218/29911 [48:39<149:00:57, 18.07s/it]"
     ]
    },
    {
     "name": "stdout",
     "output_type": "stream",
     "text": [
      "Comments saved to /Users/smutnuri/Documents/UVA/_Projects/Fall24/CBM/CBMRepo/Data/usercomments/321liftoff_usercomments.json\n",
      "{'WelcomeToPlathville', 'ChryslerPacifica', 'boardgames', 'conspiracy', 'PlathvilleUncensored', 'BadGirlsClub', 'ILoveAMamasBoy', 'IBEW', 'Journaling', 'MtvChallenge', 'ocala', 'books', 'StPetersburgFL', 'ParlerWatch', 'Parenting', 'TikTokCringe', 'nintendo'}\n"
     ]
    },
    {
     "name": "stderr",
     "output_type": "stream",
     "text": [
      "Scraping user comments:   1%|          | 219/29911 [48:40<106:23:31, 12.90s/it]"
     ]
    },
    {
     "name": "stdout",
     "output_type": "stream",
     "text": [
      "Comments saved to /Users/smutnuri/Documents/UVA/_Projects/Fall24/CBM/CBMRepo/Data/usercomments/328_Properties_usercomments.json\n",
      "{'IBSHelp', 'ask', 'traderjoes', 'goodreads', 'eyes', 'classical_circlejerk', 'singing', 'parkslope', 'lanitas', 'biglittlelies', 'books', 'learnmath', 'AmIOverreacting', 'Challengers', 'curlyhair', 'classicalmusic', 'pianolearning', 'tifu', 'sharpobjects', 'spotify', 'LasVegas', 'Sufjan', 'RandomThoughts', 'piano', 'AskReddit', 'shittyaskscience', 'popculturechat', 'Brooklyn', 'televisionsuggestions', 'scarystories', 'KillingEve', 'MovieSuggestions', 'coloranalysis', 'binchtopiapod', 'HomeworkHelp', 'FindTheSniper', 'lanadelrey', 'MusicEd', 'ADHD', 'adhdwomen', 'confession', 'PCOS', 'pianoteachers'}\n"
     ]
    },
    {
     "name": "stderr",
     "output_type": "stream",
     "text": [
      "Scraping user comments:   1%|          | 220/29911 [48:44<82:44:25, 10.03s/it] "
     ]
    },
    {
     "name": "stdout",
     "output_type": "stream",
     "text": [
      "Comments saved to /Users/smutnuri/Documents/UVA/_Projects/Fall24/CBM/CBMRepo/Data/usercomments/347pinkkid_usercomments.json\n",
      "{'television', 'Weird', 'NoStupidQuestions', 'worldnews', 'videos', 'creepy', 'AbruptChaos', 'mildlyinteresting', 'Futurology', 'Showerthoughts', 'books', 'financialindependence', 'Documentaries', 'sports', 'tifu', 'Millennials', 'cringepics', 'Costco', 'techsupport', 'gadgets', 'ketogains', 'space', 'OldSchoolCool', 'bayarea', 'Apartmentliving', 'nottheonion', 'PS5', 'Jokes', 'gifs', 'todayilearned', 'news', 'SanJose', 'Art', 'depression', 'Music', 'keto', 'LifeProTips', 'EOOD', 'PS4', 'ketorecipes', 'Trophies', 'IAmA', 'omad', 'explainlikeimfive', 'personalfinance', 'Pictures', 'funny', 'malelivingspace', 'science', 'MiddleClassFinance', 'WritingPrompts', 'movies', 'UpliftingNews', 'EasyKetoMeal', 'stocks'}\n"
     ]
    },
    {
     "name": "stderr",
     "output_type": "stream",
     "text": [
      "Scraping user comments:   1%|          | 221/29911 [49:14<133:34:04, 16.20s/it]"
     ]
    },
    {
     "name": "stdout",
     "output_type": "stream",
     "text": [
      "Comments saved to /Users/smutnuri/Documents/UVA/_Projects/Fall24/CBM/CBMRepo/Data/usercomments/360walkaway_usercomments.json\n",
      "{'ask', 'iamverybadass', 'SequelMemes', 'witcher', 'videos', 'mildlyinteresting', 'htpc', 'Showerthoughts', 'PrequelMemes', 'technology', 'sports', 'relationships', 'HumansBeingBros', 'iamatotalpieceofshit', 'pokemon', 'AskReddit', 'Cooking', 'HongKong', 'AskScienceFiction', 'gifs', 'standupshots', 'MurderedByWords', 'Shitty_Car_Mods', 'GameDeals', 'moviecritic', 'terriblefacebookmemes', 'RoastMe', 'antiwork', 'Christianity', 'The_Mueller', 'comics', 'bestof', 'SelfAwarewolves', 'relationship_advice', 'Justrolledintotheshop', 'IdiotsFightingThings', 'science', 'KidsAreFuckingStupid', 'Whatcouldgowrong', 'The_Congress', 'deadisland', 'uplink', 'marvelstudios', 'AmItheAsshole', 'shittymoviedetails', 'talesfromtechsupport', 'Keep_Track', 'CrewsCrew', 'cringe', 'Damnthatsinteresting', 'Futurology', 'AskMen', 'worldpolitics', 'socialskills', 'simpsonsshitposting', 'ProRevenge', 'calvinandhobbes', 'lego', 'Awww', 'wholesomememes', 'HighQualityGifs', 'Android', 'rareinsults', 'neverwinternights', 'aww', 'CoronavirusUK', 'lotrmemes', 'popculturechat', 'Jokes', 'Unexpected', 'news', 'thanosdidnothingwrong', 'TwoXChromosomes', 'MovieLeaksAndRumors', 'motorcycles', 'dadjokes', 'Music', 'softwaregore', 'WhitePeopleTwitter', 'SnapshotHistory', 'OpenArgs', 'coolguides', 'MovieDetails', 'dataisbeautiful', 'retrogaming', 'WatchPeopleDieInside', 'MakeMeSuffer', 'ToiletPaperUSA', 'mildlyinfuriating', 'RussiaLago', 'zenfone6', 'oddlysatisfying', 'pcgaming', 'facepalm', 'pics', 'cursedcomments', 'StarWars', 'canada', 'gaming', 'worldnews', 'LeopardsAteMyFace', 'NoStupidQuestions', 'googleassistant', 'educationalgifs', 'neoliberal', 'WarshipPorn', 'MilitaryGfys', 'IDontWorkHereLady', 'shittyrobots', 'WinStupidPrizes', 'agedlikemilk', 'britishproblems', 'OldSchoolCool', 'Amd', 'godtiersuperpowers', 'GetMotivated', 'atheism', 'Wellthatsucks', 'politics', 'Gamingcirclejerk', 'interestingasfuck', 'socialism', 'explainlikeimfive', 'ThatLookedExpensive', 'dyinglight', 'blunderyears', 'pcmasterrace', 'HermanCainAward', 'RedLetterMedia', 'iiiiiiitttttttttttt', 'vexillology', 'PoliticalHumor', 'books', 'AskOuija', 'TikTokCringe', 'languagelearning', 'tifu', 'JoeRogan', 'BethesdaSoftworks', 'AdviceAnimals', 'truegaming', 'nexus5x', 'dankmemes', 'CasualUK', 'MadeMeSmile', 'nottheonion', 'StrangerThings', 'mildyinteresting', 'TheSimpsons', 'todayilearned', 'instant_regret', 'rarepuppers', 'pokemongo', 'GamingDetails', 'linuxmasterrace', 'inthenews', 'insanepeoplefacebook', 'dankchristianmemes', 'tragedeigh', 'entertainment', 'IdiotsInCars', 'BlackPeopleTwitter', 'JusticeServed', 'therewasanattempt', 'maybemaybemaybe', 'nextfuckinglevel', 'InternetIsBeautiful', 'food', 'PokemonMasters', 'PublicFreakout', 'sadcringe', 'Teachers', 'natureismetal', 'funny', 'zenfone', 'Eldenring', 'fakehistoryporn', 'SubredditDrama', 'movies', 'starterpacks', 'videogames', 'CrappyDesign'}\n"
     ]
    },
    {
     "name": "stderr",
     "output_type": "stream",
     "text": [
      "Scraping user comments:   1%|          | 222/29911 [49:48<178:11:57, 21.61s/it]"
     ]
    },
    {
     "name": "stdout",
     "output_type": "stream",
     "text": [
      "Comments saved to /Users/smutnuri/Documents/UVA/_Projects/Fall24/CBM/CBMRepo/Data/usercomments/3DJelly_usercomments.json\n",
      "{'THPS', 'Weird', 'audiobooks', 'stephenking', 'theshining', 'razer', 'mildlyinteresting', 'bully', 'Hobbies', 'TVTooHigh', 'MusicRecommendations', 'Letterboxd', 'GuessTheMovie', 'scifi', 'oddlyterrifying', 'borderlands3', 'Millennials', 'spotify', 'kindle', 'blursedimages', 'musicsuggestions', 'TIHI', 'blender', 'MarvelSnap', 'punk', 'whatismycookiecutter', 'dukenukem', 'notinteresting', 'UnusualArt', 'dune', 'PS3', 'boutiquebluray', 'gamingsuggestions', 'Spiderman', 'CreepyBonfire', 'unpopularopinion', 'PeanutButter', 'SteamDeck', 'DeadSpace', 'youtube', 'Fantasy', 'GalaxyFold', 'ItsAllAboutGames', 'shittymoviedetails', 'LiminalSpace', 'sciencefiction', 'badfoodporn', 'PokemonTCG', 'creepy', 'HorrorGames', 'The10thDentist', 'xbox', 'okbuddycinephile', 'audible', 'bookporn', 'HelpMeFind', 'cowcats', 'Doritos', 'TrueAchievements', 'ReadMyScript', 'scifi_bookclub', 'aww', 'foundfootage', 'dontputyourdickinthat', 'rpg_gamers', 'suggestmeabook', 'extremelyinfuriating', 'Soda', 'Helldivers', 'weirdspotifyplaylists', 'MechanicalKeyboards', 'Handwriting', 'amIuglyBrutallyHonest', 'spaceporn', 'Pizza', 'harrypotter', 'FIlm', 'UnrealEngine5', 'HellYeahIdEatThat', 'houseofleaves', 'PenmanshipPorn', 'stonerfood', 'lies', 'SmallYoutubers', 'SnapshotHistory', 'malelivingspace', 'Journaling', 'humblebundles', 'tacobell', 'GTAIV', 'hardwaregore', 'mildlyinfuriating', 'ATBGE', 'pics', 'DisturbingMovies', 'DarkPicturesAnthology', 'gaming', 'johncarpenter', 'mead', 'shittytattoos', 'icecream', 'FrankHerbert', 'dioramas', 'comicbookcollecting', 'Steam', 'letsplay', 'theydidthemath', 'Artadvice', 'PhotoshopRequest', 'awfuleverything', 'repost', 'NewSkaters', 'oddlyspecific', 'eatsandwiches', 'painting', 'ScienceFictionBooks', 'BooksThatFeelLikeThis', 'BookshelvesDetective', 'ShouldIbuythisgame', 'Bioshock', 'CalicoKittys', 'godtiersuperpowers', 'Breadit', 'bookhaul', 'Wellthatsucks', 'IASIP', 'pizzahut', 'XboxSupport', 'teefies', 'BeAmazed', 'shittyfoodporn', 'Bluray', 'AccidentalRenaissance', 'MovieSuggestions', 'playstation', 'cats', 'MafiaTheGame', 'hotdogs', 'Steelbooks', 'lefthanded', 'dvdcollection', 'NewTubers', 'CrazyFuckingVideos', 'Actors', 'homedesign', 'l4d2', 'candy', 'im14andthisisdeep', 'blunderyears', 'pcmasterrace', 'tattooadvice', 'OneOrangeBraincell', 'TwilightZone', 'trashy', 'DesignPorn', 'junkfoodfinds', 'cheeseburgers', 'pens', 'rarebooks', 'psx', 'Justfuckmyshitup', 'bookshelf', 'chips', 'Bacon', 'HadToHurt', 'books', 'DAE', 'DarkArtwork', 'MortalKombat', 'PoutineCrimes', 'shittyaskelectronics', 'helldivers2', 'ps2', 'shitfromabutt', 'HeavyRain', 'xbox360', 'mildyinteresting', 'horrorlit', 'underratedmovies', 'HolUp', 'holdmycosmo', 'WeirdLit', 'snacking', 'Siamesecats', 'Artists', 'booksuggestions', 'Botchedsurgeries', 'GooseBumps', 'ExtremeHorrorLit', 'Popeyes', 'funny', 'desksetup', 'BookCollecting', 'accidentalswastika', 'hot_dog', 'movies', 'orangecats', 'uselessredcircle', 'patientgamers', 'videogames', 'feelingwoozy', 'CrappyDesign'}\n"
     ]
    },
    {
     "name": "stderr",
     "output_type": "stream",
     "text": [
      "Scraping user comments:   1%|          | 223/29911 [50:05<166:32:04, 20.19s/it]"
     ]
    },
    {
     "name": "stdout",
     "output_type": "stream",
     "text": [
      "Comments saved to /Users/smutnuri/Documents/UVA/_Projects/Fall24/CBM/CBMRepo/Data/usercomments/3DimensionalGames_usercomments.json\n",
      "{'hermannhesse', 'fromsoftware', 'getdisciplined', 'EarthPorn', 'Chainsawfolk', 'Damnthatsinteresting', 'books', 'HunterXHunter', 'literature', 'OverwatchCirclejerk', 'sbubby', 'ThomasPynchon', 'Malazan', 'BooksThatFeelLikeThis', 'guitarporn', 'marvelcirclejerk', 'tinnitus', 'AskReddit', 'barexam', 'Lawyertalk', 'ModernJazz', 'PunchBrothers', 'LawSchool', 'suggestmeabook', 'classicliterature', 'InfiniteJest', 'Jazz', 'OnePiece', 'WeirdLit', 'Dandadan', 'trumpet', 'booksuggestions', 'jazzguitar', 'MemePiece', 'PowerScaling', 'gamingsuggestions', 'indieheads', 'vaporents', 'guitarcirclejerk', 'TheDarkTower', 'Fantasy'}\n"
     ]
    },
    {
     "name": "stderr",
     "output_type": "stream",
     "text": [
      "Scraping user comments:   1%|          | 224/29911 [50:06<118:52:43, 14.42s/it]"
     ]
    },
    {
     "name": "stdout",
     "output_type": "stream",
     "text": [
      "Comments saved to /Users/smutnuri/Documents/UVA/_Projects/Fall24/CBM/CBMRepo/Data/usercomments/3armedrobotsaredumb_usercomments.json\n",
      "{'ask', 'ModestDress', 'husky', 'nursepractitioner', 'Funnymemes', 'Millennials', 'Bulldogs', 'Frugal', 'HumansBeingBros', 'redsox', 'DuggarsSnark', 'AskReddit', 'travel', 'Dallas', 'Nurses', 'Jewish_Studies', 'standardissuecat', 'traumatizeThemBack', 'calmhands', 'MakeupAddiction', 'moviecritic', 'antiwork', 'AmericanBully', 'AskUK', 'florence', 'HomeDecorating', 'Residency', 'Bridgerton', 'UpliftingNews', 'Judaism', 'millenials', 'MyTimeAtSandrock', 'DreamlightValley', 'pediatrics', 'VirginiaBeach', 'aww', 'popculturechat', 'AITAH', 'news', 'suggestmeabook', 'TwoXChromosomes', 'Virginia', 'Music', 'notmycat', 'lgbt', 'CozyGamers', 'Catswhoyell', 'WhitePeopleTwitter', 'midjourney', 'mildlyinfuriating', 'nfl', 'MyTimeAtEvershine', 'australia', 'facepalm', 'pics', 'NoStupidQuestions', 'worldnews', 'BoomersBeingFools', 'cookingforbeginners', 'norfolk', 'Tinder', 'OldSchoolCool', 'Palia', 'SaintMeghanMarkle', 'BrandNewSentence', 'dogpictures', 'MovieSuggestions', 'cats', 'uknews', 'TedLasso', 'QuietOnSetDocumentary', 'ADHD', 'Dallas_Cowboys', '30PlusSkinCare', 'femalelivingspace', 'Jewish', 'trashy', 'CuratedTumblr', 'books', 'AnimalsBeingDerps', 'CozyPlaces', 'Fauxmoi', 'trans', 'ReformJews', 'MadeMeSmile', 'ChoosingBeggars', 'Law_and_Politics', 'Jewdank', 'FabFitFun', 'LifeProTips', 'adhdmeme', 'BlackPeopleTwitter', 'nextfuckinglevel', 'adhdwomen', 'Teachers', 'funny', 'movies', 'Parenting'}\n"
     ]
    },
    {
     "name": "stderr",
     "output_type": "stream",
     "text": [
      "Scraping user comments:   1%|          | 225/29911 [50:11<96:08:32, 11.66s/it] "
     ]
    },
    {
     "name": "stdout",
     "output_type": "stream",
     "text": [
      "Comments saved to /Users/smutnuri/Documents/UVA/_Projects/Fall24/CBM/CBMRepo/Data/usercomments/3bittyblues_usercomments.json\n",
      "{'ask', 'Weird', 'Highrepublic', 'WaltDisneyWorld', 'mildlyinteresting', 'radiohead', 'MusicRecommendations', 'Showerthoughts', 'flicks', 'Funnymemes', 'self', 'borderlands3', 'LasVegas', 'musicsuggestions', 'GoosetheBand', 'letstradepedals', 'beatles', 'tall', 'AskReddit', 'AliceInChains', 'Lawyertalk', 'panelshow', 'Luthier', 'vegaslocals', 'Ask_Lawyers', 'LawSchool', 'blackmagicfuckery', 'taskmaster', 'ironmaiden', 'youenjoyguitar', 'moviecritic', 'jazzguitar', 'Spiderman', 'ACDC', 'AskUK', 'UkrainianConflict', 'deadandcompany', 'neilyoung', 'secretlab', 'HyruleEngineering', 'guitarpedals', 'askaplumber', 'JazzFusion', 'progmetal', 'badreligion', 'Disneyland', 'shittymoviedetails', 'EvilTV', 'Concerts', 'guitars', 'ClassicRock', 'Damnthatsinteresting', 'pedalboards', 'diypedals', 'sitcoms', 'jasonisbell', 'allmanbrothers', 'RandomThoughts', 'vegas', 'hypotheticalsituation', 'wholesomememes', 'OakIsland', 'legaladvice', 'Primus', 'podcasts', 'ledzeppelin', 'gratefuldead', 'papermario', 'suggestmeabook', 'Jazz', 'ween', '80s', 'BassGuitar', 'tearsofthekingdom', 'Music', 'popheads', 'audioengineering', 'SWlegion', 'Topster', 'BillyStrings', 'cookware', 'BillyJoel', 'Money', 'QuadCortex', 'Bluegrass', 'guitarlessons', 'coolguides', 'LesPaul', 'AllThatIsInteresting', 'woahdude', 'LSAT', 'mildlyinfuriating', 'TrueAskReddit', 'raiders', 'Reno', 'povertyfinance', 'facepalm', 'oddlysatisfying', 'StarWars', 'U2Band', 'wheeloftime', 'NoStupidQuestions', 'BoomersBeingFools', 'Smokingmeat', 'Prog', 'DnD', 'AMA', 'rollingstones', 'minipainting', 'Cd_collectors', 'goldrush', 'NameMyCat', 'ColoredPencils', 'edge', 'jambands', 'vinyl', 'OutsideT14lawschools', 'starwarsbooks', 'bonnaroo', 'roadtrip', 'funnysigns', 'Bakersfield', 'NeuralDSP', 'gibson', 'words', 'Umphreys', 'AdviceForTeens', 'explainlikeimfive', 'lebowski', 'CasualConversation', 'drums', 'LetsTalkMusic', 'Zappa', 'ancientrome', 'AbruptChaos', 'questions', 'DMT', 'telecaster', 'phish', 'books', 'AmIOverreacting', 'spicy', 'casualnintendo', 'SteelyDan', 'Fauxmoi', 'Guitar', 'Catnames', 'ThePolice', 'MadeMeSmile', 'changemyview', 'todayilearned', 'ToobAmps', 'rush', 'progrockmusic', 'stevenwilson', 'Lovecraft', 'Genesis', 'musictheory', 'KingCrimson', 'grateful_dead', 'indie_rock', 'musicians', 'postrock', 'natureismetal', 'Teachers', 'qotsa', 'funny', 'Hardcore', 'Songwriting', 'RedditForGrownups', 'StarWarsCantina', '70s', 'GuitarAmps', 'CrappyDesign'}\n"
     ]
    },
    {
     "name": "stderr",
     "output_type": "stream",
     "text": [
      "Scraping user comments:   1%|          | 226/29911 [50:41<139:58:11, 16.97s/it]"
     ]
    },
    {
     "name": "stdout",
     "output_type": "stream",
     "text": [
      "Comments saved to /Users/smutnuri/Documents/UVA/_Projects/Fall24/CBM/CBMRepo/Data/usercomments/3choplex_usercomments.json\n",
      "{'facepalm', 'povertyfinance', 'PeterExplainsTheJoke', 'whatthefrockk', 'chappellroan', 'justgalsbeingchicks', 'canadahousing', 'gaming', 'lesbianfashionadvice', 'Damnthatsinteresting', 'latebloomerlesbians', 'collapse', 'books', 'Letterboxd', 'DnD', 'childfree', 'TheBear', 'actuallesbians', 'me_irlgbt', 'lesbianmemes', 'StupidFood', 'nanowrimo', 'NotHowGirlsWork', 'disney', 'travisandtaylor', 'Tinder', 'BG3', 'menwritingwomen', 'wholesomememes', 'notliketheothergirls', 'geography', 'AskReddit', 'AreTheStraightsOK', 'MadeMeSmile', 'lesbiangang', 'BaldursGate3', 'lotrmemes', 'thatHappened', 'popculturechat', 'GirlGamers', 'LoveIsBlindOnNetflix', 'whatismycookiecutter', 'suggestmeabook', 'LesbianActually', 'TwoXChromosomes', 'Adulting', 'IReadABookAndAdoredIt', 'Starfield', 'tearsofthekingdom', 'MovieSuggestions', 'Breath_of_the_Wild', 'Gamingcirclejerk', 'moviecritic', 'lgbt', 'crochet', 'roosterteeth', 'AO3', 'ytvretro', 'StardewValley', '90DayFiance', 'twilight', 'WhitePeopleTwitter', 'exchristian', 'Eldenring', 'movies', 'okbuddybaldur', 'Actuallylesbian'}\n"
     ]
    },
    {
     "name": "stderr",
     "output_type": "stream",
     "text": [
      "Scraping user comments:   1%|          | 227/29911 [50:50<120:09:37, 14.57s/it]"
     ]
    },
    {
     "name": "stdout",
     "output_type": "stream",
     "text": [
      "Comments saved to /Users/smutnuri/Documents/UVA/_Projects/Fall24/CBM/CBMRepo/Data/usercomments/3frogs1trenchcoat_usercomments.json\n",
      "{'lehrerzimmer', 'ansbach', 'Studium', 'Eltern', 'books', 'buecher'}\n"
     ]
    },
    {
     "name": "stderr",
     "output_type": "stream",
     "text": [
      "Scraping user comments:   1%|          | 228/29911 [50:50<84:59:09, 10.31s/it] "
     ]
    },
    {
     "name": "stdout",
     "output_type": "stream",
     "text": [
      "Comments saved to /Users/smutnuri/Documents/UVA/_Projects/Fall24/CBM/CBMRepo/Data/usercomments/3imweggla_usercomments.json\n",
      "{'NintendoSwitch', 'pokemongotrades', 'suggestmeabook', 'aww', 'BeAmazed', 'pokemongo', 'LegalAdviceUK', 'botw', 'books', 'Breath_of_the_Wild', 'PokemonGoFriends', 'Switch', 'AskReddit', 'zelda', 'PokeGenie', 'TheSilphRoad', 'parkrun'}\n"
     ]
    },
    {
     "name": "stderr",
     "output_type": "stream",
     "text": [
      "Scraping user comments:   1%|          | 229/29911 [50:55<71:25:28,  8.66s/it]"
     ]
    },
    {
     "name": "stdout",
     "output_type": "stream",
     "text": [
      "Comments saved to /Users/smutnuri/Documents/UVA/_Projects/Fall24/CBM/CBMRepo/Data/usercomments/3kids1cat_usercomments.json\n",
      "{'pcgaming', 'AskOldPeople', 'economy', 'linux4noobs', 'metalguitar', 'radiohead', 'Norway', 'RealEstate', 'financialindependence', 'books', 'technology', 'Logic_Studio', 'AxeFx', 'Landlord', 'REBubble', 'AppleMusic', 'Sacramento', 'Homebuilding', 'MacOS', 'Metal', 'investing', 'bossanova', 'Guitar', 'guitarporn', 'California', 'europe', 'blackpanther', 'Primus', 'ChelseaWolfe', 'AskReddit', 'Cooking', 'travel', 'AskMenOver30', 'todayilearned', 'realtors', 'DecidingToBeBetter', 'weedbiz', 'fitmeals', 'progmetal', 'privacy', 'themarsvolta', 'Music', 'AskWomenOver30', 'bonds', 'AirQuality', 'cocteautwins', 'darkjazz', 'IWantToLearn', 'digitalnomad', 'sniperelite', 'personalfinance', 'guitarlessons', 'AppleWatch', 'outwardgame', 'ExpatFIRE', 'kieselcarvinguitars', 'sludge', 'malegrooming', 'science', 'coolguides', 'patientgamers', 'Soundgarden', 'guitarpedals', 'lotr', 'StrategyRpg', 'realestateinvesting'}\n"
     ]
    },
    {
     "name": "stderr",
     "output_type": "stream",
     "text": [
      "Scraping user comments:   1%|          | 230/29911 [50:57<55:27:48,  6.73s/it]"
     ]
    },
    {
     "name": "stdout",
     "output_type": "stream",
     "text": [
      "Comments saved to /Users/smutnuri/Documents/UVA/_Projects/Fall24/CBM/CBMRepo/Data/usercomments/3l3v8_usercomments.json\n",
      "{'Jewish', 'autism', 'MelbourneTrains', 'suggestmeabook', 'melbourne', 'books', 'vce', 'AskAnAustralian', 'NorthMelbourneFC'}\n"
     ]
    },
    {
     "name": "stderr",
     "output_type": "stream",
     "text": [
      "Scraping user comments:   1%|          | 231/29911 [50:58<39:51:05,  4.83s/it]"
     ]
    },
    {
     "name": "stdout",
     "output_type": "stream",
     "text": [
      "Comments saved to /Users/smutnuri/Documents/UVA/_Projects/Fall24/CBM/CBMRepo/Data/usercomments/3lfonashelf_usercomments.json\n",
      "{'spotify', 'MetalForTheMasses', 'rock', 'suggestmeabook', 'musicsuggestions', 'Productivitycafe', 'Concerts', 'progrockmusic', 'CuckoldPsychology', 'ClassicRock', 'BookshelvesDetective', 'MusicRecommendations', 'rockmusic', 'Music', 'books', 'hairmetal', 'indie', 'texas'}\n"
     ]
    },
    {
     "name": "stderr",
     "output_type": "stream",
     "text": [
      "Scraping user comments:   1%|          | 232/29911 [51:01<35:40:33,  4.33s/it]"
     ]
    },
    {
     "name": "stdout",
     "output_type": "stream",
     "text": [
      "Comments saved to /Users/smutnuri/Documents/UVA/_Projects/Fall24/CBM/CBMRepo/Data/usercomments/3m91r3_usercomments.json\n",
      "{'holofractal', 'television', 'u_Grace-Music', 'mildlyinteresting', 'Showerthoughts', 'Denver', 'technology', 'sports', 'Experiencers', 'disclosureparty', 'egopowerplus', 'GoosetheBand', 'aliens', 'meme', 'zillowgonewild', 'AskReddit', 'travel', 'Mezcal', 'KamalaHarris', 'AHeadStart', 'notinteresting', 'conspiracy', 'UnethicalLifeProTips', 'SimulationTheory', 'SelfAwarewolves', 'homeautomation', 'deadandcompany', 'unpopularopinion', 'danieldonato', 'electricvehicles', 'ufo', 'HGTV', 'WSBAfterHours', 'Homebuilding', 'AlternativeHistory', 'psychedelicrock', 'Superstonk', 'technews', 'shittymoviedetails', 'malefashionadvice', 'memes', 'Interior', 'Damnthatsinteresting', 'RealEstate', 'Futurology', 'HighStrangeness', 'Awww', 'A24', 'rareinsults', 'steamboat', 'aww', 'MapPorn', 'gratefuldead', 'Jokes', 'news', 'suggestmeabook', 'disneyvacation', 'TwoXChromosomes', 'afterlife', 'Helldivers', 'Music', 'FIlm', 'elonmusk', 'baseball', 'abovethenormnews', 'pearljam', 'artificial', 'WhitePeopleTwitter', 'skiingcirclejerk', 'longevity', 'KozyrevMirrors', 'u_bloodhound1144', 'ThePortal', 'realestateinvesting', 'pics', 'FATTravel', 'unusual_whales', 'TradingEdge', 'gaming', 'LowSodiumHellDivers', 'bikepacking', 'expats', 'literature', 'StockMarket', 'CountryDumb', 'investing', 'wallstreetbets', 'gadgets', 'UAP', 'OldSchoolCool', 'jambands', 'politics', 'MarkMyWords', 'GME', 'KGATLW', 'InterdimensionalNHI', 'Colorado', 'TheWhyFiles', 'SteamboatSprings', 'FreedomForTruth', 'DeepFuckingValue', 'WallStreetbetsELITE', 'interestingasfuck', 'Umphreys', 'deadheadcirclejerk', 'streetwear', 'smallbusiness', 'DenverCirclejerk', 'Shortsqueeze', 'Bitcoin', 'PoliticalHumor', 'comedyheaven', 'AnimalsBeingBros', 'BMWiX', 'books', 'phish', 'Entrepreneur', 'UFOs', 'OutOfTheLoop', 'clevercomebacks', 'denverfood', 'COsnow', 'helldivers2', 'AdviceAnimals', 'TheRaceTo10Million', 'fatFIRE', 'DownhillMTB', 'InteriorDesign', 'CryptoCurrency', 'gravelcycling', 'inthenews', 'tragedeigh', 'entertainment', 'Psychonaut', 'singularity', 'UFOB', 'skiing', 'meirl', 'ChatGPT', 'Eldenring', 'Cinema', 'movies', 'starterpacks', 'stocks', 'blueheelers'}\n"
     ]
    },
    {
     "name": "stderr",
     "output_type": "stream",
     "text": [
      "Scraping user comments:   1%|          | 233/29911 [51:21<75:41:38,  9.18s/it]"
     ]
    },
    {
     "name": "stdout",
     "output_type": "stream",
     "text": [
      "Comments saved to /Users/smutnuri/Documents/UVA/_Projects/Fall24/CBM/CBMRepo/Data/usercomments/3pinripper_usercomments.json\n",
      "{'gaming', 'DebateReligion', 'worldnews', 'Grimes', 'Futurology', 'latebloomerlesbians', 'books', 'Showerthoughts', 'AnalogCommunity', 'AncestryDNA', 'IsraelCrimes', 'whatstheword', 'nattyorjuice', 'painting', 'Catholicism', 'KDRAMA', 'electronicmusic', 'AskAstrologers', 'Dreams', 'AskReddit', 'GetMotivated', 'AskMiddleEast', 'running', 'Jokes', 'GreekMythology', 'TwoXChromosomes', 'jordan', 'writers', 'Music', 'religion', 'personalfinance', 'USCIS', 'Chicano'}\n"
     ]
    },
    {
     "name": "stderr",
     "output_type": "stream",
     "text": [
      "Scraping user comments:   1%|          | 234/29911 [51:24<58:32:31,  7.10s/it]"
     ]
    },
    {
     "name": "stdout",
     "output_type": "stream",
     "text": [
      "Comments saved to /Users/smutnuri/Documents/UVA/_Projects/Fall24/CBM/CBMRepo/Data/usercomments/3prisms_usercomments.json\n",
      "{'zombies', 'pics', 'StarWars', 'canada', 'gaming', 'montreal', 'Construction', 'Damnthatsinteresting', 'ontario', 'Showerthoughts', 'books', 'soccer', 'technology', 'MensRights', 'TheWayWeWere', 'ottawa', 'cringepics', 'HelpMeFind', 'PhotoshopRequest', 'meme', 'AdviceAnimals', 'AskReddit', 'OldSchoolCool', 'regina', 'MadeMeSmile', 'vinyl', 'Jokes', 'Quebec', 'todayilearned', 'WTF', 'suggestmeabook', 'gifs', 'bugidentification', 'Denmark', 'Music', 'whatisthisthing', 'onguardforthee', 'cats', 'booksuggestions', 'magicTCG', 'history', 'seinfeld', 'toronto', 'vancouver', 'explainlikeimfive', 'britishcolumbia', 'funny', 'dataisbeautiful', 'midjourney', 'movies', 'Mario', 'HistoricalCapsule'}\n"
     ]
    },
    {
     "name": "stderr",
     "output_type": "stream",
     "text": [
      "Scraping user comments:   1%|          | 235/29911 [51:30<57:22:23,  6.96s/it]"
     ]
    },
    {
     "name": "stdout",
     "output_type": "stream",
     "text": [
      "Comments saved to /Users/smutnuri/Documents/UVA/_Projects/Fall24/CBM/CBMRepo/Data/usercomments/3rdturtle_usercomments.json\n",
      "{'ask', 'architecture', 'Battlecars', 'toolporn', 'Workspaces', 'functionalprint', 'me_irl', 'AFOL', 'Cooking', 'ADHDmemes', 'badroommates', 'DesignDesign', 'arduino', 'BuyItForLife', 'guitarpedalsjerk', 'WTF', 'bioniclememes', 'LongFurbies', 'Machinists', 'Reaper', 'nzgardening', 'gamingsuggestions', 'Justrolledintotheshop', 'KitchenConfidential', 'sillygirlclub', 'DIY', 'Whatcouldgowrong', 'guitarpedals', 'answers', 'startrekmemes', 'Futurology', 'just2good', 'FixMyPrint', 'productivity', 'AdultHood', 'Blacksmith', 'Memes_Of_The_Dank', 'firstworldanarchists', 'ReBoot', 'birdstakingthetrain', 'WeirdWheels', 'HydroHomies', 'dontputyourdickinthat', 'Unexpected', 'AutomotiveLearning', 'Adulting', 'gybe', 'AveragePicsOfNZ', 'CrossStitch', 'NoMansSkyTheGame', 'fucklawns', 'electricians', 'BassCirclejerk', 'dataisbeautiful', 'coolguides', 'toolgifs', 'trolleyproblem', 'cablefail', 'SilverSmith', 'FML', 'RomanticAdvice', 'manholeporn', 'SmallHome', 'NonZeroDay', 'conduitporn', 'Breadit', 'electronics', 'legogaming', 'CapitalismSux', 'ReverseEngineering', 'ExplorerGuitars', 'printSF', 'wholesome', 'cowboybebop', 'flashlight', 'SciFiScroll', 'wigglegrams', 'FallenOrder', 'obscureguitars', 'redneckengineering', 'curiousvideos', 'cyberDeck', 'newzealand', 'trashy', 'DesignPorn', 'iiiiiiitttttttttttt', 'Lightbulb', 'quilting', 'Anglicanism', 'Sidehugs', 'AIRetrofuturism', 'tifu', 'clockpunk', 'lepin', 'CoupleMemes', 'WTFwish', 'Pareidolia', 'cablegore', 'synthdiy', 'PeaveyCvlt', 'WeirdWings', 'todayilearned', 'thalassophobia', 'LegoCreations', 'Fasteners', 'BadWelding', 'Pottery', 'projectcar', 'MaxMSP', 'FunnyandSad', 'guitarcirclejerk', 'doommetal', 'buildingblocks', 'Whatisthis', 'StarWarsCantina', 'castiron', 'Skookum', 'penguin', 'thanksihateit', 'MapsWithoutNZ', 'lostmedia', 'worldjerking', 'depression_memes', 'Cursed_Images', 'MetalMemes', 'garthnix', 'Showerthoughts', 'Welding', 'blursedimages', 'PerseveranceRover', 'KNEX', 'okbuddyretard', 'HorribleToClean', 'benchyarmsrace', 'straya', 'Otamatone', 'forkliftmemes', 'Luthier', 'Animorphs', 'Shitty_Car_Mods', 'LuceArt', 'SiliconDreams', 'AwesomeCarMods', 'Wellworn', 'millwrights', 'NewZealandWildlife', 'BeginnerWoodWorking', 'legostarwars', 'F1NN5TER', 'guitarplaying', 'PcBuildHelp', 'TrueChristian', 'BassMemes', 'bridgeporn', 'hardimages2', 'diypedals', 'FondantHate', 'rccars', 'nasa', 'happy', 'OpenChristian', 'ididnthaveeggs', 'lotrmemes', 'legocirclejerk', 'ECE', 'BassGuitar', '3Dprinting', 'shittytechnicals', 'ultrachrist', 'Blacksmith_Forge', 'OrthodoxChristianity', 'legomeme', 'bioniclemocs', 'sffpc', 'headphones', 'pics', 'StarWars', 'Tools', 'modelmakers', 'protools', 'imsorrytakua', 'FuckImOld', 'awfuleverything', 'pan', 'spoonerism', 'PrayerRequests', 'BestofRedditorUpdates', 'menwritingwomen', 'space', 'OldSchoolCool', 'Silmarillionmemes', 'Audiomemes', 'LegoTechniques', 'nocontextpics', 'OldPhotosInRealLife', 'mapporncirclejerk', 'SexyBionicles2', 'cats', 'Gamingcirclejerk', 'spaceengineers', 'lifehacks', 'vexillology', 'CuratedTumblr', 'AskRedditAfterDark', 'telecaster', 'grilledcheese', 'NotHowGirlsWork', 'ArchitecturePorn', 'Giscardpunk', 'degreestohitler', 'thisismylifenow', 'unexpectedute', 'woodworking', 'HistoryMemes', 'TrueOffMyChest', 'diyaudio', 'lightsabers', 'homelab', 'tragedeigh', 'musictheory', 'synthesizers', 'therewasanattempt', 'confessions', 'Christian', 'postrock', 'Minilego', 'Borderlands', 'line6', 'Christians', 'NexoKnights', 'FilthyFrank', 'WeldPorn', 'Weird', 'SipsTea', 'mildlyinteresting', 'chch', 'ThriftStoreHauls', 'offset', 'CrossView', 'PrequelMemes', 'puredata', 'LEGOtrains', 'GuitarQuestions', 'copypasta', 'HPAnerf', 'noisemusic', 'NameNerdCirclejerk', 'yob', 'notliketheothergirls', 'AskReddit', 'nzev', 'gifs', 'BassVI', 'Zillennials', 'Abhorsen', 'trippinthroughtime', 'comics', 'antiwork', 'PornhubComments', 'jewelry', 'oscilloscopemusic', 'cursedprints', 'KillLaKill', 'somethingimade', 'whatisthistoy', 'ExplainTheJoke', 'dwarffortress', 'Bass', 'TinyHouses', 'endometriosis', 'InterdimensionalCable', 'ShitAmericansSay', 'ZeroWaste', 'Gunpla', 'JustGuysBeingDudes', 'RBI', 'lego', 'namenerds', 'VSTi', 'webcomics', 'wholesomememes', 'MapPorn', 'Trigun', 'drunkencookery', 'basspedals', 'Music', 'DiWHYNOT', 'antimeme', 'violinist', 'palindromes', 'legoideas', 'wholesomegreentext', 'compoface', 'GlobePorn', 'battlewagon', 'Woodcarving', 'TradWave', 'minimalism', 'Bible', 'CircuitBending', 'nerfhomemades', 'makenoise', 'PirateHole', 'Legodimensions', 'antarctica', 'bizarrebuildings', 'GetMotivated', 'zelda', 'metalworking', 'Wellthatsucks', 'BrandNewSentence', 'SuddenlyGay', 'BeAmazed', 'StarWarsJediSurvivor', 'glasses', 'bioniclelego', 'Minecraft', 'legophotos', 'bjork', 'LegoStorage', 'simpleliving', 'CasualNZ', 'TooAfraidToAsk', 'armoredwomen', 'GuitarMemes', 'LegoDisplay', 'LetsTalkMusic', 'DoesAnybodyElse', 'StainedGlass', 'introvertmemes', 'techsupportmacgyver', 'OlderGenZ', 'Guitar', 'shittyaskelectronics', 'techwearclothing', 'firstworldproblems', 'ItemShop', 'homestead', 'dankchristianmemes', 'ShittyPickupLines', 'zoommultistomp', 'adhdmeme', 'fuckcars', 'NMSGalacticHub', 'castles', 'crafts', 'hmmm', 'vintagecgi', 'bonehurtingjuice', 'Porirua', 'GuitarAmps', 'pedalgutshots', 'musicmemes', 'xbiking', 'HairDye', 'diysound', 'technology', 'toolboxmods', 'soldering', 'HurdyGurdy', 'NewGreentexts', 'musicsuggestions', 'aliens', 'masterforgiveme', 'autismmemes', 'NoFuckingComment', 'crazy_inventions', 'Prayer', 'ArtPorn', 'askscience', 'notinteresting', 'urbanexploration', 'aivideo', 'Christianity', 'DiWHY', 'WikipediaRandomness', 'HyruleEngineering', 'voyager', 'Dank', 'PeterExplainsTheJoke', 'Outdoors', 'memes', 'morbidquestions', 'Damnthatsinteresting', 'BudgetAudiophile', 'AskMen', 'Mirrorsforsale', 'aspiememes', 'Catholicism', 'TILI', 'StarshipPorn', 'Map_Porn', 'technicallythetruth', 'vintageaudio', 'IRLEasterEggs', 'audioengineering', 'nongolfers', 'Trackballs', '21stCenturyHumour', 'Bestvaluepicks', 'computertechs', 'Nerf', 'bottomgear', 'oddlysatisfying', 'google', 'NoStupidQuestions', 'firefly', 'wikipedia', 'HealthQuestions', 'comicbookart', 'StupidFood', 'PanelGore', 'eurorack', 'jurassicworldevo', 'diynz', 'oldpeoplefacebook', 'StarWarsShips', 'funnysigns', 'modular', 'awesome', 'carscirclejerk', 'ThrawnMemes', 'PS4', 'solarpunk', 'drone', 'AlternateAngles', 'CyberStuck', 'explainlikeimfive', 'VaporwaveArt', 'Wellington', 'im14andthisiswoooosh', 'ABoringDystopia', 'comedyheaven', 'books', 'TrollCoping', 'romandodecahedron', 'upcycling', 'MadeMeSmile', 'teethdrumming', 'ChristianMusic', 'shittysuperpowers', 'sillyconfession', 'synthesizercirclejerk', 'Noearthsociety', 'legotechnic', 'cableporn', 'madlads', 'CreepyWikipedia', 'marchingband'}\n"
     ]
    },
    {
     "name": "stderr",
     "output_type": "stream",
     "text": [
      "Scraping user comments:   1%|          | 236/29911 [51:45<77:53:37,  9.45s/it]"
     ]
    },
    {
     "name": "stdout",
     "output_type": "stream",
     "text": [
      "Comments saved to /Users/smutnuri/Documents/UVA/_Projects/Fall24/CBM/CBMRepo/Data/usercomments/3string_usercomments.json\n",
      "{'television', 'askcarguys', 'HairDye', 'Hobbies', 'longnaturalnails', 'functionalprint', 'Watercolor', 'AskPhotography', 'AskReddit', 'BuyItForLife', 'Catswithjobs', 'Nails', 'automower', 'MakeupAddiction', 'Daytrading', 'Toyota', 'dessert', 'VideoEditing', 'GarageGym', 'somethingimade', 'memes', 'videography', 'FixMyPrint', 'Diamonds', 'steak', 'Louisvuitton', 'hamburgers', 'cars', '3Dprinting', 'TeslaModelX', 'coloranalysis', 'sunrise', 'AsianBeauty', 'camping', 'roboticLawnmowers', 'RobotVacuums', 'lunch', 'lasercutting', 'pics', 'cartoons', 'fican', 'investing', 'minipainting', 'wallstreetbets', 'painting', 'Rabbits', 'options', 'cinematography', 'resinprinting', 'kitchenremodel', 'purses', 'HealthyFood', 'RingsofPower', 'Seafood', 'HerOneBag', 'Sky', 'Denagoebikes', 'singapore', 'TheWhiteLotusHBO', 'NailArt', 'absolutelynotme_irl', 'braids', 'books', 'GYM', 'oilpainting', 'Jeep', 'Chopin', 'onebag', 'TikTokCringe', 'bicycling', 'hiking', 'Laserengraving', 'Modern_Family', 'Subaru_Crosstrek', 'roomdetective', 'MadeMeSmile', 'tonightsdinner', 'GelX_Nails', 'CargoBike', 'woodworking', 'interiordecorating', 'CampingGear', 'EDC', 'CatsBeingCats', 'amiwrong', 'Art', 'ebikes', 'Hair', 'ausstocks', 'Ultralight', 'food', 'cake', 'PostMalone', 'Eminem', 'funny', 'crafts', 'Baking', 'homegym', 'Parenting'}\n"
     ]
    },
    {
     "name": "stderr",
     "output_type": "stream",
     "text": [
      "Scraping user comments:   1%|          | 237/29911 [51:49<63:53:33,  7.75s/it]"
     ]
    },
    {
     "name": "stdout",
     "output_type": "stream",
     "text": [
      "Comments saved to /Users/smutnuri/Documents/UVA/_Projects/Fall24/CBM/CBMRepo/Data/usercomments/3tighxh_usercomments.json\n",
      "{'television', 'ask', 'TwoHotTakes', 'videos', 'rant', 'technology', 'OnePlus12', 'Socialism_101', 'self', 'Delft', 'Millennials', 'musicsuggestions', 'dogs', 'NetherlandsHousing', 'AskReddit', 'Snorkblot', 'csMajors', 'NewDads', 'Games', 'AskMenOver30', 'werkzaken', 'soloboardgaming', 'hiphop101', 'moviecritic', 'bestof', 'HiTMAN', 'gamingsuggestions', 'Poldersocialisme', 'unpopularopinion', 'edrums', 'scotus', 'youtube', 'ExplainTheJoke', 'cirkeltrek', 'progmetal', 'PetPeeves', 'porcupinetree', 'gameDevClassifieds', 'PeterExplainsTheJoke', 'LiminalSpace', 'memes', 'Damnthatsinteresting', 'MusicBattlestations', 'RandomThoughts', 'dutch', 'europe', 'NederlandseMemes', 'TheHague', 'Netherlands', 'technicallythetruth', 'gratefuldead', 'UXDesign', 'AITAH', 'suggestmeabook', 'Askpolitics', 'Productivitycafe', 'efteling', 'weirdspotifyplaylists', 'MechanicalKeyboards', 'gamedev', 'harrypotter', 'Music', 'SonyHeadphones', 'vegan', 'DeFranco', 'fantanoforever', 'StudyInTheNetherlands', 'CozyGamers', 'ProgrammerHumor', 'EldenRingMemes', 'cozygames', 'AskEurope', 'FoundationTV', 'WatchPeopleDieInside', 'linux_gaming', 'Satisfyingasfuck', 'MetalForTheMasses', 'pics', 'pcgaming', 'DemocraticSocialism', 'facepalm', 'gaming', 'NoStupidQuestions', 'thenetherlands', 'worldnews', 'BoomersBeingFools', 'fuckepic', 'eldenringdiscussion', 'AppleMusic', 'NewParents', 'agedlikemilk', 'bose', 'eurovision', 'SeeTV', 'atheism', 'Asmongold', 'BeAmazed', 'LordsoftheFallen', 'SlowHorses', 'BoardgameDesign', 'NewsOfTheStupid', 'interestingasfuck', 'pettyrevenge', 'socialism', 'IndieDev', 'DOG', 'buildapc', 'musicproduction', 'airpods', 'CasualConversation', 'Buttcoin', 'Joostklein', 'drums', 'pcmasterrace', 'LetsTalkMusic', 'imaginarymapscj', 'questions', 'casualnintendo', 'books', 'tabletopgamedesign', 'TikTokCringe', 'RedWingShoes', 'Rotterdam', 'Nederland', 'TUDelft', 'clevercomebacks', 'nietdespeld', 'cscareerquestions', 'todayilearned', 'progrockmusic', 'valencia', 'truespotify', 'inthenews', 'musictheory', 'synthesizers', 'singularity', 'teenagers', 'nextfuckinglevel', 'musicians', 'boardgames', 'oneplus', 'BabyBumps', 'Eldenring', 'patientgamers', 'ik_ihe', 'starterpacks', 'tokkiemarktplaats'}\n"
     ]
    },
    {
     "name": "stderr",
     "output_type": "stream",
     "text": [
      "Scraping user comments:   1%|          | 238/29911 [52:07<87:39:32, 10.63s/it]"
     ]
    },
    {
     "name": "stdout",
     "output_type": "stream",
     "text": [
      "Comments saved to /Users/smutnuri/Documents/UVA/_Projects/Fall24/CBM/CBMRepo/Data/usercomments/3xBork_usercomments.json\n",
      "{'ask', 'Spanish', 'duolingospanish', 'EatCheapAndHealthy', 'lostgeneration', 'redditonwiki', 'French', 'worldnews', 'lesbianfashionadvice', 'ABoringDystopia', 'CuratedTumblr', 'books', 'technology', 'languagelearning', 'recruitinghell', 'Millennials', 'LateStageCapitalism', 'APStudents', 'houseplants', 'succulents', 'orangecounty', 'AmerExit', 'AskWomen', 'geography', 'Cooking', 'butchlesbians', 'ElonJetTracker', 'HomeschoolRecovery', 'interiordecorating', 'politics', 'suggestmeabook', 'AskAnAmerican', 'Professors', '23andme', 'Pinterest', 'SameGrassButGreener', 'AskCulinary', 'NonBinary', 'gardening', 'tragedeigh', 'anime_titties', 'CampingandHiking', 'italianlearning', 'sustainability', 'uBlockOrigin', 'antiwork', 'teaching', 'duolingo', 'skiing', 'ShittyMapPorn', 'Teachers', 'NonPoliticalTwitter', 'WhitePeopleTwitter', 'agender', 'tumblr', 'ExplainTheJoke', 'mildlyinfuriating', 'Svenska', 'highschool', 'AmItheAsshole'}\n"
     ]
    },
    {
     "name": "stderr",
     "output_type": "stream",
     "text": [
      "Scraping user comments:   1%|          | 239/29911 [52:09<68:33:35,  8.32s/it]"
     ]
    },
    {
     "name": "stdout",
     "output_type": "stream",
     "text": [
      "Comments saved to /Users/smutnuri/Documents/UVA/_Projects/Fall24/CBM/CBMRepo/Data/usercomments/404-gendernotfound_usercomments.json\n",
      "{'greatdanes', 'Anxiety', 'mildlyinteresting', 'FoodAllergies', 'houseplants', 'velvethippos', 'ABraThatFits', 'dogs', 'stbernards', 'asexuality', 'Cooking', 'LoomKnitting', 'jewelrymaking', 'Frontend', 'NonBinary', 'aromanticasexual', 'AskComputerScience', 'MichaelReeves', 'crochet', 'ehlersdanlos', 'HomeDecorating', 'science', 'libreoffice', 'talesfromtechsupport', 'internetparents', 'Concrete', 'AustralianShepherd', 'me_irlgbt', 'WhatIsThisYarn', 'HelpMeFind', 'RBI', 'ennnnnnnnnnnnbbbbbby', 'oldhagfashion', 'corgi', 'IllegallySmolCats', 'YarnAddicts', 'podcasts', 'yarntrolls', 'suggestmeabook', 'Music', 'lgbt', 'tumblr', 'OCD', 'bernesemountaindogs', 'Mattress', 'hypermobileEDS', 'aaaaaaacccccccce', 'Mastiff', 'narcissisticparents', 'bookbinding', 'nanowrimo', 'tatting', 'CongratsLikeImFive', 'BestofRedditorUpdates', 'GetMotivated', 'Breadit', 'Kitchenaid', 'Hypermobility', 'Technoblade', 'JUSTNOFAMILY', 'FriendshipAdvice', 'askatherapist', 'Eyebleach', 'Earbuds', 'interestingasfuck', 'pettyrevenge', 'DOG', 'explainlikeimfive', 'CasualConversation', 'tipofmytongue', 'college', 'ResistanceBand', 'aromantic', 'careeradvice', 'CuratedTumblr', 'HomeNetworking', 'books', 'dontdeadopeninside', 'POTS', 'PrettyPastelProof', 'CrochetHelp', 'OutOfTheLoop', 'Prosopagnosia', 'temperatureblanket', 'DadForAMinute', 'MadeMeSmile', 'Beading', 'mildyinteresting', 'todayilearned', 'ATT', 'Fanbinding', 'Amigurumi', 'LifeProTips', 'booksuggestions', 'crochetpatterns', 'Voltron', 'ChronicPain', 'AO3', 'imaginedragons', 'EstrangedAdultChild', 'aaaaaaaarrrrro', 'Baking', 'SubredditDrama', 'Sourdough', 'craftexchange'}\n"
     ]
    },
    {
     "name": "stderr",
     "output_type": "stream",
     "text": [
      "Scraping user comments:   1%|          | 240/29911 [52:25<85:54:38, 10.42s/it]"
     ]
    },
    {
     "name": "stdout",
     "output_type": "stream",
     "text": [
      "Comments saved to /Users/smutnuri/Documents/UVA/_Projects/Fall24/CBM/CBMRepo/Data/usercomments/404errorlifenotfound_usercomments.json\n",
      "{'farmingsimulator', 'books', 'selfpublish', 'writing'}\n"
     ]
    },
    {
     "name": "stderr",
     "output_type": "stream",
     "text": [
      "Scraping user comments:   1%|          | 241/29911 [52:25<61:01:22,  7.40s/it]"
     ]
    },
    {
     "name": "stdout",
     "output_type": "stream",
     "text": [
      "Comments saved to /Users/smutnuri/Documents/UVA/_Projects/Fall24/CBM/CBMRepo/Data/usercomments/404spoon404_usercomments.json\n",
      "{'ask', 'CoutureReps', 'mildlyinteresting', 'videos', 'cricut', 'poshmark', 'Documentaries', 'sports', 'relationships', 'DesignerReps', 'BurningMan', 'Frugal', 'HumansBeingBros', 'etiquette', 'Web_Development', 'AskReddit', 'Dallas', 'ExmoPsych', 'partyplanning', 'Bedding', 'realtors', 'CFB', 'Nails', 'askscience', 'antiMLM', 'MakeupAddiction', 'Anticonsumption', 'Aupairs', 'ecommerce', 'LingerieAddiction', 'UnethicalLifeProTips', 'relationship_advice', 'aviation', 'capricorns', 'jewelry', 'science', 'KidsAreFuckingStupid', 'DIY', 'bulimia', 'phuket', 'ethereum', 'UpliftingNews', 'AmItheAsshole', 'CoronavirusUS', 'DumpsterDiving', 'technews', 'Drugs', 'RedditSessions', 'sexmemes', 'creepy', 'XXS', 'Futurology', 'dating_advice', 'RealEstate', 'Diamonds', 'holyship', 'OptaVia', 'tulsa', 'namenerds', 'Melanoma', 'wholesomememes', 'makeupflatlays', 'legaladvice', 'sextips', 'bali', 'aww', 'AskVet', 'news', 'TwoXChromosomes', 'Cryolipolysis', 'hairstylist', 'modulars', 'AskLosAngeles', 'dfw', 'dataisbeautiful', 'HaircareScience', 'whoop', 'PostureTipsGuide', 'povertyfinance', 'Plumbing', 'Minneapolis', 'SEO', 'ChromeHeart', 'acne', 'DadReflexes', 'Bad_Cop_No_Donut', 'worldnews', 'pics', 'EarthPorn', 'gaming', 'Norway', 'Aspen', 'Interstitialcystitis', 'weddingplanning', 'Etsy', 'immigration', 'EtsySellers', 'Dermatology', 'BestofRedditorUpdates', 'OnlineEducation', 'Instagram', 'PetiteFashionAdvice', 'tonsilstones', 'Weddingsunder10k', 'politics', 'AboveandBeyond', 'JUSTNOFAMILY', 'SameGrassButGreener', 'WallStreetbetsELITE', 'Goldendoodles', 'explainlikeimfive', 'personalfinance', 'electricdaisycarnival', 'AskDocs', 'Assistance', '30PlusSkinCare', 'Ozempic', 'homeowners', 'Marriage', 'femalehairadvice', 'Biohackers', 'Fitness', 'arborists', 'financialindependence', 'books', 'BPD', 'dropship', 'travelagents', 'tifu', 'ucla', 'Fauxmoi', 'jobs', 'beauty', 'tromso', 'stockholm', 'LAinfluencersnark', 'Semaglutide', 'CasualUK', 'MadeMeSmile', 'nottheonion', 'weddingdress', 'todayilearned', 'SkincareAddiction', 'TrueOffMyChest', 'gardening', 'SuicideWatch', 'tragedeigh', 'Hair', 'LifeProTips', 'OpenMarriage', 'wowfuckthewhat', 'nextfuckinglevel', 'food', 'Foofighters', 'VacuumCleaners', 'boardgames', 'IAmA', 'PublicFreakout', 'longbeach', 'funny', 'ContagiousLaughter', 'FashionReps', 'MurderMystery', 'YouShouldKnow', 'CancerFamilySupport', 'Felons', 'startups'}\n"
     ]
    },
    {
     "name": "stderr",
     "output_type": "stream",
     "text": [
      "Scraping user comments:   1%|          | 242/29911 [52:36<69:29:57,  8.43s/it]"
     ]
    },
    {
     "name": "stdout",
     "output_type": "stream",
     "text": [
      "Comments saved to /Users/smutnuri/Documents/UVA/_Projects/Fall24/CBM/CBMRepo/Data/usercomments/40kfeet_usercomments.json\n",
      "{'Fitness', 'leangains', 'AIDKE', 'worldnews', 'linux4noobs', 'fossdroid', 'Futurology', 'Showerthoughts', 'books', 'soccer', 'technology', 'productivity', 'firefox', 'AskMen', 'androidapps', 'strength_training', 'LineageOS', 'ketogains', 'europe', 'geopolitics', 'Paleontology', 'Android', 'environment', 'AskReddit', 'Barca', 'AbsoluteUnits', 'Dinosaurs', 'todayilearned', 'suggestmeabook', 'loseit', 'Paleo', 'askphilosophy', 'conspiracy', 'kettlebell', 'PickAnAndroidForMe', 'LifeProTips', 'weightroom', 'freesoftware', 'UnethicalLifeProTips', 'crochet', 'explainlikeimfive', 'funny', 'unpopularopinion', 'science', 'CerebralPalsy', 'energy', 'Awwducational', 'Anarchy101', 'AmItheAsshole'}\n"
     ]
    },
    {
     "name": "stderr",
     "output_type": "stream",
     "text": [
      "Scraping user comments:   1%|          | 243/29911 [52:40<58:47:43,  7.13s/it]"
     ]
    },
    {
     "name": "stdout",
     "output_type": "stream",
     "text": [
      "Comments saved to /Users/smutnuri/Documents/UVA/_Projects/Fall24/CBM/CBMRepo/Data/usercomments/41varo_usercomments.json\n",
      "{'hbo', 'televisionsuggestions', 'UnsolvedMurders', 'Ohio', 'stupidquestions', 'books', 'AskReddit', 'TheWayWeWere', 'texascountry', 'moviecritic', 'GeorgieandMandyTVshow', 'Bongs', 'seinfeld'}\n"
     ]
    },
    {
     "name": "stderr",
     "output_type": "stream",
     "text": [
      "Scraping user comments:   1%|          | 244/29911 [52:41<42:27:10,  5.15s/it]"
     ]
    },
    {
     "name": "stdout",
     "output_type": "stream",
     "text": [
      "Comments saved to /Users/smutnuri/Documents/UVA/_Projects/Fall24/CBM/CBMRepo/Data/usercomments/420dail_usercomments.json\n",
      "{'ask', 'architecture', 'VintageFashion', 'AskOldPeople', 'CineShots', 'mildlyinteresting', 'Hobbies', 'HairDye', 'ThriftStoreHauls', '1970s', 'MusicRecommendations', 'flicks', 'Letterboxd', 'law', 'Xennials', 'self', 'Millennials', 'doordash', 'blursedimages', 'ThriftStoreCats', 'musicsuggestions', 'FridgeDetective', 'dogs', 'meme', 'oldbritishtelly', 'zillowgonewild', 'AskReddit', '1960s', 'Cooking', 'UnexpectedSeinfeld', 'shittyaskscience', 'Holdmywallet', 'trueratediscussions', 'whatbugisthis', 'Blowjobs', 'Tattoocoverups', 'standardissuecat', 'iwatchedanoldmovie', 'cutecats', 'Historycord', 'graphic_design', 'moviecritic', 'office', 'RoastMe', 'ExteriorDesign', 'regularcarreviews', 'relationship_advice', 'CreepyBonfire', 'nutrition', 'unpopularopinion', 'HomeDecorating', 'KitchenConfidential', 'hotsauce', 'thrifting', 'psychedelicrock', 'DumpsterDiving', 'LiminalSpace', 'Outdoors', 'u_timeleftapp', 'badfoodporn', 'Concerts', 'MCM', 'GenX', 'sitcoms', 'homedecoratingCJ', 'TattooDesigns', 'Watches', 'vintage', 'oldhollywood', 'Salary', 'RandomThoughts', 'Awww', 'RareHistoricalPhotos', 'succulents', 'VintageClothing', 'deadmalls', 'Unexplained', 'vinyltoys', 'AITAH', 'moog', 'suggestmeabook', 'Productivitycafe', 'whatisit', 'Rocks', 'classicliterature', 'Jazz', 'Adulting', '80s', 'knifeclub', 'FIlm', 'VintageTV', 'turntables', 'Ohio', 'malelivingspace', 'hygiene', 'mexicanfood', 'popheadscirclejerk', 'WatchPeopleDieInside', 'mildlyinfuriating', 'HistoricalCapsule', 'Advice', 'AskPhysics', 'sanpedrocactus', 'oddlysatisfying', 'torties', 'McMansionHell', 'pics', 'Satisfyingasfuck', 'cactus', 'NoStupidQuestions', 'mildlypenis', 'photoshopbattles', 'cozyapartment', 'RandomQuestion', 'furniturerestoration', 'fashion', 'DarkAcademia', 'literature', 'GrandmasPantry', 'FuckImOld', 'badtattoos', 'SchizophreniaRides', 'OldManDog', 'StupidFood', 'cute', 'Cd_collectors', 'Gifts', 'NameMyCat', 'Antiques', 'interiordesignideas', 'OldSchoolCool', 'vinyl', 'nostalgia', 'woahthatsinteresting', 'roadtrip', 'centuryhomes', 'LICENSEPLATES', 'povertykitchen', 'shittyfoodporn', 'SameGrassButGreener', 'AccidentalRenaissance', 'mensfashion', 'Oldhouses', 'MovieSuggestions', 'easyrecipes', 'cats', 'abandoned', '1980s', 'doppelganger', 'NewsOfTheStupid', 'interestingasfuck', 'words', 'lefthanded', 'GoodwillBins', 'CyberStuck', 'UrbanHell', 'Noses', 'streetwear', 'homedesign', 'FossilHunting', 'CasualConversation', '40something', 'UtterlyUniquePhotos', 'ScenesFromAHat', 'NatureIsFuckingLit', 'TwilightZone', 'womensstreetwear', 'DesignPorn', 'CatsAreAssholes', 'Artifacts', 'UnbelievableStuff', 'questions', 'books', '90s', 'AmIOverreacting', 'vintageads', 'LivingAlone', 'classicalmusic', 'retromenus', 'Costco', 'clevercomebacks', 'NameMyDog', 'Catnames', 'ThriftGrift', 'EDM', 'AskMenAdvice', 'Animals', 'Mid_Century', 'ArchitecturePorn', 'MadeMeSmile', 'nottheonion', 'interiordecorating', 'midcenturymodern', 'chemistry', 'criterion', 'rarepuppers', 'AskAnAmerican', 'GenerationJones', 'The1980s', 'gardening', 'homeimprovementideas', 'bald', 'Comebacks', 'food', 'biology', 'meirl', 'pasta', 'funny', '90s_kid', 'WhatIsThisPainting', 'tattooscratchers', '70s', 'shittytattoos', 'classicfilms', 'CrappyDesign'}\n"
     ]
    },
    {
     "name": "stderr",
     "output_type": "stream",
     "text": [
      "Scraping user comments:   1%|          | 245/29911 [53:08<98:12:24, 11.92s/it]"
     ]
    },
    {
     "name": "stdout",
     "output_type": "stream",
     "text": [
      "Comments saved to /Users/smutnuri/Documents/UVA/_Projects/Fall24/CBM/CBMRepo/Data/usercomments/425565_usercomments.json\n",
      "{'study', 'HairRemoval', 'graphology', 'linguisticshumor', 'AskOldPeople', 'writing', 'photography', 'getdisciplined', 'INTP', 'CuratedTumblr', 'postprocessing', 'books', 'RandomQuestion', 'GradSchool', 'productivity', 'TravelMaps', 'DAE', 'oddlyspecific', 'southpaws', 'AskPhotography', 'Frugal', 'musicsuggestions', 'studytips', 'beauty', 'gradadmissions', 'BooksThatFeelLikeThis', 'hypotheticalsituation', 'TheGirlSurvivalGuide', 'AskReddit', 'minnesota', 'geography', 'ObsidianMD', 'technicallythetruth', 'AmateurPhotography', 'roadtrip', 'suggestmeabook', 'AskAcademia', 'Productivitycafe', 'Meditation', 'studying', 'Handwriting', 'piercing', 'writers', 'Hair', 'drawing', 'Notion', 'findfashion', 'IWantToLearn', 'comics', 'finehair', 'PenmanshipPorn', 'lefthanded', 'monkeyspaw', 'words', 'camping', 'Teachers', 'AdviceForTeens', 'AskScienceDiscussion', 'GetStudying', 'NonPoliticalTwitter', 'notebooks', 'Journaling', 'unpopularopinion', 'murakami', 'photocritique', 'tumblr', 'ilovestationery', 'streetphotography', 'INTPmemes', 'femalefashionadvice', 'GenZ', 'mildlyinfuriating', 'PetPeeves', 'college', 'commonplacebook', 'mbti'}\n"
     ]
    },
    {
     "name": "stderr",
     "output_type": "stream",
     "text": [
      "Scraping user comments:   1%|          | 246/29911 [53:12<77:28:06,  9.40s/it]"
     ]
    },
    {
     "name": "stdout",
     "output_type": "stream",
     "text": [
      "Comments saved to /Users/smutnuri/Documents/UVA/_Projects/Fall24/CBM/CBMRepo/Data/usercomments/42nd_Question_usercomments.json\n",
      "{'facepalm', 'XboxSeriesX', 'gaming', 'martialarts', 'carcamping', 'books', 'AskMen', 'Xennials', 'Liverpool', 'agile', 'AskMenOver40', 'rokuscreensaverfall', 'AskReddit', 'GhostRecon', 'CasualUK', 'AskMenOver30', 'scrum', 'SelfDefense', 'Productivitycafe', 'discworld', 'bjj', 'StCharlesMO', 'Starfield', 'FIlm', 'MovieSuggestions', 'StLouis', 'BasicBulletJournals', 'moviecritic', 'taekwondo', 'interestingasfuck', 'AskUK', 'cyberpunkgame', 'Journaling', 'RedditForGrownups', 'RedDwarf', 'daddit', 'Parenting'}\n"
     ]
    },
    {
     "name": "stderr",
     "output_type": "stream",
     "text": [
      "Scraping user comments:   1%|          | 247/29911 [53:15<61:59:41,  7.52s/it]"
     ]
    },
    {
     "name": "stdout",
     "output_type": "stream",
     "text": [
      "Comments saved to /Users/smutnuri/Documents/UVA/_Projects/Fall24/CBM/CBMRepo/Data/usercomments/42turtlemoves_usercomments.json\n",
      "{'ask', 'TwoHotTakes', 'ADiscoveryofWitches', 'chappellroan', 'AskOldPeople', 'WaltDisneyWorld', 'PhD', 'rant', 'StudentLoans', 'self', 'Natalism', 'Covetfashion', 'AskReddit', 'AITA_WIBTA_PUBLIC', 'greysanatomy', 'travel', 'Anne', 'NeverHaveIEverShow', 'ufl', 'PSLF', 'BridgertonNetflix', 'IRstudies', 'AskTeachers', 'teaching', 'UVA', 'AskUK', 'unpopularopinion', 'AskWomenOver40', 'DisneyWorld', 'hysterectomy', 'AmItheAsshole', 'bunheadsnark', 'ModelUnitedNations', 'Manipulation', 'jacksonville', 'DaveRamsey', 'Damnthatsinteresting', 'AskWomenOver60', 'Older_Millennials', 'Flooring', 'SouthFlorida', 'AskSocialScience', 'popculturechat', 'AITAH', 'news', 'suggestmeabook', 'AskAcademia', 'AskProfessors', 'LadiesofScience', 'PoliticalScience', 'GossipGirl', 'Presidents', 'education', 'Insurance', 'columbia', 'SouthDakota', 'sfcollege', 'berkeley', 'GNV', 'HistoricalCapsule', 'florida', 'Menopause', 'NoStupidQuestions', 'TwoXPreppers', 'Outlander', 'BoomersBeingFools', 'wichita', 'UnitedNations', 'BookshelvesDetective', 'OptimistsUnite', 'atheism', 'politics', 'roadtrip', 'Professors', 'LeavingAcademia', 'MUN', 'TrueReddit', 'DeepFuckingValue', 'interestingasfuck', 'VampireChronicles', 'floridagardening', 'americanairlines', 'BusinessFashion', 'madmen', 'college', 'homeowners', 'LetsTalkMusic', 'fortlauderdale', 'books', 'AmIOverreacting', 'LivingAlone', 'NativePlantGardening', 'sociology', 'Broadway', 'GilmoreGirls', 'AskEconomics', 'interiordecorating', 'SeriousConversation', 'amiwrong', 'LibbyApp', 'glutenfree', 'Teachers', 'Economics', 'MiddleClassFinance', 'RedditForGrownups', 'movies'}\n"
     ]
    },
    {
     "name": "stderr",
     "output_type": "stream",
     "text": [
      "Scraping user comments:   1%|          | 248/29911 [53:26<70:13:09,  8.52s/it]"
     ]
    },
    {
     "name": "stdout",
     "output_type": "stream",
     "text": [
      "Comments saved to /Users/smutnuri/Documents/UVA/_Projects/Fall24/CBM/CBMRepo/Data/usercomments/43_Fizzy_Bottom_usercomments.json\n",
      "{'ask', 'television', 'audiobooks', 'Michigan', 'stephenking', 'AskOldPeople', 'writing', 'IBEW', 'itcouldhappenhere', 'rant', 'MusicRecommendations', 'freelancewriting', 'sports', 'clevelandcavs', 'law', 'self', 'spotify', 'blues', 'Nirvana', 'musicsuggestions', 'LiveFromNewYork', 'ConanTheBarbarian', 'OhioStateFootball', 'FluentInFinance', 'beatles', 'tall', 'MovingToUSA', 'AskWomen', 'AskReddit', 'BeauOfTheFifthColumn', 'AskMenOver30', 'trueratediscussions', 'introverts', 'CFB', 'DCcomics', 'business', 'hbo', 'moviecritic', 'Detroit', 'TrueFilm', 'Christianity', 'LakeErieBros', 'NCAAW', 'Uniteagainsttheright', 'Basketball', 'science', 'neilyoung', 'rockmusic', 'Pennsylvania', 'NPR', 'UpliftingNews', 'comicbooks', 'HistoryWhatIf', 'MST3K', 'workfromhome', 'Concerts', 'Saginaw', 'internetparents', 'ClassicRock', 'GenX', 'Damnthatsinteresting', 'AskHistory', 'EmilyFeld', 'The10thDentist', 'sitcoms', '80s90sComics', 'AskMen', 'no', 'thanksgiving', 'GVSU', 'RandomThoughts', 'OpenChristian', 'hypotheticalsituation', 'TrueCrimeDiscussion', 'ledzeppelin', 'TheAmericans', 'rem', 'MapPorn', 'TrueUnpopularOpinion', 'popculturechat', 'dayton', 'AITAH', 'televisionsuggestions', 'DeadBedrooms', 'suggestmeabook', 'Askpolitics', 'Productivitycafe', 'nba', 'Diverticulitis', 'GunsNRoses', 'Adulting', 'selfie', 'Music', 'hotels', 'introvert', 'graphicnovels', 'thedavidpakmanshow', 'whatif', 'ForensicFiles', 'dataisbeautiful', 'marketing', 'grandrapids', 'FantasticFour', 'ESPN', 'u_outlawchurro', 'nfl', 'Marvel', 'TrueAskReddit', 'facepalm', 'pics', 'NoStupidQuestions', 'Oldschool_NFL', 'Georgia', 'nbadiscussion', 'BoomersBeingFools', 'AMA', 'comicbookcollecting', 'fashion', 'rollingstones', 'literature', 'Life', 'repost', 'DeepThoughts', 'nanowrimo', 'Gifts', 'OptimistsUnite', 'NFLv2', 'TrueCrimePodcasts', 'NBATalk', 'DecodingTheGurus', '80smusic', 'detroitlions', 'joker', 'CommercialsIHate', 'reactiongifs', 'politics', 'TheBeatles', 'FleetwoodMac', 'MarkMyWords', 'ToddintheShadow', 'VintageNBA', 'AskACanadian', 'SameGrassButGreener', 'Godfather', 'writers', 'MovieSuggestions', 'DanLeBatardShow', 'wilco', 'AdviceForTeens', 'personalfinance', 'smallbusiness', 'jobsearchhacks', 'confession', 'Sciatica', 'energy', 'CasualConversation', 'country', 'college', 'interviews', 'workout', 'Browns', 'careeradvice', 'leanfire', 'bobdylan', 'questions', 'books', 'CollegeBasketball', 'AmIOverreacting', 'NetflixBestOf', 'Aging', 'LinkedInLunatics', 'nytimes', 'jobs', 'clevercomebacks', 'stupidquestions', 'mysterybooks', 'Doppleganger', 'BruceSpringsteen', 'AskMenAdvice', 'AskEconomics', 'changemyview', 'nottheonion', 'USHistory', 'LongCovid', 'Cleveland', 'running', 'SeriousConversation', 'todayilearned', 'AskAnAmerican', 'GenerationJones', 'DiscoveryID', 'entertainment', 'PoliticalMemes', 'freelanceWriters', 'mlb', 'grunge', 'RedditForGrownups', 'movies', 'classicfilms'}\n"
     ]
    },
    {
     "name": "stderr",
     "output_type": "stream",
     "text": [
      "Scraping user comments:   1%|          | 249/29911 [53:56<123:50:10, 15.03s/it]"
     ]
    },
    {
     "name": "stdout",
     "output_type": "stream",
     "text": [
      "Comments saved to /Users/smutnuri/Documents/UVA/_Projects/Fall24/CBM/CBMRepo/Data/usercomments/44035_usercomments.json\n",
      "{'Lowes', 'pics', 'Humanoidencounters', 'EarthPorn', 'cactus', 'quilting', 'NoStupidQuestions', 'Chihuahua', 'PlasticSurgery', 'mildlyinteresting', 'BoomersBeingFools', 'oilpainting', 'books', 'Casual_Conversation', 'relationships', 'norfolk', 'whatsthisrock', 'Embroidery', 'medical_advice', 'Ghosts', 'medical', 'Instagramreality', 'painting', 'medizzy', 'succulents', 'menwritingwomen', 'AskReddit', 'moths', 'whatisthisbone', 'rva', 'Poetry', 'aww', 'retailhell', 'Wildflowers', 'gifs', 'news', 'nonfictionbooks', 'triphop', 'popping', 'TwoXChromosomes', 'Ghoststories', 'Virginia', 'Art', 'insanepeoplefacebook', 'petersburg', 'proplifting', 'Music', 'LifeProTips', 'IdiotsInCars', 'Insurance', 'BackwoodsCreepy', 'CrappyDesign', 'ArtCrit', 'ArtistLounge', 'beebutts', 'AbstractArt', 'camping', 'personalfinance', 'funny', 'BlueRidgeParkway', 'HomeDecorating', 'bee', 'JustNoSO', 'artbusiness', 'AmItheAsshole', 'acrylicpainting'}\n"
     ]
    },
    {
     "name": "stderr",
     "output_type": "stream",
     "text": [
      "Scraping user comments:   1%|          | 250/29911 [54:04<107:02:01, 12.99s/it]"
     ]
    },
    {
     "name": "stdout",
     "output_type": "stream",
     "text": [
      "Comments saved to /Users/smutnuri/Documents/UVA/_Projects/Fall24/CBM/CBMRepo/Data/usercomments/460arts_usercomments.json\n",
      "{'Weird', 'InstantRamen', 'SustainableFashion', 'traderjoes', 'VintageFashion', 'writing', 'mildlyinteresting', 'videos', 'MakeNewFriendsHere', 'bipolar_irl', 'ThriftStoreHauls', 'flicks', 'Showerthoughts', 'RentTheRunway', 'relationships', '52book', 'Instagramreality', 'whatsthatbook', 'FortWorth', 'AskReddit', 'Cooking', 'gifs', 'SwiftlyNeutral', 'Old_Recipes', 'Avengers', 'Anticonsumption', 'Target', '15minutefood', 'relationship_advice', 'bisexual', 'infp', 'unpopularopinion', 'KitchenConfidential', 'forgottenfoods', 'ifyoulikeblank', 'TheTryGuys', 'AmItheAsshole', 'memes', 'CleaningTips', 'Austin', 'ZeroWaste', 'HelpMeFind', 'tulsa', 'vintage', 'RandomThoughts', 'insaneparents', 'bipolar', 'wholesomememes', 'TheGirlSurvivalGuide', 'AustinHousing', 'Poetry', 'aww', 'indie', 'texas', 'suggestmeabook', 'TwoXChromosomes', 'harrypotter', 'Music', 'GossipGirl', 'FallOutBoy', 'BillyJoel', 'salads', 'kansas', 'AccidentalWesAnderson', 'foodhacks', 'coolguides', 'woahdude', 'RomanceBooks', 'pics', 'EatCheapAndHealthy', 'IAmTheMainCharacter', 'ThisDayInHistory', 'cookingforbeginners', 'StupidFood', 'NameMyCat', 'BooksThatFeelLikeThis', 'declutter', 'MaliciousCompliance', 'whatsthisworth', 'tattoos', 'nostalgia', 'LPOTL', 'Wellthatsucks', 'roadtrip', 'FavoriteCharacter', 'bipolar2', 'budgetfood', 'Eyebleach', 'AskGirls', 'WitchesVsPatriarchy', 'AJR', 'interestingasfuck', 'pettyrevenge', 'simpleliving', 'AustinClassifieds', 'TaylorSwift', 'tipofmytongue', 'CasualConversation', 'starbucks', 'femalelivingspace', 'DecidingToBeBetter', 'CatfishTheTVShow', 'ClassicBookClub', 'DoesAnybodyElse', 'trashy', 'Blink182', 'PoliticalHumor', 'PointlessStories', 'Empaths', 'bigboobproblems', 'books', '90s', 'Alternativerock', 'OUTFITS', 'dank_meme', 'actuallesbians', 'tifu', 'TheWayWeWere', 'FrugalFemaleFashion', 'austinfood', 'Fauxmoi', 'Ulta', 'AskAMechanic', 'NotHowGirlsWork', 'tattoo', 'melts', 'upcycling', 'GilmoreGirls', 'MadeMeSmile', 'FoundPaper', 'offmychest', 'todayilearned', 'smallbooks', 'Art', 'drunk', 'fashionadvice', 'askpsychology', 'entertainment', 'booksuggestions', 'BostonTerrier', 'food', 'askdrugs', 'austinjobs', 'trees', 'sadcringe', 'lastpodcastontheleft', 'meirl', 'ToyID', 'bi_irl', 'funny', 'Baking', 'movies', 'pansexual', 'TopSecretRecipes', 'sex'}\n"
     ]
    },
    {
     "name": "stderr",
     "output_type": "stream",
     "text": [
      "Scraping user comments:   1%|          | 251/29911 [54:26<127:59:50, 15.54s/it]"
     ]
    },
    {
     "name": "stdout",
     "output_type": "stream",
     "text": [
      "Comments saved to /Users/smutnuri/Documents/UVA/_Projects/Fall24/CBM/CBMRepo/Data/usercomments/47percentbaked_usercomments.json\n",
      "{'traderjoes', 'AskOldPeople', 'mildlyinteresting', 'MusicRecommendations', 'Showerthoughts', 'cookingtonight', 'self', 'musicsuggestions', 'FluentInFinance', 'Scotch', 'AskReddit', 'Cooking', 'floorplan', 'whereintheworld', 'Seattle', 'moviecritic', 'moving', 'antiwork', 'SeaWA', 'HomeDecorating', 'science', 'Homebuilding', 'Concerts', 'GenX', 'HardWoodFloors', 'democrats', 'Awww', 'wholesomememes', 'GabbyPetito', 'aww', 'MapPorn', 'AITAH', 'news', 'suggestmeabook', 'Productivitycafe', 'TwoXChromosomes', 'Home', 'okc', 'WhitePeopleTwitter', 'seattlehobos', 'Coronavirus', 'mildlyinfuriating', 'Advice', 'Minneapolis', 'pics', 'massachusetts', 'facepalm', 'oddlysatisfying', 'NoStupidQuestions', 'worldnews', 'TravelNursing', 'repost', 'kitchenremodel', 'minnesota', 'politics', 'finehair', 'lifehacks', '30PlusSkinCare', 'Weddingattireapproval', 'SeattleWA', 'phoenix', 'photography', 'arborists', 'books', 'TravelMaps', 'bicycling', 'Costco', 'stupidquestions', 'MadeMeSmile', 'AmateurPhotography', 'todayilearned', 'mattgaetz', 'TrueOffMyChest', 'GenerationJones', 'DesignMyRoom', 'FoodPorn', 'vancouver', 'PublicFreakout', 'medicine', 'funny', 'RedditForGrownups', 'religiousfruitcake'}\n"
     ]
    },
    {
     "name": "stderr",
     "output_type": "stream",
     "text": [
      "Scraping user comments:   1%|          | 252/29911 [54:43<132:57:56, 16.14s/it]"
     ]
    },
    {
     "name": "stdout",
     "output_type": "stream",
     "text": [
      "Comments saved to /Users/smutnuri/Documents/UVA/_Projects/Fall24/CBM/CBMRepo/Data/usercomments/4Blueberries_usercomments.json\n",
      "{'television', 'greenday', 'TetragrammatonPodcast', 'videos', 'mildlyinteresting', 'technology', 'Palm', 'Enhancement', 'AskReddit', 'alberta', 'GalaxyTab', 'Shitty_Car_Mods', 'googlehome', 'lexfridman', 'bestof', 'Calgary', 'electricvehicles', 'DIY', 'Whatcouldgowrong', 'GalaxyS24', 'sciencefiction', 'Damnthatsinteresting', 'Futurology', 'ArmchairExpert', 'HailCorporate', 'RBI', 'Android', 'podcasts', 'dogecoin', 'MBA', 'cars', 'Unexpected', 'suggestmeabook', 'news', 'AskAcademia', 'GalaxyS23', 'Music', 'popheads', 'arizona', 'camping', 'Autos', 'help', 'mildlyinfuriating', 'ATBGE', 'whereisthis', 'pics', 'canada', 'worldnews', 'gadgets', 'atheism', 'politics', 'autism', 'maximumfun', 'Dragonforce', 'crossword', 'Minecraft', 'explainlikeimfive', 'ASU', 'phoenix', 'photography', 'HomeImprovement', 'books', 'tifu', 'bicycling', 'OutOfTheLoop', 'jobs', 'Guitar', 'excel', 'piano', 'Broadway', 'nottheonion', 'todayilearned', 'scrabble', 'dementia', 'musictheory', 'compact', 'entertainment', 'LifeProTips', 'IdiotsInCars', 'IAmA', 'Tempe', 'PublicFreakout', 'ChatGPT', 'funny', 'SubredditDrama', 'movies', 'GalaxyS9'}\n"
     ]
    },
    {
     "name": "stderr",
     "output_type": "stream",
     "text": [
      "Scraping user comments:   1%|          | 253/29911 [55:02<138:24:00, 16.80s/it]"
     ]
    },
    {
     "name": "stdout",
     "output_type": "stream",
     "text": [
      "Comments saved to /Users/smutnuri/Documents/UVA/_Projects/Fall24/CBM/CBMRepo/Data/usercomments/4a4a_usercomments.json\n",
      "{'books', 'ShingekiNoKyojin', 'thewalkingdead'}\n"
     ]
    },
    {
     "name": "stderr",
     "output_type": "stream",
     "text": [
      "Scraping user comments:   1%|          | 254/29911 [55:02<97:35:30, 11.85s/it] "
     ]
    },
    {
     "name": "stdout",
     "output_type": "stream",
     "text": [
      "Comments saved to /Users/smutnuri/Documents/UVA/_Projects/Fall24/CBM/CBMRepo/Data/usercomments/4ashcash_usercomments.json\n",
      "{'television', 'workout', 'samharris', 'burgers', 'leaves', 'getdisciplined', 'LeopardsAteMyFace', 'americangods', 'wildcampingintheuk', 'books', 'GreenAndPleasant', 'MrRobot', 'philosophy', 'UmbrellaAcademy', 'LokiTV', 'nattyorjuice', 'MCFC', 'trailrunning', 'BBQ', 'AskReddit', 'thefalconandthews', 'CasualUK', 'DarK', 'netflix', 'UK_Food', 'treedibles', 'soccercirclejerk', 'cristianoronaldo', 'RingsofPower', 'netflixwitcher', 'runninglifestyle', 'Existentialism', 'garminforerunner', 'altcountry', 'news', '80s', 'naturalbodybuilding', 'GarminFenix', '80smovies', 'bigger', 'booksuggestions', 'WANDAVISION', 'teenagers', 'indepthstories', 'smoking', 'marvelstudios', 'ginacarano', 'ArsenalFC', 'Gunners', 'trees', 'HubermanLab', 'football', 'drewbarrymore', 'HouseOfTheDragon', 'AskUK', 'PremierLeague', 'AWLIAS', 'unpopularopinion', 'WhitePeopleTwitter', 'KitchenConfidential', 'meat', 'crossfit', 'mildlyinfuriating', 'homegym', 'Wakingupapp', 'HistoricalCapsule', 'DecidingToBeBetter', 'BritishSuccess'}\n"
     ]
    },
    {
     "name": "stderr",
     "output_type": "stream",
     "text": [
      "Scraping user comments:   1%|          | 255/29911 [55:07<80:50:57,  9.81s/it]"
     ]
    },
    {
     "name": "stdout",
     "output_type": "stream",
     "text": [
      "Comments saved to /Users/smutnuri/Documents/UVA/_Projects/Fall24/CBM/CBMRepo/Data/usercomments/4bidd_usercomments.json\n",
      "{'diydrones', 'Michigan', 'writing', 'microgrowery', 'mildlyinteresting', 'scifi', 'USHigherEducation', 'passive_income', 'Warhammer40k', 'MildlyVandalised', 'Frugal', 'LegalAdviceIndia', 'AskReddit', 'BuyItForLife', 'conspiracy', 'CryptoCurrencyMoons', 'Permaculture', 'Anticonsumption', 'CatastrophicFailure', 'antiwork', 'unpopularopinion', 'DIY', 'ender3', 'orks', 'esist', 'Damnthatsinteresting', 'Futurology', 'DungeonsAndDragons', 'FixMyPrint', 'AskMen', 'Blacksmith', 'scifiwriting', 'MetalCasting', 'hypotheticalsituation', 'bookclub', 'AITAH', 'news', 'motorcycles', '3Dprinting', 'babylon5', 'spaceporn', 'lansing', 'Money', 'terraforming', 'cycling', 'grandrapids', 'Coronavirus', 'ToiletPaperUSA', 'mildlyinfuriating', 'TopMindsOfReddit', 'preppers', 'TheNeonStreets', 'oddlyspecific', 'bikecommuting', 'wallstreetbets', 'baltimore', 'Tinder', 'GetMotivated', 'atheism', 'Wellthatsucks', 'CannabisExtracts', 'StinkyDragonPodcast', 'Aventon', 'solarpunk', 'WorkReform', 'ADHD', 'UrbanHell', 'fuckHOA', 'hum', 'RavenGuard40k', 'SweatyPalms', 'WLED', 'pcmasterrace', 'StonerEngineering', 'Annapolis', 'leanfire', 'books', 'AmIOverreacting', 'Entrepreneur', 'HowToHack', 'Ducati', 'tifu', 'Chattanooga', 'motorcycle', 'Salamanders40k', 'esp32', 'datingoverforty', 'CryptoCurrency', 'homestead', 'ebikes', 'LifeProTips', 'fuckcars', 'hacking', 'DebateAnAtheist', 'trees', 'biology', 'vaporents', 'Economics', 'Screenwriting', 'startups'}\n"
     ]
    },
    {
     "name": "stderr",
     "output_type": "stream",
     "text": [
      "Scraping user comments:   1%|          | 256/29911 [55:22<94:00:42, 11.41s/it]"
     ]
    },
    {
     "name": "stdout",
     "output_type": "stream",
     "text": [
      "Comments saved to /Users/smutnuri/Documents/UVA/_Projects/Fall24/CBM/CBMRepo/Data/usercomments/4channeling_usercomments.json\n",
      "{'television', 'Michigan', 'TwoHotTakes', 'Colorization', 'AskOldPeople', 'GlowUps', 'IBEW', 'videos', 'babylonbee', 'mildlyinteresting', 'rant', 'Nicedress', 'MusicRecommendations', 'Connecticut', 'SouthJersey', 'soccer', 'technology', 'LiverpoolFC', 'sports', 'law', 'Funnymemes', 'self', 'MNconservative', 'MNtrees', 'Eau_Claire', 'FluentInFinance', 'westchesterpa', 'UrinatingTree', 'minnesotaunited', 'timetravel', 'SeattleKraken', 'AskChicago', 'AskWomen', 'AskReddit', 'geography', 'uofmn', 'PhillyUnion', 'trueratediscussions', 'punk', 'DisneyMemes', 'lordoftherings', 'soccercirclejerk', 'oregon', 'GenZ', 'Twitter', 'energy_work', 'the_everything_bubble', 'iwatchedanoldmovie', 'timberwolves', 'Historycord', 'hbo', 'WrexhamAFC', 'dirtysportshistory', 'UkrainianConflict', 'science', 'BlueEyeSamurai', 'ufo', 'Pennsylvania', 'scotus', 'onionheadlines', 'NPR', 'HistoryWhatIf', 'hotsauce', 'bigbangtheory', 'HistoricalWhatIf', 'ducks', 'cannabis', 'answers', 'MurderedByAOC', 'BucksCountyPA', 'OldSchoolRidiculous', 'rock', 'scambait', 'AskHistory', 'Psychic', 'GenX', 'minnesotavikings', 'sitcoms', 'democrats', 'nhl', 'millenials', 'jasonisbell', 'AskMen', 'cfbmemes', 'AncestryDNA', 'spirituality', 'calvinandhobbes', 'stories', 'CastleTV', 'NFCNorthMemeWar', 'wildhockey', 'RareHistoricalPhotos', 'Rings_Of_Power', 'europe', 'travisandtaylor', 'Dreams', 'MapPorn', 'popculturechat', 'cuba', 'texas', 'AITAH', 'news', 'WomensSoccer', 'nba', 'Journalism', 'TheGaslightAnthem', 'FOXNEWS', '80s', 'AskWomenNoCensor', 'SoundersFC', 'Music', 'wisconsin', 'arizona', 'Presidents', 'crossedlegs', 'desmoines', 'FutureWhatIf', 'Albuquerque', 'AskFeminists', 'usmnt', 'NationalPark', 'WhitePeopleTwitter', 'SnapshotHistory', 'dataisbeautiful', 'coolguides', 'BatmanCapedCrusader', 'jackwhite', 'saintpaul', 'TheChosenSeries', 'ESPN', 'mildlyinfuriating', 'lotr', 'HistoricalCapsule', 'Advice', 'TheAllinPodcasts', 'florida', 'Minneapolis', 'pics', 'massachusetts', 'StarWars', 'Longreads', 'ResidentAlienTVshow', 'canada', 'NoStupidQuestions', 'worldnews', 'Georgia', 'NoShitSherlock', 'Oldschool_NFL', 'Championship', 'cookingforbeginners', 'AMA', 'TwinCities', 'LigaMX', 'DNA', 'missouri', 'dbcooper', 'hockeycirclejerk', 'EdmontonOilers', 'Cd_collectors', 'NFLv2', 'NBATalk', 'OldSchoolCool', '80smusic', 'ezraklein', 'union', 'minnesotabeer', '100yearsago', 'interesting', 'atheism', 'UnitedAssociation', 'BrandNewSentence', 'MLSAwayFans', 'InterMiami', 'Foodforthought', 'MURICA', 'roadtrip', 'politics', 'thebigbangtheory', 'CopaAmerica', 'Cheers', 'FirstTimeHomeBuyer', 'Utah', 'SameGrassButGreener', 'mapporncirclejerk', 'popculture', 'moraldilemmas', 'Iowa', 'Conservative', 'TrueReddit', 'WildWestPics', 'NewsOfTheStupid', 'newhampshire', 'interestingasfuck', 'Libraries', 'PremierLeague', 'energy', 'illinois', 'TheB1G', 'NFLNoobs', 'LetsTalkMusic', 'northdakota', 'Mediums', 'confusingperspective', 'RealTesla', 'Genealogy', 'evilbuildings', 'imaginarymapscj', 'stateofMN', 'books', 'AmIOverreacting', 'TravelMaps', 'worldcup', 'TheWayWeWere', 'ThreadsApp', 'OutOfTheLoop', 'Fauxmoi', 'GopherSports', 'NWSL', 'clevercomebacks', 'JoeRogan', 'beauty', 'skeptic', 'NYYankees', 'California', 'AdviceAnimals', 'ctbeer', 'BruceSpringsteen', 'AskMenAdvice', 'ussoccer', 'Gin', 'MadeMeSmile', 'Infographics', 'nottheonion', 'USHistory', 'AskHistorians', 'weed', 'USLPRO', 'altmpls', 'todayilearned', 'BarbaraWalters4Scale', 'Standup', 'twincitiessocial', 'WomenInNews', 'u_washingtonpost', 'supremecourt', 'entertainment', 'UtterlyInteresting', 'BlackPeopleTwitter', 'collegehockey', 'PropagandaPosters', 'philadelphia', 'indie_rock', 'saturdaynightlive', 'Foofighters', 'Ironworker', 'Teachers', 'football', 'funny', 'ThreeLions', 'IfBooksCouldKill', 'MiddleClassFinance', 'RedditForGrownups', 'minnesotatwins', 'hockey'}\n"
     ]
    },
    {
     "name": "stderr",
     "output_type": "stream",
     "text": [
      "Scraping user comments:   1%|          | 257/29911 [55:51<137:08:14, 16.65s/it]"
     ]
    },
    {
     "name": "stdout",
     "output_type": "stream",
     "text": [
      "Comments saved to /Users/smutnuri/Documents/UVA/_Projects/Fall24/CBM/CBMRepo/Data/usercomments/4four4MN_usercomments.json\n",
      "{'entitledparents', 'facepalm', 'COVID19positive', 'pics', 'AskOldPeople', 'PoliticalHumor', 'worldnews', 'LeopardsAteMyFace', 'mildlyinteresting', 'memes', 'GenX', 'Damnthatsinteresting', 'Norway', 'stocks', 'cringe', 'books', 'breakingbad', 'community', 'tifu', 'ThatsInsane', 'WinStupidPrizes', 'StockMarket', 'wallstreetbets', 'Wallstreetbetsnew', 'iamatotalpieceofshit', 'COVIDAteMyFace', 'TrueCrimeDiscussion', 'CasualUK', 'MadeMeSmile', 'whereintheworld', 'MapPorn', 'nostalgia', 'NigerianFluency', 'politics', 'news', 'COROLLA', 'BeAmazed', 'CovIdiots', 'peopleofwalmart', 'Trumpgret', 'ArtificialInteligence', 'GTAorRussia', 'IdiotsInCars', 'MakerDAO', 'maybemaybemaybe', 'nextfuckinglevel', 'seinfeld', 'interestingasfuck', 'WallStreetbetsELITE', 'Nigeria', 'COVID19', 'PublicFreakout', 'pennystocks', 'funny', 'woahdude', 'WatchPeopleDieInside', 'movies', 'TalesFromYourServer', 'mildlyinfuriating', 'HistoryPorn', 'Boise', 'Cruise', 'blunderyears', 'NatureIsFuckingLit'}\n"
     ]
    },
    {
     "name": "stderr",
     "output_type": "stream",
     "text": [
      "Scraping user comments:   1%|          | 258/29911 [55:55<105:11:44, 12.77s/it]"
     ]
    },
    {
     "name": "stdout",
     "output_type": "stream",
     "text": [
      "Comments saved to /Users/smutnuri/Documents/UVA/_Projects/Fall24/CBM/CBMRepo/Data/usercomments/4hmmm_usercomments.json\n",
      "{'SustainableFashion', 'Weird', 'pregnant', 'SipsTea', 'redditonwiki', 'mildlyinteresting', 'PhD', '1200isplenty', 'NameNerdCirclejerk', 'notliketheothergirls', 'AskReddit', 'AreTheStraightsOK', 'AITA_WIBTA_PUBLIC', 'HomeschoolRecovery', 'trueratediscussions', 'FundieSnarkUncensored', 'loseit', 'Nails', 'NonBinary', 'MakeupAddiction', 'antiwork', 'SelfAwarewolves', 'relationship_advice', 'LoveIsBlindNetflix', 'ApplyingToCollege', 'KidsAreFuckingStupid', 'brittanydawnsnark', 'ShitMomGroupsSay', 'astrologymemes', 'memes', 'Damnthatsinteresting', 'hellofresh', 'caloriecount', 'nothingeverhappens', 'namenerds', 'travisandtaylor', 'makeupflatlays', 'asklinguistics', 'popculturechat', 'GossipGirl', 'Howtolooksmax', 'coloranalysis', 'TravelHacks', 'yesyesyesyesno', 'popheadscirclejerk', 'facepalm', 'whatthefrockk', 'NoStupidQuestions', 'GradSchool', 'fashion', 'handbags', 'oddlyspecific', 'intermittentfasting', 'newinbeauty', 'NewParents', 'Tinder', 'LoveIsBlindOnNetflix', 'BrandNewSentence', 'beyondthebump', 'BeautyGuruChatter', 'cats', 'academia', 'Telfar', 'Sephora', 'TooAfraidToAsk', 'Weddingattireapproval', 'blunderyears', 'Cornell', 'books', 'OUTFITS', 'AmIOverreacting', 'LinkedInLunatics', 'Fauxmoi', 'tattoo', 'NotHowGirlsWork', 'progresspics', 'Bumble', 'AskMenAdvice', 'weddingdress', 'mildyinteresting', 'SkincareAddiction', 'HolUp', 'BrownU', 'tragedeigh', 'BlackPeopleTwitter', 'InterestingToRead', 'therewasanattempt', 'FemFragLab', 'NYCinfluencersnark', '1200isfineIGUESSugh', 'BabyBumps', 'Parenting', 'shittytattoos', 'sex'}\n"
     ]
    },
    {
     "name": "stderr",
     "output_type": "stream",
     "text": [
      "Scraping user comments:   1%|          | 259/29911 [56:00<86:52:33, 10.55s/it] "
     ]
    },
    {
     "name": "stdout",
     "output_type": "stream",
     "text": [
      "Comments saved to /Users/smutnuri/Documents/UVA/_Projects/Fall24/CBM/CBMRepo/Data/usercomments/4l13n0c34n_usercomments.json\n",
      "{'visualnovels', 'Home', 'WebNovels', 'books', 'bookclub', 'ireland'}\n"
     ]
    },
    {
     "name": "stderr",
     "output_type": "stream",
     "text": [
      "Scraping user comments:   1%|          | 260/29911 [56:01<62:20:59,  7.57s/it]"
     ]
    },
    {
     "name": "stdout",
     "output_type": "stream",
     "text": [
      "Comments saved to /Users/smutnuri/Documents/UVA/_Projects/Fall24/CBM/CBMRepo/Data/usercomments/4madaline20solane55_usercomments.json\n",
      "{'television', 'iamverybadass', 'theshining', 'Drumming', 'writing', 'flicks', 'scifi', 'technology', 'IrishHistory', 'law', 'Funnymemes', 'horror', 'gameofthrones', 'meme', 'neilgaiman', 'geography', 'Games', 'Cooking', 'AskMenOver30', 'MurderedByWords', 'SurvivalGaming', 'blankies', 'daverubin', 'AskCulinary', 'FromSeries', 'dune', 'moviecritic', 'fatherted', 'TrueFilm', 'gamingsuggestions', 'AskIreland', 'MemeVideos', 'ExplainTheJoke', 'SpidermanPS4', 'comicbooks', 'Fantasy', 'answers', 'samharris', 'shittymoviedetails', 'PeterExplainsTheJoke', 'Bass', 'Manipulation', 'howislivingthere', 'okbuddycinephile', 'ShitAmericansSay', 'CasualIreland', 'Malazan', 'stories', 'rareinsults', 'ledzeppelin', 'netflix', 'climatechange', 'popculturechat', 'ireland', 'televisionsuggestions', 'suggestmeabook', 'theblackcompany', '3Dprinting', 'Music', 'fantanoforever', 'writingadvice', 'guitarlessons', 'popheadscirclejerk', 'mildlyinfuriating', 'lotr', 'Marvel', 'pics', 'NoStupidQuestions', 'LeopardsAteMyFace', 'BoomersBeingFools', 'AMA', 'literature', 'theydidthemath', 'agedlikemilk', 'LV426', 'ShouldIbuythisgame', 'menwritingwomen', 'DecodingTheGurus', 'atheism', 'IrishFolklore', 'USNewsHub', 'IASIP', 'RingsofPower', 'LivestreamFail', 'MarkMyWords', 'writers', 'MovieSuggestions', 'StanleyKubrick', 'bakker', 'ArtistLounge', 'CosmicSkeptic', 'drums', 'LetsTalkMusic', 'ToolBand', 'ABoringDystopia', 'RealTesla', 'StudyInIreland', 'books', 'valheim', 'AmIOverreacting', 'TikTokCringe', 'ComicBookCollabs', 'thatsinterestingbro', 'Guitar', 'clevercomebacks', 'JoeRogan', 'changemyview', 'nottheonion', 'cork', 'horrorlit', 'todayilearned', 'Standup', 'TheCrow', 'inthenews', 'tragedeigh', 'MetalDrums', 'KillingEve', 'entertainment', 'BlackPeopleTwitter', 'LOTR_on_Prime', 'AcousticGuitar', 'DebateAnAtheist', 'guitarcirclejerk', 'DC_Cinematic', 'movies', 'artbusiness'}\n"
     ]
    },
    {
     "name": "stderr",
     "output_type": "stream",
     "text": [
      "Scraping user comments:   1%|          | 261/29911 [56:30<115:13:34, 13.99s/it]"
     ]
    },
    {
     "name": "stdout",
     "output_type": "stream",
     "text": [
      "Comments saved to /Users/smutnuri/Documents/UVA/_Projects/Fall24/CBM/CBMRepo/Data/usercomments/4n0m4nd_usercomments.json\n",
      "{'PMS', 'KindVoice', 'books', 'foraging', 'fashion', 'tea', 'self', 'happy', 'vegetablegardening', 'Meditation', 'gardening', 'infj', 'TrueFilm', 'belgium', 'herbalism', 'Codependency', 'composting', 'simpleliving', 'infp', 'whatsthisplant'}\n"
     ]
    },
    {
     "name": "stderr",
     "output_type": "stream",
     "text": [
      "Scraping user comments:   1%|          | 262/29911 [56:31<84:05:55, 10.21s/it] "
     ]
    },
    {
     "name": "stdout",
     "output_type": "stream",
     "text": [
      "Comments saved to /Users/smutnuri/Documents/UVA/_Projects/Fall24/CBM/CBMRepo/Data/usercomments/4novk_usercomments.json\n",
      "{'SipsTea', 'lostmedia', 'u_Pizzacakecomic', 'mildlyinteresting', 'houstonwade', 'technology', 'economicCollapse', 'law', 'Filmmakers', 'self', 'Vaporwave', 'Millennials', 'NotTimAndEric', 'dividendscanada', 'me_irl', 'BravoRealHousewives', 'thanksimcured', 'FluentInFinance', 'meme', 'AskReddit', 'Games', 'AskMenOver30', 'trueratediscussions', 'alberta', 'MurderedByWords', 'the_everything_bubble', 'onguardforthee', 'Canada_sub', 'moviecritic', 'comics', 'antiwork', 'TrueFilm', 'UnethicalLifeProTips', 'Bumperstickers', 'canadia', 'indieheads', 'nutrition', 'unpopularopinion', 'HomeDecorating', 'science', 'KidsAreFuckingStupid', 'MemeVideos', 'youtube', 'UpliftingNews', 'ExplainTheJoke', 'shittymoviedetails', 'malefashionadvice', 'PeterExplainsTheJoke', 'memes', 'Damnthatsinteresting', 'SimpsonsMemes', 'weezer', 'Futurology', 'Crippled_Alcoholics', 'simpsonsshitposting', 'philosophy', 'mathrock', 'Sandwiches', 'cushvlog', 'MapPorn', 'TrueUnpopularOpinion', 'bodyweightfitness', 'UXDesign', 'AITAH', 'Unexpected', 'news', 'suggestmeabook', 'Productivitycafe', 'TwoXChromosomes', 'Meditation', 'Music', 'wisconsin', 'u_PolysleepCanada', 'ProgrammerHumor', 'starterpacks', 'WhitePeopleTwitter', 'whatif', 'silenthill', 'cycling', 'mildlyinfuriating', 'HistoricalCapsule', 'bropill', 'oddlysatisfying', 'pics', 'massachusetts', 'canada', 'NoStupidQuestions', 'Design', 'gaming', 'worldnews', 'justgalsbeingchicks', 'malehairadvice', 'Hashimotos', 'childfree', 'Steam', 'oddlyspecific', 'repost', 'theydidthemath', 'CanadaPolitics', 'stopdrinking', 'DecodingTheGurus', 'OldSchoolCool', 'ww2', 'woahthatsinteresting', 'The_Leftorium', 'Wellthatsucks', 'politics', 'funnysigns', 'CriticalTheory', 'LivestreamFail', 'MarkMyWords', 'NiceVancouver', 'web_design', 'vancouvercycling', 'BeAmazed', 'Destiny', 'Iowa', 'Eyebleach', 'IslandHikers', 'Conservative', 'TrueReddit', 'cats', 'playstation', 'WorkReform', 'HorrorGaming', 'PKA', 'explainlikeimfive', 'britishcolumbia', 'Columbus', 'CanadaWatch', 'badfacebookmemes', 'YesAmericaBad', '40something', 'absolutelynotme_irl', 'pcmasterrace', 'AskACobbler', 'PoliticalHumor', 'UnbelievableStuff', 'collapse', 'books', 'nanaimo', 'AmIOverreacting', 'LinkedInLunatics', 'memesopdidnotlike', 'GetNoted', 'jobs', 'clevercomebacks', 'JoeRogan', 'Jordan_Peterson_Memes', 'AdviceAnimals', 'careerguidance', 'MadeMeSmile', 'kelowna', 'running', 'AskHistorians', 'themayormccheese', 'todayilearned', 'Standup', 'askphilosophy', 'ufc', 'WomenInNews', 'vancouverhiking', 'teenagers', 'confessions', 'maybemaybemaybe', 'nextfuckinglevel', 'dryalcoholics', 'BreadTube', 'vegetarian', 'Teachers', 'meirl', 'ChatGPT', 'funny', 'Baking', 'HustlersUniversity', 'patientgamers', 'GenZ', 'movies', 'SubredditDrama', 'shittytattoos'}\n"
     ]
    },
    {
     "name": "stderr",
     "output_type": "stream",
     "text": [
      "Scraping user comments:   1%|          | 263/29911 [56:50<106:09:00, 12.89s/it]"
     ]
    },
    {
     "name": "stdout",
     "output_type": "stream",
     "text": [
      "Comments saved to /Users/smutnuri/Documents/UVA/_Projects/Fall24/CBM/CBMRepo/Data/usercomments/4ofclubs_usercomments.json\n",
      "{'traderjoes', 'springfieldMO', 'CatsAreAssholes', 'AskNYC', 'RedditSessions', 'toontownrewritten', 'Miami', 'ANTM', 'Justfuckmyshitup', 'books', 'avesNYC', 'BALLET', 'Moderndance', 'distantsocializing', 'APStudents', 'NYCbitcheswithtaste', 'PastAndPresentPics', 'CankerSores', 'APStudents2', 'friendshipbracelets', 'wholesomememes', 'Aerials', 'AskReddit', 'PokemonGoFriends', 'greysanatomy', 'squishmallows', 'dancemoms', 'BitLifeApp', 'Nails', 'pokemongo', 'bathandbodyworks', 'Catmemes', 'DesignMyRoom', 'that_doodleguy', 'TheGoldenBachelorette', 'Pizza', 'DunderMifflin', 'cats', 'manifestationvalley', 'therewasanattempt', 'Coachella', 'duolingo', 'LibbyApp', 'mac', 'hamsters', 'Jennamarbles', 'nyu', 'UMF', 'college', 'LilGrabbies', 'ApplyingToCollege', 'KidsAreFuckingStupid', 'ARFID', 'doordashgremlin', 'guineapigs', 'brushybrushy', 'answers', 'organization'}\n"
     ]
    },
    {
     "name": "stderr",
     "output_type": "stream",
     "text": [
      "Scraping user comments:   1%|          | 264/29911 [56:58<92:17:19, 11.21s/it] "
     ]
    },
    {
     "name": "stdout",
     "output_type": "stream",
     "text": [
      "Comments saved to /Users/smutnuri/Documents/UVA/_Projects/Fall24/CBM/CBMRepo/Data/usercomments/4rachel20_usercomments.json\n",
      "{'ToolBand', 'kflay', 'ToolTickets', 'Oktoberfest', 'books', 'Ceramics', 'minipainting', 'wallstreetbets', 'options', 'snorkeling', 'AskReddit', 'Primus', 'UPSAHL', 'suggestmeabook', 'frontierairlines', 'billiards', 'KGATLW', 'motorcycles', 'Daytrading', 'Music', 'poker', 'cancun', 'Pottery', 'Puscifer', '4Runner', 'boardgames', 'GXOR', 'granturismo', 'pennystocks', 'Orcs_and_Goblins', 'GuitarAmps', 'drums', 'chessbeginners'}\n"
     ]
    },
    {
     "name": "stderr",
     "output_type": "stream",
     "text": [
      "Scraping user comments:   1%|          | 265/29911 [57:01<72:09:05,  8.76s/it]"
     ]
    },
    {
     "name": "stdout",
     "output_type": "stream",
     "text": [
      "Comments saved to /Users/smutnuri/Documents/UVA/_Projects/Fall24/CBM/CBMRepo/Data/usercomments/4tysixandtwo_usercomments.json\n",
      "{'cars', 'sidehustle', 'suggestmeabook', 'AskOldPeople', 'MINI', '80s', 'GenX', 'cycling', 'MusicRecommendations', 'books', 'podcasts', 'AntiTrumpAlliance', 'ToyotaTacoma', 'lucidmotors', 'vandwellers'}\n"
     ]
    },
    {
     "name": "stderr",
     "output_type": "stream",
     "text": [
      "Scraping user comments:   1%|          | 266/29911 [57:01<51:39:28,  6.27s/it]"
     ]
    },
    {
     "name": "stdout",
     "output_type": "stream",
     "text": [
      "Comments saved to /Users/smutnuri/Documents/UVA/_Projects/Fall24/CBM/CBMRepo/Data/usercomments/4x4NDAD1_usercomments.json\n",
      "{'Weird', 'ask', 'television', 'SipsTea', 'HomeServer', 'IBEW', 'mildlyinteresting', 'networking', 'landscaping', 'houstonwade', 'technology', 'scifi', 'Network', 'sports', 'law', 'Vaporwave', 'self', 'recruitinghell', 'Millennials', 'Funnymemes', 'MacOS', 'me_irl', 'whitewater', 'HumansBeingBros', 'MiniPCs', 'blursedimages', 'FluentInFinance', 'beatles', 'meme', 'PleX', 'AskReddit', 'geography', 'trueratediscussions', 'truenas', 'VaporwaveAesthetics', 'olympics', 'blackmagicfuckery', 'Starlink', 'GenZ', 'gifs', 'MurderedByWords', 'SSRI', 'PiratedGames', 'the_everything_bubble', 'howto', 'dune', 'NewsAndPolitics', 'Carpentry', 'boats', 'moviecritic', 'RoastMe', 'comics', 'antiwork', 'MilitaryPorn', 'coolguides', 'iPadPro', 'DiWHY', 'unpopularopinion', 'Basketball', 'science', 'KitchenConfidential', 'BatmanArkham', 'KidsAreFuckingStupid', 'scotus', 'ccna', 'Nicegirls', 'sysadmin', 'ExplainTheJoke', 'youtube', 'Whatcouldgowrong', 'SolarDIY', 'offbeat', 'msp', 'technews', 'shittymoviedetails', 'weirddalle', 'PeterExplainsTheJoke', 'Chadtopia', 'boatbuilding', 'memes', 'Damnthatsinteresting', 'Futurology', 'democrats', 'Tailscale', 'AskMen', 'steak', 'japanpics', 'asheville', 'stories', 'megalophobia', 'lego', 'Awww', 'hypotheticalsituation', 'europe', 'wholesomememes', 'rareinsults', 'CringeTikToks', 'aww', 'lotrmemes', 'MapPorn', 'popculturechat', 'technicallythetruth', 'Unexpected', 'AITAH', 'news', 'mathmemes', 'HomeMaintenance', 'nba', 'InfowarriorRides', 'FOXNEWS', 'Adulting', 'DataHoarder', '3Dprinting', 'Music', 'spaceporn', 'Presidents', 'selfhosted', 'RuckusWiFi', 'london', 'WildernessBackpacking', 'ProgrammerHumor', 'Proxmox', 'Upwork', 'WhitePeopleTwitter', 'SnapshotHistory', 'malelivingspace', 'paloaltonetworks', 'dataisbeautiful', 'suicidebywords', 'AllThatIsInteresting', 'netdata', 'EngagementRings', 'spiders', 'WatchPeopleDieInside', 'plants', 'mildlyinfuriating', 'h3h3productions', 'abusiverelationships', 'HistoricalCapsule', 'Advice', 'IndiaSpeaks', 'australia', 'sffpc', 'UkraineWarVideoReport', 'indiasocial', 'facepalm', 'pics', 'oddlysatisfying', 'Plumbing', 'servers', 'burgers', 'justgalsbeingchicks', 'NoStupidQuestions', 'worldnews', 'Satisfyingasfuck', 'StarWars', 'Juniper', 'AMA', 'oddlyspecific', 'theydidthemath', 'Embroidery', 'StockMarket', 'StupidFood', 'FuckImOld', 'wallstreetbets', 'NameMyCat', 'electronicmusic', 'Tinder', 'minnesota', 'minilab', 'OldSchoolCool', 'DecodingTheGurus', 'interesting', 'woahthatsinteresting', 'atheism', 'LPOTL', 'AnythingGoesNews', 'politics', 'TheNightFeeling', 'BrandNewSentence', 'MURICA', 'GraffitiTagging', 'funnysigns', 'Wellthatsucks', 'chessquiz', 'BeAmazed', 'Kanye', 'shittyfoodporn', 'MarkMyWords', 'assholedesign', 'awesome', 'mensfashion', 'thedailyzeitgeist', 'mapporncirclejerk', 'Eyebleach', 'cats', 'Conservative', 'WitchesVsPatriarchy', 'NewsOfTheStupid', 'interestingasfuck', 'CreditScore', 'pettyrevenge', 'CyberStuck', 'fuckHOA', 'explainlikeimfive', 'Bossfight', 'buildapc', 'NonPoliticalTwitter', 'VaporwaveArt', 'ShittyCarMod', 'SweatyPalms', 'goldenretrievers', 'NatureIsFuckingLit', 'pcmasterrace', 'homeowners', 'hazbin', 'OneOrangeBraincell', 'homelabsales', 'PoliticalHumor', 'sandiego', 'comedyheaven', 'wifi', 'UnbelievableStuff', 'HomeNetworking', 'questions', 'books', 'CuratedTumblr', 'AmIOverreacting', 'TikTokCringe', 'warriors', 'LinkedInLunatics', 'ukraine', 'Costco', 'OutOfTheLoop', 'jobs', 'sciencememes', 'Fauxmoi', 'clevercomebacks', 'JoeRogan', 'AdviceAnimals', 'REI', 'PFSENSE', 'MadeMeSmile', 'CasualUK', 'nottheonion', 'mildyinteresting', 'todayilearned', 'KendrickLamar', 'ufc', 'TravelNoPics', 'homelab', 'inthenews', 'tragedeigh', 'MMA', 'entertainment', 'BlackPeopleTwitter', 'InterestingToRead', 'maybemaybemaybe', 'nextfuckinglevel', 'Ubiquiti', 'audiophile', 'mac', 'meirl', 'Teachers', 'ChatGPT', 'funny', 'PublicFreakout', 'EverythingScience', 'dashcams', 'ContagiousLaughter', 'FunnyAnimals', 'Economics', 'HeliumMobile', 'movies', 'UFOs', 'starterpacks', 'madlads', 'shittytattoos'}\n"
     ]
    },
    {
     "name": "stderr",
     "output_type": "stream",
     "text": [
      "Scraping user comments:   1%|          | 267/29911 [57:31<110:41:01, 13.44s/it]"
     ]
    },
    {
     "name": "stdout",
     "output_type": "stream",
     "text": [
      "Comments saved to /Users/smutnuri/Documents/UVA/_Projects/Fall24/CBM/CBMRepo/Data/usercomments/50DuckSizedHorses_usercomments.json\n",
      "{'minimalism', 'AskOldPeople', 'writing', 'sandiego', 'NoStupidQuestions', 'factorio', 'books', 'AmIOverreacting', 'OutOfTheLoop', 'FridgeDetective', 'RandomThoughts', 'JoeRogan', 'AskMenAdvice', 'AskReddit', 'AskMenOver30', 'Names', 'suggestmeabook', 'Productivitycafe', 'Vent', 'UnusualArt', 'AskWomenOver30', 'ScenesFromAHat', 'Comebacks', 'AskMeAnythingIAnswer', 'words', 'SanDiegan', 'AdviceForTeens', 'TravelHacks', 'chess', 'science', 'Songwriting', 'mildlyinfuriating', 'Advice'}\n"
     ]
    },
    {
     "name": "stderr",
     "output_type": "stream",
     "text": [
      "Scraping user comments:   1%|          | 268/29911 [57:33<80:54:13,  9.83s/it] "
     ]
    },
    {
     "name": "stdout",
     "output_type": "stream",
     "text": [
      "Comments saved to /Users/smutnuri/Documents/UVA/_Projects/Fall24/CBM/CBMRepo/Data/usercomments/50ShadesOfDea_usercomments.json\n",
      "{'mildlyinteresting', 'mathematics', 'australian', 'Qult_Headquarters', 'CannedSardines', 'AskFoodHistorians', 'Millennials', 'tastyworks', 'MiniPCs', 'raspberry_pi', 'dogs', 'FluentInFinance', 'thetagang', 'AskReddit', 'forwardsfromgrandma', 'geography', 'BuyItForLife', 'Starlink', 'loseit', 'popping', 'AusEcon', 'antiMLM', 'tastytrade', 'AusFinance', 'shitrentals', 'AusHENRY', 'CommunalShowersAus', 'antiwork', 'Volumeeating', 'Centrelink', 'relationship_advice', 'KitchenConfidential', 'science', 'malegrooming', 'fiaustralia', 'NavyBlazer', 'malefashionadvice', 'nvidia', 'Futurology', 'Toowoomba', 'Rich', 'ShitAmericansSay', 'millenials', 'interactivebrokers', 'IKEA', 'amibeingdetained', 'Watches', 'queensland', 'europe', 'ikeahacks', 'CringeTikToks', 'AITAH', 'news', 'DataHoarder', 'keto', 'CarsAustralia', 'fitness30plus', 'AskAnAustralian', 'AusRenovation', 'preppy', 'WhitePeopleTwitter', 'coolguides', 'GoldCoast', 'BrisbaneFoodies', 'AustralianPolitics', 'mildlyinfuriating', 'australia', 'AustralianAccounting', 'oddlysatisfying', 'pics', 'StarWars', 'EatCheapAndHealthy', 'canada', 'NoStupidQuestions', 'Physics', 'worldnews', 'LeopardsAteMyFace', 'BoomersBeingFools', 'JordanPeterson', 'AMA', 'IDontWorkHereLady', 'RepTime', 'wallstreetbets', 'options', '1200Australia', 'Amd', 'GetMotivated', 'oldpeoplefacebook', 'AustralianTeachers', 'politics', 'hardware', 'PMTraders', 'BeAmazed', 'interestingasfuck', 'AskDocs', 'ValueInvesting', 'unitedkingdom', 'HomeNAS', 'homeowners', 'Sovereigncitizen', 'DesignPorn', 'Horology', 'PoliticalHumor', 'Scams', 'SpecOpsArchive', 'rfelectronics', 'Swimming', 'brisbane', 'books', 'samsung', 'OutOfTheLoop', 'AFL', 'clevercomebacks', 'tennis', 'math', 'AustralianTV', 'nottheonion', 'AskHistorians', 'woodworking', 'FuturesTrading', 'Queensland_Politics', 'bach', 'diabetes', 'homelab', 'tragedeigh', 'nextfuckinglevel', 'ketoaustralia', 'AustralianCulture', 'Teachers', 'BookCollecting', 'cults', 'AustralianMFA', 'algotrading', 'FunnyAnimals', 'GardeningAustralia', 'whatsthisplant', 'religiousfruitcake', 'solotravel'}\n"
     ]
    },
    {
     "name": "stderr",
     "output_type": "stream",
     "text": [
      "Scraping user comments:   1%|          | 269/29911 [57:55<110:48:32, 13.46s/it]"
     ]
    },
    {
     "name": "stdout",
     "output_type": "stream",
     "text": [
      "Comments saved to /Users/smutnuri/Documents/UVA/_Projects/Fall24/CBM/CBMRepo/Data/usercomments/512165381_usercomments.json\n",
      "{'ask', 'TwoHotTakes', 'redditonwiki', 'MusicRecommendations', 'jellybeansweetssnark', 'TheColdPodcast', 'canceledpod', 'AskReddit', 'SisterWives', 'FundieSnarkUncensored', 'HellsKitchen', '2007scape', 'antiMLM', 'MakeupAddiction', 'exmormon', 'SisterWivesFans', 'terriblefacebookmemes', 'antiwork', 'AshlynVanhornSnark', 'MakeupRehab', 'relationship_advice', 'GypsyRoseBlanchard', 'texts', 'JonBenetRamsey', 'Nicegirls', 'bettasorority', 'insaneparents', 'namenerds', 'TrueCrimeDiscussion', 'PanPorn', 'TrueUnpopularOpinion', 'AITAH', 'suggestmeabook', 'peopleofwalmart', 'gymsnark', 'WhitePeopleTwitter', 'EngagementRings', 'tacobell', 'UnresolvedMysteries', 'mildlyinfuriating', 'pitbulls', 'serialkillers', 'WithoutATrace', 'facepalm', 'longisland', 'NoStupidQuestions', 'RodriguesFamilySnark', 'ImTheMainCharacter', 'AMA', 'DListedCommunity', 'JackSucksAtGeography', 'runescape', 'oldpeoplefacebook', 'TLCsisterwives', 'povertykitchen', 'tiktokgossip', 'BeautyGuruChatter', 'yesyesyesno', 'Columbine', 'AshlynVanCantKeepaMan', 'AdviceForTeens', 'SnarkJanaKramer', 'ShannanWatts', 'candy', 'tattooadvice', 'MileHigherPodcast', 'books', 'DelphiMurders', 'AmIOverreacting', 'TravelMaps', 'kittens', 'SeveranceAppleTVPlus', 'NameMyDog', 'HHN', 'TeenMomOGandTeenMom2', 'LoriVallow', 'MadeMeSmile', 'ChoosingBeggars', 'todayilearned', 'pokemongo', 'DiscoveryID', 'amiwrong', 'mauramurray', 'tragedeigh', 'BabyReindeerTVSeries', '911archive', 'entertainment', 'FuckYouKaren', 'LifeProTips', 'LibbyApp', 'meirl', 'TrueCrime', 'jaclynhillsnark', 'XVcrosstrek'}\n"
     ]
    },
    {
     "name": "stderr",
     "output_type": "stream",
     "text": [
      "Scraping user comments:   1%|          | 270/29911 [58:10<116:31:47, 14.15s/it]"
     ]
    },
    {
     "name": "stdout",
     "output_type": "stream",
     "text": [
      "Comments saved to /Users/smutnuri/Documents/UVA/_Projects/Fall24/CBM/CBMRepo/Data/usercomments/518kl_usercomments.json\n",
      "{'television', 'Tenerife', 'writing', 'RemarkableTablet', 'mildlyinteresting', 'opensource', 'videos', 'technology', 'WouldYouRather', 'recruitinghell', 'masterhacker', 'techsupport', 'riotgames', 'AskReddit', 'GoingToSpain', 'computers', 'MurderedByWords', 'PiratedGames', 'C_Programming', 'itrunsdoom', 'Anticonsumption', 'hackintosh', 'Breath_of_the_Wild', 'ethtrader', 'antiwork', 'catalonia', 'rpghorrorstories', 'linuxquestions', 'netsecstudents', 'SteamDeck', 'DIY', 'sysadmin', 'AmItheAsshole', 'PeterExplainsTheJoke', 'linux4noobs', 'TalesFromTheFrontDesk', 'Futurology', 'dating_advice', 'Diamonds', 'malelifestyle', 'rome', 'europe', 'PERSoNA', 'legaladvice', 'cosmosnetwork', 'Banking', 'vce', 'FIREUK', 'AITAH', 'tappedout', 'news', 'Adulting', 'DMAcademy', 'ibiza', 'gamedev', 'harrypotter', 'Music', 'microsoft', 'selfhosted', 'Gamecube', 'computer', 'chrome', 'EmulationOnAndroid', 'AskFeminists', 'ProgrammerHumor', 'askspain', 'hamsters', 'bestoflegaladvice', 'CryptoMarkets', 'dataisbeautiful', 'MovieDetails', 'slowcooking', 'AllThatIsInteresting', 'mildlyinfuriating', 'gamingnews', 'linux_gaming', 'pics', 'emulation', 'resumes', 'gaming', 'factorio', 'worldnews', 'LegalAdviceUK', 'malehairadvice', 'rust', 'FindMeALinuxDistro', 'eurovision', 'gamernews', 'Doom', 'OldSchoolCool', 'Palworld', 'zelda', 'politics', 'autism', 'webscraping', 'assholedesign', 'pentest', 'dndnext', 'explainlikeimfive', 'Barcelona', 'windows', 'cybersecurity', 'unitedkingdom', 'l4d2', 'DecidingToBeBetter', 'cscareerquestionsEU', 'pcmasterrace', 'Bitcoin', 'managers', 'GuyCry', 'casualnintendo', 'books', 'AmIOverreacting', 'Entrepreneur', 'AskBarcelona', 'tifu', 'LinkedInLunatics', 'GetNoted', 'linux', 'OutOfTheLoop', 'jobs', 'wiiu', 'clevercomebacks', 'stupidquestions', 'solana', 'careerguidance', 'ItTakesTwo', 'DadForAMinute', 'cscareerquestions', 'Piracy', 'nottheonion', 'LaTeX', 'todayilearned', 'BlueskySocial', 'RayBanStories', 'tragedeigh', 'JusticeServed', 'nintendo', 'debian', 'TopCharacterTropes', 'worldbuilding', 'SubredditDrama', 'movies', 'GenZ', 'LocalLLaMA'}\n"
     ]
    },
    {
     "name": "stderr",
     "output_type": "stream",
     "text": [
      "Scraping user comments:   1%|          | 271/29911 [58:32<135:30:31, 16.46s/it]"
     ]
    },
    {
     "name": "stdout",
     "output_type": "stream",
     "text": [
      "Comments saved to /Users/smutnuri/Documents/UVA/_Projects/Fall24/CBM/CBMRepo/Data/usercomments/520throwaway_usercomments.json\n",
      "{'television', 'iamverybadass', 'liberalgunowners', 'whatsthisbug', 'Military', 'LatinoPeopleTwitter', 'circlejerk', 'mildlyinteresting', 'Showerthoughts', 'technology', 'Documentaries', 'sports', 'NonCredibleDefense', 'Millennials', 'apple', 'blursedimages', 'Instagramreality', 'HumansBeingBros', 'virginvschad', 'TIHI', 'pokemon', 'detrans', 'FragileWhiteRedditor', 'AskReddit', 'Cooking', 'Games', 'punk', 'AnimalCrossing', 'gifs', 'MurderedByWords', 'askscience', 'labrats', 'u_Schwab_Official', 'Breath_of_the_Wild', 'CatastrophicFailure', 'furry_irl', 'Sharktits', 'RoastMe', 'comics', 'antiwork', 'bestof', 'The_Mueller', 'chairsunderwater', 'tf2', 'Tucson', '4chan', 'unpopularopinion', 'science', 'ForwardsFromKlandma', 'battlestations', 'AmItheAsshole', 'HumansAreMetal', 'tooktoomuch', 'PeopleFuckingDying', 'SpecialAccess', 'memes', 'announcements', 'Damnthatsinteresting', 'Futurology', 'yiff', 'AskMen', 'fosscad', 'RadioulnarSynostosis', 'the_meltdown', 'instantkarma', 'guns', 'aww', 'Jokes', 'news', 'nba', 'TwoXChromosomes', 'Hawaii', 'teenagersnew', 'Music', 'SpaceForce', 'vegan', 'navy', 'PresidentialRaceMemes', 'WhitePeopleTwitter', 'dataisbeautiful', 'RetroFuturism', 'WritingPrompts', 'WatchPeopleDieInside', 'MakeMeSuffer', 'povertyfinance', 'pics', 'undelete', 'cursedcomments', 'saltierthancrait', 'EarthPorn', 'gaming', 'gundeals', 'worldnews', 'combinedgifs', 'greentext', 'ImaginaryTechnology', 'WinStupidPrizes', 'JustBootThings', 'wallstreetbets', 'gadgets', 'menwritingwomen', 'space', 'OldSchoolCool', 'youseeingthisshit', 'zelda', 'atheism', 'politics', 'shittyfoodporn', 'perfectlycutscreams', 'Trumpgret', 'halo', 'AccidentalRenaissance', 'masseffect', 'CombatFootage', 'Conservative', 'history', 'WitchesVsPatriarchy', 'interestingasfuck', 'u_alyedel', 'socialism', 'explainlikeimfive', 'CrazyFuckingVideos', 'TooAfraidToAsk', 'Futurism', 'NFA', 'COVID19positive', 'RedLetterMedia', 'trashy', 'PoliticalHumor', 'comedyheaven', 'WholesomeYiff', 'CuratedTumblr', 'collapse', 'books', 'newtothenavy', 'tifu', 'gay_irl', 'OutOfTheLoop', 'CougarsAndCubs', 'blessedimages', 'nottheonion', 'TheeHive', 'todayilearned', 'ChoosingBeggars', 'islam', 'badwomensanatomy', 'pokemongo', 'Art', 'FemaleDatingStrategy', 'LifeProTips', 'entertainment', 'BlackPeopleTwitter', 'JusticeServed', 'IdiotsInCars', 'teenagers', 'therewasanattempt', 'nextfuckinglevel', 'GunAccessoriesForSale', 'IAmA', 'PublicFreakout', 'dashcamgifs', 'FunnyandSad', 'funny', 'SubredditDrama', 'movies', 'starterpacks', 'gatekeeping'}\n"
     ]
    },
    {
     "name": "stderr",
     "output_type": "stream",
     "text": [
      "Scraping user comments:   1%|          | 272/29911 [58:49<136:49:43, 16.62s/it]"
     ]
    },
    {
     "name": "stdout",
     "output_type": "stream",
     "text": [
      "Comments saved to /Users/smutnuri/Documents/UVA/_Projects/Fall24/CBM/CBMRepo/Data/usercomments/52Hurtz_usercomments.json\n",
      "{'EhBuddyHoser', 'facepalm', 'pics', 'makemychoice', 'newbrunswickcanada', 'canada', 'Design', 'NewBrunswick', 'Makeup', 'worldnews', 'Damnthatsinteresting', 'books', 'johnoliver', 'TikTokCringe', 'NotTimAndEric', 'ThatsInsane', 'Fauxmoi', 'LiveFromNewYork', 'beauty', 'wayfair', 'UnexplainedPhotos', 'AskReddit', 'crappymusic', 'OldSchoolCool', 'PetiteFashionAdvice', 'CringeTikToks', 'MadeMeSmile', 'alberta', 'popculturechat', 'halifax', 'interiordecorating', 'suggestmeabook', 'NiceVancouver', 'MurderedByWords', 'BeAmazed', 'AskACanadian', 'TwoXChromosomes', 'GrandePrairie', 'howto', 'DesignMyRoom', 'inthenews', 'homeimprovementideas', 'Home', 'MakeupAddiction', 'NovaScotia', 'SaintJohnNB', 'fredericton', 'Canada_sub', 'UFOB', 'therewasanattempt', 'nextfuckinglevel', 'ScienceUncensored', 'interestingasfuck', 'loblawsisoutofcontrol', 'LawAndOrderTorontoCI', 'eggs', 'pearljam', 'yorku', 'funny', 'EverythingScience', 'homedesign', 'HomeDecorating', 'TimHortons', 'science', 'DIY', '30PlusSkinCare', 'mildlyinfuriating', 'weather', 'HistoricalCapsule'}\n"
     ]
    },
    {
     "name": "stderr",
     "output_type": "stream",
     "text": [
      "Scraping user comments:   1%|          | 273/29911 [58:54<108:52:48, 13.23s/it]"
     ]
    },
    {
     "name": "stdout",
     "output_type": "stream",
     "text": [
      "Comments saved to /Users/smutnuri/Documents/UVA/_Projects/Fall24/CBM/CBMRepo/Data/usercomments/5432salon_usercomments.json\n",
      "{'cyberpunk2077mods', 'StonerEngineering', 'TwoHotTakes', 'Shadowrun', 'duluth', 'normalnudes', 'tomboysNSFW', 'GeForceNOW', 'aloyoga', 'books', 'Wifebutt', 'MUD', 'AmIOverreacting', 'scifi', 'LegalTeens', 'AshleyAlban', 'u_Goldencurls3', 'hackers', 'Hacking_Tutorials', 'blackchickswhitedicks', 'celebrities', 'midsizewomen', 'ImaginaryCyberpunk', 'julesverne', 'Lubbock', 'u_sunnykitsunexo', 'Cyberpunk', 'longrange', 'Ninja', 'weed', 'ChurchWife', 'Celebs', 'nativeamericanbabes', 'Art', 'ImaginaryCybernetics', 'Cuckold', 'LowSodiumCyberpunk', 'ClothedForPrejacs', 'cocainehornyxxx', 'tipofmypenis', 'hacking', 'abelladanger', 'Naturalhair', 'MuscleWorship', 'trees', 'vuoriclothing', 'Boxer', 'skateboarding', 'Stoner', 'bois', 'u_Puzzled_MJ', 'GOONED', 'crossfit', 'GoneMildOver30', 'CelebrityButts', 'doorkickers', 'cyberDeck'}\n"
     ]
    },
    {
     "name": "stderr",
     "output_type": "stream",
     "text": [
      "Scraping user comments:   1%|          | 274/29911 [59:02<94:04:44, 11.43s/it] "
     ]
    },
    {
     "name": "stdout",
     "output_type": "stream",
     "text": [
      "Comments saved to /Users/smutnuri/Documents/UVA/_Projects/Fall24/CBM/CBMRepo/Data/usercomments/545R_usercomments.json\n",
      "{'Foofighters', 'facepalm', 'JaackMaate', 'TheStoryGraph', 'books', 'AskReddit', 'vinyl', 'AnnieClark'}\n"
     ]
    },
    {
     "name": "stderr",
     "output_type": "stream",
     "text": [
      "Scraping user comments:   1%|          | 275/29911 [59:02<67:43:54,  8.23s/it]"
     ]
    },
    {
     "name": "stdout",
     "output_type": "stream",
     "text": [
      "Comments saved to /Users/smutnuri/Documents/UVA/_Projects/Fall24/CBM/CBMRepo/Data/usercomments/54GD_usercomments.json\n",
      "{'employedbykohls', 'thesims', 'SmotheredTLC', 'Xennials', 'Millennials', 'kindle', 'TheLastAirbender', 'whatsthatbook', 'notliketheothergirls', 'AskReddit', 'OnionLovers', 'olympics', 'whatismycookiecutter', 'nataliagrace', 'notinteresting', 'daria', 'BobsBurgers', 'UnethicalLifeProTips', 'AskTeachers', 'teaching', 'crochet', 'BLACKLITSOCIETY', 'WelcomeToPlathville', 'beadsprites', 'KitchenConfidential', 'malegrooming', 'HandwritingAnalysis', 'CleaningTips', 'HelpMeFind', 'PlathvilleUncensored', 'aww', 'TheStoryGraph', 'Jigsawpuzzles', 'bathandbodyworks', 'aldi', 'My600lbLife', 'Pescatarian', 'LushCosmetics', 'mildlyinfuriating', 'TheBoys', 'BlackReaders', 'IAmTheMainCharacter', 'malehairadvice', 'ImTheMainCharacter', 'RandomQuestion', 'wendys', 'inmatetoroommate', 'KingOfTheHill', 'nostalgia', 'CableTV_Memories', '60daysin', 'Seafood', '90DayFiance', 'Mustard', 'candy', 'blunderyears', 'ForbiddenLove', 'TwilightZone', 'questions', 'books', 'TeachersInTransition', 'TikTokCringe', 'tea', 'TLCUnexpected', 'Costco', 'CozyPlaces', 'jobs', 'SeveranceAppleTVPlus', 'stupidquestions', 'beards', 'Doppleganger', 'MadeMeSmile', 'TheSimpsons', 'rarepuppers', 'gardening', 'bald', '1000lbsisters', 'loveafterlockup', 'Naturalhair', 'Teachers', 'meirl', 'RedditForGrownups'}\n"
     ]
    },
    {
     "name": "stderr",
     "output_type": "stream",
     "text": [
      "Scraping user comments:   1%|          | 276/29911 [59:20<90:55:15, 11.04s/it]"
     ]
    },
    {
     "name": "stdout",
     "output_type": "stream",
     "text": [
      "Comments saved to /Users/smutnuri/Documents/UVA/_Projects/Fall24/CBM/CBMRepo/Data/usercomments/5Nadine2_usercomments.json\n",
      "{'SipsTea', 'starwarsmemes', 'mildlyinteresting', 'videos', 'Showerthoughts', 'technology', 'law', 'Xennials', 'Angryupvote', 'me_irl', 'AskReddit', 'gifs', 'MurderedByWords', 'notinteresting', 'the_everything_bubble', 'aivideo', 'SelfAwarewolves', '2meirl4meirl', 'science', 'FUCKYOUINPARTICULAR', 'DIY', 'scotus', 'UpliftingNews', 'PeterExplainsTheJoke', 'lostgeneration', 'startrekmemes', 'memes', 'creepy', 'Damnthatsinteresting', 'Futurology', 'philosophy', 'ThatsInsane', 'bizarrelife', 'europe', 'craftofintelligence', 'Jokes', 'texas', 'news', 'Music', 'Techno', 'comfyui', 'Ohio', 'WhitePeopleTwitter', 'dataisbeautiful', 'AllThatIsInteresting', 'mildlyinfuriating', 'pitbulls', 'facepalm', 'pics', 'oddlysatisfying', 'justgalsbeingchicks', 'photoshopbattles', 'LeopardsAteMyFace', 'AMA', 'oddlyspecific', 'WinStupidPrizes', 'fixedbytheduet', 'space', 'union', 'OldSchoolCool', 'GetMotivated', 'woahthatsinteresting', 'AnythingGoesNews', 'politics', 'Wellthatsucks', 'BeAmazed', 'awesome', 'mapporncirclejerk', 'MuayThai', 'WorkReform', 'interestingasfuck', 'explainlikeimfive', 'CrazyFuckingVideos', 'PoliticalHumor', 'comedyheaven', 'Construction', 'UnbelievableStuff', 'books', 'TheWayWeWere', 'tifu', 'clevercomebacks', 'AdviceAnimals', 'MadeMeSmile', 'nottheonion', 'mildyinteresting', 'todayilearned', 'shitposting', 'HolUp', 'inthenews', 'conservatives', 'LifeProTips', 'BlackPeopleTwitter', 'InterestingToRead', 'therewasanattempt', 'nextfuckinglevel', 'fuckcars', 'IAmA', 'PublicFreakout', 'meirl', 'ChatGPT', 'funny', 'ContagiousLaughter', 'movies', 'madlads'}\n"
     ]
    },
    {
     "name": "stderr",
     "output_type": "stream",
     "text": [
      "Scraping user comments:   1%|          | 277/29911 [59:42<117:54:29, 14.32s/it]"
     ]
    },
    {
     "name": "stdout",
     "output_type": "stream",
     "text": [
      "Comments saved to /Users/smutnuri/Documents/UVA/_Projects/Fall24/CBM/CBMRepo/Data/usercomments/5minArgument_usercomments.json\n",
      "{'ask', 'MapsWithoutNZ', 'Avatarthelastairbende', 'TwoHotTakes', 'SipsTea', 'linguisticshumor', 'sadposting', 'mildlyinteresting', 'imaginarygatekeeping', 'landscaping', 'Funnymemes', 'thanksimcured', 'avengedsevenfold', 'gameofthrones', 'AccidentalComedy', 'NoFuckingComment', 'geography', 'ADHDmemes', 'Holdmywallet', 'AskReddit', 'OcarinaOfTime', 'Smilepleasse', 'MathJokes', 'DisneyMemes', 'Fable', 'lordoftherings', 'blackmagicfuckery', 'gamingmemes', 'askscience', 'Armor', 'notinteresting', 'CivPolitics', 'eyehurtingflags', 'oblivion', 'boysarequirky', 'anglosaxon', 'byzantium', 'USGovernment', 'science', 'DIY', 'FuckPierre', 'Whatcouldgowrong', 'Nicegirls', 'ExplainTheJoke', 'MemeVideos', 'KidsAreFuckingStupid', 'answers', 'Dank', 'PeterExplainsTheJoke', 'TheRandomest', 'PhantomBorders', 'dwarffortress', 'Manipulation', 'sciencefiction', 'memes', 'Damnthatsinteresting', 'okbuddycinephile', 'TattooDesigns', 'quiz', 'Mirrorsforsale', 'OhNoConsequences', 'Why', 'PunPatrol', 'whatisthisbug', '2american4you', 'RareHistoricalPhotos', 'Rings_Of_Power', 'BG3', 'Tourettes', 'medieval', 'PhoenixSC', 'ENGLISH', 'CringeTikToks', 'lotrmemes', 'MapPorn', 'technicallythetruth', 'Jokes', 'Unexpected', 'news', 'suggestmeabook', 'whatisthismushroom', 'Presidents', 'comedyhomicide', 'GeeksGamersCommunity', 'dataisbeautiful', 'mildlyinfuriating', 'lotr', 'ERB', 'starcraft2', 'Satisfyingasfuck', 'pics', 'facepalm', 'gaming', 'NoStupidQuestions', 'worldnews', 'cartoons', 'IAmTheMainCharacter', 'BoomersBeingFools', 'ImTheMainCharacter', 'oddlyspecific', 'theydidthemath', 'StupidFood', 'starcraft', 'tolkienfans', 'LookatMyHalo', 'ShouldIbuythisgame', 'geographymemes', 'HaloStory', 'whatisthisplant', 'idiocracy', 'OldSchoolCool', 'BaldursGate3', 'PORTUGALCYKABLYAT', 'EnglishLearning', 'Silmarillionmemes', 'Wellthatsucks', 'funnysigns', 'BrandNewSentence', 'RingsofPower', 'BeAmazed', 'perfectlycutscreams', 'AccidentalRenaissance', 'halo', 'mapporncirclejerk', 'masseffect', 'Eyebleach', 'cats', 'StrangeAndFunny', 'interestingasfuck', 'Fallout', 'insects', 'explainlikeimfive', 'Ancient_History_Memes', 'misc', 'okbuddybaldur', 'NormMacdonald', 'confusingperspective', 'vexillology', 'comedyheaven', 'ancientrome', 'imaginarymapscj', 'urbanhellcirclejerk', 'kotor', 'ScrapMetal', 'questions', 'books', 'foraging', 'AmIOverreacting', 'decadeology', 'flags', 'TikTokCringe', 'Illustration', 'okbuddychicanery', 'languagelearningjerk', 'jobs', 'freefolk', 'Stargate', 'MadeMeSmile', 'flatearth', 'nottheonion', 'ChristianMusic', 'vexillologycirclejerk', 'todayilearned', 'instant_regret', 'thalassophobia', 'Pets', 'SkyrimMemes', 'tragedeigh', 'adhdmeme', 'LOTR_on_Prime', 'PropagandaPosters', 'maybemaybemaybe', 'funnyvideos', 'nextfuckinglevel', 'onejoke', 'iskissingerdeadyet', 'ShittyMapPorn', 'StardewValley', 'biology', 'worldbuilding', 'PublicFreakout', 'explainitpeter', 'meirl', 'funny', 'AlienBodies', 'whatsthisplant', 'GenZ', 'videogames', 'musicmemes'}\n"
     ]
    },
    {
     "name": "stderr",
     "output_type": "stream",
     "text": [
      "Scraping user comments:   1%|          | 278/29911 [1:00:10<152:18:00, 18.50s/it]"
     ]
    },
    {
     "name": "stdout",
     "output_type": "stream",
     "text": [
      "Comments saved to /Users/smutnuri/Documents/UVA/_Projects/Fall24/CBM/CBMRepo/Data/usercomments/5peaker4theDead_usercomments.json\n",
      "{'povertyfinance', 'pics', 'Michigan', 'EatCheapAndHealthy', 'explainabookplotbadly', 'worldnews', 'Scams', 'cricut', 'TwoXPreppers', 'TalesFromTheFrontDesk', 'Roadkillshow', 'RVLiving', 'motorhomes', 'books', 'GoRVing', 'brandonsanderson', 'Mistborn', 'breakingmom', 'IKEA', 'law', 'calvinandhobbes', 'Costco', 'TheChurchOfRogers', 'Frugal', 'OutOfTheLoop', '52book', 'SAHP', 'ABraThatFits', 'Canning', 'AdviceAnimals', 'dresdenfiles', 'legaladvice', 'AskReddit', 'Cooking', 'PressureCooking', 'toddlers', 'cremposting', 'Breadit', 'phineasandferb', 'aww', 'nottheonion', 'HealthyFood', 'AnimalCrossing', 'MealPrepSunday', 'todayilearned', 'breakingspines', 'Old_Recipes', 'homestead', 'legaladviceofftopic', 'BreakingEggs', 'aldi', 'LearnToRV', 'gardening', 'PeriodUnderwear', 'BroMoHousekeeping', 'pharmacy', 'antiwork', 'bestof', 'Homesteading', 'Stormlight_Archive', 'bestoflegaladvice', 'instantpot', 'Justrolledintotheshop', 'crafts', 'dataisbeautiful', 'Preschoolers', 'menstrualcups', 'PharmacyTechnician', 'Baking', 'OSHA', 'Sourdough', 'Parenting', 'JustNoTruth', 'Fantasy'}\n"
     ]
    },
    {
     "name": "stderr",
     "output_type": "stream",
     "text": [
      "Scraping user comments:   1%|          | 279/29911 [1:00:27<148:06:13, 17.99s/it]"
     ]
    },
    {
     "name": "stdout",
     "output_type": "stream",
     "text": [
      "Comments saved to /Users/smutnuri/Documents/UVA/_Projects/Fall24/CBM/CBMRepo/Data/usercomments/5six7eight_usercomments.json\n",
      "{'povertyfinance', 'TwoHotTakes', 'redditonwiki', 'ABoringDystopia', 'Outlander', 'blunderyears', 'sitcoms', 'books', 'AmIOverreacting', '1200isplenty', 'Xennials', 'MomForAMinute', 'Millennials', 'CozyPlaces', 'OutOfTheLoop', 'stories', 'Gifts', 'namenerds', '1500isplenty', 'taylorpauldrama', 'podcasts', 'GilmoreGirls', 'DeepRockGalactic', 'NewGirl', 'AITAH', 'politics', 'centuryhomes', 'nonfictionbooks', 'news', 'badwomensanatomy', 'AskAnAmerican', 'MurderedByWords', 'Acadiana', 'ChoosingBeggars', 'workingmoms', 'amiwrong', 'bathandbodyworks', 'insanepeoplefacebook', 'sewing', 'ArtefactPorn', 'MovieSuggestions', 'exmormon', 'creepyencounters', 'SaltLakeCity', 'therewasanattempt', 'antiwork', 'seinfeld', 'Libraries', 'camping', 'blogsnark', 'kindergarten', 'relationship_advice', 'myog', 'AskWomenOver40', 'madmen', 'starbucks', 'Coronavirus', 'librarians', 'Phasmaphobia', 'AmItheAsshole'}\n"
     ]
    },
    {
     "name": "stderr",
     "output_type": "stream",
     "text": [
      "Scraping user comments:   1%|          | 280/29911 [1:00:46<151:09:20, 18.36s/it]"
     ]
    },
    {
     "name": "stdout",
     "output_type": "stream",
     "text": [
      "Comments saved to /Users/smutnuri/Documents/UVA/_Projects/Fall24/CBM/CBMRepo/Data/usercomments/5starsomebody_usercomments.json\n"
     ]
    },
    {
     "name": "stderr",
     "output_type": "stream",
     "text": [
      "Scraping user comments:   1%|          | 281/29911 [1:00:47<106:43:34, 12.97s/it]"
     ]
    },
    {
     "name": "stdout",
     "output_type": "stream",
     "text": [
      "{'books', 'booksuggestions'}\n",
      "Comments saved to /Users/smutnuri/Documents/UVA/_Projects/Fall24/CBM/CBMRepo/Data/usercomments/5t0rmbl3ss3d_usercomments.json\n",
      "{'SipsTea', 'TwoHotTakes', 'technology', 'self', 'Frugal', 'pokemon', 'skyrim', 'askscience', 'conspiracy', 'aivideo', 'UnethicalLifeProTips', 'whowouldwin', 'nutrition', 'Dragonballsuper', 'MemeVideos', 'comicbooks', 'rape', 'shittymoviedetails', 'PeterExplainsTheJoke', 'memes', 'spreadsmile', 'singing', 'Damnthatsinteresting', 'okbuddycinephile', 'OnePunchMan', 'instantkarma', 'texas', 'Unexpected', 'news', 'suggestmeabook', 'antimeme', 'Albuquerque', 'WhitePeopleTwitter', 'suicidebywords', 'spongebob', 'AskPhysics', 'pics', 'gaming', 'NoStupidQuestions', 'worldnews', 'DnD', 'wallstreetbets', 'BestofRedditorUpdates', 'emmadsc4', 'space', 'tattoos', 'atheism', 'blackpeoplegifs', 'BeAmazed', 'FirstTimeHomeBuyer', 'hypersexuality', 'Iowa', 'CombatFootage', 'NewsOfTheStupid', 'interestingasfuck', 'NonPoliticalTwitter', '30PlusSkinCare', 'NewMexico', 'itookapicture', 'comedyheaven', 'CuratedTumblr', 'UnbelievableStuff', 'books', 'TradingView', 'MMA_Academy', 'beards', 'AdviceAnimals', 'AskMenAdvice', 'MadeMeSmile', 'nottheonion', 'KendrickLamar', 'instant_regret', 'dropout', 'Animesuggest', 'ufc', 'MMA', 'InterestingToRead', 'Feminism', 'TopCharacterTropes', 'boardgames', 'ChatGPT', 'ContagiousLaughter', 'learntodraw'}\n"
     ]
    },
    {
     "name": "stderr",
     "output_type": "stream",
     "text": [
      "Scraping user comments:   1%|          | 282/29911 [1:00:50<81:53:24,  9.95s/it] "
     ]
    },
    {
     "name": "stdout",
     "output_type": "stream",
     "text": [
      "Comments saved to /Users/smutnuri/Documents/UVA/_Projects/Fall24/CBM/CBMRepo/Data/usercomments/5thlvlshenanigans_usercomments.json\n",
      "{'television', 'yuzu', 'mildlyinteresting', 'videos', 'technology', 'blursedimages', 'gameofthrones', 'Aquariums', 'pokemon', 'AskReddit', 'Cooking', 'Games', 'travel', 'DesignDesign', 'SpyxFamily', 'ChainsawMan', 'pokemongochile', 'KaijuNo8', 'AskCulinary', 'TVLeaksAndRumors', 'pokemongotrades', 'printmaking', 'science', 'DIY', 'PokeLeaks', 'TheSilphRoad', 'Damnthatsinteresting', 'Futurology', 'Canning', 'succulents', 'PS5', 'aww', 'AppNana', 'news', 'rickandmorty', 'dataisbeautiful', 'h3h3productions', 'pics', 'cursedcomments', 'EatCheapAndHealthy', 'gaming', 'worldnews', 'veganrecipes', 'tsukiodysseygame', 'FallGuysGame', 'VeganBaking', 'gadgets', 'gamernews', 'LegoMasters', 'PokemonShuffle', 'cats', 'PS4', 'interestingasfuck', 'UrbanHell', 'explainlikeimfive', 'composting', 'Pikmin', 'books', 'mkxmobile', 'Needlefelting', 'PokemonGOARG', 'RawMeat', 'MortalKombat', 'KimetsuNoYaiba', 'nottheonion', 'todayilearned', 'pokemongo', 'pureasoiaf', 'TokyoRevengers', 'PokemonGoPeru', 'food', 'boardgames', 'ChatGPT', 'funny', 'EverythingScience', 'Baking', 'movies', 'asoiaf'}\n"
     ]
    },
    {
     "name": "stderr",
     "output_type": "stream",
     "text": [
      "Scraping user comments:   1%|          | 283/29911 [1:01:05<96:03:33, 11.67s/it]"
     ]
    },
    {
     "name": "stdout",
     "output_type": "stream",
     "text": [
      "Comments saved to /Users/smutnuri/Documents/UVA/_Projects/Fall24/CBM/CBMRepo/Data/usercomments/60N20_usercomments.json\n",
      "{'audiobooks', 'ask', 'facepalm', 'nederlands', 'YouOnLifetime', 'BoJackHorseman', 'NoStupidQuestions', 'thenetherlands', 'mildlyinteresting', 'Damnthatsinteresting', 'books', 'bikepacking', 'learndutch', 'Arnhem', 'fashion', 'Nederland', 'AlbertHeijn', 'TheLastAirbender', 'RandomThoughts', 'juridischadvies', 'whatsthatbook', 'Wednesday', 'BooksThatFeelLikeThis', 'ginnyandgeorgiashow', 'dutch', 'migraine', 'nietdespeld', 'AskReddit', 'cfs', 'NetherlandsHousing', 'Minecraftbuilds', 'MadeMeSmile', 'Netherlands', 'mildyinteresting', 'Wellthatsucks', 'AITAH', 'Unexpected', 'werkzaken', 'selfpublish', 'AskBalkans', 'TheWalkingDeadGame', 'appiememes', 'EntitledPeople', 'teenagers', 'StudyInTheNetherlands', 'VeganNL', 'HouseOfTheDragon', 'writingadvice', 'BookCollecting', 'solaropposites', 'LegalAdviceEurope', 'PCOS', 'OndersteuningsPlein', 'spiders', 'AmItheAsshole', 'mildlyinfuriating', 'ARFID', 'tokkiemarktplaats'}\n"
     ]
    },
    {
     "name": "stderr",
     "output_type": "stream",
     "text": [
      "Scraping user comments:   1%|          | 284/29911 [1:01:17<97:15:16, 11.82s/it]"
     ]
    },
    {
     "name": "stdout",
     "output_type": "stream",
     "text": [
      "Comments saved to /Users/smutnuri/Documents/UVA/_Projects/Fall24/CBM/CBMRepo/Data/usercomments/6103836679200567892_usercomments.json\n",
      "{'holofractal', 'videos', 'mildlyinteresting', 'DSP', 'Showerthoughts', 'technology', 'oddlyterrifying', 'FL_Studio', 'AskReddit', 'badroommates', 'WTF', 'gifs', 'JustUnsubbed', 'u_MythosAI', 'exvegans', 'doordash_drivers', 'OpenAI', 'unpopularopinion', 'science', 'PetPeeves', 'AmItheAsshole', 'Superstonk', 'tooktoomuch', 'PeterExplainsTheJoke', 'ElectricalEngineering', 'Damnthatsinteresting', 'Futurology', 'HighStrangeness', 'DefendingAIArt', 'MildlyBadDrivers', 'edmproduction', 'AITAH', 'Unexpected', 'news', 'Paranormal', 'audioengineering', 'vegan', 'DebateAVegan', 'Money', 'artificial', 'learnmachinelearning', 'AllThatIsInteresting', 'agi', 'woahdude', 'pics', 'factorio', 'worldnews', 'GradSchool', 'MicrosoftTeams', 'theydidthemath', 'aiwars', 'Wellthatsucks', 'Tetris99', 'askmath', 'maths', 'interestingasfuck', 'explainlikeimfive', 'windows', 'musicproduction', 'OptimizedGaming', 'Buttcoin', 'tipofmytongue', 'baduk', 'AirlinerAbduction2014', 'COPYRIGHT', 'books', 'learnmath', 'TikTokCringe', 'milwaukee', 'SunoAI', 'tifu', 'IsraelPalestine', 'AdviceAnimals', 'math', 'ableton', 'AmITheJerk', 'todayilearned', 'MachineLearning', 'AskProgramming', 'singularity', 'therewasanattempt', 'nextfuckinglevel', 'PublicFreakout', 'ChatGPT', 'funny', 'AlienBodies', 'UFOs'}\n"
     ]
    },
    {
     "name": "stderr",
     "output_type": "stream",
     "text": [
      "Scraping user comments:   1%|          | 285/29911 [1:01:39<122:18:39, 14.86s/it]"
     ]
    },
    {
     "name": "stdout",
     "output_type": "stream",
     "text": [
      "Comments saved to /Users/smutnuri/Documents/UVA/_Projects/Fall24/CBM/CBMRepo/Data/usercomments/618smartguy_usercomments.json\n",
      "{'HogwartsLegacyGaming', 'sandiego', 'inlaws', 'books', 'AskReddit', 'AmItheAsshole', 'Sims3', 'shittytattoos', 'Sims4'}\n"
     ]
    },
    {
     "name": "stderr",
     "output_type": "stream",
     "text": [
      "Scraping user comments:   1%|          | 286/29911 [1:01:41<89:49:48, 10.92s/it] "
     ]
    },
    {
     "name": "stdout",
     "output_type": "stream",
     "text": [
      "Comments saved to /Users/smutnuri/Documents/UVA/_Projects/Fall24/CBM/CBMRepo/Data/usercomments/619baby_usercomments.json\n",
      "{'television', 'bostonceltics', 'pics', 'vexillology', 'canada', 'hrvatska', 'worldnews', 'Damnthatsinteresting', 'greentext', 'books', 'Showerthoughts', 'JordanPeterson', 'moderatepolitics', 'sports', 'gatesopencomeonin', 'imaginarymaps', 'OutOfTheLoop', 'Palestine', 'JoeRogan', 'boston', 'MLS', 'UpliftingNews', 'AbandonedPorn', 'europe', 'Patriots', 'AskReddit', 'OldSchoolCool', 'Infographics', 'MapPorn', 'nostalgia', 'technicallythetruth', 'ireland', 'olympics', 'politics', 'soccercirclejerk', 'QuotesPorn', 'CFB', 'Unexpected', 'leagueoflegends', 'texas', 'sanfrancisco', 'croatia', 'news', 'barstoolsports', 'reddevils', 'privacy', 'PoliticalCompassMemes', 'ukpolitics', 'anime_titties', 'Music', 'dadjokes', 'Presidents', 'harrypotter', 'Conservative', 'therewasanattempt', 'comics', 'Christianity', 'interestingasfuck', 'SelfAwarewolves', 'lifehacks', 'PublicFreakout', 'WhitePeopleTwitter', 'dataisbeautiful', 'southpark', 'footballhighlights', '4chan', 'coolguides', 'unitedkingdom', 'Libertarian', 'hockey', 'starterpacks', 'HistoryPorn', 'ActualPublicFreakouts', 'balkans_irl', 'BostonBruins'}\n"
     ]
    },
    {
     "name": "stderr",
     "output_type": "stream",
     "text": [
      "Scraping user comments:   1%|          | 287/29911 [1:02:08<129:11:25, 15.70s/it]"
     ]
    },
    {
     "name": "stdout",
     "output_type": "stream",
     "text": [
      "Comments saved to /Users/smutnuri/Documents/UVA/_Projects/Fall24/CBM/CBMRepo/Data/usercomments/63-37-88_usercomments.json\n",
      "{'askcarguys', 'redditonwiki', '1970s', 'australian', 'Flatchested18', 'metaldetecting', 'ExpectationVsReality', 'ABCaus', 'GolfGTI', 'AskALawyer', 'blackmagicfuckery', 'webdev', 'iwatchedanoldmovie', 'realasians', 'UKJobs', 'moviecritic', 'AustralianBirds', 'AubreyMaturinSeries', 'omad', 'aviation', 'unpopularopinion', 'KitchenConfidential', 'AmItheAsshole', 'IsItIllegal', 'answers', 'shittymoviedetails', 'formuladank', 'legaladvice', 'golf', 'retailhell', 'Jokes', 'AITAH', 'Helicopters', 'aa_cups', 'rimjob_steve', 'onetruegod', 'AskAnAustralian', 'UberEATS', 'electricians', 'Money', 'askcarsales', 'colorful_divinity', 'coolguides', 'spotted', 'toolgifs', 'AskPhysics', 'Plumbing', 'Satisfyingasfuck', 'whatthefrockk', 'cookingforbeginners', 'AMA', 'NameMyCat', 'MaliciousCompliance', 'melbourne', 'legaladvicecanada', 'B_Cups', 'AusLegal', 'confidentlyincorrect', 'toptalent', 'CelebLBDs', 'translator', 'CasualConversation', 'TalesFromYourServer', 'puzzles', 'AbruptChaos', 'PointlessStories', '3amjokes', 'tifu', 'motorcycle', 'AmITheJerk', 'todayilearned', 'LifeProTips', 'Comebacks', 'PersonalFinanceCanada', 'u_bodyliketeen', 'SFWNextDoorGirls', 'ChatGPT', 'bi_irl', 'guitarcirclejerk', 'whatcarshouldIbuy', 'WhatIsThisPainting', 'movies', 'FreckledGirls', 'Showerthoughts', 'sports', 'Funnymemes', 'Millennials', 'meme', 'braceface', 'travel', 'MurderedByWords', '8outof10cats', 'AusFinance', 'Carpentry', 'UnethicalLifeProTips', 'royalmail', 'AntiJokes', 'airbnb_hosts', 'KidsAreFuckingStupid', 'Nicegirls', '2westerneurope4u', 'Concrete', 'sitcoms', 'whatsthisrock', 'simpsonsshitposting', 'queensland', 'rareinsults', 'lotrmemes', 'namethatcar', 'popculturechat', 'mathmemes', 'harrypotter', 'Chefit', 'sillybritain', 'lastimages', 'TopGear', 'NewVegasMemes', 'mildlyinfuriating', 'australia', 'whereisthis', 'pics', 'cursedcomments', 'StarWars', 'Tools', 'worldnews', 'Physics', 'AusProperty', 'AskMechanics', 'whatisthiscar', 'oddlyspecific', 'FuckImOld', 'wallstreetbets', 'PetiteGoneWild', 'Tinder', 'TravelersTV', 'atheism', 'EnglishLearning', 'TrueReddit', 'electrical', 'pettyrevenge', 'NonPoliticalTwitter', 'mercedes_benz', 'lostredditors', 'CuratedTumblr', 'AmIOverreacting', 'AskOuija', 'Costco', 'NotHowGirlsWork', 'clevercomebacks', 'rugbyunion', 'CasualUK', 'AskHistorians', 'Whatisthisplane', 'shitposting', 'BritishMemes', 'inthenews', 'tragedeigh', 'therewasanattempt', 'nextfuckinglevel', 'Nipples', 'IdiotsTowingThings', 'meirl', 'Puffies', 'arresteddevelopment', 'Weird', 'SipsTea', 'starwarsmemes', 'mildlyinteresting', 'doordash', 'WWIIplanes', 'AskPhotography', 'notliketheothergirls', 'Ships', 'Snorkblot', 'AskReddit', 'Whatsthiscar', 'drivingUK', 'Catswithjobs', 'comics', 'doordash_drivers', 'HitchHikersGuide', 'ExplainTheJoke', 'SmallCutie', 'AskHistory', 'etymology', 'ShitAmericansSay', 'JustGuysBeingDudes', 'hypotheticalsituation', 'wholesomememes', 'aww', 'HomeMaintenance', 'news', 'legaladviceofftopic', 'Howtolooksmax', 'AusRenovation', 'thehuns', 'WhitePeopleTwitter', 'BikeMechanics', 'prettyasiangirls', 'tumblr', 'rickygervais', 'chessbeginners', 'darwin', 'AskElectricians', 'malehairadvice', 'Audi', 'fixedbytheduet', 'Decks', 'impressively', 'barelegs', 'nbacirclejerk', 'newcastle', 'godtiersuperpowers', 'Wellthatsucks', 'BeAmazed', 'AccidentalRenaissance', 'MovieSuggestions', 'interestingasfuck', 'AskScienceDiscussion', 'AusPropertyChat', 'tipofmytongue', 'drawme', 'Porsche', 'PoliticalHumor', 'managers', 'ComedyCemetery', 'dontyouknowwhoiam', 'memesopdidnotlike', 'civic', 'jobs', 'stupidquestions', 'flatearth', 'seinfeld', 'Serverlife', 'Cartalk', 'ExplainAFilmPlotBadly', 'technology', '30ROCK', 'ginger', 'AskHR', 'cleanjokes', 'CarTalkUK', 'humansarespaceorcs', 'AustraliaPost', 'formula1', 'askscience', 'Minesweeper', 'terriblefacebookmemes', '4chan', 'Dexter', 'Homebuilding', 'voyager', 'Butchery', 'PeterExplainsTheJoke', 'memes', 'GenX', 'Damnthatsinteresting', 'RandomThoughts', 'travisandtaylor', 'coworkerstories', 'ENGLISH', 'sailing', 'whatisit', 'Renovations', 'perth', 'dadjokes', 'CarsAustralia', 'riddles', 'cycling', 'CelebsWithPetiteTits', 'Thatsactuallyverycool', 'facepalm', 'mining', 'NoStupidQuestions', 'LegalAdviceUK', 'AskEngineers', 'AustralianNostalgia', 'theydidthemath', 'engineeringmemes', 'keyboards', 'funnysigns', 'driving', 'Tokyo', 'askmath', 'flatchested', 'askStampCollectors', 'Astronomy', 'legal', 'explainlikeimfive', 'lebowski', 'comedyheaven', 'ScrapMetal', 'questions', 'brisbane', 'books', 'TrollCoping', 'GetNoted', 'MoldyMemes', 'whatstheword', 'sciencememes', 'EstatePlanning', 'coins', 'AdviceAnimals', 'dankmemes', 'mildyinteresting', 'bald', '80smovies', 'boardgames', 'annakendrick', 'madlads'}\n"
     ]
    },
    {
     "name": "stderr",
     "output_type": "stream",
     "text": [
      "Scraping user comments:   1%|          | 288/29911 [1:02:34<154:22:33, 18.76s/it]"
     ]
    },
    {
     "name": "stdout",
     "output_type": "stream",
     "text": [
      "Comments saved to /Users/smutnuri/Documents/UVA/_Projects/Fall24/CBM/CBMRepo/Data/usercomments/64vintage_usercomments.json\n",
      "{'WorkoutRoutines', 'pics', 'Health', 'internetparents', 'RealEstate', 'books', 'Entrepreneur', 'law', 'Survival', 'whiskey', 'strength_training', 'AskReddit', 'Shotguns', 'BuyItForLife', 'bodyweightfitness', 'running', 'AITAH', 'HomeMaintenance', 'cars', 'suggestmeabook', 'ArmyOCS', 'Daytrading', 'minivan', 'regularcarreviews', 'CasualConversation', 'MiddleClassFinance', 'mildlyinfuriating', 'daddit', 'homeowners'}\n"
     ]
    },
    {
     "name": "stderr",
     "output_type": "stream",
     "text": [
      "Scraping user comments:   1%|          | 289/29911 [1:02:36<113:15:48, 13.77s/it]"
     ]
    },
    {
     "name": "stdout",
     "output_type": "stream",
     "text": [
      "Comments saved to /Users/smutnuri/Documents/UVA/_Projects/Fall24/CBM/CBMRepo/Data/usercomments/6515-01-334-8805_usercomments.json\n",
      "{'television', 'wholefoods', 'entitledparents', 'pics', 'MakeItOrBreakItShow', 'facepalm', 'COVID19positive', 'yogawithadriene', 'dancingwiththestars', 'mildlyinteresting', 'BoomersBeingFools', 'houstonwade', 'Showerthoughts', 'books', 'millenials', 'technology', 'littlehouseonprairie', 'ShitAmericansSay', 'Funnymemes', 'self', 'Gymnastics', 'NameMyCat', 'AdviceAnimals', 'AskChicago', 'ChicagoSuburbs', 'Bumble', 'AskReddit', 'rareinsults', 'Cooking', 'badroommates', 'longhair', 'popularopinion', 'aww', 'travel', 'OldSchoolCool', 'vegan_travel', 'popculturechat', 'AnythingGoesNews', 'politics', 'chicago', 'news', 'AITAH', 'TrueOffMyChest', 'SameGrassButGreener', 'entertainment', 'BlackPeopleTwitter', 'EntitledPeople', 'vegan', 'teenagers', 'antiwork', 'interestingasfuck', 'Libraries', 'cta', '2meirl4meirl', 'meirl', 'WhitePeopleTwitter', 'AlaskaAirlines', 'texts', 'Columbus', 'science', 'themagneticfields', 'fullhouse', 'movies', 'mildlyinfuriating', 'GeneralHospital', 'AmItheAsshole'}\n"
     ]
    },
    {
     "name": "stderr",
     "output_type": "stream",
     "text": [
      "Scraping user comments:   1%|          | 290/29911 [1:02:53<121:44:38, 14.80s/it]"
     ]
    },
    {
     "name": "stdout",
     "output_type": "stream",
     "text": [
      "Comments saved to /Users/smutnuri/Documents/UVA/_Projects/Fall24/CBM/CBMRepo/Data/usercomments/6666noneya6666_usercomments.json\n",
      "{'television', 'Weird', 'iamverybadass', 'pics', 'pcgaming', 'HermanCainAward', 'gaming', 'canada', 'worldnews', 'memes', 'videos', 'ontario', 'mmamemes', 'Showerthoughts', 'books', 'sports', 'Rainbow6', 'ThatsInsane', 'Fireteams', 'Memes_Of_The_Dank', 'mallninjashit', 'bloodborne', 'nonutnovember', 'windsorontario', 'clevercomebacks', 'JoeRogan', 'iamatotalpieceofshit', 'AskReddit', 'youseeingthisshit', 'dankmemes', 'MadeMeSmile', 'nottheonion', 'conspiracy_commons', 'alberta', 'ItemShop', 'todayilearned', 'news', 'Unexpected', 'Helldivers', 'ufc', 'snowrunner', 'LifeProTips', 'IdiotsInCars', 'Gamingcirclejerk', 'TheCinemassacreTruth', 'therewasanattempt', 'PS4', 'DestinyTheGame', 'interestingasfuck', 'PersonalFinanceCanada', 'PublicFreakout', 'Bossfight', 'funny', 'TimHortons', 'reddeadredemption2', 'movies', 'gatekeeping', 'pcmasterrace'}\n"
     ]
    },
    {
     "name": "stderr",
     "output_type": "stream",
     "text": [
      "Scraping user comments:   1%|          | 291/29911 [1:03:01<103:13:48, 12.55s/it]"
     ]
    },
    {
     "name": "stdout",
     "output_type": "stream",
     "text": [
      "Comments saved to /Users/smutnuri/Documents/UVA/_Projects/Fall24/CBM/CBMRepo/Data/usercomments/666killbabies_usercomments.json\n",
      "{'television', 'writing', 'India_Investments', 'imaginarygatekeeping', 'ShittyLifeProTips', 'ParallelView', 'flicks', 'CrossView', 'DHSavagery', 'Petioles', 'law', 'Funnymemes', 'BollywoodShaadis', 'kannada_pusthakagalu', 'Indiangirlsontinder', 'HadesTheGame', 'HimachalPradesh', 'csMajors', 'AskReddit', 'mahabharata', 'developersIndia', 'indianstartups', 'IndianOTTbestof', 'CHEWcomics', 'metroidvania', 'kolkata', 'MahindraThar', 'graphic_design', 'mangalore', 'TrueFilm', 'kannada', 'bollywoodmemes', 'apexlegends', 'karnataka', 'Nicegirls', 'SpidermanPS4', 'Bengaluru', 'ItsAllAboutGames', 'bangalore', 'memes', 'The10thDentist', 'democrats', 'AEWOfficial', 'IndiaCricket', 'KotakuInAction', 'mumbai', 'happy', 'RandomThoughts', 'bengaluru_speaks', 'sikkim', 'TrueCrimeDiscussion', 'PS5', 'SquaredCircle', 'chessindia', 'CaptainDisillusion', 'Crowsworn', 'NotThePyaaz', 'HouseMD', 'Cricket', 'AajMaineJana', 'TheLastKingdom', 'writingadvice', 'AmItheKameena', 'IndianEnts', 'ChitraLoka', 'Aphantasia', 'IndiaSpeaks', 'StartUpIndia', 'indiasocial', 'CarsIndia', 'Goa', 'gurgaon', 'gaming', 'indiadiscussion', 'GodofWarRagnarok', 'AskIndia', 'FaltooGyan', 'TheBear', 'breakingbad', 'JordanPeterson', 'oddlyspecific', 'Odisha', 'vikingstv', 'ShouldIbuythisgame', 'indianews', 'Superliminal', 'mysore', 'sakkath', 'thatHappened', 'politics', 'Pomeranians', 'delhi', 'hyderabad', 'anime', 'MovieSuggestions', 'playstation', 'learnspanish', 'dogpictures', 'UpvoteBecauseButt', 'harate', 'TedLasso', 'HarryPotterBooks', 'Sekiro', 'TooAfraidToAsk', 'MagicEye', 'BollyBlindsNGossip', 'TheLincolnLawyer', 'unitedstatesofindia', 'IndiansRead', 'thesopranos', 'books', 'Indore', 'MensRights', 'okbuddychicanery', 'IndianWorkplace', 'skeptic', 'AdviceAnimals', 'BollywoodMusic', 'dankmemes', 'nottheonion', 'BhangEnts', 'CharacterRant', 'IndiaTech', 'GadgetsIndia', 'eczema', 'IndianMemeTemplates', 'ZyadaKuchNai', 'controlgame', 'Scoobydoo', 'animeindian', 'IndianCinema', 'DC_Cinematic', 'demonssouls', 'patientgamers', 'movies', 'BoschTV', 'highdeas', 'betterCallSaul'}\n"
     ]
    },
    {
     "name": "stderr",
     "output_type": "stream",
     "text": [
      "Scraping user comments:   1%|          | 292/29911 [1:03:26<136:08:39, 16.55s/it]"
     ]
    },
    {
     "name": "stdout",
     "output_type": "stream",
     "text": [
      "Comments saved to /Users/smutnuri/Documents/UVA/_Projects/Fall24/CBM/CBMRepo/Data/usercomments/666shanx_usercomments.json\n",
      "{'Breadit', 'books', 'AskReddit', 'cats'}\n"
     ]
    },
    {
     "name": "stderr",
     "output_type": "stream",
     "text": [
      "Scraping user comments:   1%|          | 293/29911 [1:03:28<99:02:30, 12.04s/it] "
     ]
    },
    {
     "name": "stdout",
     "output_type": "stream",
     "text": [
      "Comments saved to /Users/smutnuri/Documents/UVA/_Projects/Fall24/CBM/CBMRepo/Data/usercomments/67843257865_usercomments.json\n",
      "{'stephenking', 'greenday', 'redditonwiki', 'mildlyinteresting', 'landscaping', 'LastWar_Survival', 'MusicRecommendations', 'fo4', 'Frugal', 'kindle', 'whatsthatbook', 'skyrim', 'AskReddit', 'CICO', 'BuyItForLife', 'loseit', 'Tattoocoverups', 'C25K', '75hardchallenge', 'GTACarMeetMarket', 'ironmaiden', 'moviecritic', 'UnethicalLifeProTips', 'antiwork', 'whatisthatmovie', 'ExplainTheJoke', 'AmItheAsshole', 'PeterExplainsTheJoke', 'sublime', 'Metallica', 'Concerts', 'Poopfromabutt', 'GenX', 'gtaonline', 'GalaxysEdge', 'OhNoConsequences', 'namenerds', 'hypotheticalsituation', 'Chromecast', 'SistersofMercy', 'AITAH', 'snowboarding', 'discworld', 'motorcycles', 'arrow', 'mizzou', 'reacher', 'WhitePeopleTwitter', 'retrogaming', 'mildlyinfuriating', 'Advice', 'TheBoys', 'Plumbing', 'MetalForTheMasses', 'pics', 'YimMenu', 'BestofRedditorUpdates', 'whatisthisplant', 'Wellthatsucks', 'TheOffspring', 'BeAmazed', 'MovieSuggestions', 'BattleJackets', 'pools', 'WoT', 'Bitcoin', 'springfieldMO', 'LastWarMobileGame', 'books', 'GTA', 'AskAMechanic', 'clevercomebacks', 'progresspics', 'SupernaturalVR', 'AmITheJerk', 'horrorlit', 'GTA5Online', 'hairmetal', 'ExtremeHorrorLit', 'DungeonCrawlerCarl', 'funny', 'SmashingPumpkins', 'BoschTV', 'Chargers', 'shittytattoos', 'GrandTheftAutoV', 'TeenagersButBetter'}\n"
     ]
    },
    {
     "name": "stderr",
     "output_type": "stream",
     "text": [
      "Scraping user comments:   1%|          | 294/29911 [1:03:57<141:14:41, 17.17s/it]"
     ]
    },
    {
     "name": "stdout",
     "output_type": "stream",
     "text": [
      "Comments saved to /Users/smutnuri/Documents/UVA/_Projects/Fall24/CBM/CBMRepo/Data/usercomments/67alecto_usercomments.json\n",
      "{'oddlysatisfying', 'linux', 'shitposting', 'CyberStuck', 'MurderedByWords', 'buildapc', 'WaypointVICE', 'Damnthatsinteresting', 'hyprland', 'bonehurtingjuice', 'books', 'Games', 'technology', 'ExplainTheJoke', 'madlads', 'StrangeAndFunny', 'linux_gaming', 'australia'}\n"
     ]
    },
    {
     "name": "stderr",
     "output_type": "stream",
     "text": [
      "Scraping user comments:   1%|          | 295/29911 [1:03:59<104:37:22, 12.72s/it]"
     ]
    },
    {
     "name": "stdout",
     "output_type": "stream",
     "text": [
      "Comments saved to /Users/smutnuri/Documents/UVA/_Projects/Fall24/CBM/CBMRepo/Data/usercomments/69_big_boobs_69_usercomments.json\n",
      "{'Weird', 'knolling', 'dysautonomia', 'Hobbies', 'Petioles', 'Survival', 'horror', 'Enhancement', 'geography', 'Cooking', 'lipedema', 'BuyItForLife', 'jewelrymaking', 'Constipation', 'taoism', 'AskCulinary', 'MinecraftHelp', 'UnusualArt', 'CookieClicker', 'moviecritic', 'UnethicalLifeProTips', 'glutenfreerecipes', 'jewelry', 'DIY', 'hotsauce', 'curlyhair', 'whatsthisrock', 'oldhagfashion', 'namenerds', 'Halloween_Costumes', 'HydroHomies', 'suggestmeabook', 'iamveryculinary', 'Home', 'NoMansSkyTheGame', 'Chefit', 'Linen', 'UberEATS', 'malefashion', 'AbstractArt', 'Wavyhair', 'NationalPark', 'camping', 'slowcooking', 'backpacking', 'sewing', 'NoStupidQuestions', 'ModSupport', 'cookingforbeginners', 'AppalachianTrail', 'Embroidery', 'MoldlyInteresting', 'BestofRedditorUpdates', 'declutter', 'BooksThatFeelLikeThis', 'Superliminal', 'knitting', 'foodsafety', 'MovieSuggestions', 'Minecraft', 'ArtCrit', 'ArtistLounge', 'disability', 'LetsNotMeet', 'CrazyFuckingVideos', 'madmen', 'CasualConversation', 'femalelivingspace', 'Biohackers', 'pens', 'Scams', 'HomeImprovement', 'books', 'milwaukee', 'ClickerHeroes', 'museum', 'cosplayprops', 'beauty', 'hiking', 'longhair', 'Beading', 'homestead', 'WeirdLit', 'whatisthisthing', 'booksuggestions', 'Botchedsurgeries', 'glutenfree', 'origami', 'WhatIsThisPainting', 'movies'}\n"
     ]
    },
    {
     "name": "stderr",
     "output_type": "stream",
     "text": [
      "Scraping user comments:   1%|          | 296/29911 [1:04:27<140:48:01, 17.12s/it]"
     ]
    },
    {
     "name": "stdout",
     "output_type": "stream",
     "text": [
      "Comments saved to /Users/smutnuri/Documents/UVA/_Projects/Fall24/CBM/CBMRepo/Data/usercomments/69pissdemon69_usercomments.json\n",
      "{'newzealand', 'EarthPorn', 'French', 'worldnews', 'Futurology', 'books', 'Petioles', 'tifu', 'bicycletouring', 'Brompton', 'AskReddit', 'ADHD_Programmers', 'GetMotivated', 'nottheonion', 'GoingToSpain', 'Yellowjackets', 'todayilearned', 'LateDiagnosedAutistic', 'DebateAnarchism', 'Music', 'WitchesVsPatriarchy', 'solarpunk', 'ADHD', 'adhdwomen', 'explainlikeimfive', 'paris', 'science', 'movies', 'toastme', 'Fedora', 'TrollXChromosomes', 'AmItheAsshole'}\n"
     ]
    },
    {
     "name": "stderr",
     "output_type": "stream",
     "text": [
      "Scraping user comments:   1%|          | 297/29911 [1:04:37<122:49:15, 14.93s/it]"
     ]
    },
    {
     "name": "stdout",
     "output_type": "stream",
     "text": [
      "Comments saved to /Users/smutnuri/Documents/UVA/_Projects/Fall24/CBM/CBMRepo/Data/usercomments/70-percent-acid_usercomments.json\n",
      "{'LetsTalkMusic', 'lostmedia', 'twinpeaks', 'writing', 'pens', 'HobbyDrama', 'kpop', 'bookshelf', 'books', 'Letterboxd', 'GWSN', 'kpopthoughts', 'evangelion', 'literature', 'Japaneselanguage', 'LearnJapanese', 'hobonichi', 'davidlynch', 'JapaneseMovies', 'Cd_collectors', 'triples', 'shibuyakei', 'electronicmusic', 'citypop', 'popculturechat', 'unpopularkpopopinions', 'criterion', 'suggestmeabook', 'Pen_Swap', 'kpopnostalgia', 'pencils', 'jpop', 'popheads', 'Music', 'kpophelp', 'kpop_uncensored', 'TrueFilm', 'LOONA', 'pcmusic', 'everyoneknowsthat', 'japanesemusic', 'DigitalGirl', 'notebooks', 'murakami', 'translator', 'Journaling', 'fountainpens', 'NewJeans', 'mechanicalpencils', 'neopets', 'Lain'}\n"
     ]
    },
    {
     "name": "stderr",
     "output_type": "stream",
     "text": [
      "Scraping user comments:   1%|          | 298/29911 [1:05:05<156:33:22, 19.03s/it]"
     ]
    },
    {
     "name": "stdout",
     "output_type": "stream",
     "text": [
      "Comments saved to /Users/smutnuri/Documents/UVA/_Projects/Fall24/CBM/CBMRepo/Data/usercomments/714c_usercomments.json\n",
      "{'television', 'place', 'SipsTea', 'Legoleak', 'mildlyinteresting', 'catsareliquid', 'videos', 'Showerthoughts', 'TwoSentenceHorror', 'PrequelMemes', 'sports', 'oddlyterrifying', 'Funnymemes', 'me_irl', 'blursedimages', 'WWE', 'raspberry_pi', 'ExpectationVsReality', 'HumansBeingBros', 'TheLastAirbender', 'FluentInFinance', 'redsox', 'meme', 'UnexpectedSeinfeld', 'AskReddit', 'Games', 'spitballerspod', 'olympics', 'WTF', 'NintendoSwitch', 'conspiracy', 'GameDeals', 'dune', 'nova', 'moviecritic', 'terriblefacebookmemes', 'UnethicalLifeProTips', 'antiwork', 'Spiderman', '2meirl4meirl', 'science', 'DIY', 'Whatcouldgowrong', 'KidsAreFuckingStupid', 'ExplainTheJoke', 'UpliftingNews', 'comicbooks', 'marvelstudios', 'AmItheAsshole', 'shittymoviedetails', 'memes', 'Damnthatsinteresting', 'Futurology', 'philosophy', 'BetterEveryLoop', 'lego', 'TILI', 'PatMcAfeeShowOfficial', 'acecombat', 'wholesomememes', 'rareinsults', 'PS5', 'lotrmemes', 'aww', 'MapPorn', 'Boardgamedeals', 'technicallythetruth', 'babyelephantgifs', 'Jokes', 'AITAH', 'Unexpected', 'news', 'thanosdidnothingwrong', 'trashpandas', '3Dprinting', 'baseball', 'harrypotter', 'Music', 'SiberianCats', 'whenthe', 'FanTheories', 'ProgrammerHumor', 'WhitePeopleTwitter', 'cyberpunkgame', 'dataisbeautiful', 'coolguides', 'MovieDetails', 'suicidebywords', 'tumblr', 'WatchPeopleDieInside', 'mildlyinfuriating', 'nfl', 'lotr', 'BostonBruins', 'legodeal', 'facepalm', 'pics', 'washingtondc', 'SpeedOfLobsters', 'cursedcomments', 'gaming', 'justgalsbeingchicks', 'worldnews', 'NoStupidQuestions', 'Muppets', 'AmazonAnswers', 'MoviePosterPorn', 'dndmemes', 'oddlyspecific', 'WinStupidPrizes', 'LateStageCapitalism', 'AskBaking', 'gadgets', 'nonononoyes', 'space', 'OldSchoolCool', 'LEGOMarvelLeaks', 'zelda', 'AbsoluteUnits', 'funnysigns', 'IASIP', 'BeAmazed', 'chaoticgood', 'confidentlyincorrect', 'toptalent', 'interestingasfuck', 'seriouseats', 'explainlikeimfive', 'personalfinance', 'TerrifyingAsFuck', 'NonPoliticalTwitter', 'CrazyFuckingVideos', 'Fire', 'Bossfight', 'TheDarkTower', 'Tinycatsinbigspaces', 'pcmasterrace', 'darktowermemes', 'NintendoSwitchDeals', 'PoliticalHumor', 'AbruptChaos', 'AnimalsBeingBros', 'dontyouknowwhoiam', 'books', 'Cakes', 'worldcup', 'tifu', 'ukraine', 'clevercomebacks', 'Patriots', 'marvelmemes', '531Discussion', 'dankmemes', 'nottheonion', 'KingdomHearts', 'todayilearned', 'shitposting', 'HolUp', 'dunememes', 'The_Donta', 'LifeProTips', 'entertainment', 'BlackPeopleTwitter', 'therewasanattempt', 'maybemaybemaybe', 'nextfuckinglevel', 'seinfeld', 'InternetIsBeautiful', 'IAmA', 'boardgames', 'FunnyandSad', 'meirl', 'funny', 'DC_Cinematic', 'Baking', 'homegym', 'movies', 'patientgamers', 'spiritisland', 'marvelchampionslcg', 'gatekeeping', 'CrappyDesign'}\n"
     ]
    },
    {
     "name": "stderr",
     "output_type": "stream",
     "text": [
      "Scraping user comments:   1%|          | 299/29911 [1:05:33<177:32:17, 21.58s/it]"
     ]
    },
    {
     "name": "stdout",
     "output_type": "stream",
     "text": [
      "Comments saved to /Users/smutnuri/Documents/UVA/_Projects/Fall24/CBM/CBMRepo/Data/usercomments/71fq23hlk159aa_usercomments.json\n",
      "{'AskOldPeople', 'houston', 'Lufkin', 'ShittyLifeProTips', 'books', 'AMA', 'AskAChristian', 'biblequestions', '52book', 'Frugal', 'whatstheword', 'CRH', 'reddithelp', 'coins', 'declutter', 'stopdrinking', 'AskReddit', 'WeAreTheMusicMakers', 'sugarfree', 'Retire', 'musictheory', 'booksuggestions', 'shortstories', 'appliancerepair', 'Christian', 'Christianity', 'IAmA', 'TrueLit', 'guitarlessons', 'musicproduction', 'VoteDEM', 'Cartalk', 'TrueChristian'}\n"
     ]
    },
    {
     "name": "stderr",
     "output_type": "stream",
     "text": [
      "Scraping user comments:   1%|          | 300/29911 [1:06:00<190:38:00, 23.18s/it]"
     ]
    },
    {
     "name": "stdout",
     "output_type": "stream",
     "text": [
      "Comments saved to /Users/smutnuri/Documents/UVA/_Projects/Fall24/CBM/CBMRepo/Data/usercomments/71stMB_usercomments.json\n",
      "{'femalehairadvice', 'oddlysatisfying', 'pics', 'massachusetts', 'architecture', 'washingtondc', 'photography', 'PoliticalHumor', 'NewEnglandWedding', 'Construction', 'watertown', 'OmegaWatches', 'books', 'AmIOverreacting', 'AppalachianTrail', 'TikTokCringe', 'AnalogCommunity', 'Embroidery', 'Frugal', 'Watches', 'rolex', 'investing', 'StructuralEngineering', 'clevercomebacks', 'Coffee', 'boston', 'baltimore', 'maryland', 'Infrastructurist', 'Watchexchange', 'vaginismus', 'startrek', 'Cooking', 'AskReddit', 'watch_swap', 'aww', 'Breadit', 'AeroPress', 'civilengineering', 'politics', 'MealPrepSunday', 'news', 'renfaire', 'bikeboston', 'TwoXChromosomes', 'the_everything_bubble', 'legaladviceofftopic', 'aldi', 'CrossStitch', 'WitchesVsPatriarchy', 'Fencing', 'personalfinance', 'notebooks', 'WhitePeopleTwitter', 'Ohio', 'womenEngineers', 'slowcooking', 'orioles', 'analog', 'DIY', 'Baking', 'redneckengineering', 'femalefashionadvice', 'drugstoreMUA'}\n"
     ]
    },
    {
     "name": "stderr",
     "output_type": "stream",
     "text": [
      "Scraping user comments:   1%|          | 301/29911 [1:06:28<202:49:14, 24.66s/it]"
     ]
    },
    {
     "name": "stdout",
     "output_type": "stream",
     "text": [
      "Comments saved to /Users/smutnuri/Documents/UVA/_Projects/Fall24/CBM/CBMRepo/Data/usercomments/75footubi_usercomments.json\n",
      "{'ask', 'facepalm', 'whatsthisbug', 'Health', 'gaming', 'AttachmentParenting', 'mildlyinteresting', 'Damnthatsinteresting', 'books', 'DnD', 'Millennials', 'NewParents', 'me_irl', 'awfuleverything', 'ClassicalEducation', 'couchto5k', 'NameMyCat', 'breastfeeding', 'AskReddit', 'sleeptrain', 'bookclub', 'MadeMeSmile', 'aww', 'Wellthatsucks', 'AITAH', 'ChoosingBeggars', 'todayilearned', 'suggestmeabook', 'MyChemicalRomance', 'Nails', 'spinalfusion', 'Persecutionfetish', 'TwoXChromosomes', 'MakeupAddiction', 'blackcats', 'CrossStitch', 'Music', 'LifeProTips', 'cats', 'crabcats', 'antiwork', 'FormulaFeeders', 'lifehacks', 'PublicFreakout', 'meirl', 'explainlikeimfive', 'bookofthemonthclub', 'WhitePeopleTwitter', 'unpopularopinion', 'BabyLedWeaning', 'WatchPeopleDieInside', 'HildaTheSeries', 'rollerderby', 'MSPI'}\n"
     ]
    },
    {
     "name": "stderr",
     "output_type": "stream",
     "text": [
      "Scraping user comments:   1%|          | 302/29911 [1:06:43<179:54:29, 21.87s/it]"
     ]
    },
    {
     "name": "stdout",
     "output_type": "stream",
     "text": [
      "Comments saved to /Users/smutnuri/Documents/UVA/_Projects/Fall24/CBM/CBMRepo/Data/usercomments/77malfoy_usercomments.json\n",
      "{'zoology', 'pics', 'DesignPorn', 'XR15OL', 'photography', 'sciencefiction', 'worldnews', 'environmental_science', 'GenX', 'AskAnthropology', 'Miniworlds', 'climate', 'ATBGE', 'books', 'AbruptChaos', 'technology', 'SWORDS', 'AskFoodHistorians', 'VietNam', 'Blacksmith', 'scifiwriting', 'wonderdraft', 'techsupport', 'evolution', 'fossils', 'cosmology', 'stonemasonry', 'Anthropology', 'iphone', 'europe', 'Paleontology', 'AskReddit', 'space', 'Archeology', 'WeirdWheels', 'MapPorn', 'littlebritishcars', 'AskHistorians', 'Archaeology', 'todayilearned', 'WTF', 'Unexpected', 'askscience', 'Bladesmith', 'FORDFALCONS', 'gis', 'ArtefactPorn', 'geology', 'Music', 'whatisthisthing', 'printSF', 'Bullshido', 'Insta360', 'confidentlyincorrect', 'history', 'nextfuckinglevel', 'interestingasfuck', 'TravelHacks', 'worldbuilding', 'CrazyFuckingVideos', 'explainlikeimfive', 'AskScienceDiscussion', 'EverythingScience', 'dataisbeautiful', 'AskArchaeology', 'archeologyworld', 'yesyesyesyesno', 'whatsthisplant', 'iNaturalist', 'Writeresearch', 'wildlifephotography'}\n"
     ]
    },
    {
     "name": "stderr",
     "output_type": "stream",
     "text": [
      "Scraping user comments:   1%|          | 303/29911 [1:07:23<224:50:42, 27.34s/it]"
     ]
    },
    {
     "name": "stdout",
     "output_type": "stream",
     "text": [
      "Comments saved to /Users/smutnuri/Documents/UVA/_Projects/Fall24/CBM/CBMRepo/Data/usercomments/7LeagueBoots_usercomments.json\n",
      "{'television', 'iamverybadass', 'Weird', 'SipsTea', 'stephenking', 'linguisticshumor', 'cyprus', 'mildlyinteresting', 'MusicRecommendations', 'soccer', 'technology', 'scifi', 'Europetravel', 'Funnymemes', 'me_irl', 'whatsthatbook', 'meme', 'euro2024', 'language', 'AskReddit', 'geography', 'AskBulgaria', 'travel', 'soccercirclejerk', 'HellBoy', 'DCcomics', 'MurderedByWords', 'blankies', 'nononono', 'fcunion', 'graphic_design', 'moviecritic', 'terriblefacebookmemes', 'comics', 'RoastMe', 'Pixar', 'duolingo', 'AskAGerman', '2meirl4meirl', 'unpopularopinion', 'BatmanArkham', 'malegrooming', 'Nicegirls', 'ExplainTheJoke', 'comicbooks', 'PetPeeves', 'shittymoviedetails', 'PeterExplainsTheJoke', 'memes', 'Damnthatsinteresting', 'okbuddycinephile', 'ShitAmericansSay', 'TattooDesigns', 'wesanderson', 'FoodVideoPorn', 'formuladank', 'europe', 'CringeTikToks', 'lotrmemes', 'MapPorn', 'Unexpected', 'news', 'suggestmeabook', 'Askpolitics', 'weirdspotifyplaylists', 'GeoInsider', 'ManchesterUnited', 'harrypotter', 'FIlm', 'comedyhomicide', 'Balkans', 'Scotland', 'graphicnovels', 'TravelHacks', 'lol', 'AskEurope', 'coolguides', 'marketing', 'yesyesyesyesno', 'WatchPeopleDieInside', 'mildlyinfuriating', 'oscarrace', 'Switzerland', 'UkraineWarVideoReport', 'pics', 'StarWars', 'gaming', 'worldnews', 'IHateSportsball', 'BoomersBeingFools', 'ImTheMainCharacter', 'literature', 'oddlyspecific', 'imaginarymaps', 'videogames', '2easterneuropean4u', 'agedlikemilk', 'JackSucksAtGeography', '2nordic4you', 'OldSchoolCool', 'CommercialsIHate', 'ComicBookWriting', 'BeAmazed', 'creepyasterisks', 'polandball', 'mensfashion', 'mapporncirclejerk', 'financebg', 'ImageComics', 'MovieSuggestions', 'doppelganger', 'NewsOfTheStupid', 'interestingasfuck', 'Bundesliga', 'UrbanHell', 'montenegro', 'TerrifyingAsFuck', 'NonPoliticalTwitter', 'PremierLeague', 'dresden', 'realmadrid', 'tipofmytongue', 'SweatyPalms', 'tattooadvice', 'DesignPorn', 'vexillology', 'casualnintendo', 'books', 'flags', 'TikTokCringe', 'ukraine', 'GTA', 'Fauxmoi', 'clevercomebacks', 'bookscirclejerk', 'england', 'BulgariaReads', 'MadeMeSmile', 'Infographics', 'nottheonion', 'vexillologycirclejerk', 'mildyinteresting', 'HistoryMemes', 'instant_regret', 'AskBalkans', 'HalfLife', 'PropagandaPosters', 'maybemaybemaybe', 'nextfuckinglevel', 'FCInterMilan', 'lazerpig', 'football', 'funny', 'AskARussian', 'DC_Cinematic', 'Sofia', 'movies', 'starterpacks', 'shittytattoos', 'solotravel'}\n"
     ]
    },
    {
     "name": "stderr",
     "output_type": "stream",
     "text": [
      "Scraping user comments:   1%|          | 304/29911 [1:08:11<275:22:07, 33.48s/it]"
     ]
    },
    {
     "name": "stdout",
     "output_type": "stream",
     "text": [
      "Comments saved to /Users/smutnuri/Documents/UVA/_Projects/Fall24/CBM/CBMRepo/Data/usercomments/7_11_Nation_Army_usercomments.json\n",
      "{'ask', 'television', 'SipsTea', 'CanadaPublicServants', 'VintageFashion', 'writing', 'videos', 'Yukon', 'ontario', 'ThriftStoreHauls', 'Showerthoughts', 'SlumlordsCanada', 'technology', 'tofino', 'relationships', 'Funnymemes', 'self', 'Guelph', 'ottawa', 'Millennials', 'spotify', 'Covetfashion', 'TheLastAirbender', 'gameofthrones', 'AOC', 'tall', 'camphalfblood', 'notliketheothergirls', 'TIHI', 'AskWomen', 'AskReddit', 'askTO', 'AreTheStraightsOK', 'Cooking', 'travel', 'NiagaraFalls', 'Wolfstar', 'alberta', 'olympics', 'whatismycookiecutter', 'WhiteLotusHBO', 'NoRulesCalgary', 'Permaculture', 'BridgertonNetflix', 'askwomenadvice', 'AskWomenOver30', 'onguardforthee', 'Canada_sub', 'merlinbbc', 'terriblefacebookmemes', 'comics', 'antiwork', 'crochet', 'HeartstopperNetflix', 'UnethicalLifeProTips', 'relationship_advice', 'BlueCollarWomen', 'DeppDelusion', 'texts', 'unpopularopinion', 'Pocketfrogs', 'science', 'UBC', 'malegrooming', 'UpliftingNews', 'AmItheAsshole', 'TallGirls', 'uoguelph', 'notthebeaverton', 'newbrunswickcanada', 'biology', 'memes', 'GriefSupport', 'Damnthatsinteresting', 'Futurology', 'donthelpjustfilm', 'ShitAmericansSay', 'ZeroWaste', 'Wildfire', 'ThatsInsane', 'YoungRoyals', 'RandomThoughts', 'surfing', 'travisandtaylor', 'wholesomememes', 'environment', 'TorontoRenting', 'UnbelievableNetflix', 'TheGirlSurvivalGuide', 'torontoraptors', 'sextips', 'DerryGirls', 'netflix', 'TrueUnpopularOpinion', 'popculturechat', 'technicallythetruth', 'AITAH', 'televisionsuggestions', 'CanadianTeachers', 'news', 'OntarioUniversities', 'snowboarding', 'razorfree', 'GreekMythology', 'suggestmeabook', 'nba', 'IWantOut', 'TwoXChromosomes', 'TheVampireDiaries', 'harrypotter', 'Music', 'StLouis', 'euphoria', 'lgbt', 'ScienceUncensored', 'canoecamping', 'bestoflegaladvice', 'WhitePeopleTwitter', 'malelivingspace', 'mycology', 'Winnipeg', 'noscrapleftbehind', 'tumblr', 'coolguides', 'WatchPeopleDieInside', 'dating', 'xxsurfing', 'mildlyinfuriating', 'RomanceBooks', 'facepalm', 'pics', 'FanFiction', 'resumes', 'EatCheapAndHealthy', 'canada', 'NoStupidQuestions', 'worldnews', 'TwoXPreppers', 'btd6', 'expats', 'kitchener', 'Palestine', 'VindictaRateCelebs', 'InternationalNews', 'CanadaPolitics', 'NameMyCat', 'Tinder', 'fashionporn', 'legaladvicecanada', 'Wellthatsucks', 'politics', 'BrandNewSentence', 'PokemonSwordAndShield', 'AskACanadian', 'canadian', 'BeAmazed', 'Sonsofanarchy', 'wicked', 'Destiny', 'OldPhotosInRealLife', 'anime_titties', 'moraldilemmas', 'CheerNetflix', 'Conservative', 'WitchesVsPatriarchy', 'NewsOfTheStupid', 'IsItBullshit', 'WorkReform', 'interestingasfuck', 'explainlikeimfive', 'britishcolumbia', 'VancouverIsland', 'LearnUselessTalents', 'CasualConversation', 'unitedkingdom', 'nature', 'toronto', 'SchittsCreek', 'tattooadvice', 'CrazyIdeas', 'entwives', 'TwoXSex', 'chicagobulls', 'nanaimo', 'books', 'collapse', 'TikTokCringe', 'tifu', 'IsraelPalestine', 'VictoriaBC', 'Fauxmoi', 'jobs', 'NotHowGirlsWork', 'clevercomebacks', 'stupidquestions', 'JoeRogan', 'AdviceAnimals', 'AskMenAdvice', 'careerguidance', 'dankmemes', 'changemyview', 'nottheonion', 'solotravel', 'CanadaHousing2', 'todayilearned', 'badwomensanatomy', 'Hungergames', 'TrueOffMyChest', 'homestead', 'WomenInNews', 'gardening', 'BCpolitics', 'entertainment', 'booksuggestions', 'BlackPeopleTwitter', 'sustainability', 'nextfuckinglevel', 'Feminism', 'Mountaineering', 'adhdwomen', 'twilight', 'HOTDGreens', 'abbotsford', 'Eragon', 'OntarioNews', 'funny', 'PersonalFinanceCanada', 'skiing', 'meirl', 'worldevents', 'PublicFreakout', 'analog', 'burnaby', 'movies', 'GenZ', 'HPfanfiction', 'sex'}\n"
     ]
    },
    {
     "name": "stderr",
     "output_type": "stream",
     "text": [
      "Scraping user comments:   1%|          | 305/29911 [1:09:03<321:08:02, 39.05s/it]"
     ]
    },
    {
     "name": "stdout",
     "output_type": "stream",
     "text": [
      "Comments saved to /Users/smutnuri/Documents/UVA/_Projects/Fall24/CBM/CBMRepo/Data/usercomments/7dipity_usercomments.json\n",
      "{'television', 'writing', 'mildlyinteresting', 'videos', 'frugalmalefashion', 'technology', 'sports', 'copypasta', 'Frugal', 'horror', 'travel', 'loseit', 'xboxone', 'IcebergCharts', 'ArtPorn', 'Sneakers', 'howto', 'LucidDreaming', 'business', 'CatastrophicFailure', 'urbanexploration', 'RoastMe', 'science', 'u_RealKraftMayo', 'Whatcouldgowrong', 'gifsthatendtoosoon', 'LiminalSpace', 'houston', 'ThingsCutInHalfPorn', 'Damnthatsinteresting', 'Futurology', 'socialskills', 'philosophy', 'HighStrangeness', 'Watches', 'aww', 'creepypasta', 'Unexpected', 'news', 'nba', 'Paranormal', 'trumpet', 'u_plutotvofficial', 'TheYouShow', 'Autos', 'coolguides', 'u_strangedarlingfilm', 'CityPorn', 'tacobell', 'UnresolvedMysteries', 'OCD', 'sugarland', 'AskPhysics', 'kenopsia', 'Physics', 'worldnews', 'preppers', 'carporn', 'AMA', 'investing', 'wallstreetbets', 'outside', 'politics', 'CampingandHiking', 'Eyebleach', 'IWantToLearn', 'interestingasfuck', 'ADHD', 'explainlikeimfive', 'confession', 'CasualConversation', 'books', 'Infographics', 'nottheonion', 'horrorlit', 'todayilearned', 'chemistry', 'rarepuppers', 'CampingGear', 'UniversityOfHouston', 'Art', 'thedivision', 'food', 'IAmA', 'PublicFreakout', 'worldbuilding', 'hmmm', 'Economics', 'Screenwriting', 'movies', 'starterpacks'}\n"
     ]
    },
    {
     "name": "stderr",
     "output_type": "stream",
     "text": [
      "Scraping user comments:   1%|          | 306/29911 [1:09:22<271:01:32, 32.96s/it]"
     ]
    },
    {
     "name": "stdout",
     "output_type": "stream",
     "text": [
      "Comments saved to /Users/smutnuri/Documents/UVA/_Projects/Fall24/CBM/CBMRepo/Data/usercomments/7goatman_usercomments.json\n",
      "{'Marriage', 'GlowUps', 'Herpes', 'ForHonorRants', 'books', 'Fallout4ModsXB1', 'SkyrimModsXbox', 'bloodborne', 'BestofRedditorUpdates', 'offmychest', 'HOTDBlacks', 'AITAH', 'dragonage', 'HouseOfTheDragon', 'buildapc', 'Journaling', 'TimotheeChalametDaily', 'buildapcforme', 'DecidingToBeBetter', 'NatureIsFuckingLit'}\n"
     ]
    },
    {
     "name": "stderr",
     "output_type": "stream",
     "text": [
      "Scraping user comments:   1%|          | 307/29911 [1:09:23<193:47:49, 23.57s/it]"
     ]
    },
    {
     "name": "stdout",
     "output_type": "stream",
     "text": [
      "Comments saved to /Users/smutnuri/Documents/UVA/_Projects/Fall24/CBM/CBMRepo/Data/usercomments/7kStepsAhead_usercomments.json\n",
      "{'MacOS', 'Uarts', 'philly', 'collage', 'tamagotchi', 'spideridentifier', 'Jellycatplush', 'SouthJersey', 'books', 'FoundPaper', 'TamagotchiUni', 'AnimalCrossing'}\n"
     ]
    },
    {
     "name": "stderr",
     "output_type": "stream",
     "text": [
      "Scraping user comments:   1%|          | 308/29911 [1:09:26<141:27:19, 17.20s/it]"
     ]
    },
    {
     "name": "stdout",
     "output_type": "stream",
     "text": [
      "Comments saved to /Users/smutnuri/Documents/UVA/_Projects/Fall24/CBM/CBMRepo/Data/usercomments/7pear_usercomments.json\n",
      "{'Woodcarving', 'uwaterloo', 'Spooncarving', 'timberframe', 'hvacadvice', 'Tools', 'Oshawa', 'NoStupidQuestions', 'videos', 'invasivespecies', 'rant', 'ontario', 'books', 'soapmaking', 'tifu', 'LinkedInLunatics', 'GardenWild', 'chefknives', 'greenwoodworking', 'NativePlantGardening', 'mkbhd', 'AskReddit', 'durham', 'Games', 'vegetablegardening', 'woodworking', 'alberta', 'Wellthatsucks', 'handtools', 'todayilearned', 'HomeMilledFlour', 'LivestreamFail', 'knitting', 'askscience', 'knifemaking', 'LessCredibleDefence', 'gardening', 'geology', 'LifeProTips', 'OntarioGardeners', 'TorontoRealEstate', 'MilitaryStories', 'PersonalFinanceCanada', 'BeginnerWoodWorking', 'Fencing', 'charcoal', 'mycology', 'DIY', 'finishing', 'plushies', 'mildlyinfuriating', 'toronto', 'casualknitting', 'AmItheAsshole', 'logitech'}\n"
     ]
    },
    {
     "name": "stderr",
     "output_type": "stream",
     "text": [
      "Scraping user comments:   1%|          | 309/29911 [1:09:53<167:13:39, 20.34s/it]"
     ]
    },
    {
     "name": "stdout",
     "output_type": "stream",
     "text": [
      "Comments saved to /Users/smutnuri/Documents/UVA/_Projects/Fall24/CBM/CBMRepo/Data/usercomments/7zrar_usercomments.json\n",
      "{'laborday14vapesales', 'books', 'audible', 'scifi', 'lepin', '3DS', 'cursedmods', 'fantasyromance', 'mturk', 'Rabbits', 'MSLGame', 'Dolls', 'pokemon', 'AskReddit', 'furry', 'Games', 'AnaloguePocket', 'NintendoSwitch', 'Pen_Swap', 'knitting', 'doughboys', 'electronic_cigarette', 'sylvanianfamilies', 'mylittlepony', 'MTGO', 'magicTCG', 'pkmntcg', 'EDH', 'Warframe', 'ptcgo', 'Journaling', 'vita', 'fountainpens', 'SteamDeck', 'humblebundles', 'Fantasy', 'femalefashionadvice', 'vaperettes', 'RedditLaqueristas', 'AmItheAsshole', 'OdinHandheld'}\n"
     ]
    },
    {
     "name": "stderr",
     "output_type": "stream",
     "text": [
      "Scraping user comments:   1%|          | 310/29911 [1:10:16<172:24:43, 20.97s/it]"
     ]
    },
    {
     "name": "stdout",
     "output_type": "stream",
     "text": [
      "Comments saved to /Users/smutnuri/Documents/UVA/_Projects/Fall24/CBM/CBMRepo/Data/usercomments/8005882300_usercomments.json\n",
      "{'ask', 'watchpeoplesurvive', 'videos', 'mildlyinteresting', 'Revolut', 'Showerthoughts', 'Documentaries', 'mallninjashit', 'Frugal', 'sonos', 'AskReddit', 'macbookpro', 'AskMenOver30', 'BuyItForLife', 'Prague', 'gifs', 'ProductManagement', 'eupersonalfinance', 'askscience', 'iwatchedanoldmovie', 'antiMLM', 'bestof', 'TrueFilm', 'Moviesinthemaking', 'Justrolledintotheshop', 'science', 'sysadmin', 'UpliftingNews', 'leangains', 'getdisciplined', 'Futurology', 'AdvancedProduction', 'productivity', 'AskMen', 'calvinandhobbes', 'formuladank', 'BetterEveryLoop', 'RandomThoughts', 'europe', 'aww', 'bodyweightfitness', 'Jokes', 'MealPrepSunday', 'snowboarding', 'news', 'AnimalsBeingJerks', 'cars', 'Music', 'keto', 'audioengineering', 'UserExperienceDesign', 'ketorecipes', 'dataisbeautiful', 'coolguides', 'MovieDetails', 'yesyesyesyesno', 'RoomPorn', 'DigitalCodeSELL', 'pics', 'Fitness', 'EatCheapAndHealthy', 'worldnews', 'EuropeFIRE', 'photoshopbattles', 'sousvide', 'DelugeUsers', 'gadgets', 'britishproblems', 'vinyl', 'interesting', 'AbsoluteUnits', 'politics', 'BeAmazed', 'AppleArcade', 'selfimprovement', 'interestingasfuck', 'explainlikeimfive', 'TooAfraidToAsk', 'SweatyPalms', 'capetown', 'M43', 'grilling', 'questions', 'financialindependence', 'books', 'czech', 'macmini', 'tifu', 'reasoners', 'workchronicles', 'ketogains', 'synthdiy', 'prodmgmt', 'nottheonion', 'CryptoCurrency', 'todayilearned', 'TrueOffMyChest', 'holdmycosmo', 'Art', 'CluCoin', 'synthesizers', 'LifeProTips', 'KamadoJoe', 'nextfuckinglevel', 'southafrica', 'mac', 'PublicFreakout', 'funny', 'YouShouldKnow', 'movies', 'gatekeeping'}\n"
     ]
    },
    {
     "name": "stderr",
     "output_type": "stream",
     "text": [
      "Scraping user comments:   1%|          | 311/29911 [1:10:43<186:54:37, 22.73s/it]"
     ]
    },
    {
     "name": "stdout",
     "output_type": "stream",
     "text": [
      "Comments saved to /Users/smutnuri/Documents/UVA/_Projects/Fall24/CBM/CBMRepo/Data/usercomments/808909707_usercomments.json\n",
      "{'television', 'waterloo', 'discogs', 'canada', 'canadahousing', 'books', 'technology', 'wintercycling', 'kitchener', 'Millennials', 'bicycling', 'Wealthsimple_Trade', 'cambridgeont', 'linux', 'Frugal', 'redhat', 'CanadaPolitics', 'piano', 'AskReddit', 'Cooking', 'openshift', 'GetMotivated', 'vinyl', 'gravelcycling', 'MTB', 'criterion', 'bikewrench', 'Music', 'LifeProTips', 'IdiotsInCars', 'boutiquebluray', 'WorkReform', 'discgolf', 'achewood', 'newfoundland', 'audiophile', 'linuxadmin', 'ProgrammerHumor', 'PersonalFinanceCanada', 'IAmA', 'relationship_advice', 'funny', 'cycling', 'KitchenConfidential', 'MTB_Ontario', 'sysadmin', 'movies', '4kbluray', 'sex'}\n"
     ]
    },
    {
     "name": "stderr",
     "output_type": "stream",
     "text": [
      "Scraping user comments:   1%|          | 312/29911 [1:10:52<152:43:20, 18.57s/it]"
     ]
    },
    {
     "name": "stdout",
     "output_type": "stream",
     "text": [
      "Comments saved to /Users/smutnuri/Documents/UVA/_Projects/Fall24/CBM/CBMRepo/Data/usercomments/808estate_usercomments.json\n",
      "{'television', 'ask', 'Perfectfit', 'flicks', 'BadHasbara', 'doordash', 'Pickles', 'AskReddit', 'Cooking', 'behindthebastards', 'doughboys', 'TOTK', 'internationalpolitics', 'InternetCommentEtiq', 'comics', 'antiwork', 'AmItheAsshole', 'shittymoviedetails', 'PeterExplainsTheJoke', 'Damnthatsinteresting', 'okbuddycinephile', 'h3h3_productions', 'environment', 'junjiito', 'fastfood', 'georgism', 'news', 'Farriers', 'whatisit', 'spaceporn', 'fantanoforever', 'Ohio', 'AllThatIsInteresting', 'tacobell', 'popheadscirclejerk', 'mildlyinfuriating', 'h3h3productions', 'oddlysatisfying', 'pics', 'povertyfinance', 'Tools', 'worldnews', 'LeopardsAteMyFace', 'BoomersBeingFools', 'Marxism_Memes', 'cookingforbeginners', 'painting', 'agedlikemilk', 'union', 'popularopinion', 'politics', 'LivestreamFail', 'h3snark', 'StanleyKubrick', 'MovieSuggestions', 'WorkReform', 'toptalent', 'interestingasfuck', 'psychology', 'NonPoliticalTwitter', 'Columbus', 'EhBuddyHoser', 'AbruptChaos', 'PointlessStories', 'books', 'TikTokCringe', 'cincinnati', 'jobs', 'clevercomebacks', 'skeptic', 'conservativeterrorism', 'changemyview', 'nottheonion', 'PizzaCrimes', 'vexillologycirclejerk', 'horrorlit', 'youtubedrama', 'HistoryMemes', 'HolUp', 'homestead', 'GooglePixel', 'Cheese', 'BlackPeopleTwitter', 'teenagers', 'boardgames', 'Serverlife', 'ETFs', 'Teachers', 'Global_News_Hub', 'okbuddyhasan', 'AlternateHistory'}\n"
     ]
    },
    {
     "name": "stderr",
     "output_type": "stream",
     "text": [
      "Scraping user comments:   1%|          | 313/29911 [1:10:59<124:42:36, 15.17s/it]"
     ]
    },
    {
     "name": "stdout",
     "output_type": "stream",
     "text": [
      "Comments saved to /Users/smutnuri/Documents/UVA/_Projects/Fall24/CBM/CBMRepo/Data/usercomments/80aise_usercomments.json\n",
      "{'television', 'writing', 'Military', 'technology', 'Funnymemes', 'recruitinghell', 'willow', 'DotA2', 'me_irl', 'TheExpanse', '13thage', 'civ', 'AskReddit', 'Grimdank', 'SuccessionTV', 'HOTDBlacks', 'Fable', 'xboxone', 'MurderedByWords', 'askscience', 'WayOfTheBern', 'IndianHaircare', 'ArtificialInteligence', 'ukpolitics', 'StonerThoughts', 'CricketShitpost', 'bollywoodmemes', '2meirl4meirl', 'HouseOfTheDragon', 'KidsAreFuckingStupid', 'CrusaderKings', 'bangalore', 'Metallica', 'startrekmemes', 'Wrasslin', 'Damnthatsinteresting', 'xbox', 'IndiaCricket', 'desitravellers', 'Rings_Of_Power', 'oots', 'Poetry', 'lotrmemes', 'SquaredCircle', 'texas', 'indianmemer', 'MadMax', 'news', 'amazon', 'DarkBRANDON', 'harrypotter', 'dopesmoker', 'DestinyTheGame', 'Cricket', 'StarWarsCirclejerk', 'WhitePeopleTwitter', 'cyberpunkgame', 'WritingPrompts', 'aoe4', 'gamingnews', 'lotr', 'IndiaSpeaks', 'writingcirclejerk', 'MetalForTheMasses', 'pics', 'StarWars', 'saltierthancrait', 'EarthPorn', 'gaming', 'canada', 'worldnews', 'LeopardsAteMyFace', 'InsaneParler', 'IndianGaming', 'AskIndia', 'asoiafcirclejerk', 'Positivity', 'tolkienfans', 'Doom', 'AskIndianWomen', 'space', 'plforindia', 'Indiangamers', 'Silmarillionmemes', 'politics', 'RingsofPower', 'diablo4', 'hardware', 'stopsmoking', 'Starfield', 'halo', 'masseffect', 'cats', 'Gamingcirclejerk', 'dndnext', 'singapore', 'writingcontests', 'Buttcoin', 'unitedkingdom', 'Blizzard', 'totalwar', 'NatureIsFuckingLit', 'ToolBand', 'BollyBlindsNGossip', 'scienceisdope', 'PoliticalHumor', 'unitedstatesofindia', 'stocks', 'india', 'IndiansRead', 'books', 'DestinyLore', 'HaloMemes', 'sciencememes', 'freefolk', 'JoeRogan', 'askSingapore', 'bollywood', 'Stellaris', '1899', 'startrek', 'MadeMeSmile', 'brexit', 'CryptoCurrency', 'HistoryMemes', 'indiancricketcrowd', 'conservatives', 'matrix', 'KeepWriting', 'entertainment', 'singularity', 'LOTR_on_Prime', 'teenagers', 'bioware', 'meirl', 'uttarpradesh', 'movies', 'HistoryPorn', 'asoiaf', 'musicmemes'}\n"
     ]
    },
    {
     "name": "stderr",
     "output_type": "stream",
     "text": [
      "Scraping user comments:   1%|          | 314/29911 [1:11:24<149:13:39, 18.15s/it]"
     ]
    },
    {
     "name": "stdout",
     "output_type": "stream",
     "text": [
      "Comments saved to /Users/smutnuri/Documents/UVA/_Projects/Fall24/CBM/CBMRepo/Data/usercomments/80korvus_usercomments.json\n",
      "{'ask', 'husky', 'rant', 'technology', 'Frugal', 'AskHR', 'AskALawyer', 'AskReddit', 'badroommates', 'Apartmentliving', 'whatbugisthis', 'howto', 'Permaculture', 'comics', 'UnethicalLifeProTips', 'teaching', 'antiwork', 'Residency', 'AmItheAsshole', 'Superstonk', 'CleaningTips', 'RealEstate', 'Austin', 'ZeroWaste', 'ThatsInsane', 'askmanagers', 'suspiciouslyspecific', 'namenerds', 'environment', 'ECEProfessionals', 'TrueUnpopularOpinion', 'AITAH', 'HomeMaintenance', 'news', 'suggestmeabook', 'TwoXChromosomes', 'Adulting', 'tech', 'Handwriting', 'harrypotter', 'kindergarten', 'WhitePeopleTwitter', 'mildlyinfuriating', 'realestateinvesting', 'facepalm', 'pics', 'unusual_whales', 'minimalism', 'NoStupidQuestions', 'TwoXPreppers', 'MaliciousCompliance', 'atheism', 'AnythingGoesNews', 'politics', 'FirstTimeHomeBuyer', 'homesecurity', 'WitchesVsPatriarchy', 'interestingasfuck', 'legal', 'lifehacks', 'explainlikeimfive', 'personalfinance', 'simpleliving', 'CasualConversation', 'homeowners', 'pcmasterrace', 'Construction', 'careeradvice', 'HomeImprovement', 'books', 'JUSTNOMIL', 'tifu', 'jobs', 'clevercomebacks', 'AdviceAnimals', 'nursing', 'vegetablegardening', 'AustinGardening', 'BlueskySocial', 'amiwrong', 'LifeProTips', 'therewasanattempt', 'PersonalFinanceCanada', 'YouShouldKnow', 'PharmacyTechnician', 'CPS'}\n"
     ]
    },
    {
     "name": "stderr",
     "output_type": "stream",
     "text": [
      "Scraping user comments:   1%|          | 315/29911 [1:11:33<125:49:14, 15.30s/it]"
     ]
    },
    {
     "name": "stdout",
     "output_type": "stream",
     "text": [
      "Comments saved to /Users/smutnuri/Documents/UVA/_Projects/Fall24/CBM/CBMRepo/Data/usercomments/814420_usercomments.json\n",
      "{'AITAH', 'books'}\n"
     ]
    },
    {
     "name": "stderr",
     "output_type": "stream",
     "text": [
      "Scraping user comments:   1%|          | 316/29911 [1:11:35<92:57:53, 11.31s/it] "
     ]
    },
    {
     "name": "stdout",
     "output_type": "stream",
     "text": [
      "Comments saved to /Users/smutnuri/Documents/UVA/_Projects/Fall24/CBM/CBMRepo/Data/usercomments/824Stoneydraft_usercomments.json\n",
      "{'canada', 'NoStupidQuestions', 'worldnews', 'videos', 'mildlyinteresting', 'books', 'technology', 'ThatsInsane', 'Edmonton', 'BlueIris', 'TheLastAirbender', 'AskReddit', 'space', 'Piracy', 'hobbycnc', 'woodworking', 'alberta', 'YesTheory', 'politics', 'Sovol', 'CNC', 'SuicideWatch', 'whatisthisthing', 'onguardforthee', 'Canada_sub', 'comics', 'PersonalFinanceCanada', 'explainlikeimfive', 'funny', 'Winnipeg', 'DIY', 'AmItheAsshole', 'mildlyinfuriating', 'AndroidGaming', 'Onshape'}\n"
     ]
    },
    {
     "name": "stderr",
     "output_type": "stream",
     "text": [
      "Scraping user comments:   1%|          | 317/29911 [1:11:45<90:42:04, 11.03s/it]"
     ]
    },
    {
     "name": "stdout",
     "output_type": "stream",
     "text": [
      "Comments saved to /Users/smutnuri/Documents/UVA/_Projects/Fall24/CBM/CBMRepo/Data/usercomments/82shadesofgrey_usercomments.json\n",
      "{'trump', 'television', 'facepalm', 'blackjack', 'EvilTV', 'BSG', 'gaming', 'NoStupidQuestions', 'worldnews', 'videos', 'DocMartin', 'AbruptChaos', 'Damnthatsinteresting', 'RomanHistory', 'books', 'ThomasCovenant', 'tvPlus', 'Alonetv', 'Dodgers', 'AskFoodHistorians', 'SugarAppleTV', 'Audi', 'RetroBowl', 'borderlands3', 'HighStrangeness', 'Borderlands2', 'TPWKY', 'StupidFood', 'apple', 'technology', 'Guitar', 'tolkienfans', 'gadgets', 'arcane', 'StarWarsAndor', 'angelsbaseball', 'AskReddit', 'OldSchoolCool', 'dancarlin', 'AskHistorians', 'HongKong', 'AITAH', 'todayilearned', 'news', 'Archaeology', 'BeAmazed', 'conspiracy', 'Art', 'diabetes', 'baseball', 'LifeProTips', 'FromTVEpix', '49ers', 'RoastMe', 'FanTheories', 'history', 'interestingasfuck', 'ambien', 'IAmA', 'Borderlands', 'PatriotTV', 'explainlikeimfive', 'NonPoliticalTwitter', 'HistoryPorn', 'sennheiser', 'mealtimevideos', 'movies', 'UpliftingNews', 'nfl', 'lotr', 'marvelstudios', 'raiders', 'TheAcolyte'}\n"
     ]
    },
    {
     "name": "stderr",
     "output_type": "stream",
     "text": [
      "Scraping user comments:   1%|          | 318/29911 [1:12:27<167:07:47, 20.33s/it]"
     ]
    },
    {
     "name": "stdout",
     "output_type": "stream",
     "text": [
      "Comments saved to /Users/smutnuri/Documents/UVA/_Projects/Fall24/CBM/CBMRepo/Data/usercomments/831pm_usercomments.json\n",
      "{'Weird', 'television', 'SipsTea', 'Michigan', 'architecture', 'stephenking', 'videos', 'houstonwade', 'Showerthoughts', 'technology', 'StandUpComedy', 'sports', 'economicCollapse', 'RedmiNote13Pro5G', 'Millennials', 'me_irl', 'blursedimages', 'HumansBeingBros', 'meme', 'AskReddit', 'geography', 'bayarea', 'formula1', 'gifs', 'WTF', 'KamalaHarris', 'Catswithjobs', 'MurderedByWords', 'popping', 'PiratedGames', 'the_everything_bubble', 'teslamotors', 'comics', 'UnethicalLifeProTips', 'antiwork', 'Bumperstickers', 'SelfAwarewolves', 'science', 'DIY', 'KidsAreFuckingStupid', 'Pennsylvania', 'youtube', 'ExplainTheJoke', 'marvelstudios', 'MurderedByAOC', 'Chadtopia', 'PeterExplainsTheJoke', 'memes', 'Damnthatsinteresting', 'Futurology', 'johnoliver', 'democrats', 'midlyinteresting', 'ThatsInsane', 'TechPhilippines', 'lego', 'corgi', 'Awww', 'instantkarma', 'europe', 'blueteamsec', 'rareinsults', 'InternetPH', 'aww', 'texas', 'Unexpected', 'Jokes', 'news', 'AITAH', 'nba', 'blackcats', 'Music', 'wisconsin', 'spaceporn', 'baseball', 'u_SecGenSol', 'whenthe', 'nyc', 'ProgrammerHumor', 'Ohio', 'WhitePeopleTwitter', 'SnapshotHistory', 'coolguides', 'suicidebywords', 'AllThatIsInteresting', 'oddlysatisfying', 'pics', 'cursedcomments', 'gaming', 'Georgia', 'justgalsbeingchicks', 'LeopardsAteMyFace', 'EdisonMotors', 'Steam', 'PocoPhones', 'oddlyspecific', 'agedlikemilk', 'gadgets', 'theviralthings', 'DecodingTheGurus', 'OldSchoolCool', 'space', 'minnesota', 'franklloydwright', 'GetMotivated', 'interesting', 'nostalgia', 'atheism', 'AnythingGoesNews', 'politics', 'BrandNewSentence', 'Wellthatsucks', 'TheNightFeeling', 'BeAmazed', 'shittyfoodporn', 'assholedesign', 'delhi', 'AccidentalRenaissance', 'mapporncirclejerk', 'dogpictures', 'WorkReform', 'interestingasfuck', 'TheDonaldTrump2024', 'CyberStuck', 'TerrifyingAsFuck', 'NonPoliticalTwitter', 'BusinessFashion', 'absolutelynotme_irl', 'wicked_edge', 'pcmasterrace', 'blunderyears', 'DesignPorn', 'Philippines', 'PoliticalHumor', 'comedyheaven', 'CuratedTumblr', 'books', 'ShopeePH', 'TikTokCringe', 'tifu', 'ukraine', 'Costco', 'Fauxmoi', 'AnarchyChess', 'AdviceAnimals', 'MadeMeSmile', 'nottheonion', 'mildyinteresting', 'Xiaomi', 'todayilearned', 'shitposting', 'HolUp', 'inthenews', 'LifeProTips', 'teenagers', 'therewasanattempt', 'maybemaybemaybe', 'funnyvideos', 'nextfuckinglevel', 'food', 'PublicFreakout', 'meirl', 'funny', 'YouShouldKnow', 'movies', 'GenZ', 'madlads', 'CrappyDesign'}\n"
     ]
    },
    {
     "name": "stderr",
     "output_type": "stream",
     "text": [
      "Scraping user comments:   1%|          | 319/29911 [1:13:03<205:18:22, 24.98s/it]"
     ]
    },
    {
     "name": "stdout",
     "output_type": "stream",
     "text": [
      "Comments saved to /Users/smutnuri/Documents/UVA/_Projects/Fall24/CBM/CBMRepo/Data/usercomments/83749289740174920_usercomments.json\n",
      "{'leaves', 'holdmyredbull', 'Showerthoughts', 'Mistborn', 'technology', 'Mindfulness', 'fender', 'Funnymemes', 'Frugal', 'likeus', 'TheExpanse', 'meme', 'AskReddit', 'Redditlake', 'cremposting', 'alberta', 'Luthier', 'lordoftherings', 'MurderedByWords', 'askscience', 'NoRulesCalgary', 'Anticonsumption', 'onguardforthee', 'jazzguitar', 'Calgary', 'orcas', 'SelfAwarewolves', 'Stormlight_Archive', 'TrueAtheism', 'canadia', 'TheDepthsBelow', 'FUCKYOUINPARTICULAR', 'KidsAreFuckingStupid', 'DIY', 'guitarpedals', 'Fantasy', 'Banff', 'samharris', 'Bass', 'memes', 'guitars', 'ClassicRock', 'Damnthatsinteresting', 'Futurology', 'nhl', 'ShitAmericansSay', 'AskMen', 'ThatsInsane', 'philosophy', 'LearnGuitar', 'nasa', 'happy', 'lego', 'classicalguitar', 'LSD', 'wholesomememes', 'Throwers', 'Cubers', 'askanatheist', 'NoFap', 'lotrmemes', 'PRSGuitars', 'Psychedelics', 'Unexpected', 'AITAH', 'news', 'atheistmemes', 'Meditation', 'agnostic', 'BassGuitar', 'Music', 'DunderMifflin', 'spaceporn', 'WildernessBackpacking', 'NationalPark', 'camping', 'WhitePeopleTwitter', 'guitarlessons', 'askastronomy', 'mildlyinfuriating', 'lotr', 'facepalm', 'pics', 'confusing_perspective', 'animalsdoingstuff', 'LeopardsAteMyFace', 'BoomersBeingFools', 'brandonsanderson', 'exchristianmemes', 'oddlyspecific', 'nosurf', 'painting', 'cat', 'Prematurecelebration', 'MaliciousCompliance', 'nonononoyes', 'bluesguitarist', 'wholesomebpt', 'GetMotivated', 'atheism', 'BrandNewSentence', 'BeAmazed', 'GuitarAmps', 'MoviesforShrooms', 'Cosmere', 'Astronomy', 'cats', 'interestingasfuck', 'exAdventist', 'CrazyFuckingVideos', 'NonPoliticalTwitter', 'exchristian', 'TheGoodPlace', 'SweatyPalms', 'legocastles', 'HikingAlberta', 'CrazyIdeas', 'FunnyAtheistMemes', 'puzzles', 'AbruptChaos', 'books', 'telecaster', 'NetflixBestOf', 'tifu', 'theoffice', 'Guitar', 'clevercomebacks', 'pic', 'guitarporn', 'AdviceAnimals', 'TalkHeathen', 'dankmemes', 'changemyview', 'ChoosingBeggars', 'everymanshouldknow', 'ANormalDayInRussia', 'HolUp', 'rarepuppers', 'Antitheism', 'LifeProTips', 'IdiotsInCars', 'AcousticGuitar', 'therewasanattempt', 'maybemaybemaybe', 'nextfuckinglevel', 'musicians', 'DebateAnAtheist', 'dashcamgifs', 'meirl', 'PublicFreakout', 'funny', 'KingkillerChronicle', 'movies', 'hockey', 'religiousfruitcake'}\n"
     ]
    },
    {
     "name": "stderr",
     "output_type": "stream",
     "text": [
      "Scraping user comments:   1%|          | 320/29911 [1:13:51<261:33:43, 31.82s/it]"
     ]
    },
    {
     "name": "stdout",
     "output_type": "stream",
     "text": [
      "Comments saved to /Users/smutnuri/Documents/UVA/_Projects/Fall24/CBM/CBMRepo/Data/usercomments/83franks_usercomments.json\n",
      "{'u_throwawayegg52', 'TwoHotTakes', 'witchcraft', 'Anxiety', 'dolcett_fantasy', 'HIMYM', 'NoStupidQuestions', 'sexmemes', 'HairDye', 'tattooadvice', 'SluttyConfessions', 'AskRedditAfterDark', 'MusicRecommendations', 'books', 'Periods', 'AMA', 'DnD', 'goodmythicalmorning', 'MeanGirls', 'whatsthisrock', 'community', 'suspiciouslyspecific', 'theoffice', 'fantasyromance', 'FridgeDetective', 'RandomThoughts', 'TheLastAirbender', 'TNAIM', 'AskWomen', 'AskReddit', 'Daylio', 'offmychest', 'erastour', 'weed', 'Names', 'AITAH', 'BDSMcommunity', 'WhiteLotusHBO', 'Cutters', 'TrueOffMyChest', 'MrBeast', 'BPDmemes', 'DunderMifflin', 'Witch', 'EntitledPeople', 'Cosmetology', 'Comebacks', 'confessions', 'ChargeYourPhone', 'WitchesVsPatriarchy', 'words', 'pettyrevenge', 'booktopia', 'Serverlife', 'relationship_advice', 'pattyanddirk', 'Scrubs', 'meirl', 'folkmagic', 'Dimension20', 'Advice', 'TaylorSwift', 'HypixelSkyblock', 'PandR', 'TooAfraidToAsk', 'mildlyinfuriating', 'abusesurvivors', 'highdeas', 'ScenesFromAHat', 'AmItheAsshole', 'hazbin', 'polls'}\n"
     ]
    },
    {
     "name": "stderr",
     "output_type": "stream",
     "text": [
      "Scraping user comments:   1%|          | 321/29911 [1:14:09<228:47:34, 27.84s/it]"
     ]
    },
    {
     "name": "stdout",
     "output_type": "stream",
     "text": [
      "Comments saved to /Users/smutnuri/Documents/UVA/_Projects/Fall24/CBM/CBMRepo/Data/usercomments/84lele_usercomments.json\n",
      "{'northcounty', 'sandiego', 'books', 'SanDiegan'}\n"
     ]
    },
    {
     "name": "stderr",
     "output_type": "stream",
     "text": [
      "Scraping user comments:   1%|          | 322/29911 [1:14:10<162:35:14, 19.78s/it]"
     ]
    },
    {
     "name": "stdout",
     "output_type": "stream",
     "text": [
      "Comments saved to /Users/smutnuri/Documents/UVA/_Projects/Fall24/CBM/CBMRepo/Data/usercomments/858Librarian_usercomments.json\n"
     ]
    },
    {
     "name": "stderr",
     "output_type": "stream",
     "text": [
      "Scraping user comments:   1%|          | 322/29911 [1:14:14<113:42:41, 13.83s/it]\n"
     ]
    },
    {
     "ename": "TooManyRequests",
     "evalue": "received 429 HTTP response",
     "output_type": "error",
     "traceback": [
      "\u001b[0;31m---------------------------------------------------------------------------\u001b[0m",
      "\u001b[0;31mTooManyRequests\u001b[0m                           Traceback (most recent call last)",
      "Cell \u001b[0;32mIn[25], line 2\u001b[0m\n\u001b[1;32m      1\u001b[0m LIMIT \u001b[38;5;241m=\u001b[39m \u001b[38;5;28;01mNone\u001b[39;00m\n\u001b[0;32m----> 2\u001b[0m \u001b[43mpull_user_comments\u001b[49m\u001b[43m(\u001b[49m\u001b[43musers_list\u001b[49m\u001b[43m,\u001b[49m\u001b[43m \u001b[49m\u001b[43msubreddits\u001b[49m\u001b[43m,\u001b[49m\u001b[43m \u001b[49m\u001b[43mUSERCOMM_SAVEPATH\u001b[49m\u001b[43m,\u001b[49m\u001b[43m \u001b[49m\u001b[43mlimit\u001b[49m\u001b[38;5;241;43m=\u001b[39;49m\u001b[43mLIMIT\u001b[49m\u001b[43m)\u001b[49m\n",
      "Cell \u001b[0;32mIn[23], line 7\u001b[0m, in \u001b[0;36mpull_user_comments\u001b[0;34m(userslist, subreddits, save_basepath, limit)\u001b[0m\n\u001b[1;32m      4\u001b[0m save_file \u001b[38;5;241m=\u001b[39m \u001b[38;5;124mf\u001b[39m\u001b[38;5;124m'\u001b[39m\u001b[38;5;132;01m{\u001b[39;00muser\u001b[38;5;132;01m}\u001b[39;00m\u001b[38;5;124m_usercomments.json\u001b[39m\u001b[38;5;124m'\u001b[39m\n\u001b[1;32m      5\u001b[0m save_path \u001b[38;5;241m=\u001b[39m os\u001b[38;5;241m.\u001b[39mpath\u001b[38;5;241m.\u001b[39mjoin(save_basepath, save_file)\n\u001b[0;32m----> 7\u001b[0m posts \u001b[38;5;241m=\u001b[39m \u001b[43mscraper\u001b[49m\u001b[38;5;241;43m.\u001b[39;49m\u001b[43mscrape_user_political_comments\u001b[49m\u001b[43m(\u001b[49m\u001b[43muser\u001b[49m\u001b[43m,\u001b[49m\u001b[43m \u001b[49m\u001b[43msubreddits\u001b[49m\u001b[43m,\u001b[49m\u001b[43m \u001b[49m\u001b[43mlimit\u001b[49m\u001b[38;5;241;43m=\u001b[39;49m\u001b[43mlimit\u001b[49m\u001b[43m)\u001b[49m\n\u001b[1;32m      9\u001b[0m \u001b[38;5;28;01mwith\u001b[39;00m \u001b[38;5;28mopen\u001b[39m(save_path, \u001b[38;5;124m\"\u001b[39m\u001b[38;5;124mw\u001b[39m\u001b[38;5;124m\"\u001b[39m) \u001b[38;5;28;01mas\u001b[39;00m f:\n\u001b[1;32m     10\u001b[0m     json\u001b[38;5;241m.\u001b[39mdump(posts, f, indent\u001b[38;5;241m=\u001b[39m\u001b[38;5;241m4\u001b[39m)\n",
      "File \u001b[0;32m~/Documents/UVA/_Projects/Fall24/CBM/CBMRepo/src/Reddit Scraper/reddit_scraper.py:60\u001b[0m, in \u001b[0;36mRedditScraper.scrape_user_political_comments\u001b[0;34m(self, username, subreddits, limit)\u001b[0m\n\u001b[1;32m     57\u001b[0m comments_data \u001b[38;5;241m=\u001b[39m []\n\u001b[1;32m     58\u001b[0m \u001b[38;5;66;03m# Print subreddits where the user has commented\u001b[39;00m\n\u001b[0;32m---> 60\u001b[0m \u001b[38;5;28mprint\u001b[39m(\u001b[38;5;28mset\u001b[39m([comment\u001b[38;5;241m.\u001b[39msubreddit\u001b[38;5;241m.\u001b[39mdisplay_name \u001b[38;5;28;01mfor\u001b[39;00m comment \u001b[38;5;129;01min\u001b[39;00m user\u001b[38;5;241m.\u001b[39mcomments\u001b[38;5;241m.\u001b[39mnew(limit\u001b[38;5;241m=\u001b[39mlimit)]))\n\u001b[1;32m     62\u001b[0m \u001b[38;5;66;03m# Iterate through the user's comments\u001b[39;00m\n\u001b[1;32m     63\u001b[0m \u001b[38;5;28;01mfor\u001b[39;00m comment \u001b[38;5;129;01min\u001b[39;00m user\u001b[38;5;241m.\u001b[39mcomments\u001b[38;5;241m.\u001b[39mnew(limit\u001b[38;5;241m=\u001b[39mlimit):  \u001b[38;5;66;03m# `limit=None` fetches all comments\u001b[39;00m\n\u001b[1;32m     64\u001b[0m     \u001b[38;5;66;03m# Filter by political subreddits\u001b[39;00m\n",
      "File \u001b[0;32m~/opt/anaconda3/envs/cbmproj/lib/python3.12/site-packages/praw/models/listing/generator.py:66\u001b[0m, in \u001b[0;36mListingGenerator.__next__\u001b[0;34m(self)\u001b[0m\n\u001b[1;32m     63\u001b[0m     \u001b[38;5;28;01mraise\u001b[39;00m \u001b[38;5;167;01mStopIteration\u001b[39;00m\n\u001b[1;32m     65\u001b[0m \u001b[38;5;28;01mif\u001b[39;00m \u001b[38;5;28mself\u001b[39m\u001b[38;5;241m.\u001b[39m_listing \u001b[38;5;129;01mis\u001b[39;00m \u001b[38;5;28;01mNone\u001b[39;00m \u001b[38;5;129;01mor\u001b[39;00m \u001b[38;5;28mself\u001b[39m\u001b[38;5;241m.\u001b[39m_list_index \u001b[38;5;241m>\u001b[39m\u001b[38;5;241m=\u001b[39m \u001b[38;5;28mlen\u001b[39m(\u001b[38;5;28mself\u001b[39m\u001b[38;5;241m.\u001b[39m_listing):\n\u001b[0;32m---> 66\u001b[0m     \u001b[38;5;28;43mself\u001b[39;49m\u001b[38;5;241;43m.\u001b[39;49m\u001b[43m_next_batch\u001b[49m\u001b[43m(\u001b[49m\u001b[43m)\u001b[49m\n\u001b[1;32m     68\u001b[0m \u001b[38;5;28mself\u001b[39m\u001b[38;5;241m.\u001b[39m_list_index \u001b[38;5;241m+\u001b[39m\u001b[38;5;241m=\u001b[39m \u001b[38;5;241m1\u001b[39m\n\u001b[1;32m     69\u001b[0m \u001b[38;5;28mself\u001b[39m\u001b[38;5;241m.\u001b[39myielded \u001b[38;5;241m+\u001b[39m\u001b[38;5;241m=\u001b[39m \u001b[38;5;241m1\u001b[39m\n",
      "File \u001b[0;32m~/opt/anaconda3/envs/cbmproj/lib/python3.12/site-packages/praw/models/listing/generator.py:90\u001b[0m, in \u001b[0;36mListingGenerator._next_batch\u001b[0;34m(self)\u001b[0m\n\u001b[1;32m     87\u001b[0m \u001b[38;5;28;01mif\u001b[39;00m \u001b[38;5;28mself\u001b[39m\u001b[38;5;241m.\u001b[39m_exhausted:\n\u001b[1;32m     88\u001b[0m     \u001b[38;5;28;01mraise\u001b[39;00m \u001b[38;5;167;01mStopIteration\u001b[39;00m\n\u001b[0;32m---> 90\u001b[0m \u001b[38;5;28mself\u001b[39m\u001b[38;5;241m.\u001b[39m_listing \u001b[38;5;241m=\u001b[39m \u001b[38;5;28;43mself\u001b[39;49m\u001b[38;5;241;43m.\u001b[39;49m\u001b[43m_reddit\u001b[49m\u001b[38;5;241;43m.\u001b[39;49m\u001b[43mget\u001b[49m\u001b[43m(\u001b[49m\u001b[38;5;28;43mself\u001b[39;49m\u001b[38;5;241;43m.\u001b[39;49m\u001b[43murl\u001b[49m\u001b[43m,\u001b[49m\u001b[43m \u001b[49m\u001b[43mparams\u001b[49m\u001b[38;5;241;43m=\u001b[39;49m\u001b[38;5;28;43mself\u001b[39;49m\u001b[38;5;241;43m.\u001b[39;49m\u001b[43mparams\u001b[49m\u001b[43m)\u001b[49m\n\u001b[1;32m     91\u001b[0m \u001b[38;5;28mself\u001b[39m\u001b[38;5;241m.\u001b[39m_listing \u001b[38;5;241m=\u001b[39m \u001b[38;5;28mself\u001b[39m\u001b[38;5;241m.\u001b[39m_extract_sublist(\u001b[38;5;28mself\u001b[39m\u001b[38;5;241m.\u001b[39m_listing)\n\u001b[1;32m     92\u001b[0m \u001b[38;5;28mself\u001b[39m\u001b[38;5;241m.\u001b[39m_list_index \u001b[38;5;241m=\u001b[39m \u001b[38;5;241m0\u001b[39m\n",
      "File \u001b[0;32m~/opt/anaconda3/envs/cbmproj/lib/python3.12/site-packages/praw/util/deprecate_args.py:46\u001b[0m, in \u001b[0;36m_deprecate_args.<locals>.wrapper.<locals>.wrapped\u001b[0;34m(*args, **kwargs)\u001b[0m\n\u001b[1;32m     39\u001b[0m     arg_string \u001b[38;5;241m=\u001b[39m _generate_arg_string(_old_args[: \u001b[38;5;28mlen\u001b[39m(args)])\n\u001b[1;32m     40\u001b[0m     warn(\n\u001b[1;32m     41\u001b[0m         \u001b[38;5;124mf\u001b[39m\u001b[38;5;124m\"\u001b[39m\u001b[38;5;124mPositional arguments for \u001b[39m\u001b[38;5;132;01m{\u001b[39;00mfunc\u001b[38;5;241m.\u001b[39m\u001b[38;5;18m__qualname__\u001b[39m\u001b[38;5;132;01m!r}\u001b[39;00m\u001b[38;5;124m will no longer be\u001b[39m\u001b[38;5;124m\"\u001b[39m\n\u001b[1;32m     42\u001b[0m         \u001b[38;5;124mf\u001b[39m\u001b[38;5;124m\"\u001b[39m\u001b[38;5;124m supported in PRAW 8.\u001b[39m\u001b[38;5;130;01m\\n\u001b[39;00m\u001b[38;5;124mCall this function with \u001b[39m\u001b[38;5;132;01m{\u001b[39;00marg_string\u001b[38;5;132;01m}\u001b[39;00m\u001b[38;5;124m.\u001b[39m\u001b[38;5;124m\"\u001b[39m,\n\u001b[1;32m     43\u001b[0m         \u001b[38;5;167;01mDeprecationWarning\u001b[39;00m,\n\u001b[1;32m     44\u001b[0m         stacklevel\u001b[38;5;241m=\u001b[39m\u001b[38;5;241m2\u001b[39m,\n\u001b[1;32m     45\u001b[0m     )\n\u001b[0;32m---> 46\u001b[0m \u001b[38;5;28;01mreturn\u001b[39;00m \u001b[43mfunc\u001b[49m\u001b[43m(\u001b[49m\u001b[38;5;241;43m*\u001b[39;49m\u001b[38;5;241;43m*\u001b[39;49m\u001b[38;5;28;43mdict\u001b[39;49m\u001b[43m(\u001b[49m\u001b[38;5;28;43mzip\u001b[39;49m\u001b[43m(\u001b[49m\u001b[43m_old_args\u001b[49m\u001b[43m,\u001b[49m\u001b[43m \u001b[49m\u001b[43margs\u001b[49m\u001b[43m)\u001b[49m\u001b[43m)\u001b[49m\u001b[43m,\u001b[49m\u001b[43m \u001b[49m\u001b[38;5;241;43m*\u001b[39;49m\u001b[38;5;241;43m*\u001b[39;49m\u001b[43mkwargs\u001b[49m\u001b[43m)\u001b[49m\n",
      "File \u001b[0;32m~/opt/anaconda3/envs/cbmproj/lib/python3.12/site-packages/praw/reddit.py:731\u001b[0m, in \u001b[0;36mReddit.get\u001b[0;34m(self, path, params)\u001b[0m\n\u001b[1;32m    718\u001b[0m \u001b[38;5;129m@_deprecate_args\u001b[39m(\u001b[38;5;124m\"\u001b[39m\u001b[38;5;124mpath\u001b[39m\u001b[38;5;124m\"\u001b[39m, \u001b[38;5;124m\"\u001b[39m\u001b[38;5;124mparams\u001b[39m\u001b[38;5;124m\"\u001b[39m)\n\u001b[1;32m    719\u001b[0m \u001b[38;5;28;01mdef\u001b[39;00m \u001b[38;5;21mget\u001b[39m(\n\u001b[1;32m    720\u001b[0m     \u001b[38;5;28mself\u001b[39m,\n\u001b[0;32m   (...)\u001b[0m\n\u001b[1;32m    723\u001b[0m     params: \u001b[38;5;28mstr\u001b[39m \u001b[38;5;241m|\u001b[39m \u001b[38;5;28mdict\u001b[39m[\u001b[38;5;28mstr\u001b[39m, \u001b[38;5;28mstr\u001b[39m \u001b[38;5;241m|\u001b[39m \u001b[38;5;28mint\u001b[39m] \u001b[38;5;241m|\u001b[39m \u001b[38;5;28;01mNone\u001b[39;00m \u001b[38;5;241m=\u001b[39m \u001b[38;5;28;01mNone\u001b[39;00m,\n\u001b[1;32m    724\u001b[0m ) \u001b[38;5;241m-\u001b[39m\u001b[38;5;241m>\u001b[39m Any:\n\u001b[1;32m    725\u001b[0m \u001b[38;5;250m    \u001b[39m\u001b[38;5;124;03m\"\"\"Return parsed objects returned from a GET request to ``path``.\u001b[39;00m\n\u001b[1;32m    726\u001b[0m \n\u001b[1;32m    727\u001b[0m \u001b[38;5;124;03m    :param path: The path to fetch.\u001b[39;00m\n\u001b[1;32m    728\u001b[0m \u001b[38;5;124;03m    :param params: The query parameters to add to the request (default: ``None``).\u001b[39;00m\n\u001b[1;32m    729\u001b[0m \n\u001b[1;32m    730\u001b[0m \u001b[38;5;124;03m    \"\"\"\u001b[39;00m\n\u001b[0;32m--> 731\u001b[0m     \u001b[38;5;28;01mreturn\u001b[39;00m \u001b[38;5;28;43mself\u001b[39;49m\u001b[38;5;241;43m.\u001b[39;49m\u001b[43m_objectify_request\u001b[49m\u001b[43m(\u001b[49m\u001b[43mmethod\u001b[49m\u001b[38;5;241;43m=\u001b[39;49m\u001b[38;5;124;43m\"\u001b[39;49m\u001b[38;5;124;43mGET\u001b[39;49m\u001b[38;5;124;43m\"\u001b[39;49m\u001b[43m,\u001b[49m\u001b[43m \u001b[49m\u001b[43mparams\u001b[49m\u001b[38;5;241;43m=\u001b[39;49m\u001b[43mparams\u001b[49m\u001b[43m,\u001b[49m\u001b[43m \u001b[49m\u001b[43mpath\u001b[49m\u001b[38;5;241;43m=\u001b[39;49m\u001b[43mpath\u001b[49m\u001b[43m)\u001b[49m\n",
      "File \u001b[0;32m~/opt/anaconda3/envs/cbmproj/lib/python3.12/site-packages/praw/reddit.py:514\u001b[0m, in \u001b[0;36mReddit._objectify_request\u001b[0;34m(self, data, files, json, method, params, path)\u001b[0m\n\u001b[1;32m    488\u001b[0m \u001b[38;5;28;01mdef\u001b[39;00m \u001b[38;5;21m_objectify_request\u001b[39m(\n\u001b[1;32m    489\u001b[0m     \u001b[38;5;28mself\u001b[39m,\n\u001b[1;32m    490\u001b[0m     \u001b[38;5;241m*\u001b[39m,\n\u001b[0;32m   (...)\u001b[0m\n\u001b[1;32m    496\u001b[0m     path: \u001b[38;5;28mstr\u001b[39m \u001b[38;5;241m=\u001b[39m \u001b[38;5;124m\"\u001b[39m\u001b[38;5;124m\"\u001b[39m,\n\u001b[1;32m    497\u001b[0m ) \u001b[38;5;241m-\u001b[39m\u001b[38;5;241m>\u001b[39m Any:\n\u001b[1;32m    498\u001b[0m \u001b[38;5;250m    \u001b[39m\u001b[38;5;124;03m\"\"\"Run a request through the ``Objector``.\u001b[39;00m\n\u001b[1;32m    499\u001b[0m \n\u001b[1;32m    500\u001b[0m \u001b[38;5;124;03m    :param data: Dictionary, bytes, or file-like object to send in the body of the\u001b[39;00m\n\u001b[0;32m   (...)\u001b[0m\n\u001b[1;32m    511\u001b[0m \n\u001b[1;32m    512\u001b[0m \u001b[38;5;124;03m    \"\"\"\u001b[39;00m\n\u001b[1;32m    513\u001b[0m     \u001b[38;5;28;01mreturn\u001b[39;00m \u001b[38;5;28mself\u001b[39m\u001b[38;5;241m.\u001b[39m_objector\u001b[38;5;241m.\u001b[39mobjectify(\n\u001b[0;32m--> 514\u001b[0m         \u001b[38;5;28;43mself\u001b[39;49m\u001b[38;5;241;43m.\u001b[39;49m\u001b[43mrequest\u001b[49m\u001b[43m(\u001b[49m\n\u001b[1;32m    515\u001b[0m \u001b[43m            \u001b[49m\u001b[43mdata\u001b[49m\u001b[38;5;241;43m=\u001b[39;49m\u001b[43mdata\u001b[49m\u001b[43m,\u001b[49m\n\u001b[1;32m    516\u001b[0m \u001b[43m            \u001b[49m\u001b[43mfiles\u001b[49m\u001b[38;5;241;43m=\u001b[39;49m\u001b[43mfiles\u001b[49m\u001b[43m,\u001b[49m\n\u001b[1;32m    517\u001b[0m \u001b[43m            \u001b[49m\u001b[43mjson\u001b[49m\u001b[38;5;241;43m=\u001b[39;49m\u001b[43mjson\u001b[49m\u001b[43m,\u001b[49m\n\u001b[1;32m    518\u001b[0m \u001b[43m            \u001b[49m\u001b[43mmethod\u001b[49m\u001b[38;5;241;43m=\u001b[39;49m\u001b[43mmethod\u001b[49m\u001b[43m,\u001b[49m\n\u001b[1;32m    519\u001b[0m \u001b[43m            \u001b[49m\u001b[43mparams\u001b[49m\u001b[38;5;241;43m=\u001b[39;49m\u001b[43mparams\u001b[49m\u001b[43m,\u001b[49m\n\u001b[1;32m    520\u001b[0m \u001b[43m            \u001b[49m\u001b[43mpath\u001b[49m\u001b[38;5;241;43m=\u001b[39;49m\u001b[43mpath\u001b[49m\u001b[43m,\u001b[49m\n\u001b[1;32m    521\u001b[0m \u001b[43m        \u001b[49m\u001b[43m)\u001b[49m\n\u001b[1;32m    522\u001b[0m     )\n",
      "File \u001b[0;32m~/opt/anaconda3/envs/cbmproj/lib/python3.12/site-packages/praw/util/deprecate_args.py:46\u001b[0m, in \u001b[0;36m_deprecate_args.<locals>.wrapper.<locals>.wrapped\u001b[0;34m(*args, **kwargs)\u001b[0m\n\u001b[1;32m     39\u001b[0m     arg_string \u001b[38;5;241m=\u001b[39m _generate_arg_string(_old_args[: \u001b[38;5;28mlen\u001b[39m(args)])\n\u001b[1;32m     40\u001b[0m     warn(\n\u001b[1;32m     41\u001b[0m         \u001b[38;5;124mf\u001b[39m\u001b[38;5;124m\"\u001b[39m\u001b[38;5;124mPositional arguments for \u001b[39m\u001b[38;5;132;01m{\u001b[39;00mfunc\u001b[38;5;241m.\u001b[39m\u001b[38;5;18m__qualname__\u001b[39m\u001b[38;5;132;01m!r}\u001b[39;00m\u001b[38;5;124m will no longer be\u001b[39m\u001b[38;5;124m\"\u001b[39m\n\u001b[1;32m     42\u001b[0m         \u001b[38;5;124mf\u001b[39m\u001b[38;5;124m\"\u001b[39m\u001b[38;5;124m supported in PRAW 8.\u001b[39m\u001b[38;5;130;01m\\n\u001b[39;00m\u001b[38;5;124mCall this function with \u001b[39m\u001b[38;5;132;01m{\u001b[39;00marg_string\u001b[38;5;132;01m}\u001b[39;00m\u001b[38;5;124m.\u001b[39m\u001b[38;5;124m\"\u001b[39m,\n\u001b[1;32m     43\u001b[0m         \u001b[38;5;167;01mDeprecationWarning\u001b[39;00m,\n\u001b[1;32m     44\u001b[0m         stacklevel\u001b[38;5;241m=\u001b[39m\u001b[38;5;241m2\u001b[39m,\n\u001b[1;32m     45\u001b[0m     )\n\u001b[0;32m---> 46\u001b[0m \u001b[38;5;28;01mreturn\u001b[39;00m \u001b[43mfunc\u001b[49m\u001b[43m(\u001b[49m\u001b[38;5;241;43m*\u001b[39;49m\u001b[38;5;241;43m*\u001b[39;49m\u001b[38;5;28;43mdict\u001b[39;49m\u001b[43m(\u001b[49m\u001b[38;5;28;43mzip\u001b[39;49m\u001b[43m(\u001b[49m\u001b[43m_old_args\u001b[49m\u001b[43m,\u001b[49m\u001b[43m \u001b[49m\u001b[43margs\u001b[49m\u001b[43m)\u001b[49m\u001b[43m)\u001b[49m\u001b[43m,\u001b[49m\u001b[43m \u001b[49m\u001b[38;5;241;43m*\u001b[39;49m\u001b[38;5;241;43m*\u001b[39;49m\u001b[43mkwargs\u001b[49m\u001b[43m)\u001b[49m\n",
      "File \u001b[0;32m~/opt/anaconda3/envs/cbmproj/lib/python3.12/site-packages/praw/reddit.py:963\u001b[0m, in \u001b[0;36mReddit.request\u001b[0;34m(self, data, files, json, method, params, path)\u001b[0m\n\u001b[1;32m    961\u001b[0m     \u001b[38;5;28;01mraise\u001b[39;00m ClientException(msg)\n\u001b[1;32m    962\u001b[0m \u001b[38;5;28;01mtry\u001b[39;00m:\n\u001b[0;32m--> 963\u001b[0m     \u001b[38;5;28;01mreturn\u001b[39;00m \u001b[38;5;28;43mself\u001b[39;49m\u001b[38;5;241;43m.\u001b[39;49m\u001b[43m_core\u001b[49m\u001b[38;5;241;43m.\u001b[39;49m\u001b[43mrequest\u001b[49m\u001b[43m(\u001b[49m\n\u001b[1;32m    964\u001b[0m \u001b[43m        \u001b[49m\u001b[43mdata\u001b[49m\u001b[38;5;241;43m=\u001b[39;49m\u001b[43mdata\u001b[49m\u001b[43m,\u001b[49m\n\u001b[1;32m    965\u001b[0m \u001b[43m        \u001b[49m\u001b[43mfiles\u001b[49m\u001b[38;5;241;43m=\u001b[39;49m\u001b[43mfiles\u001b[49m\u001b[43m,\u001b[49m\n\u001b[1;32m    966\u001b[0m \u001b[43m        \u001b[49m\u001b[43mjson\u001b[49m\u001b[38;5;241;43m=\u001b[39;49m\u001b[43mjson\u001b[49m\u001b[43m,\u001b[49m\n\u001b[1;32m    967\u001b[0m \u001b[43m        \u001b[49m\u001b[43mmethod\u001b[49m\u001b[38;5;241;43m=\u001b[39;49m\u001b[43mmethod\u001b[49m\u001b[43m,\u001b[49m\n\u001b[1;32m    968\u001b[0m \u001b[43m        \u001b[49m\u001b[43mparams\u001b[49m\u001b[38;5;241;43m=\u001b[39;49m\u001b[43mparams\u001b[49m\u001b[43m,\u001b[49m\n\u001b[1;32m    969\u001b[0m \u001b[43m        \u001b[49m\u001b[43mpath\u001b[49m\u001b[38;5;241;43m=\u001b[39;49m\u001b[43mpath\u001b[49m\u001b[43m,\u001b[49m\n\u001b[1;32m    970\u001b[0m \u001b[43m    \u001b[49m\u001b[43m)\u001b[49m\n\u001b[1;32m    971\u001b[0m \u001b[38;5;28;01mexcept\u001b[39;00m BadRequest \u001b[38;5;28;01mas\u001b[39;00m exception:\n\u001b[1;32m    972\u001b[0m     \u001b[38;5;28;01mtry\u001b[39;00m:\n",
      "File \u001b[0;32m~/opt/anaconda3/envs/cbmproj/lib/python3.12/site-packages/prawcore/sessions.py:328\u001b[0m, in \u001b[0;36mSession.request\u001b[0;34m(self, method, path, data, files, json, params, timeout)\u001b[0m\n\u001b[1;32m    326\u001b[0m     json[\u001b[38;5;124m\"\u001b[39m\u001b[38;5;124mapi_type\u001b[39m\u001b[38;5;124m\"\u001b[39m] \u001b[38;5;241m=\u001b[39m \u001b[38;5;124m\"\u001b[39m\u001b[38;5;124mjson\u001b[39m\u001b[38;5;124m\"\u001b[39m\n\u001b[1;32m    327\u001b[0m url \u001b[38;5;241m=\u001b[39m urljoin(\u001b[38;5;28mself\u001b[39m\u001b[38;5;241m.\u001b[39m_requestor\u001b[38;5;241m.\u001b[39moauth_url, path)\n\u001b[0;32m--> 328\u001b[0m \u001b[38;5;28;01mreturn\u001b[39;00m \u001b[38;5;28;43mself\u001b[39;49m\u001b[38;5;241;43m.\u001b[39;49m\u001b[43m_request_with_retries\u001b[49m\u001b[43m(\u001b[49m\n\u001b[1;32m    329\u001b[0m \u001b[43m    \u001b[49m\u001b[43mdata\u001b[49m\u001b[38;5;241;43m=\u001b[39;49m\u001b[43mdata\u001b[49m\u001b[43m,\u001b[49m\n\u001b[1;32m    330\u001b[0m \u001b[43m    \u001b[49m\u001b[43mfiles\u001b[49m\u001b[38;5;241;43m=\u001b[39;49m\u001b[43mfiles\u001b[49m\u001b[43m,\u001b[49m\n\u001b[1;32m    331\u001b[0m \u001b[43m    \u001b[49m\u001b[43mjson\u001b[49m\u001b[38;5;241;43m=\u001b[39;49m\u001b[43mjson\u001b[49m\u001b[43m,\u001b[49m\n\u001b[1;32m    332\u001b[0m \u001b[43m    \u001b[49m\u001b[43mmethod\u001b[49m\u001b[38;5;241;43m=\u001b[39;49m\u001b[43mmethod\u001b[49m\u001b[43m,\u001b[49m\n\u001b[1;32m    333\u001b[0m \u001b[43m    \u001b[49m\u001b[43mparams\u001b[49m\u001b[38;5;241;43m=\u001b[39;49m\u001b[43mparams\u001b[49m\u001b[43m,\u001b[49m\n\u001b[1;32m    334\u001b[0m \u001b[43m    \u001b[49m\u001b[43mtimeout\u001b[49m\u001b[38;5;241;43m=\u001b[39;49m\u001b[43mtimeout\u001b[49m\u001b[43m,\u001b[49m\n\u001b[1;32m    335\u001b[0m \u001b[43m    \u001b[49m\u001b[43murl\u001b[49m\u001b[38;5;241;43m=\u001b[39;49m\u001b[43murl\u001b[49m\u001b[43m,\u001b[49m\n\u001b[1;32m    336\u001b[0m \u001b[43m\u001b[49m\u001b[43m)\u001b[49m\n",
      "File \u001b[0;32m~/opt/anaconda3/envs/cbmproj/lib/python3.12/site-packages/prawcore/sessions.py:267\u001b[0m, in \u001b[0;36mSession._request_with_retries\u001b[0;34m(self, data, files, json, method, params, timeout, url, retry_strategy_state)\u001b[0m\n\u001b[1;32m    254\u001b[0m     \u001b[38;5;28;01mreturn\u001b[39;00m \u001b[38;5;28mself\u001b[39m\u001b[38;5;241m.\u001b[39m_do_retry(\n\u001b[1;32m    255\u001b[0m         data,\n\u001b[1;32m    256\u001b[0m         files,\n\u001b[0;32m   (...)\u001b[0m\n\u001b[1;32m    264\u001b[0m         url,\n\u001b[1;32m    265\u001b[0m     )\n\u001b[1;32m    266\u001b[0m \u001b[38;5;28;01mif\u001b[39;00m response\u001b[38;5;241m.\u001b[39mstatus_code \u001b[38;5;129;01min\u001b[39;00m \u001b[38;5;28mself\u001b[39m\u001b[38;5;241m.\u001b[39mSTATUS_EXCEPTIONS:\n\u001b[0;32m--> 267\u001b[0m     \u001b[38;5;28;01mraise\u001b[39;00m \u001b[38;5;28mself\u001b[39m\u001b[38;5;241m.\u001b[39mSTATUS_EXCEPTIONS[response\u001b[38;5;241m.\u001b[39mstatus_code](response)\n\u001b[1;32m    268\u001b[0m \u001b[38;5;28;01mif\u001b[39;00m response\u001b[38;5;241m.\u001b[39mstatus_code \u001b[38;5;241m==\u001b[39m codes[\u001b[38;5;124m\"\u001b[39m\u001b[38;5;124mno_content\u001b[39m\u001b[38;5;124m\"\u001b[39m]:\n\u001b[1;32m    269\u001b[0m     \u001b[38;5;28;01mreturn\u001b[39;00m \u001b[38;5;28;01mNone\u001b[39;00m\n",
      "\u001b[0;31mTooManyRequests\u001b[0m: received 429 HTTP response"
     ]
    }
   ],
   "source": [
    "LIMIT = None\n",
    "pull_user_comments(users_list, subreddits, USERCOMM_SAVEPATH, limit=LIMIT)"
   ]
  },
  {
   "cell_type": "markdown",
   "metadata": {},
   "source": [
    "## Post fetch"
   ]
  },
  {
   "cell_type": "code",
   "execution_count": null,
   "metadata": {},
   "outputs": [],
   "source": [
    "# post_url = \"https://www.reddit.com/r/politics/comments/1gc7k0y/bcso_voter_punches_poll_worker_when_reminded/\"\n",
    "\n",
    "# # Retrieve comments\n",
    "# comments = scraper.get_comments_from_post(post_url)\n",
    "\n",
    "# # Save comments to a JSON file\n",
    "# with open(\"../Data/comments_graph.json\", \"w\") as f:\n",
    "#     json.dump(comments, f, indent=4)\n",
    "\n",
    "# print(\"Comments saved to comments.json\")"
   ]
  }
 ],
 "metadata": {
  "kernelspec": {
   "display_name": ".venv",
   "language": "python",
   "name": "python3"
  },
  "language_info": {
   "codemirror_mode": {
    "name": "ipython",
    "version": 3
   },
   "file_extension": ".py",
   "mimetype": "text/x-python",
   "name": "python",
   "nbconvert_exporter": "python",
   "pygments_lexer": "ipython3",
   "version": "3.10.12"
  }
 },
 "nbformat": 4,
 "nbformat_minor": 2
}
