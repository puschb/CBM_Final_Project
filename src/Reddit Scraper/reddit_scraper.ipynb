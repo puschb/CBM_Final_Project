{
 "cells": [
  {
   "cell_type": "code",
   "execution_count": null,
   "metadata": {},
   "outputs": [
    {
     "data": {
      "text/plain": [
       "True"
      ]
     },
     "execution_count": 33,
     "metadata": {},
     "output_type": "execute_result"
    }
   ],
   "source": [
    "import praw\n",
    "import json\n",
    "from datetime import datetime, timezone\n",
    "from dotenv import load_dotenv, dotenv_values \n",
    "\n",
    "from tqdm import tqdm\n",
    "\n",
    "import pandas as pd\n",
    "import os\n",
    "from scraper import RedditScraper\n",
    "load_dotenv()"
   ]
  },
  {
   "cell_type": "code",
   "execution_count": 34,
   "metadata": {},
   "outputs": [],
   "source": [
    "client_id = os.getenv(\"CLIENT_ID\")\n",
    "client_secret=os.getenv(\"CLIENT_SECRET\")\n",
    "user_agent=os.getenv(\"USER_AGENT\")\n",
    "scraper = RedditScraper(client_id, client_secret, user_agent)"
   ]
  },
  {
   "cell_type": "markdown",
   "metadata": {},
   "source": [
    "## User comment fetch"
   ]
  },
  {
   "cell_type": "code",
   "execution_count": 35,
   "metadata": {},
   "outputs": [],
   "source": [
    "subreddits = [\n",
    "    \"books\"\n",
    "] "
   ]
  },
  {
   "cell_type": "code",
   "execution_count": 36,
   "metadata": {},
   "outputs": [],
   "source": [
    "BASE_DIR = os.path.abspath(os.path.join(os.getcwd(), \"..\", \"..\", \"Data\"))\n",
    "USERLIST_FILEPATH = os.path.join(BASE_DIR, 'Reddit Scrape/unique_users.csv')\n",
    "USERCOMM_SAVEPATH = os.path.join(BASE_DIR, 'usercomments')\n",
    "\n",
    "os.makedirs(USERCOMM_SAVEPATH, exist_ok=True)"
   ]
  },
  {
   "cell_type": "code",
   "execution_count": null,
   "metadata": {},
   "outputs": [
    {
     "name": "stdout",
     "output_type": "stream",
     "text": [
      "10\n"
     ]
    }
   ],
   "source": [
    "users_df = pd.read_csv(USERLIST_FILEPATH)\n",
    "users_list = users_df['user'].tolist()"
   ]
  },
  {
   "cell_type": "code",
   "execution_count": 38,
   "metadata": {},
   "outputs": [],
   "source": [
    "def pull_user_comments(userslist, subreddits, save_basepath):\n",
    "\n",
    "    for user in tqdm(userslist, desc=\"Scraping user comments\"):\n",
    "        save_file = f'{user}_usercomments.json'\n",
    "        save_path = os.path.join(save_basepath, save_file)\n",
    "\n",
    "        posts = scraper.scrape_user_political_comments(user, subreddits)\n",
    "\n",
    "        with open(save_path, \"w\") as f:\n",
    "            json.dump(posts, f, indent=4)\n",
    "\n",
    "        # Print progress for debugging/logging (optional)\n",
    "        print(f\"Comments saved to {save_path}\")"
   ]
  },
  {
   "cell_type": "code",
   "execution_count": null,
   "metadata": {},
   "outputs": [
    {
     "name": "stderr",
     "output_type": "stream",
     "text": [
      "Scraping user comments:   0%|          | 0/29901 [00:00<?, ?it/s]"
     ]
    },
    {
     "name": "stdout",
     "output_type": "stream",
     "text": [
      "{'greentext', 'comedyheaven', 'tumblr', 'LifeProTips', 'memesopdidnotlike', 'Zillennials', 'movies', 'toptalent', 'intermittentfasting', 'starterpacks', 'ihadastroke', 'reactiongifs', 'StrangerThings', 'buffy', 'muacjdiscussion', 'BetterEveryLoop', 'popculturechat', 'TwoXChromosomes', 'NoStupidQuestions', 'DivinityOriginalSin', 'ThatsInsane', 'science', 'confidentlyincorrect', 'PoliticalHumor', 'place', 'TheWayWeWere', 'HolUp', 'TrueOffMyChest', 'Adulting', 'DownvotedToOblivion', 'insanepeoplefacebook', 'criticalrole', 'Futurology', 'awfuleverything', 'nyc', 'AskReddit', 'CozyPlaces', 'AdviceAnimals', 'facepalm', 'oddlysatisfying', 'Whatcouldgowrong', 'IncelTears', 'cursedcomments', 'pcmasterrace', 'wholesomememes', 'antiwork', 'instant_regret', 'newyork', 'gaming', 'WhitePeopleTwitter', 'Piracy', 'RomanceBooks', 'Damnthatsinteresting', 'WatchPeopleDieInside', 'SubredditDrama', 'Showerthoughts', 'NotHowGirlsWork', 'LateStageCapitalism', 'mildlyinteresting', 'itookapicture', 'fansofcriticalrole', 'LeopardsAteMyFace', 'oddlyspecific', 'rareinsults', 'insaneparents', 'HumansBeingBros', 'technology', 'FunnyandSad', 'BaldursGate3', 'PrequelMemes', 'UpliftingNews', 'LongDistance', 'television', 'behindthebastards', 'me_irl', 'MurderedByWords', 'introvert', 'books', 'coolguides', 'confusing_perspective', 'menwritingwomen', 'Blizzard', 'CuratedTumblr', 'TheLastOfUs2', 'Tinder', 'ihavesex', 'LoveIsBlindOnNetflix', 'NintendoSwitch', 'dataisbeautiful', 'trashy', 'LifeSimulators', 'suspiciouslyspecific', 'MakeupLounge', 'AmItheAsshole', 'TheValleyFolk', 'gifs', 'AnimalCrossing', 'origin', 'Fauxmoi', 'Art', 'FriendsofthePod', 'Overwatch', 'inthenews', 'OutOfTheLoop', 'iamatotalpieceofshit', 'madlads', 'gatekeeping', 'Psoriasis', 'ChoosingBeggars', 'meirl', 'Gaming4Gamers', 'fantasyromance', 'cyberpunkgame', 'technicallythetruth', 'funny', 'europe', 'bingingwithbabish', 'eczeMABs', 'clevercomebacks', 'LoveIslandUSA', 'unpopularopinion', 'CrappyDesign', 'whenthe', 'todayilearned', 'assholedesign', 'maybemaybemaybe', 'TikTokCringe', 'comics', 'nottheonion', 'instantkarma', 'KidsAreFuckingStupid', 'Sims3', 'MyTimeAtSandrock', 'memes', 'MovieDetails', 'Yogscast', 'curlyhair', 'wholesomegifs', 'politics', 'BlackPeopleTwitter', 'SelfAwarewolves', 'JustUnsubbed', 'rarepuppers', 'PublicFreakout', 'worldnews', 'pics', 'entertainment', 'FuckYouKaren', 'lgbt', 'Coronavirus', 'notliketheothergirls', 'sadcringe', 'GameDeals', 'Games', 'worldnewsvideo', 'BrandNewSentence', 'blursedimages', 'news', 'newyorkcity', 'therewasanattempt', 'Unexpected', 'LegaciesCW', 'interestingasfuck', 'AnimalsBeingBros', 'eczema', 'aww', 'texts', 'marvelstudios', 'youseeingthisshit', 'InterviewVampire', 'Gamingcirclejerk', 'nevertellmetheodds', 'UFOs', 'tifu', 'videos', 'Music', 'BeautyGuruChatter', 'MadeMeSmile', 'OldSchoolCool', 'oddlyterrifying', 'Wellthatsucks', 'thesims', 'StupidFood', 'Sims4', 'TerrifyingAsFuck', 'ContagiousLaughter', 'MakeupAddiction', 'muacirclejerk', 'Eyebleach', 'mildlyinfuriating', 'nextfuckinglevel'}\n"
     ]
    },
    {
     "name": "stderr",
     "output_type": "stream",
     "text": [
      "Scraping user comments:   0%|          | 1/29901 [00:32<272:02:42, 32.75s/it]"
     ]
    },
    {
     "name": "stdout",
     "output_type": "stream",
     "text": [
      "Comments saved to /Users/smutnuri/Documents/UVA/_Projects/Fall24/CBM/CBMRepo/Data/usercomments/-BetchPLZ_usercomments.json\n",
      "{'mtg', 'notinteresting', 'Jungle_Mains', 'greentext', 'tumblr', 'Funnymemes', 'LifeProTips', 'gadgets', 'EDH', 'AITAH', 'college', 'starterpacks', 'terriblefacebookmemes', 'fuckcars', 'ADCMains', 'NoStupidQuestions', 'MTGO', 'science', 'chess', 'Anticonsumption', '196', 'LinusTechTips', 'Adulting', 'DownvotedToOblivion', 'MarkMyWords', 'yugioh', 'ProgrammerHumor', 'nvidia', 'redditmoment', 'AskReddit', 'AMA', 'ModernMagic', 'stunfisk', 'SSBPM', 'facepalm', 'Whatcouldgowrong', 'cats', 'The10thDentist', 'CollegeRant', 'pcmasterrace', 'TopCharacterDesigns', 'BikiniBottomTwitter', 'grayandwhitecats', 'gaming', 'WhitePeopleTwitter', 'WatchPeopleDieInside', 'adventofcode', 'buildapc', 'Damnthatsinteresting', 'esports', 'cardgames', 'magicTCG', 'mildlyinteresting', 'nostalgia', 'geography', 'rareinsults', 'smashbros', 'shitposting', 'technology', 'kaisamains', 'CompetitiveEDH', 'cscareerquestions', 'ChaosGalaxyTCG', 'TeamfightTactics', 'UpliftingNews', 'CatsBeingCats', 'books', 'coolguides', 'FringeEDH', 'CuratedTumblr', 'BadMtgCombos', 'Presidents', 'MTGmemes', 'jobs', 'csMajors', 'dataisbeautiful', 'MapPorn', 'stupidquestions', 'SmashBrosUltimate', 'SteamedHams', 'ExperiencedDevs', 'spikes', 'KogMawMains', 'nhl', 'TrueUnpopularOpinion', 'learnmath', 'lostredditors', 'meirl', 'LegendsOfRuneterra', 'custommagic', 'dvorak', 'ExplainTheJoke', 'SSBM', 'funny', 'sports', 'MarioKartWii', 'MagicArena', 'LeagueOfMemes', 'Albany', 'LinkedInLunatics', 'sciencememes', 'clevercomebacks', 'unpopularopinion', 'PauperEDH', 'todayilearned', 'whenthe', 'VarusMains', 'TikTokCringe', 'comics', 'ImTheMainCharacter', 'nottheonion', 'hardimages2', 'KidsAreFuckingStupid', 'memes', 'recruitinghell', 'pchelp', 'wholesomegreentext', 'AnarchyChess', 'settmains', 'SipsTea', 'LivestreamFail', 'Teachers', 'politics', 'BlackPeopleTwitter', 'SelfAwarewolves', 'LucianMains', 'worldnews', 'pics', 'careeradvice', 'povertyfinance', 'sadcringe', 'tcgcollecting', 'news', 'ChatGPT', 'kenslifelessons', 'Stepmania', 'MTGSharpieCube', 'AskProfessors', 'mathmemes', 'RandomThoughts', 'youseeingthisshit', 'Gamingcirclejerk', 'japannews', 'GenZ', 'badmathematics', 'leagueoflegends', '2meirl4meirl', 'malelivingspace', 'dashcams', 'Wellthatsucks', 'StupidFood', 'MultiVersus', 'TerrifyingAsFuck', 'dsa', 'mildlyinfuriating', 'Pauper', 'summonerschool'}\n"
     ]
    },
    {
     "name": "stderr",
     "output_type": "stream",
     "text": [
      "Scraping user comments:   0%|          | 2/29901 [00:50<197:21:36, 23.76s/it]"
     ]
    },
    {
     "name": "stdout",
     "output_type": "stream",
     "text": [
      "Comments saved to /Users/smutnuri/Documents/UVA/_Projects/Fall24/CBM/CBMRepo/Data/usercomments/-BunsenBurn-_usercomments.json\n",
      "{'unitedkingdom', 'AskUK', 'books', 'janeausten', 'fantasywriters', 'worldnews', 'knitting', 'CasualUK'}\n"
     ]
    },
    {
     "name": "stderr",
     "output_type": "stream",
     "text": [
      "Scraping user comments:   0%|          | 3/29901 [00:50<109:22:14, 13.17s/it]"
     ]
    },
    {
     "name": "stdout",
     "output_type": "stream",
     "text": [
      "Comments saved to /Users/smutnuri/Documents/UVA/_Projects/Fall24/CBM/CBMRepo/Data/usercomments/-Careless_Expert-_usercomments.json\n",
      "{'InternetIsBeautiful', 'LifeProTips', 'movies', 'gadgets', 'uBlockOrigin', 'Construction', 'Watchexchange', 'iamverybadass', 'Old_Recipes', 'backpacking', 'Documentaries', 'TwoXChromosomes', 'Cartalk', 'blog', 'science', 'Frugal', 'ultraq', 'Futurology', 'Dynavap', 'StonerEngineering', 'AskReddit', 'space', 'Jokes', 'Piracy', 'gaming', 'WaxPens', 'IdiotsInCars', 'Showerthoughts', 'bodyweightfitness', 'roadtrip', 'mildlyinteresting', 'foraging', 'history', 'FLMedicalTrees', 'explainlikeimfive', 'UpliftingNews', 'CannabisHardware', 'television', 'Autos', 'hardwareswap', 'Roadcam', 'AnalogRepair', 'books', 'regularcarreviews', 'analog', 'techsupport', 'dataisbeautiful', 'MapPorn', 'DivineTribeVaporizers', 'microgrowery', 'frugalmalefashion', 'DIY', 'gifs', 'AmateurRoomPorn', 'fightporn', 'Art', 'EatCheapAndHealthy', 'diyaudio', 'VEDC', 'funny', 'personalfinance', 'sports', 'whatisthisthing', 'SeikoMods', 'vandwellers', 'malefashionadvice', 'photography', 'EDCexchange', 'todayilearned', 'trees', 'philosophy', 'GameSale', 'nottheonion', 'AnalogCommunity', 'memes', 'altcannabinoids', 'NewVapeFlowerPot', 'Saionara', 'myog', 'delta8resellers', 'MeatRabbitry', 'worldnews', 'pics', 'motorcycles', 'nosleep', 'creepy', 'nationalparks', 'RoomPorn', 'EDC', 'hempflowers', 'PaMedicalMarijuana', 'CarAV', 'news', 'bedroompop', 'Waxpen', 'ANormalDayInRussia', 'aww', 'educationalgifs', 'vaporents', 'videos', 'architecture', 'tifu', 'climbing', 'Mavica', 'Music', 'stuffyoushouldknow', 'Watches', 'photomarket', 'BoundlessVapes', 'malelivingspace', 'OldSchoolCool', 'Wellthatsucks', 'homestead', 'The_TRVP', 'IndoorGarden', 'NationalPark', 'Drugs', 'listentothis'}\n"
     ]
    },
    {
     "name": "stderr",
     "output_type": "stream",
     "text": [
      "Scraping user comments:   0%|          | 4/29901 [01:21<168:21:11, 20.27s/it]"
     ]
    },
    {
     "name": "stdout",
     "output_type": "stream",
     "text": [
      "Comments saved to /Users/smutnuri/Documents/UVA/_Projects/Fall24/CBM/CBMRepo/Data/usercomments/-Chicago-_usercomments.json\n",
      "{'AdobeIllustrator', 'literature', 'PhotoshopRequest', 'AskUK', 'LateStageCapitalism', 'scifi', 'Games', 'communism', 'justgalsbeingchicks', 'DungeonMasters', 'bobiverse', 'DungeonsAndDragons', 'fixedbytheduet', 'MotionDesign', 'bookscirclejerk', 'NewsAndPolitics', 'clevercomebacks', 'TheDeprogram', 'books', 'thatsInterestingDude', 'grime', 'teaching', 'glasgow', 'GreenAndPleasant', 'AfterEffects', 'Wellthatsucks', 'UbereatsUK', 'fight_disinformation', 'LegalAdviceUK', 'audible', 'antiwork'}\n"
     ]
    },
    {
     "name": "stderr",
     "output_type": "stream",
     "text": [
      "Scraping user comments:   0%|          | 5/29901 [01:23<113:06:59, 13.62s/it]"
     ]
    },
    {
     "name": "stdout",
     "output_type": "stream",
     "text": [
      "Comments saved to /Users/smutnuri/Documents/UVA/_Projects/Fall24/CBM/CBMRepo/Data/usercomments/-ExDee-_usercomments.json\n",
      "{'DC_Cinematic', 'NewsOfTheStupid', 'Funnymemes', 'Oscars', 'PS4', 'movies', 'AITAH', 'flicks', 'legaladvicecanada', 'stalker', 'PeterExplainsTheJoke', 'moviecritic', 'SweatyPalms', 'alberta', 'popculturechat', 'Askpolitics', 'nytimes', 'horror', 'TrueReddit', 'AskACanadian', 'thelastofus', 'TenaciousD', 'MadMax', 'FuckImOld', 'rpg_gamers', 'BeAmazed', 'canada', 'AskReddit', 'AdviceAnimals', 'millenials', 'fightsub', 'facepalm', 'oddlysatisfying', 'space', 'rock', 'pcmasterrace', 'antiwork', 'gamingsuggestions', 'FIlm', 'gaming', 'WhitePeopleTwitter', 'SnyderCut', 'IdlePlanetMiner', 'Damnthatsinteresting', 'askvan', 'mildlyinteresting', 'LeopardsAteMyFace', 'geography', 'oddlyspecific', 'ask', 'rareinsults', 'USNewsHub', 'patientgamers', 'gamernews', 'technology', 'DunderMifflin', 'photocritique', 'midjourney', 'XboxSeriesX', 'television', 'union', 'KeepWriting', 'batman', 'steak', 'me_irl', 'MurderedByWords', 'googledocs', 'seinfeld', 'books', 'notthebeaverton', '911dispatchers', 'rockstar', 'PetPeeves', 'AbandonedPorn', 'A24', 'psychedelicrock', 'Tinder', 'xbox', 'FordFusionEnergi', 'ThelastofusHBOseries', 'comicbookmovies', 'H5N1_AvianFlu', 'Langley', 'marvelmemes', 'WorkReform', 'the_everything_bubble', 'stupidquestions', 'FoodVideoPorn', 'canadian', 'gifs', 'ShoppersDrugMart', 'inthenews', 'Marvel', 'Fancast', 'dalle2', 'GTA6', 'AllThatIsInteresting', 'hypotheticalsituation', 'meirl', 'climate', 'simpsonsshitposting', 'TheSimpsons', 'Manitoba', 'kelowna', 'Letterboxd', 'funny', 'tvPlus', 'CasualUK', 'clevercomebacks', 'RandomQuestion', 'unpopularopinion', 'SlowHorses', 'todayilearned', 'vancouver', 'maybemaybemaybe', 'TikTokCringe', 'nottheonion', 'KidsAreFuckingStupid', 'ItsAllAboutGames', 'interesting', 'ChristopherNolan', 'climatechange', 'law', 'politics', 'IASIP', 'worldnews', 'blankies', 'pics', 'matrix', 'deadpool', 'entertainment', 'shittymoviedetails', 'Simpsons', 'boxoffice', 'MovieLeaksAndRumors', 'creepy', 'joker', 'gamingnews', 'scifi', 'televisionsuggestions', 'news', 'reddeadredemption', 'Doppleganger', 'ontario', 'interestingasfuck', 'ChatGPT', 'onguardforthee', 'StarWars', 'JamesBond', 'RandomThoughts', 'marvelstudios', 'britishcolumbia', 'texts', 'questions', 'LangfordBC', 'nevertellmetheodds', 'GenZ', 'Music', 'stephenking', 'ImaginaryLandscapes', 'MadeMeSmile', 'skeptic', 'OldSchoolCool', 'Millennials', 'southpark', 'videogames', 'UkraineWarVideoReport', 'Longshoremen', 'mildlyinfuriating', 'bald', 'suggestmeabook', 'LeaksAndRumors'}\n"
     ]
    },
    {
     "name": "stderr",
     "output_type": "stream",
     "text": [
      "Scraping user comments:   0%|          | 6/29901 [01:54<161:10:52, 19.41s/it]"
     ]
    },
    {
     "name": "stdout",
     "output_type": "stream",
     "text": [
      "Comments saved to /Users/smutnuri/Documents/UVA/_Projects/Fall24/CBM/CBMRepo/Data/usercomments/-FeistyRabbitSauce-_usercomments.json\n",
      "{'UnethicalLifeProTips', 'Baking', 'AITAH', 'words', 'DesiWeddings', 'gardening', 'NoStupidQuestions', 'weddingplanning', 'Modesto', 'AmItheAsshole', 'books', 'wedding', 'Catmemes', 'BestofRedditorUpdates', 'cakedecorating', 'MagicEye', 'lol', 'AskReddit', 'MonarchButterfly', 'puzzles', 'Gifts', 'AskIndia', 'TwoSentenceComedy', 'OhNoConsequences', 'AmIOverreacting', 'mildlyinfuriating', 'IndoorGarden'}\n"
     ]
    },
    {
     "name": "stderr",
     "output_type": "stream",
     "text": [
      "Scraping user comments:   0%|          | 7/29901 [01:55<111:32:01, 13.43s/it]"
     ]
    },
    {
     "name": "stdout",
     "output_type": "stream",
     "text": [
      "Comments saved to /Users/smutnuri/Documents/UVA/_Projects/Fall24/CBM/CBMRepo/Data/usercomments/-FirstTigerHobbes-_usercomments.json\n",
      "{'notinteresting', 'mildyinteresting', 'golf', 'comedyheaven', 'Cooking', 'Funnymemes', 'LifeProTips', 'NewsOfTheStupid', 'movies', 'AITAH', 'teenagers', 'beauty', 'CringeTikToks', 'starterpacks', 'Asmongold', 'PeterExplainsTheJoke', 'moviecritic', 'CleaningTips', 'SweatyPalms', '30PlusSkinCare', 'popculturechat', 'TwoXChromosomes', 'repost', 'holdmycatnip', 'NoStupidQuestions', 'bitcheswithtaste', 'pettyrevenge', 'science', 'confidentlyincorrect', 'tattoos', 'PoliticalHumor', 'Catnames', 'stonerfood', 'Anticonsumption', 'USPS', 'Adulting', 'FuckImOld', 'BestofRedditorUpdates', 'MyPeopleNeedMe', 'houseplants', 'uberdrivers', 'BeAmazed', 'Futurology', 'AnythingGoesNews', 'AskReddit', 'travisandtaylor', 'delta', 'millenials', 'facepalm', 'cats', 'oddlysatisfying', 'The10thDentist', 'OhNoConsequences', 'AmIOverreacting', 'wholesomememes', 'antiwork', 'gaming', 'WhitePeopleTwitter', 'Damnthatsinteresting', 'Showerthoughts', 'whatsthisbug', 'mildlyinteresting', 'nostalgia', 'oddlyspecific', 'justgalsbeingchicks', 'ask', 'rareinsults', 'AltFashion', 'evilautism', 'badroommates', 'NatureIsFuckingLit', 'loseit', 'HumansBeingBros', 'WhatsWrongWithYourDog', 'DunderMifflin', 'explainlikeimfive', 'mensfashion', 'shittytattoos', 'television', 'AskMen', 'landscaping', 'Catswithjobs', 'self', 'GenX', 'MurderedByWords', 'saltierthankrayt', 'books', 'coolguides', 'CuratedTumblr', 'Tinder', 'orlando', 'FluentInFinance', 'Presidents', 'NameMyCat', 'BORUpdates', 'meme', 'the_everything_bubble', 'trailrunning', 'WitchesVsPatriarchy', 'dataisbeautiful', 'MapPorn', 'MemeVideos', '3Dprinting', 'RoastMe', 'gifs', 'Fauxmoi', 'blunderyears', 'femalelivingspace', 'inthenews', 'EngagementRings', 'amiwrong', 'madlads', 'hurricane', 'NonPoliticalTwitter', 'nhl', 'theydidthemath', 'AllThatIsInteresting', 'hypotheticalsituation', 'ChoosingBeggars', 'meirl', 'TwoHotTakes', 'gameofthrones', 'blackcats', 'technicallythetruth', 'ExplainTheJoke', 'funny', 'weddingshaming', 'TrueCrimeDiscussion', 'CasualUK', 'Costco', 'FindTheSniper', 'florida', 'Nicegirls', 'enlightenment', 'clevercomebacks', 'sciencememes', 'unpopularopinion', 'Xennials', 'todayilearned', 'nextfuckinglevel', 'unusual_whales', 'foundsatan', 'CrappyDesign', 'TikTokCringe', 'comics', 'nottheonion', 'ImTheMainCharacter', 'KidsAreFuckingStupid', 'interesting', 'memes', 'Weird', 'HistoricalCapsule', 'JustGuysBeingDudes', 'Apartmentliving', 'hockey', 'minimalism', 'SipsTea', 'politics', 'declutter', 'BlackPeopleTwitter', 'SelfAwarewolves', 'Teachers', 'Justfuckmyshitup', 'whatisit', 'JoeRogan', 'harrypotter', 'worldnews', 'pics', 'Awww', 'AccidentalRenaissance', 'castiron', 'shittyfoodporn', 'Nails', 'BoomersBeingFools', 'OneOrangeBraincell', 'PetsareAmazing', 'corgi', 'OlderThanYouThinkIAm', 'notliketheothergirls', 'SwiftlyNeutral', 'BrandNewSentence', 'TattooDesigns', 'news', 'ThailandTourism', 'zillowgonewild', 'skyrim', 'Unexpected', 'sewing', 'fixedbytheduet', 'KitchenConfidential', 'HydroHomies', 'interestingasfuck', 'ChatGPT', 'DOG', 'texts', 'wallstreetbets', 'Gamingcirclejerk', 'lifehacks', 'GenZ', 'tifu', 'Music', 'tragedeigh', '2meirl4meirl', 'DisneyWorld', 'malelivingspace', 'tonightsdinner', 'MadeMeSmile', 'Wellthatsucks', 'SnapshotHistory', 'HarryPotterMemes', 'Millennials', 'StupidFood', 'redditonwiki', 'Eyebleach', 'mildlyinfuriating', 'AITA_WIBTA_PUBLIC', 'ATBGE', 'BBQ', 'FuckTedCruz', 'atheism'}\n"
     ]
    },
    {
     "name": "stderr",
     "output_type": "stream",
     "text": [
      "Scraping user comments:   0%|          | 8/29901 [02:08<111:22:07, 13.41s/it]"
     ]
    },
    {
     "name": "stdout",
     "output_type": "stream",
     "text": [
      "Comments saved to /Users/smutnuri/Documents/UVA/_Projects/Fall24/CBM/CBMRepo/Data/usercomments/-GlitterGoblin-_usercomments.json\n",
      "{'AO3', 'lgbt', 'thumbcats', 'RoastMyCat', 'pigeon', 'Cooking', 'africanparents', 'CatDistributionSystem', 'Baking', 'BlackLGBT', 'sphynx', 'coquettesque', 'catpics', 'selectivemutism', 'college', 'pitbulls', 'ABraThatFits', 'Fantasy', 'BostonTerrier', 'icecream', 'longnaturalnails', 'standardissuecat', 'plushies', 'TheSims4Mods', 'Candles', 'punkfashion', 'Genshin_Impact', 'Lovebirds', 'Embroidery', 'ftm', 'snails', 'cowcats', 'airplaneears', 'parrots', 'books', 'meowsertrousers', 'trans', 'fantasywriters', 'frogs', 'heterochromia', 'FTMfemininity', 'Episode', 'dechonkers', 'thesims', 'CozyPlaces', 'AlbedosCreations', 'NameMyCat', 'Sims4', 'cockatiel', 'cats', 'SupermodelCats', 'RATS', 'AskTeachers', 'Choices', 'BooksThatFeelLikeThis', 'CollegeRant', 'CalicoKittys', 'TMPOC', 'AnimalJam', 'suggestmeabook', 'BeardedDragons', 'Nails', 'LoveNikki'}\n"
     ]
    },
    {
     "name": "stderr",
     "output_type": "stream",
     "text": [
      "Scraping user comments:   0%|          | 9/29901 [02:26<121:30:38, 14.63s/it]"
     ]
    },
    {
     "name": "stdout",
     "output_type": "stream",
     "text": [
      "Comments saved to /Users/smutnuri/Documents/UVA/_Projects/Fall24/CBM/CBMRepo/Data/usercomments/-GreyRaven_usercomments.json\n",
      "{'suicidebywords', 'inthenews', 'LateStageCapitalism', 'HonkaiStarRail_leaks', 'Grimdank', 'NonPoliticalTwitter', 'mildlyinteresting', 'AITAH', 'magicTCG', 'LeopardsAteMyFace', 'japanresidents', 'geography', 'PeterExplainsTheJoke', 'news', 'HonkaiStarRail', 'dndnext', 'interestingasfuck', 'fuckcars', 'dndmemes', 'NoStupidQuestions', 'onednd', 'lotr', 'UpliftingNews', 'AskMen', 'Costco', 'Gamingcirclejerk', 'japan', 'pcgaming', 'japannews', 'DuelLinks', 'todayilearned', 'doctorwho', 'books', 'Vocaloid', 'nottheonion', 'DnD', 'Genshin_Impact_Leaks', 'LearnJapanese', 'MinecraftMemes', 'MadeMeSmile', 'memes', 'Wellthatsucks', 'Tinder', 'AnythingGoesNews', 'AskReddit', 'PublicFreakout', 'Tokyo', 'AroAce', 'facepalm', 'SipsTea', 'dataisbeautiful', 'politics', 'MapPorn', 'SelfAwarewolves', 'pcmasterrace', 'Jokes', 'harrypotter', 'worldnews', 'pics', 'gaming', 'WhitePeopleTwitter'}\n"
     ]
    },
    {
     "name": "stderr",
     "output_type": "stream",
     "text": [
      "Scraping user comments:   0%|          | 10/29901 [02:39<118:50:13, 14.31s/it]"
     ]
    },
    {
     "name": "stdout",
     "output_type": "stream",
     "text": [
      "Comments saved to /Users/smutnuri/Documents/UVA/_Projects/Fall24/CBM/CBMRepo/Data/usercomments/-Karakui_usercomments.json\n",
      "{'notinteresting', 'tumblr', 'Funnymemes', 'NewsOfTheStupid', 'movies', 'AITAH', 'toptalent', 'teenagers', 'wholesome', 'cat', 'playstation', 'starterpacks', 'PeterExplainsTheJoke', 'moviecritic', 'Eldenring', 'StartledCats', 'popculturechat', 'squirrels', 'NoStupidQuestions', 'elderscrollsonline', 'ThatsInsane', 'democrats', 'science', 'confidentlyincorrect', 'PoliticalHumor', 'Frugal', 'HumansAreMetal', 'HolUp', 'TrueOffMyChest', 'MortalOnline', 'Adulting', 'gamedev', 'Steam', 'ProgrammerHumor', 'MURICA', 'BeAmazed', 'Futurology', 'AnythingGoesNews', 'AskReddit', 'AdviceAnimals', 'facepalm', 'cats', 'collapse', 'oddlysatisfying', 'OhNoConsequences', 'Whatcouldgowrong', 'cursedcomments', 'pcmasterrace', 'NotMyJob', 'AmIOverreacting', 'wholesomememes', 'antiwork', 'dankmemes', 'IrrationalMadness', 'gaming', 'WhitePeopleTwitter', 'Unity3D', 'WatchPeopleDieInside', 'Damnthatsinteresting', 'popularopinion', 'Showerthoughts', 'ShitPostCrusaders', 'iphone', 'mildlyinteresting', 'MedicalGore', 'nostalgia', 'OnePiece', 'NatureIsFuckingLit', 'ask', 'rareinsults', 'hardware', 'patientgamers', 'amibeingdetained', 'shitposting', 'gamernews', 'criticalblunder', 'technology', 'OUTFITS', 'spiderbro', 'explainlikeimfive', 'shittytattoos', 'aspergers', 'AskMen', 'pcgaming', 'batman', 'self', 'me_irl', 'MurderedByWords', 'books', 'coolguides', 'Helldivers', 'PewdiepieSubmissions', 'medicine', 'FluentInFinance', 'NameMyCat', 'masskillers', 'dataisbeautiful', 'the_everything_bubble', 'MapPorn', 'stupidquestions', 'Money', 'trashy', 'NahOPwasrightfuckthis', 'suspiciouslyspecific', 'gifs', 'WTF', 'fightporn', 'Fauxmoi', 'blunderyears', 'Overwatch', 'MMORPG', 'iamatotalpieceofshit', 'Fallout', 'amiwrong', 'NonPoliticalTwitter', 'AllThatIsInteresting', 'hypotheticalsituation', 'meirl', 'TwoHotTakes', 'MauLer', 'Gaming4Gamers', 'cyberpunkgame', 'Bossfight', 'TheSimpsons', 'amiugly', 'technicallythetruth', 'Letterboxd', 'funny', 'europes', 'europe', 'atheism', 'CasualUK', 'holdmyfeedingtube', 'unitedkingdom', 'unket', 'PS5', 'clevercomebacks', 'unpopularopinion', 'tattooadvice', 'IndieGaming', 'Xennials', 'todayilearned', 'Android', 'maybemaybemaybe', 'TikTokCringe', 'sillybritain', 'nottheonion', 'comics', 'assholedesign', 'KidsAreFuckingStupid', 'memes', 'futurama', 'Weird', 'SipsTea', 'LivestreamFail', 'Idiotswithguns', 'politics', 'JoeRogan', 'PublicFreakout', 'DesignPorn', 'pics', 'OneOrangeBraincell', 'entertainment', 'shittymoviedetails', 'Rich', 'wow', 'scifi', 'notliketheothergirls', 'nononono', 'Games', 'BrandNewSentence', 'autism', 'news', 'photoshopbattles', 'zillowgonewild', 'therewasanattempt', 'Unexpected', 'interestingasfuck', 'ChatGPT', 'StarWars', 'watchpeoplesurvive', 'aww', 'NewsOfTheWeird', 'Genshin_Impact', 'Destiny', 'RandomThoughts', 'texts', 'anime', 'Gamingcirclejerk', 'AbruptChaos', 'CrazyFuckingVideos', 'tifu', 'Music', 'tragedeigh', 'MorbidReality', 'DiWHY', 'MadeMeSmile', 'OldSchoolCool', 'oddlyterrifying', 'Wellthatsucks', 'thesims', 'Millennials', 'StupidFood', 'videogames', 'YouShouldKnow', 'fo4', 'ContagiousLaughter', 'holdmybeer', 'HadToHurt', 'Warframe', 'mildlyinfuriating', 'MakeMeSuffer', 'AITA_WIBTA_PUBLIC', 'fromsoftware', 'nextfuckinglevel'}\n"
     ]
    },
    {
     "name": "stderr",
     "output_type": "stream",
     "text": [
      "Scraping user comments:   0%|          | 11/29901 [02:56<124:16:20, 14.97s/it]"
     ]
    },
    {
     "name": "stdout",
     "output_type": "stream",
     "text": [
      "Comments saved to /Users/smutnuri/Documents/UVA/_Projects/Fall24/CBM/CBMRepo/Data/usercomments/-MacCoy_usercomments.json\n",
      "{'PlusSizeFashion', 'cottagecore', 'PS5', 'adhdwomen', 'AskUK', 'traumatizeThemBack', 'books', 'CongratsLikeImFive', 'Mommit', 'manchester', 'Catholicism', 'words', 'CasualConversation', 'suggestmeabook', 'namenerds', 'ThriftStoreHauls'}\n"
     ]
    },
    {
     "name": "stderr",
     "output_type": "stream",
     "text": [
      "Scraping user comments:   0%|          | 12/29901 [02:57<89:11:09, 10.74s/it] "
     ]
    },
    {
     "name": "stdout",
     "output_type": "stream",
     "text": [
      "Comments saved to /Users/smutnuri/Documents/UVA/_Projects/Fall24/CBM/CBMRepo/Data/usercomments/-MamaGreen-_usercomments.json\n",
      "{'Modellbau', 'myst', 'dwarffortress', 'InternetIsBeautiful', 'csgo', 'totalwar', 'HarryPotterGame', 'LifeProTips', 'ludumdare', 'movies', 'gadgets', 'PcBuild', 'Louisiana', 'Asmongold', 'arbeitsleben', 'German', 'ich_iel', 'Filme', 'Bundesliga', 'Eldenring', 'phantasialand', 'NichtDieTagespresse', 'NoStupidQuestions', 'ARK', 'windows', 'science', 'DragonAgeVeilguard', 'place', 'PathOfExile2', 'Doom', 'halo', 'tja', 'LowSodium2042', 'Spacemarine', 'LinusTechTips', 'MortalKombat', 'gamedev', 'Steam', 'SCCM', 'ProgrammerHumor', 'BinIchDasArschloch', 'hamburg', 'de', 'nvidia', 'Futurology', 'BuckshotRouletteFans', 'AskReddit', 'CounterStrikeDE', 'ThemeParkitect', 'CDProjektRed', 'Finanzen', 'facepalm', 'MonsterHunter', 'doener', 'ffxiv', 'space', 'Laesterschwestern', 'pcmasterrace', 'instant_regret', 'Battlefield', 'germany', 'HuntShowdown', 'gaming', 'buildapc', 'help', 'Showerthoughts', 'schrumpflation', 'Grimdank', 'NoMansSkyTheGame', 'placeDE', 'mildlyinteresting', 'DeepRockGalactic', 'Coldmirror', 'SatisfactoryGame', 'LightNoFireHelloGames', 'SchnitzelVerbrechen', 'HotWheelsunleashed', 'technology', 'history', 'satisfactory', 'BaldursGate3', 'explainlikeimfive', 'IndianGaming', 'midjourney', 'UpliftingNews', 'shittyaskscience', 'television', 'pokemongo', 'DualUniverse', 'rbtv_cj', 'Ratschlag', 'pcgaming', 'FF06B5', 'stellarblade', 'PokemonDe', 'books', 'GoogleMaps', 'Nachrichten', 'Helldivers', 'aberBitteLaminiert', 'WindowsMR', 'WerWieWas', 'Amd', 'dhl_deutsche_post', 'u_SrGrafo', 'LowSodiumCyberpunk', 'rocketbeans', 'MiABinaryStar', 'wikipedia', 'dataisbeautiful', 'MapPorn', 'Wirtschaftsweise', 'PotionCraft', 'gifs', 'Doenerverbrechen', 'classicwow', 'Art', 'GetMotivated', 'unrealengine', 'Seaofthieves', 'Avatar', 'DarkTide', 'Beichtstuhl', 'DeadlockTheGame', 'BattleBitRemastered', 'Windows10', 'meirl', 'CookieClicker', 'tee', 'DeutschePhotovoltaik', 'blenderhelp', 'cyberpunkgame', 'FragReddit', 'berlin_public', 'theguild3', 'funny', 'europe', 'starcitizen', 'sports', 'Staiy', 'PS5', 'unpopularopinion', 'todayilearned', 'Palworld', 'nottheonion', 'baronygame', 'Weird', 'de_IAmA', 'StardewValley', 'spaceengineers', 'gekte', 'AnarchyChess', 'Windows11', 'witcher', 'ichbin40undSchwurbler', 'PSP', 'harrypotter', 'worldnews', 'pics', 'berlin', 'voidtrain', 'Project_Contingency', 'shittymoviedetails', 'ScienceUncensored', 'fuckepic', 'sysadmin', 'creepy', 'Azubis', 'gamingnews', 'kannmandasnochessen', 'PCGamingDE', 'Games', 'talespire', 'news', 'Austria', 'Office365', 'interestingasfuck', 'SteamDeck', 'drehscheibe', 'Warhammer40k', 'spacefrogs', 'marvelstudios', 'de_EDV', 'wallstreetbets', 'valve', 'Gamingcirclejerk', 'zocken', 'Silksong', 'tifu', 'videos', 'Music', 'linux_gaming', 'lastimages', 'Vermintide', 'LiminalSpace', 'MadeMeSmile', 'OldSchoolCool', 'HorusGalaxy', 'GlobalOffensive', 'Energiewirtschaft', 'wortwitzkasse', 'neuralnetworks', 'AmongUs', 'Warframe', 'mildlyinfuriating'}\n"
     ]
    },
    {
     "name": "stderr",
     "output_type": "stream",
     "text": [
      "Scraping user comments:   0%|          | 13/29901 [03:29<142:48:56, 17.20s/it]"
     ]
    },
    {
     "name": "stdout",
     "output_type": "stream",
     "text": [
      "Comments saved to /Users/smutnuri/Documents/UVA/_Projects/Fall24/CBM/CBMRepo/Data/usercomments/-Memnarch-_usercomments.json\n",
      "{'notinteresting', 'FUCKYOUINPARTICULAR', 'tumblr', 'Funnymemes', 'PS4', 'maryland', 'movies', 'gadgets', 'AITAH', 'toptalent', 'apple', 'MiyooMiniStock', 'playstation', 'dumbphones', 'moviecritic', 'Eldenring', 'cartoons', 'popculturechat', 'TwoXChromosomes', 'gamecollecting', 'NoStupidQuestions', 'Seattle', 'retroid', 'ThatsInsane', 'GalaxyS21', 'nintendo', 'science', 'Hololive', 'Legoleak', 'UNBGBBIIVCHIDCTIICBG', 'Animemes', 'Schaffrillas', 'NatureIsFuckingCute', 'HolUp', 'thelastofus', 'hellsomememes', 'doctorwho', 'Steam', 'Catmemes', 'HomeDecorating', 'FuckImOld', 'SouthParkSnow', 'awesome', 'BeAmazed', 'ThriftStoreHauls', 'Futurology', 'Onyx_Boox', 'tiltshift', 'AskReddit', 'AMA', 'CozyPlaces', 'VintageFashion', 'VideoGameDealsCanada', 'Gameboy', 'facepalm', 'oddlysatisfying', 'space', 'BobsBurgers', 'cats', 'pcmasterrace', 'InterestingToRead', 'AmIOverreacting', 'amazonprime', 'BikiniBottomTwitter', 'wholesomememes', 'DCcomics', 'TopCharacterDesigns', 'Piracy', 'gaming', 'WhitePeopleTwitter', 'revancedapp', 'WatchPeopleDieInside', 'Damnthatsinteresting', 'SupermanAdventures', 'ThriftGrift', 'California', 'magicTCG', 'mildlyinteresting', 'verizon', 'LeopardsAteMyFace', 'oddlyspecific', 'justgalsbeingchicks', 'ask', 'rareinsults', 'NatureIsFuckingLit', 'me_irlgbt', 'youtube', 'HumansBeingBros', 'Minilego', 'technology', 'galaxyzflip', 'OUTFITS', 'explainlikeimfive', 'PrequelMemes', 'shittytattoos', 'landscaping', 'pcgaming', 'batman', 'me_irl', 'PixelArt', 'MurderedByWords', 'themayormccheese', 'books', 'community', 'CuratedTumblr', 'ANBERNIC', 'Presidents', 'marvelmemes', 'NameMyCat', 'anime_irl', 'NintendoSwitch', 'painting', 'SBCGaming', 'WitchesVsPatriarchy', 'FoodVideoPorn', 'DIY', 'bi_irl', 'Spiderman', 'SonyXperia', 'Hulu', 'Overwatch', 'Woodcarving', 'iamatotalpieceofshit', 'NonPoliticalTwitter', 'meirl', 'gameofthrones', 'animecirclejerk', 'Bossfight', 'MiyooMini', 'blackcats', 'minnesota', 'funny', 'ExpectationVsReality', 'battlestations', 'europe', 'CasualUK', 'Costco', 'TumblrDraws', 'PS5', 'malefashionadvice', 'DisneyPlus', 'IllegallySmolCats', 'clevercomebacks', 'tattooadvice', 'todayilearned', 'Design', 'photography', 'maybemaybemaybe', 'TikTokCringe', 'comics', 'nottheonion', 'ImTheMainCharacter', 'KidsAreFuckingStupid', 'interesting', 'memes', 'futurama', 'manhwa', 'vinyl', 'ZZZ_Official', 'lotrmemes', 'SipsTea', 'stevenuniverse', 'politics', 'pokemon', 'PublicFreakout', 'DesignMyRoom', 'worldnews', 'pics', 'shittyfoodporn', 'shittymoviedetails', 'webcomics', 'lordoftherings', 'Games', 'BrandNewSentence', 'news', 'houstonwade', 'interestingasfuck', 'KitchenConfidential', 'FallenOrder', 'overthegardenwall', 'SteamDeck', 'NovaLauncher', 'FinalFantasy', 'ChatGPT', 'aww', 'StarWars', 'drawing', 'DOG', 'marvelstudios', 'REBubble', 'wallstreetbets', 'Gamingcirclejerk', 'AbruptChaos', 'GenZ', 'videos', 'PiratedGames', 'AbsoluteUnits', 'DnD', 'TheLastAirbender', 'VirtualYoutubers', 'MadeMeSmile', 'OldSchoolCool', 'oddlyterrifying', 'Wellthatsucks', 'lego', 'woahdude', 'Millennials', 'UkraineWarVideoReport', 'FunnyAnimals', 'videogames', 'mainecoons', 'thalassophobia', 'mildlyinfuriating', 'starwarsmemes', 'flipperzero', 'nextfuckinglevel'}\n"
     ]
    },
    {
     "name": "stderr",
     "output_type": "stream",
     "text": [
      "Scraping user comments:   0%|          | 14/29901 [03:41<130:48:18, 15.76s/it]"
     ]
    },
    {
     "name": "stdout",
     "output_type": "stream",
     "text": [
      "Comments saved to /Users/smutnuri/Documents/UVA/_Projects/Fall24/CBM/CBMRepo/Data/usercomments/-PineNeedleTea-_usercomments.json\n",
      "{'inscryption', 'Showerthoughts', 'creepy', 'Seaofthieves', 'movies', 'mildlyinteresting', 'news', 'photoshopbattles', 'royalcaribbean', 'BoomersBeingFools', 'popculturechat', 'Documentaries', 'explainlikeimfive', 'mushroomID', 'science', 'CODZombies', 'personalfinance', 'television', 'sports', 'AskHistory', 'thelastofus', 'RangeRover', 'todayilearned', 'books', 'residentevil', 'bostontrees', 'nottheonion', 'food', 'entertainment', 'mainetrees', 'OldSchoolCool', 'Futurology', 'massachusetts', 'AskReddit', 'DeadSpace', 'collapse', 'space', 'MMA', 'portlandme', 'WoWs_Legends', 'Jokes', 'pics', 'DIY', 'gifs', 'gaming'}\n"
     ]
    },
    {
     "name": "stderr",
     "output_type": "stream",
     "text": [
      "Scraping user comments:   0%|          | 15/29901 [03:59<136:46:58, 16.48s/it]"
     ]
    },
    {
     "name": "stdout",
     "output_type": "stream",
     "text": [
      "Comments saved to /Users/smutnuri/Documents/UVA/_Projects/Fall24/CBM/CBMRepo/Data/usercomments/-Psychonautics-_usercomments.json\n",
      "{'Rabbits', 'longboarding', 'juridischadvies', 'PS4', 'TheWire', 'longboardingDISTANCE', 'itookapicture', 'spaceporn', 'gardening', 'telescope', 'festivals', 'StrangerThings', 'GamingLaptops', 'booksuggestions', 'Bunnies', 'ChatGPT', 'lotr', 'drawing', 'EarthPorn', 'AmateurPhotography', 'antiwork', 'wildcampingintheuk', 'careerguidance', 'LakeDistrict', 'travel', 'books', 'Stargazing', 'miband', 'RedditSessions', 'ghostoftsushima', 'MadeMeSmile', 'oddlyterrifying', 'camping', 'AskReddit', 'HikingEurope', 'UKhiking', 'Ultralight', 'brandonsanderson', 'GalaxyS24', 'suggestmeabook', 'CampingandHiking', 'Bonsai'}\n"
     ]
    },
    {
     "name": "stderr",
     "output_type": "stream",
     "text": [
      "Scraping user comments:   0%|          | 16/29901 [04:01<99:47:25, 12.02s/it] "
     ]
    },
    {
     "name": "stdout",
     "output_type": "stream",
     "text": [
      "Comments saved to /Users/smutnuri/Documents/UVA/_Projects/Fall24/CBM/CBMRepo/Data/usercomments/-RIST-_usercomments.json\n",
      "{'neilgaiman', 'TheAcolyte', 'AskAstrologers', 'Showerthoughts', 'pern', 'wow', 'creepy', 'askteenboys', 'scifi', 'Sense8', 'mythology', 'Jhereg', 'Wicca', 'AITAH', 'teenagers', 'rant', 'swtor', 'StarWarsCantina', 'dune', 'Anarchy101', 'Fantasy', 'antinatalism2', 'TwoXChromosomes', 'genewolfe', 'NoStupidQuestions', 'Tudorhistory', 'explainlikeimfive', 'StarWars', 'HistoricalCostuming', 'TheSims4Mods', 'GreekMythology', 'aww', 'okbuddycinephile', 'Wattpad', 'questions', 'anathem', 'TalesoftheCity', 'GenZ', 'goth', 'nealstephenson', 'books', 'Adulting', 'DnD', 'Sims3', 'tolkienfans', 'vtm', 'DowntonAbbey', 'AskReddit', 'WoWRolePlay', 'thesims', 'witchcraft', 'AskHistorians', 'Sims4', 'warcraftlore', 'andor', 'thesims4', 'tarot', 'space', 'DemonolatryPractices', 'BadRPerStories', 'thelema', 'stupidquestions', 'Tarotpractices', 'AmItheAsshole', 'atheism'}\n"
     ]
    },
    {
     "name": "stderr",
     "output_type": "stream",
     "text": [
      "Scraping user comments:   0%|          | 17/29901 [04:17<109:08:52, 13.15s/it]"
     ]
    },
    {
     "name": "stdout",
     "output_type": "stream",
     "text": [
      "Comments saved to /Users/smutnuri/Documents/UVA/_Projects/Fall24/CBM/CBMRepo/Data/usercomments/-RedRocket-_usercomments.json\n",
      "{'somethingiswrong2024', 'tumblr', 'AITAH', 'moviecritic', 'booksuggestions', 'paganism', 'blackladies', 'TwoXChromosomes', 'popculturechat', 'fossilid', 'HistoricalRomance', 'tinyanimalsonfingers', 'DuggarsSnark', 'ConjureRootworkHoodoo', 'AskReddit', 'pagan', 'YAwriters', 'cats', 'KindleVella', 'antiwork', 'FanFiction', 'tamagotchi', 'RomanceBooks', 'whatsthatbook', 'polytheism', 'Milwaukie', 'FuckPierre', 'MyFahlo', 'Defeat_Project_2025', 'RomanceWriters', 'conservativeterrorism', 'Aquariums', 'Portland', 'Lovecraft', 'BenignExistence', 'FundieSnarkUncensored', 'introvert', 'books', 'Meditation', 'DarkRomance', 'nanowrimo', 'WitchesVsPatriarchy', 'Hellenism', 'SantaMuerte', 'ZeroCovidCommunity', 'AmItheAsshole', 'cryptids', 'awwnverts', 'fantasyromance', 'learntodraw', 'gigapets', 'religion', 'writers', 'selfpublishing', 'selfpublish', 'ArtTheClownEverything', 'IllegallySmolCats', 'TikTokCringe', 'TheSecondTerm', 'writing', 'StardewValley', 'Fairycore', 'Inkitt', 'AlphaNovel', 'skyrim', 'bettafish', 'OptimistsUnite', 'GODZILLA', 'onguardforthee', 'aww', 'Wattpad', 'WelcomeToGilead', 'KingOfTheHill', 'fantasywriters', 'snakes', 'YAlit', 'NOAA', 'ArtistHate', 'suggestmeabook'}\n"
     ]
    },
    {
     "name": "stderr",
     "output_type": "stream",
     "text": [
      "Scraping user comments:   0%|          | 18/29901 [04:34<118:29:08, 14.27s/it]"
     ]
    },
    {
     "name": "stdout",
     "output_type": "stream",
     "text": [
      "Comments saved to /Users/smutnuri/Documents/UVA/_Projects/Fall24/CBM/CBMRepo/Data/usercomments/-Release-The-Bats-_usercomments.json\n",
      "{'2007scape', 'maryland', 'Cardinals', 'DrawMyTattoo', 'asoiaf', 'wowguilds', 'running', 'Pathfinder2e', 'MarkMyWords', 'managers', 'criticalrole', 'conspiracy', 'AskReddit', 'millenials', 'Cosmere', 'YangForPresidentHQ', 'moderatepolitics', 'UrinatingTree', 'HelloInternet', 'hacking', 'selfimprovement', 'childfree', 'CLG', 'ezraklein', 'TeamfightTactics', 'AskMen', 'pcgaming', 'ravens', 'careerguidance', 'books', 'WFH', 'NintendoSwitch', 'the_everything_bubble', 'neoliberal', 'nfl', 'baseballcirclejerk', 'Cloud9', 'ExperiencedDevs', 'baseball', 'hearthstone', 'Conservative', 'AllThatIsInteresting', 'TrueUnpopularOpinion', 'climate', 'teamliquid', 'fantasyromance', 'funny', 'salesforce', 'battlestations', 'florida', 'malefashionadvice', 'unusual_whales', 'MechanicalKeyboards', 'loreofleague', 'northernlion', 'CasualConversation', 'inflation', 'CGPGrey', 'CompetitiveTFT', 'Layoffs', 'politics', 'robinhobb', 'Fitness', 'worldnews', 'supremecourt', 'wow', 'EDC', 'ironscape', 'orioles', 'news', 'papermario', 'Fantasy', 'OptimistsUnite', 'Destiny', 'Qult_Headquarters', 'REBubble', 'QAnonCasualties', 'talesfromtechsupport', 'leagueoflegends', 'FlyQuest', 'MobileWallpaper', 'fatlogic', 'fantasywriters', 'lexfridman', 'Millennials', 'DadForAMinute'}\n"
     ]
    },
    {
     "name": "stderr",
     "output_type": "stream",
     "text": [
      "Scraping user comments:   0%|          | 19/29901 [04:45<109:43:58, 13.22s/it]"
     ]
    },
    {
     "name": "stdout",
     "output_type": "stream",
     "text": [
      "Comments saved to /Users/smutnuri/Documents/UVA/_Projects/Fall24/CBM/CBMRepo/Data/usercomments/-Rivendare_usercomments.json\n",
      "{'Journaling', 'painting', 'TrueOffMyChest', 'books', 'WarriorCats', 'ImACelebTV'}\n"
     ]
    },
    {
     "name": "stderr",
     "output_type": "stream",
     "text": [
      "Scraping user comments:   0%|          | 20/29901 [04:45<77:53:27,  9.38s/it] "
     ]
    },
    {
     "name": "stdout",
     "output_type": "stream",
     "text": [
      "Comments saved to /Users/smutnuri/Documents/UVA/_Projects/Fall24/CBM/CBMRepo/Data/usercomments/-SillyCat-_usercomments.json\n",
      "{'MissingInPanama', 'MINDSHOCK', 'KremersFroon', 'books', 'CloudPorn', 'AITAH', 'AmyLynnBradley', 'TheBlackList'}\n"
     ]
    },
    {
     "name": "stderr",
     "output_type": "stream",
     "text": [
      "Scraping user comments:   0%|          | 21/29901 [04:46<55:46:17,  6.72s/it]"
     ]
    },
    {
     "name": "stdout",
     "output_type": "stream",
     "text": [
      "Comments saved to /Users/smutnuri/Documents/UVA/_Projects/Fall24/CBM/CBMRepo/Data/usercomments/-SilvaVonBernried-_usercomments.json\n",
      "{'Leduc', 'UnethicalLifeProTips', 'MovieSuggestions', 'NewsOfTheStupid', 'movies', 'AITAH', 'legaladvicecanada', 'moviecritic', 'OntarioGrade12s', 'NoShitSherlock', 'pettyrevenge', 'science', 'tattoos', 'confidentlyincorrect', 'CrazyIdeas', 'masseffect', 'askTO', 'MarkMyWords', 'Necronomipod', 'AutisticWithADHD', 'BeAmazed', 'AnythingGoesNews', 'AskReddit', 'space', 'EdmontonOilers', 'wholesomememes', 'gamingsuggestions', 'gaming', 'WhitePeopleTwitter', 'economicCollapse', 'Damnthatsinteresting', 'UrinatingTree', 'WorkAdvice', 'VictoriaBC', 'mildlyinteresting', 'nostalgia', 'NovaScotia', 'geography', 'StarWarsCantina', 'halifax', 'USNewsHub', 'technology', 'BaldursGate3', 'shittytattoos', 'CreditScore', 'Satisfyingasfuck', 'MurderedByWords', 'audiobooks', 'aliens', 'books', 'notthebeaverton', 'coolguides', 'legal', 'midnightburger', 'askscience', 'BG3', 'jobs', 'Annas_Archive', 'podcasts', 'WitchesVsPatriarchy', 'biology', 'AmItheAsshole', 'cryptids', 'Fauxmoi', 'inthenews', 'OutOfTheLoop', 'Edmonton', 'nhl', 'madlads', 'hypotheticalsituation', 'climate', 'Dogowners', 'minnesota', 'TheSimpsons', 'technicallythetruth', 'Mildlymasseffect', 'funny', 'CBC_Radio', 'clevercomebacks', 'RandomQuestion', 'todayilearned', 'TikTokCringe', 'nanaimo', 'HighStrangeness', 'tolkienfans', 'writing', 'recruitinghell', 'bigfoot', 'hockey', 'climatechange', 'law', 'lotrmemes', 'politics', 'SelfAwarewolves', 'unexpectedfuturama', 'worldnews', 'dogs', 'pics', 'BoomersBeingFools', 'entertainment', 'PhotoshopRequest', 'timetravel', 'DadForAMinute', 'UAP', 'scifi', 'lordoftherings', 'johnoliver', 'OopsThatsDeadly', 'jasper', 'autism', 'Salary', 'Midst', 'news', 'Fantasy', 'houstonwade', 'Tattoocoverups', 'ontario', 'interestingasfuck', 'FinalFantasy', 'itcouldhappenhere', 'onguardforthee', 'aww', 'lotr', 'DOG', 'Bumperstickers', 'britishcolumbia', 'questions', 'LangfordBC', 'UFOs', 'Music', 'TorontoRenting', 'mysteriesoftheworld', 'DnD', 'regina', 'audiodrama', 'MadeMeSmile', 'kobo', 'mildlyinfuriating', 'suggestmeabook', 'atheism'}\n"
     ]
    },
    {
     "name": "stderr",
     "output_type": "stream",
     "text": [
      "Scraping user comments:   0%|          | 22/29901 [05:15<111:25:13, 13.42s/it]"
     ]
    },
    {
     "name": "stdout",
     "output_type": "stream",
     "text": [
      "Comments saved to /Users/smutnuri/Documents/UVA/_Projects/Fall24/CBM/CBMRepo/Data/usercomments/-Smaug--_usercomments.json\n",
      "{'Fauxmoi', 'boxoffice', 'totalwar', 'SubredditDrama', 'DC_Cinematic', 'thefighterandthekid', 'doubletoasted', 'SquaredCircle', 'movies', 'ireland', 'Games', 'YMS', 'news', 'Fotv', 'Documentaries', 'Terminator', 'GODZILLA', 'thatHappened', 'whowouldwin', 'UpliftingNews', 'horror', 'europe', 'television', 'transformers', 'TopMindsOfReddit', 'Music', 'todayilearned', 'books', 'Nietzsche', 'nottheonion', 'insanepeoplefacebook', 'anime_titties', 'Futurology', 'SCJerk', 'fistofthenorthstar', 'rickygervais', 'AskReddit', 'MarvelStudiosSpoilers', 'RedLetterMedia', 'LV426', 'JoeRogan', 'PublicFreakout', 'worldnews', 'cringe', 'entertainment'}\n"
     ]
    },
    {
     "name": "stderr",
     "output_type": "stream",
     "text": [
      "Scraping user comments:   0%|          | 23/29901 [05:44<150:18:53, 18.11s/it]"
     ]
    },
    {
     "name": "stdout",
     "output_type": "stream",
     "text": [
      "Comments saved to /Users/smutnuri/Documents/UVA/_Projects/Fall24/CBM/CBMRepo/Data/usercomments/-SneakySnake-_usercomments.json\n",
      "{'BookRecommendations', 'clivebarker', 'Relatable', 'books', 'Atdeadofnight'}\n"
     ]
    },
    {
     "name": "stderr",
     "output_type": "stream",
     "text": [
      "Scraping user comments:   0%|          | 24/29901 [05:44<106:17:22, 12.81s/it]"
     ]
    },
    {
     "name": "stdout",
     "output_type": "stream",
     "text": [
      "Comments saved to /Users/smutnuri/Documents/UVA/_Projects/Fall24/CBM/CBMRepo/Data/usercomments/-Strange_Result-_usercomments.json\n",
      "{'DeathByMillennial', 'mildyinteresting', 'notinteresting', 'MildlyBadDrivers', 'comedyheaven', 'AskUK', 'BucksCountyPA', 'HousingUK', 'NewsOfTheStupid', 'movies', 'fuckHOA', 'AITAH', 'GetNoted', 'PcBuild', 'CringeTikToks', 'BlueskySocial', 'crappymusic', 'PeterExplainsTheJoke', 'reactiongifs', 'Construction', 'moviecritic', 'SweatyPalms', 'Grimsby', 'FirstResponderCringe', 'DecodingTheGurus', 'holdmycatnip', 'fuckcars', 'NoStupidQuestions', 'drywall', 'NoShitSherlock', 'Askpolitics', 'nytimes', 'lazerpig', 'confidentlyincorrect', 'PoliticalHumor', 'holdmycosmo', 'AmazonBudgetFinds', 'StupidMedia', 'funnyvideos', 'funnysigns', 'skinsTV', 'lancaster', 'LinusTechTips', 'GreatBritishMemes', 'MarkMyWords', 'ProgrammerHumor', 'AggressiveInline', 'Irony', 'texas', 'BeAmazed', 'technews', 'AskReddit', 'AnythingGoesNews', 'AdviceAnimals', 'megalophobia', 'oddlysatisfying', 'RATS', 'nextdoor', 'Idaho', 'chemtrails', 'thethickofit', 'pcmasterrace', 'AmIOverreacting', 'antiwork', 'StrangeAndFunny', 'HardVideos', 'WhitePeopleTwitter', 'economicCollapse', 'PantheonMMO', 'Damnthatsinteresting', 'electriccars', 'suicidebywords', 'idiocracy', 'SpottedonRightmove', 'FirstTimeHomeBuyer', 'amateur_boxing', 'mildlyinteresting', 'UnitedAssociation', 'oddlyspecific', 'justgalsbeingchicks', 'rareinsults', 'badroommates', 'amibeingdetained', 'blackmagicfuckery', 'factorio', 'ClimbingCircleJerk', 'technology', 'standardissuecat', 'Snorkblot', 'PrequelMemes', 'nononoyes', 'UpliftingNews', 'shittytattoos', 'shittyaskscience', 'TruckerCam', 'television', 'HouseplantsUK', 'union', 'self', 'bestofinternet', 'MurderedByWords', 'books', 'WomenInNews', 'fuckwasps', 'KamalaHarrisMemes', 'PetPeeves', 'glasgow', 'lehighvalley', 'woahthatsinteresting', 'Scotland', 'FluentInFinance', 'NameMyCat', 'punk', 'WorkReform', 'CreationNtheUniverse', 'TwoSentenceHorror', 'OldSkaters', 'MapPorn', 'stupidquestions', 'DotA2', 'biology', 'meme', 'the_everything_bubble', 'MemeVideos', 'bi_irl', 'missouri', 'Fauxmoi', 'inthenews', 'JonStewart', 'MMORPG', 'Foodforthought', 'arcane', 'ClimateShitposting', 'madlads', 'NonPoliticalTwitter', 'orangecats', 'fashion', 'theydidthemath', 'drivingUK', 'gifsthatendtoosoon', 'hypotheticalsituation', 'TwoHotTakes', 'meirl', 'Sovereigncitizen', 'Bossfight', 'sales', 'minnesota', 'technicallythetruth', 'GeeksGamersCommunity', 'Concrete', 'funny', 'ExplainTheJoke', 'FordFiesta', 'Scams', 'sports', 'atheism', 'transformers', 'wisconsin', 'england', 'onionheadlines', 'unitedkingdom', 'ClashOfClans', 'LinkedInLunatics', 'everquest', 'clevercomebacks', 'Nicegirls', 'unpopularopinion', 'tattooadvice', 'unusual_whales', 'todayilearned', 'Xennials', 'maybemaybemaybe', 'TikTokCringe', 'computers', 'sillybritain', 'KidsAreFuckingStupid', 'interesting', 'memes', 'recruitinghell', 'JustGuysBeingDudes', 'Pennsylvania', 'inflation', 'Insulation', 'martialarts', 'Cornwall', 'law', 'AnarchyChess', 'StandUpComedy', 'SipsTea', 'politics', 'CyberStuck', 'pranks', 'kittens', 'BlackPeopleTwitter', 'whatisit', 'rarepuppers', 'JoeRogan', 'Justrolledintotheshop', 'worldnews', 'DidntKnowIWantedThat', 'pics', 'ufc', 'entertainment', 'BoomersBeingFools', 'destiny2', 'Iowa', 'shittymoviedetails', 'impressively', 'indoorbouldering', 'johnoliver', 'u_Channel4_UK', 'worldnewsvideo', 'BrandNewSentence', 'climbergirls', 'NoglaOfficial', 'news', 'pitbulls', 'weeviltime', 'therewasanattempt', 'houstonwade', 'babylonbee', 'Unexpected', 'OptimistsUnite', 'Tattoocoverups', 'interestingasfuck', 'KitchenConfidential', 'bouldering', 'MasterReturns', 'madisonwi', 'SouthDakota', 'ChatGPT', 'okbuddycinephile', 'aww', 'masonry', 'lotr', 'IBEW', 'Contractor', 'RandomThoughts', 'Bumperstickers', 'FacebookScience', 'Rottweiler', 'questions', 'youseeingthisshit', 'Gamingcirclejerk', 'TheMcDojoLife', 'Smilepleasse', 'BrexitMemes', 'u_InnoSupps_Official', 'TuxedoCats', 'DIYUK', 'formuladank', 'DiWHY', 'Ohio', 'dashcams', 'DnD', 'malelivingspace', 'AskMenAdvice', 'MadeMeSmile', 'OldSchoolCool', 'skeptic', 'Wellthatsucks', 'badfacebookmemes', 'NewSkaters', 'perfectlycutscreams', 'HomeMaintenance', 'FunnyAnimals', 'UkraineWarVideoReport', 'ContagiousLaughter', 'blursed_videos', 'Eyebleach', 'mildlyinfuriating', 'Twitter', 'agedlikemilk', 'Plumbing', 'nextfuckinglevel'}\n"
     ]
    },
    {
     "name": "stderr",
     "output_type": "stream",
     "text": [
      "Scraping user comments:   0%|          | 25/29901 [06:14<149:08:26, 17.97s/it]"
     ]
    },
    {
     "name": "stdout",
     "output_type": "stream",
     "text": [
      "Comments saved to /Users/smutnuri/Documents/UVA/_Projects/Fall24/CBM/CBMRepo/Data/usercomments/-SunGazing-_usercomments.json\n",
      "{'TrueSTL', 'Journaling', 'greentext', 'comedyheaven', 'tumblr', 'Workers_And_Resources', 'BucksCountyPA', 'WarhammerMemes', 'BrighterThanCoruscant', 'UtterlyInteresting', 'Zillennials', 'renfaire', 'SomeOrdinaryGmrs', 'EhBuddyHoser', 'AITAH', 'teenagers', 'bisexual', 'osr', 'astramilitarum', 'PeterExplainsTheJoke', 'TheGreatWarChannel', 'starterpacks', 'anarchocommunism', 'SeriousConversation', 'PropagandaPosters', 'cartoons', 'NightLords', 'fuckcars', 'asoiafcirclejerk', 'WhiteScars40K', 'NoStupidQuestions', 'Askpolitics', 'NoShitSherlock', 'Isekai', 'Minecraft', 'satanism', 'democrats', 'Pixar', 'PoliticalHumor', 'Marxism_Memes', 'ImFinnaGoToHell', 'AskHistory', 'fantanoforever', 'Why', 'Animemes', 'dontyouknowwhoiam', 'YesAmericaBad', 'funnysigns', 'evangelionmemes', '196', 'wendys', 'lewronggeneration', 'Adulting', 'mordheim', 'SaltierThanKlaud', 'Terraria', 'NPR', 'massachusetts', 'conspiracy', 'ElderScrolls', 'AskReddit', 'AdviceAnimals', 'mattrose', 'worldbuilding', 'Urbanism', 'USHistory', 'orks', 'space', 'TransportFever2', 'pcmasterrace', 'TopCharacterDesigns', 'antiwork', 'ComedyHell', 'BikiniBottomTwitter', 'Losercity', 'PeopleLiveInCities', 'BanPitBulls', 'casualnintendo', 'Shark_Park', 'economicCollapse', 'WhitePeopleTwitter', 'suicidebywords', 'UnitedNations', 'Metroid', 'Kaiserreich', 'LateStageCapitalism', 'Grimdank', 'HistoryAnimemes', 'antimeme', 'mildlyinteresting', 'HOI4memes', 'evilbuildings', 'readanotherbook', 'chinabad', 'philly', 'rant', 'geography', 'trueratediscussions', 'StarWarsCantina', 'NatureIsFuckingLit', 'rareinsults', 'LeopardsAteMyFace', 'okbuddychicanery', 'blowback', 'animememes', 'shitposting', 'asklatinamerica', 'HistoryWhatIf', 'althistory', 'lebowski', 'explainlikeimfive', 'wholesomeyuri', 'union', 'TheOnion', 'HiTMAN', 'okbuddyvowsh', 'wordington', 'austrian_economics', 'Catswithjobs', 'WestVirginia', 'batman', 'AlternateHistoryHub', 'MurderedByWords', 'NAFO', 'AlzheimersGroup', 'saltierthankrayt', 'TopMindsOfReddit', 'books', 'coolguides', 'Infographics', 'FlamingoFanClub', 'WarhammerFantasy', 'Grey_Knights', 'ProfessorFinance', 'SocialistGaming', 'dccrpg', 'woahthatsinteresting', 'Presidents', 'FluentInFinance', 'imaginarymapscj', 'ComedyCemetery', 'PhilosophyMemes', 'AskHistorians', 'warcraftlore', 'WorkReform', 'gluesniffer', 'youngpeopleyoutube', 'wikipedia', 'humansarespaceorcs', 'MapPorn', 'ZombieSurvivalTactics', 'meme', 'ShermanPosting', 'AskOldPeople', 'bi_irl', 'StarWarsEU', 'classicwow', 'Presidentialpoll', 'AskCanada', 'DemocraticSocialism', 'ClimateShitposting', 'ToddintheShadow', 'OutOfTheLoop', 'Avatar', 'gravityfalls', 'theydidthemath', 'TrueUnpopularOpinion', 'GTA6', 'ModernSocialist', 'WalkableStreets', 'DungeonMeshi', 'SameGrassButGreener', 'hypotheticalsituation', 'Necrontyr', 'lies', 'meirl', 'depressionmemes', 'Hasan_Piker', 'animecirclejerk', 'Quar', 'urbanhellcirclejerk', 'ExplainTheJoke', 'AskMiddleEast', 'europe', 'VaushV', 'wisconsin', 'Switch', 'clevercomebacks', 'ShitLiberalsSay', 'unpopularopinion', 'gmod', 'todayilearned', 'DeathBattleMatchups', 'thanksimcured', 'GTA', 'midtiersuperpowers', 'TikTokCringe', 'comics', 'HistoryMemes', 'KidsAreFuckingStupid', 'BarbaraWalters4Scale', 'Daliban', 'memes', 'recruitinghell', 'HistoricalCapsule', 'Jcole', 'AskAnAmerican', 'futurama', 'KamalaHarris', 'Eddsworld', 'Pennsylvania', 'TESVI', 'tzeentch', 'yimby', 'SipsTea', 'internationalpolitics', 'BlackPeopleTwitter', 'JoeRogan', 'PoliticalCompassMemes', 'AlternateHistoryMemes', 'DesignPorn', 'MarxistCulture', 'pics', 'Tau40K', 'NewVegasMemes', 'shittyfoodporn', 'entertainment', 'midlyinteresting', 'shittymoviedetails', 'georgism', 'SpyxFamily', 'Yugoslavia', 'Simpsons', 'GeoInsider', 'DJ_Peach_Cobbler', 'nickelodeon', 'yurimemes', 'lordoftherings', 'CartiCulture', 'johnoliver', 'decadeology', 'TheCitadel', 'news', 'interestingasfuck', 'seculartalk', 'okbuddycinephile', 'ThunderFromTheSteppe', 'Stonetossingjuice', 'lebanonmemes', 'Warhammer40k', 'dataisugly', 'mendrawingwomen', 'oblivion', 'tf2memes', 'Eldar', 'olympics', 'skyscrapers', 'ImaginaryWarhammer', 'OrphanCrushingMachine', 'ageofsigmar', 'ElfSanWaYaserarenai', 'Detroit', 'KendrickLamar', 'GenZ', 'goodboomerhumor', 'mapporncirclejerk', 'tragedeigh', 'UrbanHell', 'okbuddybaldur', '40kLore', 'minecraftseeds', 'DnD', '4chan', 'OldSchoolCool', 'MiddleEarthMiniatures', 'lego', 'SnapshotHistory', 'badfacebookmemes', 'deliciousindungeon', 'AlternateHistory', 'katawashoujo', 'videogames', 'anime_random', 'UkraineWarVideoReport', 'FatRappers', 'stamps', 'BannedSubs', 'bloodbowl', 'Hiphopcirclejerk', 'RareHistoricalPhotos', 'vexillology', 'Plumbing', 'atheism'}\n"
     ]
    },
    {
     "name": "stderr",
     "output_type": "stream",
     "text": [
      "Scraping user comments:   0%|          | 26/29901 [06:33<152:24:59, 18.37s/it]"
     ]
    },
    {
     "name": "stdout",
     "output_type": "stream",
     "text": [
      "Comments saved to /Users/smutnuri/Documents/UVA/_Projects/Fall24/CBM/CBMRepo/Data/usercomments/-TehTJ-_usercomments.json\n",
      "{'Unity3D', 'shittymoviedetails', 'ImaginaryArchitecture', 'tumblr', 'Marvel', 'osp', 'unrealengine', 'antimeme', 'ShouldIbuythisgame', 'Nightwing_Starfire', 'Piracy', 'fakehistoryporn', 'Eldenring', 'ITCareerQuestions', 'JuJutsuKaisen', 'gamegrumps', 'patientgamers', 'tf2', 'NightwingxOracle', 'AndroidGaming', 'yakuzagames', 'formula1', 'cscareerquestions', 'anime', 'farcry', 'masseffect', 'pcgaming', 'xcloud', 'IllegallySmolCats', 'shittygamedetails', 'ImaginaryCyberpunk', 'AbsoluteUnits', 'books', 'zelda', 'gamedev', 'GamePhysics', 'HistoryMemes', 'ImaginarySliceOfLife', 'ProgrammerHumor', 'xmen', 'ImaginaryInteriors', 'gaming', 'Amoledbackgrounds', 'LowSodiumCyberpunk', 'videogames', 'trippinthroughtime', 'lotrmemes', 'Cyberpunk', 'Eyebleach', 'DCcomics', 'germany', 'comicbooks', 'gamingsuggestions', 'marvelcomics'}\n"
     ]
    },
    {
     "name": "stderr",
     "output_type": "stream",
     "text": [
      "Scraping user comments:   0%|          | 27/29901 [06:51<151:42:53, 18.28s/it]"
     ]
    },
    {
     "name": "stdout",
     "output_type": "stream",
     "text": [
      "Comments saved to /Users/smutnuri/Documents/UVA/_Projects/Fall24/CBM/CBMRepo/Data/usercomments/-TheManWithNoHat-_usercomments.json\n",
      "{'ukraine', 'Damnthatsinteresting', '2westerneurope4u', 'comedyheaven', 'italy', 'NonPoliticalTwitter', 'aiwars', 'gadgets', 'mildlyinteresting', 'Asmongold', 'BlueskySocial', 'NatureIsFuckingLit', 'news', 'ABoringDystopia', 'ArtificialInteligence', 'UsbCHardware', 'meirl', 'YUROP', 'interestingasfuck', 'fuckcars', 'technology', 'ChatGPT', 'HalfLife', 'NonCredibleDefense', 'redrising', 'KotakuInAction', 'science', 'Destiny', 'KerbalSpaceProgram', 'PoliticalHumor', 'europe', 'Gamingcirclejerk', 'VaushV', 'videos', 'clevercomebacks', 'MurderedByWords', 'todayilearned', 'BadHasbara', 'books', 'Steam', 'comics', 'nottheonion', 'EnoughMuskSpam', 'ProgrammerHumor', 'writing', 'memes', 'Futurology', 'FluentInFinance', 'facepalm', 'singularity', 'space', 'nanowrimo', 'IAmTheMainCharacter', 'DotA2', 'BlackPeopleTwitter', 'ArtistHate', 'pcmasterrace', 'CyberStuck', 'neoliberal', 'mildlyinfuriating', 'PoliticalCompassMemes', 'worldnews', 'gaming', 'atheism'}\n"
     ]
    },
    {
     "name": "stderr",
     "output_type": "stream",
     "text": [
      "Scraping user comments:   0%|          | 28/29901 [07:20<177:22:02, 21.37s/it]"
     ]
    },
    {
     "name": "stdout",
     "output_type": "stream",
     "text": [
      "Comments saved to /Users/smutnuri/Documents/UVA/_Projects/Fall24/CBM/CBMRepo/Data/usercomments/-The_Blazer-_usercomments.json\n",
      "{'tumblr', 'indieheads', 'SquaredCircle', 'movies', 'AITAH', 'apple', 'PeterExplainsTheJoke', 'nba', 'Mezcal', 'popculturechat', 'TwoXChromosomes', 'Mavericks', 'NonCredibleDefense', 'ThatsInsane', 'PoliticalHumor', 'fantanoforever', 'whitesox', 'soccer', 'HolUp', 'chess', 'TrueOffMyChest', 'LinusTechTips', 'NewYorkMets', 'tiktokporn', 'ProgrammerHumor', 'lakers', 'BeAmazed', 'WetlanderHumor', 'Nofans', 'facepalm', 'oddlysatisfying', 'Whatcouldgowrong', 'cursedcomments', 'wholesomememes', 'BikiniBottomTwitter', 'dankmemes', 'antiwork', 'Vampireweekend', 'gaming', 'WhitePeopleTwitter', 'AskTrumpSupporters', 'mildlyinteresting', 'Catholicism', 'LeopardsAteMyFace', 'nostalgia', 'rareinsults', 'LAClippers', 'shitposting', 'technology', 'SolarDIY', 'Defeat_Project_2025', 'CFB', 'WoT', 'BaldursGate3', 'lesbians', 'nyjets', 'Satisfyingasfuck', 'MurderedByWords', 'books', 'PoliticalDiscussion', 'hiphopheads', 'coolguides', 'SFGiants', 'CuratedTumblr', 'mac', 'dataisbeautiful', 'MapPorn', 'WitchesVsPatriarchy', 'MMA', 'Dodgers', 'trashy', 'nfl', 'formula1', 'suns', 'ShittyLifeProTips', 'gifs', 'JunoMains', 'Fauxmoi', 'ukraine', 'CollegeBasketball', 'Overwatch', 'baseball', 'Conservative', 'amiwrong', 'GTA6', 'meirl', 'sports', 'TrueCrimeDiscussion', 'clevercomebacks', 'Xennials', 'todayilearned', 'stocks', 'popheads', 'TikTokCringe', 'comics', 'nottheonion', 'fantasybaseball', 'UkrainianConflict', 'memes', 'Weird', 'JustGuysBeingDudes', 'Braves', 'hockey', 'elonmusk', 'baldursgatememes', 'CombatFootage', 'law', 'SipsTea', 'politics', 'Padres', 'BlackPeopleTwitter', 'JoeRogan', 'Israel', 'PublicFreakout', 'worldnews', 'pics', 'ufc', 'Christianity', 'denvernuggets', 'shittymoviedetails', 'Coronavirus', 'news', 'therewasanattempt', 'Unexpected', 'interestingasfuck', 'phillies', 'TwoBestFriendsPlay', 'nbacirclejerk', 'billsimmons', 'wallstreetbets', 'CrazyFuckingVideos', 'Music', 'tragedeigh', '2meirl4meirl', 'Boxing', 'formuladank', 'EnoughMuskSpam', 'ifyoulikeblank', 'tequila', 'MadeMeSmile', 'Wellthatsucks', 'fantasybball', 'UkraineRussiaReport', 'mildlyinfuriating', 'olympics', 'AskConservatives', 'sandiego'}\n"
     ]
    },
    {
     "name": "stderr",
     "output_type": "stream",
     "text": [
      "Scraping user comments:   0%|          | 29/29901 [07:52<203:22:06, 24.51s/it]"
     ]
    },
    {
     "name": "stdout",
     "output_type": "stream",
     "text": [
      "Comments saved to /Users/smutnuri/Documents/UVA/_Projects/Fall24/CBM/CBMRepo/Data/usercomments/-Thick_Solid_Tight-_usercomments.json\n",
      "{'AO3', 'copenhagen', 'AITAH', 'BrandNewSentence', 'YellowstoneShow', 'ask', 'moviecritic', 'meirl', 'subnautica', 'danishlanguage', 'fantasyromance', 'fuckcars', 'BaldursGate3', 'Bones', 'DKbrevkasse', 'RandomThoughts', 'shittytattoos', 'Denmark', 'AmItheAsshole', 'self', 'books', 'The100', 'okbuddybaldur', 'CasualConversation', 'writing', 'AskReddit', 'writingadvice', 'worldbuilding', 'meme', 'pcmasterrace', 'mildlyinfuriating', 'suggestmeabook', 'The100FanficWriters', 'FanFiction', 'gaming'}\n"
     ]
    },
    {
     "name": "stderr",
     "output_type": "stream",
     "text": [
      "Scraping user comments:   0%|          | 30/29901 [07:56<152:21:51, 18.36s/it]"
     ]
    },
    {
     "name": "stdout",
     "output_type": "stream",
     "text": [
      "Comments saved to /Users/smutnuri/Documents/UVA/_Projects/Fall24/CBM/CBMRepo/Data/usercomments/-Thit_usercomments.json\n",
      "{'AITAH', 'NoStupidQuestions', 'lingling40hrs', 'crochet', 'DuggarsSnark', 'crochetpatterns', 'melbourne', 'Advice', 'Cricket', 'OCDmemes', 'AskReddit', 'AMA', 'SuicideBereavement', 'illnessfakers', 'AskAnAustralian', 'facepalm', 'AusMemes', 'cats', 'AskMeAnythingIAnswer', 'NarniaMemes', 'singing', 'wholesomememes', 'detrans', 'XPpen', 'OCPoetry', 'Retconned', 'fuckeatingdisorders', 'ask', 'foodhacks', 'AskPsychiatry', 'CatAdvice', 'StudentNurse', 'shittytattoos', 'EdAnonymousAdults', 'hygiene', 'vce', 'aretheNTsokay', 'ModestDress', 'answers', 'BenignExistence', 'MurderedByWords', 'books', 'PetPeeves', 'OCD', 'EDAnonymous', 'NameMyCat', 'TwoSentenceHorror', 'askpsychology', 'fakedisordercringe', 'FridgeDetective', 'EatCheapAndHealthy', 'Comebacks', 'SuicideWatch', 'MusicRecommendations', 'hypotheticalsituation', 'ChoosingBeggars', 'Productivitycafe', 'depressionmemes', 'EDRecoverySnark', 'blackcats', 'prolife', 'AutismInWomen', 'EDanonymemes', 'extremelyinfuriating', 'writers', 'namenerds', 'Narnia', 'EatingDisorders', 'selfpublish', 'RandomQuestion', 'cookingforbeginners', 'Writer', 'Volumeeating', 'TooAfraidToAsk', 'ImTheMainCharacter', 'grammar', 'writing', 'MadeOfStyrofoam', 'AnorexiaNervosa', 'Names', 'AITH', 'carpenters', 'Teachers', 'Vent', 'SmugIdeologyMan', 'CATHELP', 'OneOrangeBraincell', 'selfharm', 'Anxiety', 'TrueChristian', 'PointlessStories', 'musicsuggestions', 'notliketheothergirls', 'Baking', 'PetAdvice', 'autism', 'aromantic', 'POTS', 'AdultSelfHarm', 'FreeCompliments', 'ABBA', 'RandomThoughts', 'questions', 'bodylanguage', 'videos', 'selfharm_memes', 'tragedeigh', 'musicals', 'NursingAU', 'DiWHY', 'tonightsdinner', 'MadeMeSmile', 'Wellthatsucks', 'StupidFood', 'Pets', 'NameNerdCirclejerk', 'ENGLISH', 'mildlyinfuriating', 'suggestmeabook'}\n"
     ]
    },
    {
     "name": "stderr",
     "output_type": "stream",
     "text": [
      "Scraping user comments:   0%|          | 31/29901 [08:11<144:20:44, 17.40s/it]"
     ]
    },
    {
     "name": "stdout",
     "output_type": "stream",
     "text": [
      "Comments saved to /Users/smutnuri/Documents/UVA/_Projects/Fall24/CBM/CBMRepo/Data/usercomments/-Tricky-Vixen-_usercomments.json\n",
      "{'MealPrepSunday', 'EatCheapAndHealthy', 'Cooking', 'books', 'food'}\n"
     ]
    },
    {
     "name": "stderr",
     "output_type": "stream",
     "text": [
      "Scraping user comments:   0%|          | 32/29901 [08:11<102:04:24, 12.30s/it]"
     ]
    },
    {
     "name": "stdout",
     "output_type": "stream",
     "text": [
      "Comments saved to /Users/smutnuri/Documents/UVA/_Projects/Fall24/CBM/CBMRepo/Data/usercomments/-Trista_usercomments.json\n",
      "{'Songsofconquest', 'darkestdungeon', 'AOW4', 'PS5', 'pathofexile', 'EpicSeven', 'Spacemarine', 'pornID', 'books', 'MechanicalKeyboards', 'MortalKombat', 'bindingofisaac', 'Games', 'seaofstars', 'MadeMeSmile', 'gaming'}\n"
     ]
    },
    {
     "name": "stderr",
     "output_type": "stream",
     "text": [
      "Scraping user comments:   0%|          | 33/29901 [08:12<73:54:35,  8.91s/it] "
     ]
    },
    {
     "name": "stdout",
     "output_type": "stream",
     "text": [
      "Comments saved to /Users/smutnuri/Documents/UVA/_Projects/Fall24/CBM/CBMRepo/Data/usercomments/-Urbish-_usercomments.json\n",
      "{'mtg', 'mildyinteresting', 'notinteresting', 'comedyheaven', 'AskScienceFiction', 'startrekmemes', 'Cooking', 'Funnymemes', 'dadjokes', 'movies', 'ShouldIbuythisgame', 'AITAH', 'fuckHOA', 'terriblefacebookmemes', 'tradgedeigh', 'tabletopgamedesign', 'moviecritic', 'legaladvice', 'Eldenring', 'ironman', 'dndnext', 'BostonTerrier', 'controlgame', 'NoStupidQuestions', 'RPGdesign', 'nothingeverhappens', 'dndmaps', 'confidentlyincorrect', 'PoliticalHumor', 'Spacegirls', 'HelpMeFind', 'retrogaming', 'ComicK', 'cyphersystem', 'TrueCrimePodcasts', 'MarkMyWords', 'massachusetts', 'AskReddit', 'rpg', 'aspiememes', 'AdviceAnimals', 'CoupleMemes', 'boardgamescirclejerk', 'RemoteJobs', 'worldbuilding', 'collapse', 'cats', 'sentinelsmultiverse', 'Jokes', 'StrangeAndFunny', 'antiwork', 'TropicalWeather', 'gamingsuggestions', 'gaming', 'WhitePeopleTwitter', 'OldGodsOfAppalachia', 'Damnthatsinteresting', 'MaliciousCompliance', 'Socialism_101', 'sololeveling', 'LateStageCapitalism', 'mildlyinteresting', 'DeepRockGalactic', 'toogoodtogo', 'LeopardsAteMyFace', 'oddlyspecific', 'geography', 'rareinsults', 'ScarlettJohansson', 'transplant', 'TheExpanse', 'doppelganger', 'technology', 'Snorkblot', 'BaldursGate3', 'OmniscientReader', 'Hobbies', 'behindthebastards', 'DesignDesign', 'MurderedByWords', 'Subaru_Outback', 'books', 'coolguides', 'Decks', 'AskGames', 'CuratedTumblr', 'orlando', 'FluentInFinance', 'ShittyDaystrom', 'ComedyCemetery', 'imaginarymapscj', 'marvelmemes', 'WorkReform', 'CreationNtheUniverse', 'jobs', 'WorldofDankmemes', 'meme', 'stupidquestions', 'comicbooks', 'RoastMe', 'Spiderman', 'dresdenfiles', 'celebscleavage', 'WestPalmBeach', 'EatCheapAndHealthy', 'JonStewart', 'jacksonville', 'Comebacks', 'DiWHYNOT', 'NonPoliticalTwitter', 'theydidthemath', 'AllThatIsInteresting', 'Manhua', 'hypotheticalsituation', 'DungeonMeshi', 'DungeonMasters', 'meirl', 'Sovereigncitizen', 'TheOrville', 'LegendsOfRuneterra', 'RPGcreation', 'custommagic', 'AvatarMemebending', 'godtiersuperpowers', 'ExplainTheJoke', 'funny', 'personalfinance', 'solarpunk', 'superpower', 'whatisthisthing', 'FindTheSniper', 'tipofmytongue', 'FirstTimeHomeBuyer', 'florida', 'LinkedInLunatics', 'clevercomebacks', 'assholedesign', 'maybemaybemaybe', 'TikTokCringe', 'comics', 'KidsAreFuckingStupid', 'writing', 'memes', 'recruitinghell', 'manhwa', 'minimalism', 'FortMyers', 'law', 'budget', 'SipsTea', 'Cyberpunk', 'lotrmemes', 'BlackPeopleTwitter', 'SelfAwarewolves', 'whatisit', 'nerdfighters', 'Tools', 'BoomersBeingFools', 'castiron', 'shittymoviedetails', 'WhiteWolfRPG', 'povertyfinance', 'scifi', 'ExplainAFilmPlotBadly', 'outlier_ai', 'PlateUp', 'BrandNewSentence', 'startrek', 'StandUpWorkshop', 'news', 'therewasanattempt', 'OptimistsUnite', 'interestingasfuck', 'HydroHomies', 'dndmemes', 'smalltownmurder', 'themountaingoats', 'urbancarliving', 'HomeImprovement', 'marvelstudios', 'Gloomhaven', 'questions', 'mtgvorthos', 'lifehacks', 'nevertellmetheodds', 'ItemShop', 'tragedeigh', 'stephenking', 'FoolsBlade', 'okbuddybaldur', 'Doesthisexist', 'fantasywriters', 'DnD', 'cassettefuturism', 'CortexRPG', 'MiddleClassFinance', 'TheLastAirbender', 'MadeMeSmile', 'OldSchoolCool', 'vtm', 'lego', 'hiddenrooms', 'DMAcademy', 'relationship_advice', 'wizardposting', 'ENGLISH', 'redditonwiki', 'traveller', 'mildlyinfuriating', 'starwarsmemes', 'boardgames', 'atheism'}\n"
     ]
    },
    {
     "name": "stderr",
     "output_type": "stream",
     "text": [
      "Scraping user comments:   0%|          | 34/29901 [08:30<96:06:49, 11.59s/it]"
     ]
    },
    {
     "name": "stdout",
     "output_type": "stream",
     "text": [
      "Comments saved to /Users/smutnuri/Documents/UVA/_Projects/Fall24/CBM/CBMRepo/Data/usercomments/-Vogie-_usercomments.json\n",
      "{'lastpodcastontheleft', 'AskScienceFiction', 'NewsOfTheStupid', 'nba', 'Eldenring', 'SweatyPalms', 'popculturechat', 'Documentaries', 'AskChicago', 'horrorlit', 'horror', 'asoiaf', 'soccer', 'IThinkYouShouldLeave', 'ElderScrolls', 'CanadasDragRace', 'CozyPlaces', 'facepalm', 'HistoryPorn', 'oddlysatisfying', 'space', 'WhitePeopleTwitter', 'NotHowGirlsWork', 'pawg', 'electronicmusic', 'UpliftingNews', 'AmericaBad', 'books', 'coolguides', 'deadmalls', 'AskHistorians', 'wikipedia', 'formula1', 'comicbooks', 'DIY', 'Fauxmoi', 'Marvel', 'Fallout', 'dune', 'chicagofood', 'TheSimpsons', 'sports', 'vandwellers', 'todayilearned', 'trees', 'chelseafc', 'nottheonion', 'TrueDetective', 'chicago', 'politics', 'IASIP', 'Anxiety', 'LOTR_on_Prime', 'creepy', 'dragrace', 'news', 'skyrim', 'ChatGPT', 'GlowUps', 'marvelstudios', 'Gamingcirclejerk', 'Watches', 'Monsterverse', 'LiminalSpace', 'OldSchoolCool', 'camping', 'rupaulsdragrace', 'LPOTL', 'urbanexploration', 'MarvelStudiosSpoilers', 'thalassophobia', 'HadToHurt', 'chicagobulls', 'food', 'Drugs', 'Starfield', 'atheism'}\n"
     ]
    },
    {
     "name": "stderr",
     "output_type": "stream",
     "text": [
      "Scraping user comments:   0%|          | 35/29901 [08:43<99:02:07, 11.94s/it]"
     ]
    },
    {
     "name": "stdout",
     "output_type": "stream",
     "text": [
      "Comments saved to /Users/smutnuri/Documents/UVA/_Projects/Fall24/CBM/CBMRepo/Data/usercomments/-VonnegutPunch_usercomments.json\n",
      "{'AmItheAsshole', 'confession', 'moraldilemmas', 'musicsuggestions', 'RoastMe', 'chemistry', 'books', 'amiugly', 'science', 'roastmypet', 'news', 'TwoHotTakes'}\n"
     ]
    },
    {
     "name": "stderr",
     "output_type": "stream",
     "text": [
      "Scraping user comments:   0%|          | 36/29901 [08:44<70:42:35,  8.52s/it]"
     ]
    },
    {
     "name": "stdout",
     "output_type": "stream",
     "text": [
      "Comments saved to /Users/smutnuri/Documents/UVA/_Projects/Fall24/CBM/CBMRepo/Data/usercomments/-WaitWaitDontTellMe_usercomments.json\n",
      "{'MST3K', 'Whatisthis', 'whatsthatbook', 'musicsuggestions', 'ToddintheShadow', 'whatsthisbug', 'Judaism', 'ADHD', 'MusicRecommendations', 'discordapp', 'Productivitycafe', 'Songwriting', 'Inkmaster', 'booksuggestions', 'NoStupidQuestions', 'crochet', 'Klonoa', 'longhair', 'chemhelp', 'musicals', 'hebrew', 'books', 'ToyID', 'CasualConversation', 'AskReddit', 'PCOS', 'dating', 'AdviceForTeens', 'DanielTigerConspiracy', 'brandonsanderson', 'Parenting', 'AmIOverreacting', 'AmItheAsshole'}\n"
     ]
    },
    {
     "name": "stderr",
     "output_type": "stream",
     "text": [
      "Scraping user comments:   0%|          | 37/29901 [08:49<62:43:58,  7.56s/it]"
     ]
    },
    {
     "name": "stdout",
     "output_type": "stream",
     "text": [
      "Comments saved to /Users/smutnuri/Documents/UVA/_Projects/Fall24/CBM/CBMRepo/Data/usercomments/-WeirdFish-_usercomments.json\n",
      "{'ArtJournaling', 'RomanceBooks', 'Journaling', 'collage', 'homemaking', 'maximalism', 'Cooking', 'secretsanta', 'OutOfTheLoop', 'MidlifeMavens', 'femalefashionadvice', 'matheducation', 'dbtselfhelp', 'AYearOfLesMiserables', 'selfimprovement', 'ScienceTeachers', 'questionablecontent', 'zillowgonewild', 'CleaningTips', 'bullcity', 'PlusSizeFashion', 'Old_Recipes', 'chapelhill', 'asmr', 'TrueAskReddit', 'NoBuyDailyCheckIn', 'christmas', 'technology', 'Healthygamergg', 'JournalingIsArt', 'historyteachers', 'blueapron', '2020Challenge', 'Enneagram', 'tipofmytongue', 'nobuy', 'Sleepparalysis', 'bulbasaurmasterrace', 'whole30', 'GenX', 'books', 'oldhagfashion', 'OpenChristian', 'changemyview', 'teaching', 'Noom', 'ThriftStoreHauls', 'AskReddit', 'ELATeachers', 'stopdrinking', 'NorthCarolina', 'AskWomen', 'pointlesslygendered', 'YouShouldKnow', 'Perimenopause', 'GiftIdeas', 'fashionwomens35', 'Teachers', 'GotG', 'delta8', 'ayearofwarandpeace', 'AskWomenOver30', 'triangle', 'findfashion', 'suggestmeabook', '40something'}\n"
     ]
    },
    {
     "name": "stderr",
     "output_type": "stream",
     "text": [
      "Scraping user comments:   0%|          | 38/29901 [09:06<85:19:20, 10.29s/it]"
     ]
    },
    {
     "name": "stdout",
     "output_type": "stream",
     "text": [
      "Comments saved to /Users/smutnuri/Documents/UVA/_Projects/Fall24/CBM/CBMRepo/Data/usercomments/-WhoWasOnceDelight_usercomments.json\n",
      "{'UK_Food', 'AskUK', 'NotHowGirlsWork', 'SquaredCircle', 'Baking', 'AITAH', 'NewHeights', 'sewing', 'CDramaRecs', 'snackexchange', 'weddingplanning', 'Tudorhistory', 'MastCellDiseases', 'weddingshaming', 'Embroidery', 'ShitAmericansSay', 'CasualUK', 'badwomensanatomy', 'books', 'UKfood', 'CDrama', 'UKweddings', 'LegalAdviceUK', 'AmItheAsshole', 'weddingdress'}\n"
     ]
    },
    {
     "name": "stderr",
     "output_type": "stream",
     "text": [
      "Scraping user comments:   0%|          | 39/29901 [09:18<91:09:58, 10.99s/it]"
     ]
    },
    {
     "name": "stdout",
     "output_type": "stream",
     "text": [
      "Comments saved to /Users/smutnuri/Documents/UVA/_Projects/Fall24/CBM/CBMRepo/Data/usercomments/-XiaoSi-_usercomments.json\n",
      "{'Sakartvelo', 'LawSchool', 'books', 'Salzburg', 'learnart', 'StudyInTheNetherlands', 'AskReddit'}\n"
     ]
    },
    {
     "name": "stderr",
     "output_type": "stream",
     "text": [
      "Scraping user comments:   0%|          | 40/29901 [09:19<66:09:52,  7.98s/it]"
     ]
    },
    {
     "name": "stdout",
     "output_type": "stream",
     "text": [
      "Comments saved to /Users/smutnuri/Documents/UVA/_Projects/Fall24/CBM/CBMRepo/Data/usercomments/-_______--_________-_usercomments.json\n",
      "{'DragonageOrigins', 'TheLegendOfVoxMachina', 'AO3', 'fireemblem', 'FireEmblemHeroes', 'DissidiaFFOO', 'inthenews', 'gamingnews', 'movies', 'HARVESTELLA', 'Games', 'fansofcriticalrole', 'FinalFantasyVII', 'news', 'Fantasy', 'FireEmblemThreeHouses', 'DragaliaLost', 'tales', 'youtube', 'smashbros', 'FinalFantasy', 'BaldursGate3', 'aww', 'voxmachina', 'UpliftingNews', 'funny', 'PERSoNA', 'TheMagnusArchives', 'television', 'FFVIIRemake', 'KingdomHearts', 'WorldOfYs', 'PokemonScarletViolet', 'books', 'coolguides', 'menwritingwomen', 'DankAndrastianMemes', 'nottheonion', 'rpg_gamers', 'netflix', 'KHUx', 'criticalrole', 'AskReddit', 'WhitePeopleTwitter', 'Millennials', 'millenials', 'dragonage', 'BG3', 'The10thDentist', 'witcher', 'Kingstagram', 'persona3reload', 'mildlyinfuriating', 'JRPG', 'pics', 'entertainment', 'gaming', 'runefactory'}\n"
     ]
    },
    {
     "name": "stderr",
     "output_type": "stream",
     "text": [
      "Scraping user comments:   0%|          | 41/29901 [09:36<87:54:42, 10.60s/it]"
     ]
    },
    {
     "name": "stdout",
     "output_type": "stream",
     "text": [
      "Comments saved to /Users/smutnuri/Documents/UVA/_Projects/Fall24/CBM/CBMRepo/Data/usercomments/-_nobody_usercomments.json\n",
      "{'orangetheory', 'Art', 'etymology', 'Showerthoughts', 'help', 'LifeProTips', 'medical_advice', 'mildlyinteresting', 'sex', 'CrimeInChicago', 'glossophobia', 'police', 'selfimprovement', 'news', 'ask', 'nasa', 'WhatBreedIsMyDog', 'legaladvice', 'sewing', 'HumansBeingBros', 'Northwestern', 'booksuggestions', 'chicagofood', 'Plume', 'IntellectualDarkWeb', 'ChicagoSuburbs', 'TwoXChromosomes', 'shingles', 'fednews', 'NarcissisticSpouses', 'explainlikeimfive', 'aww', 'pics', 'AnimalsBeingDerps', 'EarthPorn', 'science', 'funny', 'caregivers', 'personalfinance', 'UpliftingNews', 'Scams', 'sports', 'television', 'Banking', 'answers', 'videos', 'todayilearned', 'books', 'philosophy', 'nottheonion', 'changemyview', 'SecurityClearance', 'MadeMeSmile', 'OldSchoolCool', 'askscience', 'AskReddit', 'stopdrinking', 'chicago', 'law', 'ContagiousLaughter', 'space', 'mainecoons', 'rarepuppers', 'JusticeServed', 'worldnews', 'food', 'gifs'}\n"
     ]
    },
    {
     "name": "stderr",
     "output_type": "stream",
     "text": [
      "Scraping user comments:   0%|          | 42/29901 [09:47<89:20:54, 10.77s/it]"
     ]
    },
    {
     "name": "stdout",
     "output_type": "stream",
     "text": [
      "Comments saved to /Users/smutnuri/Documents/UVA/_Projects/Fall24/CBM/CBMRepo/Data/usercomments/-areyoudoneyet-_usercomments.json\n",
      "{'FODMAPS', '52book', 'Cheese', 'soup', 'hudsonvalley', 'Cooking', 'fragrance', 'CatDistributionSystem', 'HandwritingAnalysis', 'mildlyinteresting', 'booksuggestions', 'KitchenConfidential', 'FromKittenToCat', 'NoStupidQuestions', 'fednews', 'blackcats', 'NYTConnections', 'horrorlit', 'cookware', 'CatAdvice', 'LeCreuset', 'namenerds', 'jewelry', 'WhatShouldICook', 'Albany', 'books', 'NPR', 'upstate_new_york', 'Radiology', 'CostcoCanada', 'TipOfMyFork', 'NameMyCat', 'capsulewardrobe', 'TrueLit', 'cats', 'Petloss', 'wordle', 'suggestmeabook', 'FosterAnimals', 'CATHELP', 'kinderhook'}\n"
     ]
    },
    {
     "name": "stderr",
     "output_type": "stream",
     "text": [
      "Scraping user comments:   0%|          | 43/29901 [09:52<75:08:11,  9.06s/it]"
     ]
    },
    {
     "name": "stdout",
     "output_type": "stream",
     "text": [
      "Comments saved to /Users/smutnuri/Documents/UVA/_Projects/Fall24/CBM/CBMRepo/Data/usercomments/-cpb-_usercomments.json\n",
      "{'DenverBroncos', 'golf', 'MovieSuggestions', 'AskUK', 'PortlandOR', 'CoinBase', 'ducks', 'AITAH', 'fsusports', 'CommercialRealEstate', 'huskies', 'ask', 'SameGrassButGreener', 'Chargers', 'Eugene', 'NoStupidQuestions', 'OhioStateFootball', 'CFB', 'askportland', 'Seahawks', 'MichiganWolverines', 'UofO', 'traderjoes', 'sports', 'Bitcoin', 'books', 'whatcarshouldIbuy', 'oregon', 'rolltide', 'AlaskaAirlines', 'AskReddit', 'Gifts', 'SipsTea', 'TheB1G', 'AmItheAsshole', 'graphic_design'}\n"
     ]
    },
    {
     "name": "stderr",
     "output_type": "stream",
     "text": [
      "Scraping user comments:   0%|          | 44/29901 [09:59<68:58:37,  8.32s/it]"
     ]
    },
    {
     "name": "stdout",
     "output_type": "stream",
     "text": [
      "Comments saved to /Users/smutnuri/Documents/UVA/_Projects/Fall24/CBM/CBMRepo/Data/usercomments/-delgriffith_usercomments.json\n",
      "{'ScienceFictionBooks', 'sewing', 'booksuggestions', 'NoStupidQuestions', 'BuyItForLife', 'Libraries', 'greenday', 'quilting', 'solarpunk', 'mypartneristrans', 'incubus', 'crochet', 'answers', 'YarnAddicts', 'tragedeigh', 'books', 'Ohio', 'DnD', 'LibbyApp', 'AskReddit', 'Millennials', 'videogames', 'Concerts', 'AmIOverreacting', 'suggestmeabook', 'BoomersBeingFools'}\n"
     ]
    },
    {
     "name": "stderr",
     "output_type": "stream",
     "text": [
      "Scraping user comments:   0%|          | 45/29901 [10:02<55:49:01,  6.73s/it]"
     ]
    },
    {
     "name": "stdout",
     "output_type": "stream",
     "text": [
      "Comments saved to /Users/smutnuri/Documents/UVA/_Projects/Fall24/CBM/CBMRepo/Data/usercomments/-eyes_of_argus-_usercomments.json\n",
      "{'Skincare_Addiction', 'lifehacks', 'AnimalRestaurant', 'ZeroWaste', 'tea', 'careerguidance', 'books', 'SkincareAddicts', 'ask', 'kanji', 'bonnaroo', 'KidsAreFuckingStupid', 'SkincareAddiction', 'memes', 'Futurology', 'Weird', 'HaircareScience', 'AskReddit'}\n"
     ]
    },
    {
     "name": "stderr",
     "output_type": "stream",
     "text": [
      "Scraping user comments:   0%|          | 46/29901 [10:02<40:47:51,  4.92s/it]"
     ]
    },
    {
     "name": "stdout",
     "output_type": "stream",
     "text": [
      "Comments saved to /Users/smutnuri/Documents/UVA/_Projects/Fall24/CBM/CBMRepo/Data/usercomments/-forest_friend-_usercomments.json\n",
      "{'InternetIsBeautiful', 'LifeProTips', 'wallpaper', 'movies', 'gadgets', 'AITAH', 'BatmanArkham', 'terriblefacebookmemes', 'backpacking', 'Documentaries', 'singaporehappenings', 'holdmycatnip', 'Political_Revolution', 'science', 'AOC', 'tooktoomuch', 'EscapefromTarkov', 'BeAmazed', 'Futurology', 'AnythingGoesNews', 'AskReddit', 'facepalm', 'oddlysatisfying', 'cats', 'space', 'InternationalNews', 'Jokes', 'diablo4', 'dankmemes', 'gaming', 'WhitePeopleTwitter', 'moderatepolitics', 'WatchPeopleDieInside', 'Damnthatsinteresting', 'Showerthoughts', 'freeflight', 'mildlyinteresting', 'sex', 'spaceporn', 'justgalsbeingchicks', 'NatureIsFuckingLit', 'youtube', 'HumansBeingBros', 'technology', 'WhatsWrongWithYourDog', 'explainlikeimfive', 'BaldursGate3', 'midjourney', 'UpliftingNews', 'television', 'ArenaBreakoutInfinite', 'Georgia', 'DragonsDogma2', 'Catswithjobs', 'Satisfyingasfuck', 'me_irl', 'MurderedByWords', 'books', 'Helldivers', 'firefox', 'anime_irl', 'PathOfExileBuilds', 'dataisbeautiful', 'KarenReadTrial', 'WatchandLearn', 'DIY', 'gifs', 'Fauxmoi', 'Art', 'ukraine', 'Conservative', 'theydidthemath', 'funny', 'personalfinance', 'battlestations', 'sports', 'Costco', 'PS5', 'Stoicism', 'philosophy', 'TikTokCringe', 'ImTheMainCharacter', 'nottheonion', 'KidsAreFuckingStupid', 'memes', 'SipsTea', 'LivestreamFail', 'politics', 'BlackPeopleTwitter', 'PublicFreakout', 'worldnews', 'pics', 'entertainment', 'lgbt', 'creepy', 'steamsupport', 'AsheronsCall', 'news', 'therewasanattempt', 'Unexpected', 'interestingasfuck', 'pathofexile', 'KerbalSpaceProgram', 'CrazyFuckingVideos', 'videos', 'Music', 'MadeMeSmile', 'OldSchoolCool', 'Wellthatsucks', 'UkraineWarVideoReport', 'OurPresident', 'Eyebleach', 'mildlyinfuriating', 'food', 'Splitgate', 'Starfield', 'nextfuckinglevel'}\n"
     ]
    },
    {
     "name": "stderr",
     "output_type": "stream",
     "text": [
      "Scraping user comments:   0%|          | 47/29901 [10:17<65:31:03,  7.90s/it]"
     ]
    },
    {
     "name": "stdout",
     "output_type": "stream",
     "text": [
      "Comments saved to /Users/smutnuri/Documents/UVA/_Projects/Fall24/CBM/CBMRepo/Data/usercomments/-gildash-_usercomments.json\n",
      "{'Fauxmoi', '2007scape', 'buildapc', 'Showerthoughts', 'madlads', 'mildlyinteresting', 'AITAH', 'LoveForLandchads', 'theadamfriedlandshow', 'news', 'nba', 'adultswim', 'blackdesertonline', 'interestingasfuck', 'cyberpunkgame', 'explainlikeimfive', 'UpliftingNews', 'funny', 'Yolocafe', 'television', 'WH40KTacticus', 'wordington', 'videos', 'TheBigLezShow', 'Satisfyingasfuck', 'tifu', 'Music', 'stupidpol', 'Eve', 'whenthe', 'todayilearned', 'books', 'KingOfTheHill', 'maybemaybemaybe', 'nottheonion', 'Tekken', 'youtubedrama', 'memes', 'Futurology', 'technews', 'AdviceAnimals', 'millenials', 'dataisbeautiful', 'politics', 'pcmasterrace', 'mildlyinfuriating', 'wholesomememes', 'worldnews', 'pics', 'Shark_Park', 'gaming'}\n"
     ]
    },
    {
     "name": "stderr",
     "output_type": "stream",
     "text": [
      "Scraping user comments:   0%|          | 48/29901 [10:36<93:33:50, 11.28s/it]"
     ]
    },
    {
     "name": "stdout",
     "output_type": "stream",
     "text": [
      "Comments saved to /Users/smutnuri/Documents/UVA/_Projects/Fall24/CBM/CBMRepo/Data/usercomments/-ihatecartmanbrah_usercomments.json\n",
      "{'EverythingScience', 'books', 'movies', 'science', 'television', 'BeAmazed', 'Poetry', 'AskReddit'}\n"
     ]
    },
    {
     "name": "stderr",
     "output_type": "stream",
     "text": [
      "Scraping user comments:   0%|          | 49/29901 [10:37<67:35:59,  8.15s/it]"
     ]
    },
    {
     "name": "stdout",
     "output_type": "stream",
     "text": [
      "Comments saved to /Users/smutnuri/Documents/UVA/_Projects/Fall24/CBM/CBMRepo/Data/usercomments/-janusjanus-_usercomments.json\n",
      "{'Journaling', 'EatCheapAndHealthy', 'Comebacks', 'femalefashionadvice', 'AITAH', 'Hair', 'OUTFITS', 'ArtPorn', 'ExpectationVsReality', 'longhair', 'hygiene', 'ComfortLevelPod', 'books', 'AskReddit', 'AITH', 'poor', 'painting', 'facepalm', 'BoomersBeingFools'}\n"
     ]
    },
    {
     "name": "stderr",
     "output_type": "stream",
     "text": [
      "Scraping user comments:   0%|          | 50/29901 [10:39<51:49:20,  6.25s/it]"
     ]
    },
    {
     "name": "stdout",
     "output_type": "stream",
     "text": [
      "Comments saved to /Users/smutnuri/Documents/UVA/_Projects/Fall24/CBM/CBMRepo/Data/usercomments/-kat58_usercomments.json\n",
      "{'literature', 'HousingUK', 'fragrance', 'Natwest', 'PrometheusMonitoring', 'ItalyInformatica', 'twinpeaks', 'silenthill', 'hmmm', 'investing', 'UKPersonalFinance', 'DunderMifflin', 'ArchitectsUK', 'horrorlit', 'datingoverthirty', 'BoosteroidCommunity', 'horror', 'Letterboxd', 'AskLondon', 'rancher', 'unitedkingdom', 'devops', 'Lovecraft', 'Music', 'bookporn', 'stocks', 'books', 'kubernetes', 'rolex', 'BangandOlufsen', 'AmexUK', 'AskReddit', 'PLTR', 'sre', 'BooksThatFeelLikeThis', 'antiwork', 'london'}\n"
     ]
    },
    {
     "name": "stderr",
     "output_type": "stream",
     "text": [
      "Scraping user comments:   0%|          | 51/29901 [10:55<74:45:01,  9.02s/it]"
     ]
    },
    {
     "name": "stdout",
     "output_type": "stream",
     "text": [
      "Comments saved to /Users/smutnuri/Documents/UVA/_Projects/Fall24/CBM/CBMRepo/Data/usercomments/-lc-_usercomments.json\n",
      "{'InternetIsBeautiful', 'beetlejuicing', 'Whatisthis', 'WhatIsThisPainting', 'AskUK', 'UnethicalLifeProTips', 'movies', 'starterpacks', 'PeterExplainsTheJoke', 'Tufting', 'holdmycatnip', 'Pareidolia', 'Minecraft', 'ProCreate', 'happycowgifs', 'horrorlit', 'ThatsInsane', 'confidentlyincorrect', 'Shihtzu', '30ROCK', 'crochet', 'whatismycookiecutter', 'Embroidery', 'HelpMeFind', 'HolUp', 'Amigurumi', 'cringepics', 'crochetpatterns', 'Advice', 'GreatBritishMemes', 'Inktober', 'VillagePorn', 'insanepeoplefacebook', 'Gouache', 'awfuleverything', 'AskReddit', 'CozyPlaces', 'ResinCasting', 'askcrochet', 'facepalm', 'BobsBurgers', 'iamveryculinary', 'Blockbench', 'wholesomememes', 'DCcomics', 'whatsthisplant', 'WhitePeopleTwitter', 'Damnthatsinteresting', 'Showerthoughts', 'freefolk', 'mildlyinteresting', 'MedicalGore', 'DigitalPainting', 'HumansBeingBros', 'DunderMifflin', 'shittytattoos', 'television', 'behindthebastards', 'DetailCraft', 'SixFeetUnder', 'forbiddenboops', 'Satisfyingasfuck', 'books', 'coolguides', 'CrochetHelp', 'painting', 'trashy', 'findfashion', 'comicbooks', 'yarnchicken', 'gifs', 'WTF', 'delusionalartists', 'Art', 'NonPoliticalTwitter', 'MusicRecommendations', 'ChoosingBeggars', 'meirl', 'gameofthrones', 'batty', 'DigitalArt', 'medizzy', 'technicallythetruth', 'funny', 'somethingimade', 'doggrooming', 'ExpectationVsReality', 'WinStupidPrizes', 'CasualUK', 'tipofmytongue', 'AccidentalComedy', 'unpopularopinion', 'JonWinsTheThrone', 'assholedesign', 'TooAfraidToAsk', 'TikTokCringe', 'comics', 'frogs', 'oilpainting', 'savedyouaclick', 'KidsAreFuckingStupid', 'memes', 'AmericanHorrorStory', 'blessedimages', 'politics', 'whatisit', 'woooosh', 'Illustration', 'IASIP', 'PublicFreakout', 'DesignPorn', 'entertainment', 'Awww', 'wimmelbilder', 'PetsareAmazing', 'GoodNotes', 'creepy', 'notliketheothergirls', 'blackTattooing', 'quityourbullshit', 'darkhorsecomics', 'sadcringe', 'agedtattoos', 'TattooDesigns', 'Awwducational', 'photoshopbattles', 'therewasanattempt', 'craftsnark', 'sewing', 'Unexpected', 'Tattoocoverups', 'interestingasfuck', 'halloween', 'nope', 'aww', 'drawing', 'ArtistLounge', 'DOG', 'redditgetsdrawn', 'INEEEEDIT', 'PandR', 'videos', 'stephenking', 'AbsoluteUnits', 'whatsthisbird', 'crafts', 'MadeMeSmile', 'OldSchoolCool', 'oddlyterrifying', 'Wellthatsucks', 'ImageComics', 'FunnyAnimals', 'ContagiousLaughter', 'graphicnovels', 'HadToHurt', 'mildlyinfuriating', 'offmychest', 'suggestmeabook', 'ATBGE', 'justneckbeardthings', 'nextfuckinglevel'}\n"
     ]
    },
    {
     "name": "stderr",
     "output_type": "stream",
     "text": [
      "Scraping user comments:   0%|          | 52/29901 [11:04<74:43:19,  9.01s/it]"
     ]
    },
    {
     "name": "stdout",
     "output_type": "stream",
     "text": [
      "Comments saved to /Users/smutnuri/Documents/UVA/_Projects/Fall24/CBM/CBMRepo/Data/usercomments/-little-spoon-_usercomments.json\n",
      "{'Damnthatsinteresting', 'amateurradio', 'boxoffice', 'Showerthoughts', 'CRK', 'Charcuterie', 'IAmA', 'EDC', 'movies', 'mildlyinteresting', 'printSF', 'RetroFuturism', 'sciencefiction', 'news', 'flashlight', 'legaladvice', 'knifeclub', 'Leatherman', 'interestingasfuck', 'history', 'explainlikeimfive', 'PipeTobacco', 'science', 'ExpectationVsReality', 'television', 'whatisthisthing', 'AskEngineers', 'knives', 'backgammon', 'todayilearned', 'books', 'xbox360', 'food', 'OldSchoolCool', 'AubreyMaturinSeries', 'AskReddit', 'nyc', 'AdviceAnimals', 'AskHistorians', 'HistoryPorn', 'pcmasterrace', 'NetflixBestOf', 'worldnews', 'pics', 'boardgames', 'Ebay'}\n"
     ]
    },
    {
     "name": "stderr",
     "output_type": "stream",
     "text": [
      "Scraping user comments:   0%|          | 53/29901 [11:08<63:49:08,  7.70s/it]"
     ]
    },
    {
     "name": "stdout",
     "output_type": "stream",
     "text": [
      "Comments saved to /Users/smutnuri/Documents/UVA/_Projects/Fall24/CBM/CBMRepo/Data/usercomments/-nhops-_usercomments.json\n",
      "{'linux', 'DiscoElysium', 'comedyheaven', 'niftyaf', 'Funnymemes', 'AITAH', 'residentevil4', 'Asmongold', 'starterpacks', 'terriblefacebookmemes', 'Construction', 'godot', '19684', 'Eldenring', 'dccomicscirclejerk', 'StartledCats', 'oscp', 'Isekai', 'TwoXChromosomes', 'NoStupidQuestions', 'gamecollecting', 'israelexposed', 'nothingeverhappens', 'ThatsInsane', 'EarthPorn', 'science', 'horror', 'PoliticalHumor', 'crochet', 'Embroidery', 'Animemes', 'stonerfood', 'stationery', 'HolUp', 'TrueOffMyChest', 'OSHA', 'ToiletPaperUSA', 'running', 'OneSecondBeforeDisast', 'ProgrammerHumor', 'texas', 'awesomewm', 'BeAmazed', 'Futurology', 'canada', 'AnythingGoesNews', 'AskReddit', 'Brogress', 'awfuleverything', '90s', 'megalophobia', 'ItHadToBeBrazil', 'facepalm', 'Whatcouldgowrong', 'space', 'puppies', 'cursedcomments', 'pcmasterrace', 'TopCharacterDesigns', 'AmIOverreacting', 'antiwork', 'dankmemes', 'WhitePeopleTwitter', 'TheNightFeeling', 'archlinux', 'Damnthatsinteresting', 'IdiotsInCars', 'MaleSurvivingSpace', 'NotHowGirlsWork', 'LateStageCapitalism', 'Zig', '90DayFiance', 'mildlyinteresting', 'MedicalGore', 'hacking', 'linuxmasterrace', 'justgalsbeingchicks', 'NatureIsFuckingLit', 'ABoringDystopia', 'rareinsults', 'CanadaHousing2', 'shitposting', 'technology', 'FunnyandSad', 'HalfLife', 'KittyTerminal', 'raylib', 'AskMen', 'TorontoDriving', 'pcgaming', 'Satisfyingasfuck', 'PixelArt', 'me_irl', 'Guildwars2', 'books', 'coolguides', 'food', 'pathofexiledev', 'CuratedTumblr', 'Tinder', 'GameDevelopment', 'FluentInFinance', 'WhatsWrongWithYourCat', 'marvelmemes', 'teentitans', 'Antimoneymemes', 'trashy', 'MemeVideos', 'StableDiffusion', 'Canada_sub', 'Spiderman', 'diablo2', '2westerneurope4u', 'inthenews', 'Edmonton', 'iamatotalpieceofshit', 'Diablo', 'NonPoliticalTwitter', 'embedded', 'unixart', 'confessions', 'silenthill', 'theydidthemath', 'rust', 'meirl', 'Berserk', 'bodybuilding', 'Superstonk', 'ActualPublicFreakouts', 'ExplainTheJoke', 'selfhosted', 'discordVideos', 'funny', 'SSBM', 'battlestations', 'sports', 'C_Programming', 'prepping', 'unixporn', 'Nicegirls', 'sciencememes', 'clevercomebacks', 'unpopularopinion', 'whenthe', 'thanksimcured', 'maybemaybemaybe', 'TikTokCringe', 'ImTheMainCharacter', 'KidsAreFuckingStupid', 'northernlion', 'Chainsawfolk', 'AccidentalSlapStick', 'interesting', 'JustGuysBeingDudes', 'wholesomegreentext', 'martialarts', 'tmux', 'LivestreamFail', 'SipsTea', 'politics', 'BlackPeopleTwitter', 'dividends', 'Justrolledintotheshop', 'PublicFreakout', 'shittyfoodporn', 'microdosing', '52book', 'compsci', 'occult', 'johnoliver', 'sadcringe', 'BrandNewSentence', 'strength_training', 'news', 'photoshopbattles', 'neovim', 'therewasanattempt', 'Unexpected', 'sewing', 'interestingasfuck', 'Calgary', 'pathofexile', 'nope', 'onguardforthee', 'aww', 'linuxadmin', 'depressionmeals', 'GlowUps', 'mathmemes', 'absolutelynotme_irl', 'wallstreetbets', 'Gamingcirclejerk', 'zerocarb', 'CrazyFuckingVideos', 'tifu', 'videos', 'HowToHack', '2meirl4meirl', 'malelivingspace', '4chan', 'MadeMeSmile', 'OldSchoolCool', 'oddlyterrifying', 'Wellthatsucks', 'StrangeEarth', 'Millennials', 'StreetFighter', 'videogames', 'TerrifyingAsFuck', 'wizardposting', 'AnimalsBeingJerks', 'bugbounty', 'CouncilOfCats', 'wendigoon', 'mildlyinfuriating', 'bald', 'MakeMeSuffer', 'BBQ', 'bonehurtingjuice', 'tacticalgear', 'nextfuckinglevel'}\n"
     ]
    },
    {
     "name": "stderr",
     "output_type": "stream",
     "text": [
      "Scraping user comments:   0%|          | 54/29901 [11:23<81:39:18,  9.85s/it]"
     ]
    },
    {
     "name": "stdout",
     "output_type": "stream",
     "text": [
      "Comments saved to /Users/smutnuri/Documents/UVA/_Projects/Fall24/CBM/CBMRepo/Data/usercomments/-not_a_knife_usercomments.json\n",
      "{'DeathByMillennial', 'confession', 'BeforeNAfterAdoption', 'Cooking', 'Funnymemes', 'LifeProTips', 'movies', 'AITAH', 'legaladvicecanada', 'bisexual', 'reactiongifs', 'CatsInSinks', 'buffy', 'antinatalism2', 'Dragula', 'cartoons', 'booksuggestions', 'ytvretro', 'TwoXChromosomes', 'bookscirclejerk', 'repost', 'NoStupidQuestions', 'AskWomenNoCensor', 'popculturechat', 'Winnipeg', 'thatHappened', 'horrorlit', 'Dreams', 'science', 'horror', '30ROCK', 'sailormoon', 'AskACanadian', 'ImFinnaGoToHell', 'brooklynninenine', 'HolUp', 'cringepics', 'badwomensanatomy', '196', 'Metal', 'Adulting', 'Catmemes', 'BitLifeApp', 'insanepeoplefacebook', 'BestofRedditorUpdates', 'IncelTear', 'me_irlgbt', 'ThriftStoreHauls', 'canada', 'AskReddit', 'WetlanderHumor', 'HIMYM', 'TrollCoping', 'facepalm', 'cats', 'IncelTears', 'brandonsanderson', 'RATS', 'Cosmere', 'wholesomememes', 'dankmemes', 'WhitePeopleTwitter', 'ADHDmemes', 'piercing', 'dangernoodles', 'NotHowGirlsWork', 'antimeme', 'PointyTailedKittens', 'statsfm', 'mildlyinteresting', 'rant', 'nostalgia', 'raisedbynarcissists', 'rareinsults', 'progmetal', 'shitposting', 'childfree', 'DunderMifflin', 'Libraries', 'depression', 'WoT', 'VindictaRateCelebs', 'AnimalsBeingDerps', 'catfood', 'Sneks', 'CatAdvice', 'AskMen', 'television', 'CPTSDmemes', 'answers', 'ibs', 'religiousfruitcake', 'Stormlight_Archive', 'books', 'FoodPorn', 'giraffes', 'TrollXChromosomes', 'Tinder', 'marvelmemes', 'punk', 'meme', 'gingercats', 'WitchesVsPatriarchy', 'trashy', 'AmItheAsshole', 'Canada_sub', 'canadian', 'bi_irl', 'Spiderman', 'AnimalCrossing', 'CatsNamedAfterFoods', 'blunderyears', 'adhdwomen', 'TabbyCats', 'iamatotalpieceofshit', 'NonPoliticalTwitter', 'PuppyBellies', 'MusicRecommendations', 'adhdmeme', 'hypotheticalsituation', 'relationships', 'meirl', 'HalloweenHardcore', 'Catculations', 'AltLadyboners', 'ExplainTheJoke', 'popping', 'funny', 'DCEUleaks', 'Cosmere_Tattoos', 'Instagramreality', 'reptiles', 'Nicegirls', 'unpopularopinion', 'thanksimcured', 'TooAfraidToAsk', 'ImTheMainCharacter', 'lookyourbest', 'WouldYouRather', 'anime_titties', 'writing', 'memes', 'UkrainianConflict', 'foodpornpurgatory', 'BooksThatFeelLikeThis', 'PrettyGuardians', 'kittens', 'BlackPeopleTwitter', 'rarepuppers', 'IASIP', 'harrypotter', 'worldnews', 'LadyBoners', 'OneOrangeBraincell', 'pics', 'Anxiety', 'shittyfoodporn', 'grilledcheese', 'FuckYouKaren', 'entertainment', 'creepyPMs', 'musicsuggestions', 'Ladybonersgonecuddly', 'antinatalism', 'notliketheothergirls', 'sadcringe', 'ADHD', 'dragrace', 'Feminism', 'AustralianCattleDog', 'news', 'weirdspotifyplaylists', 'Fantasy', 'interestingasfuck', 'HydroHomies', 'sloths', 'halloween', 'onguardforthee', 'lesbianfashionadvice', 'aww', 'serialkillers', 'mildlypenis', 'ereader', 'fourthwing', 'actuallesbians', 'Kanye', 'musicals', 'Music', 'stephenking', 'tragedeigh', 'AreTheStraightsOK', '2meirl4meirl', 'MorbidReality', 'MadeMeSmile', 'MetalMemes', 'rupaulsdragrace', 'Millennials', 'LowSodiumSimmers', 'lgbtmemes', 'TheGoodPlace', 'relationship_advice', 'Sims4', 'dykesgonemild', 'PoutineCrimes', 'Careers', 'suggestmeabook', 'Morbius', 'cremposting'}\n"
     ]
    },
    {
     "name": "stderr",
     "output_type": "stream",
     "text": [
      "Scraping user comments:   0%|          | 55/29901 [11:39<97:02:39, 11.71s/it]"
     ]
    },
    {
     "name": "stdout",
     "output_type": "stream",
     "text": [
      "Comments saved to /Users/smutnuri/Documents/UVA/_Projects/Fall24/CBM/CBMRepo/Data/usercomments/-porridgeface-_usercomments.json\n",
      "{'LifeProTips', 'carsandfilm', 'noisemusic', 'gadgets', 'flicks', 'conduitmains', 'crappymusic', 'reactiongifs', 'moviecritic', 'vintagejapaneseautos', 'Documentaries', 'Seattle', 'ThatsInsane', 'dashcamgifs', 'Uniteagainsttheright', 'lifelinemains', 'apexlegends', 'PoliticalHumor', 'Palestine', 'TheWayWeWere', 'retrogaming', 'OldPhotosInRealLife', 'cringepics', 'LongFurbies', 'tooktoomuch', 'jazzvinyl', 'Shitty_Car_Mods', 'AskReddit', 'sticker', 'turntables', 'wwiipics', 'dankmemes', 'Battlefield', 'WWIpics', 'Piracy', 'gaming', 'Damnthatsinteresting', 'IdiotsInCars', 'forgottenfilm', 'Showerthoughts', 'overlanding', 'mildlyinteresting', 'itookapicture', 'portlandmusic', 'spaceporn', 'ABoringDystopia', 'battlefield2042', 'blues', 'redneckengineering', 'listeningspaces', 'explainlikeimfive', 'namethatpdxbathroom', 'IllegallySmol', 'truespotify', 'UpliftingNews', 'carcrash', 'CriterionChannel', 'Portland', 'pcgaming', 'ArtefactPorn', 'NotTimAndEric', 'Roadcam', 'InterdimensionalCable', 'photographs', 'classicfilms', 'books', 'oregon', 'guitarpedals', 'Vinyl_Jazz', 'OnceHuman', 'FoundPhotos', 'OldSchoolCoolMusic', 'Helldivers', 'WattsonMains', 'vintageaudio', 'AbandonedPorn', 'analog', 'WhatsWrongWithYourCat', 'apexuniversity', 'delusionalcraigslist', 'dataisbeautiful', 'BudgetAudiophile', 'VHScoverART', 'yesyesyesyesno', 'WhyWomenLiveLonger', 'WTFgaragesale', 'WTF', 'Art', 'offset', 'blunderyears', 'inthenews', 'SurrealismArt', 'Jazz', 'PDXBuyNothing', 'ForzaHorizon', 'fujix', 'TwoHotTakes', 'doodles', 'streetphotography', 'askportland', 'funny', 'personalfinance', 'pinball', 'BallisticMains', 'OregonCoast', 'hiphop201', 'AccidentalComedy', 'todayilearned', 'maybemaybemaybe', 'TikTokCringe', 'comics', 'nottheonion', 'pga2k21', 'AbsurdMovies', 'WeirdWheels', 'HistoricalCapsule', 'hiphopvinyl', 'PinballFX3', 'vinyl', 'noiserock', 'Fallout4Mods', 'oldpeoplefacebook', 'StandUpComedy', 'SipsTea', 'Idiotswithguns', 'politics', 'BlackPeopleTwitter', 'PublicFreakout', 'worldnews', 'pics', 'BoomersBeingFools', 'AccidentalRenaissance', 'vintageads', 'cassetteculture', 'falloutsettlements', 'LiveMusicPerf', 'battlefield_one', 'AlbumArtPorn', 'BargainBinVinyl', 'news', 'AnimalCollective', 'interestingasfuck', 'TimWalz', 'OnceHumanOfficial', 'RocketLeague', 'PizzaCrimes', 'Heavymind', 'Volvo', 'watchpeoplesurvive', 'fender', 'fullmoviesonyoutube', 'Cd_collectors', 'videos', 'Music', 'ArtDeco', 'UrbanHell', 'The_Mueller', 'Battlecars', 'TrueFilm', 'OldSchoolCool', 'Wellthatsucks', 'CollectionHauls', 'ApexOutlands', 'CampCult', 'fo4', 'badMovies', 'hiphoptapes', 'RareHistoricalPhotos', 'nextfuckinglevel'}\n"
     ]
    },
    {
     "name": "stderr",
     "output_type": "stream",
     "text": [
      "Scraping user comments:   0%|          | 56/29901 [11:57<111:16:08, 13.42s/it]"
     ]
    },
    {
     "name": "stdout",
     "output_type": "stream",
     "text": [
      "Comments saved to /Users/smutnuri/Documents/UVA/_Projects/Fall24/CBM/CBMRepo/Data/usercomments/-r-a-f-f-y-_usercomments.json\n",
      "{'Brazil', 'askTO', 'asklatinamerica', 'Documentaries', 'toronto', 'books', 'news', 'Jellycatplush', 'chowchow', 'AskReddit'}\n"
     ]
    },
    {
     "name": "stderr",
     "output_type": "stream",
     "text": [
      "Scraping user comments:   0%|          | 57/29901 [11:57<79:19:37,  9.57s/it] "
     ]
    },
    {
     "name": "stdout",
     "output_type": "stream",
     "text": [
      "Comments saved to /Users/smutnuri/Documents/UVA/_Projects/Fall24/CBM/CBMRepo/Data/usercomments/-serious_moonlight-_usercomments.json\n",
      "{'MovieSuggestions', 'inthenews', 'ames', 'Animal', 'movies', 'Truthoffmychest', 'anxietymemes', 'televisionsuggestions', 'MusicRecommendations', 'abusiverelationships', 'interestingasfuck', 'Chihuahua', 'CatsAreAssholes', 'aww', 'AbstractArt', 'horror', 'sports', 'Marriage', 'GenX', 'books', 'stoicquotes', 'PoliticalMemes', 'hbo', 'Wellthatsucks', 'AskReddit', 'CPTSD', 'politics', 'pics', 'lonerstoner', 'WhitePeopleTwitter'}\n"
     ]
    },
    {
     "name": "stderr",
     "output_type": "stream",
     "text": [
      "Scraping user comments:   0%|          | 58/29901 [11:59<60:07:11,  7.25s/it]"
     ]
    },
    {
     "name": "stdout",
     "output_type": "stream",
     "text": [
      "Comments saved to /Users/smutnuri/Documents/UVA/_Projects/Fall24/CBM/CBMRepo/Data/usercomments/-strangedazey_usercomments.json\n",
      "{'movies', 'DiddyParty', 'gadgets', 'teenagers', 'electricvehicles', 'legaladvice', 'samsung', 'backpacking', 'ThatsInsane', 'Big4', 'doordash', 'Gastonia', 'science', 'GalaxyS7', 'HolUp', 'Divorce_Men', 'Swingers', 'UNC', 'taxhelp', 'Futurology', 'AskReddit', 'facepalm', 'oddlysatisfying', 'space', 'cursedcomments', 'Jokes', 'antiwork', 'gaming', 'Damnthatsinteresting', 'Showerthoughts', 'mildlyinteresting', 'army', 'NatureIsFuckingLit', 'Machinists', 'ask', 'ElectricalEngineering', 'technology', '3dprint', 'TIHI', 'AskMen', 'passive_income', 'answers', 'JoeyDiaz', 'dating_advice', 'books', 'Accounting', 'dasher', 'trashy', 'androidroot', 'mechanic', 'DIY', 'gifs', 'SluttyConfessions', 'WTF', 'ukraine', 'computerforensics', 'amiugly', 'funny', 'personalfinance', 'economy', 'KPMG', 'NationalPark', 'ADHDers', 'anime_titties', 'Toyota', 'CombatFootage', 'SipsTea', 'coparenting', 'PublicFreakout', 'worldnews', 'pics', 'deloitte', 'motorcycles', 'truerateme', 'Charlotte', 'PhotoshopRequest', 'Volkswagen', 'AskMechanics', 'ADHD', 'CarAV', 'news', 'tax', 'interestingasfuck', 'Guitar', 'aww', 'wallstreetbets', 'CrazyFuckingVideos', 'tifu', 'millionairemakers', 'HookupInNorthCarolina', 'MadeMeSmile', 'OldSchoolCool', 'PwC', 'mildlyinfuriating', 'food', 'agedlikemilk'}\n"
     ]
    },
    {
     "name": "stderr",
     "output_type": "stream",
     "text": [
      "Scraping user comments:   0%|          | 59/29901 [12:05<57:08:52,  6.89s/it]"
     ]
    },
    {
     "name": "stdout",
     "output_type": "stream",
     "text": [
      "Comments saved to /Users/smutnuri/Documents/UVA/_Projects/Fall24/CBM/CBMRepo/Data/usercomments/-sweetchuck_usercomments.json\n",
      "{'comedyheaven', 'AskScienceFiction', 'ShouldIbuythisgame', 'AITAH', 'terriblefacebookmemes', 'deadmeatjames', 'AmITheDevil', 'PropagandaPosters', 'iamverybadass', 'FirstResponderCringe', 'booksuggestions', 'NoStupidQuestions', 'GuessTheMovie', 'thatHappened', 'ThatsInsane', 'Glocks', 'cringepics', 'Firefighting', 'Advice', 'Adulting', 'insanepeoplefacebook', 'NPR', 'BeAmazed', 'NewToEMS', 'awfuleverything', 'AskReddit', 'LowSodiumHellDivers', 'finalfantasyx', 'shittymobilegameads', 'MonsterHunter', 'The10thDentist', 'Wildfire', 'TopCharacterDesigns', 'justneckbeardthings', 'helldivers2', 'gaming', 'Damnthatsinteresting', 'SubredditDrama', 'NotHowGirlsWork', 'NoMansSkyTheGame', 'DeepRockGalactic', 'HellDiversLeaks', 'ImpracticalJokers', 'rareinsults', 'badroommates', 'shitposting', 'GarandThumb', 'AmericaBad', 'dating_advice', 'books', 'coolguides', 'menwritingwomen', 'changemyview', 'Helldivers', 'ihavesex', 'Paramedics', 'fo76', 'trashy', 'fallout76settlements', 'badads', 'EngagementRings', 'OutOfTheLoop', 'skamtebord', 'gatekeeping', 'lostredditors', 'Symbology', 'meirl', 'TwoHotTakes', 'kurzgesagt', 'Chadtopia', 'Bossfight', 'wisconsin', 'AteTheOnion', 'Nicegirls', 'LinkedInLunatics', 'unpopularopinion', 'whenthe', 'TooAfraidToAsk', 'spreadsmile', 'TacticalMedicine', 'memes', 'LAFD', 'StardewValley', 'u_Ebbie45', 'AlignmentCharts', 'TopCharacterTropes', 'LV426', 'creepyPMs', 'CCW', 'scifi', 'sadcringe', 'Janesville', 'therewasanattempt', 'Unexpected', 'madisonwi', 'VampireSurvivors', 'interestingasfuck', 'mendrawingwomen', 'whowouldwin', 'ems', 'tifu', 'Wellthatsucks', 'perfectlycutscreams', 'videogames', 'relationship_advice', 'MemeHunter', 'blursed_videos', 'mildlyinfuriating', 'AITA_WIBTA_PUBLIC', 'agedlikemilk', 'tacticalgear', 'nextfuckinglevel'}\n"
     ]
    },
    {
     "name": "stderr",
     "output_type": "stream",
     "text": [
      "Scraping user comments:   0%|          | 60/29901 [12:21<79:12:09,  9.55s/it]"
     ]
    },
    {
     "name": "stdout",
     "output_type": "stream",
     "text": [
      "Comments saved to /Users/smutnuri/Documents/UVA/_Projects/Fall24/CBM/CBMRepo/Data/usercomments/-v-fib-_usercomments.json\n",
      "{'FloridaPanthers', 'SquaredCircle', 'Zillennials', 'AITAH', 'Construction', 'SeattleKraken', 'PropagandaPosters', 'popculturechat', 'TwoXChromosomes', 'NoStupidQuestions', 'Disneyland', 'Opossums', 'BestofRedditorUpdates', 'Futurology', 'ElderScrolls', 'AskReddit', 'AMA', 'LearnFinnish', 'cats', 'AmIOverreacting', 'russian', 'Damnthatsinteresting', 'mildlyinteresting', 'oddlyspecific', 'NatureIsFuckingLit', 'bizarrelife', 'loseit', 'spiderbro', 'BaldursGate3', 'DunderMifflin', 'VindictaRateCelebs', 'shittytattoos', 'ExtremeHorrorLit', 'television', 'longhair', 'MurderedByWords', 'books', 'oldhagfashion', 'CuratedTumblr', 'Tinder', 'woahthatsinteresting', 'meme', 'leafs', 'MapPorn', 'bi_irl', 'Nabokov', 'nhl', 'AllThatIsInteresting', 'climate', 'InstaCelebsGossip', 'technicallythetruth', 'popping', 'europe', 'florida', 'clevercomebacks', 'unpopularopinion', 'TikTokCringe', 'nottheonion', 'youtubedrama', 'ClassicRock', 'anime_titties', 'SCJerk', 'hockey', 'LosAngeles', 'lotrmemes', 'politics', 'Teachers', 'pics', 'LOTR_on_Prime', 'shittymoviedetails', 'BrandNewSentence', 'mybrilliantfriendhbo', 'spiders', 'news', 'Unexpected', 'interestingasfuck', 'OneFinance', 'Habs', 'GenZ', 'Music', 'glendale', 'ghostoftsushima', 'BSG', 'sanfrancisco', 'YouShouldKnow', 'mildlyinfuriating', '40something'}\n"
     ]
    },
    {
     "name": "stderr",
     "output_type": "stream",
     "text": [
      "Scraping user comments:   0%|          | 61/29901 [12:39<100:18:38, 12.10s/it]"
     ]
    },
    {
     "name": "stdout",
     "output_type": "stream",
     "text": [
      "Comments saved to /Users/smutnuri/Documents/UVA/_Projects/Fall24/CBM/CBMRepo/Data/usercomments/0-90195_usercomments.json\n",
      "{'ColoradoRockies', 'scotus', 'NewsOfTheStupid', 'LifeProTips', 'Funnymemes', 'mlb', 'movies', 'CleaningTips', 'ClimateCrisisCanada', 'baseballcards', 'PoliticalHumor', 'NYYankees', 'FuckImOld', 'BeAmazed', 'Futurology', 'AnythingGoesNews', 'AskReddit', 'SalsaSnobs', 'facepalm', 'space', '90sAlternative', 'Jokes', 'FIlm', 'WhitePeopleTwitter', 'WatchPeopleDieInside', 'Damnthatsinteresting', 'Showerthoughts', 'mildlyinteresting', 'Colorado', 'HandwritingAnalysis', 'geography', 'NatureIsFuckingLit', 'USNewsHub', '80s', 'explainlikeimfive', 'NFLv2', 'sitcoms', 'books', 'Infographics', 'Presidents', 'dirtysportshistory', 'WorkReform', 'dataisbeautiful', 'MapPorn', 'AntiTrumpAlliance', 'gifs', 'inthenews', 'BreakingPointsNews', 'produce', 'funny', 'sports', 'clevercomebacks', 'Xennials', 'todayilearned', 'Denver', 'maybemaybemaybe', 'TikTokCringe', 'RedditSessions', 'nottheonion', 'ClassicRock', 'memes', 'politics', 'Oldschool_NFL', 'PublicFreakout', 'worldnews', 'pics', 'Serverlife', 'ScienceUncensored', 'news', 'PokemonTCG', 'u_ColoradoRising', 'ChicagoBearsNFL', 'Unexpected', 'interestingasfuck', 'aww', 'VintageBaseballCards', 'RandomThoughts', 'rockies', 'videos', 'Music', 'stephenking', 'OldSchoolCool', 'oddlyterrifying', 'StrangeEarth', 'FunnyAnimals', 'ContagiousLaughter', 'baseballcards_vintage', 'suggestmeabook', 'listentothis', 'nextfuckinglevel'}\n"
     ]
    },
    {
     "name": "stderr",
     "output_type": "stream",
     "text": [
      "Scraping user comments:   0%|          | 62/29901 [12:51<101:09:54, 12.21s/it]"
     ]
    },
    {
     "name": "stdout",
     "output_type": "stream",
     "text": [
      "Comments saved to /Users/smutnuri/Documents/UVA/_Projects/Fall24/CBM/CBMRepo/Data/usercomments/0000Matt0000_usercomments.json\n",
      "{'lastpodcastontheleft', 'DaniMarina', 'comedyheaven', 'WhatIsThisPainting', 'AmITheAngel', 'Cooking', 'NewsOfTheStupid', 'traumatizeThemBack', 'Chonkers', 'sayulita', 'Weddingattireapproval', 'movies', 'AITAH', 'beauty', 'legaladvice', '30PlusSkinCare', 'iamverybadass', 'u_PumpkinSpicedBimb0', 'TwoXChromosomes', 'Askpolitics', 'Seattle', 'NoStupidQuestions', 'democrats', 'ElementaryTeachers', 'fossilid', 'GoogleEarthFinds', 'TheWayWeWere', 'HelpMeFind', 'ElectionPolls', 'whybrows', 'esist', 'Antiques', 'UtterlyUniquePhotos', 'Austin', 'texas', 'BestofRedditorUpdates', 'whatsthisworth', 'BeAmazed', 'ThriftStoreHauls', 'AnythingGoesNews', 'AskReddit', 'AMA', 'iamverysmart', 'illnessfakers', 'goldenretrievers', 'CemeteryPorn', 'AskALawyer', 'cats', 'AmIOverreacting', 'DaniMarinaSnarking', 'service_dogs', 'Damnthatsinteresting', 'beagles', 'Transcription', 'SubredditDrama', 'ThriftGrift', 'BajaCalifornia', 'PBS_NewsHour', 'mildlyinteresting', 'words', 'Retconned', 'LeopardsAteMyFace', 'trailcam', 'spaceporn', 'WestSeattleWA', 'ask', 'DogAdvice', 'puertovallarta', 'USNewsHub', 'HumansBeingBros', 'doppelganger', 'explainlikeimfive', 'FoundPaper', 'toastme', 'abovethenormnews', 'steak', 'BorderCollie', 'self', 'Satisfyingasfuck', 'GenX', 'aliens', 'books', 'WomenInNews', 'CLOUDS', 'PoliticalDiscussion', 'legal', 'Bellingham', '70s', 'LifeAdvice', 'AuroraBorealis', 'painting', 'AskSeattle', 'dataisbeautiful', 'the_everything_bubble', 'AntiTrumpAlliance', 'AmItheAsshole', 'AskOldPeople', 'ancienthistory', 'DIY', 'RoastMe', 'moraldilemmas', 'TheDepthsBelow', 'inthenews', 'OutOfTheLoop', 'Manipulation', 'Ghosts', 'MusicRecommendations', 'orcas', 'Productivitycafe', 'Noses', 'Ornithology', 'SchizophreniaRides', 'IDmydog', 'funny', 'sports', 'whatisthisthing', 'Costco', 'pigs', 'Trumpvirus', 'Nicegirls', 'seriouslyalarming', 'Xennials', 'tattooadvice', 'todayilearned', 'Existentialism', 'Denver', 'oilpainting', 'TikTokCringe', 'nottheonion', 'HighStrangeness', 'frogs', 'KidsAreFuckingStupid', 'FamilyLaw', 'Weird', 'HistoricalCapsule', 'CoachellaValley', 'DobermanPinscher', 'oldpeoplefacebook', 'puppy101', 'petfree', 'politics', 'Teachers', 'dogpictures', 'Washington', '13or30', 'Iowa', 'pics', 'BoomersBeingFools', 'ufc', 'RBI', 'uraniumglass', 'Paranormal', 'lgbt', 'GenerationJones', 'IAmTheAsshole', 'creepy', 'povertyfinance', 'suggestmeabook', 'spiders', 'news', 'Unexplained', 'photoshopbattles', 'houstonwade', 'RealTwitterAccounts', 'Doppleganger', 'tomatoes', 'interestingasfuck', 'zoology', 'Genealogy', 'AITA_WIBTA_PUBLIC', 'burgers', 'aww', 'TheHandmaidsTale', 'DOG', 'TheLib', 'GlowUps', 'Qult_Headquarters', 'RandomThoughts', 'jewelry', 'u_myindch', 'GenZ', 'tifu', 'UFOs', 'videos', 'Spokane', 'Music', 'stephenking', 'AnimalsBeingStrange', 'malelivingspace', 'MadeMeSmile', 'OldSchoolCool', 'AskWomenOver40', 'Wellthatsucks', 'RandomVictorianStuff', 'relationship_advice', 'Pets', 'uglyduckling', 'redditonwiki', 'mildlyinfuriating', 'FamilyMedicine', 'Hairtransplant', 'food', 'atheism'}\n"
     ]
    },
    {
     "name": "stderr",
     "output_type": "stream",
     "text": [
      "Scraping user comments:   0%|          | 63/29901 [13:07<108:56:59, 13.14s/it]"
     ]
    },
    {
     "name": "stdout",
     "output_type": "stream",
     "text": [
      "Comments saved to /Users/smutnuri/Documents/UVA/_Projects/Fall24/CBM/CBMRepo/Data/usercomments/000ArdeliaLortz000_usercomments.json\n",
      "{'Damnthatsinteresting', 'ios', 'S22Ultra', 'galaxys10', 'GalaxyNote20', 'iphone', 'scifi', 'Ring', 'GalaxyS24Ultra', 'smartwatch', 'surfaceduo', 'homegym', 'applewatchultra', 'gadgets', 'spaceporn', 'NatureIsFuckingLit', 'carnivore', 'samsung', 'Fantasy', 'GalaxyNote9', 'AnimalsBeingBros', 'Supplements', 'AppleWatchFitness', 'repost', 'whereintheworld', 'likeus', 'aww', 'AnimalsBeingDerps', 'galaxywatch4', 'note20ultra', 'AskMen', 'Smartphones', 'snails', 'polls', 'AppleWatch', 'Astronomy', 'amazfit', 'Android', 'AmazfitBip', 'books', 'GooglePixel', 'philosophy', 'astrophotography', 'RedditSessions', 'galaxynote10', 'AskReddit', 'Sacramento', 'sanfrancisco', 'AnimalsBeingJerks', 'u_oatsovernight', 'SipsTea', 'cats', 'amazon', 'u_honeyfund', 'S24Ultra', 'GalaxyWatch', 'rarepuppers', 'Galaxywatch7', 'dogs', 'animalsdoingstuff', 'iPhone13'}\n"
     ]
    },
    {
     "name": "stderr",
     "output_type": "stream",
     "text": [
      "Scraping user comments:   0%|          | 64/29901 [13:23<116:39:11, 14.07s/it]"
     ]
    },
    {
     "name": "stdout",
     "output_type": "stream",
     "text": [
      "Comments saved to /Users/smutnuri/Documents/UVA/_Projects/Fall24/CBM/CBMRepo/Data/usercomments/00roadrunner00_usercomments.json\n",
      "{'FUCKYOUINPARTICULAR', 'redditmobile', 'UnethicalLifeProTips', 'BucksCountyPA', 'Cooking', 'dadjokes', 'mlb', 'ExteriorDesign', 'AITAH', 'floorplan', 'AlAnon', 'NJGuns', 'whatstheword', 'PeterExplainsTheJoke', 'Construction', 'nba', 'Audi', 'Eldenring', 'legaladvice', 'SeriousConversation', 'comedyhomicide', 'Watchexchange', 'Ask_Lawyers', 'homeowners', 'Bumble', 'dndnext', 'Pareidolia', 'NoStupidQuestions', 'Cartalk', 'vegetablegardening', 'coins', 'tattoos', 'whatismycookiecutter', 'PoliticalHumor', 'DoesAnybodyElse', 'dehydrating', 'AskOuija', 'HelpMeFind', 'GlobalEntry', 'dayton', 'HolUp', 'Antiques', 'NYYankees', 'the_darnold', 'MarkMyWords', 'NewYorkMets', 'whiskey', 'VisitingIceland', 'airfryer', 'FOXNEWS', 'TheAllinPodcasts', 'OpenForge', 'BeAmazed', 'whatsthisworth', 'MeetPeople', 'canada', 'AskReddit', 'nyc', 'AMA', 'lightingdesign', 'millenials', 'AskOldPeopleAdvice', 'CemeteryPorn', 'Tombofannihilation', 'mets', 'facepalm', 'cats', 'space', 'ATC', 'oddlysatisfying', 'HistoryPorn', 'Jokes', 'aviationmaintenance', 'fixit', 'bereal_app', 'AskAShittyMechanic', 'knitting', 'FoodNYC', 'WhitePeopleTwitter', 'Architects', 'findareddit', 'HumanForScale', 'Appliances', 'IsItBullshit', 'Damnthatsinteresting', 'iphone', 'LateStageCapitalism', 'smoking', 'CongratsLikeImFive', 'mildlyinteresting', 'HowDoIRespondToThis', 'dontdeadopeninside', 'itookapicture', 'ask', 'onejob', 'technology', 'Renovations', 'FromTVEpix', 'OutoftheAbyss', 'fatFIRE', 'liberalgunowners', 'BaldursGate3', 'okbuddyretard', 'shittytattoos', 'Aquariums', 'NFCEastMemeWar', 'FoundPaper', 'mightyinteresting', 'flightradar24', 'nyjets', 'scambait', 'Satisfyingasfuck', 'Upperwestside', 'GenX', 'careerguidance', 'books', 'food', 'nottheonion', 'gunpolitics', 'Tinder', 'Helicopters', 'Presidents', 'NYKnicks', 'marriott', 'the_everything_bubble', 'dataisbeautiful', 'stupidquestions', 'apolloapp', 'puns', 'nfl', 'AmItheAsshole', '3Dprinting', 'DIY', 'SoundsLikeMusic', 'missouri', 'AmateurRoomPorn', 'marthasvineyard', 'Bandnames', 'techtheatre', 'PeopleAreFckinStupid', 'baseball', 'AFCEastMemeWar', 'nhl', 'amiwrong', 'HomeworkHelp', 'Ghosts', 'theydidthemath', 'FixMyPrint', 'Porsche', 'aviation', 'hypotheticalsituation', 'ClashRoyale', 'firstimpression', 'meirl', 'Brooklyn', 'codes', 'slavestodarkness', 'newjersey', 'funny', 'BeginnerWoodWorking', 'personalfinance', 'gifsthatkeepongiving', 'sports', 'whatisthisthing', 'Scams', 'FindTheSniper', 'fantasyfootball', 'wisconsin', 'battlestations', 'onionheadlines', 'FirstTimeHomeBuyer', 'RandomQuestion', 'unpopularopinion', 'ElonJetTracker', 'tattooadvice', 'nextfuckinglevel', 'whatcarshouldIbuy', 'TooAfraidToAsk', 'ParlerWatch', 'octopus', 'whatisthiscar', 'meat', 'charcoal', 'casualiama', 'WouldYouRather', 'CasualConversation', 'homeimprovementideas', 'memes', 'Planes', 'unitedairlines', 'AskAnAmerican', 'rangers', 'hockey', 'law', 'politics', 'streetlightmanifesto', 'secondrodeo', 'Justrolledintotheshop', 'IASIP', 'PublicFreakout', 'worldnews', 'OneOrangeBraincell', 'BoomersBeingFools', 'pics', 'castiron', 'shittysuperpowers', 'FlashForge', 'TopSecretRecipes', 'Brewers', 'AskMechanics', 'TattooDesigns', 'RoastMyCar', 'news', 'gardening', 'therewasanattempt', 'Doppleganger', 'Unexpected', 'MantisShrimp', 'DungeonsAndDragons', 'interestingasfuck', 'metaldetecting', 'KitchenConfidential', 'ThereIsnoCat', 'Guitar', 'googlemapsshenanigans', 'BuyItForLife', 'CatsAreAssholes', 'u_erinthul', 'aww', 'NewBrunswickNJ', 'watchpeoplesurvive', 'drawing', 'whowouldwin', 'HomeImprovement', 'airport', 'wallstreetbets', 'AskEngineers', 'ageofsigmar', 'educationalgifs', 'CatastrophicFailure', 'grilling', 'architecture', 'UFOs', 'homedecoratingCJ', 'McMansionHell', 'Music', 'Watches', 'UrbanHell', 'AbsoluteUnits', 'Halloween_Costumes', 'Ohio', 'Miami', 'DnD', 'LiminalSpace', 'Wellthatsucks', 'WildWestPics', 'AskHR', 'DMAcademy', 'relationship_advice', 'UkraineWarVideoReport', 'mildlyinfuriating', 'ReefTank', 'BBQ', 'fromsoftware', 'AskElectricians'}\n"
     ]
    },
    {
     "name": "stderr",
     "output_type": "stream",
     "text": [
      "Scraping user comments:   0%|          | 65/29901 [13:39<121:06:34, 14.61s/it]"
     ]
    },
    {
     "name": "stdout",
     "output_type": "stream",
     "text": [
      "Comments saved to /Users/smutnuri/Documents/UVA/_Projects/Fall24/CBM/CBMRepo/Data/usercomments/00stoll_usercomments.json\n",
      "{'thedavidpakmanshow', 'scotus', 'UnethicalLifeProTips', 'Cooking', 'LifeProTips', 'maryland', 'movies', 'Construction', 'NoStupidQuestions', 'Political_Revolution', 'baseballcards', 'democrats', 'science', 'Popeyes', 'nytimes', 'Adulting', 'StudentLoans', 'Futurology', 'conspiracy', 'AskReddit', 'GrowBuddy', 'facepalm', 'thanksgiving', 'BB_Stock', 'antiwork', 'WhitePeopleTwitter', 'aldi', 'Showerthoughts', 'mildlyinteresting', 'ask', 'HistoryWhatIf', 'explainlikeimfive', 'UpliftingNews', 'television', 'books', 'askscience', 'FluentInFinance', 'Presidents', 'dataisbeautiful', 'stupidquestions', 'microgrowery', 'nfl', 'DIY', 'gifs', 'Lottery', 'TheMajorityReport', 'Fauxmoi', 'inthenews', 'Foodforthought', 'SearsForever', 'BreakingPointsNews', 'NYGiants', 'climate', 'findapath', 'funny', 'personalfinance', 'europe', 'sports', '2x2growery', 'unusual_whales', 'RealEstate', 'todayilearned', 'stocks', 'basketballcards', 'potato', 'nottheonion', 'inflation', 'easternshoremd', 'business', 'politics', 'ValueInvesting', 'dividends', 'worldnews', 'BurgerKing', 'pics', 'Virginia', 'Commanders', 'orioles', 'investing', 'burgers', 'oil', 'Destiny', 'REBubble', 'wallstreetbets', 'questions', 'baltimore', 'videos', 'Music', 'energy', 'OldSchoolCool', 'AskALiberal', 'footballcards', 'Millennials', 'UkraineRussiaReport', 'food'}\n"
     ]
    },
    {
     "name": "stderr",
     "output_type": "stream",
     "text": [
      "Scraping user comments:   0%|          | 66/29901 [13:55<124:54:52, 15.07s/it]"
     ]
    },
    {
     "name": "stdout",
     "output_type": "stream",
     "text": [
      "Comments saved to /Users/smutnuri/Documents/UVA/_Projects/Fall24/CBM/CBMRepo/Data/usercomments/00xjOCMD_usercomments.json\n",
      "{'Paleontology', 'WatchPeopleDieInside', 'Damnthatsinteresting', 'DesignPorn', 'Fauxmoi', 'CineShots', 'Showerthoughts', 'bodyweightfitness', 'scifi', 'movies', 'fujifilm', 'Moviesinthemaking', 'expats', 'printSF', 'pleistocene', 'Anjelica_Ebbi', 'gadgets', 'sciencefiction', 'NatureIsFuckingLit', 'ABoringDystopia', 'WatchItForThePlot', 'interestingasfuck', 'CelebsGW', 'AmerExit', 'history', 'explainlikeimfive', 'midjourney', 'science', 'AubreyStar', 'television', 'Autos', 'AskMen', 'EverythingScience', 'askspain', 'answers', 'malefashionadvice', 'Xennials', 'ThisCelebrity', 'todayilearned', 'GirlsFinishingTheJob', 'books', 'Naturewasmetal', 'x100vi', 'TikTokCringe', 'nottheonion', 'eamesknockoffs', 'TrueFilm', 'runwayml', 'rolex', 'Futurology', 'MovieDetails', 'AfterEffects', 'technews', 'AskReddit', 'ChristopherNolan', 'BeAmazed', 'ScienceBasedParenting', 'Cinema4D', 'Hairloss', 'Paleoart', 'x100v', 'cars', 'NostalgiaFapping', 'politics', 'space', 'worldnews', 'animation', 'entertainment', 'newslive', 'WhitePeopleTwitter'}\n"
     ]
    },
    {
     "name": "stderr",
     "output_type": "stream",
     "text": [
      "Scraping user comments:   0%|          | 67/29901 [14:10<125:47:36, 15.18s/it]"
     ]
    },
    {
     "name": "stdout",
     "output_type": "stream",
     "text": [
      "Comments saved to /Users/smutnuri/Documents/UVA/_Projects/Fall24/CBM/CBMRepo/Data/usercomments/00zxcvbnmnbvcxz_usercomments.json\n",
      "{'YellowstonePN', 'selfpublish', 'malefashionadvice', 'kdramarecommends', 'KDP', 'books', 'suggestmeabook'}\n"
     ]
    },
    {
     "name": "stderr",
     "output_type": "stream",
     "text": [
      "Scraping user comments:   0%|          | 68/29901 [14:11<89:17:08, 10.77s/it] "
     ]
    },
    {
     "name": "stdout",
     "output_type": "stream",
     "text": [
      "Comments saved to /Users/smutnuri/Documents/UVA/_Projects/Fall24/CBM/CBMRepo/Data/usercomments/010246_usercomments.json\n",
      "{'gmu', 'notinteresting', 'tumblr', 'Funnymemes', 'PS4', 'nova', 'AITAH', 'liluzivert', 'pilonidalcyst', 'PeterExplainsTheJoke', 'Surface', 'XXXTENTACION', 'moviecritic', 'legaladvice', 'ModernWarfareIII', 'popculturechat', 'TwoXChromosomes', 'NoStupidQuestions', 'windows', 'pettyrevenge', 'Frugal', 'australia', 'SessionSkateSim', 'rap', 'LilPeep', 'Advice', 'JuiceWRLD', 'BestofRedditorUpdates', 'Economics', 'BeAmazed', 'Futurology', 'Dynavap', 'maxpayne', 'AskReddit', 'delta', 'CompTIA', 'Agoraphobia', 'megalophobia', 'facepalm', 'cats', 'oddlysatisfying', 'pcmasterrace', 'AmIOverreacting', 'antiwork', 'dankmemes', 'gaming', 'WhitePeopleTwitter', 'Damnthatsinteresting', 'IdiotsInCars', 'suicidebywords', 'Showerthoughts', 'macbookair', 'LeopardsAteMyFace', 'justgalsbeingchicks', 'CBD', 'hardware', 'badroommates', 'youtube', 'asklatinamerica', 'technology', 'LoveIslandTV', 'TIHI', 'kencarson', 'pcgaming', 'TellMeLiesHulu', 'me_irl', 'self', 'LetsTalkBam', 'books', 'hiphopheads', 'rockstar', 'OCD', 'Tinder', 'FluentInFinance', 'RepTime', 'LoveIsBlindOnNetflix', 'dataisbeautiful', 'Money', 'AntiTrumpAlliance', 'glasses', 'AmItheAsshole', 'RoastMe', 'blunderyears', 'OutOfTheLoop', 'GTAIV', 'NonPoliticalTwitter', 'SaratiOfficialNSFW', 'retailhell', 'AlanWake', 'sza', 'Sneakers', 'Hair', 'meirl', 'doordash_drivers', 'TwoHotTakes', 'ShilohDynasty', 'ExplainTheJoke', 'funny', 'TrueCrimeDiscussion', 'projectsession', 'FirstTimeHomeBuyer', 'PS5', 'LinkedInLunatics', 'LoveIslandUSA', 'clevercomebacks', 'todayilearned', 'GTA', 'maybemaybemaybe', 'TikTokCringe', 'comics', 'ImTheMainCharacter', 'nottheonion', 'KidsAreFuckingStupid', 'Apartmentliving', 'blackops6', 'politics', 'BlackPeopleTwitter', 'Acura', '13or30', 'PublicFreakout', 'worldnews', 'Drizzy', 'pics', 'BoomersBeingFools', 'Anxiety', 'FuckYouKaren', 'FemaleHairLoss', 'careeradvice', 'benzodiazepines', 'TheNorthFace', 'tissot', 'decadeology', 'playboicarti', 'SkateStory', 'news', 'reddeadredemption', 'SkateEA', 'therewasanattempt', 'Unexpected', 'KitchenConfidential', 'AnimalsBeingBros', 'interestingasfuck', 'coastFIRE', 'aww', 'euphoria', 'traderjoes', 'RandomThoughts', 'REBubble', 'wallstreetbets', 'liltracy', 'KendrickLamar', 'GenZ', 'Kanye', 'TaylorSwift', 'GYM', 'Watches', 'travisscott', '2meirl4meirl', 'KingOfTheHill', 'freefromwork', 'malelivingspace', 'Felons', 'short', 'PostMalone', 'trippieredd', 'OldSchoolCool', 'reddeadredemption2', 'PcMasterRaceBuilds', 'CalebHammer', 'GothBoiClique', 'Millennials', 'perfectlycutscreams', 'relationship_advice', 'AnimalsBeingJerks', 'mildlyinfuriating', 'crv', 'nextfuckinglevel'}\n"
     ]
    },
    {
     "name": "stderr",
     "output_type": "stream",
     "text": [
      "Scraping user comments:   0%|          | 69/29901 [14:27<102:37:57, 12.39s/it]"
     ]
    },
    {
     "name": "stdout",
     "output_type": "stream",
     "text": [
      "Comments saved to /Users/smutnuri/Documents/UVA/_Projects/Fall24/CBM/CBMRepo/Data/usercomments/03xoxo05_usercomments.json\n",
      "{'notinteresting', 'confession', 'MildlyBadDrivers', 'comedyheaven', 'Sverige', 'AskUK', 'movies', 'AITAH', 'apple', 'TwoXChromosomes', 'fuckcars', 'holdmycatnip', 'NoStupidQuestions', 'democrats', 'science', 'australia', 'LinusTechTips', 'GreatBritishMemes', 'Asksweddit', 'BestofRedditorUpdates', 'houseplants', 'BeAmazed', 'Futurology', 'AskReddit', 'facepalm', 'LondonUnderground', 'cats', 'oddlysatisfying', 'ukdrill', 'AmIOverreacting', 'pundarblocket', 'london', 'WhitePeopleTwitter', 'Damnthatsinteresting', 'Showerthoughts', 'idiocracy', 'mildlyinteresting', 'oddlyspecific', 'NatureIsFuckingLit', 'rareinsults', 'explainlikeimfive', 'chaoticgood', 'UpliftingNews', 'television', 'czech', 'batman', 'self', 'me_irl', 'MurderedByWords', 'books', 'glasgow', 'CuratedTumblr', 'Tinder', 'CarTalkUK', 'Scotland', 'FluentInFinance', 'dataisbeautiful', 'DIY', 'IndiaSpeaks', 'Fauxmoi', 'sweden', 'GetMotivated', 'Conservative', 'madlads', 'TrueUnpopularOpinion', 'drivingUK', 'gifsthatendtoosoon', 'hypotheticalsituation', 'TwoHotTakes', 'meirl', 'soccercirclejerk', 'funny', 'europe', 'sports', 'CasualUK', 'unitedkingdom', 'unket', 'clevercomebacks', 'todayilearned', 'philosophy', 'Portsmouth', 'nottheonion', 'KidsAreFuckingStupid', 'interesting', 'GreenAndPleasant', 'UKhiking', 'SipsTea', 'stockholm', 'CyberStuck', 'BlackPeopleTwitter', 'JoeRogan', 'worldnews', 'pics', 'BoomersBeingFools', 'midlyinteresting', 'shittymoviedetails', 'PhotoshopRequest', 'creepy', 'povertyfinance', 'playboicarti', 'spiders', 'news', 'Unexpected', 'GymMemes', 'interestingasfuck', 'fixedbytheduet', 'UnbelievableStuff', 'Bumperstickers', 'OTMemes', 'UFOs', 'tifu', 'tragedeigh', 'Music', 'trans', 'DiWHY', 'MadeMeSmile', 'Wellthatsucks', 'lego', 'GardeningUK', 'mildlyinfuriating', 'food', 'uknews', 'nextfuckinglevel'}\n"
     ]
    },
    {
     "name": "stderr",
     "output_type": "stream",
     "text": [
      "Scraping user comments:   0%|          | 70/29901 [14:35<91:17:48, 11.02s/it] "
     ]
    },
    {
     "name": "stdout",
     "output_type": "stream",
     "text": [
      "Comments saved to /Users/smutnuri/Documents/UVA/_Projects/Fall24/CBM/CBMRepo/Data/usercomments/0FFFXY_usercomments.json\n",
      "{'Python', 'compsci', 'AskNYC', 'webdev', 'emacs', 'apple', 'CryptoCurrency', 'ProgrammingDiscussion', 'Bumble', 'programming', 'CFB', 'bodybuilding', 'ezraklein', 'NixOS', 'peloton', 'dailyprogrammer', 'chess', 'Android', 'books', 'GooglePixel', 'haskell', 'cpp', 'ProgrammerHumor', 'nyc', 'cars', 'SearchEnginePodcast', 'MMA', 'samharris', 'JoeRogan', 'cpp_questions'}\n"
     ]
    },
    {
     "name": "stderr",
     "output_type": "stream",
     "text": [
      "Scraping user comments:   0%|          | 71/29901 [14:39<74:09:36,  8.95s/it]"
     ]
    },
    {
     "name": "stdout",
     "output_type": "stream",
     "text": [
      "Comments saved to /Users/smutnuri/Documents/UVA/_Projects/Fall24/CBM/CBMRepo/Data/usercomments/0Il0I0l0_usercomments.json\n",
      "{'notinteresting', 'UnresolvedMysteries', 'OurFlagMeansDeath', 'comedyheaven', 'Funnymemes', 'LifeProTips', 'SquaredCircle', 'movies', 'gadgets', 'AITAH', 'GetNoted', 'teenagers', 'Asmongold', 'starterpacks', 'PeterExplainsTheJoke', 'Construction', 'moviecritic', 'SweatyPalms', 'Eldenring', 'cartoons', 'booksuggestions', 'moistcr1tikal', 'TwoXChromosomes', 'repost', 'fuckcars', 'NoStupidQuestions', 'popculturechat', 'NoShitSherlock', 'dashcamgifs', 'InlandEmpire', 'democrats', 'science', 'pettyrevenge', 'asoiaf', 'TrueReddit', 'Frugal', 'crochet', 'Anticonsumption', 'disneyprincess', 'TeenagersButBetter', 'Disneyland', 'MarkMyWords', 'BestofRedditorUpdates', 'Economics', 'BeAmazed', 'Futurology', 'ElderScrolls', 'AskReddit', 'AnythingGoesNews', 'malegrooming', 'AdviceAnimals', 'VintageToys', 'worldbuilding', 'megalophobia', 'spain', 'cats', 'oddlysatisfying', 'facepalm', 'depression_memes', 'pcmasterrace', 'TopCharacterDesigns', 'AmIOverreacting', 'wholesomememes', 'antiwork', 'walmart', 'gaming', 'WhitePeopleTwitter', 'Damnthatsinteresting', 'Showerthoughts', 'HazbinHotel', 'legendofkorra', 'mildlyinteresting', 'DeepRockGalactic', 'rant', 'nostalgia', 'oddlyspecific', 'geography', 'ask', 'youtube', 'aaaaaaacccccccce', 'technology', 'BaldursGate3', 'conservativeterrorism', 'PrequelMemes', 'AnimalsBeingDerps', 'pokemongo', 'television', 'union', 'landscaping', 'TheOnion', 'CreditScore', 'pcgaming', 'hazbin', 'self', 'Satisfyingasfuck', 'me_irl', 'MurderedByWords', 'NoLawns', 'saltierthankrayt', 'books', 'WomenInNews', 'coolguides', 'legal', 'CuratedTumblr', 'CharacterAI', 'Gifts', 'FluentInFinance', 'WorkReform', 'meme', 'the_everything_bubble', 'tattooadvice', 'WitchesVsPatriarchy', 'Money', 'work', 'MichaelRMiller', 'MemeVideos', 'AtlantisTheLostEmpire', 'Xennials', 'DIY', 'bi_irl', 'Spiderman', 'Fauxmoi', 'arborists', 'inthenews', 'Marvel', 'Edmonton', 'Conservative', 'Fallout', 'madlads', 'NonPoliticalTwitter', 'AllThatIsInteresting', 'hypotheticalsituation', 'gameofthrones', 'DeepFuckingValue', 'meirl', 'TwoHotTakes', 'climate', 'fantasyromance', 'blackcats', 'minnesota', 'technicallythetruth', 'ExplainTheJoke', 'funny', 'WarriorCats', 'personalfinance', 'Costco', 'Goodwill_Finds', 'FirstTimeHomeBuyer', 'florida', 'LinkedInLunatics', 'clevercomebacks', 'unpopularopinion', 'CrappyDesign', 'nextfuckinglevel', 'todayilearned', 'Cryptozoology', 'travel', 'maybemaybemaybe', 'TikTokCringe', 'comics', 'nottheonion', 'HighStrangeness', 'KidsAreFuckingStupid', 'interesting', 'UkrainianConflict', 'memes', 'Weird', 'JustGuysBeingDudes', 'D23Expo', 'PokeLeaks', 'KamalaHarris', 'law', 'SipsTea', 'lotrmemes', 'TopCharacterTropes', 'Teachers', 'politics', 'Parenting', 'CyberStuck', 'harrypotter', 'worldnews', 'DesignPorn', 'pics', 'Iowa', 'OneOrangeBraincell', 'Awww', 'CATHELP', 'BoomersBeingFools', 'boxoffice', 'lgbt', 'nationalparks', 'JusticeForPudding', 'animalid', 'news', 'Fantasy', 'houstonwade', 'Unexpected', 'interestingasfuck', 'UnbelievableStuff', 'AITA_WIBTA_PUBLIC', 'BuyItForLife', 'aww', 'StarWars', 'lotr', 'DOG', 'Bumperstickers', 'HouseOfTheDragon', 'youseeingthisshit', 'absolutelynotme_irl', 'GenZ', 'videos', 'mapporncirclejerk', 'Global_News_Hub', 'tragedeigh', 'EntitledPeople', '2meirl4meirl', 'Catswhoyell', 'fantasywriters', 'DiWHY', 'dashcams', 'HelluvaBoss', 'LiminalSpace', 'MinecraftMemes', 'skeptic', 'MadeMeSmile', 'Wellthatsucks', 'lego', 'Millennials', 'HomeMaintenance', 'StupidFood', 'FunnyAnimals', 'YouShouldKnow', 'blursed_videos', 'Eyebleach', 'mildlyinfuriating', 'suggestmeabook', 'bonehurtingjuice', 'LeaksAndRumors', 'atheism'}\n"
     ]
    },
    {
     "name": "stderr",
     "output_type": "stream",
     "text": [
      "Scraping user comments:   0%|          | 72/29901 [14:57<96:14:47, 11.62s/it]"
     ]
    },
    {
     "name": "stdout",
     "output_type": "stream",
     "text": [
      "Comments saved to /Users/smutnuri/Documents/UVA/_Projects/Fall24/CBM/CBMRepo/Data/usercomments/0MysticMemories_usercomments.json\n",
      "{'UK_Food', 'MovieSuggestions', 'AskUK', 'Cooking', 'LifeProTips', 'ghibli', 'samsunggalaxy', 'movies', 'RedDwarf', 'teenagers', 'TheITcrowd', 'playstation', 'moviecritic', 'rosesarered', 'CleaningTips', 'blackdesertonline', 'TwoXChromosomes', 'repost', 'euro2024', 'GuessTheMovie', 'NoStupidQuestions', 'YotoPlayer', 'AbstractArt', 'DragonAgeVeilguard', 'steam_giveaway', 'Smartphones', 'TeenagersButBetter', 'running', 'Adulting', 'UKfood', 'Onyx_Boox', 'AskReddit', 'stories', 'pcmasterrace', 'BritishTV', 'TvShows', 'gamingsuggestions', 'FIlm', 'gaming', 'sonos', 'buildapc', 'MoviePosterPorn', 'Showerthoughts', 'TheInbetweeners', 'webdev', 'mildlyinteresting', 'words', 'Handhelds', 'ask', 'AlanPartridge', 'TheApprentice', 'Snorkblot', 'explainlikeimfive', 'nvidiashield', 'hygiene', 'sitcoms', 'answers', 'WindowsOnDeck', 'spotify', 'seinfeld', 'books', 'TrekBikes', 'OLED_Gaming', 'DIY', 'gifs', 'Art', 'gigabyte', 'GetMotivated', 'Comebacks', 'FifaCareers', 'drivingUK', 'Paddington', 'MusicRecommendations', 'hypotheticalsituation', 'meirl', 'beginnerrunning', 'SuggestALaptop', 'cyberpunkgame', 'TheSimpsons', 'candy', 'TheOfficeUK', 'Letterboxd', 'funny', 'BrokenSword', 'sports', 'CasualUK', 'england', 'cookingforbeginners', 'unpopularopinion', 'Scrubs', 'todayilearned', 'blacksabbath', 'nottheonion', 'ItsAllAboutGames', 'WouldYouRather', 'CasualConversation', 'pics', 'Championship', 'ScenesFromAHat', 'nosleep', 'musicsuggestions', 'creepy', 'footballmanager', 'televisionsuggestions', 'photoshopbattles', 'FinalFantasy', 'TVTooHigh', 'aww', 'RandomThoughts', 'macbookpro', 'questions', 'videos', 'tifu', 'Music', 'DIYUK', 'PickAnAndroidForMe', 'OldSchoolCool', 'rickygervais', 'GalaxyS23Ultra', 'southpark', 'videogames', 'ContractorUK', 'S24Ultra', 'bluey', 'bald', 'suggestmeabook', 'food', 'Twitch'}\n"
     ]
    },
    {
     "name": "stderr",
     "output_type": "stream",
     "text": [
      "Scraping user comments:   0%|          | 73/29901 [15:07<92:15:03, 11.13s/it]"
     ]
    },
    {
     "name": "stdout",
     "output_type": "stream",
     "text": [
      "Comments saved to /Users/smutnuri/Documents/UVA/_Projects/Fall24/CBM/CBMRepo/Data/usercomments/0Neji_usercomments.json\n",
      "{'WTF', 'mealtimevideos', 'GSP', 'k9sports', 'movies', 'mildlyinteresting', 'Monstera', 'LeopardsAteMyFace', 'hmmm', 'suggestmeabook', 'news', 'therewasanattempt', 'Unexpected', 'fixedbytheduet', 'grandrapids', 'cyberpunkgame', 'NoStupidQuestions', 'aww', 'husky', 'science', 'funny', 'asoiaf', 'HouseOfTheDragon', 'olympics', 'germanshorthairs', 'discworld', 'Bloodsworn', 'wisconsin', 'vizsla', 'DogBreeding', 'Kneesovertoes', 'kzoo', 'worldnews', 'wyoming', 'videos', 'florida', 'unpopularopinion', 'Michigan', 'Stormlight_Archive', 'running', 'books', 'CrappyDesign', 'WoTshow', 'TikTokCringe', 'TheBoys', 'nottheonion', 'TriCitiesWA', 'Bikejoring', 'RunningWithDogs', 'AskReddit', 'WetlanderHumor', 'BackYardChickens', 'politics', 'greatdanes', 'SelfAwarewolves', 'natureismetal', 'bikecommuting', 'mildlyinfuriating', 'PublicFreakout', 'dogs', 'pics', 'boardgames', 'gaming'}\n"
     ]
    },
    {
     "name": "stderr",
     "output_type": "stream",
     "text": [
      "Scraping user comments:   0%|          | 74/29901 [15:34<132:14:41, 15.96s/it]"
     ]
    },
    {
     "name": "stdout",
     "output_type": "stream",
     "text": [
      "Comments saved to /Users/smutnuri/Documents/UVA/_Projects/Fall24/CBM/CBMRepo/Data/usercomments/0b0011_usercomments.json\n",
      "{'LegacyOfKain', 'Journalism', 'horizon', 'NewsOfTheStupid', 'ShouldIbuythisgame', 'movies', 'AITAH', 'FFXVI', 'floorplan', 'systemofadown', 'playstation', 'PeterExplainsTheJoke', 'DungeonsAndDaddies', 'moviecritic', 'legaladvice', 'dccomicscirclejerk', 'ZeldaTearsOfKingdom', 'NoStupidQuestions', 'SquareEnix', 'FantasticFour', 'Smartphones', 'brooklynninenine', 'superman', 'zelda', 'AskGamers', 'newhampshire', 'cocktails', 'massachusetts', 'AnythingGoesNews', 'AskReddit', 'AMA', 'aspiememes', 'HadesTheGame', 'ffxiv', 'tearsofthekingdom', 'AmIOverreacting', 'diablo4', 'CustomMarvelSnap', 'disney', 'FIlm', 'casualnintendo', 'Metroid', 'ForTheGloryLand', 'AlamoDrafthouse', 'MarvelSnap', 'StarWarsCantina', 'rareinsults', 'yakuzagames', 'GodofWar', 'SpidermanPS4', 'UpliftingNews', 'MBMBAM', 'sitcoms', 'self', 'Suikoden', 'MurderedByWords', 'books', 'Avengers', 'splatoon', 'mbta', 'PetPeeves', 'FluentInFinance', 'NintendoSwitch', 'boston', 'MapPorn', 'bidets', 'Earth199999', 'AmItheAsshole', 'OLED_Gaming', 'superheroes', 'OutOfTheLoop', 'Marvel', 'saltierthancrait', 'Manipulation', 'AllThatIsInteresting', 'hypotheticalsituation', 'TwoHotTakes', 'Greenlantern', 'malden', 'NintendoSwitch2', 'ExplainTheJoke', 'MarvelSnapDecks', 'superpower', 'Wolverine', 'Costco', 'PS5', 'marvelsnapcomp', 'clevercomebacks', 'umass', 'thanksimcured', 'TikTokCringe', 'Springfield', 'xmen', 'interesting', 'AITH', 'AlignmentCharts', 'Concerts', 'deadpool', 'pics', 'BoomersBeingFools', 'marvelcomics', 'consoles', 'CaptainAmerica', 'musicsuggestions', 'johnoliver', 'dropout', 'AskFeminists', 'TOTK', 'TheBesties', 'DungeonsAndDragons', 'tcltvs', 'KitchenConfidential', 'interestingasfuck', 'FinalFantasy', 'StarWars', 'RandomThoughts', 'Somerville', 'Disney_Infinity', 'Breath_of_the_Wild', 'BostonSocialClub', 'tifu', 'GenZ', 'musicals', 'videos', 'Ohio', 'ghostoftsushima', 'AskMenAdvice', 'skeptic', 'Wellthatsucks', 'oneplus', 'videogames', 'PlaystationPortal', 'AITA_WIBTA_PUBLIC', 'agedlikemilk'}\n"
     ]
    },
    {
     "name": "stderr",
     "output_type": "stream",
     "text": [
      "Scraping user comments:   0%|          | 75/29901 [15:53<140:42:04, 16.98s/it]"
     ]
    },
    {
     "name": "stdout",
     "output_type": "stream",
     "text": [
      "Comments saved to /Users/smutnuri/Documents/UVA/_Projects/Fall24/CBM/CBMRepo/Data/usercomments/0bsessions324_usercomments.json\n",
      "{'Damnthatsinteresting', 'AskSocialScience', 'SpineSurgery', 'UnethicalLifeProTips', 'beginnerfitness', 'AITAH', 'legaladvicecanada', 'canadian', 'saskatchewan', 'AllThatIsInteresting', 'NovaScotia', 'houston', 'legaladvice', 'alberta', 'Health', 'Genealogy', 'popculturechat', 'AITA_WIBTA_PUBLIC', 'Askpolitics', 'NoStupidQuestions', 'Winnipeg', 'pics', 'Spondylolisthesis', 'Manitoba', 'CanadaPolitics', 'science', 'CanadianTeachers', 'EverythingScience', 'AskACanadian', 'SpinalStenosis', 'unusual_whales', 'todayilearned', 'books', 'Advice', 'backpain', 'teaching', 'umanitoba', 'canada', 'AskReddit', 'AMA', 'schoolcounseling', 'FluentInFinance', 'LifeAdvice', 'millenials', 'AskDocs', 'FunnyAnimals', 'law', 'psychologystudents', 'AskTeachers', 'politics', 'PersonalFinanceCanada', 'mildlyinfuriating', 'AmItheAsshole', 'Nails', 'entertainment', 'Christianity'}\n"
     ]
    },
    {
     "name": "stderr",
     "output_type": "stream",
     "text": [
      "Scraping user comments:   0%|          | 76/29901 [15:57<107:37:07, 12.99s/it]"
     ]
    },
    {
     "name": "stdout",
     "output_type": "stream",
     "text": [
      "Comments saved to /Users/smutnuri/Documents/UVA/_Projects/Fall24/CBM/CBMRepo/Data/usercomments/0caloriecheesecake_usercomments.json\n",
      "{'notinteresting', 'golf', 'DiscoElysium', 'comedyheaven', 'artcommissions', 'tumblr', 'NewsOfTheStupid', 'LifeProTips', 'Funnymemes', 'LatinoPeopleTwitter', 'movies', 'AITAH', 'starterpacks', 'wholesomeanimemes', 'preguntaleareddit', 'PropagandaPosters', 'conversaciones', 'SweatyPalms', 'SoyElMalo', 'carpenterbrut', 'Memesbuenaonda', 'TwoXChromosomes', 'NoStupidQuestions', 'MexicoFinanciero', 'commissions', 'Hololive', 'MexicanMemes', 'SovietWomble', 'UNBGBBIIVCHIDCTIICBG', 'ShittyMapPorn', 'MexicoCity', 'trigger', 'funnysigns', 'Metal', 'Steam', 'MadMax', 'RedditPregunta', 'recipes', 'hermosillo', 'BeAmazed', 'Futurology', 'AskReddit', 'LiesOfP', 'megalophobia', 'facepalm', 'shittymobilegameads', 'space', 'pcmasterrace', 'wholesomememes', 'gaming', 'WhitePeopleTwitter', 'WatchPeopleDieInside', 'Damnthatsinteresting', 'Showerthoughts', 'Lawyertalk', 'suicidebywords', 'CreepyArt', 'mildlyinteresting', 'deepseacreatures', 'oddlyspecific', 'NatureIsFuckingLit', 'ask', 'rareinsults', 'onejob', 'mexico', 'CDMX', 'yakuzagames', 'UpliftingNews', 'signalis', 'Blasphemous', 'estafasyfraudes', 'MexicoRepCVT', 'landscaping', 'lacamiseta', 'ArtefactPorn', 'answers', 'self', 'me_irl', 'PixelArt', 'libros', 'doujinshi', 'escritura', 'books', 'coolguides', 'food', 'UNHhhh', 'CuratedTumblr', 'nagatoro', 'regularcarreviews', 'UNAM', 'ChubbyUK', 'FluentInFinance', 'MexicoMagico', 'marvelmemes', 'painting', 'jobs', 'MapPorn', 'Money', 'RedLetterMedia', 'MemeVideos', 'DIY', 'RoastMe', 'gifs', 'Mexico_News', 'Art', 'blunderyears', 'inthenews', 'ChainsawMan', 'Avatar', 'madlads', 'NonPoliticalTwitter', 'silenthill', 'theydidthemath', 'DragonMaid', 'saltillo', 'nier', 'meirl', 'LittleWitchAcademia', 'HalloweenHardcore', 'Bossfight', 'DesirePath', 'SchizophreniaRides', 'DigitalArt', 'ExplainTheJoke', 'queretaro', 'funny', 'TecDeMonterrey', 'whitewhale', 'MemesEnEspanol', 'namenerds', 'rule34', 'europe', 'VideojuegosMX', 'Gaming_es', 'Dandadan', 'ExplicameComoMorrito', 'LinkedInLunatics', 'photography', 'clevercomebacks', 'geekygirls', 'mexicanfood', 'awwwtf', 'todayilearned', 'whenthe', 'maybemaybemaybe', 'ImTheMainCharacter', 'comics', 'nottheonion', 'AskRedditAfterDark', 'interesting', 'memes', 'Emo', 'Pennsylvania', 'DesirePaths', 'Weird', 'Culiacan', 'singularity', 'Cyberpunk', 'CyberStuck', 'BlackPeopleTwitter', 'HotlineMiami', 'carscirclejerk', 'Justfuckmyshitup', 'IASIP', 'worldnews', 'pics', 'Awww', 'AccidentalRenaissance', 'castiron', 'Skullgirls', 'Preguntas_de_Reddit_', 'vintageads', 'creepy', 'Baking', 'MujicoCity', 'BrandNewSentence', 'VivimosEnUnaSociedad', 'gardening', 'news', 'Unexpected', 'CR10sPRO', 'interestingasfuck', 'TwoBestFriendsPlay', 'Guiltygear', 'THE_PACK', 'drawing', 'RandomThoughts', 'Gamingcirclejerk', 'VaporwaveAesthetics', 'Silksong', 'nevertellmetheodds', 'GenZ', 'McMansionHell', 'videos', 'tragedeigh', 'Music', 'UrbanHell', 'AbsoluteUnits', 'Catswhoyell', 'Guadalajara', 'TargetedShirts', 'DiWHY', 'EnoughMuskSpam', 'TheLastAirbender', 'MadeMeSmile', 'oddlyterrifying', 'learnart', '3amjokes', 'futurefunk', 'StupidFood', 'StreetFighter', 'relationship_advice', 'videogames', 'HollowKnight', 'ElCalifato', 'Breadit', 'thalassophobia', 'mildlyinfuriating', 'suggestmeabook', 'ClipStudio', 'taquerosprogramadores', 'nextfuckinglevel'}\n"
     ]
    },
    {
     "name": "stderr",
     "output_type": "stream",
     "text": [
      "Scraping user comments:   0%|          | 77/29901 [16:29<156:06:55, 18.84s/it]"
     ]
    },
    {
     "name": "stdout",
     "output_type": "stream",
     "text": [
      "Comments saved to /Users/smutnuri/Documents/UVA/_Projects/Fall24/CBM/CBMRepo/Data/usercomments/0dty0_usercomments.json\n",
      "{'Art', 'linux', 'sims4cc', 'adhdwomen', 'Showerthoughts', 'Overwatch', 'GetMotivated', 'HarryPotterGame', 'creepy', 'antinatalism', 'Funnymemes', 'dogswearinghats', 'hearing', 'cute', 'mildlyinteresting', 'autism', 'rant', 'Productivitycafe', 'HauntedCosmos', 'TwoXChromosomes', 'dndmemes', 'bigboobproblems', 'explainlikeimfive', 'pics', 'aww', 'TheSims4Mods', 'AskPsychiatry', 'science', 'funny', 'RandomThoughts', 'crochet', 'Embroidery', 'questions', 'linuxsucks', 'theology', 'AbruptChaos', 'HPHogwartsMystery', 'rescuedogs', 'books', 'changemyview', 'PetPeeves', 'CasualConversation', 'Christian', 'BeAmazed', 'Futurology', 'askscience', 'canada', 'StardewValley', 'AskReddit', 'thesims', 'newbrunswickcanada', 'Hamilton', 'Sims4', 'Christianity', 'csMajors', 'singing', 'PersonalFinanceCanada', 'HPHMGroupFinder', 'linuxquestions', 'overwatch2', 'StardewMemes', 'harrypotter', 'food', 'DIY', 'musicians', 'gifs', 'gaming'}\n"
     ]
    },
    {
     "name": "stderr",
     "output_type": "stream",
     "text": [
      "Scraping user comments:   0%|          | 78/29901 [16:39<132:06:30, 15.95s/it]"
     ]
    },
    {
     "name": "stdout",
     "output_type": "stream",
     "text": [
      "Comments saved to /Users/smutnuri/Documents/UVA/_Projects/Fall24/CBM/CBMRepo/Data/usercomments/0lexis_usercomments.json\n",
      "{'MovieSuggestions', 'Cooking', 'ShitpostXIV', 'traumatizeThemBack', 'povertyfinance', 'Comebacks', 'ffxivdiscussion', 'movies', 'mildlyinteresting', 'AITAH', 'creepy', 'AskVet', 'flicks', 'whatif', 'ffxivart', 'NonPoliticalTwitter', 'hypotheticalsituation', 'SeriousConversation', 'Productivitycafe', 'TwoXChromosomes', 'FinalFantasy', 'NoStupidQuestions', '80s', 'Forgotten_Realms', 'drawing', 'Norway', 'ArtistLounge', 'confidentlyincorrect', 'getdisciplined', 'marvelstudios', 'norsk', 'CatAdvice', 'questions', 'AskOldPeople', 'AmITheJerk', 'CreepyBonfire', 'tifu', 'self', 'answers', 'OregonCoast', 'RandomQuestion', 'Pixelary', 'careerguidance', 'Animesuggest', 'WeightLossAdvice', 'Advice', 'Adulting', 'books', 'DnD', 'ItsAllAboutGames', 'PetPeeves', 'OldSchoolCool', 'AskReddit', 'DAE', 'Millennials', 'AdviceForTeens', 'TalesFromDF', 'Pets', 'NameMyCat', 'cats', 'ffxiv', 'genetec', 'AmIOverreacting', 'mildlyinfuriating', 'AITA_WIBTA_PUBLIC', 'pics', 'CATHELP', 'ScenesFromAHat', 'gaming', 'atheism'}\n"
     ]
    },
    {
     "name": "stderr",
     "output_type": "stream",
     "text": [
      "Scraping user comments:   0%|          | 79/29901 [16:48<116:37:55, 14.08s/it]"
     ]
    },
    {
     "name": "stdout",
     "output_type": "stream",
     "text": [
      "Comments saved to /Users/smutnuri/Documents/UVA/_Projects/Fall24/CBM/CBMRepo/Data/usercomments/0mnomidon_usercomments.json\n",
      "{'confession', 'Damnthatsinteresting', 'FridgeDetective', 'povertyfinance', 'malehairadvice', 'mildlyinteresting', 'AITAH', 'whatsongisthis', 'suggestmeabook', 'oddlyspecific', 'CannedSardines', 'TwoHotTakes', 'remotework', 'haikusbot', 'RandomThoughts', 'Bumperstickers', 'Scams', 'Catnames', 'MuslimSnark_', 'tifu', 'AbsoluteUnits', 'books', 'offmychest', 'KidsAreFuckingStupid', 'creepyencounters', 'MadeMeSmile', 'memes', 'Weird', 'lichensclerosus', 'Millennials', 'MTHFR', 'TurkeyJerky', 'cats', 'USCIS', 'Postpartum_Depression', 'asadsisters', 'TrueScaryStories', 'BeardAdvice', '2mediterranean4u', 'kobo', 'mildlyinfuriating', 'bald', 'AmItheAsshole', 'pics', 'Awww', 'no'}\n"
     ]
    },
    {
     "name": "stderr",
     "output_type": "stream",
     "text": [
      "Scraping user comments:   0%|          | 80/29901 [16:56<101:39:22, 12.27s/it]"
     ]
    },
    {
     "name": "stdout",
     "output_type": "stream",
     "text": [
      "Comments saved to /Users/smutnuri/Documents/UVA/_Projects/Fall24/CBM/CBMRepo/Data/usercomments/0princesspancakes0_usercomments.json\n",
      "{'interestingasfuck', 'todayilearned', 'books', 'teenagers', 'AmIOverreacting', 'personalfinance', 'AgathaAllAlong', 'RoastMe'}\n"
     ]
    },
    {
     "name": "stderr",
     "output_type": "stream",
     "text": [
      "Scraping user comments:   0%|          | 81/29901 [16:57<73:15:48,  8.84s/it] "
     ]
    },
    {
     "name": "stdout",
     "output_type": "stream",
     "text": [
      "Comments saved to /Users/smutnuri/Documents/UVA/_Projects/Fall24/CBM/CBMRepo/Data/usercomments/0rganicl3mons_usercomments.json\n",
      "{'greentext', 'comedyheaven', 'u_Fatherthinger', 'movies', 'flicks', 'PeterExplainsTheJoke', 'terriblefacebookmemes', 'booksuggestions', 'DecodingTheGurus', 'jamesjoyce', 'GuessTheMovie', 'NoStupidQuestions', 'horrorlit', 'horror', 'Jung', 'TrueReddit', 'fantanoforever', 'HelpMeFind', 'BeAmazed', 'AskReddit', 'classics', 'AskALawyer', 'bookshelf', 'BikiniBottomTwitter', 'Damnthatsinteresting', 'ThomasPynchon', 'YMS', 'Hypothyroidism', 'daverubin', 'explainlikeimfive', 'Deleuze', 'books', 'changemyview', 'Presidents', 'AskLiteraryStudies', 'AskHistorians', 'TrueLit', 'wikipedia', 'audible', 'Physics', 'literature', 'inthenews', 'dalle2', 'AllThatIsInteresting', 'meirl', 'INeedAName', 'TheSimpsons', 'Letterboxd', 'askphilosophy', 'todayilearned', 'philosophy', 'computerscience', 'casualiama', 'writing', 'memes', 'Weird', 'LivestreamFail', 'JoeRogan', 'pics', 'entertainment', '52book', 'rollercoasterjerk', 'math', 'TwoBestFriendsPlay', 'okbuddycinephile', 'Destiny', 'CrazyFuckingVideos', 'lastimages', 'TrueFilm', 'shakespeare', 'MadeMeSmile', 'oddlyterrifying', 'CriticalTheory', 'TerrifyingAsFuck', 'YouShouldKnow', 'samharris', 'thalassophobia', 'Eyebleach', 'nextfuckinglevel'}\n"
     ]
    },
    {
     "name": "stderr",
     "output_type": "stream",
     "text": [
      "Scraping user comments:   0%|          | 82/29901 [17:16<98:45:17, 11.92s/it]"
     ]
    },
    {
     "name": "stdout",
     "output_type": "stream",
     "text": [
      "Comments saved to /Users/smutnuri/Documents/UVA/_Projects/Fall24/CBM/CBMRepo/Data/usercomments/0xE4-0x20-0xE6_usercomments.json\n",
      "{'AskMenOver30', 'AskUK', 'movies', 'balkans_irl', 'starterpacks', 'PeterExplainsTheJoke', 'eurovision', 'ich_iel', 'moviecritic', 'GlInet', 'onions', 'FirstResponderCringe', 'cybersecurity', 'retrogaming', 'GoneWildPlus', 'ProgrammerHumor', 'sovietaesthetics', 'AskReddit', 'NetBSD', '90s', 'facepalm', 'dankmemes', 'BanPitBulls', 'gaming', 'WhitePeopleTwitter', 'ssbbwbutt', 'mildlyinteresting', 'Amazing_black_boobs', 'PrettyOlderWomen', 'geography', 'ask', 'rareinsults', 'shitposting', 'explainlikeimfive', 'Heavycakes', 'VindictaRateCelebs', 'germanshepherds', 'TOR', 'amazfit', 'books', 'coolguides', 'OeffentlicherDienst', 'castles', 'AskNetsec', 'yubikey', 'meme', 'CrusaderKings', 'MapPorn', 'yesyesyesyesno', 'ffmpeg', 'AskOldPeople', 'RoastMe', 'FridgeDetective', '2westerneurope4u', 'asciidoc', 'IAmA', 'Intelligence', 'aviation', 'meirl', 'AfroQueens', 'FragReddit', 'technicallythetruth', 'selfhosted', 'vexillologycirclejerk', 'europe', 'netsec', 'whatisthisthing', 'ShitAmericansSay', 'netsecstudents', 'clevercomebacks', 'unpopularopinion', 'todayilearned', 'commandline', 'ImTheMainCharacter', 'ThickandBBWJeans', 'sillybritain', 'instantkarma', 'nottheonion', 'memes', 'Weird', 'JustGuysBeingDudes', 'HistoricalCapsule', 'BBWPussys', 'mediathek', 'SipsTea', 'politics', 'PublicFreakout', 'worldnews', 'pics', 'BoomersBeingFools', 'shittymoviedetails', 'Rabbits', 'LingeriePlus', 'cryptography', 'BrandNewSentence', 'news', 'zillowgonewild', 'interestingasfuck', 'retrobattlestations', 'thelongdark', 'AskEurope', 'BBWnThiccness', 'okbuddycinephile', 'aww', 'olympics', 'CatastrophicFailure', 'cargo200', 'CupboardDetective', 'CrazyFuckingVideos', 'PastorArrested', 'Music', 'stephenking', 'immich', 'EnoughMuskSpam', 'DINgore', 'eyebombing', 'icewm', 'Wellthatsucks', 'privacy', 'SnapshotHistory', 'Millennials', 'UkraineWarVideoReport', 'JustBootThings', 'darktower', 'mildlyinfuriating', 'matrixdotorg', 'nextfuckinglevel'}\n"
     ]
    },
    {
     "name": "stderr",
     "output_type": "stream",
     "text": [
      "Scraping user comments:   0%|          | 83/29901 [17:30<101:40:48, 12.28s/it]"
     ]
    },
    {
     "name": "stdout",
     "output_type": "stream",
     "text": [
      "Comments saved to /Users/smutnuri/Documents/UVA/_Projects/Fall24/CBM/CBMRepo/Data/usercomments/0xKaishakunin_usercomments.json\n",
      "{'ImperialAmbitionsGame', 'computerwargames', 'eu4', 'GraphicsProgramming', 'windowsmemes', 'raytracing', 'linuxmasterrace', 'DestroyMyGame', 'WagnerVsRussia', 'StrategyGames', 'Fantasy', 'programminghorror', 'Unity2D', 'gamedevscreens', 'PBBG', 'MachineLearning', 'kde', 'programming', 'opensource', 'IndieDev', 'learnprogramming', 'rhino', 'C_Programming', 'proceduralgeneration', 'opengl', 'TheFirstLaw', 'ck3', 'PixelArt', 'Cplusplus', 'bevy', 'books', 'gamedev', 'ancientrome', 'cpp', 'computergraphics', 'gamedesign', 'GameDevelopment', 'coding', '4Xgaming', 'devblogs', 'ProgrammerTIL', 'csMajors', 'victoria3', 'Concordia', 'CrusaderKings', 'BaseBuildingGames', 'HierarchySeries', 'suggestmeabook', 'cpp_questions', 'gaming'}\n"
     ]
    },
    {
     "name": "stderr",
     "output_type": "stream",
     "text": [
      "Scraping user comments:   0%|          | 84/29901 [17:39<95:24:54, 11.52s/it] "
     ]
    },
    {
     "name": "stdout",
     "output_type": "stream",
     "text": [
      "Comments saved to /Users/smutnuri/Documents/UVA/_Projects/Fall24/CBM/CBMRepo/Data/usercomments/0xcedbeef_usercomments.json\n",
      "{'libros', 'NoStupidQuestions', 'explainlikeimfive', 'argentina', 'BlockchainStartups', 'LatinoPeopleTwitter', 'books', 'HistoryMemes', 'CryptoCurrency', 'peliculas', 'AskEngineers'}\n"
     ]
    },
    {
     "name": "stderr",
     "output_type": "stream",
     "text": [
      "Scraping user comments:   0%|          | 85/29901 [17:40<67:57:23,  8.21s/it]"
     ]
    },
    {
     "name": "stdout",
     "output_type": "stream",
     "text": [
      "Comments saved to /Users/smutnuri/Documents/UVA/_Projects/Fall24/CBM/CBMRepo/Data/usercomments/0xeo_usercomments.json\n",
      "{'gamingsuggestions', 'booksuggestions', 'Equestrian', 'Documentaries', 'suggestmeabook', 'musicsuggestions', 'RedDeadOnline', 'irishtourism', 'Midkemia', 'books', 'Veep', 'offmychest', 'farmingsimulator', 'Horses', 'Maine', 'reddeadredemption', 'RDR2', 'AskReddit'}\n"
     ]
    },
    {
     "name": "stderr",
     "output_type": "stream",
     "text": [
      "Scraping user comments:   0%|          | 86/29901 [17:41<50:31:58,  6.10s/it]"
     ]
    },
    {
     "name": "stdout",
     "output_type": "stream",
     "text": [
      "Comments saved to /Users/smutnuri/Documents/UVA/_Projects/Fall24/CBM/CBMRepo/Data/usercomments/1-800-grandmas_usercomments.json\n",
      "{'InternetIsBeautiful', 'BeforeNAfterAdoption', 'Homebrewing', 'tumblr', 'Cooking', 'LifeProTips', 'movies', 'WeWantPlates', 'homeowners', 'popculturechat', 'TwoXChromosomes', 'NoStupidQuestions', 'EarthPorn', 'pettyrevenge', 'science', 'Frugal', 'USCivilWar', 'Anticonsumption', 'TrueOffMyChest', 'cringepics', 'running', 'WhatWeDointheShadows', 'Iditarod', 'longisland', 'excatholic', 'Futurology', 'molecularbiology', 'AskReddit', 'microbiology', 'HistoryPorn', 'labrats', 'cats', 'cursedcomments', 'wholesomememes', 'gaming', 'WhitePeopleTwitter', 'ZeroWaste', 'Showerthoughts', 'cordcutters', 'mildlyinteresting', 'rareinsults', 'HumansBeingBros', 'askcarsales', 'childfree', 'technology', 'standardissuecat', 'exmormon', 'explainlikeimfive', 'Fencesitter', 'UpliftingNews', 'television', 'FoundPaper', 'askspain', 'nobuy', 'UnsolvedMysteries', 'MurderedByWords', 'books', 'askscience', 'dataisbeautiful', 'trashy', 'biology', 'CampingandHiking', 'PiratePets', 'DIY', 'gifs', 'blunderyears', 'EatCheapAndHealthy', 'IAmA', 'upcycling', 'antiMLM', 'LadiesofScience', 'relationships', 'funny', 'geocaching', 'personalfinance', 'europe', 'sports', 'whatisthisthing', 'namenerds', 'unpopularopinion', 'CrappyDesign', 'todayilearned', 'TooAfraidToAsk', 'TikTokCringe', 'nottheonion', 'casualiama', 'SelfSufficiency', 'Visiblemending', 'recruitinghell', 'MovieDetails', 'AskAnAmerican', 'appliancerepair', 'politics', 'BlackPeopleTwitter', 'bridezillas', 'PublicFreakout', 'dogs', 'worldnews', 'pics', 'HobbyDrama', 'Coronavirus', 'creepy', 'InteriorDesign', 'news', 'ClassicBookClub', 'interestingasfuck', 'tarantulas', 'BuyItForLife', 'aww', 'boardgames', 'HomeImprovement', 'buffalobills', 'DecidingToBeBetter', 'videos', 'tifu', 'tragedeigh', 'Music', 'Menopause', 'Canning', 'MadeMeSmile', 'OldSchoolCool', 'camping', 'homestead', 'shitduolingosays', 'simpleliving', 'mildlyinfuriating', 'olympics', 'UnresolvedMysteries', 'SapphoAndHerFriend'}\n"
     ]
    },
    {
     "name": "stderr",
     "output_type": "stream",
     "text": [
      "Scraping user comments:   0%|          | 87/29901 [17:56<72:49:14,  8.79s/it]"
     ]
    },
    {
     "name": "stdout",
     "output_type": "stream",
     "text": [
      "Comments saved to /Users/smutnuri/Documents/UVA/_Projects/Fall24/CBM/CBMRepo/Data/usercomments/1000121562127_usercomments.json\n",
      "{'nosleep', 'literature', 'poirot', 'MovieSuggestions', 'Weddingattireapproval', 'Cooking', 'AskFeminists', 'AITAH', 'shortstories', 'ask', 'MidsomerMurders', 'moviecritic', 'u_1000andonenites', 'NoStupidQuestions', 'scaryanimalstories', 'janeausten', 'agathachristie', 'RandomThoughts', 'Succession', 'namenerds', 'Narnia', 'French', 'fiction', 'ModestDress', 'unpopularopinion', 'superstore', 'IndieGaming', 'todayilearned', 'books', 'shakespeare', 'CasualConversation', 'writing', 'scarystories', 'AskReddit', 'AMA', 'creepypasta', 'thesopranos', 'painting', 'cats', 'NameNerdCirclejerk', 'ShortScaryStoriesOOC', 'suggestmeabook', 'shortscarystories', 'betterCallSaul', 'SuccessionTV'}\n"
     ]
    },
    {
     "name": "stderr",
     "output_type": "stream",
     "text": [
      "Scraping user comments:   0%|          | 88/29901 [18:13<93:58:09, 11.35s/it]"
     ]
    },
    {
     "name": "stdout",
     "output_type": "stream",
     "text": [
      "Comments saved to /Users/smutnuri/Documents/UVA/_Projects/Fall24/CBM/CBMRepo/Data/usercomments/1000andonenites_usercomments.json\n",
      "{'Whatisthis', 'UnethicalLifeProTips', 'WhatIsThisPainting', 'gratefuldead', 'Cooking', 'Weddingattireapproval', 'ExteriorDesign', 'AITAH', 'beauty', 'cat', 'CleaningTips', 'homeowners', 'TwoXChromosomes', 'NoStupidQuestions', 'laundry', 'Perfumes', 'democrats', 'realestateinvesting', 'bostonforsale', 'financialaid', 'AutismParentResource', 'TrueOffMyChest', 'toebeans', 'wedding', 'Advice', 'specialed', 'MarkMyWords', 'HomeDecorating', 'rome', 'AlaskaAirlines', 'massachusetts', 'Remodel', 'Honda', 'AskReddit', 'AMA', 'SocialSecurity', 'delta', 'facepalm', 'cats', 'Clarinet', 'Autism_Parenting', 'AmIOverreacting', 'Lufthansa', 'weddingdress', 'CatDistributionSystem', 'internetparents', 'verizon', 'LeopardsAteMyFace', 'Jewish', '2ndYomKippurWar', 'northshore', 'standardissuecat', 'Renovations', 'catfood', 'CatAdvice', 'shittytattoos', 'hygiene', 'CreditScore', 'Banking', 'answers', 'self', 'Roses', 'hebrew', 'HealthInsurance', 'GenX', 'rebubblejerk', 'GenXWomen', 'books', 'food', 'WFH', 'changemyview', 'FluentInFinance', 'H5N1_AvianFlu', 'NameMyCat', 'boston', 'GrandmasPantry', 'fidelityinvestments', 'stupidquestions', 'AskOldPeople', 'Flights', 'fragrance', 'obgyn', 'NEU', 'neighborsfromhell', 'tipping', 'SameGrassButGreener', 'PlantIdentification', 'urbanplanning', 'facebook', 'minnesota', 'SalemMA', 'mewborns', 'LibbyandAbby', 'personalfinance', 'RealEstateAdvice', 'Costco', 'MassachusettsPolitics', 'biotech', 'economy', 'FirstTimeHomeBuyer', 'UnfuckYourHabitat', 'TheGirlSurvivalGuide', 'RandomQuestion', 'RealEstate', 'unpopularopinion', 'travel', 'umass', 'HistoricalWhatIf', 'Mid_Century', 'ParisTravelGuide', 'CasualConversation', 'Toyota', 'jewishpolitics', 'unitedairlines', 'AskAnAmerican', 'whatisthisplant', 'Europetravel', 'curlyhair', 'kindergarten', 'politics', 'Parenting', 'kittens', 'whatisit', 'Israel', 'DesignMyRoom', 'worldnews', 'pics', 'ItalyTravel', 'CATHELP', 'Awww', 'Interrail', 'BoomersBeingFools', 'QuincyMa', 'interiordecorating', 'askfuneraldirectors', 'RoastMyCat', 'vermont', 'PetAdvice', 'Judaism', 'kitchenremodel', 'rav4club', 'IsraelPalestine', 'torties', 'animalid', 'ADHD', 'news', 'newengland', 'TVTooHigh', 'CatsAreAssholes', 'HomeImprovement', 'disneylandparis', 'questions', 'askswitzerland', 'office', 'homedecoratingCJ', 'mapporncirclejerk', 'tragedeigh', 'TuxedoCats', 'UrbanHell', 'Straycats', 'MiddleClassFinance', 'PelletStoveTalk', 'TravelHacks', 'CambridgeMA', 'IRS', 'airplanes', 'Radiology', 'AskWomen', 'Haircare', 'artcollecting', 'NameNerdCirclejerk', 'redsox', 'mildlyinfuriating', 'Hilton', 'Oldhouses', 'Oldnavy', 'Insurance'}\n"
     ]
    },
    {
     "name": "stderr",
     "output_type": "stream",
     "text": [
      "Scraping user comments:   0%|          | 89/29901 [18:34<116:46:14, 14.10s/it]"
     ]
    },
    {
     "name": "stdout",
     "output_type": "stream",
     "text": [
      "Comments saved to /Users/smutnuri/Documents/UVA/_Projects/Fall24/CBM/CBMRepo/Data/usercomments/1000thusername_usercomments.json\n",
      "{'Cooking', 'LifeProTips', 'AITAH', 'consumercellular', 'terriblefacebookmemes', 'TwoXChromosomes', 'NoStupidQuestions', 'Seattle', 'school', 'historyteachers', 'pettyrevenge', 'science', 'PoliticalHumor', 'urbanfantasy', 'SubstituteTeachers', 'TrueOffMyChest', 'HermanCainAward', 'specialed', 'awfuleverything', 'AskReddit', 'delta', 'AskALawyer', 'cats', 'breastcancer', 'oddlysatisfying', 'brandonsanderson', 'instant_regret', 'antiwork', 'WhitePeopleTwitter', 'WatchPeopleDieInside', 'Damnthatsinteresting', 'Showerthoughts', 'MaliciousCompliance', 'geography', 'homeschool', 'ABoringDystopia', 'TheRightCantMeme', 'childfree', 'exmormon', 'polls', 'audiobooks', 'books', 'askscience', 'COVID19positive', 'AmItheAsshole', 'amiwrong', 'confessions', 'LadiesofScience', 'TwoHotTakes', 'meirl', 'funny', 'namenerds', 'todayilearned', 'GooglePixel', 'TooAfraidToAsk', 'TriCitiesWA', 'instantkarma', 'nottheonion', 'playstupidgames', 'GreenAndPleasant', 'Weird', 'Apartmentliving', 'Names', 'curlyhair', 'AmITheBadApple', 'kindergarten', 'AskEconomics', 'SipsTea', 'AskTeachers', 'Teachers', 'politics', 'environment', 'BlackPeopleTwitter', 'Washington', 'pics', 'Coronavirus', 'news', 'ontario', 'interestingasfuck', 'aww', 'discworld', 'tifu', 'workingmoms', 'MadeMeSmile', 'oddlyterrifying', 'Wellthatsucks', 'mildlyinfuriating', 'suggestmeabook', 'nextfuckinglevel'}\n"
     ]
    },
    {
     "name": "stderr",
     "output_type": "stream",
     "text": [
      "Scraping user comments:   0%|          | 90/29901 [18:50<121:16:36, 14.65s/it]"
     ]
    },
    {
     "name": "stdout",
     "output_type": "stream",
     "text": [
      "Comments saved to /Users/smutnuri/Documents/UVA/_Projects/Fall24/CBM/CBMRepo/Data/usercomments/1001Geese_usercomments.json\n",
      "{'cfs', 'Fauxmoi', 'DiscoElysium', 'femalelivingspace', 'whatsthatbook', 'povertyfinance', 'OCDRecovery', 'dropout', 'AnalFistula', 'girls', 'goodrestrictionfood', 'AskLosAngeles', 'popculturechat', 'TwoXChromosomes', 'cozygames', 'controlgame', 'television', 'safe_food', 'IReadABookAndAdoredIt', 'books', 'coolguides', 'CatTraining', 'OCD', 'vegetarian', 'AskReddit', 'AskDocs', 'RATS', 'politics', 'TopCharacterDesigns', 'DesperateHousewives', 'suggestmeabook', 'Plumbing'}\n"
     ]
    },
    {
     "name": "stderr",
     "output_type": "stream",
     "text": [
      "Scraping user comments:   0%|          | 91/29901 [18:52<90:19:39, 10.91s/it] "
     ]
    },
    {
     "name": "stdout",
     "output_type": "stream",
     "text": [
      "Comments saved to /Users/smutnuri/Documents/UVA/_Projects/Fall24/CBM/CBMRepo/Data/usercomments/100TypesofUnicorn_usercomments.json\n",
      "{'AmItheCloaca', 'HazbinHotel', '1000lbbestfriends', 'traumatizeThemBack', 'amiwrong', 'AITAH', 'TwoHotTakes', 'asoiaf', 'place', 'AmItheAsshole', 'tragedeigh', 'EntitledPeople', 'books', 'HighStrangeness', 'BestofRedditorUpdates', 'OnceUponATime', 'dustythunder', 'u_whoevenisthat5', 'Pets', 'My600lbLife', 'offmychest', 'AITA_WIBTA_PUBLIC', 'CanadasWonderland', 'dbz'}\n"
     ]
    },
    {
     "name": "stderr",
     "output_type": "stream",
     "text": [
      "Scraping user comments:   0%|          | 92/29901 [19:08<102:24:45, 12.37s/it]"
     ]
    },
    {
     "name": "stdout",
     "output_type": "stream",
     "text": [
      "Comments saved to /Users/smutnuri/Documents/UVA/_Projects/Fall24/CBM/CBMRepo/Data/usercomments/101037633_usercomments.json\n",
      "{'floridafishing', 'SurfFishing', 'Pizza', 'nostalgia', 'suggestmeabook', 'OaklandAthletics', 'ukulele', 'liveaboard', 'blues', 'foodhacks', 'sailing', 'aww', 'appraisal', 'sports', 'SaltwaterFlyfishing', 'flyfishing', 'SailboatCruising', 'birding', 'travel', 'Pensacola', 'books', 'saltwaterfishing', 'OldSchoolCool', 'beebutts', 'PeriodDramas', 'cats', 'salads', 'Saints', 'mildlyinfuriating', 'Fishing_Gear', 'food'}\n"
     ]
    },
    {
     "name": "stderr",
     "output_type": "stream",
     "text": [
      "Scraping user comments:   0%|          | 93/29901 [19:25<114:25:22, 13.82s/it]"
     ]
    },
    {
     "name": "stdout",
     "output_type": "stream",
     "text": [
      "Comments saved to /Users/smutnuri/Documents/UVA/_Projects/Fall24/CBM/CBMRepo/Data/usercomments/102aksea102_usercomments.json\n"
     ]
    },
    {
     "name": "stderr",
     "output_type": "stream",
     "text": [
      "Scraping user comments:   0%|          | 94/29901 [19:25<80:58:09,  9.78s/it] "
     ]
    },
    {
     "name": "stdout",
     "output_type": "stream",
     "text": [
      "{'grammar', 'books'}\n",
      "Comments saved to /Users/smutnuri/Documents/UVA/_Projects/Fall24/CBM/CBMRepo/Data/usercomments/10EE22_usercomments.json\n",
      "{'OpenAI', 'AskMenOver30', 'mildlyinteresting', 'ScienceFictionBooks', 'buffy', 'TwoHotTakes', 'popculturechat', 'FromTVEpix', 'BaldursGate3', 'shittytattoos', 'ExtremeHorrorLit', 'television', 'questions', 'rva', 'sitcoms', 'Frostpunk', 'FromTVShow', 'Watches', 'books', 'MarkMyWords', 'SiloTVSeries', 'BestofRedditorUpdates', 'AskMenAdvice', 'RVADandD', 'OldSchoolCool', 'AskReddit', 'AMA', 'beatles', 'ChatGPTJailbreak', 'FromSeries', 'AmIOverreacting', 'suggestmeabook'}\n"
     ]
    },
    {
     "name": "stderr",
     "output_type": "stream",
     "text": [
      "Scraping user comments:   0%|          | 95/29901 [19:26<59:15:53,  7.16s/it]"
     ]
    },
    {
     "name": "stdout",
     "output_type": "stream",
     "text": [
      "Comments saved to /Users/smutnuri/Documents/UVA/_Projects/Fall24/CBM/CBMRepo/Data/usercomments/10Hoursofsleepforme_usercomments.json\n",
      "{'findareddit', 'sweden', 'adhdwomen', 'GetMotivated', 'fictionalpsychology', 'sex', 'ADHD', 'swedishproblems', 'Hair', 'raisedbynarcissists', 'makemychoice', 'Eldenring', 'ManHands', 'CrossStitch', 'imaginarymaps', 'NoStupidQuestions', 'AskWomenNoCensor', 'Warhammer40k', 'Svenska', 'aww', 'lotr', 'EldenBling', 'RandomThoughts', 'AskMen', 'Embroidery', 'AmItheAsshole', 'GenZ', 'tifu', 'pureasoiaf', 'PixelArt', 'Stormlight_Archive', 'voyager', 'books', 'BestofRedditorUpdates', 'SkincareAddiction', 'CasualConversation', 'MadeMeSmile', 'darksouls', 'AskReddit', 'harrypotter', 'Catio', 'AskWomen', 'femalehairadvice', 'SubSanctuary', 'AskDocs', 'EldenRingLoreTalk', 'Cosmere', 'darksouls3', 'AskWomenOver30', 'wholesomememes', 'offmychest', 'DesignMyRoom', 'AccidentalRenaissance', 'cremposting', 'gaming', 'SoulsSliders'}\n"
     ]
    }
   ],
   "source": [
    "pull_user_comments(users_list[10:], subreddits, USERCOMM_SAVEPATH)"
   ]
  },
  {
   "cell_type": "markdown",
   "metadata": {},
   "source": [
    "## Post fetch"
   ]
  },
  {
   "cell_type": "code",
   "execution_count": null,
   "metadata": {},
   "outputs": [],
   "source": [
    "# post_url = \"https://www.reddit.com/r/politics/comments/1gc7k0y/bcso_voter_punches_poll_worker_when_reminded/\"\n",
    "\n",
    "# # Retrieve comments\n",
    "# comments = scraper.get_comments_from_post(post_url)\n",
    "\n",
    "# # Save comments to a JSON file\n",
    "# with open(\"../Data/comments_graph.json\", \"w\") as f:\n",
    "#     json.dump(comments, f, indent=4)\n",
    "\n",
    "# print(\"Comments saved to comments.json\")"
   ]
  }
 ],
 "metadata": {
  "kernelspec": {
   "display_name": "cbmproj",
   "language": "python",
   "name": "python3"
  },
  "language_info": {
   "codemirror_mode": {
    "name": "ipython",
    "version": 3
   },
   "file_extension": ".py",
   "mimetype": "text/x-python",
   "name": "python",
   "nbconvert_exporter": "python",
   "pygments_lexer": "ipython3",
   "version": "3.12.7"
  }
 },
 "nbformat": 4,
 "nbformat_minor": 2
}
