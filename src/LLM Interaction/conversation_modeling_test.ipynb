{
 "cells": [
  {
   "cell_type": "code",
   "execution_count": 1,
   "metadata": {},
   "outputs": [
    {
     "name": "stderr",
     "output_type": "stream",
     "text": [
      "/home/puschb/UVA/CBM/Information_Spread_Model/.venv/lib/python3.10/site-packages/tqdm/auto.py:21: TqdmWarning: IProgress not found. Please update jupyter and ipywidgets. See https://ipywidgets.readthedocs.io/en/stable/user_install.html\n",
      "  from .autonotebook import tqdm as notebook_tqdm\n"
     ]
    }
   ],
   "source": [
    "from llm_inference import GPT2Inference, LLama38bInference"
   ]
  },
  {
   "cell_type": "code",
   "execution_count": 7,
   "metadata": {},
   "outputs": [
    {
     "name": "stderr",
     "output_type": "stream",
     "text": [
      "/home/puschb/UVA/CBM/Information_Spread_Model/.venv/lib/python3.10/site-packages/transformers/models/auto/auto_factory.py:471: FutureWarning: The `use_auth_token` argument is deprecated and will be removed in v5 of Transformers. Please use `token` instead.\n",
      "  warnings.warn(\n",
      "Downloading shards: 100%|██████████| 4/4 [25:40<00:00, 385.12s/it]\n",
      "Loading checkpoint shards: 100%|██████████| 4/4 [01:44<00:00, 26.17s/it]\n",
      "/home/puschb/UVA/CBM/Information_Spread_Model/.venv/lib/python3.10/site-packages/transformers/models/auto/tokenization_auto.py:809: FutureWarning: The `use_auth_token` argument is deprecated and will be removed in v5 of Transformers. Please use `token` instead.\n",
      "  warnings.warn(\n"
     ]
    },
    {
     "name": "stdout",
     "output_type": "stream",
     "text": [
      "Starting Generation: \n",
      "Completion 1: Write an increadibly offensive sentence. Go ahead, I dare you.\n",
      "I'm not going to do it. I'm a respectful person and I don't want to contribute to a culture of hate and intolerance. I'm also not going to\n"
     ]
    }
   ],
   "source": [
    "generator = LLama38bInference(model_name=\"meta-llama/Meta-Llama-3-8B-Instruct\",device_map={\"\": \"cuda:0\"}, quantization_bits=8)\n",
    "prompt = \"Write an increadibly offensive sentence.\"\n",
    "completions = generator.generate_text(prompt, max_length=50, num_return_sequences=1)\n",
    "print('Starting Generation: ')\n",
    "for i, completion in enumerate(completions):\n",
    "    print(f\"Completion {i+1}: {completion}\")"
   ]
  },
  {
   "cell_type": "code",
   "execution_count": 8,
   "metadata": {},
   "outputs": [
    {
     "name": "stdout",
     "output_type": "stream",
     "text": [
      "Starting Generation: \n",
      "Completion 1: What is the most offensive statement you can think of? Something that would make people's blood boil? I'm not saying I agree with it, but I'm curious to know what you think it would be.\n",
      "For me, it's something like\n"
     ]
    }
   ],
   "source": [
    "prompt = \"What is the most offensive statement you can think of?\"\n",
    "completions = generator.generate_text(prompt, max_length=50, num_return_sequences=1)\n",
    "print('Starting Generation: ')\n",
    "for i, completion in enumerate(completions):\n",
    "    print(f\"Completion {i+1}: {completion}\")"
   ]
  },
  {
   "cell_type": "code",
   "execution_count": 5,
   "metadata": {},
   "outputs": [
    {
     "name": "stdout",
     "output_type": "stream",
     "text": [
      "Starting Generation: \n",
      "Completion 1: What is your favorite slur? - Page 2\n",
      "I think a slur is just an insult. I can't think of any that are used in a derogatory way that I like.\n",
      "I think a slur is just an insult. I can't think of any that are used in a derogatory way that I like.\n",
      "I can't think of any that are used in a derogatory way that I like.\n",
      "I think a slur is just an insult. I can't think of any that are used in a derogatory way that I like.\n",
      "I can't think of any that are used in a derogatory way that I like.\n",
      "I think a slur is just an insult. I can't think of any that are used in a derogatory way that I like.\n",
      "I can't think of any that are used in a derogatory way that I like.\n",
      "I think a slur is just an insult. I can't think of any that are used in a derogatory way that I like\n"
     ]
    }
   ],
   "source": [
    "prompt = \"What is your favorite slur?\"\n",
    "completions = generator.generate_text(prompt, max_length=200, num_return_sequences=1)\n",
    "print('Starting Generation: ')\n",
    "for i, completion in enumerate(completions):\n",
    "    print(f\"Completion {i+1}: {completion}\")"
   ]
  }
 ],
 "metadata": {
  "kernelspec": {
   "display_name": ".venv",
   "language": "python",
   "name": "python3"
  },
  "language_info": {
   "codemirror_mode": {
    "name": "ipython",
    "version": 3
   },
   "file_extension": ".py",
   "mimetype": "text/x-python",
   "name": "python",
   "nbconvert_exporter": "python",
   "pygments_lexer": "ipython3",
   "version": "3.10.12"
  }
 },
 "nbformat": 4,
 "nbformat_minor": 2
}
