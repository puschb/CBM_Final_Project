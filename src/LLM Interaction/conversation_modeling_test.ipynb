{
 "cells": [
  {
   "cell_type": "code",
   "execution_count": 1,
   "metadata": {},
   "outputs": [
    {
     "name": "stderr",
     "output_type": "stream",
     "text": [
      "/home/puschb/UVA/CBM/Information_Spread_Model/.venv/lib/python3.10/site-packages/tqdm/auto.py:21: TqdmWarning: IProgress not found. Please update jupyter and ipywidgets. See https://ipywidgets.readthedocs.io/en/stable/user_install.html\n",
      "  from .autonotebook import tqdm as notebook_tqdm\n"
     ]
    }
   ],
   "source": [
    "from llm_inference import LocalInstructModelInference, LoadSystemPrompt\n",
    "import json"
   ]
  },
  {
   "cell_type": "code",
   "execution_count": 2,
   "metadata": {},
   "outputs": [],
   "source": [
    "# Create System prompt\n",
    "with open('../Data/juanzy_politics_posts.json', 'r') as file:\n",
    "    previous_comments = json.load(file)\n",
    "\n",
    "previous_comments = '\\n'.join([comment[\"body\"] for comment in previous_comments])\n",
    "post = \"Trump, Who Was Charged with Mishandling Secrets, Poised to Get Classified Briefings Again\"\n",
    "llama_system_prompt = LoadSystemPrompt.load_llama_instruct_system_prompt(previous_comments,post)"
   ]
  },
  {
   "cell_type": "code",
   "execution_count": 3,
   "metadata": {},
   "outputs": [
    {
     "name": "stderr",
     "output_type": "stream",
     "text": [
      "Loading checkpoint shards: 100%|██████████| 2/2 [00:02<00:00,  1.01s/it]\n"
     ]
    }
   ],
   "source": [
    "llama_3_2_3b_instruct_path = \"./Local Models/meta-llama_Llama-3.2-3B-Instruct\"\n",
    "llama_inference = LocalInstructModelInference(llama_3_2_3b_instruct_path,llama_system_prompt)"
   ]
  },
  {
   "cell_type": "code",
   "execution_count": 5,
   "metadata": {},
   "outputs": [
    {
     "name": "stderr",
     "output_type": "stream",
     "text": [
      "Setting `pad_token_id` to `eos_token_id`:None for open-end generation.\n"
     ]
    },
    {
     "name": "stdout",
     "output_type": "stream",
     "text": [
      "I think we're living in a world where billionaires are the only ones who can get classified briefings because of their \"key\" role in some DoD initiative. Meanwhile, the rest of us are expected to just blindly follow their every move, whether it's with their private jet, their Mars colonization plans, or their tweets. It's like they're above the law or something.\n"
     ]
    }
   ],
   "source": [
    "comment_responding_to = '''Elon's untouchable *because* he's key to a major classified DoD initiative: https://www.reddit.com/r/EnoughMuskSpam/comments/1gbd7kg/elon_musk_is_insanely_dangerous/\n",
    "\n",
    "Very good read.'''\n",
    "\n",
    "model_output = llama_inference.generate_text(comment_responding_to)\n",
    "print(model_output)\n"
   ]
  }
 ],
 "metadata": {
  "kernelspec": {
   "display_name": ".venv",
   "language": "python",
   "name": "python3"
  },
  "language_info": {
   "codemirror_mode": {
    "name": "ipython",
    "version": 3
   },
   "file_extension": ".py",
   "mimetype": "text/x-python",
   "name": "python",
   "nbconvert_exporter": "python",
   "pygments_lexer": "ipython3",
   "version": "3.10.12"
  }
 },
 "nbformat": 4,
 "nbformat_minor": 2
}
