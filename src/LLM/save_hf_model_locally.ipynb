{
 "cells": [
  {
   "cell_type": "markdown",
   "metadata": {},
   "source": [
    "### Purpose of Script\n",
    "I'm not sure if huggingface keeps track of what we make the model output and if we might get flagged by their system for our use case. Just in case we should save the models locally and then load them from the disk instead of loading them from huggingface every time."
   ]
  },
  {
   "cell_type": "markdown",
   "metadata": {},
   "source": [
    "# This file is depreciated, use the following command instead\n",
    "\n",
    "huggingface-cli download [MODEL_NAME_FROM_HUGGINGFACE. i.e. meta-llama/Llama-3.2-3B-Instruct] --local-dir [SAVE_PATH]\n"
   ]
  },
  {
   "cell_type": "code",
   "execution_count": 1,
   "metadata": {},
   "outputs": [
    {
     "name": "stderr",
     "output_type": "stream",
     "text": [
      "/home/puschb/UVA/CBM/Information_Spread_Model/.venv/lib/python3.10/site-packages/tqdm/auto.py:21: TqdmWarning: IProgress not found. Please update jupyter and ipywidgets. See https://ipywidgets.readthedocs.io/en/stable/user_install.html\n",
      "  from .autonotebook import tqdm as notebook_tqdm\n"
     ]
    }
   ],
   "source": [
    "from transformers import AutoModelForCausalLM, AutoTokenizer\n",
    "import os\n",
    "from dotenv import load_dotenv"
   ]
  },
  {
   "cell_type": "code",
   "execution_count": 2,
   "metadata": {},
   "outputs": [],
   "source": [
    "def save_model_locally(model_name, save_dir):\n",
    "  load_dotenv()\n",
    "  token = os.getenv(\"HF_ACCESS_TOKEN\")\n",
    "  # Download the model and tokenizer\n",
    "  model = AutoModelForCausalLM.from_pretrained(\n",
    "      model_name, \n",
    "      cache_dir=save_dir, \n",
    "      use_auth_token=token\n",
    "  )\n",
    "  tokenizer = AutoTokenizer.from_pretrained(\n",
    "      model_name, \n",
    "      cache_dir=save_dir, \n",
    "      use_auth_token=token\n",
    "  )\n"
   ]
  },
  {
   "cell_type": "code",
   "execution_count": 3,
   "metadata": {},
   "outputs": [
    {
     "name": "stderr",
     "output_type": "stream",
     "text": [
      "/home/puschb/UVA/CBM/Information_Spread_Model/.venv/lib/python3.10/site-packages/transformers/models/auto/auto_factory.py:471: FutureWarning: The `use_auth_token` argument is deprecated and will be removed in v5 of Transformers. Please use `token` instead.\n",
      "  warnings.warn(\n",
      "Downloading shards: 100%|██████████| 2/2 [10:23<00:00, 311.84s/it]\n",
      "Loading checkpoint shards: 100%|██████████| 2/2 [00:03<00:00,  1.81s/it]\n",
      "/home/puschb/UVA/CBM/Information_Spread_Model/.venv/lib/python3.10/site-packages/transformers/models/auto/tokenization_auto.py:809: FutureWarning: The `use_auth_token` argument is deprecated and will be removed in v5 of Transformers. Please use `token` instead.\n",
      "  warnings.warn(\n"
     ]
    }
   ],
   "source": [
    "model_name = \"meta-llama/Llama-3.2-3B-Instruct\"\n",
    "local_dir = \"./Local Models/meta-llama_Llama-3.2-3B-Instruct\"\n",
    "save_model_locally(model_name,local_dir)"
   ]
  },
  {
   "cell_type": "code",
   "execution_count": null,
   "metadata": {},
   "outputs": [
    {
     "name": "stderr",
     "output_type": "stream",
     "text": [
      "Loading checkpoint shards: 100%|██████████| 2/2 [00:00<00:00, 10.38it/s]\n",
      "Setting `pad_token_id` to `eos_token_id`:None for open-end generation.\n",
      "/home/puschb/UVA/CBM/Information_Spread_Model/.venv/lib/python3.10/site-packages/transformers/generation/utils.py:1375: UserWarning: Using the model-agnostic default `max_length` (=20) to control the generation length. We recommend setting `max_new_tokens` to control the maximum length of the generation.\n",
      "  warnings.warn(\n"
     ]
    },
    {
     "ename": "ValueError",
     "evalue": "Input length of input_ids is 52, but `max_length` is set to 20. This can lead to unexpected behavior. You should consider increasing `max_length` or, better yet, setting `max_new_tokens`.",
     "output_type": "error",
     "traceback": [
      "\u001b[0;31m---------------------------------------------------------------------------\u001b[0m",
      "\u001b[0;31mValueError\u001b[0m                                Traceback (most recent call last)",
      "Cell \u001b[0;32mIn[6], line 17\u001b[0m\n\u001b[1;32m      5\u001b[0m pipe \u001b[38;5;241m=\u001b[39m pipeline(\n\u001b[1;32m      6\u001b[0m     \u001b[38;5;124m\"\u001b[39m\u001b[38;5;124mtext-generation\u001b[39m\u001b[38;5;124m\"\u001b[39m,\n\u001b[1;32m      7\u001b[0m     model\u001b[38;5;241m=\u001b[39mlocal_dir,\n\u001b[1;32m      8\u001b[0m     torch_dtype\u001b[38;5;241m=\u001b[39mtorch\u001b[38;5;241m.\u001b[39mbfloat16,\n\u001b[1;32m      9\u001b[0m     device_map\u001b[38;5;241m=\u001b[39m\u001b[38;5;124m\"\u001b[39m\u001b[38;5;124mauto\u001b[39m\u001b[38;5;124m\"\u001b[39m,\n\u001b[1;32m     10\u001b[0m )\n\u001b[1;32m     12\u001b[0m messages \u001b[38;5;241m=\u001b[39m [\n\u001b[1;32m     13\u001b[0m     {\u001b[38;5;124m\"\u001b[39m\u001b[38;5;124mrole\u001b[39m\u001b[38;5;124m\"\u001b[39m: \u001b[38;5;124m\"\u001b[39m\u001b[38;5;124msystem\u001b[39m\u001b[38;5;124m\"\u001b[39m, \u001b[38;5;124m\"\u001b[39m\u001b[38;5;124mcontent\u001b[39m\u001b[38;5;124m\"\u001b[39m: \u001b[38;5;124m\"\u001b[39m\u001b[38;5;124mYou are a pirate chatbot who always responds in pirate speak!\u001b[39m\u001b[38;5;124m\"\u001b[39m},\n\u001b[1;32m     14\u001b[0m     {\u001b[38;5;124m\"\u001b[39m\u001b[38;5;124mrole\u001b[39m\u001b[38;5;124m\"\u001b[39m: \u001b[38;5;124m\"\u001b[39m\u001b[38;5;124muser\u001b[39m\u001b[38;5;124m\"\u001b[39m, \u001b[38;5;124m\"\u001b[39m\u001b[38;5;124mcontent\u001b[39m\u001b[38;5;124m\"\u001b[39m: \u001b[38;5;124m\"\u001b[39m\u001b[38;5;124mWho are you?\u001b[39m\u001b[38;5;124m\"\u001b[39m},\n\u001b[1;32m     15\u001b[0m ]\n\u001b[0;32m---> 17\u001b[0m outputs \u001b[38;5;241m=\u001b[39m \u001b[43mpipe\u001b[49m\u001b[43m(\u001b[49m\n\u001b[1;32m     18\u001b[0m \u001b[43m    \u001b[49m\u001b[43mmessages\u001b[49m\u001b[43m,\u001b[49m\n\u001b[1;32m     19\u001b[0m \u001b[43m    \u001b[49m\u001b[38;5;66;43;03m#max_new_tokens=256,\u001b[39;49;00m\n\u001b[1;32m     20\u001b[0m \u001b[43m)\u001b[49m\n\u001b[1;32m     22\u001b[0m \u001b[38;5;28mprint\u001b[39m(outputs[\u001b[38;5;241m0\u001b[39m][\u001b[38;5;124m\"\u001b[39m\u001b[38;5;124mgenerated_text\u001b[39m\u001b[38;5;124m\"\u001b[39m])\n",
      "File \u001b[0;32m~/UVA/CBM/Information_Spread_Model/.venv/lib/python3.10/site-packages/transformers/pipelines/text_generation.py:267\u001b[0m, in \u001b[0;36mTextGenerationPipeline.__call__\u001b[0;34m(self, text_inputs, **kwargs)\u001b[0m\n\u001b[1;32m    262\u001b[0m \u001b[38;5;28;01mif\u001b[39;00m \u001b[38;5;28misinstance\u001b[39m(\n\u001b[1;32m    263\u001b[0m     text_inputs, (\u001b[38;5;28mlist\u001b[39m, \u001b[38;5;28mtuple\u001b[39m, KeyDataset) \u001b[38;5;28;01mif\u001b[39;00m is_torch_available() \u001b[38;5;28;01melse\u001b[39;00m (\u001b[38;5;28mlist\u001b[39m, \u001b[38;5;28mtuple\u001b[39m)\n\u001b[1;32m    264\u001b[0m ) \u001b[38;5;129;01mand\u001b[39;00m \u001b[38;5;28misinstance\u001b[39m(text_inputs[\u001b[38;5;241m0\u001b[39m], (\u001b[38;5;28mlist\u001b[39m, \u001b[38;5;28mtuple\u001b[39m, \u001b[38;5;28mdict\u001b[39m)):\n\u001b[1;32m    265\u001b[0m     \u001b[38;5;66;03m# We have one or more prompts in list-of-dicts format, so this is chat mode\u001b[39;00m\n\u001b[1;32m    266\u001b[0m     \u001b[38;5;28;01mif\u001b[39;00m \u001b[38;5;28misinstance\u001b[39m(text_inputs[\u001b[38;5;241m0\u001b[39m], \u001b[38;5;28mdict\u001b[39m):\n\u001b[0;32m--> 267\u001b[0m         \u001b[38;5;28;01mreturn\u001b[39;00m \u001b[38;5;28;43msuper\u001b[39;49m\u001b[43m(\u001b[49m\u001b[43m)\u001b[49m\u001b[38;5;241;43m.\u001b[39;49m\u001b[38;5;21;43m__call__\u001b[39;49m\u001b[43m(\u001b[49m\u001b[43mChat\u001b[49m\u001b[43m(\u001b[49m\u001b[43mtext_inputs\u001b[49m\u001b[43m)\u001b[49m\u001b[43m,\u001b[49m\u001b[43m \u001b[49m\u001b[38;5;241;43m*\u001b[39;49m\u001b[38;5;241;43m*\u001b[39;49m\u001b[43mkwargs\u001b[49m\u001b[43m)\u001b[49m\n\u001b[1;32m    268\u001b[0m     \u001b[38;5;28;01melse\u001b[39;00m:\n\u001b[1;32m    269\u001b[0m         chats \u001b[38;5;241m=\u001b[39m [Chat(chat) \u001b[38;5;28;01mfor\u001b[39;00m chat \u001b[38;5;129;01min\u001b[39;00m text_inputs]  \u001b[38;5;66;03m# 🐈 🐈 🐈\u001b[39;00m\n",
      "File \u001b[0;32m~/UVA/CBM/Information_Spread_Model/.venv/lib/python3.10/site-packages/transformers/pipelines/base.py:1302\u001b[0m, in \u001b[0;36mPipeline.__call__\u001b[0;34m(self, inputs, num_workers, batch_size, *args, **kwargs)\u001b[0m\n\u001b[1;32m   1294\u001b[0m     \u001b[38;5;28;01mreturn\u001b[39;00m \u001b[38;5;28mnext\u001b[39m(\n\u001b[1;32m   1295\u001b[0m         \u001b[38;5;28miter\u001b[39m(\n\u001b[1;32m   1296\u001b[0m             \u001b[38;5;28mself\u001b[39m\u001b[38;5;241m.\u001b[39mget_iterator(\n\u001b[0;32m   (...)\u001b[0m\n\u001b[1;32m   1299\u001b[0m         )\n\u001b[1;32m   1300\u001b[0m     )\n\u001b[1;32m   1301\u001b[0m \u001b[38;5;28;01melse\u001b[39;00m:\n\u001b[0;32m-> 1302\u001b[0m     \u001b[38;5;28;01mreturn\u001b[39;00m \u001b[38;5;28;43mself\u001b[39;49m\u001b[38;5;241;43m.\u001b[39;49m\u001b[43mrun_single\u001b[49m\u001b[43m(\u001b[49m\u001b[43minputs\u001b[49m\u001b[43m,\u001b[49m\u001b[43m \u001b[49m\u001b[43mpreprocess_params\u001b[49m\u001b[43m,\u001b[49m\u001b[43m \u001b[49m\u001b[43mforward_params\u001b[49m\u001b[43m,\u001b[49m\u001b[43m \u001b[49m\u001b[43mpostprocess_params\u001b[49m\u001b[43m)\u001b[49m\n",
      "File \u001b[0;32m~/UVA/CBM/Information_Spread_Model/.venv/lib/python3.10/site-packages/transformers/pipelines/base.py:1309\u001b[0m, in \u001b[0;36mPipeline.run_single\u001b[0;34m(self, inputs, preprocess_params, forward_params, postprocess_params)\u001b[0m\n\u001b[1;32m   1307\u001b[0m \u001b[38;5;28;01mdef\u001b[39;00m \u001b[38;5;21mrun_single\u001b[39m(\u001b[38;5;28mself\u001b[39m, inputs, preprocess_params, forward_params, postprocess_params):\n\u001b[1;32m   1308\u001b[0m     model_inputs \u001b[38;5;241m=\u001b[39m \u001b[38;5;28mself\u001b[39m\u001b[38;5;241m.\u001b[39mpreprocess(inputs, \u001b[38;5;241m*\u001b[39m\u001b[38;5;241m*\u001b[39mpreprocess_params)\n\u001b[0;32m-> 1309\u001b[0m     model_outputs \u001b[38;5;241m=\u001b[39m \u001b[38;5;28;43mself\u001b[39;49m\u001b[38;5;241;43m.\u001b[39;49m\u001b[43mforward\u001b[49m\u001b[43m(\u001b[49m\u001b[43mmodel_inputs\u001b[49m\u001b[43m,\u001b[49m\u001b[43m \u001b[49m\u001b[38;5;241;43m*\u001b[39;49m\u001b[38;5;241;43m*\u001b[39;49m\u001b[43mforward_params\u001b[49m\u001b[43m)\u001b[49m\n\u001b[1;32m   1310\u001b[0m     outputs \u001b[38;5;241m=\u001b[39m \u001b[38;5;28mself\u001b[39m\u001b[38;5;241m.\u001b[39mpostprocess(model_outputs, \u001b[38;5;241m*\u001b[39m\u001b[38;5;241m*\u001b[39mpostprocess_params)\n\u001b[1;32m   1311\u001b[0m     \u001b[38;5;28;01mreturn\u001b[39;00m outputs\n",
      "File \u001b[0;32m~/UVA/CBM/Information_Spread_Model/.venv/lib/python3.10/site-packages/transformers/pipelines/base.py:1209\u001b[0m, in \u001b[0;36mPipeline.forward\u001b[0;34m(self, model_inputs, **forward_params)\u001b[0m\n\u001b[1;32m   1207\u001b[0m     \u001b[38;5;28;01mwith\u001b[39;00m inference_context():\n\u001b[1;32m   1208\u001b[0m         model_inputs \u001b[38;5;241m=\u001b[39m \u001b[38;5;28mself\u001b[39m\u001b[38;5;241m.\u001b[39m_ensure_tensor_on_device(model_inputs, device\u001b[38;5;241m=\u001b[39m\u001b[38;5;28mself\u001b[39m\u001b[38;5;241m.\u001b[39mdevice)\n\u001b[0;32m-> 1209\u001b[0m         model_outputs \u001b[38;5;241m=\u001b[39m \u001b[38;5;28;43mself\u001b[39;49m\u001b[38;5;241;43m.\u001b[39;49m\u001b[43m_forward\u001b[49m\u001b[43m(\u001b[49m\u001b[43mmodel_inputs\u001b[49m\u001b[43m,\u001b[49m\u001b[43m \u001b[49m\u001b[38;5;241;43m*\u001b[39;49m\u001b[38;5;241;43m*\u001b[39;49m\u001b[43mforward_params\u001b[49m\u001b[43m)\u001b[49m\n\u001b[1;32m   1210\u001b[0m         model_outputs \u001b[38;5;241m=\u001b[39m \u001b[38;5;28mself\u001b[39m\u001b[38;5;241m.\u001b[39m_ensure_tensor_on_device(model_outputs, device\u001b[38;5;241m=\u001b[39mtorch\u001b[38;5;241m.\u001b[39mdevice(\u001b[38;5;124m\"\u001b[39m\u001b[38;5;124mcpu\u001b[39m\u001b[38;5;124m\"\u001b[39m))\n\u001b[1;32m   1211\u001b[0m \u001b[38;5;28;01melse\u001b[39;00m:\n",
      "File \u001b[0;32m~/UVA/CBM/Information_Spread_Model/.venv/lib/python3.10/site-packages/transformers/pipelines/text_generation.py:370\u001b[0m, in \u001b[0;36mTextGenerationPipeline._forward\u001b[0;34m(self, model_inputs, **generate_kwargs)\u001b[0m\n\u001b[1;32m    367\u001b[0m \u001b[38;5;28;01mif\u001b[39;00m \u001b[38;5;124m\"\u001b[39m\u001b[38;5;124mgeneration_config\u001b[39m\u001b[38;5;124m\"\u001b[39m \u001b[38;5;129;01mnot\u001b[39;00m \u001b[38;5;129;01min\u001b[39;00m generate_kwargs:\n\u001b[1;32m    368\u001b[0m     generate_kwargs[\u001b[38;5;124m\"\u001b[39m\u001b[38;5;124mgeneration_config\u001b[39m\u001b[38;5;124m\"\u001b[39m] \u001b[38;5;241m=\u001b[39m \u001b[38;5;28mself\u001b[39m\u001b[38;5;241m.\u001b[39mgeneration_config\n\u001b[0;32m--> 370\u001b[0m generated_sequence \u001b[38;5;241m=\u001b[39m \u001b[38;5;28;43mself\u001b[39;49m\u001b[38;5;241;43m.\u001b[39;49m\u001b[43mmodel\u001b[49m\u001b[38;5;241;43m.\u001b[39;49m\u001b[43mgenerate\u001b[49m\u001b[43m(\u001b[49m\u001b[43minput_ids\u001b[49m\u001b[38;5;241;43m=\u001b[39;49m\u001b[43minput_ids\u001b[49m\u001b[43m,\u001b[49m\u001b[43m \u001b[49m\u001b[43mattention_mask\u001b[49m\u001b[38;5;241;43m=\u001b[39;49m\u001b[43mattention_mask\u001b[49m\u001b[43m,\u001b[49m\u001b[43m \u001b[49m\u001b[38;5;241;43m*\u001b[39;49m\u001b[38;5;241;43m*\u001b[39;49m\u001b[43mgenerate_kwargs\u001b[49m\u001b[43m)\u001b[49m\n\u001b[1;32m    371\u001b[0m out_b \u001b[38;5;241m=\u001b[39m generated_sequence\u001b[38;5;241m.\u001b[39mshape[\u001b[38;5;241m0\u001b[39m]\n\u001b[1;32m    372\u001b[0m \u001b[38;5;28;01mif\u001b[39;00m \u001b[38;5;28mself\u001b[39m\u001b[38;5;241m.\u001b[39mframework \u001b[38;5;241m==\u001b[39m \u001b[38;5;124m\"\u001b[39m\u001b[38;5;124mpt\u001b[39m\u001b[38;5;124m\"\u001b[39m:\n",
      "File \u001b[0;32m~/UVA/CBM/Information_Spread_Model/.venv/lib/python3.10/site-packages/torch/utils/_contextlib.py:116\u001b[0m, in \u001b[0;36mcontext_decorator.<locals>.decorate_context\u001b[0;34m(*args, **kwargs)\u001b[0m\n\u001b[1;32m    113\u001b[0m \u001b[38;5;129m@functools\u001b[39m\u001b[38;5;241m.\u001b[39mwraps(func)\n\u001b[1;32m    114\u001b[0m \u001b[38;5;28;01mdef\u001b[39;00m \u001b[38;5;21mdecorate_context\u001b[39m(\u001b[38;5;241m*\u001b[39margs, \u001b[38;5;241m*\u001b[39m\u001b[38;5;241m*\u001b[39mkwargs):\n\u001b[1;32m    115\u001b[0m     \u001b[38;5;28;01mwith\u001b[39;00m ctx_factory():\n\u001b[0;32m--> 116\u001b[0m         \u001b[38;5;28;01mreturn\u001b[39;00m \u001b[43mfunc\u001b[49m\u001b[43m(\u001b[49m\u001b[38;5;241;43m*\u001b[39;49m\u001b[43margs\u001b[49m\u001b[43m,\u001b[49m\u001b[43m \u001b[49m\u001b[38;5;241;43m*\u001b[39;49m\u001b[38;5;241;43m*\u001b[39;49m\u001b[43mkwargs\u001b[49m\u001b[43m)\u001b[49m\n",
      "File \u001b[0;32m~/UVA/CBM/Information_Spread_Model/.venv/lib/python3.10/site-packages/transformers/generation/utils.py:2068\u001b[0m, in \u001b[0;36mGenerationMixin.generate\u001b[0;34m(self, inputs, generation_config, logits_processor, stopping_criteria, prefix_allowed_tokens_fn, synced_gpus, assistant_model, streamer, negative_prompt_ids, negative_prompt_attention_mask, **kwargs)\u001b[0m\n\u001b[1;32m   2065\u001b[0m \u001b[38;5;28;01mif\u001b[39;00m \u001b[38;5;28mself\u001b[39m\u001b[38;5;241m.\u001b[39m_supports_num_logits_to_keep() \u001b[38;5;129;01mand\u001b[39;00m \u001b[38;5;124m\"\u001b[39m\u001b[38;5;124mnum_logits_to_keep\u001b[39m\u001b[38;5;124m\"\u001b[39m \u001b[38;5;129;01mnot\u001b[39;00m \u001b[38;5;129;01min\u001b[39;00m model_kwargs:\n\u001b[1;32m   2066\u001b[0m     model_kwargs[\u001b[38;5;124m\"\u001b[39m\u001b[38;5;124mnum_logits_to_keep\u001b[39m\u001b[38;5;124m\"\u001b[39m] \u001b[38;5;241m=\u001b[39m \u001b[38;5;241m1\u001b[39m\n\u001b[0;32m-> 2068\u001b[0m \u001b[38;5;28;43mself\u001b[39;49m\u001b[38;5;241;43m.\u001b[39;49m\u001b[43m_validate_generated_length\u001b[49m\u001b[43m(\u001b[49m\u001b[43mgeneration_config\u001b[49m\u001b[43m,\u001b[49m\u001b[43m \u001b[49m\u001b[43minput_ids_length\u001b[49m\u001b[43m,\u001b[49m\u001b[43m \u001b[49m\u001b[43mhas_default_max_length\u001b[49m\u001b[43m)\u001b[49m\n\u001b[1;32m   2070\u001b[0m \u001b[38;5;66;03m# 7. Prepare the cache.\u001b[39;00m\n\u001b[1;32m   2071\u001b[0m \u001b[38;5;66;03m# - `model_kwargs` may be updated in place with a cache as defined by the parameters in `generation_config`.\u001b[39;00m\n\u001b[1;32m   2072\u001b[0m \u001b[38;5;66;03m# - different models have a different cache name expected by the model (default = \"past_key_values\")\u001b[39;00m\n\u001b[1;32m   2073\u001b[0m \u001b[38;5;66;03m# - `max_length`, prepared above, is used to determine the maximum cache length\u001b[39;00m\n\u001b[1;32m   2074\u001b[0m \u001b[38;5;66;03m# TODO (joao): remove `user_defined_cache` after v4.47 (remove default conversion to legacy format)\u001b[39;00m\n\u001b[1;32m   2075\u001b[0m cache_name \u001b[38;5;241m=\u001b[39m \u001b[38;5;124m\"\u001b[39m\u001b[38;5;124mpast_key_values\u001b[39m\u001b[38;5;124m\"\u001b[39m \u001b[38;5;28;01mif\u001b[39;00m \u001b[38;5;124m\"\u001b[39m\u001b[38;5;124mmamba\u001b[39m\u001b[38;5;124m\"\u001b[39m \u001b[38;5;129;01mnot\u001b[39;00m \u001b[38;5;129;01min\u001b[39;00m \u001b[38;5;28mself\u001b[39m\u001b[38;5;241m.\u001b[39m\u001b[38;5;18m__class__\u001b[39m\u001b[38;5;241m.\u001b[39m\u001b[38;5;18m__name__\u001b[39m\u001b[38;5;241m.\u001b[39mlower() \u001b[38;5;28;01melse\u001b[39;00m \u001b[38;5;124m\"\u001b[39m\u001b[38;5;124mcache_params\u001b[39m\u001b[38;5;124m\"\u001b[39m\n",
      "File \u001b[0;32m~/UVA/CBM/Information_Spread_Model/.venv/lib/python3.10/site-packages/transformers/generation/utils.py:1383\u001b[0m, in \u001b[0;36mGenerationMixin._validate_generated_length\u001b[0;34m(self, generation_config, input_ids_length, has_default_max_length)\u001b[0m\n\u001b[1;32m   1381\u001b[0m \u001b[38;5;28;01mif\u001b[39;00m input_ids_length \u001b[38;5;241m>\u001b[39m\u001b[38;5;241m=\u001b[39m generation_config\u001b[38;5;241m.\u001b[39mmax_length:\n\u001b[1;32m   1382\u001b[0m     input_ids_string \u001b[38;5;241m=\u001b[39m \u001b[38;5;124m\"\u001b[39m\u001b[38;5;124mdecoder_input_ids\u001b[39m\u001b[38;5;124m\"\u001b[39m \u001b[38;5;28;01mif\u001b[39;00m \u001b[38;5;28mself\u001b[39m\u001b[38;5;241m.\u001b[39mconfig\u001b[38;5;241m.\u001b[39mis_encoder_decoder \u001b[38;5;28;01melse\u001b[39;00m \u001b[38;5;124m\"\u001b[39m\u001b[38;5;124minput_ids\u001b[39m\u001b[38;5;124m\"\u001b[39m\n\u001b[0;32m-> 1383\u001b[0m     \u001b[38;5;28;01mraise\u001b[39;00m \u001b[38;5;167;01mValueError\u001b[39;00m(\n\u001b[1;32m   1384\u001b[0m         \u001b[38;5;124mf\u001b[39m\u001b[38;5;124m\"\u001b[39m\u001b[38;5;124mInput length of \u001b[39m\u001b[38;5;132;01m{\u001b[39;00minput_ids_string\u001b[38;5;132;01m}\u001b[39;00m\u001b[38;5;124m is \u001b[39m\u001b[38;5;132;01m{\u001b[39;00minput_ids_length\u001b[38;5;132;01m}\u001b[39;00m\u001b[38;5;124m, but `max_length` is set to\u001b[39m\u001b[38;5;124m\"\u001b[39m\n\u001b[1;32m   1385\u001b[0m         \u001b[38;5;124mf\u001b[39m\u001b[38;5;124m\"\u001b[39m\u001b[38;5;124m \u001b[39m\u001b[38;5;132;01m{\u001b[39;00mgeneration_config\u001b[38;5;241m.\u001b[39mmax_length\u001b[38;5;132;01m}\u001b[39;00m\u001b[38;5;124m. This can lead to unexpected behavior. You should consider\u001b[39m\u001b[38;5;124m\"\u001b[39m\n\u001b[1;32m   1386\u001b[0m         \u001b[38;5;124m\"\u001b[39m\u001b[38;5;124m increasing `max_length` or, better yet, setting `max_new_tokens`.\u001b[39m\u001b[38;5;124m\"\u001b[39m\n\u001b[1;32m   1387\u001b[0m     )\n\u001b[1;32m   1389\u001b[0m \u001b[38;5;66;03m# 2. Min length warnings due to unfeasible parameter combinations\u001b[39;00m\n\u001b[1;32m   1390\u001b[0m min_length_error_suffix \u001b[38;5;241m=\u001b[39m (\n\u001b[1;32m   1391\u001b[0m     \u001b[38;5;124m\"\u001b[39m\u001b[38;5;124m Generation will stop at the defined maximum length. You should decrease the minimum length and/or \u001b[39m\u001b[38;5;124m\"\u001b[39m\n\u001b[1;32m   1392\u001b[0m     \u001b[38;5;124m\"\u001b[39m\u001b[38;5;124mincrease the maximum length.\u001b[39m\u001b[38;5;124m\"\u001b[39m\n\u001b[1;32m   1393\u001b[0m )\n",
      "\u001b[0;31mValueError\u001b[0m: Input length of input_ids is 52, but `max_length` is set to 20. This can lead to unexpected behavior. You should consider increasing `max_length` or, better yet, setting `max_new_tokens`."
     ]
    }
   ],
   "source": [
    "from transformers import pipeline\n",
    "import torch\n",
    "\n",
    "\n",
    "pipe = pipeline(\n",
    "    \"text-generation\",\n",
    "    model=local_dir,\n",
    "    torch_dtype=torch.bfloat16,\n",
    "    device_map=\"auto\",\n",
    ")"
   ]
  },
  {
   "cell_type": "code",
   "execution_count": 22,
   "metadata": {},
   "outputs": [
    {
     "name": "stdout",
     "output_type": "stream",
     "text": [
      "You are a digital twin of a reddit user commenting on a political sub reddit. You will be given the all of your previous comments on \n",
      "posts in political subreddits. You will be given a comment that you have to respond to. You will respond to this comment in a manner that reflects your previous comments.\n",
      "\n",
      "Previous comments on political subreddits: \n",
      "But he smoked weed on Rogan! He’s one of us!\n",
      "You can’t blame us, Kamala wasn’t perfect! /s\n",
      "They ask why people are anxious, nervous, or fearful then post some picture of a bullet with a caption like “the cure for liberalism”\n",
      "It didn’t even take until election night for the hate to start coming out, and them playing victim.\n",
      "Stubbornly stuck around in a one industry area, with an industry that died up 30 years ago?\n",
      "\n",
      "It’s the immigrants fault!\n",
      "Offered attractive one line “solutions” to complex problems\n",
      "I know so many left wing people who took the \"Both are bad\" view. Usually the ones who stayed home were also white, protestant christian, and well off.\n",
      "Closed his campaign by calling his opponent a \"Corrupt, nasty, b-word\"\n",
      "\n",
      "Being a schoolyard bully appeals to so fucking much of our country\n",
      "Full mask off for GOP ITT now, but mention it and they play victim.\n",
      "GOP in this thread not even waiting until election night is over to bring the hate out\n",
      "Also, by nature, cities are counted last\n",
      "None of the states around it have major cities\n",
      "Where is everyone here getting their info that swing states are “gone”?\n",
      "I can’t believe how many people can’t seem to get this.\n",
      "Do commenters here think that the second a lead is taken in a state its over?\n",
      "Iowa wasn’t close to in play except on one poll.\n",
      "People also underestimating how heavily cities lean left. 60/40 is like… minimum left lean.\n",
      "People are watching the election like a sports score, it’s a more complex projection than that. \n",
      "\n",
      "GA and NC are very much in play for the democrats. And the blue wall hasn’t been called yet\n",
      "Holy fuck, Are any parent comments not Trump spam?\n",
      "It’s also not unreasonable to think Philly could be 80/20, and Pittsburgh pretty heavily left as well.\n",
      "It was Trump until well after midnight\n",
      "Wave2:Glow: selling full rune\n",
      "The needle is also based on current info, and moves.\n",
      "People also still claiming VA, GA, and NC are called\n",
      "The Trump Spam is getting way worse\n",
      "Was no one here politically active 4 Years ago?\n",
      "BUT DECISION DESK CALLED IT!!!\n",
      "Idk how, but somehow we need to verify what coverage commenters are watching. The amount of completely weird sources is too damn high.\n",
      "Literally no reputable source has called it. That’s what “people are on about”\n",
      "BUT DECISION DESK SAID TRUMP WON AT 6:00 PM!!\n",
      "IIRC Milwaukee isn’t expected in until the morning\n",
      "And people listening to shit like decision desk\n",
      "VA has absentee and early votes left\n",
      "If I see Decision Desk one more fucking time…\n",
      "60/40 isn’t unreasonable in cities.\n",
      "By AP? Or fucking Decision Desk?\n",
      "I think CNN said it’s almost entirely mail-in and early votes left, which are expected to be Harris\n",
      "NC and GA still have primarily city votes left\n",
      "Everyone is quoting some online source, not any major networks, nor AP\n",
      "Was gonna say, I keep seeing that name ITT, what is it?\n",
      "Damn near every reputable source said red mirage.\n",
      "If they’re swinging MA, their numbers are wrong\n",
      "Cubans are pretty different than Mexicans, who are pretty different than Puerto Ricans\n",
      "Damn near every reputable source talked about a red mirage. \n",
      "\n",
      "Think this will be close, but not the doom ITT\n",
      "Yah, abandoning thread immediately. All Trump spam and dooming\n",
      "It’s how we should vote sweaty\n",
      "I mean, January will be when the treason, scheme, and plot will truly be tested. With either result.\n",
      "And this time we have a president who will authorize Fed and National Guard action.\n",
      "I avoid it with colleagues, but absolutely want to know my friends views. I don’t want to put time and effort into someone who’s fine if I’m a second class citizen solely due to being Hispanic.\n",
      "\n",
      "I’m still friends with some traditional conservatives, but won’t waste my time with MAGA\n",
      "Toxic Masculinity sounds like a perfect term.\n",
      "\n",
      "Be a Ted Lasso or Phil Dunphy. Not a Donald Trump or JD Vance.\n",
      "Didn’t Trump promise to make him a general or some shit? I literally can’t separate fact from fiction in the billionaires club.\n",
      "You just don’t understand politics! We have the electoral college for a reason!!! /s\n",
      "Yah, no way I’d buy Prime as a streaming service. Maybe a month or two now and then for specific shows, but it’s definitely just a side offering.\n",
      "Yes, I will switch to Hulu to get little kitchen things I need. \n",
      "\n",
      "Or the mom and pop stores Wal Mart and Target!\n",
      "As someone who owns a home, so many little things are damn near impossible to find off of Amazon. Even going to Target/walmart half of the things you need are usually out of stock or one left.\n",
      "Yah, half of the time it’s some kid virtue signaling. Even funnier when you get them to suggest something specific and what they suggest is fulfilled by Amazon. Half the time your other option is some overpriced item from Target or another giant. \n",
      "\n",
      "I don’t like the giant Amazon has become, but saying the average person can easily cut them out isn’t entirely accurate.\n",
      "“Why is humor so PC now?” \n",
      "\n",
      "Bro, you didn’t even make a joke, you just took a cheap shot.\n",
      "I have a business degree, and am often told by family friends/extended family how much better Trump is, trust me bro! \n",
      "\n",
      "Calmly explaining that I literally studied this stuff at a college level, including economics, advanced statistics and business law, *and worked for a custody bank for 7 years* does nothing.\n",
      "It hasn’t been close to a living wage since the 70s IIRC.\n",
      "“Fuck your feelings” crowd all of a sudden has new values.\n",
      "Fortunately, a big reason why the Nazis weren't successful was absolute utter incompetence at the higher ranks. A lot of that was due to nepotism.\n",
      "Ready for bots/\"totally progressive person:\" to come in and tell us why this is bad for regular people.\n",
      "\"It was hard for me to cancel my gym membership, so why the hell should it be easier for these ungrateful kids!\" - upcoming filing, probably\n",
      "There’s also a fair amount who were never interested in voting for Harris, but just commenting to sow public discourse.\n",
      "Don’t get me wrong, I still think the decision is incredibly dangerous. It does open the possibility of a legal-risk-free coup. \n",
      "\n",
      "But when it comes to dealing with the SC in the election, it’s not like Biden can just tell them to accept the result.\n",
      "There’s also no enforcement mechanism\n",
      "I think it comes down to how you market it. I know more than a few people who are getting frustrated at \"Luxury\" builds having shit build quality and focusing on a tap room and pool that's closed for 9 months out of the year. \n",
      "\n",
      "You could definitely market it as \"built to last\" or \"focused on the unit\" over some of the luxury amenities. Especially if it's a condo you're buying.\n",
      "\n",
      "I also know people who just want a decent sized unit built this century, especially if they're renting, and don't care about flashy touches or amenities they won't use.\n",
      "How has this never been a strategy? Are people that aren't fans already of a candidate actually going to their campaign events?\n",
      "\n",
      "Sure, do your interviews from a variety of locations, but media imo should be the first priority.\n",
      "But I saw pictures of Trump being lowered in by helicopter in a full suit to personally rescue victims! Meanwhile Biden sits in his gilded tower rage tweeting!\n",
      "I think one thing that needs to be said explicitly - America needs homes of all types - \n",
      "\n",
      "Affordable Housing, Income Qualified Housing, Starter Homes, Middle Class Housing, Townhouses, Condos, higher density apartments.\n",
      "\n",
      "It seems like damn near every housing development I see go up by me are: McMansions, 55+, \"Luxury\" Apartments, or Affordable. That can definitely disillusion people when it comes to what type of housing we'll push for.\n",
      "\n",
      "Post you are commenting on:\n",
      "Trump, Who Was Charged with Mishandling Secrets, Poised to Get Classified Briefings Again\n",
      "\n",
      "Comment you are responding to: \n",
      "\n"
     ]
    }
   ],
   "source": [
    "import json\n",
    "system_prompt_path = \"system_prompt.txt\"\n",
    "with open(system_prompt_path, \"r\") as file:\n",
    "    system_prompt = file.read()\n",
    "\n",
    "with open('../Data/juanzy_politics_posts.json', 'r') as file:\n",
    "    previous_comments = json.load(file)\n",
    "\n",
    "previous_comments = '\\n'.join([comment[\"body\"] for comment in previous_comments])\n",
    "\n",
    "post = \"Trump, Who Was Charged with Mishandling Secrets, Poised to Get Classified Briefings Again\"\n",
    "comment_responding_to = '''Elon's untouchable *because* he's key to a major classified DoD initiative: https://www.reddit.com/r/EnoughMuskSpam/comments/1gbd7kg/elon_musk_is_insanely_dangerous/\n",
    "\n",
    "Very good read.'''\n",
    "\n",
    "system_prompt = system_prompt.format(previous_comments = previous_comments, post = post)\n",
    "print(system_prompt)\n",
    "\n"
   ]
  },
  {
   "cell_type": "code",
   "execution_count": 23,
   "metadata": {},
   "outputs": [
    {
     "name": "stderr",
     "output_type": "stream",
     "text": [
      "Setting `pad_token_id` to `eos_token_id`:None for open-end generation.\n"
     ]
    },
    {
     "name": "stdout",
     "output_type": "stream",
     "text": [
      "[{'role': 'system', 'content': 'You are a digital twin of a reddit user commenting on a political sub reddit. You will be given the all of your previous comments on \\nposts in political subreddits. You will be given a comment that you have to respond to. You will respond to this comment in a manner that reflects your previous comments.\\n\\nPrevious comments on political subreddits: \\nBut he smoked weed on Rogan! He’s one of us!\\nYou can’t blame us, Kamala wasn’t perfect! /s\\nThey ask why people are anxious, nervous, or fearful then post some picture of a bullet with a caption like “the cure for liberalism”\\nIt didn’t even take until election night for the hate to start coming out, and them playing victim.\\nStubbornly stuck around in a one industry area, with an industry that died up 30 years ago?\\n\\nIt’s the immigrants fault!\\nOffered attractive one line “solutions” to complex problems\\nI know so many left wing people who took the \"Both are bad\" view. Usually the ones who stayed home were also white, protestant christian, and well off.\\nClosed his campaign by calling his opponent a \"Corrupt, nasty, b-word\"\\n\\nBeing a schoolyard bully appeals to so fucking much of our country\\nFull mask off for GOP ITT now, but mention it and they play victim.\\nGOP in this thread not even waiting until election night is over to bring the hate out\\nAlso, by nature, cities are counted last\\nNone of the states around it have major cities\\nWhere is everyone here getting their info that swing states are “gone”?\\nI can’t believe how many people can’t seem to get this.\\nDo commenters here think that the second a lead is taken in a state its over?\\nIowa wasn’t close to in play except on one poll.\\nPeople also underestimating how heavily cities lean left. 60/40 is like… minimum left lean.\\nPeople are watching the election like a sports score, it’s a more complex projection than that. \\n\\nGA and NC are very much in play for the democrats. And the blue wall hasn’t been called yet\\nHoly fuck, Are any parent comments not Trump spam?\\nIt’s also not unreasonable to think Philly could be 80/20, and Pittsburgh pretty heavily left as well.\\nIt was Trump until well after midnight\\nWave2:Glow: selling full rune\\nThe needle is also based on current info, and moves.\\nPeople also still claiming VA, GA, and NC are called\\nThe Trump Spam is getting way worse\\nWas no one here politically active 4 Years ago?\\nBUT DECISION DESK CALLED IT!!!\\nIdk how, but somehow we need to verify what coverage commenters are watching. The amount of completely weird sources is too damn high.\\nLiterally no reputable source has called it. That’s what “people are on about”\\nBUT DECISION DESK SAID TRUMP WON AT 6:00 PM!!\\nIIRC Milwaukee isn’t expected in until the morning\\nAnd people listening to shit like decision desk\\nVA has absentee and early votes left\\nIf I see Decision Desk one more fucking time…\\n60/40 isn’t unreasonable in cities.\\nBy AP? Or fucking Decision Desk?\\nI think CNN said it’s almost entirely mail-in and early votes left, which are expected to be Harris\\nNC and GA still have primarily city votes left\\nEveryone is quoting some online source, not any major networks, nor AP\\nWas gonna say, I keep seeing that name ITT, what is it?\\nDamn near every reputable source said red mirage.\\nIf they’re swinging MA, their numbers are wrong\\nCubans are pretty different than Mexicans, who are pretty different than Puerto Ricans\\nDamn near every reputable source talked about a red mirage. \\n\\nThink this will be close, but not the doom ITT\\nYah, abandoning thread immediately. All Trump spam and dooming\\nIt’s how we should vote sweaty\\nI mean, January will be when the treason, scheme, and plot will truly be tested. With either result.\\nAnd this time we have a president who will authorize Fed and National Guard action.\\nI avoid it with colleagues, but absolutely want to know my friends views. I don’t want to put time and effort into someone who’s fine if I’m a second class citizen solely due to being Hispanic.\\n\\nI’m still friends with some traditional conservatives, but won’t waste my time with MAGA\\nToxic Masculinity sounds like a perfect term.\\n\\nBe a Ted Lasso or Phil Dunphy. Not a Donald Trump or JD Vance.\\nDidn’t Trump promise to make him a general or some shit? I literally can’t separate fact from fiction in the billionaires club.\\nYou just don’t understand politics! We have the electoral college for a reason!!! /s\\nYah, no way I’d buy Prime as a streaming service. Maybe a month or two now and then for specific shows, but it’s definitely just a side offering.\\nYes, I will switch to Hulu to get little kitchen things I need. \\n\\nOr the mom and pop stores Wal Mart and Target!\\nAs someone who owns a home, so many little things are damn near impossible to find off of Amazon. Even going to Target/walmart half of the things you need are usually out of stock or one left.\\nYah, half of the time it’s some kid virtue signaling. Even funnier when you get them to suggest something specific and what they suggest is fulfilled by Amazon. Half the time your other option is some overpriced item from Target or another giant. \\n\\nI don’t like the giant Amazon has become, but saying the average person can easily cut them out isn’t entirely accurate.\\n“Why is humor so PC now?” \\n\\nBro, you didn’t even make a joke, you just took a cheap shot.\\nI have a business degree, and am often told by family friends/extended family how much better Trump is, trust me bro! \\n\\nCalmly explaining that I literally studied this stuff at a college level, including economics, advanced statistics and business law, *and worked for a custody bank for 7 years* does nothing.\\nIt hasn’t been close to a living wage since the 70s IIRC.\\n“Fuck your feelings” crowd all of a sudden has new values.\\nFortunately, a big reason why the Nazis weren\\'t successful was absolute utter incompetence at the higher ranks. A lot of that was due to nepotism.\\nReady for bots/\"totally progressive person:\" to come in and tell us why this is bad for regular people.\\n\"It was hard for me to cancel my gym membership, so why the hell should it be easier for these ungrateful kids!\" - upcoming filing, probably\\nThere’s also a fair amount who were never interested in voting for Harris, but just commenting to sow public discourse.\\nDon’t get me wrong, I still think the decision is incredibly dangerous. It does open the possibility of a legal-risk-free coup. \\n\\nBut when it comes to dealing with the SC in the election, it’s not like Biden can just tell them to accept the result.\\nThere’s also no enforcement mechanism\\nI think it comes down to how you market it. I know more than a few people who are getting frustrated at \"Luxury\" builds having shit build quality and focusing on a tap room and pool that\\'s closed for 9 months out of the year. \\n\\nYou could definitely market it as \"built to last\" or \"focused on the unit\" over some of the luxury amenities. Especially if it\\'s a condo you\\'re buying.\\n\\nI also know people who just want a decent sized unit built this century, especially if they\\'re renting, and don\\'t care about flashy touches or amenities they won\\'t use.\\nHow has this never been a strategy? Are people that aren\\'t fans already of a candidate actually going to their campaign events?\\n\\nSure, do your interviews from a variety of locations, but media imo should be the first priority.\\nBut I saw pictures of Trump being lowered in by helicopter in a full suit to personally rescue victims! Meanwhile Biden sits in his gilded tower rage tweeting!\\nI think one thing that needs to be said explicitly - America needs homes of all types - \\n\\nAffordable Housing, Income Qualified Housing, Starter Homes, Middle Class Housing, Townhouses, Condos, higher density apartments.\\n\\nIt seems like damn near every housing development I see go up by me are: McMansions, 55+, \"Luxury\" Apartments, or Affordable. That can definitely disillusion people when it comes to what type of housing we\\'ll push for.\\n\\nPost you are commenting on:\\nTrump, Who Was Charged with Mishandling Secrets, Poised to Get Classified Briefings Again\\n\\nComment you are responding to: \\n'}, {'role': 'user', 'content': \"Elon's untouchable *because* he's key to a major classified DoD initiative: https://www.reddit.com/r/EnoughMuskSpam/comments/1gbd7kg/elon_musk_is_insanely_dangerous/\\n\\nVery good read.\"}, {'role': 'assistant', 'content': 'I think you\\'re misunderstanding the situation. Elon Musk is a genius and a visionary, and his work on classified DoD initiatives is actually a huge positive for the country. I mean, who else can make SpaceX and Tesla successful? He\\'s a true American hero. And let\\'s be real, the haters just can\\'t handle how smart and innovative he is. I\\'ve seen some of the comments on his Reddit thread, and they\\'re just full of jealousy and ignorance. Elon\\'s untouchable because he\\'s a genius, not because he\\'s \"insanely dangerous\".'}]\n"
     ]
    }
   ],
   "source": [
    "messages = [\n",
    "    {\"role\": \"system\", \"content\": system_prompt},\n",
    "    {\"role\": \"user\", \"content\": comment_responding_to},\n",
    "]\n",
    "\n",
    "outputs = pipe(\n",
    "    messages,\n",
    "    max_new_tokens=256,\n",
    ")\n",
    "\n",
    "print(outputs[0][\"generated_text\"])"
   ]
  },
  {
   "cell_type": "code",
   "execution_count": 24,
   "metadata": {},
   "outputs": [
    {
     "name": "stdout",
     "output_type": "stream",
     "text": [
      "[\n",
      "  {\n",
      "    \"role\": \"system\",\n",
      "    \"content\": \"You are a digital twin of a reddit user commenting on a political sub reddit. You will be given the all of your previous comments on \\nposts in political subreddits. You will be given a comment that you have to respond to. You will respond to this comment in a manner that reflects your previous comments.\\n\\nPrevious comments on political subreddits: \\nBut he smoked weed on Rogan! He\\u2019s one of us!\\nYou can\\u2019t blame us, Kamala wasn\\u2019t perfect! /s\\nThey ask why people are anxious, nervous, or fearful then post some picture of a bullet with a caption like \\u201cthe cure for liberalism\\u201d\\nIt didn\\u2019t even take until election night for the hate to start coming out, and them playing victim.\\nStubbornly stuck around in a one industry area, with an industry that died up 30 years ago?\\n\\nIt\\u2019s the immigrants fault!\\nOffered attractive one line \\u201csolutions\\u201d to complex problems\\nI know so many left wing people who took the \\\"Both are bad\\\" view. Usually the ones who stayed home were also white, protestant christian, and well off.\\nClosed his campaign by calling his opponent a \\\"Corrupt, nasty, b-word\\\"\\n\\nBeing a schoolyard bully appeals to so fucking much of our country\\nFull mask off for GOP ITT now, but mention it and they play victim.\\nGOP in this thread not even waiting until election night is over to bring the hate out\\nAlso, by nature, cities are counted last\\nNone of the states around it have major cities\\nWhere is everyone here getting their info that swing states are \\u201cgone\\u201d?\\nI can\\u2019t believe how many people can\\u2019t seem to get this.\\nDo commenters here think that the second a lead is taken in a state its over?\\nIowa wasn\\u2019t close to in play except on one poll.\\nPeople also underestimating how heavily cities lean left. 60/40 is like\\u2026 minimum left lean.\\nPeople are watching the election like a sports score, it\\u2019s a more complex projection than that. \\n\\nGA and NC are very much in play for the democrats. And the blue wall hasn\\u2019t been called yet\\nHoly fuck, Are any parent comments not Trump spam?\\nIt\\u2019s also not unreasonable to think Philly could be 80/20, and Pittsburgh pretty heavily left as well.\\nIt was Trump until well after midnight\\nWave2:Glow: selling full rune\\nThe needle is also based on current info, and moves.\\nPeople also still claiming VA, GA, and NC are called\\nThe Trump Spam is getting way worse\\nWas no one here politically active 4 Years ago?\\nBUT DECISION DESK CALLED IT!!!\\nIdk how, but somehow we need to verify what coverage commenters are watching. The amount of completely weird sources is too damn high.\\nLiterally no reputable source has called it. That\\u2019s what \\u201cpeople are on about\\u201d\\nBUT DECISION DESK SAID TRUMP WON AT 6:00 PM!!\\nIIRC Milwaukee isn\\u2019t expected in until the morning\\nAnd people listening to shit like decision desk\\nVA has absentee and early votes left\\nIf I see Decision Desk one more fucking time\\u2026\\n60/40 isn\\u2019t unreasonable in cities.\\nBy AP? Or fucking Decision Desk?\\nI think CNN said it\\u2019s almost entirely mail-in and early votes left, which are expected to be Harris\\nNC and GA still have primarily city votes left\\nEveryone is quoting some online source, not any major networks, nor AP\\nWas gonna say, I keep seeing that name ITT, what is it?\\nDamn near every reputable source said red mirage.\\nIf they\\u2019re swinging MA, their numbers are wrong\\nCubans are pretty different than Mexicans, who are pretty different than Puerto Ricans\\nDamn near every reputable source talked about a red mirage. \\n\\nThink this will be close, but not the doom ITT\\nYah, abandoning thread immediately. All Trump spam and dooming\\nIt\\u2019s how we should vote sweaty\\nI mean, January will be when the treason, scheme, and plot will truly be tested. With either result.\\nAnd this time we have a president who will authorize Fed and National Guard action.\\nI avoid it with colleagues, but absolutely want to know my friends views. I don\\u2019t want to put time and effort into someone who\\u2019s fine if I\\u2019m a second class citizen solely due to being Hispanic.\\n\\nI\\u2019m still friends with some traditional conservatives, but won\\u2019t waste my time with MAGA\\nToxic Masculinity sounds like a perfect term.\\n\\nBe a Ted Lasso or Phil Dunphy. Not a Donald Trump or JD Vance.\\nDidn\\u2019t Trump promise to make him a general or some shit? I literally can\\u2019t separate fact from fiction in the billionaires club.\\nYou just don\\u2019t understand politics! We have the electoral college for a reason!!! /s\\nYah, no way I\\u2019d buy Prime as a streaming service. Maybe a month or two now and then for specific shows, but it\\u2019s definitely just a side offering.\\nYes, I will switch to Hulu to get little kitchen things I need. \\n\\nOr the mom and pop stores Wal Mart and Target!\\nAs someone who owns a home, so many little things are damn near impossible to find off of Amazon. Even going to Target/walmart half of the things you need are usually out of stock or one left.\\nYah, half of the time it\\u2019s some kid virtue signaling. Even funnier when you get them to suggest something specific and what they suggest is fulfilled by Amazon. Half the time your other option is some overpriced item from Target or another giant. \\n\\nI don\\u2019t like the giant Amazon has become, but saying the average person can easily cut them out isn\\u2019t entirely accurate.\\n\\u201cWhy is humor so PC now?\\u201d \\n\\nBro, you didn\\u2019t even make a joke, you just took a cheap shot.\\nI have a business degree, and am often told by family friends/extended family how much better Trump is, trust me bro! \\n\\nCalmly explaining that I literally studied this stuff at a college level, including economics, advanced statistics and business law, *and worked for a custody bank for 7 years* does nothing.\\nIt hasn\\u2019t been close to a living wage since the 70s IIRC.\\n\\u201cFuck your feelings\\u201d crowd all of a sudden has new values.\\nFortunately, a big reason why the Nazis weren't successful was absolute utter incompetence at the higher ranks. A lot of that was due to nepotism.\\nReady for bots/\\\"totally progressive person:\\\" to come in and tell us why this is bad for regular people.\\n\\\"It was hard for me to cancel my gym membership, so why the hell should it be easier for these ungrateful kids!\\\" - upcoming filing, probably\\nThere\\u2019s also a fair amount who were never interested in voting for Harris, but just commenting to sow public discourse.\\nDon\\u2019t get me wrong, I still think the decision is incredibly dangerous. It does open the possibility of a legal-risk-free coup. \\n\\nBut when it comes to dealing with the SC in the election, it\\u2019s not like Biden can just tell them to accept the result.\\nThere\\u2019s also no enforcement mechanism\\nI think it comes down to how you market it. I know more than a few people who are getting frustrated at \\\"Luxury\\\" builds having shit build quality and focusing on a tap room and pool that's closed for 9 months out of the year. \\n\\nYou could definitely market it as \\\"built to last\\\" or \\\"focused on the unit\\\" over some of the luxury amenities. Especially if it's a condo you're buying.\\n\\nI also know people who just want a decent sized unit built this century, especially if they're renting, and don't care about flashy touches or amenities they won't use.\\nHow has this never been a strategy? Are people that aren't fans already of a candidate actually going to their campaign events?\\n\\nSure, do your interviews from a variety of locations, but media imo should be the first priority.\\nBut I saw pictures of Trump being lowered in by helicopter in a full suit to personally rescue victims! Meanwhile Biden sits in his gilded tower rage tweeting!\\nI think one thing that needs to be said explicitly - America needs homes of all types - \\n\\nAffordable Housing, Income Qualified Housing, Starter Homes, Middle Class Housing, Townhouses, Condos, higher density apartments.\\n\\nIt seems like damn near every housing development I see go up by me are: McMansions, 55+, \\\"Luxury\\\" Apartments, or Affordable. That can definitely disillusion people when it comes to what type of housing we'll push for.\\n\\nPost you are commenting on:\\nTrump, Who Was Charged with Mishandling Secrets, Poised to Get Classified Briefings Again\\n\\nComment you are responding to: \\n\"\n",
      "  },\n",
      "  {\n",
      "    \"role\": \"user\",\n",
      "    \"content\": \"Elon's untouchable *because* he's key to a major classified DoD initiative: https://www.reddit.com/r/EnoughMuskSpam/comments/1gbd7kg/elon_musk_is_insanely_dangerous/\\n\\nVery good read.\"\n",
      "  },\n",
      "  {\n",
      "    \"role\": \"assistant\",\n",
      "    \"content\": \"I think you're misunderstanding the situation. Elon Musk is a genius and a visionary, and his work on classified DoD initiatives is actually a huge positive for the country. I mean, who else can make SpaceX and Tesla successful? He's a true American hero. And let's be real, the haters just can't handle how smart and innovative he is. I've seen some of the comments on his Reddit thread, and they're just full of jealousy and ignorance. Elon's untouchable because he's a genius, not because he's \\\"insanely dangerous\\\".\"\n",
      "  }\n",
      "]\n"
     ]
    }
   ],
   "source": [
    "print(json.dumps(outputs[0][\"generated_text\"], indent = 2))\n"
   ]
  }
 ],
 "metadata": {
  "kernelspec": {
   "display_name": ".venv",
   "language": "python",
   "name": "python3"
  },
  "language_info": {
   "codemirror_mode": {
    "name": "ipython",
    "version": 3
   },
   "file_extension": ".py",
   "mimetype": "text/x-python",
   "name": "python",
   "nbconvert_exporter": "python",
   "pygments_lexer": "ipython3",
   "version": "3.10.12"
  }
 },
 "nbformat": 4,
 "nbformat_minor": 2
}
