{
 "cells": [
  {
   "cell_type": "code",
   "execution_count": 1,
   "metadata": {},
   "outputs": [
    {
     "name": "stderr",
     "output_type": "stream",
     "text": [
      "/home/ujx4ab/ondemand/CBM_Final_Project/.venv/lib64/python3.11/site-packages/tqdm/auto.py:21: TqdmWarning: IProgress not found. Please update jupyter and ipywidgets. See https://ipywidgets.readthedocs.io/en/stable/user_install.html\n",
      "  from .autonotebook import tqdm as notebook_tqdm\n"
     ]
    }
   ],
   "source": [
    "import sys\n",
    "from pathlib import Path\n",
    "import json\n",
    "import numpy as np  \n",
    "import copy\n",
    "\n",
    "parent_dir = Path(\"/home/ujx4ab/ondemand/CBM_Final_Project/src/LLM\")\n",
    "sys.path.append(str(parent_dir))\n",
    "parent_dir = Path(\"/home/ujx4ab/ondemand/CBM_Final_Project/src/Util\")\n",
    "sys.path.append(str(parent_dir))\n",
    "\n",
    "from data_utils import load_reddit_posts, get_comments_for_post, get_user_comment_history, get_comments_in_post_thread, upload_json_to_file\n",
    "from Mistral.minstral_utils import generate_mistral_prompt_zero_shot\n",
    "from posttree import PostTree, UserCommentHistories\n"
   ]
  },
  {
   "cell_type": "code",
   "execution_count": 2,
   "metadata": {},
   "outputs": [
    {
     "name": "stderr",
     "output_type": "stream",
     "text": [
      "`low_cpu_mem_usage` was None, now default to True since model is quantized.\n",
      "Loading checkpoint shards: 100%|██████████| 3/3 [00:17<00:00,  5.72s/it]\n"
     ]
    }
   ],
   "source": [
    "from minstral_utils import load_quantized_model, initialize_tokenizer\n",
    "model_name = 'mistralai/Mistral-7B-Instruct-v0.3'\n",
    "model = load_quantized_model(model_name)\n",
    "tokenizer = initialize_tokenizer(model_name)\n",
    "\n",
    "def run_prompt_on_mistral(prompt):\n",
    "    stop_token_ids = [0]\n",
    "    encoded = tokenizer(prompt, return_tensors=\"pt\", add_special_tokens=False)\n",
    "    model_input = encoded\n",
    "    generated_ids = model.generate(**model_input, max_new_tokens=200, do_sample=True)\n",
    "    decoded = tokenizer.batch_decode(generated_ids)\n",
    "\n",
    "    return decoded[0].split(\"[/INST]\", 1)[1].strip()\n",
    "        "
   ]
  },
  {
   "cell_type": "code",
   "execution_count": 3,
   "metadata": {},
   "outputs": [
    {
     "name": "stdout",
     "output_type": "stream",
     "text": [
      "Mean length: 10.172043010752688\n",
      "Standard deviation: 25.24444947229867\n"
     ]
    }
   ],
   "source": [
    "post_tree = PostTree(\n",
    "    '/home/ujx4ab/ondemand/CBM_Final_Project/Data/arcticshift/processed/r_books_posts.csv',\n",
    "    '18vuw2v'\n",
    "    )\n",
    "post_tree.create_comment_tree('/home/ujx4ab/ondemand/CBM_Final_Project/Data/arcticshift/cleaned/r_books_comments_cleaned_and_pruned.csv')\n",
    "\n",
    "# tree to be updated with generated comments\n",
    "new_tree = copy.deepcopy(post_tree)\n",
    "\n",
    "user_histories = UserCommentHistories(\n",
    "    '/home/ujx4ab/ondemand/CBM_Final_Project/Data/arcticshift/cleaned/r_books_comments_cleaned.csv',\n",
    "    '18vuw2v'\n",
    "    )\n",
    "\n",
    "list_lengths = [len(lst) for lst in user_histories.user_histories.values()]\n",
    "mean_length = np.mean(list_lengths)\n",
    "std_length = np.std(list_lengths)\n",
    "print(f\"Mean length: {mean_length}\")\n",
    "print(f\"Standard deviation: {std_length}\")\n"
   ]
  },
  {
   "cell_type": "code",
   "execution_count": 5,
   "metadata": {},
   "outputs": [
    {
     "name": "stderr",
     "output_type": "stream",
     "text": [
      "Setting `pad_token_id` to `eos_token_id`:None for open-end generation.\n",
      "/home/ujx4ab/ondemand/CBM_Final_Project/.venv/lib64/python3.11/site-packages/transformers/generation/utils.py:2097: UserWarning: You are calling .generate() with the `input_ids` being on a device type different than your model's device. `input_ids` is on cpu, whereas the model is on cuda. You may experience unexpected behaviors or slower generation. Please make sure that you have put `input_ids` to the correct device by calling for example input_ids = input_ids.to('cuda') before running `.generate()`.\n",
      "  warnings.warn(\n",
      "Setting `pad_token_id` to `eos_token_id`:None for open-end generation.\n"
     ]
    },
    {
     "name": "stdout",
     "output_type": "stream",
     "text": [
      "The user seems to appreciate thoughtful, well-researched works, appreciating the details and nuances in the writing. In response to the original post, the user might enjoy expanding on the comparison between Barbara Kingsolver's work and another author:\n",
      "\n",
      "     \"While I do genuinely enjoy Barbara Kingsolver's writing, I must admit that I've found Kim Stanley Robinson's work particularly captivating due to its meticulous attention to detail, especially the environmental and societal aspects. In comparison, I find that Kingsolver's work, while engaging and transportive, often lacks the same level of intricate detail in world-building. I'd be curious to know your thoughts on Robinson's work in this regard.\"\n",
      "\n",
      "     This response brings a critical perspective, while still acknowledging the user's love for Barbara Kingsolver and inviting discussion.</s>\n"
     ]
    },
    {
     "name": "stderr",
     "output_type": "stream",
     "text": [
      "Setting `pad_token_id` to `eos_token_id`:None for open-end generation.\n"
     ]
    },
    {
     "name": "stdout",
     "output_type": "stream",
     "text": [
      "\"It's great to see your enthusiasm for Barbara Kingsolver's work! Her ability to transport readers is truly a gift. I haven't had the chance to read 'Lacuna' yet, but it's definitely up next on my list after returning from my holiday. I've heard it's equally as captivating as her other novels.\n",
      "\n",
      "I can understand why the book 'Demon Copperhead' resonated with your mother so strongly, given Kingsolver's unique storytelling style that allows us to empathize with a wide range of characters. The recommendation of 'Poisonwood Bible' seems spot on too.\n",
      "\n",
      "For those looking for additional recommendations, I'd suggest 'The Poisonwood Bible' by Barbara Kingsolver, as well as 'Love's Executioner and Other Tales of Psychotherapy' by Irving Yalom. I personally found 'Love's Executioner' to be a\n"
     ]
    },
    {
     "name": "stderr",
     "output_type": "stream",
     "text": [
      "Setting `pad_token_id` to `eos_token_id`:None for open-end generation.\n"
     ]
    },
    {
     "name": "stdout",
     "output_type": "stream",
     "text": [
      "Based on the user's appreciation for Barbara Kingsolver's work and their affinity for engaging, thought-provoking literature, they might respond:\n",
      "\n",
      "    \"I completely agree! Barbara Kingsolver's knack for storytelling and her ability to transport you to different times and places is truly unmatched. I have yet to read 'Lacuna' and am looking forward to it. If you have any recommendations for other authors or books that share similar qualities or themes, I'd love to hear them!\"</s>\n"
     ]
    },
    {
     "name": "stderr",
     "output_type": "stream",
     "text": [
      "Setting `pad_token_id` to `eos_token_id`:None for open-end generation.\n"
     ]
    },
    {
     "name": "stdout",
     "output_type": "stream",
     "text": [
      "\"I couldn't agree more! Having read Demon Copperhead and Poisonwood Bible myself, I can confidently say that Barbara Kingsolver is a powerhouse of literary excellence. Her ability to create immersive worlds and captivating characters is unparalleled. I'm eagerly awaiting my turn to dive into Lacuna. If you ever feel stuck or in search of another fantastic read by Kingsolver, I'd be happy to offer recommendations from her diverse bibliography.\"</s>\n"
     ]
    },
    {
     "name": "stderr",
     "output_type": "stream",
     "text": [
      "Setting `pad_token_id` to `eos_token_id`:None for open-end generation.\n"
     ]
    },
    {
     "name": "stdout",
     "output_type": "stream",
     "text": [
      "\"If you're looking for another brilliant author to explore, I'd highly recommend Margaret Atwood. Her works, such as 'The Handmaid's Tale' and 'Oryx and Crake', offer thought-provoking perspectives on societal structures and politics. You might find her books to be as engrossing and transportive as Kingsolver's!\"</s>\n"
     ]
    },
    {
     "name": "stderr",
     "output_type": "stream",
     "text": [
      "Setting `pad_token_id` to `eos_token_id`:None for open-end generation.\n"
     ]
    },
    {
     "name": "stdout",
     "output_type": "stream",
     "text": [
      "\"It's wonderful to see such a heartfelt appreciation for Barbara Kingsolver's works! I completely agree that her novels are engaging and transportive. I found 'The Poisonwood Bible' to be a particularly captivating read, delving deep into the nuances of family dynamics and cultural clashes.\n",
      "\n",
      "Regarding your thoughts on 'Demon Copperhead', it seems we share a similar sentiment, as it was a gripping and immersive novel for both of us. I myself have recently embarked on 'Lacuna', eager to continue my journey through Kingsolver's oeuvre.\n",
      "\n",
      "Your comment history shows a penchant for thought-provoking and engaging literature. You mention enjoying a good humor in your books, just as I found War and Peace to be surprisingly funny and relatable. Your preferences for books that are free-flowing and engaging resonate with mine as well.\n",
      "\n",
      "I'm glad\n"
     ]
    },
    {
     "name": "stderr",
     "output_type": "stream",
     "text": [
      "Setting `pad_token_id` to `eos_token_id`:None for open-end generation.\n"
     ]
    },
    {
     "name": "stdout",
     "output_type": "stream",
     "text": [
      "Given the praise and passion expressed in the post and the user's comment history, the user is likely an avid reader who values engaging, immersive literature. In response to the comment of interest, the user might express their eagerness to finally read the suggested book (\"I can't wait to dig into Lacuna! It's at the top of my list now.\") and even inquire about others' experiences with the book (\"Have any of you read Lacuna? I'd love to hear your thoughts on it.\"). They may also suggest other books by the author they have enjoyed or express excitement about future novels by Barbara Kingsolver.\n",
      "\n",
      "In this case, one example of a response could be:\n",
      "\n",
      "> I can't wait to dig into Lacuna! It's at the top of my list now. Have any of you read Lacuna? I'd love to hear your thoughts on it. I also recommend Animal Dreams and The\n"
     ]
    },
    {
     "name": "stderr",
     "output_type": "stream",
     "text": [
      "Setting `pad_token_id` to `eos_token_id`:None for open-end generation.\n"
     ]
    },
    {
     "name": "stdout",
     "output_type": "stream",
     "text": [
      "Given the user's enthusiasm for Barbara Kingsolver's work, I suspect they will express appreciation for the OP's post and share their own experiences reading her books. However, considering their history of struggling with the writing style of Kingsolver's books, I anticipate they may express their feelings about the writing style in a balanced way, acknowledging its merits while also discussing their personal preferences. Here's a prediction for their comment:\n",
      "\n",
      "    \"I'm so glad to see others appreciating Barbara Kingsolver! Her books are truly captivating, and transport us to different worlds and perspectives. I've read quite a few of her standalone books, and each one offers a unique experience. However, I must admit that I sometimes find her writing style a bit difficult to approach. Even though I struggled with 'Demon Copperhead,' I still respect the talent and creativity behind it. I can see how it appeals to many readers, so\n"
     ]
    },
    {
     "name": "stderr",
     "output_type": "stream",
     "text": [
      "Setting `pad_token_id` to `eos_token_id`:None for open-end generation.\n"
     ]
    },
    {
     "name": "stdout",
     "output_type": "stream",
     "text": [
      "[Prompt]: \"There is a particular user that we want to predict the response of on a Reddit post. Use the user’s post, the post information, the comments in the thread, and the user’s comment history to generate an English response to the comment of interest.\"\n",
      "    [The post’s title]: Barbara Kingsolver appreciation post\n",
      "    [The post’s content]: I have a very unoriginal thing to say - Barbara Kingsolver is a genius. I have been sleeping on Kingsolver and am now almost 20 years late to her work but I am so glad to have found it. Her books are so engrossing and I feel transported in time and space.\n",
      "\n",
      "I read Demon Copperhead because my mom could not stop talking about it and I devoured it in 2 days. Then someone on this subreddit recommend Poisonwood Bible as my next endeavor and I have finished that at a rate of kn\n"
     ]
    },
    {
     "name": "stderr",
     "output_type": "stream",
     "text": [
      "Setting `pad_token_id` to `eos_token_id`:None for open-end generation.\n"
     ]
    },
    {
     "name": "stdout",
     "output_type": "stream",
     "text": [
      "This comment captures the essence of a passionate reader who appreciates literature and isn't afraid to discover new works. Based on the user's comment history, they have a strong interest in authors like Barbara Kingsolver and Kurt Vonnegut. It appears that they also enjoy re-reading books they have already encountered, such as Vonnegut's Slaughterhouse-Five, Galapagos, and Welcome to the Monkey House.\n",
      "\n",
      "To comment on the Barbara Kingsolver appreciation post, I would draw on the user's love for storytelling and recommend another compelling book by Kingsolver that they may not have yet discovered. For instance:\n",
      "\n",
      "\"I'm so glad to see another fellow reader appreciating Barbara Kingsolver's work! If you haven't already, I highly recommend The Poisonwood Bible as it is one of her most popular and widely-acclaimed novels. The story follows an evangelical family in the Belgian\n"
     ]
    },
    {
     "name": "stderr",
     "output_type": "stream",
     "text": [
      "Setting `pad_token_id` to `eos_token_id`:None for open-end generation.\n"
     ]
    },
    {
     "name": "stdout",
     "output_type": "stream",
     "text": [
      "User:\n",
      "     I completely agree! I'm so glad you are enjoying your dive into Barbara Kingsolver's work. I've read most of her books, and my favorites are The Poisonwood Bible, Animal Dreams, and Prodigal Summer. If you're looking for more recommendations, I'd suggest The Bean Trees as well; it's a beautifully written and poignant novel that explores themes of personal development, motherhood, and loss. Happy reading!\n",
      "\n",
      "     AI Response:\n",
      "\n",
      "     Given the appreciation post for Barbara Kingsolver's work and the user's comment history that includes other authors, it's possible that they have a wide range of literary tastes. Therefore, I'd like to suggest The Bean Trees as another engaging Barbara Kingsolver novel for the user to explore. This novel is known for its exploration of personal development, motherhood, and loss, connecting to the themes in the books\n"
     ]
    },
    {
     "name": "stderr",
     "output_type": "stream",
     "text": [
      "Setting `pad_token_id` to `eos_token_id`:None for open-end generation.\n"
     ]
    },
    {
     "name": "stdout",
     "output_type": "stream",
     "text": [
      "In response to the post, the user might say something like: \"Reading the appreciation for Barbara Kingsolver, I can understand the excitement. However, I was left disappointed with The Song of Achilles. The characters weren't portrayed as I had imagined them, which made it difficult for me to connect with the story. But this doesn't discourage me from wanting to explore more of Kingsolver's work, as her ability to immerse readers is apparent in other works I've read.\"\n",
      "\n",
      "It's important to remember that the prediction is based on the limited data provided. The user's comment history shows they weren't impressed with one work by another author, so they might have a different opinion about Barbara Kingsolver's books. They might also be more critical, or express positive sentiments, based on their overall personality and post history on Reddit. This is just one potential response among many possibilities.</s>\n"
     ]
    },
    {
     "name": "stderr",
     "output_type": "stream",
     "text": [
      "Setting `pad_token_id` to `eos_token_id`:None for open-end generation.\n"
     ]
    },
    {
     "name": "stdout",
     "output_type": "stream",
     "text": [
      "\"You too, stranger! I agree wholeheartedly, Kingsolver is a master storyteller who takes her readers on a journey through time and space. Her vivid depictions and keen insights into human nature are what make her books so captivating.\n",
      "\n",
      "\t\tAfter finishing Demon Copperhead, I couldn't help but read The Poisonwood Bible next. The intertwining narratives and exploration of cultural differences in the novel were riveting. When I finished Lacuna, I felt like I was coming out of a long journey, but one that was full of new discoveries about the world and humanity.\n",
      "\n",
      "\t\tIt's interesting to see how our perspectives change over time regarding certain topics. For instance, I also remember with striking clarity where I was when I first learned about Columbine. It sent shockwaves through the nation, but it's important to examine the sociocultural factors involved. It's a touchy\n"
     ]
    },
    {
     "name": "stderr",
     "output_type": "stream",
     "text": [
      "Setting `pad_token_id` to `eos_token_id`:None for open-end generation.\n"
     ]
    },
    {
     "name": "stdout",
     "output_type": "stream",
     "text": [
      "It's wonderful to see a newfound love for Barbara Kingsolver's work! Her stories truly transport us to different worlds and eras, immersing us in vivid and intricate narratives.\n",
      "\n",
      "Demon Copperhead was a captivating read, and I can see why it became such a hit with readers. It's not often that a novel can be both entertaining and thought-provoking, but Kingsolver managed to do just that.\n",
      "\n",
      "If you haven't already, I would highly recommend checking out her other works. The Poisonwood Bible is an essential work that explores the complexities of politics, race, and religion. It's a challenging read, but it's worth it to dive deeper into Kingsolver's themes.\n",
      "\n",
      "As for your next Kingsolver read, I would suggest Lacuna. From what I've heard, it's a riveting story set against the backdrop of Cold War-\n"
     ]
    },
    {
     "name": "stderr",
     "output_type": "stream",
     "text": [
      "Setting `pad_token_id` to `eos_token_id`:None for open-end generation.\n"
     ]
    },
    {
     "name": "stdout",
     "output_type": "stream",
     "text": [
      "\"I wholeheartedly agree with you! Barbara Kingsolver's work is truly a gift to literature. Her novels are not just engrossing, but they also carry profound messages and observations about our world. The transportive nature of her writing is definitely one of the reasons why she stands out as a genius.\n",
      "\n",
      "I too found 'Demon Copperhead' captivating and 'The Poisonwood Bible' made for a rich and insightful read. I too am eager to delve into 'Lacuna'.\n",
      "\n",
      "I'm curious if your thoughts on her work have been influenced by this reading spree? Have you discovered any recurring themes or messages that resonate with you more deeply?\"</s>\n"
     ]
    },
    {
     "name": "stderr",
     "output_type": "stream",
     "text": [
      "Setting `pad_token_id` to `eos_token_id`:None for open-end generation.\n"
     ]
    },
    {
     "name": "stdout",
     "output_type": "stream",
     "text": [
      "\"Ah, another appreciative reader of the venerable Barbara Kingsolver! Her ability to paint vivid scenes and evoke emotion is unparalleled, a testament to her literary prowess. Demon Copperhead was indeed a captivating read, and I'm quite intrigued to delve into Poisonwood Bible next. I remember Lacuna fondly, but it seems I've been neglecting it for far too long.\n",
      "\n",
      "    As for your comment history, it's an intriguing mix of literary recommendations and book-related anecdotes. I'm particularly curious about that highly sought-after first edition you acquired, and the notable jump in value it took on eBay. The mention of Chris Wraight's The Hollow Mountain from the Vaults of Terra series also piqued my interest, as it's not a title I've come across thus far. I suspect I'll\n"
     ]
    },
    {
     "name": "stderr",
     "output_type": "stream",
     "text": [
      "Setting `pad_token_id` to `eos_token_id`:None for open-end generation.\n"
     ]
    },
    {
     "name": "stdout",
     "output_type": "stream",
     "text": [
      "\"I couldn't agree more about Barbara Kingsolver! I recently discovered her through a friend's recommendation and have been hooked ever since. I too have become a fan of the Kindle app for this very reason - convenience. It's always there at hand, whether I'm waiting for a child's sports practice, or even when I have a few spare moments during the day. It's been a game-changer for my reading habits.\"</s>\n"
     ]
    },
    {
     "name": "stderr",
     "output_type": "stream",
     "text": [
      "Setting `pad_token_id` to `eos_token_id`:None for open-end generation.\n"
     ]
    },
    {
     "name": "stdout",
     "output_type": "stream",
     "text": [
      "User: I've been meaning to read some Barbara Kingsolver, I must say she is quite the genius. I've heard a lot of great things about her works. Have any of you guys read \"The Bean Trees\" or \"Animal Dreams\"? I might give one of those a shot.\n",
      "\n",
      "Assistant:\n",
      "    It's great to see others appreciate the literary genius that is Barbara Kingsolver! I recently got into her work myself with \"Demon Copperhead\" and \"The Poisonwood Bible.\" I can't recommend both enough!\n",
      "\n",
      "As for your question, I haven't personally read \"The Bean Trees\" or \"Animal Dreams,\" but they are some of her most critically acclaimed works. I've heard fantastic things about both of them. \"The Bean Trees\" in particular tells the story of a young woman's journey through motherhood and life as she cross\n"
     ]
    },
    {
     "name": "stderr",
     "output_type": "stream",
     "text": [
      "Setting `pad_token_id` to `eos_token_id`:None for open-end generation.\n"
     ]
    },
    {
     "name": "stdout",
     "output_type": "stream",
     "text": [
      "\"It's always wonderful to see such an enthusiastic appreciation for Barbara Kingsolver! I'm glad to see that you've found a new author to love, and that her work has transported you in time and space. I'd be curious to hear which book resonated with you the most out of the ones you've read so far, and if there are any particular themes or elements that caught your attention. Personally, I've always been drawn to Kingsolver's ability to weave elements of the natural world into her stories, as well as her thoughtful and insightful commentary on societal issues. As for Poisonwood Bible, it's a truly masterful work that I think anyone who loves good literature should read at least once. And I wholeheartedly agree with your mom's recommendation of Demon Copperhead; it's a gripping and powerful story that I think will resonate with a wide range\n"
     ]
    },
    {
     "name": "stderr",
     "output_type": "stream",
     "text": [
      "Setting `pad_token_id` to `eos_token_id`:None for open-end generation.\n"
     ]
    },
    {
     "name": "stdout",
     "output_type": "stream",
     "text": [
      "\"This is a remarkable thread on such a treasured author. I've found myself in a similar predicament when I discovered Kingsolver's words. While many readers appreciate her genius, she might not align with everyone's preferences.\n",
      "\n",
      "     For instance, The Poppy War, despite the captivating covers, did not quite resonate with me. The same can be said about some works that may deviate from our personal belief systems or fail to captivate our interest right away. I find myself in awe of Kingsolver's novels precisely because they engage the reader and transport them to different worlds—a quality perhaps not found in all books of historical fiction.\n",
      "\n",
      "     The storytelling in Kingsolver's work is relatable, encompassing the array of human emotions—from triumph to self-sabotage. Despite the predictable tropes, the literature transports us and provides us with an escape, offering entertainment rather\n"
     ]
    },
    {
     "name": "stderr",
     "output_type": "stream",
     "text": [
      "Setting `pad_token_id` to `eos_token_id`:None for open-end generation.\n"
     ]
    },
    {
     "name": "stdout",
     "output_type": "stream",
     "text": [
      "\"Have you also read the novel 'Prodigal Summer'? I haven't read it yet, but the premise intrigues me. It seems like a departure from Barbara Kingsolver's other works, as it focuses on the lives and ecological challenges faced by three separate communities in rural Tennessee. I'm curious to know if you found this book as absorbing as her other novels and how it compares to her other works.\"</s>\n"
     ]
    },
    {
     "name": "stderr",
     "output_type": "stream",
     "text": [
      "Setting `pad_token_id` to `eos_token_id`:None for open-end generation.\n"
     ]
    },
    {
     "name": "stdout",
     "output_type": "stream",
     "text": [
      "\"I completely agree with your insights on Barbara Kingsolver's genius. Her ability to transport readers is truly remarkable. I am eager to read more of her work as well, and I would highly recommend 'Lacuna' as your next read. It's an intriguing title, and I'm sure it will live up to the caliber of her other works. Keep sharing your love for Kingsolver; every voice that contributes to her continued acclaim is a welcome one!\"</s>\n"
     ]
    },
    {
     "name": "stderr",
     "output_type": "stream",
     "text": [
      "Setting `pad_token_id` to `eos_token_id`:None for open-end generation.\n"
     ]
    },
    {
     "name": "stdout",
     "output_type": "stream",
     "text": [
      "[Assistant's response]: \"I wholeheartedly agree with your sentiments about Barbara Kingsolver's genius! Demon Copperhead was an incredible read, and I must say, so was Poisonwood Bible. If you haven't already, I highly recommend you read Lacuna as well. It's been a delight diving deeper into her work, and I can't wait to see what else she creates!\"\n",
      "\n",
      "    [Possible user response]: \"Oh no, I haven't read Lacuna yet! Maybe after my holiday, I'll finally get to it. I'm so glad I found your post, as it's reinforced my love for Barbara Kingsolver's writing. I'm excited to see what else she comes up with!\"</s>\n"
     ]
    }
   ],
   "source": [
    "for node in post_tree.bfs_generator():\n",
    "    # get the current comment and 10 of their history comments selected at random (if they have 10)\n",
    "    cur_user_comment_history = user_histories.get_random_user_history(f\"{node.user}\")\n",
    "\n",
    "    # get  previous responses on thread\n",
    "    previous_comments = node.get_previous_responses()\n",
    "\n",
    "    # get comment to be responded to and delete from response history\n",
    "    try: \n",
    "        if len(previous_comments) > 0:\n",
    "            comment_of_interest = previous_comments[-1]\n",
    "        else:\n",
    "            comment_of_interest = \"\"\n",
    "        previous_comments = \"\\n\".join(previous_comments)\n",
    "    except TypeError: \n",
    "        comment_of_interest = \"\"\n",
    "        previous_comments = \"\"\n",
    "\n",
    "    prompt = generate_mistral_prompt_zero_shot(\n",
    "        post_title=post_tree.title, \n",
    "        post_content=post_tree.content, \n",
    "        previous_comments_on_thread=previous_comments, \n",
    "        comment_of_interest=comment_of_interest,\n",
    "        user_comment_history=cur_user_comment_history, \n",
    "    )\n",
    "\n",
    "    response = run_prompt_on_mistral(prompt)\n",
    "    node.comment_text = response\n",
    "    \n",
    "    print(response)    \n",
    "\n",
    "post_tree.save_as_json(f\"/home/ujx4ab/ondemand/CBM_Final_Project/Data/posttrees/{post_tree.post_id}.json\")"
   ]
  }
 ],
 "metadata": {
  "kernelspec": {
   "display_name": ".venv",
   "language": "python",
   "name": "python3"
  },
  "language_info": {
   "codemirror_mode": {
    "name": "ipython",
    "version": 3
   },
   "file_extension": ".py",
   "mimetype": "text/x-python",
   "name": "python",
   "nbconvert_exporter": "python",
   "pygments_lexer": "ipython3",
   "version": "3.11.5"
  }
 },
 "nbformat": 4,
 "nbformat_minor": 2
}
