{
 "cells": [
  {
   "cell_type": "code",
   "execution_count": 1,
   "metadata": {},
   "outputs": [
    {
     "name": "stdout",
     "output_type": "stream",
     "text": [
      "/sfs/gpfs/tardis/home/ujx4ab/ondemand/CBM_Final_Project/src/Util\n"
     ]
    }
   ],
   "source": [
    "import os\n",
    "import sys\n",
    "import re\n",
    "\n",
    "src_path = os.path.abspath(os.path.join(os.getcwd(), \"../..\"))\n",
    "util_path = os.path.abspath(os.path.join(src_path, f'Util'))\n",
    "\n",
    "print(util_path)\n",
    "if src_path not in sys.path or util_path not in sys.path:\n",
    "    sys.path.append(src_path)\n",
    "    sys.path.append(util_path)\n",
    "DATA_BASEPATH = os.path.abspath(os.path.join(os.getcwd(), \"..\",\"../../Data\"))"
   ]
  },
  {
   "cell_type": "code",
   "execution_count": 2,
   "metadata": {},
   "outputs": [
    {
     "name": "stderr",
     "output_type": "stream",
     "text": [
      "/home/ujx4ab/ondemand/CBM_Final_Project/.venv/lib64/python3.11/site-packages/tqdm/auto.py:21: TqdmWarning: IProgress not found. Please update jupyter and ipywidgets. See https://ipywidgets.readthedocs.io/en/stable/user_install.html\n",
      "  from .autonotebook import tqdm as notebook_tqdm\n"
     ]
    }
   ],
   "source": [
    "from pathlib import Path\n",
    "import json\n",
    "import numpy as np  \n",
    "import copy\n",
    "\n",
    "from Util.data_utils import load_reddit_posts, get_comments_for_post, get_user_comment_history, get_comments_in_post_thread, upload_json_to_file\n",
    "from LLM.Mistral.minstral_utils import Mistral, MistralPrompt\n",
    "from Util.posttree import PostTree, UserCommentHistories"
   ]
  },
  {
   "cell_type": "code",
   "execution_count": 3,
   "metadata": {},
   "outputs": [],
   "source": [
    "# change these \n",
    "TEST_TYPES = ['zero_shot'] #['few_shot'] # few_shot, zero_shot, instruct\n",
    "POST_IDS = ['18w4y9z', '1atcjtj', '1au5njg']\n",
    "\n",
    "# don't change these\n",
    "POST_PATH = os.path.abspath(os.path.join(DATA_BASEPATH, 'arcticshift/processed/r_books_posts.csv'))\n",
    "COMMENT_PATH = os.path.abspath(os.path.join(DATA_BASEPATH, 'arcticshift/cleaned/r_books_comments_cleaned_and_pruned.csv'))\n",
    "USER_HIST_PATH = os.path.abspath(os.path.join(DATA_BASEPATH, f'arcticshift/cleaned/r_books_comments_cleaned.csv'))\n",
    "MODEL_NAME = 'mistralai/Mistral-7B-Instruct-v0.3'"
   ]
  },
  {
   "cell_type": "code",
   "execution_count": 4,
   "metadata": {},
   "outputs": [
    {
     "name": "stderr",
     "output_type": "stream",
     "text": [
      "`low_cpu_mem_usage` was None, now default to True since model is quantized.\n",
      "Loading checkpoint shards: 100%|██████████| 3/3 [00:17<00:00,  5.67s/it]\n"
     ]
    },
    {
     "name": "stdout",
     "output_type": "stream",
     "text": [
      "Mean length: 19.08298755186722\n",
      "Standard deviation: 201.5302077812057\n"
     ]
    },
    {
     "name": "stderr",
     "output_type": "stream",
     "text": [
      "Generating responses:   0%|          | 0/257 [00:00<?, ?node/s]Asking to truncate to max_length but no maximum length is provided and the model has no predefined maximum length. Default to no truncation.\n",
      "Setting `pad_token_id` to `eos_token_id`:None for open-end generation.\n",
      "/home/ujx4ab/ondemand/CBM_Final_Project/.venv/lib64/python3.11/site-packages/transformers/generation/utils.py:2097: UserWarning: You are calling .generate() with the `input_ids` being on a device type different than your model's device. `input_ids` is on cpu, whereas the model is on cuda. You may experience unexpected behaviors or slower generation. Please make sure that you have put `input_ids` to the correct device by calling for example input_ids = input_ids.to('cuda') before running `.generate()`.\n",
      "  warnings.warn(\n",
      "Generating responses:   0%|          | 1/257 [00:14<1:00:39, 14.22s/node]Setting `pad_token_id` to `eos_token_id`:None for open-end generation.\n",
      "Generating responses:   1%|          | 2/257 [00:30<1:06:04, 15.55s/node]Setting `pad_token_id` to `eos_token_id`:None for open-end generation.\n",
      "Generating responses:   1%|          | 3/257 [00:49<1:12:43, 17.18s/node]Setting `pad_token_id` to `eos_token_id`:None for open-end generation.\n",
      "Generating responses:   2%|▏         | 4/257 [00:59<59:18, 14.06s/node]  Setting `pad_token_id` to `eos_token_id`:None for open-end generation.\n"
     ]
    }
   ],
   "source": [
    "for POST_ID in POST_IDS:\n",
    "    for TEST_TYPE in TEST_TYPES:\n",
    "        POST_FOLDER_PATH = os.path.abspath(os.path.join(DATA_BASEPATH, f'eval_results/{TEST_TYPE}/{POST_ID}'))\n",
    "        mistral = Mistral(model_name=MODEL_NAME)\n",
    "        post_tree = PostTree(\n",
    "            POST_PATH,\n",
    "            POST_ID\n",
    "            )\n",
    "        post_tree.create_comment_tree(COMMENT_PATH)\n",
    "\n",
    "        os.makedirs(POST_FOLDER_PATH, exist_ok=True)\n",
    "        prompt_response_file = os.path.join(POST_FOLDER_PATH, \"prompt_response.txt\")\n",
    "\n",
    "        new_tree = copy.deepcopy(post_tree)\n",
    "\n",
    "        user_histories = UserCommentHistories(\n",
    "            USER_HIST_PATH,\n",
    "            POST_ID\n",
    "            )\n",
    "\n",
    "        list_lengths = [len(lst) for lst in user_histories.user_histories.values()]\n",
    "\n",
    "        # just for some ideas of stats\n",
    "        mean_length = np.mean(list_lengths)\n",
    "        std_length = np.std(list_lengths)\n",
    "        print(f\"Mean length: {mean_length}\")\n",
    "        print(f\"Standard deviation: {std_length}\")\n",
    "\n",
    "        mistral.process_post_tree(post_tree, user_histories, data_basepath=DATA_BASEPATH, test_type=TEST_TYPE)\n"
   ]
  }
 ],
 "metadata": {
  "kernelspec": {
   "display_name": ".venv",
   "language": "python",
   "name": "python3"
  },
  "language_info": {
   "codemirror_mode": {
    "name": "ipython",
    "version": 3
   },
   "file_extension": ".py",
   "mimetype": "text/x-python",
   "name": "python",
   "nbconvert_exporter": "python",
   "pygments_lexer": "ipython3",
   "version": "3.11.5"
  }
 },
 "nbformat": 4,
 "nbformat_minor": 2
}
