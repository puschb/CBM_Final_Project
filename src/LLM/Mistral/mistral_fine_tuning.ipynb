{
 "cells": [
  {
   "cell_type": "code",
   "execution_count": 1,
   "metadata": {},
   "outputs": [
    {
     "name": "stderr",
     "output_type": "stream",
     "text": [
      "/home/bhx5gh/Documents/CBM/CBM_Final_Project/.venv/lib64/python3.11/site-packages/tqdm/auto.py:21: TqdmWarning: IProgress not found. Please update jupyter and ipywidgets. See https://ipywidgets.readthedocs.io/en/stable/user_install.html\n",
      "  from .autonotebook import tqdm as notebook_tqdm\n"
     ]
    }
   ],
   "source": [
    "from transformers import AutoModelForCausalLM, AutoTokenizer, BitsAndBytesConfig, TrainingArguments\n",
    "from peft import AutoPeftModelForCausalLM, LoraConfig, get_peft_model, prepare_model_for_kbit_training\n",
    "import torch\n",
    "from trl import SFTTrainer\n",
    "import pandas as pd\n",
    "from sklearn.model_selection import train_test_split\n",
    "from datasets import Dataset, DatasetDict\n",
    "import csv"
   ]
  },
  {
   "cell_type": "code",
   "execution_count": 2,
   "metadata": {},
   "outputs": [
    {
     "name": "stdout",
     "output_type": "stream",
     "text": [
      "DatasetDict({\n",
      "    train: Dataset({\n",
      "        features: ['prompt', 'response'],\n",
      "        num_rows: 31902\n",
      "    })\n",
      "    test: Dataset({\n",
      "        features: ['prompt', 'response'],\n",
      "        num_rows: 3545\n",
      "    })\n",
      "})\n"
     ]
    }
   ],
   "source": [
    "# Load dataset\n",
    "data = pd.read_csv(\"/home/bhx5gh/Documents/CBM/CBM_Final_Project/Data/instruct_tune_dataset/prompt_dataset.csv\", quoting=csv.QUOTE_NONNUMERIC,\n",
    "            escapechar='\\\\',\n",
    "            encoding='utf-8')\n",
    "\n",
    "# Select the desired columns\n",
    "comments = data[[\"prompt\", \"response\"]].sample(frac=0.3, random_state=42)\n",
    "\n",
    "# Split into train, validation, and test sets\n",
    "train_comments, test_comments = train_test_split(comments, test_size=0.1, random_state=42)\n",
    "\n",
    "# Create Hugging Face Datasets\n",
    "train_dataset = Dataset.from_pandas(train_comments.reset_index(drop=True))\n",
    "test_dataset = Dataset.from_pandas(test_comments.reset_index(drop=True))\n",
    "\n",
    "# Combine into DatasetDict\n",
    "dataset = DatasetDict({\n",
    "    \"train\": train_dataset,\n",
    "    \"test\": test_dataset\n",
    "})\n",
    "\n",
    "print(dataset)"
   ]
  },
  {
   "cell_type": "code",
   "execution_count": 3,
   "metadata": {},
   "outputs": [
    {
     "name": "stderr",
     "output_type": "stream",
     "text": [
      "Loading checkpoint shards: 100%|██████████| 3/3 [00:14<00:00,  4.98s/it]\n"
     ]
    }
   ],
   "source": [
    "peft_config = LoraConfig(\n",
    "    lora_alpha=16,\n",
    "    lora_dropout=0.1,\n",
    "    r=64,\n",
    "    bias=\"none\",\n",
    "    task_type=\"CAUSAL_LM\"\n",
    ")\n",
    "\n",
    "model = AutoModelForCausalLM.from_pretrained(\n",
    "    \"/home/bhx5gh/Documents/CBM/CBM_Final_Project/src/LLM/Local Models/Mistral-7b-Instruct-v0_3\",\n",
    "    device_map='auto',\n",
    "    use_cache=False\n",
    ")\n",
    "model = prepare_model_for_kbit_training(model)\n",
    "model = get_peft_model(model, peft_config)\n",
    "\n",
    "tokenizer = AutoTokenizer.from_pretrained(\"/home/bhx5gh/Documents/CBM/CBM_Final_Project/src/LLM/Local Models/Mistral-7b-Instruct-v0_3\")\n",
    "\n",
    "tokenizer.pad_token = tokenizer.eos_token\n",
    "tokenizer.padding_side = \"right\""
   ]
  },
  {
   "cell_type": "code",
   "execution_count": 4,
   "metadata": {},
   "outputs": [
    {
     "name": "stderr",
     "output_type": "stream",
     "text": [
      "/home/bhx5gh/Documents/CBM/CBM_Final_Project/.venv/lib64/python3.11/site-packages/transformers/training_args.py:1568: FutureWarning: `evaluation_strategy` is deprecated and will be removed in version 4.46 of 🤗 Transformers. Use `eval_strategy` instead\n",
      "  warnings.warn(\n"
     ]
    }
   ],
   "source": [
    "args = TrainingArguments(\n",
    "  output_dir = \"/home/bhx5gh/Documents/CBM/CBM_Final_Project/checkpoints\",\n",
    "  num_train_epochs=2,\n",
    "  #max_steps = 100, \n",
    "  per_device_train_batch_size = 24,\n",
    "  per_device_eval_batch_size = 32,\n",
    "  warmup_steps = 100,\n",
    "  save_strategy=\"steps\",\n",
    "  evaluation_strategy=\"steps\",\n",
    "  eval_steps = 600,\n",
    "  save_steps = 600,\n",
    "  learning_rate=2e-5,\n",
    "  bf16=True,\n",
    "  lr_scheduler_type='constant',\n",
    "  eval_on_start = True\n",
    ")\n",
    "\n",
    "def create_prompt(sample):\n",
    "  prompt = sample['prompt']\n",
    "  response = sample['response']\n",
    "  return f'{prompt}\\n{response}'"
   ]
  },
  {
   "cell_type": "code",
   "execution_count": 5,
   "metadata": {},
   "outputs": [
    {
     "name": "stderr",
     "output_type": "stream",
     "text": [
      "/home/bhx5gh/Documents/CBM/CBM_Final_Project/.venv/lib64/python3.11/site-packages/huggingface_hub/utils/_deprecation.py:100: FutureWarning: Deprecated argument(s) used in '__init__': max_seq_length, packing. Will not be supported from version '0.13.0'.\n",
      "\n",
      "Deprecated positional argument(s) used in SFTTrainer, please use the SFTConfig to set these arguments instead.\n",
      "  warnings.warn(message, FutureWarning)\n",
      "/home/bhx5gh/Documents/CBM/CBM_Final_Project/.venv/lib64/python3.11/site-packages/transformers/training_args.py:1568: FutureWarning: `evaluation_strategy` is deprecated and will be removed in version 4.46 of 🤗 Transformers. Use `eval_strategy` instead\n",
      "  warnings.warn(\n",
      "/home/bhx5gh/Documents/CBM/CBM_Final_Project/.venv/lib64/python3.11/site-packages/trl/trainer/sft_trainer.py:212: UserWarning: You passed a `packing` argument to the SFTTrainer, the value you passed will override the one in the `SFTConfig`.\n",
      "  warnings.warn(\n",
      "/home/bhx5gh/Documents/CBM/CBM_Final_Project/.venv/lib64/python3.11/site-packages/trl/trainer/sft_trainer.py:300: UserWarning: You passed a `max_seq_length` argument to the SFTTrainer, the value you passed will override the one in the `SFTConfig`.\n",
      "  warnings.warn(\n",
      "Detected kernel version 4.18.0, which is below the recommended minimum of 5.5.0; this can cause the process to hang. It is recommended to upgrade the kernel to the minimum version or higher.\n"
     ]
    }
   ],
   "source": [
    "max_seq_length = 200\n",
    "\n",
    "trainer = SFTTrainer(\n",
    "  model=model,\n",
    "  peft_config=peft_config,\n",
    "  max_seq_length=max_seq_length,\n",
    "  tokenizer=tokenizer,\n",
    "  packing=True,\n",
    "  formatting_func=create_prompt,\n",
    "  args=args,\n",
    "  train_dataset=dataset[\"train\"],\n",
    "  eval_dataset=dataset[\"test\"]\n",
    ")"
   ]
  },
  {
   "cell_type": "code",
   "execution_count": 6,
   "metadata": {},
   "outputs": [
    {
     "data": {
      "text/html": [
       "\n",
       "    <div>\n",
       "      \n",
       "      <progress value='1109' max='13320' style='width:300px; height:20px; vertical-align: middle;'></progress>\n",
       "      [ 1109/13320 22:18 < 4:06:05, 0.83 it/s, Epoch 0.17/2]\n",
       "    </div>\n",
       "    <table border=\"1\" class=\"dataframe\">\n",
       "  <thead>\n",
       " <tr style=\"text-align: left;\">\n",
       "      <th>Step</th>\n",
       "      <th>Training Loss</th>\n",
       "      <th>Validation Loss</th>\n",
       "    </tr>\n",
       "  </thead>\n",
       "  <tbody>\n",
       "    <tr>\n",
       "      <td>0</td>\n",
       "      <td>No log</td>\n",
       "      <td>2.853468</td>\n",
       "    </tr>\n",
       "    <tr>\n",
       "      <td>600</td>\n",
       "      <td>2.258800</td>\n",
       "      <td>2.135086</td>\n",
       "    </tr>\n",
       "  </tbody>\n",
       "</table><p>"
      ],
      "text/plain": [
       "<IPython.core.display.HTML object>"
      ]
     },
     "metadata": {},
     "output_type": "display_data"
    }
   ],
   "source": [
    "trainer.train()"
   ]
  },
  {
   "cell_type": "markdown",
   "metadata": {},
   "source": []
  }
 ],
 "metadata": {
  "kernelspec": {
   "display_name": ".venv",
   "language": "python",
   "name": "python3"
  },
  "language_info": {
   "codemirror_mode": {
    "name": "ipython",
    "version": 3
   },
   "file_extension": ".py",
   "mimetype": "text/x-python",
   "name": "python",
   "nbconvert_exporter": "python",
   "pygments_lexer": "ipython3",
   "version": "3.11.5"
  }
 },
 "nbformat": 4,
 "nbformat_minor": 2
}
