{
 "cells": [
  {
   "cell_type": "code",
   "execution_count": 1,
   "metadata": {},
   "outputs": [
    {
     "name": "stderr",
     "output_type": "stream",
     "text": [
      "/home/ujx4ab/ondemand/CBM_Final_Project/.venv/lib64/python3.11/site-packages/tqdm/auto.py:21: TqdmWarning: IProgress not found. Please update jupyter and ipywidgets. See https://ipywidgets.readthedocs.io/en/stable/user_install.html\n",
      "  from .autonotebook import tqdm as notebook_tqdm\n"
     ]
    }
   ],
   "source": [
    "from minstral_utils import load_quantized_model, initialize_tokenizer"
   ]
  },
  {
   "cell_type": "code",
   "execution_count": 2,
   "metadata": {},
   "outputs": [],
   "source": [
    "model_name = 'mistralai/Mistral-7B-Instruct-v0.3'"
   ]
  },
  {
   "cell_type": "code",
   "execution_count": 3,
   "metadata": {},
   "outputs": [
    {
     "name": "stderr",
     "output_type": "stream",
     "text": [
      "`low_cpu_mem_usage` was None, now default to True since model is quantized.\n",
      "Loading checkpoint shards: 100%|██████████| 3/3 [00:14<00:00,  4.83s/it]\n",
      "Setting `pad_token_id` to `eos_token_id`:None for open-end generation.\n",
      "/home/ujx4ab/ondemand/CBM_Final_Project/.venv/lib64/python3.11/site-packages/transformers/generation/utils.py:2097: UserWarning: You are calling .generate() with the `input_ids` being on a device type different than your model's device. `input_ids` is on cpu, whereas the model is on cuda. You may experience unexpected behaviors or slower generation. Please make sure that you have put `input_ids` to the correct device by calling for example input_ids = input_ids.to('cuda') before running `.generate()`.\n",
      "  warnings.warn(\n"
     ]
    },
    {
     "name": "stdout",
     "output_type": "stream",
     "text": [
      "[INST] How AI will replace Engineers [/INST] Informasjonen om å vise samarbeid mellom Fjellbrand og ærvitenskapet er viktig for å skape klarhet og forståelsen for offentligheten. Selv om det finnes et samarbeid mellom de to områdene, så vil dette ikke nødvendigvis bety si at alle brandet i ærvitenskapet er fjellbranner. Noen av brandene kan være resultatet av annen årsak, som f.eks forurensning av vekstsubstanser eller naturskader. Det bør også være oppmerksomhet på at det er viktig å undersøke og forstå årsaken til en brand for å kunne foreta nødvendige målene for å undgå den\n"
     ]
    }
   ],
   "source": [
    "model = load_quantized_model(model_name)\n",
    "tokenizer = initialize_tokenizer(model_name)"
   ]
  },
  {
   "cell_type": "code",
   "execution_count": 5,
   "metadata": {},
   "outputs": [
    {
     "name": "stderr",
     "output_type": "stream",
     "text": [
      "Setting `pad_token_id` to `eos_token_id`:None for open-end generation.\n"
     ]
    },
    {
     "name": "stdout",
     "output_type": "stream",
     "text": [
      "[INST] How AI will replace Engineers. Respond in english [/INST] It appears that you are asking about the relationship between AI and engineers. AI, or Artificial Intelligence, is a field of computer science focused on creating intelligent machines that can think and act like humans. Engineers, on the other hand, are professionals who apply scientific, mathematical, and technical principles to design, build, and maintain systems.\n",
      "\n",
      "In today's world, engineers play a crucial role in the development and deployment of AI systems. They are responsible for designing hardware and software for AI systems, implementing machine learning algorithms, and ensuring that AI systems are safe, reliable, and efficient. Engineers from various disciplines, such as electrical, computer, mechanical, and software, may work together on AI projects.\n",
      "\n",
      "Furthermore, there is a growing interest in the intersection of AI and engineering, leading to new fields such as AI Engineering. AI Engineering is focused on building, deploying, and maintaining complex AI systems at scale. Engineers in this field work on optim\n"
     ]
    }
   ],
   "source": [
    "stop_token_ids = [0]\n",
    "\n",
    "text = \"[INST] How AI will replace Engineers. Respond in english [/INST]\"\n",
    "\n",
    "encoded = tokenizer(text, return_tensors=\"pt\", add_special_tokens=False)\n",
    "model_input = encoded\n",
    "generated_ids = model.generate(**model_input, max_new_tokens=200, do_sample=True)\n",
    "decoded = tokenizer.batch_decode(generated_ids)\n",
    "print(decoded[0])"
   ]
  }
 ],
 "metadata": {
  "kernelspec": {
   "display_name": ".venv",
   "language": "python",
   "name": "python3"
  },
  "language_info": {
   "codemirror_mode": {
    "name": "ipython",
    "version": 3
   },
   "file_extension": ".py",
   "mimetype": "text/x-python",
   "name": "python",
   "nbconvert_exporter": "python",
   "pygments_lexer": "ipython3",
   "version": "3.11.5"
  }
 },
 "nbformat": 4,
 "nbformat_minor": 2
}
